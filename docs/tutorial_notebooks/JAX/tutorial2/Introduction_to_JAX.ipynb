{
 "cells": [
  {
   "cell_type": "markdown",
   "metadata": {},
   "source": [
    "# Tutorial 2 (JAX): Introduction to JAX+Flax\n",
    "\n",
    "![Status](https://img.shields.io/static/v1.svg?label=Status&message=Finished&color=green)\n",
    "\n",
    "**Filled notebook:** \n",
    "[![View filled on Github](https://img.shields.io/static/v1.svg?logo=github&label=Repo&message=View%20On%20Github&color=lightgrey)](https://github.com/phlippe/uvadlc_notebooks/blob/master/docs/tutorial_notebooks/JAX/tutorial2/Introduction_to_JAX.ipynb)\n",
    "[![Open filled In Collab](https://colab.research.google.com/assets/colab-badge.svg)](https://colab.research.google.com/github/phlippe/uvadlc_notebooks/blob/master/docs/tutorial_notebooks/JAX/tutorial2/Introduction_to_JAX.ipynb)   \n",
    "**Author:** Phillip Lippe"
   ]
  },
  {
   "cell_type": "markdown",
   "metadata": {},
   "source": [
    "Welcome to our JAX tutorial for the Deep Learning course at the University of Amsterdam! The following notebook is meant to give a short introduction to JAX, including writing and training your own neural networks with [Flax](https://flax.readthedocs.io/en/latest/). But why should you learn JAX, if there are already so many other deep learning frameworks like [PyTorch](https://pytorch.org/) and [TensorFlow](https://www.tensorflow.org/)? The short answer: because it can be extremely fast. For instance, a small GoogleNet on CIFAR10, which we discuss in detail in [Tutorial 5](https://uvadlc-notebooks.readthedocs.io/en/latest/tutorial_notebooks/JAX/tutorial5/Inception_ResNet_DenseNet.html), can be trained in JAX **3.4x faster** than in PyTorch with a similar setup. JAX enables this speedup by compiling functions and numerical programs for accelerators (GPU/TPU) *just in time*, finding the optimal utilization of the hardware. Frameworks with dynamic computation graphs like PyTorch cannot achieve the same efficiency since they cannot anticipate the next operations before the user calls them. For example, in an Inception block of GoogleNet, we apply multiple convolutional layers in parallel on the same input. JAX can optimize the execution of this layer by compiling the whole forward pass for the available accelerator and parallelizing the convolutions where possible. In contrast, when calling the first convolutional layer in PyTorch, the framework does not know that multiple convolutions on the same feature map will follow. It sends each operation one by one to the GPU, and can only adapt the execution after seeing the next Python calls. Hence, JAX can make more efficient use of the GPU than, for instance, PyTorch. \n",
    "\n",
    "However, everything comes with a price. In order to efficiently compile programs just-in-time in JAX, the functions need to be written with certain constraints. Firstly, the functions are not allowed to have side-effects, meaning that it is not allowed to effect any variable outside of the functions namespace. For instance, in-place operations effect a variable even outside of the function. Moreover, stochastic operations such as `torch.rand(...)` change the global state of pseudo random number generators, which is not allowed in functional JAX (we will see later how JAX handles random number generation). Secondly, JAX compiles the functions based on anticipated shapes of all arrays/tensors in the function. This becomes problematic if the shapes or the program flow within the function depends on the values of the tensor. For instance, in the operation `y = x[x>3]`, the shape of `y` depends on how many values of `x` are greater than 3. We will discuss more of these constraints in this notebook. Still, in most common cases of training neural networks, it is straight-forward to write functions within these constraints.\n",
    "\n",
    "This tutorial is heavily inspired by many great JAX tutorials before, and a (non-exclusive) list of them are:\n",
    "\n",
    "* [JAX 101](https://jax.readthedocs.io/en/latest/jax-101/index.html) with many subtutorials on individual parts of JAX\n",
    "* [JAX - The Sharp Bits](https://jax.readthedocs.io/en/latest/notebooks/Common_Gotchas_in_JAX.html) discusses the constraints of JAX and how to overcome them\n",
    "* [Jax for the Impatient](https://flax.readthedocs.io/en/latest/notebooks/jax_for_the_impatient.html) for a quick intro to JAX with focus on deep learning\n",
    "* [Flax Basics](https://flax.readthedocs.io/en/latest/notebooks/flax_basics.html) as introduction to the Flax framework\n",
    "\n",
    "Throughout this tutorial, we will draw comparisons to PyTorch and also use its data loading library (see our [PyTorch tutorial](https://uvadlc-notebooks.readthedocs.io/en/latest/tutorial_notebooks/tutorial2/Introduction_to_PyTorch.html) for a refresher). JAX is not meant to 'redefine the wheel', so we can combine it framework-agnostic parts from PyTorch (e.g. data loading) and TensorFlow (e.g. logging in TensorBoard). Further, we use [Flax](https://flax.readthedocs.io/en/latest/) as a neural network library in JAX, and [Optax](https://optax.readthedocs.io/en/latest/index.html) to implement common deep learning optimizers. More on them later in the notebook. First, let's get started with some basic JAX operations."
   ]
  },
  {
   "cell_type": "code",
   "execution_count": 1,
   "metadata": {},
   "outputs": [
    {
     "name": "stderr",
     "output_type": "stream",
     "text": [
      "/tmp/ipykernel_570533/3937499902.py:11: DeprecationWarning: `set_matplotlib_formats` is deprecated since IPython 7.23, directly use `matplotlib_inline.backend_inline.set_matplotlib_formats()`\n",
      "  set_matplotlib_formats('svg', 'pdf') # For export\n"
     ]
    }
   ],
   "source": [
    "## Standard libraries\n",
    "import os\n",
    "import math\n",
    "import numpy as np \n",
    "import time\n",
    "\n",
    "## Imports for plotting\n",
    "import matplotlib.pyplot as plt\n",
    "%matplotlib inline \n",
    "from IPython.display import set_matplotlib_formats\n",
    "set_matplotlib_formats('svg', 'pdf') # For export\n",
    "from matplotlib.colors import to_rgba\n",
    "import seaborn as sns\n",
    "sns.set()\n",
    "\n",
    "## Progress bar\n",
    "from tqdm.notebook import tqdm"
   ]
  },
  {
   "cell_type": "markdown",
   "metadata": {},
   "source": [
    "## JAX as NumPy on accelerators\n",
    "\n",
    "Every deep learning framework has its own API for dealing with data arrays. For example, PyTorch uses `torch.Tensor` as data arrays on which it defines several operations like matrix multiplication, taking the mean of the elements, etc. In JAX, this basic API strongly resembles the one of [NumPy](https://numpy.org/), and even has the same name in JAX (`jax.numpy`). So, for now, let's think of JAX as NumPy that runs on accelerators. As a first step, let's import JAX and its NumPy API:"
   ]
  },
  {
   "cell_type": "code",
   "execution_count": 2,
   "metadata": {},
   "outputs": [
    {
     "name": "stdout",
     "output_type": "stream",
     "text": [
      "Using jax 0.3.13\n"
     ]
    }
   ],
   "source": [
    "import jax\n",
    "import jax.numpy as jnp\n",
    "print(\"Using jax\", jax.__version__)"
   ]
  },
  {
   "cell_type": "markdown",
   "metadata": {},
   "source": [
    "At the current time of writing (June 2022), the newest JAX version is `0.3.13` which supports most of the common NumPy functionalities. The NumPy API of JAX is usually imported as `jnp`, to keep a resemblance to NumPy's import as `np`. In the following subsections, we will discuss the main differences between the classical NumPy API and the one of JAX."
   ]
  },
  {
   "cell_type": "markdown",
   "metadata": {},
   "source": [
    "### Device Arrays\n",
    "\n",
    "As a first test, let's create some arbitrary arrays like we would do in NumPy. For instance, let's create an array of zeros with shape `[2,5]`:"
   ]
  },
  {
   "cell_type": "code",
   "execution_count": 3,
   "metadata": {},
   "outputs": [
    {
     "name": "stdout",
     "output_type": "stream",
     "text": [
      "[[0. 0. 0. 0. 0.]\n",
      " [0. 0. 0. 0. 0.]]\n"
     ]
    }
   ],
   "source": [
    "a = jnp.zeros((2, 5), dtype=jnp.float32)\n",
    "print(a)"
   ]
  },
  {
   "cell_type": "markdown",
   "metadata": {},
   "source": [
    "Similarly, we can create an array with values of 0 to 5 by using `arange`:"
   ]
  },
  {
   "cell_type": "code",
   "execution_count": 4,
   "metadata": {},
   "outputs": [
    {
     "name": "stdout",
     "output_type": "stream",
     "text": [
      "[0 1 2 3 4 5]\n"
     ]
    }
   ],
   "source": [
    "b = jnp.arange(6)\n",
    "print(b)"
   ]
  },
  {
   "cell_type": "markdown",
   "metadata": {},
   "source": [
    "You might now wonder whether the arrays `a` and `b` are simply NumPy arrays. To check that, let's print out the class of `b`:"
   ]
  },
  {
   "cell_type": "code",
   "execution_count": 5,
   "metadata": {},
   "outputs": [
    {
     "data": {
      "text/plain": [
       "jaxlib.xla_extension.DeviceArray"
      ]
     },
     "execution_count": 5,
     "metadata": {},
     "output_type": "execute_result"
    }
   ],
   "source": [
    "b.__class__"
   ]
  },
  {
   "cell_type": "markdown",
   "metadata": {},
   "source": [
    "Instead of a simple NumPy array, it shows the type `DeviceArray` which is what JAX uses to represent arrays. In contrast to NumPy, JAX can execute the same code on different backends – CPU, GPU and TPU. A `DeviceArray` therefore represents an array which is on one of the backends. Similar to PyTorch, we can check the device of an array by calling `.device()`:"
   ]
  },
  {
   "cell_type": "code",
   "execution_count": 6,
   "metadata": {},
   "outputs": [
    {
     "data": {
      "text/plain": [
       "GpuDevice(id=0, process_index=0)"
      ]
     },
     "execution_count": 6,
     "metadata": {},
     "output_type": "execute_result"
    }
   ],
   "source": [
    "b.device()"
   ]
  },
  {
   "cell_type": "markdown",
   "metadata": {},
   "source": [
    "As you can see, the array `b` is already natively on a GPU although we did not specify this explicitly as you would do in PyTorch (on Colab, remember to select a GPU in your runtime environment). In order to change the device of an array, we can use `jax.device_get`:"
   ]
  },
  {
   "cell_type": "code",
   "execution_count": 7,
   "metadata": {},
   "outputs": [
    {
     "name": "stdout",
     "output_type": "stream",
     "text": [
      "<class 'numpy.ndarray'>\n"
     ]
    }
   ],
   "source": [
    "b_cpu = jax.device_get(b)\n",
    "print(b_cpu.__class__)"
   ]
  },
  {
   "cell_type": "markdown",
   "metadata": {},
   "source": [
    "Unsurprisingly, a simple CPU-based array is nothing else than a NumPy array, which allows for a simple conversion between the two frameworks! To explicitly push a NumPy array to the accelerator, you can use `jax.device_put`:"
   ]
  },
  {
   "cell_type": "code",
   "execution_count": 8,
   "metadata": {},
   "outputs": [
    {
     "name": "stdout",
     "output_type": "stream",
     "text": [
      "Device put: <class 'jaxlib.xla_extension.DeviceArray'> on gpu:0\n"
     ]
    }
   ],
   "source": [
    "b_gpu = jax.device_put(b_cpu)\n",
    "print(f'Device put: {b_gpu.__class__} on {b_gpu.device()}')"
   ]
  },
  {
   "cell_type": "markdown",
   "metadata": {},
   "source": [
    "Nicely enough, JAX will handle the device clash itself when you try to perform operations on a NumPy array and a DeviceArray by modeling the output as DeviceArray again:"
   ]
  },
  {
   "cell_type": "code",
   "execution_count": 9,
   "metadata": {},
   "outputs": [
    {
     "data": {
      "text/plain": [
       "DeviceArray([ 0,  2,  4,  6,  8, 10], dtype=int32)"
      ]
     },
     "execution_count": 9,
     "metadata": {},
     "output_type": "execute_result"
    }
   ],
   "source": [
    "b_cpu + b_gpu"
   ]
  },
  {
   "cell_type": "markdown",
   "metadata": {},
   "source": [
    "Finally, we can also print all our available devices using `jax.devices()`:"
   ]
  },
  {
   "cell_type": "code",
   "execution_count": 10,
   "metadata": {},
   "outputs": [
    {
     "data": {
      "text/plain": [
       "[GpuDevice(id=0, process_index=0)]"
      ]
     },
     "execution_count": 10,
     "metadata": {},
     "output_type": "execute_result"
    }
   ],
   "source": [
    "jax.devices()"
   ]
  },
  {
   "cell_type": "markdown",
   "metadata": {},
   "source": [
    "A technical detail of running operations on DeviceArrays is that when a JAX function is called, the corresponding operation takes place asynchronously on the accelerator when possible. For instance, if we call `out = jnp.matmul(b, b)`, JAX first returns a placeholder array for `out` which may not be filled with the values as soon as the function calls finishes. This way, Python will not block the execution of follow-up statements, but instead only does it whenever we strictly need the value of `out`, for instance for printing or putting it on CPU. PyTorch uses a very similar principle to allow asynchronous computation. For more details, see [JAX - Asynchronous Dispatch](https://jax.readthedocs.io/en/latest/async_dispatch.html)."
   ]
  },
  {
   "cell_type": "markdown",
   "metadata": {},
   "source": [
    "### Immutable tensors\n",
    "\n",
    "When we would like to change a NumPy array in-place, like replacing the first element of `b` with `1` instead of `0`, we could simply write `b[0]=1`. However, in JAX, this is not possible. A `DeviceArray` object is *immutable*, which means that no in-place operations are possible. The reason for this goes back to our discussion in the introduction: JAX requires programs to be \"pure\" functions, i.e. no effects on variables outside of the function are allowed. Allowing in-place operations of variables would make the program analysis for JAX's just-in-time compilation difficult. Instead, we can use the expression `b.at[0].set(1)` which, analogous to the in-place operation, returns a new array which is identical to `b`, except that its value at the first position is 1. Let's try that out below:"
   ]
  },
  {
   "cell_type": "code",
   "execution_count": 11,
   "metadata": {},
   "outputs": [
    {
     "name": "stdout",
     "output_type": "stream",
     "text": [
      "Original array: [0 1 2 3 4 5]\n",
      "Changed array: [1 1 2 3 4 5]\n"
     ]
    }
   ],
   "source": [
    "b_new = b.at[0].set(1)\n",
    "print('Original array:', b)\n",
    "print('Changed array:', b_new)"
   ]
  },
  {
   "cell_type": "markdown",
   "metadata": {},
   "source": [
    "However, we said that JAX is very efficient. Isn't creating a new array in this case the opposite? While it is indeed less efficient, it can made much more efficient with JAX's just-in-time compilation. The compiler can recognize unnecessary array duplications, and replace them with in-place operations again. More on the just-in-time compilation later! "
   ]
  },
  {
   "cell_type": "markdown",
   "metadata": {},
   "source": [
    "### Pseudo Random Numbers in JAX\n",
    "\n",
    "In machine learning, we come across several situations where we need to generate pseudo random numbers: randomly shuffling a dataset, sampling a dropout mask for regularization, training a VAE by sampling from the approximate posterior, etc. In libraries like NumPy and PyTorch, the random number generator are controlled by a seed, which we set initially to obtain the same samples every time we run the code (this is why the numbers are not truly random, hence \"pseudo\"-random). However, if we call `np.random.normal()` 5 times consecutively, we will get 5 different numbers since every execution changes the state/seed of the pseudo random number generation (PRNG). In JAX, if we would try to generate a random number with this approach, a function creating pseudo-random number would have an effect outside of it. To prevent this, JAX takes a different approach by explicitly passing and iterating the PRNG state. First, let's create a PRNG for the seed 42:"
   ]
  },
  {
   "cell_type": "code",
   "execution_count": 12,
   "metadata": {},
   "outputs": [],
   "source": [
    "rng = jax.random.PRNGKey(42)"
   ]
  },
  {
   "cell_type": "markdown",
   "metadata": {},
   "source": [
    "Now, we can use this PRNG state to generate random numbers. Since with this state, the random number generation becomes deterministic, we sample the same number every time. This is not the case in NumPy if we set the seed once before both operations:"
   ]
  },
  {
   "cell_type": "code",
   "execution_count": 13,
   "metadata": {},
   "outputs": [
    {
     "name": "stdout",
     "output_type": "stream",
     "text": [
      "JAX - Random number 1: -0.18471177\n",
      "JAX - Random number 2: -0.18471177\n",
      "NumPy - Random number 1: 0.4967141530112327\n",
      "NumPy - Random number 2: -0.13826430117118466\n"
     ]
    }
   ],
   "source": [
    "# A non-desirable way of generating pseudo-random numbers...\n",
    "jax_random_number_1 = jax.random.normal(rng)\n",
    "jax_random_number_2 = jax.random.normal(rng)\n",
    "print('JAX - Random number 1:', jax_random_number_1)\n",
    "print('JAX - Random number 2:', jax_random_number_2)\n",
    "\n",
    "# Typical random numbers in NumPy\n",
    "np.random.seed(42)\n",
    "np_random_number_1 = np.random.normal()\n",
    "np_random_number_2 = np.random.normal()\n",
    "print('NumPy - Random number 1:', np_random_number_1)\n",
    "print('NumPy - Random number 2:', np_random_number_2)"
   ]
  },
  {
   "cell_type": "markdown",
   "metadata": {},
   "source": [
    "Usually, we want to have a behavior like NumPy where we get a different random number every time we sample. To achieve this, we can *split* the PRNG state to get usable subkeys every time we need a new pseudo-random number. We can do this with `jax.random.split(...)`:"
   ]
  },
  {
   "cell_type": "code",
   "execution_count": 14,
   "metadata": {},
   "outputs": [
    {
     "name": "stdout",
     "output_type": "stream",
     "text": [
      "JAX new - Random number 1: 0.107961535\n",
      "JAX new - Random number 2: -1.2226542\n"
     ]
    }
   ],
   "source": [
    "rng, subkey1, subkey2 = jax.random.split(rng, num=3)  # We create 3 new keys\n",
    "jax_random_number_1 = jax.random.normal(subkey1)\n",
    "jax_random_number_2 = jax.random.normal(subkey2)\n",
    "print('JAX new - Random number 1:', jax_random_number_1)\n",
    "print('JAX new - Random number 2:', jax_random_number_2)"
   ]
  },
  {
   "cell_type": "markdown",
   "metadata": {},
   "source": [
    "Every time you run this cell, you will obtain different random numbers for both operations since we create new PRNG states before sampling. In general, you want to split the PRNG key every time before generating a pseudo-number, to prevent accidentally obtaining the exact same numbers (for instance, sampling the exact same dropout mask every time you run the network makes dropout itself quite useless...). For a deeper dive into the ideas behind the random number generation in JAX, see JAX's tutorial on [Pseudo Random Numbers](https://jax.readthedocs.io/en/latest/jax-101/05-random-numbers.html)."
   ]
  },
  {
   "cell_type": "markdown",
   "metadata": {},
   "source": [
    "## Function transformations with Jaxpr\n",
    "\n",
    "Rosalia Schenider and Vladimir Mikulik summarize the key points of JAX in the [JAX 101 tutorial](https://jax.readthedocs.io/en/latest/jax-101/01-jax-basics.html) as follows: \n",
    "\n",
    "> The most important difference, and in some sense the root of all the rest, is that JAX is designed to be functional, as in functional programming. The reason behind this is that the kinds of program transformations that JAX enables are much more feasible in functional-style programs. [...] The important feature of functional programming to grok when working with JAX is very simple: don’t write code with side-effects.\n",
    "\n",
    "Essentially, we want to write our main code of JAX in functions that do not affect anything else besides its outputs. For instance, we do not want to change input arrays in-place, or access global variables. While this might seem limiting at first, you get used to this quite quickly and most JAX functions, that need to fulfill these constraints, can be written this way without problems. Note that not all possible functions in training a neural network need to fulfill the constraints. For instance, loading or saving of models, the logging, or the data generation can be done in naive functions. Only the network execution, which we want to do very efficiently on our accelerator (GPU or TPU), should strictly follow these constraints.\n",
    "\n",
    "What does make JAX functions so special, and how can we think about them? A good way of gaining understanding in how JAX handles function is to understand its intermediate representation: jaxpr. Conceptually, you can think of any operation that JAX does on a function, as first trace-specializing the Python function to be transformed into a small and well-behaved intermediate form. This means that we check which operations are performed on which array, and what shapes the arrays are. Based on this representation, JAX then interprets the function with transformation-specific interpretation rules, which includes automatic differentiation or compiling a function in XLA to efficiently use the accelerator.\n",
    "\n",
    "To illustrate this intermediate representation, let's consider the same simple function we used in the [PyTorch tutorial](https://uvadlc-notebooks.readthedocs.io/en/latest/tutorial_notebooks/tutorial2/Introduction_to_PyTorch.html) to discuss the concept of dynamic computation graphs:\n",
    "\n",
    "$$ y = \\frac{1}{|x|}\\sum_{i}\\left[\\left(x_i+2\\right)^2+3\\right]$$\n",
    "\n",
    "Using common NumPy operations in JAX, we can write is as follows:"
   ]
  },
  {
   "cell_type": "code",
   "execution_count": 15,
   "metadata": {},
   "outputs": [
    {
     "name": "stdout",
     "output_type": "stream",
     "text": [
      "Input [0. 1. 2.]\n",
      "Output 12.666667\n"
     ]
    }
   ],
   "source": [
    "def simple_graph(x):\n",
    "    x = x + 2\n",
    "    x = x ** 2\n",
    "    x = x + 3\n",
    "    y = x.mean()\n",
    "    return y\n",
    "\n",
    "inp = jnp.arange(3, dtype=jnp.float32)\n",
    "print('Input', inp)\n",
    "print('Output', simple_graph(inp))"
   ]
  },
  {
   "cell_type": "markdown",
   "metadata": {},
   "source": [
    "To view the jaxpr representation of this function, we can use `jax.make_jaxpr`. Since the tracing depends on the shape of the input, we need to pass an input to the function (here of shape `[3]`):"
   ]
  },
  {
   "cell_type": "code",
   "execution_count": 16,
   "metadata": {},
   "outputs": [
    {
     "data": {
      "text/plain": [
       "{ \u001b[34m\u001b[22m\u001b[1mlambda \u001b[39m\u001b[22m\u001b[22m; a\u001b[35m:f32[3]\u001b[39m. \u001b[34m\u001b[22m\u001b[1mlet\n",
       "    \u001b[39m\u001b[22m\u001b[22mb\u001b[35m:f32[3]\u001b[39m = add a 2.0\n",
       "    c\u001b[35m:f32[3]\u001b[39m = integer_pow[y=2] b\n",
       "    d\u001b[35m:f32[3]\u001b[39m = add c 3.0\n",
       "    e\u001b[35m:f32[]\u001b[39m = reduce_sum[axes=(0,)] d\n",
       "    f\u001b[35m:f32[]\u001b[39m = div e 3.0\n",
       "  \u001b[34m\u001b[22m\u001b[1min \u001b[39m\u001b[22m\u001b[22m(f,) }"
      ]
     },
     "execution_count": 16,
     "metadata": {},
     "output_type": "execute_result"
    }
   ],
   "source": [
    "jax.make_jaxpr(simple_graph)(inp)"
   ]
  },
  {
   "cell_type": "markdown",
   "metadata": {},
   "source": [
    "A jaxpr representation follows the structure:\n",
    "\n",
    "```python\n",
    "jaxpr ::= { lambda Var* ; Var+.\n",
    "            let Eqn*\n",
    "            in  [Expr+] }\n",
    "```\n",
    "where `Var*` are constants and `Var+` are input arguments. In the cell above, this is `a:f32[3]`, i.e. an array of shape 3 with type `jnp.float32` (`inp`). The list of equations, `Eqn*`, define the intermediate results of the function. You can see that each operation in `simple_graph` is translated to a corresponding equation, like `x = x + 2` is translated to `b:f32[3] = add a 2.0`. Furthermore, you see the specialization of the operations on the input shape, like `x.mean()` being replacing in `e` and `f` with summing and dividing by 3. Finally, `Expr+` in the jaxpr representation are the outputs of the functions. In the example, this is `f`, i.e. the final result of the function.\n",
    "Based on these atomic operations, JAX offers all kind of function transformations, of which we will discuss the most important ones later in this section. \n",
    "\n",
    "The jaxpr representation is not , but rather an intermediate compilation stage of JAX. What happens if we actually try to look at the jaxpr representation of a function with side-effect? Let's consider the following function, which, as an illustrative example, appends the input to a global list:"
   ]
  },
  {
   "cell_type": "code",
   "execution_count": 17,
   "metadata": {},
   "outputs": [
    {
     "data": {
      "text/plain": [
       "{ \u001b[34m\u001b[22m\u001b[1mlambda \u001b[39m\u001b[22m\u001b[22m; a\u001b[35m:f32[3]\u001b[39m. \u001b[34m\u001b[22m\u001b[1mlet\n",
       "    \u001b[39m\u001b[22m\u001b[22mb\u001b[35m:f32[3]\u001b[39m = integer_pow[y=2] a\n",
       "    c\u001b[35m:f32[]\u001b[39m = reduce_sum[axes=(0,)] b\n",
       "    d\u001b[35m:f32[]\u001b[39m = sqrt c\n",
       "  \u001b[34m\u001b[22m\u001b[1min \u001b[39m\u001b[22m\u001b[22m(d,) }"
      ]
     },
     "execution_count": 17,
     "metadata": {},
     "output_type": "execute_result"
    }
   ],
   "source": [
    "global_list = []\n",
    "\n",
    "# Invalid function with side-effect\n",
    "def norm(x):\n",
    "    global_list.append(x)\n",
    "    x = x ** 2\n",
    "    n = x.sum()\n",
    "    n = jnp.sqrt(n)\n",
    "    return n\n",
    "\n",
    "jax.make_jaxpr(norm)(inp)"
   ]
  },
  {
   "cell_type": "markdown",
   "metadata": {},
   "source": [
    "As you can see, the jaxpr representation of the function does not contain any operation for `global_list.append(x)`. This is because jaxpr only understand side-effect-free code, and cannot represent such effects. Thus, we need to stick with pure functions without any side effects, to prevent any unwanted errors in our functions. If you are interested in learning more about the jaxpr representation, check out the JAX [documentation](https://jax.readthedocs.io/en/latest/jaxpr.html) on it. But for this tutorial, we just need the basics as discussed above."
   ]
  },
  {
   "cell_type": "markdown",
   "metadata": {},
   "source": [
    "### Automatic differentiation\n",
    "\n",
    "The intermediate jaxpr representation defines a computation graph, on which we can perform an essential operation of deep learning framework: automatic differentiation. In frameworks like PyTorch with a dynamic computation graph, we would compute the gradients based on the loss tensor itself, e.g. by calling `loss.backward()`. However, JAX directly works with functions. Instead of backpropagating gradients through tensors, JAX takes as input a function, and outputs another function which directly calculates the gradients for it. While this might seem quite different to what you are used to from other frameworks, it is quite intuitive: your gradient of parameters is really a function of parameters and data.\n",
    "\n",
    "The transformation that allows us to do this is `jax.grad`, which takes as input the function, and returns another function representing the gradient calculation of the (first) input with respect to the output:"
   ]
  },
  {
   "cell_type": "code",
   "execution_count": 18,
   "metadata": {},
   "outputs": [
    {
     "name": "stdout",
     "output_type": "stream",
     "text": [
      "Gradient [1.3333334 2.        2.6666667]\n"
     ]
    }
   ],
   "source": [
    "grad_function = jax.grad(simple_graph)\n",
    "gradients = grad_function(inp)\n",
    "print('Gradient', gradients)"
   ]
  },
  {
   "cell_type": "markdown",
   "metadata": {},
   "source": [
    "The gradient we get here is exactly the one we would obtain when doing the calculation by hand. Moreover, we can also print the jaxpr representation of the gradient function:"
   ]
  },
  {
   "cell_type": "code",
   "execution_count": 19,
   "metadata": {},
   "outputs": [
    {
     "data": {
      "text/plain": [
       "{ \u001b[34m\u001b[22m\u001b[1mlambda \u001b[39m\u001b[22m\u001b[22m; a\u001b[35m:f32[3]\u001b[39m. \u001b[34m\u001b[22m\u001b[1mlet\n",
       "    \u001b[39m\u001b[22m\u001b[22mb\u001b[35m:f32[3]\u001b[39m = add a 2.0\n",
       "    c\u001b[35m:f32[3]\u001b[39m = integer_pow[y=2] b\n",
       "    d\u001b[35m:f32[3]\u001b[39m = integer_pow[y=1] b\n",
       "    e\u001b[35m:f32[3]\u001b[39m = mul 2.0 d\n",
       "    f\u001b[35m:f32[3]\u001b[39m = add c 3.0\n",
       "    g\u001b[35m:f32[]\u001b[39m = reduce_sum[axes=(0,)] f\n",
       "    _\u001b[35m:f32[]\u001b[39m = div g 3.0\n",
       "    h\u001b[35m:f32[]\u001b[39m = div 1.0 3.0\n",
       "    i\u001b[35m:f32[3]\u001b[39m = broadcast_in_dim[broadcast_dimensions=() shape=(3,)] h\n",
       "    j\u001b[35m:f32[3]\u001b[39m = mul i e\n",
       "  \u001b[34m\u001b[22m\u001b[1min \u001b[39m\u001b[22m\u001b[22m(j,) }"
      ]
     },
     "execution_count": 19,
     "metadata": {},
     "output_type": "execute_result"
    }
   ],
   "source": [
    "jax.make_jaxpr(grad_function)(inp)"
   ]
  },
  {
   "cell_type": "markdown",
   "metadata": {},
   "source": [
    "This shows an unique property of JAX: we can print out the exact computation graph for determining the gradients. Compared to the original function, you can see new equations like `d:f32[3] = integer_pow[y=1] b` and `e:f32[3] = mul 2.0 d`, which model the intermediate gradient of $\\partial b_i^2/\\partial b_i = 2b_i$. Furthermore, the return value `j` is the multiplication of `e` with $1/3$, which maps to the gradient being:\n",
    "\n",
    "$$ \\frac{\\partial y}{\\partial x_i} = \\frac{2}{3}(x_i + 2)$$\n",
    "\n",
    "Hence, we can not only use JAX to estimate the gradients at a certain input value, but actually return the analytical gradient function which is quite a nice feature and highlights the properties of JAX!"
   ]
  },
  {
   "cell_type": "markdown",
   "metadata": {},
   "source": [
    "Often, we do not only want the gradients, but also the actual output of the function, for instance for logging the loss. This can be efficiently done using `jax.value_and_grad`:"
   ]
  },
  {
   "cell_type": "code",
   "execution_count": 20,
   "metadata": {},
   "outputs": [
    {
     "data": {
      "text/plain": [
       "(DeviceArray(12.666667, dtype=float32),\n",
       " DeviceArray([1.3333334, 2.       , 2.6666667], dtype=float32))"
      ]
     },
     "execution_count": 20,
     "metadata": {},
     "output_type": "execute_result"
    }
   ],
   "source": [
    "val_grad_function = jax.value_and_grad(simple_graph)\n",
    "val_grad_function(inp)"
   ]
  },
  {
   "cell_type": "markdown",
   "metadata": {},
   "source": [
    "Further, we can specialize the gradient function to consider multiple input arguments, and add extra outputs that we may not want to differentiate (for instance the accuracy in classification). We will visit the most important ones in the network training later in this section, and refer to other great resources for more details ([JAX Quickstart](https://jax.readthedocs.io/en/latest/notebooks/quickstart.html#taking-derivatives-with-grad), [Autodiff cookbook](https://jax.readthedocs.io/en/latest/notebooks/autodiff_cookbook.html), [Advanced autodiff](https://jax.readthedocs.io/en/latest/jax-101/04-advanced-autodiff.html)).\n",
    "\n",
    "To train neural networks, we need to determine the gradient for every parameter in the network with respect to the loss. Listing all parameters as input arguments quickly gets annoying and infeasible. JAX offers an elegant data structure to summarize all parameters: a pytree ([documentation](https://jax.readthedocs.io/en/latest/pytrees.html)). A pytree is a container-like object which structures its elements as a tree. For instance, a linear neural network might have its parameters organized similar to:\n",
    "\n",
    "```python\n",
    "params = {\n",
    "    'linear1': {\n",
    "        'weights': ...,\n",
    "        'bias': ...\n",
    "    },\n",
    "    ...\n",
    "}\n",
    "```\n",
    "JAX offers functions to process pytrees efficiently, such as obtaining all leafs (i.e. all parameters in a network) or applying a function on each element. We will come back to these structures when training a full network."
   ]
  },
  {
   "cell_type": "markdown",
   "metadata": {},
   "source": [
    "### Speeding up computation with Just-In-Time compilation\n",
    "\n",
    "Interestingly, from the previous code cell, you can see in the jaxpr representation of the gradient function that calculating the array `f` and scalar `g` are unnecessary. Intuitively, the gradient of taking the mean is independent of the actual output of the mean, hence we could drop `f` and `g` without any drawback. Finding such cases to improve efficiency and optimizing the code to take full advantage of the available accelerator hardware is one of the big selling points of JAX. It achieves that by *compiling functions just-in-time*, using their jaxpr representation, and finally executing the code in XLA. \n",
    "\n",
    "To compile a function, JAX provides the `jax.jit` transformation. We can either apply the transformation directly on a function (as we will do in the next cell), or use the decorator `@jax.jit` before a function."
   ]
  },
  {
   "cell_type": "code",
   "execution_count": 21,
   "metadata": {},
   "outputs": [],
   "source": [
    "jitted_function = jax.jit(simple_graph)"
   ]
  },
  {
   "cell_type": "markdown",
   "metadata": {},
   "source": [
    "The `jitted_function` takes the same input arguments as the original function `simple_graph`. Since the jaxpr representation of a function depends on the input shape, the compilation is started once we put the first input in. However, note that this also means that for every different shape we want to run the function, a new XLA compilation is needed. This is why it is recommended to use padding in cases where your input shape strongly varies (we revisit this topic in the final section of this tutorial). For now, let's create an array with 1000 random values, on which we apply the jitted function:"
   ]
  },
  {
   "cell_type": "code",
   "execution_count": 22,
   "metadata": {},
   "outputs": [],
   "source": [
    "# Create a new random subkey for generating new random values\n",
    "rng, normal_rng = jax.random.split(rng)\n",
    "large_input = jax.random.normal(normal_rng, (1000,))\n",
    "# Run the jitted function once to start compilation\n",
    "_ = jitted_function(large_input)"
   ]
  },
  {
   "cell_type": "markdown",
   "metadata": {},
   "source": [
    "The output is not any different from what you would get from the non-jitted function. However, how is it about the runtime? Let's time both the original and the jitted function. Due to the asynchronous execution on the GPU, we add `.block_until_ready()` on the output, which blocks the Python execution until the accelerator (here GPU) finished computing the result and hence get an accurate time estimate."
   ]
  },
  {
   "cell_type": "code",
   "execution_count": 23,
   "metadata": {},
   "outputs": [
    {
     "name": "stdout",
     "output_type": "stream",
     "text": [
      "203 µs ± 2.47 µs per loop (mean ± std. dev. of 7 runs, 10,000 loops each)\n"
     ]
    }
   ],
   "source": [
    "%%timeit\n",
    "simple_graph(large_input).block_until_ready()"
   ]
  },
  {
   "cell_type": "code",
   "execution_count": 24,
   "metadata": {},
   "outputs": [
    {
     "name": "stdout",
     "output_type": "stream",
     "text": [
      "20.6 µs ± 150 ns per loop (mean ± std. dev. of 7 runs, 10,000 loops each)\n"
     ]
    }
   ],
   "source": [
    "%%timeit\n",
    "jitted_function(large_input).block_until_ready()"
   ]
  },
  {
   "cell_type": "markdown",
   "metadata": {},
   "source": [
    "We see that the compiled function is almost 10-15x faster! This is quite an improvement in performance, and shows the potential of compiling functions in XLA. Furthermore, we can also apply multiple transformations on the same function in JAX, such as applying `jax.jit` on a gradient function:"
   ]
  },
  {
   "cell_type": "code",
   "execution_count": 25,
   "metadata": {},
   "outputs": [],
   "source": [
    "jitted_grad_function = jax.jit(grad_function)\n",
    "_ = jitted_grad_function(large_input)  # Apply once to compile"
   ]
  },
  {
   "cell_type": "markdown",
   "metadata": {},
   "source": [
    "Let's time the functions once more:"
   ]
  },
  {
   "cell_type": "code",
   "execution_count": 26,
   "metadata": {},
   "outputs": [
    {
     "name": "stdout",
     "output_type": "stream",
     "text": [
      "2.06 ms ± 16.6 µs per loop (mean ± std. dev. of 7 runs, 100 loops each)\n"
     ]
    }
   ],
   "source": [
    "%%timeit\n",
    "grad_function(large_input).block_until_ready()"
   ]
  },
  {
   "cell_type": "code",
   "execution_count": 27,
   "metadata": {},
   "outputs": [
    {
     "name": "stdout",
     "output_type": "stream",
     "text": [
      "17.4 µs ± 314 ns per loop (mean ± std. dev. of 7 runs, 100,000 loops each)\n"
     ]
    }
   ],
   "source": [
    "%%timeit\n",
    "jitted_grad_function(large_input).block_until_ready()"
   ]
  },
  {
   "cell_type": "markdown",
   "metadata": {},
   "source": [
    "Once more, the jitted function is much faster than the original one. Intuitively, this shows the potential speed up we can gain by using `jax.jit` to compile the whole training step of a network. Generally, we want to jit the largest possible chunk of computation to give the compiler maximum freedom. \n",
    "\n",
    "There are situations in which applying jit to a function is not straight-forward, for instance, if an input argument cannot be traced, or you need to use loops that depend on input arguments. To keep the tutorial simple, and since most neural network training functions do not run into these issues, we do not discuss such special cases here. Instead, we refer to the section on just-in-time compilation in the great tutorials of [JAX 101 Tutorial](https://jax.readthedocs.io/en/latest/jax-101/02-jitting.html), [JAX Quickstart](https://jax.readthedocs.io/en/latest/notebooks/quickstart.html#using-jit-to-speed-up-functions), and [Thinking in JAX](https://jax.readthedocs.io/en/latest/notebooks/thinking_in_jax.html#to-jit-or-not-to-jit)."
   ]
  },
  {
   "cell_type": "markdown",
   "metadata": {},
   "source": [
    "## Implementing a Neural Network with Flax\n",
    "\n",
    "With having reviewed the basics of JAX, we are now ready to implement our own neural network. Technically, we could implement our own neural network from scratch with JAX (see [here](https://jax.readthedocs.io/en/latest/notebooks/Neural_Network_and_Data_Loading.html) for an example), but we do not really want to do that every time. Similarly to PyTorch's `torch.nn` package, there exist neural network libraries based on JAX which provide such basic functionality. A (non-exclusive) collection of them are:\n",
    "\n",
    "* [Flax](https://flax.readthedocs.io/en/latest/index.html), started by the Google Brain Team, focuses on flexibility and clarity.\n",
    "* [Haiku](https://dm-haiku.readthedocs.io/en/latest/), from DeepMind, focuses on simplicity and compositionality.\n",
    "* [Trax](https://github.com/google/trax), maintained by the Google Brain Team, provides solutions for common training tasks\n",
    "* [Equinox](https://github.com/patrick-kidger/equinox), created by Patrick Kidger and Cristian Garcia, implements neural networks as callable PyTrees\n",
    "* [Jraph](https://github.com/deepmind/jraph), from DeepMind, is a graph neural network library (similar to PyTorch Geometric)\n",
    "\n",
    "For this tutorial series, we will use Flax due to its flexibility, intuitive API, and larger community. However, this should not mean that the other libraries are necessarily worse, and we recommend giving them a try as well to find the best library for yourself!\n",
    "\n",
    "We will introduce the libraries and all additional parts you might need to train a neural network in Flax, using a simple example classifier on a simple yet well known example: XOR. Given two binary inputs $x_1$ and $x_2$, the label to predict is $1$ if either $x_1$ or $x_2$ is $1$ while the other is $0$, or the label is $0$ in all other cases. The example became famous by the fact that a single neuron, i.e. a linear classifier, cannot learn this simple function. Hence, we will learn how to build a small neural network that can learn this function. \n",
    "To make it a little bit more interesting, we move the XOR into continuous space and introduce some gaussian noise on the binary inputs. Our desired separation of an XOR dataset could look as follows:\n",
    "\n",
    "<center style=\"width: 100%\"><img src=\"../../tutorial2/continuous_xor.svg\" width=\"350px\"></center>"
   ]
  },
  {
   "cell_type": "markdown",
   "metadata": {},
   "source": [
    "### The model\n",
    "\n",
    "The package `flax.linen` defines a series of useful classes like linear networks layers, convolutions, activation functions etc. A full list can be found [here](https://flax.readthedocs.io/en/latest/flax.linen.html). In case you need a certain network layer, check the documentation of the package first before writing the layer yourself as the package likely contains the code for it already. We import it below:"
   ]
  },
  {
   "cell_type": "code",
   "execution_count": 28,
   "metadata": {},
   "outputs": [],
   "source": [
    "try:\n",
    "    import flax\n",
    "except ModuleNotFoundError: # Install flax if missing\n",
    "    !pip install --quiet flax\n",
    "    import flax\n",
    "\n",
    "from flax import linen as nn"
   ]
  },
  {
   "cell_type": "markdown",
   "metadata": {},
   "source": [
    "#### nn.Module\n",
    "\n",
    "Similar to PyTorch, a neural network is built up out of modules. Modules can contain other modules, and a neural network is considered to be a module itself as well. The basic template of a module is as follows:"
   ]
  },
  {
   "cell_type": "code",
   "execution_count": 29,
   "metadata": {},
   "outputs": [],
   "source": [
    "class MyModule(nn.Module):\n",
    "    # Some dataclass attributes, like hidden dimension, number of layers, etc. of the form:\n",
    "    # varname : vartype\n",
    "        \n",
    "    def setup(self):\n",
    "        # Flax uses \"lazy\" initialization. This function is called once before you\n",
    "        # call the model, or try to access attributes. In here, define your submodules etc.\n",
    "        pass\n",
    "        \n",
    "    def __call__(self, x):\n",
    "        # Function for performing the calculation of the module.\n",
    "        pass"
   ]
  },
  {
   "cell_type": "markdown",
   "metadata": {},
   "source": [
    "The main, obvious difference to PyTorch is that Flax uses lazy initialization. The function `setup` is called once on a module instance before any other methods are called, or when you try to access a attribute of *self* defined in setup. Additional object attributes are defined below the class name. However, in contrast to PyTorch, the parameters are not part of the module. Instead, we can create a set of parameters of the module by calling its `init()` function. This function takes as input a PRNG state for sampling pseudo-random numbers and an example input to the model, and returns a set of parameters for the module as a pytree. Further, since the init function requires an input to the network, we can infer the input shape for all modules and do not need to explicitly define it during the module creation. This becomes more clear in the example we show in a second.\n",
    "\n",
    "The `__call__` method represents the `forward` function in PyTorch, and performs the actual computation of the module. It can take additional arguments if needed, like whether we are training or validation."
   ]
  },
  {
   "cell_type": "markdown",
   "metadata": {},
   "source": [
    "#### Simple classifier\n",
    "\n",
    "To get an intuition behind how we work with modules in Flax, let's define our own small neural network. We will use a minimal network with a input layer, one hidden layer with tanh as activation function, and a output layer. In other words, our networks should look something like this:\n",
    "\n",
    "<center width=\"100%\"><img src=\"../../tutorial2/small_neural_network.svg\" width=\"300px\"></center>\n",
    "\n",
    "The input neurons are shown in blue, which represent the coordinates $x_1$ and $x_2$ of a data point. The hidden neurons including a tanh activation are shown in white, and the output neuron in red.\n",
    "In Flax, we can define this as follows:"
   ]
  },
  {
   "cell_type": "code",
   "execution_count": 30,
   "metadata": {},
   "outputs": [],
   "source": [
    "class SimpleClassifier(nn.Module):\n",
    "    num_hidden : int   # Number of hidden neurons\n",
    "    num_outputs : int  # Number of output neurons\n",
    "\n",
    "    def setup(self):\n",
    "        # Create the modules we need to build the network\n",
    "        # nn.Dense is a linear layer\n",
    "        self.linear1 = nn.Dense(features=self.num_hidden)\n",
    "        self.linear2 = nn.Dense(features=self.num_outputs)\n",
    "\n",
    "    def __call__(self, x):\n",
    "        # Perform the calculation of the model to determine the prediction\n",
    "        x = self.linear1(x)\n",
    "        x = nn.tanh(x)\n",
    "        x = self.linear2(x)\n",
    "        return x"
   ]
  },
  {
   "cell_type": "markdown",
   "metadata": {},
   "source": [
    "One thing you may notice is that usually, all layers that we define in `setup` are also used in the `__call__` function. To reduce the code overhead, Flax provides an alternative, more compact network creation with `nn.compact`. With that, we can remove the setup function and instead our model as:"
   ]
  },
  {
   "cell_type": "code",
   "execution_count": 31,
   "metadata": {},
   "outputs": [],
   "source": [
    "class SimpleClassifierCompact(nn.Module):\n",
    "    num_hidden : int   # Number of hidden neurons\n",
    "    num_outputs : int  # Number of output neurons\n",
    "\n",
    "    @nn.compact  # Tells Flax to look for defined submodules\n",
    "    def __call__(self, x):\n",
    "        # Perform the calculation of the model to determine the prediction\n",
    "        # while defining necessary layers\n",
    "        x = nn.Dense(features=self.num_hidden)(x)\n",
    "        x = nn.tanh(x)\n",
    "        x = nn.Dense(features=self.num_outputs)(x)\n",
    "        return x"
   ]
  },
  {
   "cell_type": "markdown",
   "metadata": {},
   "source": [
    "The `nn.compact` annotation of the `__call__` method signals Flax to look for submodules that we define in the forward pass. These are automatically recognized as such, so that we can use them for initialization etc. Which of the two model definition you use is up to you (see the [Flax documentation](https://flax.readthedocs.io/en/latest/design_notes/setup_or_nncompact.html) for some pros and cons for both methods). In the following tutorials, we will mostly use the compact version, but occasionally come back to the explicit setup function where necessary."
   ]
  },
  {
   "cell_type": "markdown",
   "metadata": {},
   "source": [
    "For the examples in this notebook, we will use a tiny neural network with two input neurons and eight hidden neurons. As we perform binary classification, we will use a single output neuron. Note that we do not apply a sigmoid on the output yet. This is because other functions, especially the loss, are more efficient and precise to calculate on the original outputs instead of the sigmoid output. We will discuss the detailed reason later.\n",
    "\n",
    "Now, let's create an instance of this network:"
   ]
  },
  {
   "cell_type": "code",
   "execution_count": 60,
   "metadata": {},
   "outputs": [
    {
     "name": "stdout",
     "output_type": "stream",
     "text": [
      "SimpleClassifier(\n",
      "    # attributes\n",
      "    num_hidden = 8\n",
      "    num_outputs = 1\n",
      ")\n"
     ]
    }
   ],
   "source": [
    "model = SimpleClassifier(num_hidden=8, num_outputs=1)\n",
    "# Printing the model shows its attributes\n",
    "print(model)"
   ]
  },
  {
   "cell_type": "markdown",
   "metadata": {},
   "source": [
    "At this stage, the model has no parameters initialized. To do this, let's create a random input of our dataset, and apply the init function:"
   ]
  },
  {
   "cell_type": "code",
   "execution_count": 33,
   "metadata": {},
   "outputs": [
    {
     "name": "stdout",
     "output_type": "stream",
     "text": [
      "FrozenDict({\n",
      "    params: {\n",
      "        linear1: {\n",
      "            kernel: DeviceArray([[ 0.31476864, -0.4647768 , -0.7862042 , -0.48842615,\n",
      "                          -0.65373844,  0.3892545 ,  0.3038056 ,  0.04179859],\n",
      "                         [-0.3298236 ,  1.1110363 ,  0.54909396, -0.8168818 ,\n",
      "                           0.40057245, -0.8665987 ,  1.2087964 ,  1.0364622 ]],            dtype=float32),\n",
      "            bias: DeviceArray([0., 0., 0., 0., 0., 0., 0., 0.], dtype=float32),\n",
      "        },\n",
      "        linear2: {\n",
      "            kernel: DeviceArray([[-0.27971813],\n",
      "                         [-0.7466775 ],\n",
      "                         [ 0.29791608],\n",
      "                         [-0.26267236],\n",
      "                         [-0.5084385 ],\n",
      "                         [ 0.04573093],\n",
      "                         [-0.47257012],\n",
      "                         [ 0.50458497]], dtype=float32),\n",
      "            bias: DeviceArray([0.], dtype=float32),\n",
      "        },\n",
      "    },\n",
      "})\n"
     ]
    }
   ],
   "source": [
    "rng, inp_rng, init_rng = jax.random.split(rng, 3)\n",
    "inp = jax.random.normal(inp_rng, (8, 2))  # Batch size 8, input size 2\n",
    "# Initialize the model\n",
    "params = model.init(init_rng, inp)\n",
    "print(params)"
   ]
  },
  {
   "cell_type": "markdown",
   "metadata": {},
   "source": [
    "Now, we have parameters with which we can apply the network. We see that the parameters follow the same structure as defined in our module, and each linear layer contains one `kernel`, i.e. the weights, and a bias parameter. With this, we could apply the model on an input using the `apply` function:"
   ]
  },
  {
   "cell_type": "code",
   "execution_count": 34,
   "metadata": {},
   "outputs": [
    {
     "data": {
      "text/plain": [
       "DeviceArray([[-0.48368204],\n",
       "             [ 0.04365465],\n",
       "             [ 0.06668529],\n",
       "             [-0.34203646],\n",
       "             [ 0.4835147 ],\n",
       "             [ 0.37424874],\n",
       "             [ 0.14232655],\n",
       "             [-0.5916512 ]], dtype=float32)"
      ]
     },
     "execution_count": 34,
     "metadata": {},
     "output_type": "execute_result"
    }
   ],
   "source": [
    "model.apply(params, inp)"
   ]
  },
  {
   "cell_type": "markdown",
   "metadata": {},
   "source": [
    "The model returns an output array of shape `[8,1]`, which corresponds to the one output neuron in the model for all 8 batch elements. With that, we now know how to initialize a model, and run a model. Next, let's look at the data."
   ]
  },
  {
   "cell_type": "markdown",
   "metadata": {},
   "source": [
    "### The data\n",
    "\n",
    "As mentioned before, JAX is not meant to 'reinvent the wheel' for every part of the deep learning pipeline. Hence, JAX and Flax do not natively provide a data loading functionality, but instead refer to other available libraries like Tensorflow and PyTorch. Here, let's use again the package `torch.utils.data` library."
   ]
  },
  {
   "cell_type": "code",
   "execution_count": 35,
   "metadata": {},
   "outputs": [],
   "source": [
    "import torch.utils.data as data"
   ]
  },
  {
   "cell_type": "markdown",
   "metadata": {},
   "source": [
    "The data package defines two classes which are the standard interface for handling data in PyTorch: `data.Dataset`, and `data.DataLoader`. The dataset class provides an uniform interface to access the training/test data, while the data loader makes sure to efficiently load and stack the data points from the dataset into batches during training."
   ]
  },
  {
   "cell_type": "markdown",
   "metadata": {},
   "source": [
    "#### The dataset class\n",
    "\n",
    "The dataset class summarizes the basic functionality of a dataset in a natural way. To define a dataset in PyTorch, we simply specify two functions: `__getitem__`, and `__len__`. The get-item function has to return the $i$-th data point in the dataset, while the len function returns the size of the dataset. For the XOR dataset, we can define the dataset class as follows:"
   ]
  },
  {
   "cell_type": "code",
   "execution_count": 36,
   "metadata": {},
   "outputs": [],
   "source": [
    "class XORDataset(data.Dataset):\n",
    "\n",
    "    def __init__(self, size, seed, std=0.1):\n",
    "        \"\"\"\n",
    "        Inputs:\n",
    "            size - Number of data points we want to generate\n",
    "            seed - The seed to use to create the PRNG state with which we want to generate the data points\n",
    "            std - Standard deviation of the noise (see generate_continuous_xor function)\n",
    "        \"\"\"\n",
    "        super().__init__()\n",
    "        self.size = size\n",
    "        self.np_rng = np.random.RandomState(seed=seed)\n",
    "        self.std = std\n",
    "        self.generate_continuous_xor()\n",
    "\n",
    "    def generate_continuous_xor(self):\n",
    "        # Each data point in the XOR dataset has two variables, x and y, that can be either 0 or 1\n",
    "        # The label is their XOR combination, i.e. 1 if only x or only y is 1 while the other is 0.\n",
    "        # If x=y, the label is 0.\n",
    "        data = self.np_rng.randint(low=0, high=2, size=(self.size, 2)).astype(np.float32)\n",
    "        label = (data.sum(axis=1) == 1).astype(np.int32)\n",
    "        # To make it slightly more challenging, we add a bit of gaussian noise to the data points.\n",
    "        data += self.np_rng.normal(loc=0.0, scale=self.std, size=data.shape)\n",
    "\n",
    "        self.data = data\n",
    "        self.label = label\n",
    "\n",
    "    def __len__(self):\n",
    "        # Number of data point we have. Alternatively self.data.shape[0], or self.label.shape[0]\n",
    "        return self.size\n",
    "\n",
    "    def __getitem__(self, idx):\n",
    "        # Return the idx-th data point of the dataset\n",
    "        # If we have multiple things to return (data point and label), we can return them as tuple\n",
    "        data_point = self.data[idx]\n",
    "        data_label = self.label[idx]\n",
    "        return data_point, data_label"
   ]
  },
  {
   "cell_type": "markdown",
   "metadata": {},
   "source": [
    "Note that in contrast to our [PyTorch tutorial](https://uvadlc-notebooks.readthedocs.io/en/latest/tutorial_notebooks/tutorial2/Introduction_to_PyTorch.html#The-data), we use NumPy to generate the random data. Similar to JAX, NumPy also allows the pseudo-number generation based on a PRNG state. Hence, for better reproducibility, we are doing the same here. Let's try to create such a dataset and inspect it:"
   ]
  },
  {
   "cell_type": "code",
   "execution_count": 37,
   "metadata": {},
   "outputs": [
    {
     "name": "stdout",
     "output_type": "stream",
     "text": [
      "Size of dataset: 200\n",
      "Data point 0: (array([-0.06800247,  1.0232254 ], dtype=float32), 1)\n"
     ]
    }
   ],
   "source": [
    "dataset = XORDataset(size=200, seed=42)\n",
    "print(\"Size of dataset:\", len(dataset))\n",
    "print(\"Data point 0:\", dataset[0])"
   ]
  },
  {
   "cell_type": "markdown",
   "metadata": {},
   "source": [
    "To better relate to the dataset, we visualize the samples below. "
   ]
  },
  {
   "cell_type": "code",
   "execution_count": 38,
   "metadata": {},
   "outputs": [],
   "source": [
    "def visualize_samples(data, label):\n",
    "    data_0 = data[label == 0]\n",
    "    data_1 = data[label == 1]\n",
    "    \n",
    "    plt.figure(figsize=(4,4))\n",
    "    plt.scatter(data_0[:,0], data_0[:,1], edgecolor=\"#333\", label=\"Class 0\")\n",
    "    plt.scatter(data_1[:,0], data_1[:,1], edgecolor=\"#333\", label=\"Class 1\")\n",
    "    plt.title(\"Dataset samples\")\n",
    "    plt.ylabel(r\"$x_2$\")\n",
    "    plt.xlabel(r\"$x_1$\")\n",
    "    plt.legend()"
   ]
  },
  {
   "cell_type": "code",
   "execution_count": 39,
   "metadata": {},
   "outputs": [
    {
     "data": {
      "application/pdf": "[encoded data removed]",
      "image/svg+xml": [
       "<?xml version=\"1.0\" encoding=\"utf-8\" standalone=\"no\"?>\n",
       "<!DOCTYPE svg PUBLIC \"-//W3C//DTD SVG 1.1//EN\"\n",
       "  \"http://www.w3.org/Graphics/SVG/1.1/DTD/svg11.dtd\">\n",
       "<svg xmlns:xlink=\"http://www.w3.org/1999/xlink\" width=\"289.424844pt\" height=\"282.717813pt\" viewBox=\"0 0 289.424844 282.717813\" xmlns=\"http://www.w3.org/2000/svg\" version=\"1.1\">\n",
       " <metadata>\n",
       "  <rdf:RDF xmlns:dc=\"http://purl.org/dc/elements/1.1/\" xmlns:cc=\"http://creativecommons.org/ns#\" xmlns:rdf=\"http://www.w3.org/1999/02/22-rdf-syntax-ns#\">\n",
       "   <cc:Work>\n",
       "    <dc:type rdf:resource=\"http://purl.org/dc/dcmitype/StillImage\"/>\n",
       "    <dc:date>2022-06-08T15:50:37.719423</dc:date>\n",
       "    <dc:format>image/svg+xml</dc:format>\n",
       "    <dc:creator>\n",
       "     <cc:Agent>\n",
       "      <dc:title>Matplotlib v3.5.1, https://matplotlib.org/</dc:title>\n",
       "     </cc:Agent>\n",
       "    </dc:creator>\n",
       "   </cc:Work>\n",
       "  </rdf:RDF>\n",
       " </metadata>\n",
       " <defs>\n",
       "  <style type=\"text/css\">*{stroke-linejoin: round; stroke-linecap: butt}</style>\n",
       " </defs>\n",
       " <g id=\"figure_1\">\n",
       "  <g id=\"patch_1\">\n",
       "   <path d=\"M 0 282.717813 \n",
       "L 289.424844 282.717813 \n",
       "L 289.424844 0 \n",
       "L 0 0 \n",
       "z\n",
       "\" style=\"fill: #ffffff\"/>\n",
       "  </g>\n",
       "  <g id=\"axes_1\">\n",
       "   <g id=\"patch_2\">\n",
       "    <path d=\"M 59.024844 239.758125 \n",
       "L 282.224844 239.758125 \n",
       "L 282.224844 22.318125 \n",
       "L 59.024844 22.318125 \n",
       "z\n",
       "\" style=\"fill: #eaeaf2\"/>\n",
       "   </g>\n",
       "   <g id=\"matplotlib.axis_1\">\n",
       "    <g id=\"xtick_1\">\n",
       "     <g id=\"line2d_1\">\n",
       "      <path d=\"M 98.338694 239.758125 \n",
       "L 98.338694 22.318125 \n",
       "\" clip-path=\"url(#pafe55541d0)\" style=\"fill: none; stroke: #ffffff; stroke-linecap: round\"/>\n",
       "     </g>\n",
       "     <g id=\"text_1\">\n",
       "      <!-- 0.0 -->\n",
       "      <g style=\"fill: #262626\" transform=\"translate(89.591975 257.616406)scale(0.11 -0.11)\">\n",
       "       <defs>\n",
       "        <path id=\"DejaVuSans-30\" d=\"M 2034 4250 \n",
       "Q 1547 4250 1301 3770 \n",
       "Q 1056 3291 1056 2328 \n",
       "Q 1056 1369 1301 889 \n",
       "Q 1547 409 2034 409 \n",
       "Q 2525 409 2770 889 \n",
       "Q 3016 1369 3016 2328 \n",
       "Q 3016 3291 2770 3770 \n",
       "Q 2525 4250 2034 4250 \n",
       "z\n",
       "M 2034 4750 \n",
       "Q 2819 4750 3233 4129 \n",
       "Q 3647 3509 3647 2328 \n",
       "Q 3647 1150 3233 529 \n",
       "Q 2819 -91 2034 -91 \n",
       "Q 1250 -91 836 529 \n",
       "Q 422 1150 422 2328 \n",
       "Q 422 3509 836 4129 \n",
       "Q 1250 4750 2034 4750 \n",
       "z\n",
       "\" transform=\"scale(0.015625)\"/>\n",
       "        <path id=\"DejaVuSans-2e\" d=\"M 684 794 \n",
       "L 1344 794 \n",
       "L 1344 0 \n",
       "L 684 0 \n",
       "L 684 794 \n",
       "z\n",
       "\" transform=\"scale(0.015625)\"/>\n",
       "       </defs>\n",
       "       <use xlink:href=\"#DejaVuSans-30\"/>\n",
       "       <use xlink:href=\"#DejaVuSans-2e\" x=\"63.623047\"/>\n",
       "       <use xlink:href=\"#DejaVuSans-30\" x=\"95.410156\"/>\n",
       "      </g>\n",
       "     </g>\n",
       "    </g>\n",
       "    <g id=\"xtick_2\">\n",
       "     <g id=\"line2d_2\">\n",
       "      <path d=\"M 168.880926 239.758125 \n",
       "L 168.880926 22.318125 \n",
       "\" clip-path=\"url(#pafe55541d0)\" style=\"fill: none; stroke: #ffffff; stroke-linecap: round\"/>\n",
       "     </g>\n",
       "     <g id=\"text_2\">\n",
       "      <!-- 0.5 -->\n",
       "      <g style=\"fill: #262626\" transform=\"translate(160.134208 257.616406)scale(0.11 -0.11)\">\n",
       "       <defs>\n",
       "        <path id=\"DejaVuSans-35\" d=\"M 691 4666 \n",
       "L 3169 4666 \n",
       "L 3169 4134 \n",
       "L 1269 4134 \n",
       "L 1269 2991 \n",
       "Q 1406 3038 1543 3061 \n",
       "Q 1681 3084 1819 3084 \n",
       "Q 2600 3084 3056 2656 \n",
       "Q 3513 2228 3513 1497 \n",
       "Q 3513 744 3044 326 \n",
       "Q 2575 -91 1722 -91 \n",
       "Q 1428 -91 1123 -41 \n",
       "Q 819 9 494 109 \n",
       "L 494 744 \n",
       "Q 775 591 1075 516 \n",
       "Q 1375 441 1709 441 \n",
       "Q 2250 441 2565 725 \n",
       "Q 2881 1009 2881 1497 \n",
       "Q 2881 1984 2565 2268 \n",
       "Q 2250 2553 1709 2553 \n",
       "Q 1456 2553 1204 2497 \n",
       "Q 953 2441 691 2322 \n",
       "L 691 4666 \n",
       "z\n",
       "\" transform=\"scale(0.015625)\"/>\n",
       "       </defs>\n",
       "       <use xlink:href=\"#DejaVuSans-30\"/>\n",
       "       <use xlink:href=\"#DejaVuSans-2e\" x=\"63.623047\"/>\n",
       "       <use xlink:href=\"#DejaVuSans-35\" x=\"95.410156\"/>\n",
       "      </g>\n",
       "     </g>\n",
       "    </g>\n",
       "    <g id=\"xtick_3\">\n",
       "     <g id=\"line2d_3\">\n",
       "      <path d=\"M 239.423158 239.758125 \n",
       "L 239.423158 22.318125 \n",
       "\" clip-path=\"url(#pafe55541d0)\" style=\"fill: none; stroke: #ffffff; stroke-linecap: round\"/>\n",
       "     </g>\n",
       "     <g id=\"text_3\">\n",
       "      <!-- 1.0 -->\n",
       "      <g style=\"fill: #262626\" transform=\"translate(230.67644 257.616406)scale(0.11 -0.11)\">\n",
       "       <defs>\n",
       "        <path id=\"DejaVuSans-31\" d=\"M 794 531 \n",
       "L 1825 531 \n",
       "L 1825 4091 \n",
       "L 703 3866 \n",
       "L 703 4441 \n",
       "L 1819 4666 \n",
       "L 2450 4666 \n",
       "L 2450 531 \n",
       "L 3481 531 \n",
       "L 3481 0 \n",
       "L 794 0 \n",
       "L 794 531 \n",
       "z\n",
       "\" transform=\"scale(0.015625)\"/>\n",
       "       </defs>\n",
       "       <use xlink:href=\"#DejaVuSans-31\"/>\n",
       "       <use xlink:href=\"#DejaVuSans-2e\" x=\"63.623047\"/>\n",
       "       <use xlink:href=\"#DejaVuSans-30\" x=\"95.410156\"/>\n",
       "      </g>\n",
       "     </g>\n",
       "    </g>\n",
       "    <g id=\"text_4\">\n",
       "     <!-- $x_1$ -->\n",
       "     <g style=\"fill: #262626\" transform=\"translate(164.204844 273.022188)scale(0.12 -0.12)\">\n",
       "      <defs>\n",
       "       <path id=\"DejaVuSans-Oblique-78\" d=\"M 3841 3500 \n",
       "L 2234 1784 \n",
       "L 3219 0 \n",
       "L 2559 0 \n",
       "L 1819 1388 \n",
       "L 531 0 \n",
       "L -166 0 \n",
       "L 1556 1844 \n",
       "L 641 3500 \n",
       "L 1300 3500 \n",
       "L 1972 2234 \n",
       "L 3144 3500 \n",
       "L 3841 3500 \n",
       "z\n",
       "\" transform=\"scale(0.015625)\"/>\n",
       "      </defs>\n",
       "      <use xlink:href=\"#DejaVuSans-Oblique-78\" transform=\"translate(0 0.3125)\"/>\n",
       "      <use xlink:href=\"#DejaVuSans-31\" transform=\"translate(59.179688 -16.09375)scale(0.7)\"/>\n",
       "     </g>\n",
       "    </g>\n",
       "   </g>\n",
       "   <g id=\"matplotlib.axis_2\">\n",
       "    <g id=\"ytick_1\">\n",
       "     <g id=\"line2d_4\">\n",
       "      <path d=\"M 59.024844 230.519989 \n",
       "L 282.224844 230.519989 \n",
       "\" clip-path=\"url(#pafe55541d0)\" style=\"fill: none; stroke: #ffffff; stroke-linecap: round\"/>\n",
       "     </g>\n",
       "     <g id=\"text_5\">\n",
       "      <!-- −0.2 -->\n",
       "      <g style=\"fill: #262626\" transform=\"translate(22.81375 234.69913)scale(0.11 -0.11)\">\n",
       "       <defs>\n",
       "        <path id=\"DejaVuSans-2212\" d=\"M 678 2272 \n",
       "L 4684 2272 \n",
       "L 4684 1741 \n",
       "L 678 1741 \n",
       "L 678 2272 \n",
       "z\n",
       "\" transform=\"scale(0.015625)\"/>\n",
       "        <path id=\"DejaVuSans-32\" d=\"M 1228 531 \n",
       "L 3431 531 \n",
       "L 3431 0 \n",
       "L 469 0 \n",
       "L 469 531 \n",
       "Q 828 903 1448 1529 \n",
       "Q 2069 2156 2228 2338 \n",
       "Q 2531 2678 2651 2914 \n",
       "Q 2772 3150 2772 3378 \n",
       "Q 2772 3750 2511 3984 \n",
       "Q 2250 4219 1831 4219 \n",
       "Q 1534 4219 1204 4116 \n",
       "Q 875 4013 500 3803 \n",
       "L 500 4441 \n",
       "Q 881 4594 1212 4672 \n",
       "Q 1544 4750 1819 4750 \n",
       "Q 2544 4750 2975 4387 \n",
       "Q 3406 4025 3406 3419 \n",
       "Q 3406 3131 3298 2873 \n",
       "Q 3191 2616 2906 2266 \n",
       "Q 2828 2175 2409 1742 \n",
       "Q 1991 1309 1228 531 \n",
       "z\n",
       "\" transform=\"scale(0.015625)\"/>\n",
       "       </defs>\n",
       "       <use xlink:href=\"#DejaVuSans-2212\"/>\n",
       "       <use xlink:href=\"#DejaVuSans-30\" x=\"83.789062\"/>\n",
       "       <use xlink:href=\"#DejaVuSans-2e\" x=\"147.412109\"/>\n",
       "       <use xlink:href=\"#DejaVuSans-32\" x=\"179.199219\"/>\n",
       "      </g>\n",
       "     </g>\n",
       "    </g>\n",
       "    <g id=\"ytick_2\">\n",
       "     <g id=\"line2d_5\">\n",
       "      <path d=\"M 59.024844 203.574887 \n",
       "L 282.224844 203.574887 \n",
       "\" clip-path=\"url(#pafe55541d0)\" style=\"fill: none; stroke: #ffffff; stroke-linecap: round\"/>\n",
       "     </g>\n",
       "     <g id=\"text_6\">\n",
       "      <!-- 0.0 -->\n",
       "      <g style=\"fill: #262626\" transform=\"translate(32.031406 207.754027)scale(0.11 -0.11)\">\n",
       "       <use xlink:href=\"#DejaVuSans-30\"/>\n",
       "       <use xlink:href=\"#DejaVuSans-2e\" x=\"63.623047\"/>\n",
       "       <use xlink:href=\"#DejaVuSans-30\" x=\"95.410156\"/>\n",
       "      </g>\n",
       "     </g>\n",
       "    </g>\n",
       "    <g id=\"ytick_3\">\n",
       "     <g id=\"line2d_6\">\n",
       "      <path d=\"M 59.024844 176.629784 \n",
       "L 282.224844 176.629784 \n",
       "\" clip-path=\"url(#pafe55541d0)\" style=\"fill: none; stroke: #ffffff; stroke-linecap: round\"/>\n",
       "     </g>\n",
       "     <g id=\"text_7\">\n",
       "      <!-- 0.2 -->\n",
       "      <g style=\"fill: #262626\" transform=\"translate(32.031406 180.808925)scale(0.11 -0.11)\">\n",
       "       <use xlink:href=\"#DejaVuSans-30\"/>\n",
       "       <use xlink:href=\"#DejaVuSans-2e\" x=\"63.623047\"/>\n",
       "       <use xlink:href=\"#DejaVuSans-32\" x=\"95.410156\"/>\n",
       "      </g>\n",
       "     </g>\n",
       "    </g>\n",
       "    <g id=\"ytick_4\">\n",
       "     <g id=\"line2d_7\">\n",
       "      <path d=\"M 59.024844 149.684682 \n",
       "L 282.224844 149.684682 \n",
       "\" clip-path=\"url(#pafe55541d0)\" style=\"fill: none; stroke: #ffffff; stroke-linecap: round\"/>\n",
       "     </g>\n",
       "     <g id=\"text_8\">\n",
       "      <!-- 0.4 -->\n",
       "      <g style=\"fill: #262626\" transform=\"translate(32.031406 153.863823)scale(0.11 -0.11)\">\n",
       "       <defs>\n",
       "        <path id=\"DejaVuSans-34\" d=\"M 2419 4116 \n",
       "L 825 1625 \n",
       "L 2419 1625 \n",
       "L 2419 4116 \n",
       "z\n",
       "M 2253 4666 \n",
       "L 3047 4666 \n",
       "L 3047 1625 \n",
       "L 3713 1625 \n",
       "L 3713 1100 \n",
       "L 3047 1100 \n",
       "L 3047 0 \n",
       "L 2419 0 \n",
       "L 2419 1100 \n",
       "L 313 1100 \n",
       "L 313 1709 \n",
       "L 2253 4666 \n",
       "z\n",
       "\" transform=\"scale(0.015625)\"/>\n",
       "       </defs>\n",
       "       <use xlink:href=\"#DejaVuSans-30\"/>\n",
       "       <use xlink:href=\"#DejaVuSans-2e\" x=\"63.623047\"/>\n",
       "       <use xlink:href=\"#DejaVuSans-34\" x=\"95.410156\"/>\n",
       "      </g>\n",
       "     </g>\n",
       "    </g>\n",
       "    <g id=\"ytick_5\">\n",
       "     <g id=\"line2d_8\">\n",
       "      <path d=\"M 59.024844 122.73958 \n",
       "L 282.224844 122.73958 \n",
       "\" clip-path=\"url(#pafe55541d0)\" style=\"fill: none; stroke: #ffffff; stroke-linecap: round\"/>\n",
       "     </g>\n",
       "     <g id=\"text_9\">\n",
       "      <!-- 0.6 -->\n",
       "      <g style=\"fill: #262626\" transform=\"translate(32.031406 126.91872)scale(0.11 -0.11)\">\n",
       "       <defs>\n",
       "        <path id=\"DejaVuSans-36\" d=\"M 2113 2584 \n",
       "Q 1688 2584 1439 2293 \n",
       "Q 1191 2003 1191 1497 \n",
       "Q 1191 994 1439 701 \n",
       "Q 1688 409 2113 409 \n",
       "Q 2538 409 2786 701 \n",
       "Q 3034 994 3034 1497 \n",
       "Q 3034 2003 2786 2293 \n",
       "Q 2538 2584 2113 2584 \n",
       "z\n",
       "M 3366 4563 \n",
       "L 3366 3988 \n",
       "Q 3128 4100 2886 4159 \n",
       "Q 2644 4219 2406 4219 \n",
       "Q 1781 4219 1451 3797 \n",
       "Q 1122 3375 1075 2522 \n",
       "Q 1259 2794 1537 2939 \n",
       "Q 1816 3084 2150 3084 \n",
       "Q 2853 3084 3261 2657 \n",
       "Q 3669 2231 3669 1497 \n",
       "Q 3669 778 3244 343 \n",
       "Q 2819 -91 2113 -91 \n",
       "Q 1303 -91 875 529 \n",
       "Q 447 1150 447 2328 \n",
       "Q 447 3434 972 4092 \n",
       "Q 1497 4750 2381 4750 \n",
       "Q 2619 4750 2861 4703 \n",
       "Q 3103 4656 3366 4563 \n",
       "z\n",
       "\" transform=\"scale(0.015625)\"/>\n",
       "       </defs>\n",
       "       <use xlink:href=\"#DejaVuSans-30\"/>\n",
       "       <use xlink:href=\"#DejaVuSans-2e\" x=\"63.623047\"/>\n",
       "       <use xlink:href=\"#DejaVuSans-36\" x=\"95.410156\"/>\n",
       "      </g>\n",
       "     </g>\n",
       "    </g>\n",
       "    <g id=\"ytick_6\">\n",
       "     <g id=\"line2d_9\">\n",
       "      <path d=\"M 59.024844 95.794477 \n",
       "L 282.224844 95.794477 \n",
       "\" clip-path=\"url(#pafe55541d0)\" style=\"fill: none; stroke: #ffffff; stroke-linecap: round\"/>\n",
       "     </g>\n",
       "     <g id=\"text_10\">\n",
       "      <!-- 0.8 -->\n",
       "      <g style=\"fill: #262626\" transform=\"translate(32.031406 99.973618)scale(0.11 -0.11)\">\n",
       "       <defs>\n",
       "        <path id=\"DejaVuSans-38\" d=\"M 2034 2216 \n",
       "Q 1584 2216 1326 1975 \n",
       "Q 1069 1734 1069 1313 \n",
       "Q 1069 891 1326 650 \n",
       "Q 1584 409 2034 409 \n",
       "Q 2484 409 2743 651 \n",
       "Q 3003 894 3003 1313 \n",
       "Q 3003 1734 2745 1975 \n",
       "Q 2488 2216 2034 2216 \n",
       "z\n",
       "M 1403 2484 \n",
       "Q 997 2584 770 2862 \n",
       "Q 544 3141 544 3541 \n",
       "Q 544 4100 942 4425 \n",
       "Q 1341 4750 2034 4750 \n",
       "Q 2731 4750 3128 4425 \n",
       "Q 3525 4100 3525 3541 \n",
       "Q 3525 3141 3298 2862 \n",
       "Q 3072 2584 2669 2484 \n",
       "Q 3125 2378 3379 2068 \n",
       "Q 3634 1759 3634 1313 \n",
       "Q 3634 634 3220 271 \n",
       "Q 2806 -91 2034 -91 \n",
       "Q 1263 -91 848 271 \n",
       "Q 434 634 434 1313 \n",
       "Q 434 1759 690 2068 \n",
       "Q 947 2378 1403 2484 \n",
       "z\n",
       "M 1172 3481 \n",
       "Q 1172 3119 1398 2916 \n",
       "Q 1625 2713 2034 2713 \n",
       "Q 2441 2713 2670 2916 \n",
       "Q 2900 3119 2900 3481 \n",
       "Q 2900 3844 2670 4047 \n",
       "Q 2441 4250 2034 4250 \n",
       "Q 1625 4250 1398 4047 \n",
       "Q 1172 3844 1172 3481 \n",
       "z\n",
       "\" transform=\"scale(0.015625)\"/>\n",
       "       </defs>\n",
       "       <use xlink:href=\"#DejaVuSans-30\"/>\n",
       "       <use xlink:href=\"#DejaVuSans-2e\" x=\"63.623047\"/>\n",
       "       <use xlink:href=\"#DejaVuSans-38\" x=\"95.410156\"/>\n",
       "      </g>\n",
       "     </g>\n",
       "    </g>\n",
       "    <g id=\"ytick_7\">\n",
       "     <g id=\"line2d_10\">\n",
       "      <path d=\"M 59.024844 68.849375 \n",
       "L 282.224844 68.849375 \n",
       "\" clip-path=\"url(#pafe55541d0)\" style=\"fill: none; stroke: #ffffff; stroke-linecap: round\"/>\n",
       "     </g>\n",
       "     <g id=\"text_11\">\n",
       "      <!-- 1.0 -->\n",
       "      <g style=\"fill: #262626\" transform=\"translate(32.031406 73.028516)scale(0.11 -0.11)\">\n",
       "       <use xlink:href=\"#DejaVuSans-31\"/>\n",
       "       <use xlink:href=\"#DejaVuSans-2e\" x=\"63.623047\"/>\n",
       "       <use xlink:href=\"#DejaVuSans-30\" x=\"95.410156\"/>\n",
       "      </g>\n",
       "     </g>\n",
       "    </g>\n",
       "    <g id=\"ytick_8\">\n",
       "     <g id=\"line2d_11\">\n",
       "      <path d=\"M 59.024844 41.904273 \n",
       "L 282.224844 41.904273 \n",
       "\" clip-path=\"url(#pafe55541d0)\" style=\"fill: none; stroke: #ffffff; stroke-linecap: round\"/>\n",
       "     </g>\n",
       "     <g id=\"text_12\">\n",
       "      <!-- 1.2 -->\n",
       "      <g style=\"fill: #262626\" transform=\"translate(32.031406 46.083413)scale(0.11 -0.11)\">\n",
       "       <use xlink:href=\"#DejaVuSans-31\"/>\n",
       "       <use xlink:href=\"#DejaVuSans-2e\" x=\"63.623047\"/>\n",
       "       <use xlink:href=\"#DejaVuSans-32\" x=\"95.410156\"/>\n",
       "      </g>\n",
       "     </g>\n",
       "    </g>\n",
       "    <g id=\"text_13\">\n",
       "     <!-- $x_2$ -->\n",
       "     <g style=\"fill: #262626\" transform=\"translate(16.318125 137.458125)rotate(-90)scale(0.12 -0.12)\">\n",
       "      <use xlink:href=\"#DejaVuSans-Oblique-78\" transform=\"translate(0 0.3125)\"/>\n",
       "      <use xlink:href=\"#DejaVuSans-32\" transform=\"translate(59.179688 -16.09375)scale(0.7)\"/>\n",
       "     </g>\n",
       "    </g>\n",
       "   </g>\n",
       "   <g id=\"PathCollection_1\">\n",
       "    <defs>\n",
       "     <path id=\"m57d33e147c\" d=\"M 0 3 \n",
       "C 0.795609 3 1.55874 2.683901 2.12132 2.12132 \n",
       "C 2.683901 1.55874 3 0.795609 3 0 \n",
       "C 3 -0.795609 2.683901 -1.55874 2.12132 -2.12132 \n",
       "C 1.55874 -2.683901 0.795609 -3 0 -3 \n",
       "C -0.795609 -3 -1.55874 -2.683901 -2.12132 -2.12132 \n",
       "C -2.683901 -1.55874 -3 -0.795609 -3 0 \n",
       "C -3 0.795609 -2.683901 1.55874 -2.12132 2.12132 \n",
       "C -1.55874 2.683901 -0.795609 3 0 3 \n",
       "z\n",
       "\" style=\"stroke: #333333\"/>\n",
       "    </defs>\n",
       "    <g clip-path=\"url(#pafe55541d0)\">\n",
       "     <use xlink:href=\"#m57d33e147c\" x=\"102.473492\" y=\"213.199022\" style=\"fill: #4c72b0; stroke: #333333\"/>\n",
       "     <use xlink:href=\"#m57d33e147c\" x=\"81.531253\" y=\"194.729435\" style=\"fill: #4c72b0; stroke: #333333\"/>\n",
       "     <use xlink:href=\"#m57d33e147c\" x=\"114.684678\" y=\"214.631572\" style=\"fill: #4c72b0; stroke: #333333\"/>\n",
       "     <use xlink:href=\"#m57d33e147c\" x=\"111.930435\" y=\"198.013674\" style=\"fill: #4c72b0; stroke: #333333\"/>\n",
       "     <use xlink:href=\"#m57d33e147c\" x=\"235.961113\" y=\"79.004121\" style=\"fill: #4c72b0; stroke: #333333\"/>\n",
       "     <use xlink:href=\"#m57d33e147c\" x=\"243.326835\" y=\"57.7051\" style=\"fill: #4c72b0; stroke: #333333\"/>\n",
       "     <use xlink:href=\"#m57d33e147c\" x=\"239.606599\" y=\"49.266559\" style=\"fill: #4c72b0; stroke: #333333\"/>\n",
       "     <use xlink:href=\"#m57d33e147c\" x=\"235.689266\" y=\"32.201761\" style=\"fill: #4c72b0; stroke: #333333\"/>\n",
       "     <use xlink:href=\"#m57d33e147c\" x=\"248.250356\" y=\"80.397476\" style=\"fill: #4c72b0; stroke: #333333\"/>\n",
       "     <use xlink:href=\"#m57d33e147c\" x=\"83.230065\" y=\"197.074753\" style=\"fill: #4c72b0; stroke: #333333\"/>\n",
       "     <use xlink:href=\"#m57d33e147c\" x=\"236.270449\" y=\"59.229967\" style=\"fill: #4c72b0; stroke: #333333\"/>\n",
       "     <use xlink:href=\"#m57d33e147c\" x=\"92.039062\" y=\"192.03701\" style=\"fill: #4c72b0; stroke: #333333\"/>\n",
       "     <use xlink:href=\"#m57d33e147c\" x=\"101.359224\" y=\"220.358166\" style=\"fill: #4c72b0; stroke: #333333\"/>\n",
       "     <use xlink:href=\"#m57d33e147c\" x=\"241.866478\" y=\"63.658161\" style=\"fill: #4c72b0; stroke: #333333\"/>\n",
       "     <use xlink:href=\"#m57d33e147c\" x=\"226.953301\" y=\"66.778305\" style=\"fill: #4c72b0; stroke: #333333\"/>\n",
       "     <use xlink:href=\"#m57d33e147c\" x=\"244.470986\" y=\"61.294179\" style=\"fill: #4c72b0; stroke: #333333\"/>\n",
       "     <use xlink:href=\"#m57d33e147c\" x=\"106.393072\" y=\"188.275921\" style=\"fill: #4c72b0; stroke: #333333\"/>\n",
       "     <use xlink:href=\"#m57d33e147c\" x=\"111.798177\" y=\"194.798985\" style=\"fill: #4c72b0; stroke: #333333\"/>\n",
       "     <use xlink:href=\"#m57d33e147c\" x=\"93.890735\" y=\"193.349636\" style=\"fill: #4c72b0; stroke: #333333\"/>\n",
       "     <use xlink:href=\"#m57d33e147c\" x=\"272.079389\" y=\"94.0062\" style=\"fill: #4c72b0; stroke: #333333\"/>\n",
       "     <use xlink:href=\"#m57d33e147c\" x=\"249.105227\" y=\"90.57677\" style=\"fill: #4c72b0; stroke: #333333\"/>\n",
       "     <use xlink:href=\"#m57d33e147c\" x=\"229.331339\" y=\"59.693458\" style=\"fill: #4c72b0; stroke: #333333\"/>\n",
       "     <use xlink:href=\"#m57d33e147c\" x=\"69.767078\" y=\"201.062871\" style=\"fill: #4c72b0; stroke: #333333\"/>\n",
       "     <use xlink:href=\"#m57d33e147c\" x=\"228.241923\" y=\"70.395169\" style=\"fill: #4c72b0; stroke: #333333\"/>\n",
       "     <use xlink:href=\"#m57d33e147c\" x=\"246.547744\" y=\"57.185445\" style=\"fill: #4c72b0; stroke: #333333\"/>\n",
       "     <use xlink:href=\"#m57d33e147c\" x=\"222.488843\" y=\"73.355961\" style=\"fill: #4c72b0; stroke: #333333\"/>\n",
       "     <use xlink:href=\"#m57d33e147c\" x=\"232.722418\" y=\"77.65139\" style=\"fill: #4c72b0; stroke: #333333\"/>\n",
       "     <use xlink:href=\"#m57d33e147c\" x=\"264.330969\" y=\"63.393243\" style=\"fill: #4c72b0; stroke: #333333\"/>\n",
       "     <use xlink:href=\"#m57d33e147c\" x=\"217.987207\" y=\"75.373244\" style=\"fill: #4c72b0; stroke: #333333\"/>\n",
       "     <use xlink:href=\"#m57d33e147c\" x=\"257.297305\" y=\"78.383485\" style=\"fill: #4c72b0; stroke: #333333\"/>\n",
       "     <use xlink:href=\"#m57d33e147c\" x=\"245.684766\" y=\"58.41308\" style=\"fill: #4c72b0; stroke: #333333\"/>\n",
       "     <use xlink:href=\"#m57d33e147c\" x=\"235.859815\" y=\"85.6602\" style=\"fill: #4c72b0; stroke: #333333\"/>\n",
       "     <use xlink:href=\"#m57d33e147c\" x=\"241.024708\" y=\"59.928793\" style=\"fill: #4c72b0; stroke: #333333\"/>\n",
       "     <use xlink:href=\"#m57d33e147c\" x=\"128.432482\" y=\"229.874489\" style=\"fill: #4c72b0; stroke: #333333\"/>\n",
       "     <use xlink:href=\"#m57d33e147c\" x=\"96.197242\" y=\"195.648753\" style=\"fill: #4c72b0; stroke: #333333\"/>\n",
       "     <use xlink:href=\"#m57d33e147c\" x=\"102.303053\" y=\"211.964238\" style=\"fill: #4c72b0; stroke: #333333\"/>\n",
       "     <use xlink:href=\"#m57d33e147c\" x=\"95.402413\" y=\"210.216867\" style=\"fill: #4c72b0; stroke: #333333\"/>\n",
       "     <use xlink:href=\"#m57d33e147c\" x=\"244.460087\" y=\"78.184632\" style=\"fill: #4c72b0; stroke: #333333\"/>\n",
       "     <use xlink:href=\"#m57d33e147c\" x=\"109.806916\" y=\"195.09218\" style=\"fill: #4c72b0; stroke: #333333\"/>\n",
       "     <use xlink:href=\"#m57d33e147c\" x=\"108.881846\" y=\"195.351642\" style=\"fill: #4c72b0; stroke: #333333\"/>\n",
       "     <use xlink:href=\"#m57d33e147c\" x=\"98.043805\" y=\"201.994188\" style=\"fill: #4c72b0; stroke: #333333\"/>\n",
       "     <use xlink:href=\"#m57d33e147c\" x=\"109.984037\" y=\"192.614836\" style=\"fill: #4c72b0; stroke: #333333\"/>\n",
       "     <use xlink:href=\"#m57d33e147c\" x=\"257.841436\" y=\"68.566405\" style=\"fill: #4c72b0; stroke: #333333\"/>\n",
       "     <use xlink:href=\"#m57d33e147c\" x=\"255.762307\" y=\"58.183656\" style=\"fill: #4c72b0; stroke: #333333\"/>\n",
       "     <use xlink:href=\"#m57d33e147c\" x=\"107.144055\" y=\"195.109469\" style=\"fill: #4c72b0; stroke: #333333\"/>\n",
       "     <use xlink:href=\"#m57d33e147c\" x=\"98.165911\" y=\"215.663192\" style=\"fill: #4c72b0; stroke: #333333\"/>\n",
       "     <use xlink:href=\"#m57d33e147c\" x=\"99.408179\" y=\"212.697983\" style=\"fill: #4c72b0; stroke: #333333\"/>\n",
       "     <use xlink:href=\"#m57d33e147c\" x=\"86.692211\" y=\"207.904774\" style=\"fill: #4c72b0; stroke: #333333\"/>\n",
       "     <use xlink:href=\"#m57d33e147c\" x=\"101.794792\" y=\"210.404705\" style=\"fill: #4c72b0; stroke: #333333\"/>\n",
       "     <use xlink:href=\"#m57d33e147c\" x=\"91.693076\" y=\"200.448582\" style=\"fill: #4c72b0; stroke: #333333\"/>\n",
       "     <use xlink:href=\"#m57d33e147c\" x=\"229.28703\" y=\"71.725054\" style=\"fill: #4c72b0; stroke: #333333\"/>\n",
       "     <use xlink:href=\"#m57d33e147c\" x=\"102.725117\" y=\"183.698075\" style=\"fill: #4c72b0; stroke: #333333\"/>\n",
       "     <use xlink:href=\"#m57d33e147c\" x=\"98.070405\" y=\"217.081515\" style=\"fill: #4c72b0; stroke: #333333\"/>\n",
       "     <use xlink:href=\"#m57d33e147c\" x=\"243.976217\" y=\"79.994285\" style=\"fill: #4c72b0; stroke: #333333\"/>\n",
       "     <use xlink:href=\"#m57d33e147c\" x=\"96.804258\" y=\"198.162805\" style=\"fill: #4c72b0; stroke: #333333\"/>\n",
       "     <use xlink:href=\"#m57d33e147c\" x=\"108.075554\" y=\"208.98035\" style=\"fill: #4c72b0; stroke: #333333\"/>\n",
       "     <use xlink:href=\"#m57d33e147c\" x=\"101.500291\" y=\"203.405235\" style=\"fill: #4c72b0; stroke: #333333\"/>\n",
       "     <use xlink:href=\"#m57d33e147c\" x=\"118.812076\" y=\"190.651062\" style=\"fill: #4c72b0; stroke: #333333\"/>\n",
       "     <use xlink:href=\"#m57d33e147c\" x=\"269.801212\" y=\"79.187508\" style=\"fill: #4c72b0; stroke: #333333\"/>\n",
       "     <use xlink:href=\"#m57d33e147c\" x=\"251.730254\" y=\"66.379297\" style=\"fill: #4c72b0; stroke: #333333\"/>\n",
       "     <use xlink:href=\"#m57d33e147c\" x=\"86.491523\" y=\"211.650235\" style=\"fill: #4c72b0; stroke: #333333\"/>\n",
       "     <use xlink:href=\"#m57d33e147c\" x=\"209.458287\" y=\"75.93264\" style=\"fill: #4c72b0; stroke: #333333\"/>\n",
       "     <use xlink:href=\"#m57d33e147c\" x=\"228.712978\" y=\"66.823194\" style=\"fill: #4c72b0; stroke: #333333\"/>\n",
       "     <use xlink:href=\"#m57d33e147c\" x=\"244.24481\" y=\"43.57257\" style=\"fill: #4c72b0; stroke: #333333\"/>\n",
       "     <use xlink:href=\"#m57d33e147c\" x=\"252.832157\" y=\"76.621741\" style=\"fill: #4c72b0; stroke: #333333\"/>\n",
       "     <use xlink:href=\"#m57d33e147c\" x=\"96.722715\" y=\"186.898344\" style=\"fill: #4c72b0; stroke: #333333\"/>\n",
       "     <use xlink:href=\"#m57d33e147c\" x=\"75.843797\" y=\"211.649998\" style=\"fill: #4c72b0; stroke: #333333\"/>\n",
       "     <use xlink:href=\"#m57d33e147c\" x=\"83.276228\" y=\"205.493102\" style=\"fill: #4c72b0; stroke: #333333\"/>\n",
       "     <use xlink:href=\"#m57d33e147c\" x=\"103.027129\" y=\"213.65891\" style=\"fill: #4c72b0; stroke: #333333\"/>\n",
       "     <use xlink:href=\"#m57d33e147c\" x=\"256.061207\" y=\"67.939723\" style=\"fill: #4c72b0; stroke: #333333\"/>\n",
       "     <use xlink:href=\"#m57d33e147c\" x=\"127.412645\" y=\"179.925967\" style=\"fill: #4c72b0; stroke: #333333\"/>\n",
       "     <use xlink:href=\"#m57d33e147c\" x=\"235.910657\" y=\"55.759832\" style=\"fill: #4c72b0; stroke: #333333\"/>\n",
       "     <use xlink:href=\"#m57d33e147c\" x=\"248.528417\" y=\"50.410422\" style=\"fill: #4c72b0; stroke: #333333\"/>\n",
       "     <use xlink:href=\"#m57d33e147c\" x=\"235.622244\" y=\"59.182251\" style=\"fill: #4c72b0; stroke: #333333\"/>\n",
       "     <use xlink:href=\"#m57d33e147c\" x=\"74.306614\" y=\"204.323256\" style=\"fill: #4c72b0; stroke: #333333\"/>\n",
       "     <use xlink:href=\"#m57d33e147c\" x=\"69.170298\" y=\"204.775561\" style=\"fill: #4c72b0; stroke: #333333\"/>\n",
       "     <use xlink:href=\"#m57d33e147c\" x=\"244.595292\" y=\"81.511957\" style=\"fill: #4c72b0; stroke: #333333\"/>\n",
       "     <use xlink:href=\"#m57d33e147c\" x=\"84.431631\" y=\"196.784094\" style=\"fill: #4c72b0; stroke: #333333\"/>\n",
       "     <use xlink:href=\"#m57d33e147c\" x=\"231.61203\" y=\"84.987849\" style=\"fill: #4c72b0; stroke: #333333\"/>\n",
       "     <use xlink:href=\"#m57d33e147c\" x=\"267.14238\" y=\"68.374288\" style=\"fill: #4c72b0; stroke: #333333\"/>\n",
       "     <use xlink:href=\"#m57d33e147c\" x=\"90.854147\" y=\"211.332627\" style=\"fill: #4c72b0; stroke: #333333\"/>\n",
       "     <use xlink:href=\"#m57d33e147c\" x=\"262.631098\" y=\"72.204525\" style=\"fill: #4c72b0; stroke: #333333\"/>\n",
       "     <use xlink:href=\"#m57d33e147c\" x=\"247.557481\" y=\"64.656034\" style=\"fill: #4c72b0; stroke: #333333\"/>\n",
       "     <use xlink:href=\"#m57d33e147c\" x=\"141.776921\" y=\"188.491357\" style=\"fill: #4c72b0; stroke: #333333\"/>\n",
       "     <use xlink:href=\"#m57d33e147c\" x=\"237.618441\" y=\"81.722944\" style=\"fill: #4c72b0; stroke: #333333\"/>\n",
       "     <use xlink:href=\"#m57d33e147c\" x=\"75.674232\" y=\"200.833713\" style=\"fill: #4c72b0; stroke: #333333\"/>\n",
       "     <use xlink:href=\"#m57d33e147c\" x=\"230.301022\" y=\"83.420582\" style=\"fill: #4c72b0; stroke: #333333\"/>\n",
       "     <use xlink:href=\"#m57d33e147c\" x=\"122.141642\" y=\"191.69695\" style=\"fill: #4c72b0; stroke: #333333\"/>\n",
       "     <use xlink:href=\"#m57d33e147c\" x=\"239.310676\" y=\"48.910754\" style=\"fill: #4c72b0; stroke: #333333\"/>\n",
       "     <use xlink:href=\"#m57d33e147c\" x=\"83.704763\" y=\"206.139234\" style=\"fill: #4c72b0; stroke: #333333\"/>\n",
       "     <use xlink:href=\"#m57d33e147c\" x=\"240.107725\" y=\"80.044393\" style=\"fill: #4c72b0; stroke: #333333\"/>\n",
       "     <use xlink:href=\"#m57d33e147c\" x=\"102.15442\" y=\"204.251722\" style=\"fill: #4c72b0; stroke: #333333\"/>\n",
       "     <use xlink:href=\"#m57d33e147c\" x=\"105.405857\" y=\"216.745049\" style=\"fill: #4c72b0; stroke: #333333\"/>\n",
       "     <use xlink:href=\"#m57d33e147c\" x=\"240.824583\" y=\"58.726277\" style=\"fill: #4c72b0; stroke: #333333\"/>\n",
       "     <use xlink:href=\"#m57d33e147c\" x=\"74.78598\" y=\"196.254439\" style=\"fill: #4c72b0; stroke: #333333\"/>\n",
       "     <use xlink:href=\"#m57d33e147c\" x=\"230.074568\" y=\"61.161953\" style=\"fill: #4c72b0; stroke: #333333\"/>\n",
       "     <use xlink:href=\"#m57d33e147c\" x=\"228.654761\" y=\"93.165744\" style=\"fill: #4c72b0; stroke: #333333\"/>\n",
       "     <use xlink:href=\"#m57d33e147c\" x=\"238.490871\" y=\"85.164853\" style=\"fill: #4c72b0; stroke: #333333\"/>\n",
       "     <use xlink:href=\"#m57d33e147c\" x=\"112.535922\" y=\"211.347092\" style=\"fill: #4c72b0; stroke: #333333\"/>\n",
       "     <use xlink:href=\"#m57d33e147c\" x=\"110.129012\" y=\"218.79492\" style=\"fill: #4c72b0; stroke: #333333\"/>\n",
       "     <use xlink:href=\"#m57d33e147c\" x=\"105.813408\" y=\"184.15328\" style=\"fill: #4c72b0; stroke: #333333\"/>\n",
       "     <use xlink:href=\"#m57d33e147c\" x=\"204.552098\" y=\"79.585584\" style=\"fill: #4c72b0; stroke: #333333\"/>\n",
       "     <use xlink:href=\"#m57d33e147c\" x=\"244.659455\" y=\"76.986596\" style=\"fill: #4c72b0; stroke: #333333\"/>\n",
       "    </g>\n",
       "   </g>\n",
       "   <g id=\"PathCollection_2\">\n",
       "    <defs>\n",
       "     <path id=\"mf176b92d7f\" d=\"M 0 3 \n",
       "C 0.795609 3 1.55874 2.683901 2.12132 2.12132 \n",
       "C 2.683901 1.55874 3 0.795609 3 0 \n",
       "C 3 -0.795609 2.683901 -1.55874 2.12132 -2.12132 \n",
       "C 1.55874 -2.683901 0.795609 -3 0 -3 \n",
       "C -0.795609 -3 -1.55874 -2.683901 -2.12132 -2.12132 \n",
       "C -2.683901 -1.55874 -3 -0.795609 -3 0 \n",
       "C -3 0.795609 -2.683901 1.55874 -2.12132 2.12132 \n",
       "C -1.55874 2.683901 -0.795609 3 0 3 \n",
       "z\n",
       "\" style=\"stroke: #333333\"/>\n",
       "    </defs>\n",
       "    <g clip-path=\"url(#pafe55541d0)\">\n",
       "     <use xlink:href=\"#mf176b92d7f\" x=\"88.744602\" y=\"65.720318\" style=\"fill: #dd8452; stroke: #333333\"/>\n",
       "     <use xlink:href=\"#mf176b92d7f\" x=\"124.661874\" y=\"62.465635\" style=\"fill: #dd8452; stroke: #333333\"/>\n",
       "     <use xlink:href=\"#mf176b92d7f\" x=\"84.58745\" y=\"58.245344\" style=\"fill: #dd8452; stroke: #333333\"/>\n",
       "     <use xlink:href=\"#mf176b92d7f\" x=\"251.021149\" y=\"178.020247\" style=\"fill: #dd8452; stroke: #333333\"/>\n",
       "     <use xlink:href=\"#mf176b92d7f\" x=\"226.873488\" y=\"214.565932\" style=\"fill: #dd8452; stroke: #333333\"/>\n",
       "     <use xlink:href=\"#mf176b92d7f\" x=\"238.335375\" y=\"198.978699\" style=\"fill: #dd8452; stroke: #333333\"/>\n",
       "     <use xlink:href=\"#mf176b92d7f\" x=\"246.099798\" y=\"204.556078\" style=\"fill: #dd8452; stroke: #333333\"/>\n",
       "     <use xlink:href=\"#mf176b92d7f\" x=\"227.476216\" y=\"223.983744\" style=\"fill: #dd8452; stroke: #333333\"/>\n",
       "     <use xlink:href=\"#mf176b92d7f\" x=\"240.244393\" y=\"218.973613\" style=\"fill: #dd8452; stroke: #333333\"/>\n",
       "     <use xlink:href=\"#mf176b92d7f\" x=\"113.618865\" y=\"54.651977\" style=\"fill: #dd8452; stroke: #333333\"/>\n",
       "     <use xlink:href=\"#mf176b92d7f\" x=\"78.901919\" y=\"81.484268\" style=\"fill: #dd8452; stroke: #333333\"/>\n",
       "     <use xlink:href=\"#mf176b92d7f\" x=\"105.605042\" y=\"61.927366\" style=\"fill: #dd8452; stroke: #333333\"/>\n",
       "     <use xlink:href=\"#mf176b92d7f\" x=\"246.689676\" y=\"151.668763\" style=\"fill: #dd8452; stroke: #333333\"/>\n",
       "     <use xlink:href=\"#mf176b92d7f\" x=\"87.435332\" y=\"72.039928\" style=\"fill: #dd8452; stroke: #333333\"/>\n",
       "     <use xlink:href=\"#mf176b92d7f\" x=\"232.575432\" y=\"202.471833\" style=\"fill: #dd8452; stroke: #333333\"/>\n",
       "     <use xlink:href=\"#mf176b92d7f\" x=\"91.680469\" y=\"54.178432\" style=\"fill: #dd8452; stroke: #333333\"/>\n",
       "     <use xlink:href=\"#mf176b92d7f\" x=\"99.245585\" y=\"83.369349\" style=\"fill: #dd8452; stroke: #333333\"/>\n",
       "     <use xlink:href=\"#mf176b92d7f\" x=\"88.034356\" y=\"65.93312\" style=\"fill: #dd8452; stroke: #333333\"/>\n",
       "     <use xlink:href=\"#mf176b92d7f\" x=\"98.981642\" y=\"77.628094\" style=\"fill: #dd8452; stroke: #333333\"/>\n",
       "     <use xlink:href=\"#mf176b92d7f\" x=\"128.586414\" y=\"60.308866\" style=\"fill: #dd8452; stroke: #333333\"/>\n",
       "     <use xlink:href=\"#mf176b92d7f\" x=\"230.086383\" y=\"192.090435\" style=\"fill: #dd8452; stroke: #333333\"/>\n",
       "     <use xlink:href=\"#mf176b92d7f\" x=\"221.634047\" y=\"191.208944\" style=\"fill: #dd8452; stroke: #333333\"/>\n",
       "     <use xlink:href=\"#mf176b92d7f\" x=\"128.279021\" y=\"54.939428\" style=\"fill: #dd8452; stroke: #333333\"/>\n",
       "     <use xlink:href=\"#mf176b92d7f\" x=\"226.345612\" y=\"204.376845\" style=\"fill: #dd8452; stroke: #333333\"/>\n",
       "     <use xlink:href=\"#mf176b92d7f\" x=\"193.693914\" y=\"217.376002\" style=\"fill: #dd8452; stroke: #333333\"/>\n",
       "     <use xlink:href=\"#mf176b92d7f\" x=\"121.369482\" y=\"88.117027\" style=\"fill: #dd8452; stroke: #333333\"/>\n",
       "     <use xlink:href=\"#mf176b92d7f\" x=\"92.13035\" y=\"67.087968\" style=\"fill: #dd8452; stroke: #333333\"/>\n",
       "     <use xlink:href=\"#mf176b92d7f\" x=\"259.757291\" y=\"222.919614\" style=\"fill: #dd8452; stroke: #333333\"/>\n",
       "     <use xlink:href=\"#mf176b92d7f\" x=\"255.833584\" y=\"203.437021\" style=\"fill: #dd8452; stroke: #333333\"/>\n",
       "     <use xlink:href=\"#mf176b92d7f\" x=\"225.575598\" y=\"197.349174\" style=\"fill: #dd8452; stroke: #333333\"/>\n",
       "     <use xlink:href=\"#mf176b92d7f\" x=\"101.147117\" y=\"76.935829\" style=\"fill: #dd8452; stroke: #333333\"/>\n",
       "     <use xlink:href=\"#mf176b92d7f\" x=\"240.407954\" y=\"208.766044\" style=\"fill: #dd8452; stroke: #333333\"/>\n",
       "     <use xlink:href=\"#mf176b92d7f\" x=\"261.799386\" y=\"220.251419\" style=\"fill: #dd8452; stroke: #333333\"/>\n",
       "     <use xlink:href=\"#mf176b92d7f\" x=\"231.108137\" y=\"192.128579\" style=\"fill: #dd8452; stroke: #333333\"/>\n",
       "     <use xlink:href=\"#mf176b92d7f\" x=\"252.115114\" y=\"199.434778\" style=\"fill: #dd8452; stroke: #333333\"/>\n",
       "     <use xlink:href=\"#mf176b92d7f\" x=\"86.642862\" y=\"76.396444\" style=\"fill: #dd8452; stroke: #333333\"/>\n",
       "     <use xlink:href=\"#mf176b92d7f\" x=\"116.364561\" y=\"76.81935\" style=\"fill: #dd8452; stroke: #333333\"/>\n",
       "     <use xlink:href=\"#mf176b92d7f\" x=\"106.057388\" y=\"71.573426\" style=\"fill: #dd8452; stroke: #333333\"/>\n",
       "     <use xlink:href=\"#mf176b92d7f\" x=\"95.267551\" y=\"54.046045\" style=\"fill: #dd8452; stroke: #333333\"/>\n",
       "     <use xlink:href=\"#mf176b92d7f\" x=\"249.044462\" y=\"207.754972\" style=\"fill: #dd8452; stroke: #333333\"/>\n",
       "     <use xlink:href=\"#mf176b92d7f\" x=\"243.996635\" y=\"205.328246\" style=\"fill: #dd8452; stroke: #333333\"/>\n",
       "     <use xlink:href=\"#mf176b92d7f\" x=\"99.707157\" y=\"60.83109\" style=\"fill: #dd8452; stroke: #333333\"/>\n",
       "     <use xlink:href=\"#mf176b92d7f\" x=\"227.879332\" y=\"175.385093\" style=\"fill: #dd8452; stroke: #333333\"/>\n",
       "     <use xlink:href=\"#mf176b92d7f\" x=\"84.145352\" y=\"85.20759\" style=\"fill: #dd8452; stroke: #333333\"/>\n",
       "     <use xlink:href=\"#mf176b92d7f\" x=\"253.180588\" y=\"205.556125\" style=\"fill: #dd8452; stroke: #333333\"/>\n",
       "     <use xlink:href=\"#mf176b92d7f\" x=\"245.24898\" y=\"211.169695\" style=\"fill: #dd8452; stroke: #333333\"/>\n",
       "     <use xlink:href=\"#mf176b92d7f\" x=\"86.738442\" y=\"65.566281\" style=\"fill: #dd8452; stroke: #333333\"/>\n",
       "     <use xlink:href=\"#mf176b92d7f\" x=\"77.908473\" y=\"87.8115\" style=\"fill: #dd8452; stroke: #333333\"/>\n",
       "     <use xlink:href=\"#mf176b92d7f\" x=\"110.43894\" y=\"71.004153\" style=\"fill: #dd8452; stroke: #333333\"/>\n",
       "     <use xlink:href=\"#mf176b92d7f\" x=\"239.161966\" y=\"207.463855\" style=\"fill: #dd8452; stroke: #333333\"/>\n",
       "     <use xlink:href=\"#mf176b92d7f\" x=\"246.750324\" y=\"182.924983\" style=\"fill: #dd8452; stroke: #333333\"/>\n",
       "     <use xlink:href=\"#mf176b92d7f\" x=\"240.801222\" y=\"213.989301\" style=\"fill: #dd8452; stroke: #333333\"/>\n",
       "     <use xlink:href=\"#mf176b92d7f\" x=\"239.768965\" y=\"196.865579\" style=\"fill: #dd8452; stroke: #333333\"/>\n",
       "     <use xlink:href=\"#mf176b92d7f\" x=\"129.233412\" y=\"79.739211\" style=\"fill: #dd8452; stroke: #333333\"/>\n",
       "     <use xlink:href=\"#mf176b92d7f\" x=\"85.663459\" y=\"62.221964\" style=\"fill: #dd8452; stroke: #333333\"/>\n",
       "     <use xlink:href=\"#mf176b92d7f\" x=\"220.796717\" y=\"178.900464\" style=\"fill: #dd8452; stroke: #333333\"/>\n",
       "     <use xlink:href=\"#mf176b92d7f\" x=\"256.063225\" y=\"209.89588\" style=\"fill: #dd8452; stroke: #333333\"/>\n",
       "     <use xlink:href=\"#mf176b92d7f\" x=\"74.169028\" y=\"50.609268\" style=\"fill: #dd8452; stroke: #333333\"/>\n",
       "     <use xlink:href=\"#mf176b92d7f\" x=\"239.497143\" y=\"202.941938\" style=\"fill: #dd8452; stroke: #333333\"/>\n",
       "     <use xlink:href=\"#mf176b92d7f\" x=\"233.07343\" y=\"195.183509\" style=\"fill: #dd8452; stroke: #333333\"/>\n",
       "     <use xlink:href=\"#mf176b92d7f\" x=\"100.035879\" y=\"61.918565\" style=\"fill: #dd8452; stroke: #333333\"/>\n",
       "     <use xlink:href=\"#mf176b92d7f\" x=\"249.462942\" y=\"218.726685\" style=\"fill: #dd8452; stroke: #333333\"/>\n",
       "     <use xlink:href=\"#mf176b92d7f\" x=\"76.694727\" y=\"51.635809\" style=\"fill: #dd8452; stroke: #333333\"/>\n",
       "     <use xlink:href=\"#mf176b92d7f\" x=\"120.223039\" y=\"67.290941\" style=\"fill: #dd8452; stroke: #333333\"/>\n",
       "     <use xlink:href=\"#mf176b92d7f\" x=\"84.725124\" y=\"59.606507\" style=\"fill: #dd8452; stroke: #333333\"/>\n",
       "     <use xlink:href=\"#mf176b92d7f\" x=\"113.271419\" y=\"92.544081\" style=\"fill: #dd8452; stroke: #333333\"/>\n",
       "     <use xlink:href=\"#mf176b92d7f\" x=\"81.644755\" y=\"96.323036\" style=\"fill: #dd8452; stroke: #333333\"/>\n",
       "     <use xlink:href=\"#mf176b92d7f\" x=\"260.619075\" y=\"202.576641\" style=\"fill: #dd8452; stroke: #333333\"/>\n",
       "     <use xlink:href=\"#mf176b92d7f\" x=\"262.400398\" y=\"222.168374\" style=\"fill: #dd8452; stroke: #333333\"/>\n",
       "     <use xlink:href=\"#mf176b92d7f\" x=\"103.757261\" y=\"69.289859\" style=\"fill: #dd8452; stroke: #333333\"/>\n",
       "     <use xlink:href=\"#mf176b92d7f\" x=\"79.934655\" y=\"59.827178\" style=\"fill: #dd8452; stroke: #333333\"/>\n",
       "     <use xlink:href=\"#mf176b92d7f\" x=\"232.173291\" y=\"217.845195\" style=\"fill: #dd8452; stroke: #333333\"/>\n",
       "     <use xlink:href=\"#mf176b92d7f\" x=\"97.45439\" y=\"55.981179\" style=\"fill: #dd8452; stroke: #333333\"/>\n",
       "     <use xlink:href=\"#mf176b92d7f\" x=\"90.857583\" y=\"79.531396\" style=\"fill: #dd8452; stroke: #333333\"/>\n",
       "     <use xlink:href=\"#mf176b92d7f\" x=\"237.913128\" y=\"217.522242\" style=\"fill: #dd8452; stroke: #333333\"/>\n",
       "     <use xlink:href=\"#mf176b92d7f\" x=\"229.551115\" y=\"200.692032\" style=\"fill: #dd8452; stroke: #333333\"/>\n",
       "     <use xlink:href=\"#mf176b92d7f\" x=\"237.838386\" y=\"206.551911\" style=\"fill: #dd8452; stroke: #333333\"/>\n",
       "     <use xlink:href=\"#mf176b92d7f\" x=\"107.003632\" y=\"58.643806\" style=\"fill: #dd8452; stroke: #333333\"/>\n",
       "     <use xlink:href=\"#mf176b92d7f\" x=\"94.458142\" y=\"99.862127\" style=\"fill: #dd8452; stroke: #333333\"/>\n",
       "     <use xlink:href=\"#mf176b92d7f\" x=\"218.046165\" y=\"185.159603\" style=\"fill: #dd8452; stroke: #333333\"/>\n",
       "     <use xlink:href=\"#mf176b92d7f\" x=\"228.752224\" y=\"222.736273\" style=\"fill: #dd8452; stroke: #333333\"/>\n",
       "     <use xlink:href=\"#mf176b92d7f\" x=\"99.430241\" y=\"80.45307\" style=\"fill: #dd8452; stroke: #333333\"/>\n",
       "     <use xlink:href=\"#mf176b92d7f\" x=\"119.827609\" y=\"61.588874\" style=\"fill: #dd8452; stroke: #333333\"/>\n",
       "     <use xlink:href=\"#mf176b92d7f\" x=\"85.985081\" y=\"87.479215\" style=\"fill: #dd8452; stroke: #333333\"/>\n",
       "     <use xlink:href=\"#mf176b92d7f\" x=\"252.490084\" y=\"177.850174\" style=\"fill: #dd8452; stroke: #333333\"/>\n",
       "     <use xlink:href=\"#mf176b92d7f\" x=\"219.691543\" y=\"195.990255\" style=\"fill: #dd8452; stroke: #333333\"/>\n",
       "     <use xlink:href=\"#mf176b92d7f\" x=\"89.159138\" y=\"75.412199\" style=\"fill: #dd8452; stroke: #333333\"/>\n",
       "     <use xlink:href=\"#mf176b92d7f\" x=\"231.065401\" y=\"215.215047\" style=\"fill: #dd8452; stroke: #333333\"/>\n",
       "     <use xlink:href=\"#mf176b92d7f\" x=\"236.051975\" y=\"215.802084\" style=\"fill: #dd8452; stroke: #333333\"/>\n",
       "     <use xlink:href=\"#mf176b92d7f\" x=\"90.201347\" y=\"58.67233\" style=\"fill: #dd8452; stroke: #333333\"/>\n",
       "     <use xlink:href=\"#mf176b92d7f\" x=\"75.3766\" y=\"68.201541\" style=\"fill: #dd8452; stroke: #333333\"/>\n",
       "     <use xlink:href=\"#mf176b92d7f\" x=\"243.087439\" y=\"215.758339\" style=\"fill: #dd8452; stroke: #333333\"/>\n",
       "     <use xlink:href=\"#mf176b92d7f\" x=\"248.432703\" y=\"225.9598\" style=\"fill: #dd8452; stroke: #333333\"/>\n",
       "     <use xlink:href=\"#mf176b92d7f\" x=\"230.22676\" y=\"202.936306\" style=\"fill: #dd8452; stroke: #333333\"/>\n",
       "     <use xlink:href=\"#mf176b92d7f\" x=\"86.199598\" y=\"74.030318\" style=\"fill: #dd8452; stroke: #333333\"/>\n",
       "     <use xlink:href=\"#mf176b92d7f\" x=\"106.480285\" y=\"71.584917\" style=\"fill: #dd8452; stroke: #333333\"/>\n",
       "     <use xlink:href=\"#mf176b92d7f\" x=\"240.64481\" y=\"205.672256\" style=\"fill: #dd8452; stroke: #333333\"/>\n",
       "    </g>\n",
       "   </g>\n",
       "   <g id=\"patch_3\">\n",
       "    <path d=\"M 59.024844 239.758125 \n",
       "L 59.024844 22.318125 \n",
       "\" style=\"fill: none; stroke: #ffffff; stroke-width: 1.25; stroke-linejoin: miter; stroke-linecap: square\"/>\n",
       "   </g>\n",
       "   <g id=\"patch_4\">\n",
       "    <path d=\"M 282.224844 239.758125 \n",
       "L 282.224844 22.318125 \n",
       "\" style=\"fill: none; stroke: #ffffff; stroke-width: 1.25; stroke-linejoin: miter; stroke-linecap: square\"/>\n",
       "   </g>\n",
       "   <g id=\"patch_5\">\n",
       "    <path d=\"M 59.024844 239.758125 \n",
       "L 282.224844 239.758125 \n",
       "\" style=\"fill: none; stroke: #ffffff; stroke-width: 1.25; stroke-linejoin: miter; stroke-linecap: square\"/>\n",
       "   </g>\n",
       "   <g id=\"patch_6\">\n",
       "    <path d=\"M 59.024844 22.318125 \n",
       "L 282.224844 22.318125 \n",
       "\" style=\"fill: none; stroke: #ffffff; stroke-width: 1.25; stroke-linejoin: miter; stroke-linecap: square\"/>\n",
       "   </g>\n",
       "   <g id=\"text_14\">\n",
       "    <!-- Dataset samples -->\n",
       "    <g style=\"fill: #262626\" transform=\"translate(120.282031 16.318125)scale(0.12 -0.12)\">\n",
       "     <defs>\n",
       "      <path id=\"DejaVuSans-44\" d=\"M 1259 4147 \n",
       "L 1259 519 \n",
       "L 2022 519 \n",
       "Q 2988 519 3436 956 \n",
       "Q 3884 1394 3884 2338 \n",
       "Q 3884 3275 3436 3711 \n",
       "Q 2988 4147 2022 4147 \n",
       "L 1259 4147 \n",
       "z\n",
       "M 628 4666 \n",
       "L 1925 4666 \n",
       "Q 3281 4666 3915 4102 \n",
       "Q 4550 3538 4550 2338 \n",
       "Q 4550 1131 3912 565 \n",
       "Q 3275 0 1925 0 \n",
       "L 628 0 \n",
       "L 628 4666 \n",
       "z\n",
       "\" transform=\"scale(0.015625)\"/>\n",
       "      <path id=\"DejaVuSans-61\" d=\"M 2194 1759 \n",
       "Q 1497 1759 1228 1600 \n",
       "Q 959 1441 959 1056 \n",
       "Q 959 750 1161 570 \n",
       "Q 1363 391 1709 391 \n",
       "Q 2188 391 2477 730 \n",
       "Q 2766 1069 2766 1631 \n",
       "L 2766 1759 \n",
       "L 2194 1759 \n",
       "z\n",
       "M 3341 1997 \n",
       "L 3341 0 \n",
       "L 2766 0 \n",
       "L 2766 531 \n",
       "Q 2569 213 2275 61 \n",
       "Q 1981 -91 1556 -91 \n",
       "Q 1019 -91 701 211 \n",
       "Q 384 513 384 1019 \n",
       "Q 384 1609 779 1909 \n",
       "Q 1175 2209 1959 2209 \n",
       "L 2766 2209 \n",
       "L 2766 2266 \n",
       "Q 2766 2663 2505 2880 \n",
       "Q 2244 3097 1772 3097 \n",
       "Q 1472 3097 1187 3025 \n",
       "Q 903 2953 641 2809 \n",
       "L 641 3341 \n",
       "Q 956 3463 1253 3523 \n",
       "Q 1550 3584 1831 3584 \n",
       "Q 2591 3584 2966 3190 \n",
       "Q 3341 2797 3341 1997 \n",
       "z\n",
       "\" transform=\"scale(0.015625)\"/>\n",
       "      <path id=\"DejaVuSans-74\" d=\"M 1172 4494 \n",
       "L 1172 3500 \n",
       "L 2356 3500 \n",
       "L 2356 3053 \n",
       "L 1172 3053 \n",
       "L 1172 1153 \n",
       "Q 1172 725 1289 603 \n",
       "Q 1406 481 1766 481 \n",
       "L 2356 481 \n",
       "L 2356 0 \n",
       "L 1766 0 \n",
       "Q 1100 0 847 248 \n",
       "Q 594 497 594 1153 \n",
       "L 594 3053 \n",
       "L 172 3053 \n",
       "L 172 3500 \n",
       "L 594 3500 \n",
       "L 594 4494 \n",
       "L 1172 4494 \n",
       "z\n",
       "\" transform=\"scale(0.015625)\"/>\n",
       "      <path id=\"DejaVuSans-73\" d=\"M 2834 3397 \n",
       "L 2834 2853 \n",
       "Q 2591 2978 2328 3040 \n",
       "Q 2066 3103 1784 3103 \n",
       "Q 1356 3103 1142 2972 \n",
       "Q 928 2841 928 2578 \n",
       "Q 928 2378 1081 2264 \n",
       "Q 1234 2150 1697 2047 \n",
       "L 1894 2003 \n",
       "Q 2506 1872 2764 1633 \n",
       "Q 3022 1394 3022 966 \n",
       "Q 3022 478 2636 193 \n",
       "Q 2250 -91 1575 -91 \n",
       "Q 1294 -91 989 -36 \n",
       "Q 684 19 347 128 \n",
       "L 347 722 \n",
       "Q 666 556 975 473 \n",
       "Q 1284 391 1588 391 \n",
       "Q 1994 391 2212 530 \n",
       "Q 2431 669 2431 922 \n",
       "Q 2431 1156 2273 1281 \n",
       "Q 2116 1406 1581 1522 \n",
       "L 1381 1569 \n",
       "Q 847 1681 609 1914 \n",
       "Q 372 2147 372 2553 \n",
       "Q 372 3047 722 3315 \n",
       "Q 1072 3584 1716 3584 \n",
       "Q 2034 3584 2315 3537 \n",
       "Q 2597 3491 2834 3397 \n",
       "z\n",
       "\" transform=\"scale(0.015625)\"/>\n",
       "      <path id=\"DejaVuSans-65\" d=\"M 3597 1894 \n",
       "L 3597 1613 \n",
       "L 953 1613 \n",
       "Q 991 1019 1311 708 \n",
       "Q 1631 397 2203 397 \n",
       "Q 2534 397 2845 478 \n",
       "Q 3156 559 3463 722 \n",
       "L 3463 178 \n",
       "Q 3153 47 2828 -22 \n",
       "Q 2503 -91 2169 -91 \n",
       "Q 1331 -91 842 396 \n",
       "Q 353 884 353 1716 \n",
       "Q 353 2575 817 3079 \n",
       "Q 1281 3584 2069 3584 \n",
       "Q 2775 3584 3186 3129 \n",
       "Q 3597 2675 3597 1894 \n",
       "z\n",
       "M 3022 2063 \n",
       "Q 3016 2534 2758 2815 \n",
       "Q 2500 3097 2075 3097 \n",
       "Q 1594 3097 1305 2825 \n",
       "Q 1016 2553 972 2059 \n",
       "L 3022 2063 \n",
       "z\n",
       "\" transform=\"scale(0.015625)\"/>\n",
       "      <path id=\"DejaVuSans-20\" transform=\"scale(0.015625)\"/>\n",
       "      <path id=\"DejaVuSans-6d\" d=\"M 3328 2828 \n",
       "Q 3544 3216 3844 3400 \n",
       "Q 4144 3584 4550 3584 \n",
       "Q 5097 3584 5394 3201 \n",
       "Q 5691 2819 5691 2113 \n",
       "L 5691 0 \n",
       "L 5113 0 \n",
       "L 5113 2094 \n",
       "Q 5113 2597 4934 2840 \n",
       "Q 4756 3084 4391 3084 \n",
       "Q 3944 3084 3684 2787 \n",
       "Q 3425 2491 3425 1978 \n",
       "L 3425 0 \n",
       "L 2847 0 \n",
       "L 2847 2094 \n",
       "Q 2847 2600 2669 2842 \n",
       "Q 2491 3084 2119 3084 \n",
       "Q 1678 3084 1418 2786 \n",
       "Q 1159 2488 1159 1978 \n",
       "L 1159 0 \n",
       "L 581 0 \n",
       "L 581 3500 \n",
       "L 1159 3500 \n",
       "L 1159 2956 \n",
       "Q 1356 3278 1631 3431 \n",
       "Q 1906 3584 2284 3584 \n",
       "Q 2666 3584 2933 3390 \n",
       "Q 3200 3197 3328 2828 \n",
       "z\n",
       "\" transform=\"scale(0.015625)\"/>\n",
       "      <path id=\"DejaVuSans-70\" d=\"M 1159 525 \n",
       "L 1159 -1331 \n",
       "L 581 -1331 \n",
       "L 581 3500 \n",
       "L 1159 3500 \n",
       "L 1159 2969 \n",
       "Q 1341 3281 1617 3432 \n",
       "Q 1894 3584 2278 3584 \n",
       "Q 2916 3584 3314 3078 \n",
       "Q 3713 2572 3713 1747 \n",
       "Q 3713 922 3314 415 \n",
       "Q 2916 -91 2278 -91 \n",
       "Q 1894 -91 1617 61 \n",
       "Q 1341 213 1159 525 \n",
       "z\n",
       "M 3116 1747 \n",
       "Q 3116 2381 2855 2742 \n",
       "Q 2594 3103 2138 3103 \n",
       "Q 1681 3103 1420 2742 \n",
       "Q 1159 2381 1159 1747 \n",
       "Q 1159 1113 1420 752 \n",
       "Q 1681 391 2138 391 \n",
       "Q 2594 391 2855 752 \n",
       "Q 3116 1113 3116 1747 \n",
       "z\n",
       "\" transform=\"scale(0.015625)\"/>\n",
       "      <path id=\"DejaVuSans-6c\" d=\"M 603 4863 \n",
       "L 1178 4863 \n",
       "L 1178 0 \n",
       "L 603 0 \n",
       "L 603 4863 \n",
       "z\n",
       "\" transform=\"scale(0.015625)\"/>\n",
       "     </defs>\n",
       "     <use xlink:href=\"#DejaVuSans-44\"/>\n",
       "     <use xlink:href=\"#DejaVuSans-61\" x=\"77.001953\"/>\n",
       "     <use xlink:href=\"#DejaVuSans-74\" x=\"138.28125\"/>\n",
       "     <use xlink:href=\"#DejaVuSans-61\" x=\"177.490234\"/>\n",
       "     <use xlink:href=\"#DejaVuSans-73\" x=\"238.769531\"/>\n",
       "     <use xlink:href=\"#DejaVuSans-65\" x=\"290.869141\"/>\n",
       "     <use xlink:href=\"#DejaVuSans-74\" x=\"352.392578\"/>\n",
       "     <use xlink:href=\"#DejaVuSans-20\" x=\"391.601562\"/>\n",
       "     <use xlink:href=\"#DejaVuSans-73\" x=\"423.388672\"/>\n",
       "     <use xlink:href=\"#DejaVuSans-61\" x=\"475.488281\"/>\n",
       "     <use xlink:href=\"#DejaVuSans-6d\" x=\"536.767578\"/>\n",
       "     <use xlink:href=\"#DejaVuSans-70\" x=\"634.179688\"/>\n",
       "     <use xlink:href=\"#DejaVuSans-6c\" x=\"697.65625\"/>\n",
       "     <use xlink:href=\"#DejaVuSans-65\" x=\"725.439453\"/>\n",
       "     <use xlink:href=\"#DejaVuSans-73\" x=\"786.962891\"/>\n",
       "    </g>\n",
       "   </g>\n",
       "   <g id=\"legend_1\">\n",
       "    <g id=\"patch_7\">\n",
       "     <path d=\"M 199.891562 148.834063 \n",
       "L 274.524844 148.834063 \n",
       "Q 276.724844 148.834063 276.724844 146.634063 \n",
       "L 276.724844 115.442187 \n",
       "Q 276.724844 113.242188 274.524844 113.242188 \n",
       "L 199.891562 113.242188 \n",
       "Q 197.691562 113.242188 197.691562 115.442187 \n",
       "L 197.691562 146.634063 \n",
       "Q 197.691562 148.834063 199.891562 148.834063 \n",
       "z\n",
       "\" style=\"fill: #eaeaf2; opacity: 0.8; stroke: #cccccc; stroke-linejoin: miter\"/>\n",
       "    </g>\n",
       "    <g id=\"PathCollection_3\">\n",
       "     <g>\n",
       "      <use xlink:href=\"#m57d33e147c\" x=\"213.091562\" y=\"123.112969\" style=\"fill: #4c72b0; stroke: #333333\"/>\n",
       "     </g>\n",
       "    </g>\n",
       "    <g id=\"text_15\">\n",
       "     <!-- Class 0 -->\n",
       "     <g style=\"fill: #262626\" transform=\"translate(232.891562 126.000469)scale(0.11 -0.11)\">\n",
       "      <defs>\n",
       "       <path id=\"DejaVuSans-43\" d=\"M 4122 4306 \n",
       "L 4122 3641 \n",
       "Q 3803 3938 3442 4084 \n",
       "Q 3081 4231 2675 4231 \n",
       "Q 1875 4231 1450 3742 \n",
       "Q 1025 3253 1025 2328 \n",
       "Q 1025 1406 1450 917 \n",
       "Q 1875 428 2675 428 \n",
       "Q 3081 428 3442 575 \n",
       "Q 3803 722 4122 1019 \n",
       "L 4122 359 \n",
       "Q 3791 134 3420 21 \n",
       "Q 3050 -91 2638 -91 \n",
       "Q 1578 -91 968 557 \n",
       "Q 359 1206 359 2328 \n",
       "Q 359 3453 968 4101 \n",
       "Q 1578 4750 2638 4750 \n",
       "Q 3056 4750 3426 4639 \n",
       "Q 3797 4528 4122 4306 \n",
       "z\n",
       "\" transform=\"scale(0.015625)\"/>\n",
       "      </defs>\n",
       "      <use xlink:href=\"#DejaVuSans-43\"/>\n",
       "      <use xlink:href=\"#DejaVuSans-6c\" x=\"69.824219\"/>\n",
       "      <use xlink:href=\"#DejaVuSans-61\" x=\"97.607422\"/>\n",
       "      <use xlink:href=\"#DejaVuSans-73\" x=\"158.886719\"/>\n",
       "      <use xlink:href=\"#DejaVuSans-73\" x=\"210.986328\"/>\n",
       "      <use xlink:href=\"#DejaVuSans-20\" x=\"263.085938\"/>\n",
       "      <use xlink:href=\"#DejaVuSans-30\" x=\"294.873047\"/>\n",
       "     </g>\n",
       "    </g>\n",
       "    <g id=\"PathCollection_4\">\n",
       "     <g>\n",
       "      <use xlink:href=\"#mf176b92d7f\" x=\"213.091562\" y=\"139.258906\" style=\"fill: #dd8452; stroke: #333333\"/>\n",
       "     </g>\n",
       "    </g>\n",
       "    <g id=\"text_16\">\n",
       "     <!-- Class 1 -->\n",
       "     <g style=\"fill: #262626\" transform=\"translate(232.891562 142.146406)scale(0.11 -0.11)\">\n",
       "      <use xlink:href=\"#DejaVuSans-43\"/>\n",
       "      <use xlink:href=\"#DejaVuSans-6c\" x=\"69.824219\"/>\n",
       "      <use xlink:href=\"#DejaVuSans-61\" x=\"97.607422\"/>\n",
       "      <use xlink:href=\"#DejaVuSans-73\" x=\"158.886719\"/>\n",
       "      <use xlink:href=\"#DejaVuSans-73\" x=\"210.986328\"/>\n",
       "      <use xlink:href=\"#DejaVuSans-20\" x=\"263.085938\"/>\n",
       "      <use xlink:href=\"#DejaVuSans-31\" x=\"294.873047\"/>\n",
       "     </g>\n",
       "    </g>\n",
       "   </g>\n",
       "  </g>\n",
       " </g>\n",
       " <defs>\n",
       "  <clipPath id=\"pafe55541d0\">\n",
       "   <rect x=\"59.024844\" y=\"22.318125\" width=\"223.2\" height=\"217.44\"/>\n",
       "  </clipPath>\n",
       " </defs>\n",
       "</svg>\n"
      ],
      "text/plain": [
       "<Figure size 288x288 with 1 Axes>"
      ]
     },
     "metadata": {},
     "output_type": "display_data"
    }
   ],
   "source": [
    "visualize_samples(dataset.data, dataset.label)\n",
    "plt.show()"
   ]
  },
  {
   "cell_type": "markdown",
   "metadata": {},
   "source": [
    "#### The data loader class\n",
    "\n",
    "The class `torch.utils.data.DataLoader` represents a Python iterable over a dataset with support for automatic batching, multi-process data loading and many more features. The data loader communicates with the dataset using the function `__getitem__`, and stacks its outputs as tensors over the first dimension to form a batch.\n",
    "In contrast to the dataset class, we usually don't have to define our own data loader class, but can just create an object of it with the dataset as input. Additionally, we can configure our data loader with the following input arguments (only a selection, see full list [here](https://pytorch.org/docs/stable/data.html#torch.utils.data.DataLoader)):\n",
    "\n",
    "* `batch_size`: Number of samples to stack per batch\n",
    "* `shuffle`: If True, the data is returned in a random order. This is important during training for introducing stochasticity. \n",
    "* `num_workers`: Number of subprocesses to use for data loading. The default, 0, means that the data will be loaded in the main process which can slow down training for datasets where loading a data point takes a considerable amount of time (e.g. large images). More workers are recommended for those, but can cause issues on Windows computers. For tiny datasets as ours, 0 workers are usually faster.\n",
    "* `persistent_workers`: If True, workers will not be shutdown after an iteration over the dataset has finished. This can be useful if the time per epoch is small, or if you face issues with workers being killed during training. \n",
    "* `drop_last`: If True, the last batch is dropped in case it is smaller than the specified batch size. This occurs when the dataset size is not a multiple of the batch size. Only potentially helpful during training to keep a consistent batch size.\n",
    "* `collate_fn`: A function that defines how the elements per batch are combined. By default, PyTorch stacks them as PyTorch tensors. For JAX, we will change it to NumPy arrays.\n",
    "\n",
    "Let's create a simple data loader below with a function that stacks batch elements as NumPy array instead of PyTorch Tensors:"
   ]
  },
  {
   "cell_type": "code",
   "execution_count": 40,
   "metadata": {},
   "outputs": [],
   "source": [
    "# This collate function is taken from the JAX tutorial with PyTorch Data Loading\n",
    "# https://jax.readthedocs.io/en/latest/notebooks/Neural_Network_and_Data_Loading.html\n",
    "def numpy_collate(batch):\n",
    "    if isinstance(batch[0], np.ndarray):\n",
    "        return np.stack(batch)\n",
    "    elif isinstance(batch[0], (tuple,list)):\n",
    "        transposed = zip(*batch)\n",
    "        return [numpy_collate(samples) for samples in transposed]\n",
    "    else:\n",
    "        return np.array(batch)\n",
    "\n",
    "data_loader = data.DataLoader(dataset, batch_size=8, shuffle=True, collate_fn=numpy_collate)"
   ]
  },
  {
   "cell_type": "code",
   "execution_count": 41,
   "metadata": {},
   "outputs": [
    {
     "name": "stdout",
     "output_type": "stream",
     "text": [
      "Data inputs (8, 2) \n",
      " [[-0.02750517  0.7698079 ]\n",
      " [ 1.0173181   1.0385318 ]\n",
      " [ 1.0097677  -0.07730098]\n",
      " [ 1.0519346   0.1532739 ]\n",
      " [ 0.97353435  1.2720169 ]\n",
      " [ 0.91161424  1.0153725 ]\n",
      " [-0.14480844  0.85925364]\n",
      " [ 1.0058209  -0.11429703]]\n",
      "Data labels (8,) \n",
      " [1 0 1 1 0 0 1 1]\n"
     ]
    }
   ],
   "source": [
    "# next(iter(...)) catches the first batch of the data loader\n",
    "# If shuffle is True, this will return a different batch every time we run this cell\n",
    "# For iterating over the whole dataset, we can simple use \"for batch in data_loader: ...\"\n",
    "data_inputs, data_labels = next(iter(data_loader))\n",
    "\n",
    "# The shape of the outputs are [batch_size, d_1,...,d_N] where d_1,...,d_N are the \n",
    "# dimensions of the data point returned from the dataset class\n",
    "print(\"Data inputs\", data_inputs.shape, \"\\n\", data_inputs)\n",
    "print(\"Data labels\", data_labels.shape, \"\\n\", data_labels)"
   ]
  },
  {
   "cell_type": "markdown",
   "metadata": {},
   "source": [
    "### Optimization\n",
    "\n",
    "After defining the model and the dataset, it is time to prepare the optimization of the model. During training, we will perform the following steps:\n",
    "\n",
    "1. Get a batch from the data loader\n",
    "2. Obtain the predictions from the model for the batch\n",
    "3. Calculate the loss based on the difference between predictions and labels\n",
    "4. Backpropagation: calculate the gradients for every parameter with respect to the loss\n",
    "5. Update the parameters of the model in the direction of the gradients\n",
    "\n",
    "We have seen how we can do step 1, 2 and 4 in JAX and Flax. Now, we will look at step 3 and 5."
   ]
  },
  {
   "cell_type": "markdown",
   "metadata": {},
   "source": [
    "#### Stochastic Gradient Descent\n",
    "\n",
    "For updating the parameters, Flax does not directly provide support for optimizers, but instead refers to another package called `optax` ([documentation](https://optax.readthedocs.io/en/latest/index.html)). Optax is an optimization library for JAX, which offers most common deep learning optimizers (SGD, Adam, Adagrad, RMSProp, etc.) and utilities (gradient clipping, weight decay, etc.)."
   ]
  },
  {
   "cell_type": "code",
   "execution_count": 42,
   "metadata": {},
   "outputs": [],
   "source": [
    "try:\n",
    "    import optax\n",
    "except ModuleNotFoundError: # Install optax if missing\n",
    "    !pip install --quiet optax\n",
    "    import optax"
   ]
  },
  {
   "cell_type": "markdown",
   "metadata": {},
   "source": [
    "For now, we will use the simplest optimizer, namely `optax.sgd`. Stochastic Gradient Descent updates parameters by multiplying the gradients with a small constant, called learning rate, and subtracting those from the parameters (hence minimizing the loss). Therefore, we slowly move towards the direction of minimizing the loss. A good default value of the learning rate for a small network as ours is 0.1. Remember that we again aim to write functional code. Hence, the optimizer does not take as input the parameters, but only the optimizer hyperparameters."
   ]
  },
  {
   "cell_type": "code",
   "execution_count": 43,
   "metadata": {},
   "outputs": [],
   "source": [
    "# Input to the optimizer are optimizer settings like learning rate\n",
    "optimizer = optax.sgd(learning_rate=0.1)"
   ]
  },
  {
   "cell_type": "markdown",
   "metadata": {},
   "source": [
    "Since JAX calculates gradients via function transformations, we do not have functions like `backward()`, `optimizer.step()` or `optimizer.backward()` as in PyTorch. Instead, a optimizer is a function on the parameters and gradients. To simplify this step and bundle important parts of the training procedure, Flax offers the `flax.training` package. As a first step, we can create a `TrainState` which bundles the parameters, the optimizer, and the forward step of the model:"
   ]
  },
  {
   "cell_type": "code",
   "execution_count": 44,
   "metadata": {},
   "outputs": [],
   "source": [
    "from flax.training import train_state\n",
    "\n",
    "model_state = train_state.TrainState.create(apply_fn=model.apply,\n",
    "                                            params=params,\n",
    "                                            tx=optimizer)"
   ]
  },
  {
   "cell_type": "markdown",
   "metadata": {},
   "source": [
    "With this state object, it is easier to handle the training."
   ]
  },
  {
   "cell_type": "markdown",
   "metadata": {},
   "source": [
    "#### Loss function\n",
    "\n",
    "For performing gradient updates, we need a function that can calculate the loss for a batch. Afterwards, we can apply JAX's gradient transformation to obtain a gradient function of it. In our setting, which is binary classification, we can use Binary Cross Entropy (BCE) which is defined as follows:\n",
    "\n",
    "$$\\mathcal{L}_{BCE} = -\\sum_i \\left[ y_i \\log x_i + (1 - y_i) \\log (1 - x_i) \\right]$$\n",
    "\n",
    "where $y$ are our labels, and $x$ our predictions, both in the range of $[0,1]$. Similar to PyTorch, Optax already provides a function for this: `optax.sigmoid_binary_cross_entropy(logits, labels)`. We calculate the loss on the logits instead of the sigmoid outputs for numerical stability. Let's write a function that takes as input a state (for the forward function), parameters, and a batch, and return the binary cross entropy loss and accuracy: "
   ]
  },
  {
   "cell_type": "code",
   "execution_count": 45,
   "metadata": {},
   "outputs": [],
   "source": [
    "def calculate_loss_acc(state, params, batch):\n",
    "    data_input, labels = batch\n",
    "    # Obtain the logits and predictions of the model for the input data\n",
    "    logits = state.apply_fn(params, data_input).squeeze(axis=-1)\n",
    "    pred_labels = (logits > 0).astype(jnp.float32)\n",
    "    # Calculate the loss and accuracy\n",
    "    loss = optax.sigmoid_binary_cross_entropy(logits, labels).mean()\n",
    "    acc = (pred_labels == labels).mean()\n",
    "    return loss, acc"
   ]
  },
  {
   "cell_type": "markdown",
   "metadata": {},
   "source": [
    "Note that we explicitly add the parameters here as an input argument since we want to calculate the gradients with respect to them later. An example execution of the function would look like:"
   ]
  },
  {
   "cell_type": "code",
   "execution_count": 46,
   "metadata": {},
   "outputs": [
    {
     "data": {
      "text/plain": [
       "(DeviceArray(0.74230754, dtype=float32), DeviceArray(0.625, dtype=float32))"
      ]
     },
     "execution_count": 46,
     "metadata": {},
     "output_type": "execute_result"
    }
   ],
   "source": [
    "batch = next(iter(data_loader))\n",
    "calculate_loss_acc(model_state, model_state.params, batch)"
   ]
  },
  {
   "cell_type": "markdown",
   "metadata": {},
   "source": [
    "### Creating an efficient training and validation step\n",
    "\n",
    "With this loss function and the optimizer, we are now ready to create an efficient training and validation/test step. First, let's consider the training. As input to each training step, we have a training state and a batch. We then want to calculate the loss for the input and take the gradients of it. Finally, we update the parameters with our optimizer and return the new state. All this can be summarized in the following function:"
   ]
  },
  {
   "cell_type": "code",
   "execution_count": 47,
   "metadata": {},
   "outputs": [],
   "source": [
    "@jax.jit  # Jit the function for efficiency\n",
    "def train_step(state, batch):\n",
    "    # Gradient function\n",
    "    grad_fn = jax.value_and_grad(calculate_loss_acc,  # Function to calculate the loss\n",
    "                                 argnums=1,  # Parameters are second argument of the function\n",
    "                                 has_aux=True  # Function has additional outputs, here accuracy\n",
    "                                )\n",
    "    # Determine gradients for current model, parameters and batch\n",
    "    (loss, acc), grads = grad_fn(state, state.params, batch)\n",
    "    # Perform parameter update with gradients and optimizer\n",
    "    state = state.apply_gradients(grads=grads)\n",
    "    # Return state and any other value we might want\n",
    "    return state, loss, acc"
   ]
  },
  {
   "cell_type": "markdown",
   "metadata": {},
   "source": [
    "By using the transformation `jax.jit`, the whole gradient calculation and application is optimized in XLA, providing an efficient function for updating the model.\n",
    "\n",
    "Next, let's look at the evaluation function. Here, we do not need to calculate gradients, but only want to get the accuracy of the model for the batch. This becomes a simpler version of the training step:"
   ]
  },
  {
   "cell_type": "code",
   "execution_count": 48,
   "metadata": {},
   "outputs": [],
   "source": [
    "@jax.jit  # Jit the function for efficiency\n",
    "def eval_step(state, batch):\n",
    "    # Determine the accuracy\n",
    "    _, acc = calculate_loss_acc(state, state.params, batch)\n",
    "    return acc"
   ]
  },
  {
   "cell_type": "markdown",
   "metadata": {},
   "source": [
    "These two functions provide us now efficient utilities to train our model."
   ]
  },
  {
   "cell_type": "markdown",
   "metadata": {},
   "source": [
    "### Training\n",
    "\n",
    "Finally, we are ready to train our model. As a first step, we create a slightly larger dataset and specify a data loader with a larger batch size. "
   ]
  },
  {
   "cell_type": "code",
   "execution_count": 49,
   "metadata": {},
   "outputs": [],
   "source": [
    "train_dataset = XORDataset(size=2500, seed=42)\n",
    "train_data_loader = data.DataLoader(train_dataset, batch_size=128, shuffle=True, collate_fn=numpy_collate)"
   ]
  },
  {
   "cell_type": "markdown",
   "metadata": {},
   "source": [
    "Now, we can write a small training function. In contrast to PyTorch, we do not need to explicitly push our model to GPU, since the parameters are already automatically created on GPU. Further, since the model itself is stateless, we do not have a `train()` or `eval()` function to switch between modes of e.g. dropout. When necessary, we can add an argument `train : bool` to the model forward pass. For this simple network here, however, this is not necessary.\n",
    "\n",
    "Following the PyTorch tutorial, let's write a function here that trains a model for several epochs:"
   ]
  },
  {
   "cell_type": "code",
   "execution_count": 50,
   "metadata": {},
   "outputs": [],
   "source": [
    "def train_model(state, data_loader, num_epochs=100):\n",
    "    # Training loop\n",
    "    for epoch in tqdm(range(num_epochs)):\n",
    "        for batch in data_loader:\n",
    "            state, loss, acc = train_step(state, batch)\n",
    "            # We could use the loss and accuracy for logging here, e.g. in TensorBoard\n",
    "            # For simplicity, we skip this part here\n",
    "    return state"
   ]
  },
  {
   "cell_type": "code",
   "execution_count": 51,
   "metadata": {},
   "outputs": [
    {
     "data": {
      "application/vnd.jupyter.widget-view+json": {
       "model_id": "a6dc8a581fd343f3bbcb74bac5c0a506",
       "version_major": 2,
       "version_minor": 0
      },
      "text/plain": [
       "  0%|          | 0/100 [00:00<?, ?it/s]"
      ]
     },
     "metadata": {},
     "output_type": "display_data"
    },
    {
     "name": "stdout",
     "output_type": "stream",
     "text": [
      "--------------------------------------------------\n",
      "Epoch 1 Loss 0.6740288\n",
      "Epoch 1 Accuracy 0.6644072\n",
      "--------------------------------------------------\n",
      "Epoch 2 Loss 0.6507704\n",
      "Epoch 2 Accuracy 0.7089384\n",
      "--------------------------------------------------\n",
      "Epoch 3 Loss 0.6274554\n",
      "Epoch 3 Accuracy 0.75098807\n",
      "--------------------------------------------------\n",
      "Epoch 4 Loss 0.6024415\n",
      "Epoch 4 Accuracy 0.8163373\n",
      "--------------------------------------------------\n",
      "Epoch 5 Loss 0.5746927\n",
      "Epoch 5 Accuracy 0.9556985\n",
      "--------------------------------------------------\n",
      "Epoch 6 Loss 0.5431946\n",
      "Epoch 6 Accuracy 0.9832031\n",
      "--------------------------------------------------\n",
      "Epoch 7 Loss 0.510482\n",
      "Epoch 7 Accuracy 0.9910156\n",
      "--------------------------------------------------\n",
      "Epoch 8 Loss 0.47516033\n",
      "Epoch 8 Accuracy 0.99921876\n",
      "--------------------------------------------------\n",
      "Epoch 9 Loss 0.43944475\n",
      "Epoch 9 Accuracy 0.99921876\n",
      "--------------------------------------------------\n",
      "Epoch 10 Loss 0.40302706\n",
      "Epoch 10 Accuracy 1.0\n",
      "--------------------------------------------------\n",
      "Epoch 11 Loss 0.36801443\n",
      "Epoch 11 Accuracy 1.0\n",
      "--------------------------------------------------\n",
      "Epoch 12 Loss 0.33484146\n",
      "Epoch 12 Accuracy 1.0\n",
      "--------------------------------------------------\n",
      "Epoch 13 Loss 0.30400002\n",
      "Epoch 13 Accuracy 1.0\n",
      "--------------------------------------------------\n",
      "Epoch 14 Loss 0.27510548\n",
      "Epoch 14 Accuracy 1.0\n",
      "--------------------------------------------------\n",
      "Epoch 15 Loss 0.24959536\n",
      "Epoch 15 Accuracy 1.0\n",
      "--------------------------------------------------\n",
      "Epoch 16 Loss 0.2268366\n",
      "Epoch 16 Accuracy 1.0\n",
      "--------------------------------------------------\n",
      "Epoch 17 Loss 0.20678523\n",
      "Epoch 17 Accuracy 1.0\n",
      "--------------------------------------------------\n",
      "Epoch 18 Loss 0.18887141\n",
      "Epoch 18 Accuracy 1.0\n",
      "--------------------------------------------------\n",
      "Epoch 19 Loss 0.17271017\n",
      "Epoch 19 Accuracy 1.0\n",
      "--------------------------------------------------\n",
      "Epoch 20 Loss 0.158787\n",
      "Epoch 20 Accuracy 1.0\n",
      "--------------------------------------------------\n",
      "Epoch 21 Loss 0.14658643\n",
      "Epoch 21 Accuracy 1.0\n",
      "--------------------------------------------------\n",
      "Epoch 22 Loss 0.13565442\n",
      "Epoch 22 Accuracy 1.0\n",
      "--------------------------------------------------\n",
      "Epoch 23 Loss 0.12566692\n",
      "Epoch 23 Accuracy 1.0\n",
      "--------------------------------------------------\n",
      "Epoch 24 Loss 0.11688254\n",
      "Epoch 24 Accuracy 1.0\n",
      "--------------------------------------------------\n",
      "Epoch 25 Loss 0.109456174\n",
      "Epoch 25 Accuracy 1.0\n",
      "--------------------------------------------------\n",
      "Epoch 26 Loss 0.10219772\n",
      "Epoch 26 Accuracy 1.0\n",
      "--------------------------------------------------\n",
      "Epoch 27 Loss 0.096291885\n",
      "Epoch 27 Accuracy 1.0\n",
      "--------------------------------------------------\n",
      "Epoch 28 Loss 0.090798385\n",
      "Epoch 28 Accuracy 1.0\n",
      "--------------------------------------------------\n",
      "Epoch 29 Loss 0.08556251\n",
      "Epoch 29 Accuracy 1.0\n",
      "--------------------------------------------------\n",
      "Epoch 30 Loss 0.080838315\n",
      "Epoch 30 Accuracy 1.0\n",
      "--------------------------------------------------\n",
      "Epoch 31 Loss 0.07661762\n",
      "Epoch 31 Accuracy 1.0\n",
      "--------------------------------------------------\n",
      "Epoch 32 Loss 0.07283802\n",
      "Epoch 32 Accuracy 1.0\n",
      "--------------------------------------------------\n",
      "Epoch 33 Loss 0.06927343\n",
      "Epoch 33 Accuracy 1.0\n",
      "--------------------------------------------------\n",
      "Epoch 34 Loss 0.06604933\n",
      "Epoch 34 Accuracy 1.0\n",
      "--------------------------------------------------\n",
      "Epoch 35 Loss 0.063134305\n",
      "Epoch 35 Accuracy 1.0\n",
      "--------------------------------------------------\n",
      "Epoch 36 Loss 0.060505893\n",
      "Epoch 36 Accuracy 1.0\n",
      "--------------------------------------------------\n",
      "Epoch 37 Loss 0.058174457\n",
      "Epoch 37 Accuracy 1.0\n",
      "--------------------------------------------------\n",
      "Epoch 38 Loss 0.05560434\n",
      "Epoch 38 Accuracy 1.0\n",
      "--------------------------------------------------\n",
      "Epoch 39 Loss 0.05357805\n",
      "Epoch 39 Accuracy 1.0\n",
      "--------------------------------------------------\n",
      "Epoch 40 Loss 0.051354557\n",
      "Epoch 40 Accuracy 1.0\n",
      "--------------------------------------------------\n",
      "Epoch 41 Loss 0.049534157\n",
      "Epoch 41 Accuracy 1.0\n",
      "--------------------------------------------------\n",
      "Epoch 42 Loss 0.047550555\n",
      "Epoch 42 Accuracy 1.0\n",
      "--------------------------------------------------\n",
      "Epoch 43 Loss 0.045972787\n",
      "Epoch 43 Accuracy 1.0\n",
      "--------------------------------------------------\n",
      "Epoch 44 Loss 0.04437523\n",
      "Epoch 44 Accuracy 1.0\n",
      "--------------------------------------------------\n",
      "Epoch 45 Loss 0.0428556\n",
      "Epoch 45 Accuracy 1.0\n",
      "--------------------------------------------------\n",
      "Epoch 46 Loss 0.041489303\n",
      "Epoch 46 Accuracy 1.0\n",
      "--------------------------------------------------\n",
      "Epoch 47 Loss 0.04018935\n",
      "Epoch 47 Accuracy 1.0\n",
      "--------------------------------------------------\n",
      "Epoch 48 Loss 0.038948953\n",
      "Epoch 48 Accuracy 1.0\n",
      "--------------------------------------------------\n",
      "Epoch 49 Loss 0.037958313\n",
      "Epoch 49 Accuracy 1.0\n",
      "--------------------------------------------------\n",
      "Epoch 50 Loss 0.036670707\n",
      "Epoch 50 Accuracy 1.0\n",
      "--------------------------------------------------\n",
      "Epoch 51 Loss 0.035674434\n",
      "Epoch 51 Accuracy 1.0\n",
      "--------------------------------------------------\n",
      "Epoch 52 Loss 0.034689356\n",
      "Epoch 52 Accuracy 1.0\n",
      "--------------------------------------------------\n",
      "Epoch 53 Loss 0.03358396\n",
      "Epoch 53 Accuracy 1.0\n",
      "--------------------------------------------------\n",
      "Epoch 54 Loss 0.032811414\n",
      "Epoch 54 Accuracy 1.0\n",
      "--------------------------------------------------\n",
      "Epoch 55 Loss 0.032031137\n",
      "Epoch 55 Accuracy 1.0\n",
      "--------------------------------------------------\n",
      "Epoch 56 Loss 0.031210909\n",
      "Epoch 56 Accuracy 1.0\n",
      "--------------------------------------------------\n",
      "Epoch 57 Loss 0.030391607\n",
      "Epoch 57 Accuracy 1.0\n",
      "--------------------------------------------------\n",
      "Epoch 58 Loss 0.029650081\n",
      "Epoch 58 Accuracy 1.0\n",
      "--------------------------------------------------\n",
      "Epoch 59 Loss 0.028983548\n",
      "Epoch 59 Accuracy 1.0\n",
      "--------------------------------------------------\n",
      "Epoch 60 Loss 0.028262192\n",
      "Epoch 60 Accuracy 1.0\n",
      "--------------------------------------------------\n",
      "Epoch 61 Loss 0.02769621\n",
      "Epoch 61 Accuracy 1.0\n",
      "--------------------------------------------------\n",
      "Epoch 62 Loss 0.02702163\n",
      "Epoch 62 Accuracy 1.0\n",
      "--------------------------------------------------\n",
      "Epoch 63 Loss 0.026433198\n",
      "Epoch 63 Accuracy 1.0\n",
      "--------------------------------------------------\n",
      "Epoch 64 Loss 0.025859399\n",
      "Epoch 64 Accuracy 1.0\n",
      "--------------------------------------------------\n",
      "Epoch 65 Loss 0.025284072\n",
      "Epoch 65 Accuracy 1.0\n",
      "--------------------------------------------------\n",
      "Epoch 66 Loss 0.024819141\n",
      "Epoch 66 Accuracy 1.0\n",
      "--------------------------------------------------\n",
      "Epoch 67 Loss 0.024331518\n",
      "Epoch 67 Accuracy 1.0\n",
      "--------------------------------------------------\n",
      "Epoch 68 Loss 0.023769017\n",
      "Epoch 68 Accuracy 1.0\n",
      "--------------------------------------------------\n",
      "Epoch 69 Loss 0.023229126\n",
      "Epoch 69 Accuracy 1.0\n",
      "--------------------------------------------------\n",
      "Epoch 70 Loss 0.022794088\n",
      "Epoch 70 Accuracy 1.0\n",
      "--------------------------------------------------\n",
      "Epoch 71 Loss 0.022396667\n",
      "Epoch 71 Accuracy 1.0\n",
      "--------------------------------------------------\n",
      "Epoch 72 Loss 0.022041304\n",
      "Epoch 72 Accuracy 1.0\n",
      "--------------------------------------------------\n",
      "Epoch 73 Loss 0.021578012\n",
      "Epoch 73 Accuracy 1.0\n",
      "--------------------------------------------------\n",
      "Epoch 74 Loss 0.021214424\n",
      "Epoch 74 Accuracy 1.0\n",
      "--------------------------------------------------\n",
      "Epoch 75 Loss 0.020855611\n",
      "Epoch 75 Accuracy 1.0\n",
      "--------------------------------------------------\n",
      "Epoch 76 Loss 0.020358844\n",
      "Epoch 76 Accuracy 1.0\n",
      "--------------------------------------------------\n",
      "Epoch 77 Loss 0.02014512\n",
      "Epoch 77 Accuracy 1.0\n",
      "--------------------------------------------------\n",
      "Epoch 78 Loss 0.019725276\n",
      "Epoch 78 Accuracy 1.0\n",
      "--------------------------------------------------\n",
      "Epoch 79 Loss 0.01935347\n",
      "Epoch 79 Accuracy 1.0\n",
      "--------------------------------------------------\n",
      "Epoch 80 Loss 0.019024925\n",
      "Epoch 80 Accuracy 1.0\n",
      "--------------------------------------------------\n",
      "Epoch 81 Loss 0.0187983\n",
      "Epoch 81 Accuracy 1.0\n",
      "--------------------------------------------------\n",
      "Epoch 82 Loss 0.01849833\n",
      "Epoch 82 Accuracy 1.0\n",
      "--------------------------------------------------\n",
      "Epoch 83 Loss 0.01820872\n",
      "Epoch 83 Accuracy 1.0\n",
      "--------------------------------------------------\n",
      "Epoch 84 Loss 0.01791539\n",
      "Epoch 84 Accuracy 1.0\n",
      "--------------------------------------------------\n",
      "Epoch 85 Loss 0.017629957\n",
      "Epoch 85 Accuracy 1.0\n",
      "--------------------------------------------------\n",
      "Epoch 86 Loss 0.0172962\n",
      "Epoch 86 Accuracy 1.0\n",
      "--------------------------------------------------\n",
      "Epoch 87 Loss 0.017101081\n",
      "Epoch 87 Accuracy 1.0\n",
      "--------------------------------------------------\n",
      "Epoch 88 Loss 0.016808636\n",
      "Epoch 88 Accuracy 1.0\n",
      "--------------------------------------------------\n",
      "Epoch 89 Loss 0.016603688\n",
      "Epoch 89 Accuracy 1.0\n",
      "--------------------------------------------------\n",
      "Epoch 90 Loss 0.016330771\n",
      "Epoch 90 Accuracy 1.0\n"
     ]
    },
    {
     "name": "stdout",
     "output_type": "stream",
     "text": [
      "--------------------------------------------------\n",
      "Epoch 91 Loss 0.01609065\n",
      "Epoch 91 Accuracy 1.0\n",
      "--------------------------------------------------\n",
      "Epoch 92 Loss 0.01594658\n",
      "Epoch 92 Accuracy 1.0\n",
      "--------------------------------------------------\n",
      "Epoch 93 Loss 0.015646404\n",
      "Epoch 93 Accuracy 1.0\n",
      "--------------------------------------------------\n",
      "Epoch 94 Loss 0.015470422\n",
      "Epoch 94 Accuracy 1.0\n",
      "--------------------------------------------------\n",
      "Epoch 95 Loss 0.015210286\n",
      "Epoch 95 Accuracy 1.0\n",
      "--------------------------------------------------\n",
      "Epoch 96 Loss 0.015016991\n",
      "Epoch 96 Accuracy 1.0\n",
      "--------------------------------------------------\n",
      "Epoch 97 Loss 0.01483118\n",
      "Epoch 97 Accuracy 1.0\n",
      "--------------------------------------------------\n",
      "Epoch 98 Loss 0.014631343\n",
      "Epoch 98 Accuracy 1.0\n",
      "--------------------------------------------------\n",
      "Epoch 99 Loss 0.014413205\n",
      "Epoch 99 Accuracy 1.0\n",
      "--------------------------------------------------\n",
      "Epoch 100 Loss 0.014280112\n",
      "Epoch 100 Accuracy 1.0\n"
     ]
    }
   ],
   "source": [
    "trained_model_state = train_model(model_state, train_data_loader, num_epochs=100)"
   ]
  },
  {
   "cell_type": "markdown",
   "metadata": {},
   "source": [
    "Training this model for 100 epochs does take barely a second... This shows the impressive speed JAX can reach, especially for small models!"
   ]
  },
  {
   "cell_type": "markdown",
   "metadata": {},
   "source": [
    "#### Saving a model\n",
    "\n",
    "After we finished training a model, we save the model to disk so that we can load the same weights at a later time. In JAX, this means we want to save the `state.params` dictionary. Luckily, the `flax.training` package again provides us with nice utilities for that, which uses TensorFlow as underlying framework."
   ]
  },
  {
   "cell_type": "code",
   "execution_count": 52,
   "metadata": {},
   "outputs": [],
   "source": [
    "from flax.training import checkpoints"
   ]
  },
  {
   "cell_type": "markdown",
   "metadata": {},
   "source": [
    "To save the whole model state, we can write:"
   ]
  },
  {
   "cell_type": "code",
   "execution_count": 53,
   "metadata": {},
   "outputs": [
    {
     "data": {
      "text/plain": [
       "'my_checkpoints/my_model100'"
      ]
     },
     "execution_count": 53,
     "metadata": {},
     "output_type": "execute_result"
    }
   ],
   "source": [
    "checkpoints.save_checkpoint(ckpt_dir='my_checkpoints/',  # Folder to save checkpoint in\n",
    "                            target=trained_model_state,  # What to save. To only save parameters, use model_state.params\n",
    "                            step=100,  # Training step or other metric to save best model on\n",
    "                            prefix='my_model',  # Checkpoint file name prefix\n",
    "                            overwrite=True   # Overwrite existing checkpoint files\n",
    "                           )"
   ]
  },
  {
   "cell_type": "markdown",
   "metadata": {},
   "source": [
    "To load this state dict again, we can use `checkpoints.restore_checkpoint`:"
   ]
  },
  {
   "cell_type": "code",
   "execution_count": 54,
   "metadata": {},
   "outputs": [],
   "source": [
    "loaded_model_state = checkpoints.restore_checkpoint(\n",
    "                                             ckpt_dir='my_checkpoints/',   # Folder with the checkpoints\n",
    "                                             target=model_state,   # (optional) matching object to rebuild state in\n",
    "                                             prefix='my_model'  # Checkpoint file name prefix\n",
    "                                            )"
   ]
  },
  {
   "cell_type": "markdown",
   "metadata": {},
   "source": [
    "The states `loaded_model_state` and `trained_model_state` have the identical parameter values."
   ]
  },
  {
   "cell_type": "markdown",
   "metadata": {},
   "source": [
    "### Evaluation\n",
    "\n",
    "Once we have trained a model, it is time to evaluate it on a held-out test set. As our dataset consist of randomly generated data points, we need to first create a test set with a corresponding data loader."
   ]
  },
  {
   "cell_type": "code",
   "execution_count": 55,
   "metadata": {},
   "outputs": [],
   "source": [
    "test_dataset = XORDataset(size=500, seed=123)\n",
    "# drop_last -> Don't drop the last batch although it is smaller than 128\n",
    "test_data_loader = data.DataLoader(test_dataset, \n",
    "                                   batch_size=128, \n",
    "                                   shuffle=False, \n",
    "                                   drop_last=False, \n",
    "                                   collate_fn=numpy_collate) "
   ]
  },
  {
   "cell_type": "markdown",
   "metadata": {},
   "source": [
    "We can use our `eval_step` function to efficiently evaluate our model:"
   ]
  },
  {
   "cell_type": "code",
   "execution_count": 56,
   "metadata": {},
   "outputs": [],
   "source": [
    "def eval_model(state, data_loader):\n",
    "    all_accs, batch_sizes = [], []\n",
    "    for batch in data_loader:\n",
    "        batch_acc = eval_step(state, batch)\n",
    "        all_accs.append(batch_acc)\n",
    "        batch_sizes.append(batch[0].shape[0])\n",
    "    print(all_accs, batch_sizes)\n",
    "    # Weighted average since some batches might be smaller\n",
    "    acc = sum([a*b for a,b in zip(all_accs, batch_sizes)]) / sum(batch_sizes)\n",
    "    print(f\"Accuracy of the model: {100.0*acc:4.2f}%\")"
   ]
  },
  {
   "cell_type": "code",
   "execution_count": 57,
   "metadata": {},
   "outputs": [
    {
     "name": "stdout",
     "output_type": "stream",
     "text": [
      "[DeviceArray(1., dtype=float32), DeviceArray(1., dtype=float32), DeviceArray(1., dtype=float32), DeviceArray(1., dtype=float32)] [128, 128, 128, 116]\n",
      "Accuracy of the model: 100.00%\n"
     ]
    }
   ],
   "source": [
    "eval_model(trained_model_state, test_data_loader)"
   ]
  },
  {
   "cell_type": "markdown",
   "metadata": {},
   "source": [
    "If we trained our model correctly, we should see a score close to 100% accuracy. However, this is only possible because of our simple task, and unfortunately, we usually don't get such high scores on test sets of more complex tasks."
   ]
  },
  {
   "cell_type": "markdown",
   "metadata": {},
   "source": [
    "#### Visualizing classification boundaries\n",
    "\n",
    "To visualize what our model has learned, we can perform a prediction for every data point in a range of $[-0.5, 1.5]$, and visualize the predicted class as in the sample figure at the beginning of this section. This shows where the model has created decision boundaries, and which points would be classified as $0$, and which as $1$. We therefore get a background image out of blue (class 0) and orange (class 1). The spots where the model is uncertain we will see a blurry overlap. The specific code is less relevant compared to the output figure which should hopefully show us a clear separation of classes:"
   ]
  },
  {
   "cell_type": "code",
   "execution_count": 58,
   "metadata": {},
   "outputs": [
    {
     "data": {
      "application/pdf": "[encoded data removed]",
      "image/svg+xml": [
       "<?xml version=\"1.0\" encoding=\"utf-8\" standalone=\"no\"?>\n",
       "<!DOCTYPE svg PUBLIC \"-//W3C//DTD SVG 1.1//EN\"\n",
       "  \"http://www.w3.org/Graphics/SVG/1.1/DTD/svg11.dtd\">\n",
       "<svg xmlns:xlink=\"http://www.w3.org/1999/xlink\" width=\"299.410312pt\" height=\"282.717813pt\" viewBox=\"0 0 299.410312 282.717813\" xmlns=\"http://www.w3.org/2000/svg\" version=\"1.1\">\n",
       " <metadata>\n",
       "  <rdf:RDF xmlns:dc=\"http://purl.org/dc/elements/1.1/\" xmlns:cc=\"http://creativecommons.org/ns#\" xmlns:rdf=\"http://www.w3.org/1999/02/22-rdf-syntax-ns#\">\n",
       "   <cc:Work>\n",
       "    <dc:type rdf:resource=\"http://purl.org/dc/dcmitype/StillImage\"/>\n",
       "    <dc:date>2022-06-08T15:50:42.077619</dc:date>\n",
       "    <dc:format>image/svg+xml</dc:format>\n",
       "    <dc:creator>\n",
       "     <cc:Agent>\n",
       "      <dc:title>Matplotlib v3.5.1, https://matplotlib.org/</dc:title>\n",
       "     </cc:Agent>\n",
       "    </dc:creator>\n",
       "   </cc:Work>\n",
       "  </rdf:RDF>\n",
       " </metadata>\n",
       " <defs>\n",
       "  <style type=\"text/css\">*{stroke-linejoin: round; stroke-linecap: butt}</style>\n",
       " </defs>\n",
       " <g id=\"figure_1\">\n",
       "  <g id=\"patch_1\">\n",
       "   <path d=\"M 0 282.717813 \n",
       "L 299.410312 282.717813 \n",
       "L 299.410312 0 \n",
       "L 0 0 \n",
       "z\n",
       "\" style=\"fill: #ffffff\"/>\n",
       "  </g>\n",
       "  <g id=\"axes_1\">\n",
       "   <g id=\"patch_2\">\n",
       "    <path d=\"M 66.023594 239.758125 \n",
       "L 283.463594 239.758125 \n",
       "L 283.463594 22.318125 \n",
       "L 66.023594 22.318125 \n",
       "z\n",
       "\" style=\"fill: #eaeaf2\"/>\n",
       "   </g>\n",
       "   <g clip-path=\"url(#pe79691eb7b)\">\n",
       "    <image xlink:href=\"data:image/png;base64,\n",
       "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\" id=\"image7cd77e6935\" transform=\"scale(1 -1)translate(0 -217.584)\" x=\"66.023594\" y=\"-22.174125\" width=\"217.44\" height=\"217.584\"/>\n",
       "   </g>\n",
       "   <g id=\"matplotlib.axis_1\">\n",
       "    <g id=\"xtick_1\">\n",
       "     <g id=\"text_1\">\n",
       "      <!-- −0.5 -->\n",
       "      <g style=\"fill: #262626\" transform=\"translate(52.668047 257.616406)scale(0.11 -0.11)\">\n",
       "       <defs>\n",
       "        <path id=\"DejaVuSans-2212\" d=\"M 678 2272 \n",
       "L 4684 2272 \n",
       "L 4684 1741 \n",
       "L 678 1741 \n",
       "L 678 2272 \n",
       "z\n",
       "\" transform=\"scale(0.015625)\"/>\n",
       "        <path id=\"DejaVuSans-30\" d=\"M 2034 4250 \n",
       "Q 1547 4250 1301 3770 \n",
       "Q 1056 3291 1056 2328 \n",
       "Q 1056 1369 1301 889 \n",
       "Q 1547 409 2034 409 \n",
       "Q 2525 409 2770 889 \n",
       "Q 3016 1369 3016 2328 \n",
       "Q 3016 3291 2770 3770 \n",
       "Q 2525 4250 2034 4250 \n",
       "z\n",
       "M 2034 4750 \n",
       "Q 2819 4750 3233 4129 \n",
       "Q 3647 3509 3647 2328 \n",
       "Q 3647 1150 3233 529 \n",
       "Q 2819 -91 2034 -91 \n",
       "Q 1250 -91 836 529 \n",
       "Q 422 1150 422 2328 \n",
       "Q 422 3509 836 4129 \n",
       "Q 1250 4750 2034 4750 \n",
       "z\n",
       "\" transform=\"scale(0.015625)\"/>\n",
       "        <path id=\"DejaVuSans-2e\" d=\"M 684 794 \n",
       "L 1344 794 \n",
       "L 1344 0 \n",
       "L 684 0 \n",
       "L 684 794 \n",
       "z\n",
       "\" transform=\"scale(0.015625)\"/>\n",
       "        <path id=\"DejaVuSans-35\" d=\"M 691 4666 \n",
       "L 3169 4666 \n",
       "L 3169 4134 \n",
       "L 1269 4134 \n",
       "L 1269 2991 \n",
       "Q 1406 3038 1543 3061 \n",
       "Q 1681 3084 1819 3084 \n",
       "Q 2600 3084 3056 2656 \n",
       "Q 3513 2228 3513 1497 \n",
       "Q 3513 744 3044 326 \n",
       "Q 2575 -91 1722 -91 \n",
       "Q 1428 -91 1123 -41 \n",
       "Q 819 9 494 109 \n",
       "L 494 744 \n",
       "Q 775 591 1075 516 \n",
       "Q 1375 441 1709 441 \n",
       "Q 2250 441 2565 725 \n",
       "Q 2881 1009 2881 1497 \n",
       "Q 2881 1984 2565 2268 \n",
       "Q 2250 2553 1709 2553 \n",
       "Q 1456 2553 1204 2497 \n",
       "Q 953 2441 691 2322 \n",
       "L 691 4666 \n",
       "z\n",
       "\" transform=\"scale(0.015625)\"/>\n",
       "       </defs>\n",
       "       <use xlink:href=\"#DejaVuSans-2212\"/>\n",
       "       <use xlink:href=\"#DejaVuSans-30\" x=\"83.789062\"/>\n",
       "       <use xlink:href=\"#DejaVuSans-2e\" x=\"147.412109\"/>\n",
       "       <use xlink:href=\"#DejaVuSans-35\" x=\"179.199219\"/>\n",
       "      </g>\n",
       "     </g>\n",
       "    </g>\n",
       "    <g id=\"xtick_2\">\n",
       "     <g id=\"text_2\">\n",
       "      <!-- 0.0 -->\n",
       "      <g style=\"fill: #262626\" transform=\"translate(111.636875 257.616406)scale(0.11 -0.11)\">\n",
       "       <use xlink:href=\"#DejaVuSans-30\"/>\n",
       "       <use xlink:href=\"#DejaVuSans-2e\" x=\"63.623047\"/>\n",
       "       <use xlink:href=\"#DejaVuSans-30\" x=\"95.410156\"/>\n",
       "      </g>\n",
       "     </g>\n",
       "    </g>\n",
       "    <g id=\"xtick_3\">\n",
       "     <g id=\"text_3\">\n",
       "      <!-- 0.5 -->\n",
       "      <g style=\"fill: #262626\" transform=\"translate(165.996875 257.616406)scale(0.11 -0.11)\">\n",
       "       <use xlink:href=\"#DejaVuSans-30\"/>\n",
       "       <use xlink:href=\"#DejaVuSans-2e\" x=\"63.623047\"/>\n",
       "       <use xlink:href=\"#DejaVuSans-35\" x=\"95.410156\"/>\n",
       "      </g>\n",
       "     </g>\n",
       "    </g>\n",
       "    <g id=\"xtick_4\">\n",
       "     <g id=\"text_4\">\n",
       "      <!-- 1.0 -->\n",
       "      <g style=\"fill: #262626\" transform=\"translate(220.356875 257.616406)scale(0.11 -0.11)\">\n",
       "       <defs>\n",
       "        <path id=\"DejaVuSans-31\" d=\"M 794 531 \n",
       "L 1825 531 \n",
       "L 1825 4091 \n",
       "L 703 3866 \n",
       "L 703 4441 \n",
       "L 1819 4666 \n",
       "L 2450 4666 \n",
       "L 2450 531 \n",
       "L 3481 531 \n",
       "L 3481 0 \n",
       "L 794 0 \n",
       "L 794 531 \n",
       "z\n",
       "\" transform=\"scale(0.015625)\"/>\n",
       "       </defs>\n",
       "       <use xlink:href=\"#DejaVuSans-31\"/>\n",
       "       <use xlink:href=\"#DejaVuSans-2e\" x=\"63.623047\"/>\n",
       "       <use xlink:href=\"#DejaVuSans-30\" x=\"95.410156\"/>\n",
       "      </g>\n",
       "     </g>\n",
       "    </g>\n",
       "    <g id=\"xtick_5\">\n",
       "     <g id=\"text_5\">\n",
       "      <!-- 1.5 -->\n",
       "      <g style=\"fill: #262626\" transform=\"translate(274.716875 257.616406)scale(0.11 -0.11)\">\n",
       "       <use xlink:href=\"#DejaVuSans-31\"/>\n",
       "       <use xlink:href=\"#DejaVuSans-2e\" x=\"63.623047\"/>\n",
       "       <use xlink:href=\"#DejaVuSans-35\" x=\"95.410156\"/>\n",
       "      </g>\n",
       "     </g>\n",
       "    </g>\n",
       "    <g id=\"text_6\">\n",
       "     <!-- $x_1$ -->\n",
       "     <g style=\"fill: #262626\" transform=\"translate(168.323594 273.022188)scale(0.12 -0.12)\">\n",
       "      <defs>\n",
       "       <path id=\"DejaVuSans-Oblique-78\" d=\"M 3841 3500 \n",
       "L 2234 1784 \n",
       "L 3219 0 \n",
       "L 2559 0 \n",
       "L 1819 1388 \n",
       "L 531 0 \n",
       "L -166 0 \n",
       "L 1556 1844 \n",
       "L 641 3500 \n",
       "L 1300 3500 \n",
       "L 1972 2234 \n",
       "L 3144 3500 \n",
       "L 3841 3500 \n",
       "z\n",
       "\" transform=\"scale(0.015625)\"/>\n",
       "      </defs>\n",
       "      <use xlink:href=\"#DejaVuSans-Oblique-78\" transform=\"translate(0 0.3125)\"/>\n",
       "      <use xlink:href=\"#DejaVuSans-31\" transform=\"translate(59.179688 -16.09375)scale(0.7)\"/>\n",
       "     </g>\n",
       "    </g>\n",
       "   </g>\n",
       "   <g id=\"matplotlib.axis_2\">\n",
       "    <g id=\"ytick_1\">\n",
       "     <g id=\"text_7\">\n",
       "      <!-- −0.50 -->\n",
       "      <g style=\"fill: #262626\" transform=\"translate(22.81375 243.937266)scale(0.11 -0.11)\">\n",
       "       <use xlink:href=\"#DejaVuSans-2212\"/>\n",
       "       <use xlink:href=\"#DejaVuSans-30\" x=\"83.789062\"/>\n",
       "       <use xlink:href=\"#DejaVuSans-2e\" x=\"147.412109\"/>\n",
       "       <use xlink:href=\"#DejaVuSans-35\" x=\"179.199219\"/>\n",
       "       <use xlink:href=\"#DejaVuSans-30\" x=\"242.822266\"/>\n",
       "      </g>\n",
       "     </g>\n",
       "    </g>\n",
       "    <g id=\"ytick_2\">\n",
       "     <g id=\"text_8\">\n",
       "      <!-- −0.25 -->\n",
       "      <g style=\"fill: #262626\" transform=\"translate(22.81375 216.757266)scale(0.11 -0.11)\">\n",
       "       <defs>\n",
       "        <path id=\"DejaVuSans-32\" d=\"M 1228 531 \n",
       "L 3431 531 \n",
       "L 3431 0 \n",
       "L 469 0 \n",
       "L 469 531 \n",
       "Q 828 903 1448 1529 \n",
       "Q 2069 2156 2228 2338 \n",
       "Q 2531 2678 2651 2914 \n",
       "Q 2772 3150 2772 3378 \n",
       "Q 2772 3750 2511 3984 \n",
       "Q 2250 4219 1831 4219 \n",
       "Q 1534 4219 1204 4116 \n",
       "Q 875 4013 500 3803 \n",
       "L 500 4441 \n",
       "Q 881 4594 1212 4672 \n",
       "Q 1544 4750 1819 4750 \n",
       "Q 2544 4750 2975 4387 \n",
       "Q 3406 4025 3406 3419 \n",
       "Q 3406 3131 3298 2873 \n",
       "Q 3191 2616 2906 2266 \n",
       "Q 2828 2175 2409 1742 \n",
       "Q 1991 1309 1228 531 \n",
       "z\n",
       "\" transform=\"scale(0.015625)\"/>\n",
       "       </defs>\n",
       "       <use xlink:href=\"#DejaVuSans-2212\"/>\n",
       "       <use xlink:href=\"#DejaVuSans-30\" x=\"83.789062\"/>\n",
       "       <use xlink:href=\"#DejaVuSans-2e\" x=\"147.412109\"/>\n",
       "       <use xlink:href=\"#DejaVuSans-32\" x=\"179.199219\"/>\n",
       "       <use xlink:href=\"#DejaVuSans-35\" x=\"242.822266\"/>\n",
       "      </g>\n",
       "     </g>\n",
       "    </g>\n",
       "    <g id=\"ytick_3\">\n",
       "     <g id=\"text_9\">\n",
       "      <!-- 0.00 -->\n",
       "      <g style=\"fill: #262626\" transform=\"translate(32.031406 189.577266)scale(0.11 -0.11)\">\n",
       "       <use xlink:href=\"#DejaVuSans-30\"/>\n",
       "       <use xlink:href=\"#DejaVuSans-2e\" x=\"63.623047\"/>\n",
       "       <use xlink:href=\"#DejaVuSans-30\" x=\"95.410156\"/>\n",
       "       <use xlink:href=\"#DejaVuSans-30\" x=\"159.033203\"/>\n",
       "      </g>\n",
       "     </g>\n",
       "    </g>\n",
       "    <g id=\"ytick_4\">\n",
       "     <g id=\"text_10\">\n",
       "      <!-- 0.25 -->\n",
       "      <g style=\"fill: #262626\" transform=\"translate(32.031406 162.397266)scale(0.11 -0.11)\">\n",
       "       <use xlink:href=\"#DejaVuSans-30\"/>\n",
       "       <use xlink:href=\"#DejaVuSans-2e\" x=\"63.623047\"/>\n",
       "       <use xlink:href=\"#DejaVuSans-32\" x=\"95.410156\"/>\n",
       "       <use xlink:href=\"#DejaVuSans-35\" x=\"159.033203\"/>\n",
       "      </g>\n",
       "     </g>\n",
       "    </g>\n",
       "    <g id=\"ytick_5\">\n",
       "     <g id=\"text_11\">\n",
       "      <!-- 0.50 -->\n",
       "      <g style=\"fill: #262626\" transform=\"translate(32.031406 135.217266)scale(0.11 -0.11)\">\n",
       "       <use xlink:href=\"#DejaVuSans-30\"/>\n",
       "       <use xlink:href=\"#DejaVuSans-2e\" x=\"63.623047\"/>\n",
       "       <use xlink:href=\"#DejaVuSans-35\" x=\"95.410156\"/>\n",
       "       <use xlink:href=\"#DejaVuSans-30\" x=\"159.033203\"/>\n",
       "      </g>\n",
       "     </g>\n",
       "    </g>\n",
       "    <g id=\"ytick_6\">\n",
       "     <g id=\"text_12\">\n",
       "      <!-- 0.75 -->\n",
       "      <g style=\"fill: #262626\" transform=\"translate(32.031406 108.037266)scale(0.11 -0.11)\">\n",
       "       <defs>\n",
       "        <path id=\"DejaVuSans-37\" d=\"M 525 4666 \n",
       "L 3525 4666 \n",
       "L 3525 4397 \n",
       "L 1831 0 \n",
       "L 1172 0 \n",
       "L 2766 4134 \n",
       "L 525 4134 \n",
       "L 525 4666 \n",
       "z\n",
       "\" transform=\"scale(0.015625)\"/>\n",
       "       </defs>\n",
       "       <use xlink:href=\"#DejaVuSans-30\"/>\n",
       "       <use xlink:href=\"#DejaVuSans-2e\" x=\"63.623047\"/>\n",
       "       <use xlink:href=\"#DejaVuSans-37\" x=\"95.410156\"/>\n",
       "       <use xlink:href=\"#DejaVuSans-35\" x=\"159.033203\"/>\n",
       "      </g>\n",
       "     </g>\n",
       "    </g>\n",
       "    <g id=\"ytick_7\">\n",
       "     <g id=\"text_13\">\n",
       "      <!-- 1.00 -->\n",
       "      <g style=\"fill: #262626\" transform=\"translate(32.031406 80.857266)scale(0.11 -0.11)\">\n",
       "       <use xlink:href=\"#DejaVuSans-31\"/>\n",
       "       <use xlink:href=\"#DejaVuSans-2e\" x=\"63.623047\"/>\n",
       "       <use xlink:href=\"#DejaVuSans-30\" x=\"95.410156\"/>\n",
       "       <use xlink:href=\"#DejaVuSans-30\" x=\"159.033203\"/>\n",
       "      </g>\n",
       "     </g>\n",
       "    </g>\n",
       "    <g id=\"ytick_8\">\n",
       "     <g id=\"text_14\">\n",
       "      <!-- 1.25 -->\n",
       "      <g style=\"fill: #262626\" transform=\"translate(32.031406 53.677266)scale(0.11 -0.11)\">\n",
       "       <use xlink:href=\"#DejaVuSans-31\"/>\n",
       "       <use xlink:href=\"#DejaVuSans-2e\" x=\"63.623047\"/>\n",
       "       <use xlink:href=\"#DejaVuSans-32\" x=\"95.410156\"/>\n",
       "       <use xlink:href=\"#DejaVuSans-35\" x=\"159.033203\"/>\n",
       "      </g>\n",
       "     </g>\n",
       "    </g>\n",
       "    <g id=\"ytick_9\">\n",
       "     <g id=\"text_15\">\n",
       "      <!-- 1.50 -->\n",
       "      <g style=\"fill: #262626\" transform=\"translate(32.031406 26.497266)scale(0.11 -0.11)\">\n",
       "       <use xlink:href=\"#DejaVuSans-31\"/>\n",
       "       <use xlink:href=\"#DejaVuSans-2e\" x=\"63.623047\"/>\n",
       "       <use xlink:href=\"#DejaVuSans-35\" x=\"95.410156\"/>\n",
       "       <use xlink:href=\"#DejaVuSans-30\" x=\"159.033203\"/>\n",
       "      </g>\n",
       "     </g>\n",
       "    </g>\n",
       "    <g id=\"text_16\">\n",
       "     <!-- $x_2$ -->\n",
       "     <g style=\"fill: #262626\" transform=\"translate(16.318125 137.458125)rotate(-90)scale(0.12 -0.12)\">\n",
       "      <use xlink:href=\"#DejaVuSans-Oblique-78\" transform=\"translate(0 0.3125)\"/>\n",
       "      <use xlink:href=\"#DejaVuSans-32\" transform=\"translate(59.179688 -16.09375)scale(0.7)\"/>\n",
       "     </g>\n",
       "    </g>\n",
       "   </g>\n",
       "   <g id=\"PathCollection_1\">\n",
       "    <defs>\n",
       "     <path id=\"mc868d7e588\" d=\"M 0 3 \n",
       "C 0.795609 3 1.55874 2.683901 2.12132 2.12132 \n",
       "C 2.683901 1.55874 3 0.795609 3 0 \n",
       "C 3 -0.795609 2.683901 -1.55874 2.12132 -2.12132 \n",
       "C 1.55874 -2.683901 0.795609 -3 0 -3 \n",
       "C -0.795609 -3 -1.55874 -2.683901 -2.12132 -2.12132 \n",
       "C -2.683901 -1.55874 -3 -0.795609 -3 0 \n",
       "C -3 0.795609 -2.683901 1.55874 -2.12132 2.12132 \n",
       "C -1.55874 2.683901 -0.795609 3 0 3 \n",
       "z\n",
       "\" style=\"stroke: #333333\"/>\n",
       "    </defs>\n",
       "    <g clip-path=\"url(#pe79691eb7b)\">\n",
       "     <use xlink:href=\"#mc868d7e588\" x=\"123.569878\" y=\"193.164553\" style=\"fill: #4c72b0; stroke: #333333\"/>\n",
       "     <use xlink:href=\"#mc868d7e588\" x=\"107.431742\" y=\"178.260074\" style=\"fill: #4c72b0; stroke: #333333\"/>\n",
       "     <use xlink:href=\"#mc868d7e588\" x=\"132.979845\" y=\"194.320583\" style=\"fill: #4c72b0; stroke: #333333\"/>\n",
       "     <use xlink:href=\"#mc868d7e588\" x=\"130.857419\" y=\"180.910371\" style=\"fill: #4c72b0; stroke: #333333\"/>\n",
       "     <use xlink:href=\"#mc868d7e588\" x=\"226.435734\" y=\"84.872742\" style=\"fill: #4c72b0; stroke: #333333\"/>\n",
       "     <use xlink:href=\"#mc868d7e588\" x=\"232.111775\" y=\"67.684984\" style=\"fill: #4c72b0; stroke: #333333\"/>\n",
       "     <use xlink:href=\"#mc868d7e588\" x=\"229.244953\" y=\"60.875299\" style=\"fill: #4c72b0; stroke: #333333\"/>\n",
       "     <use xlink:href=\"#mc868d7e588\" x=\"226.226248\" y=\"47.104449\" style=\"fill: #4c72b0; stroke: #333333\"/>\n",
       "     <use xlink:href=\"#mc868d7e588\" x=\"235.905852\" y=\"85.997144\" style=\"fill: #4c72b0; stroke: #333333\"/>\n",
       "     <use xlink:href=\"#mc868d7e588\" x=\"108.74085\" y=\"180.152685\" style=\"fill: #4c72b0; stroke: #333333\"/>\n",
       "     <use xlink:href=\"#mc868d7e588\" x=\"226.674109\" y=\"68.915512\" style=\"fill: #4c72b0; stroke: #333333\"/>\n",
       "     <use xlink:href=\"#mc868d7e588\" x=\"115.529083\" y=\"176.087357\" style=\"fill: #4c72b0; stroke: #333333\"/>\n",
       "     <use xlink:href=\"#mc868d7e588\" x=\"122.711221\" y=\"198.941797\" style=\"fill: #4c72b0; stroke: #333333\"/>\n",
       "     <use xlink:href=\"#mc868d7e588\" x=\"230.986421\" y=\"72.48895\" style=\"fill: #4c72b0; stroke: #333333\"/>\n",
       "     <use xlink:href=\"#mc868d7e588\" x=\"219.494294\" y=\"75.006825\" style=\"fill: #4c72b0; stroke: #333333\"/>\n",
       "     <use xlink:href=\"#mc868d7e588\" x=\"232.993461\" y=\"70.581278\" style=\"fill: #4c72b0; stroke: #333333\"/>\n",
       "     <use xlink:href=\"#mc868d7e588\" x=\"126.590315\" y=\"173.052255\" style=\"fill: #4c72b0; stroke: #333333\"/>\n",
       "     <use xlink:href=\"#mc868d7e588\" x=\"130.755501\" y=\"178.3162\" style=\"fill: #4c72b0; stroke: #333333\"/>\n",
       "     <use xlink:href=\"#mc868d7e588\" x=\"116.955987\" y=\"177.146612\" style=\"fill: #4c72b0; stroke: #333333\"/>\n",
       "     <use xlink:href=\"#mc868d7e588\" x=\"254.268557\" y=\"96.979031\" style=\"fill: #4c72b0; stroke: #333333\"/>\n",
       "     <use xlink:href=\"#mc868d7e588\" x=\"236.564617\" y=\"94.21157\" style=\"fill: #4c72b0; stroke: #333333\"/>\n",
       "     <use xlink:href=\"#mc868d7e588\" x=\"221.326815\" y=\"69.289537\" style=\"fill: #4c72b0; stroke: #333333\"/>\n",
       "     <use xlink:href=\"#mc868d7e588\" x=\"98.366243\" y=\"183.370994\" style=\"fill: #4c72b0; stroke: #333333\"/>\n",
       "     <use xlink:href=\"#mc868d7e588\" x=\"220.487309\" y=\"77.925541\" style=\"fill: #4c72b0; stroke: #333333\"/>\n",
       "     <use xlink:href=\"#mc868d7e588\" x=\"234.593815\" y=\"67.265636\" style=\"fill: #4c72b0; stroke: #333333\"/>\n",
       "     <use xlink:href=\"#mc868d7e588\" x=\"216.053973\" y=\"80.314823\" style=\"fill: #4c72b0; stroke: #333333\"/>\n",
       "     <use xlink:href=\"#mc868d7e588\" x=\"223.939988\" y=\"83.781123\" style=\"fill: #4c72b0; stroke: #333333\"/>\n",
       "     <use xlink:href=\"#mc868d7e588\" x=\"248.297608\" y=\"72.275167\" style=\"fill: #4c72b0; stroke: #333333\"/>\n",
       "     <use xlink:href=\"#mc868d7e588\" x=\"212.585002\" y=\"81.942718\" style=\"fill: #4c72b0; stroke: #333333\"/>\n",
       "     <use xlink:href=\"#mc868d7e588\" x=\"242.87745\" y=\"84.371905\" style=\"fill: #4c72b0; stroke: #333333\"/>\n",
       "     <use xlink:href=\"#mc868d7e588\" x=\"233.928802\" y=\"68.256305\" style=\"fill: #4c72b0; stroke: #333333\"/>\n",
       "     <use xlink:href=\"#mc868d7e588\" x=\"226.357673\" y=\"90.244025\" style=\"fill: #4c72b0; stroke: #333333\"/>\n",
       "     <use xlink:href=\"#mc868d7e588\" x=\"230.337751\" y=\"69.479446\" style=\"fill: #4c72b0; stroke: #333333\"/>\n",
       "     <use xlink:href=\"#mc868d7e588\" x=\"143.573933\" y=\"206.621223\" style=\"fill: #4c72b0; stroke: #333333\"/>\n",
       "     <use xlink:href=\"#mc868d7e588\" x=\"118.733386\" y=\"179.00194\" style=\"fill: #4c72b0; stroke: #333333\"/>\n",
       "     <use xlink:href=\"#mc868d7e588\" x=\"123.438537\" y=\"192.168114\" style=\"fill: #4c72b0; stroke: #333333\"/>\n",
       "     <use xlink:href=\"#mc868d7e588\" x=\"118.120889\" y=\"190.758031\" style=\"fill: #4c72b0; stroke: #333333\"/>\n",
       "     <use xlink:href=\"#mc868d7e588\" x=\"232.985062\" y=\"84.211436\" style=\"fill: #4c72b0; stroke: #333333\"/>\n",
       "     <use xlink:href=\"#mc868d7e588\" x=\"129.221031\" y=\"178.5528\" style=\"fill: #4c72b0; stroke: #333333\"/>\n",
       "     <use xlink:href=\"#mc868d7e588\" x=\"128.50817\" y=\"178.762179\" style=\"fill: #4c72b0; stroke: #333333\"/>\n",
       "     <use xlink:href=\"#mc868d7e588\" x=\"120.156352\" y=\"184.122542\" style=\"fill: #4c72b0; stroke: #333333\"/>\n",
       "     <use xlink:href=\"#mc868d7e588\" x=\"129.357521\" y=\"176.553648\" style=\"fill: #4c72b0; stroke: #333333\"/>\n",
       "     <use xlink:href=\"#mc868d7e588\" x=\"243.296759\" y=\"76.449775\" style=\"fill: #4c72b0; stroke: #333333\"/>\n",
       "     <use xlink:href=\"#mc868d7e588\" x=\"241.694578\" y=\"68.071166\" style=\"fill: #4c72b0; stroke: #333333\"/>\n",
       "     <use xlink:href=\"#mc868d7e588\" x=\"127.169024\" y=\"178.566752\" style=\"fill: #4c72b0; stroke: #333333\"/>\n",
       "     <use xlink:href=\"#mc868d7e588\" x=\"120.250447\" y=\"195.153074\" style=\"fill: #4c72b0; stroke: #333333\"/>\n",
       "     <use xlink:href=\"#mc868d7e588\" x=\"121.207741\" y=\"192.760227\" style=\"fill: #4c72b0; stroke: #333333\"/>\n",
       "     <use xlink:href=\"#mc868d7e588\" x=\"111.408788\" y=\"188.892232\" style=\"fill: #4c72b0; stroke: #333333\"/>\n",
       "     <use xlink:href=\"#mc868d7e588\" x=\"123.04687\" y=\"190.909611\" style=\"fill: #4c72b0; stroke: #333333\"/>\n",
       "     <use xlink:href=\"#mc868d7e588\" x=\"115.262465\" y=\"182.875278\" style=\"fill: #4c72b0; stroke: #333333\"/>\n",
       "     <use xlink:href=\"#mc868d7e588\" x=\"221.292671\" y=\"78.998723\" style=\"fill: #4c72b0; stroke: #333333\"/>\n",
       "     <use xlink:href=\"#mc868d7e588\" x=\"123.763781\" y=\"169.358052\" style=\"fill: #4c72b0; stroke: #333333\"/>\n",
       "     <use xlink:href=\"#mc868d7e588\" x=\"120.17685\" y=\"196.297624\" style=\"fill: #4c72b0; stroke: #333333\"/>\n",
       "     <use xlink:href=\"#mc868d7e588\" x=\"232.612191\" y=\"85.671778\" style=\"fill: #4c72b0; stroke: #333333\"/>\n",
       "     <use xlink:href=\"#mc868d7e588\" x=\"119.201153\" y=\"181.030715\" style=\"fill: #4c72b0; stroke: #333333\"/>\n",
       "     <use xlink:href=\"#mc868d7e588\" x=\"127.886839\" y=\"189.760194\" style=\"fill: #4c72b0; stroke: #333333\"/>\n",
       "     <use xlink:href=\"#mc868d7e588\" x=\"122.819927\" y=\"185.26122\" style=\"fill: #4c72b0; stroke: #333333\"/>\n",
       "     <use xlink:href=\"#mc868d7e588\" x=\"136.160427\" y=\"174.968933\" style=\"fill: #4c72b0; stroke: #333333\"/>\n",
       "     <use xlink:href=\"#mc868d7e588\" x=\"252.512989\" y=\"85.02073\" style=\"fill: #4c72b0; stroke: #333333\"/>\n",
       "     <use xlink:href=\"#mc868d7e588\" x=\"238.587469\" y=\"74.684836\" style=\"fill: #4c72b0; stroke: #333333\"/>\n",
       "     <use xlink:href=\"#mc868d7e588\" x=\"111.254138\" y=\"191.914722\" style=\"fill: #4c72b0; stroke: #333333\"/>\n",
       "     <use xlink:href=\"#mc868d7e588\" x=\"206.012598\" y=\"82.394136\" style=\"fill: #4c72b0; stroke: #333333\"/>\n",
       "     <use xlink:href=\"#mc868d7e588\" x=\"220.850305\" y=\"75.04305\" style=\"fill: #4c72b0; stroke: #333333\"/>\n",
       "     <use xlink:href=\"#mc868d7e588\" x=\"232.819169\" y=\"56.280398\" style=\"fill: #4c72b0; stroke: #333333\"/>\n",
       "     <use xlink:href=\"#mc868d7e588\" x=\"239.436598\" y=\"82.950223\" style=\"fill: #4c72b0; stroke: #333333\"/>\n",
       "     <use xlink:href=\"#mc868d7e588\" x=\"119.138317\" y=\"171.940586\" style=\"fill: #4c72b0; stroke: #333333\"/>\n",
       "     <use xlink:href=\"#mc868d7e588\" x=\"103.048976\" y=\"191.91453\" style=\"fill: #4c72b0; stroke: #333333\"/>\n",
       "     <use xlink:href=\"#mc868d7e588\" x=\"108.776424\" y=\"186.946075\" style=\"fill: #4c72b0; stroke: #333333\"/>\n",
       "     <use xlink:href=\"#mc868d7e588\" x=\"123.996512\" y=\"193.53567\" style=\"fill: #4c72b0; stroke: #333333\"/>\n",
       "     <use xlink:href=\"#mc868d7e588\" x=\"241.92491\" y=\"75.944059\" style=\"fill: #4c72b0; stroke: #333333\"/>\n",
       "     <use xlink:href=\"#mc868d7e588\" x=\"142.788045\" y=\"166.314059\" style=\"fill: #4c72b0; stroke: #333333\"/>\n",
       "     <use xlink:href=\"#mc868d7e588\" x=\"226.396852\" y=\"66.115203\" style=\"fill: #4c72b0; stroke: #333333\"/>\n",
       "     <use xlink:href=\"#mc868d7e588\" x=\"236.120126\" y=\"61.798367\" style=\"fill: #4c72b0; stroke: #333333\"/>\n",
       "     <use xlink:href=\"#mc868d7e588\" x=\"226.1746\" y=\"68.877007\" style=\"fill: #4c72b0; stroke: #333333\"/>\n",
       "     <use xlink:href=\"#mc868d7e588\" x=\"101.86442\" y=\"186.00204\" style=\"fill: #4c72b0; stroke: #333333\"/>\n",
       "     <use xlink:href=\"#mc868d7e588\" x=\"97.906363\" y=\"186.367038\" style=\"fill: #4c72b0; stroke: #333333\"/>\n",
       "     <use xlink:href=\"#mc868d7e588\" x=\"233.089251\" y=\"86.896501\" style=\"fill: #4c72b0; stroke: #333333\"/>\n",
       "     <use xlink:href=\"#mc868d7e588\" x=\"109.66678\" y=\"179.918131\" style=\"fill: #4c72b0; stroke: #333333\"/>\n",
       "     <use xlink:href=\"#mc868d7e588\" x=\"223.084321\" y=\"89.701456\" style=\"fill: #4c72b0; stroke: #333333\"/>\n",
       "     <use xlink:href=\"#mc868d7e588\" x=\"250.464087\" y=\"76.294742\" style=\"fill: #4c72b0; stroke: #333333\"/>\n",
       "     <use xlink:href=\"#mc868d7e588\" x=\"114.615985\" y=\"191.658421\" style=\"fill: #4c72b0; stroke: #333333\"/>\n",
       "     <use xlink:href=\"#mc868d7e588\" x=\"246.987684\" y=\"79.385644\" style=\"fill: #4c72b0; stroke: #333333\"/>\n",
       "     <use xlink:href=\"#mc868d7e588\" x=\"235.371921\" y=\"73.294208\" style=\"fill: #4c72b0; stroke: #333333\"/>\n",
       "     <use xlink:href=\"#mc868d7e588\" x=\"153.857187\" y=\"173.226107\" style=\"fill: #4c72b0; stroke: #333333\"/>\n",
       "     <use xlink:href=\"#mc868d7e588\" x=\"227.712874\" y=\"87.066762\" style=\"fill: #4c72b0; stroke: #333333\"/>\n",
       "     <use xlink:href=\"#mc868d7e588\" x=\"102.918309\" y=\"183.186068\" style=\"fill: #4c72b0; stroke: #333333\"/>\n",
       "     <use xlink:href=\"#mc868d7e588\" x=\"222.074055\" y=\"88.436712\" style=\"fill: #4c72b0; stroke: #333333\"/>\n",
       "     <use xlink:href=\"#mc868d7e588\" x=\"138.726198\" y=\"175.812937\" style=\"fill: #4c72b0; stroke: #333333\"/>\n",
       "     <use xlink:href=\"#mc868d7e588\" x=\"229.016914\" y=\"60.588174\" style=\"fill: #4c72b0; stroke: #333333\"/>\n",
       "     <use xlink:href=\"#mc868d7e588\" x=\"109.106654\" y=\"187.467487\" style=\"fill: #4c72b0; stroke: #333333\"/>\n",
       "     <use xlink:href=\"#mc868d7e588\" x=\"229.631122\" y=\"85.712215\" style=\"fill: #4c72b0; stroke: #333333\"/>\n",
       "     <use xlink:href=\"#mc868d7e588\" x=\"123.324\" y=\"185.944314\" style=\"fill: #4c72b0; stroke: #333333\"/>\n",
       "     <use xlink:href=\"#mc868d7e588\" x=\"125.829565\" y=\"196.026105\" style=\"fill: #4c72b0; stroke: #333333\"/>\n",
       "     <use xlink:href=\"#mc868d7e588\" x=\"230.183535\" y=\"68.509047\" style=\"fill: #4c72b0; stroke: #333333\"/>\n",
       "     <use xlink:href=\"#mc868d7e588\" x=\"102.23382\" y=\"179.490713\" style=\"fill: #4c72b0; stroke: #333333\"/>\n",
       "     <use xlink:href=\"#mc868d7e588\" x=\"221.899549\" y=\"70.474574\" style=\"fill: #4c72b0; stroke: #333333\"/>\n",
       "     <use xlink:href=\"#mc868d7e588\" x=\"220.805443\" y=\"96.300805\" style=\"fill: #4c72b0; stroke: #333333\"/>\n",
       "     <use xlink:href=\"#mc868d7e588\" x=\"228.385171\" y=\"89.844293\" style=\"fill: #4c72b0; stroke: #333333\"/>\n",
       "     <use xlink:href=\"#mc868d7e588\" x=\"131.324009\" y=\"191.670093\" style=\"fill: #4c72b0; stroke: #333333\"/>\n",
       "     <use xlink:href=\"#mc868d7e588\" x=\"129.469239\" y=\"197.680298\" style=\"fill: #4c72b0; stroke: #333333\"/>\n",
       "     <use xlink:href=\"#mc868d7e588\" x=\"126.143625\" y=\"169.725391\" style=\"fill: #4c72b0; stroke: #333333\"/>\n",
       "     <use xlink:href=\"#mc868d7e588\" x=\"202.231877\" y=\"85.341968\" style=\"fill: #4c72b0; stroke: #333333\"/>\n",
       "     <use xlink:href=\"#mc868d7e588\" x=\"233.138695\" y=\"83.244652\" style=\"fill: #4c72b0; stroke: #333333\"/>\n",
       "    </g>\n",
       "   </g>\n",
       "   <g id=\"PathCollection_2\">\n",
       "    <defs>\n",
       "     <path id=\"m4da6755309\" d=\"M 0 3 \n",
       "C 0.795609 3 1.55874 2.683901 2.12132 2.12132 \n",
       "C 2.683901 1.55874 3 0.795609 3 0 \n",
       "C 3 -0.795609 2.683901 -1.55874 2.12132 -2.12132 \n",
       "C 1.55874 -2.683901 0.795609 -3 0 -3 \n",
       "C -0.795609 -3 -1.55874 -2.683901 -2.12132 -2.12132 \n",
       "C -2.683901 -1.55874 -3 -0.795609 -3 0 \n",
       "C -3 0.795609 -2.683901 1.55874 -2.12132 2.12132 \n",
       "C -1.55874 2.683901 -0.795609 3 0 3 \n",
       "z\n",
       "\" style=\"stroke: #333333\"/>\n",
       "    </defs>\n",
       "    <g clip-path=\"url(#pe79691eb7b)\">\n",
       "     <use xlink:href=\"#m4da6755309\" x=\"112.990365\" y=\"74.153057\" style=\"fill: #dd8452; stroke: #333333\"/>\n",
       "     <use xlink:href=\"#m4da6755309\" x=\"140.668295\" y=\"71.526612\" style=\"fill: #dd8452; stroke: #333333\"/>\n",
       "     <use xlink:href=\"#m4da6755309\" x=\"109.786855\" y=\"68.120947\" style=\"fill: #dd8452; stroke: #333333\"/>\n",
       "     <use xlink:href=\"#m4da6755309\" x=\"238.041031\" y=\"164.776192\" style=\"fill: #dd8452; stroke: #333333\"/>\n",
       "     <use xlink:href=\"#m4da6755309\" x=\"219.43279\" y=\"194.267614\" style=\"fill: #dd8452; stroke: #333333\"/>\n",
       "     <use xlink:href=\"#m4da6755309\" x=\"228.265345\" y=\"181.689121\" style=\"fill: #dd8452; stroke: #333333\"/>\n",
       "     <use xlink:href=\"#m4da6755309\" x=\"234.248627\" y=\"186.189921\" style=\"fill: #dd8452; stroke: #333333\"/>\n",
       "     <use xlink:href=\"#m4da6755309\" x=\"219.897253\" y=\"201.867545\" style=\"fill: #dd8452; stroke: #333333\"/>\n",
       "     <use xlink:href=\"#m4da6755309\" x=\"229.736439\" y=\"197.824498\" style=\"fill: #dd8452; stroke: #333333\"/>\n",
       "     <use xlink:href=\"#m4da6755309\" x=\"132.158527\" y=\"65.221192\" style=\"fill: #dd8452; stroke: #333333\"/>\n",
       "     <use xlink:href=\"#m4da6755309\" x=\"105.405572\" y=\"86.874157\" style=\"fill: #dd8452; stroke: #333333\"/>\n",
       "     <use xlink:href=\"#m4da6755309\" x=\"125.983057\" y=\"71.092243\" style=\"fill: #dd8452; stroke: #333333\"/>\n",
       "     <use xlink:href=\"#m4da6755309\" x=\"234.703188\" y=\"143.511227\" style=\"fill: #dd8452; stroke: #333333\"/>\n",
       "     <use xlink:href=\"#m4da6755309\" x=\"111.981438\" y=\"79.252819\" style=\"fill: #dd8452; stroke: #333333\"/>\n",
       "     <use xlink:href=\"#m4da6755309\" x=\"223.826721\" y=\"184.507989\" style=\"fill: #dd8452; stroke: #333333\"/>\n",
       "     <use xlink:href=\"#m4da6755309\" x=\"115.25275\" y=\"64.839054\" style=\"fill: #dd8452; stroke: #333333\"/>\n",
       "     <use xlink:href=\"#m4da6755309\" x=\"121.082446\" y=\"88.395368\" style=\"fill: #dd8452; stroke: #333333\"/>\n",
       "     <use xlink:href=\"#m4da6755309\" x=\"112.443048\" y=\"74.324782\" style=\"fill: #dd8452; stroke: #333333\"/>\n",
       "     <use xlink:href=\"#m4da6755309\" x=\"120.879051\" y=\"83.762324\" style=\"fill: #dd8452; stroke: #333333\"/>\n",
       "     <use xlink:href=\"#m4da6755309\" x=\"143.692554\" y=\"69.786155\" style=\"fill: #dd8452; stroke: #333333\"/>\n",
       "     <use xlink:href=\"#m4da6755309\" x=\"221.908654\" y=\"176.130469\" style=\"fill: #dd8452; stroke: #333333\"/>\n",
       "     <use xlink:href=\"#m4da6755309\" x=\"215.395265\" y=\"175.41913\" style=\"fill: #dd8452; stroke: #333333\"/>\n",
       "     <use xlink:href=\"#m4da6755309\" x=\"143.455676\" y=\"65.453158\" style=\"fill: #dd8452; stroke: #333333\"/>\n",
       "     <use xlink:href=\"#m4da6755309\" x=\"219.026007\" y=\"186.045285\" style=\"fill: #dd8452; stroke: #333333\"/>\n",
       "     <use xlink:href=\"#m4da6755309\" x=\"193.864537\" y=\"196.535267\" style=\"fill: #dd8452; stroke: #333333\"/>\n",
       "     <use xlink:href=\"#m4da6755309\" x=\"138.13117\" y=\"92.226622\" style=\"fill: #dd8452; stroke: #333333\"/>\n",
       "     <use xlink:href=\"#m4da6755309\" x=\"115.59943\" y=\"75.256715\" style=\"fill: #dd8452; stroke: #333333\"/>\n",
       "     <use xlink:href=\"#m4da6755309\" x=\"244.773121\" y=\"201.008819\" style=\"fill: #dd8452; stroke: #333333\"/>\n",
       "     <use xlink:href=\"#m4da6755309\" x=\"241.749504\" y=\"185.286871\" style=\"fill: #dd8452; stroke: #333333\"/>\n",
       "     <use xlink:href=\"#m4da6755309\" x=\"218.432633\" y=\"180.374136\" style=\"fill: #dd8452; stroke: #333333\"/>\n",
       "     <use xlink:href=\"#m4da6755309\" x=\"122.547771\" y=\"83.203684\" style=\"fill: #dd8452; stroke: #333333\"/>\n",
       "     <use xlink:href=\"#m4da6755309\" x=\"229.862479\" y=\"189.587254\" style=\"fill: #dd8452; stroke: #333333\"/>\n",
       "     <use xlink:href=\"#m4da6755309\" x=\"246.346764\" y=\"198.855655\" style=\"fill: #dd8452; stroke: #333333\"/>\n",
       "     <use xlink:href=\"#m4da6755309\" x=\"222.69602\" y=\"176.161251\" style=\"fill: #dd8452; stroke: #333333\"/>\n",
       "     <use xlink:href=\"#m4da6755309\" x=\"238.884043\" y=\"182.057165\" style=\"fill: #dd8452; stroke: #333333\"/>\n",
       "     <use xlink:href=\"#m4da6755309\" x=\"111.37076\" y=\"82.768414\" style=\"fill: #dd8452; stroke: #333333\"/>\n",
       "     <use xlink:href=\"#m4da6755309\" x=\"134.274367\" y=\"83.109689\" style=\"fill: #dd8452; stroke: #333333\"/>\n",
       "     <use xlink:href=\"#m4da6755309\" x=\"126.331636\" y=\"78.876364\" style=\"fill: #dd8452; stroke: #333333\"/>\n",
       "     <use xlink:href=\"#m4da6755309\" x=\"118.016964\" y=\"64.732221\" style=\"fill: #dd8452; stroke: #333333\"/>\n",
       "     <use xlink:href=\"#m4da6755309\" x=\"236.517791\" y=\"188.771345\" style=\"fill: #dd8452; stroke: #333333\"/>\n",
       "     <use xlink:href=\"#m4da6755309\" x=\"232.627925\" y=\"186.81304\" style=\"fill: #dd8452; stroke: #333333\"/>\n",
       "     <use xlink:href=\"#m4da6755309\" x=\"121.438134\" y=\"70.207577\" style=\"fill: #dd8452; stroke: #333333\"/>\n",
       "     <use xlink:href=\"#m4da6755309\" x=\"220.207895\" y=\"162.649691\" style=\"fill: #dd8452; stroke: #333333\"/>\n",
       "     <use xlink:href=\"#m4da6755309\" x=\"109.446173\" y=\"89.878781\" style=\"fill: #dd8452; stroke: #333333\"/>\n",
       "     <use xlink:href=\"#m4da6755309\" x=\"239.705099\" y=\"186.996933\" style=\"fill: #dd8452; stroke: #333333\"/>\n",
       "     <use xlink:href=\"#m4da6755309\" x=\"233.592984\" y=\"191.526938\" style=\"fill: #dd8452; stroke: #333333\"/>\n",
       "     <use xlink:href=\"#m4da6755309\" x=\"111.444414\" y=\"74.028753\" style=\"fill: #dd8452; stroke: #333333\"/>\n",
       "     <use xlink:href=\"#m4da6755309\" x=\"104.64002\" y=\"91.980069\" style=\"fill: #dd8452; stroke: #333333\"/>\n",
       "     <use xlink:href=\"#m4da6755309\" x=\"129.708069\" y=\"78.416975\" style=\"fill: #dd8452; stroke: #333333\"/>\n",
       "     <use xlink:href=\"#m4da6755309\" x=\"228.902318\" y=\"188.536422\" style=\"fill: #dd8452; stroke: #333333\"/>\n",
       "     <use xlink:href=\"#m4da6755309\" x=\"234.749923\" y=\"168.734187\" style=\"fill: #dd8452; stroke: #333333\"/>\n",
       "     <use xlink:href=\"#m4da6755309\" x=\"230.165533\" y=\"193.802288\" style=\"fill: #dd8452; stroke: #333333\"/>\n",
       "     <use xlink:href=\"#m4da6755309\" x=\"229.370073\" y=\"179.983888\" style=\"fill: #dd8452; stroke: #333333\"/>\n",
       "     <use xlink:href=\"#m4da6755309\" x=\"144.191132\" y=\"85.465941\" style=\"fill: #dd8452; stroke: #333333\"/>\n",
       "     <use xlink:href=\"#m4da6755309\" x=\"110.616029\" y=\"71.329976\" style=\"fill: #dd8452; stroke: #333333\"/>\n",
       "     <use xlink:href=\"#m4da6755309\" x=\"214.750017\" y=\"165.486505\" style=\"fill: #dd8452; stroke: #333333\"/>\n",
       "     <use xlink:href=\"#m4da6755309\" x=\"241.926466\" y=\"190.499003\" style=\"fill: #dd8452; stroke: #333333\"/>\n",
       "     <use xlink:href=\"#m4da6755309\" x=\"101.758395\" y=\"61.958831\" style=\"fill: #dd8452; stroke: #333333\"/>\n",
       "     <use xlink:href=\"#m4da6755309\" x=\"229.160607\" y=\"184.887352\" style=\"fill: #dd8452; stroke: #333333\"/>\n",
       "     <use xlink:href=\"#m4da6755309\" x=\"224.210479\" y=\"178.6265\" style=\"fill: #dd8452; stroke: #333333\"/>\n",
       "     <use xlink:href=\"#m4da6755309\" x=\"121.691448\" y=\"71.08514\" style=\"fill: #dd8452; stroke: #333333\"/>\n",
       "     <use xlink:href=\"#m4da6755309\" x=\"236.840273\" y=\"197.625234\" style=\"fill: #dd8452; stroke: #333333\"/>\n",
       "     <use xlink:href=\"#m4da6755309\" x=\"103.704704\" y=\"62.787223\" style=\"fill: #dd8452; stroke: #333333\"/>\n",
       "     <use xlink:href=\"#m4da6755309\" x=\"137.247719\" y=\"75.420509\" style=\"fill: #dd8452; stroke: #333333\"/>\n",
       "     <use xlink:href=\"#m4da6755309\" x=\"109.892946\" y=\"69.219369\" style=\"fill: #dd8452; stroke: #333333\"/>\n",
       "     <use xlink:href=\"#m4da6755309\" x=\"131.890785\" y=\"95.799139\" style=\"fill: #dd8452; stroke: #333333\"/>\n",
       "     <use xlink:href=\"#m4da6755309\" x=\"107.519207\" y=\"98.848658\" style=\"fill: #dd8452; stroke: #333333\"/>\n",
       "     <use xlink:href=\"#m4da6755309\" x=\"245.437214\" y=\"184.592567\" style=\"fill: #dd8452; stroke: #333333\"/>\n",
       "     <use xlink:href=\"#m4da6755309\" x=\"246.809905\" y=\"200.402588\" style=\"fill: #dd8452; stroke: #333333\"/>\n",
       "     <use xlink:href=\"#m4da6755309\" x=\"124.559153\" y=\"77.033584\" style=\"fill: #dd8452; stroke: #333333\"/>\n",
       "     <use xlink:href=\"#m4da6755309\" x=\"106.201401\" y=\"69.397446\" style=\"fill: #dd8452; stroke: #333333\"/>\n",
       "     <use xlink:href=\"#m4da6755309\" x=\"223.51683\" y=\"196.913894\" style=\"fill: #dd8452; stroke: #333333\"/>\n",
       "     <use xlink:href=\"#m4da6755309\" x=\"119.702147\" y=\"66.293824\" style=\"fill: #dd8452; stroke: #333333\"/>\n",
       "     <use xlink:href=\"#m4da6755309\" x=\"114.618633\" y=\"85.298239\" style=\"fill: #dd8452; stroke: #333333\"/>\n",
       "     <use xlink:href=\"#m4da6755309\" x=\"227.939961\" y=\"196.653279\" style=\"fill: #dd8452; stroke: #333333\"/>\n",
       "     <use xlink:href=\"#m4da6755309\" x=\"221.496175\" y=\"183.071735\" style=\"fill: #dd8452; stroke: #333333\"/>\n",
       "     <use xlink:href=\"#m4da6755309\" x=\"227.882364\" y=\"187.800506\" style=\"fill: #dd8452; stroke: #333333\"/>\n",
       "     <use xlink:href=\"#m4da6755309\" x=\"127.060814\" y=\"68.442495\" style=\"fill: #dd8452; stroke: #333333\"/>\n",
       "     <use xlink:href=\"#m4da6755309\" x=\"117.393232\" y=\"101.704613\" style=\"fill: #dd8452; stroke: #333333\"/>\n",
       "     <use xlink:href=\"#m4da6755309\" x=\"212.630435\" y=\"170.537468\" style=\"fill: #dd8452; stroke: #333333\"/>\n",
       "     <use xlink:href=\"#m4da6755309\" x=\"220.880548\" y=\"200.860867\" style=\"fill: #dd8452; stroke: #333333\"/>\n",
       "     <use xlink:href=\"#m4da6755309\" x=\"121.224742\" y=\"86.042006\" style=\"fill: #dd8452; stroke: #333333\"/>\n",
       "     <use xlink:href=\"#m4da6755309\" x=\"136.942999\" y=\"70.819089\" style=\"fill: #dd8452; stroke: #333333\"/>\n",
       "     <use xlink:href=\"#m4da6755309\" x=\"110.863872\" y=\"91.711924\" style=\"fill: #dd8452; stroke: #333333\"/>\n",
       "     <use xlink:href=\"#m4da6755309\" x=\"239.172996\" y=\"164.638948\" style=\"fill: #dd8452; stroke: #333333\"/>\n",
       "     <use xlink:href=\"#m4da6755309\" x=\"213.898367\" y=\"179.277524\" style=\"fill: #dd8452; stroke: #333333\"/>\n",
       "     <use xlink:href=\"#m4da6755309\" x=\"113.309808\" y=\"81.974154\" style=\"fill: #dd8452; stroke: #333333\"/>\n",
       "     <use xlink:href=\"#m4da6755309\" x=\"222.663088\" y=\"194.791433\" style=\"fill: #dd8452; stroke: #333333\"/>\n",
       "     <use xlink:href=\"#m4da6755309\" x=\"226.505753\" y=\"195.265157\" style=\"fill: #dd8452; stroke: #333333\"/>\n",
       "     <use xlink:href=\"#m4da6755309\" x=\"114.112936\" y=\"68.465513\" style=\"fill: #dd8452; stroke: #333333\"/>\n",
       "     <use xlink:href=\"#m4da6755309\" x=\"102.688953\" y=\"76.15534\" style=\"fill: #dd8452; stroke: #333333\"/>\n",
       "     <use xlink:href=\"#m4da6755309\" x=\"231.927296\" y=\"195.229855\" style=\"fill: #dd8452; stroke: #333333\"/>\n",
       "     <use xlink:href=\"#m4da6755309\" x=\"236.046369\" y=\"203.46217\" style=\"fill: #dd8452; stroke: #333333\"/>\n",
       "     <use xlink:href=\"#m4da6755309\" x=\"222.016828\" y=\"184.882807\" style=\"fill: #dd8452; stroke: #333333\"/>\n",
       "     <use xlink:href=\"#m4da6755309\" x=\"111.029179\" y=\"80.859012\" style=\"fill: #dd8452; stroke: #333333\"/>\n",
       "     <use xlink:href=\"#m4da6755309\" x=\"126.657522\" y=\"78.885637\" style=\"fill: #dd8452; stroke: #333333\"/>\n",
       "     <use xlink:href=\"#m4da6755309\" x=\"230.045001\" y=\"187.090648\" style=\"fill: #dd8452; stroke: #333333\"/>\n",
       "    </g>\n",
       "   </g>\n",
       "   <g id=\"patch_3\">\n",
       "    <path d=\"M 66.023594 239.758125 \n",
       "L 66.023594 22.318125 \n",
       "\" style=\"fill: none; stroke: #ffffff; stroke-width: 1.25; stroke-linejoin: miter; stroke-linecap: square\"/>\n",
       "   </g>\n",
       "   <g id=\"patch_4\">\n",
       "    <path d=\"M 283.463594 239.758125 \n",
       "L 283.463594 22.318125 \n",
       "\" style=\"fill: none; stroke: #ffffff; stroke-width: 1.25; stroke-linejoin: miter; stroke-linecap: square\"/>\n",
       "   </g>\n",
       "   <g id=\"patch_5\">\n",
       "    <path d=\"M 66.023594 239.758125 \n",
       "L 283.463594 239.758125 \n",
       "\" style=\"fill: none; stroke: #ffffff; stroke-width: 1.25; stroke-linejoin: miter; stroke-linecap: square\"/>\n",
       "   </g>\n",
       "   <g id=\"patch_6\">\n",
       "    <path d=\"M 66.023594 22.318125 \n",
       "L 283.463594 22.318125 \n",
       "\" style=\"fill: none; stroke: #ffffff; stroke-width: 1.25; stroke-linejoin: miter; stroke-linecap: square\"/>\n",
       "   </g>\n",
       "   <g id=\"text_17\">\n",
       "    <!-- Dataset samples -->\n",
       "    <g style=\"fill: #262626\" transform=\"translate(124.400781 16.318125)scale(0.12 -0.12)\">\n",
       "     <defs>\n",
       "      <path id=\"DejaVuSans-44\" d=\"M 1259 4147 \n",
       "L 1259 519 \n",
       "L 2022 519 \n",
       "Q 2988 519 3436 956 \n",
       "Q 3884 1394 3884 2338 \n",
       "Q 3884 3275 3436 3711 \n",
       "Q 2988 4147 2022 4147 \n",
       "L 1259 4147 \n",
       "z\n",
       "M 628 4666 \n",
       "L 1925 4666 \n",
       "Q 3281 4666 3915 4102 \n",
       "Q 4550 3538 4550 2338 \n",
       "Q 4550 1131 3912 565 \n",
       "Q 3275 0 1925 0 \n",
       "L 628 0 \n",
       "L 628 4666 \n",
       "z\n",
       "\" transform=\"scale(0.015625)\"/>\n",
       "      <path id=\"DejaVuSans-61\" d=\"M 2194 1759 \n",
       "Q 1497 1759 1228 1600 \n",
       "Q 959 1441 959 1056 \n",
       "Q 959 750 1161 570 \n",
       "Q 1363 391 1709 391 \n",
       "Q 2188 391 2477 730 \n",
       "Q 2766 1069 2766 1631 \n",
       "L 2766 1759 \n",
       "L 2194 1759 \n",
       "z\n",
       "M 3341 1997 \n",
       "L 3341 0 \n",
       "L 2766 0 \n",
       "L 2766 531 \n",
       "Q 2569 213 2275 61 \n",
       "Q 1981 -91 1556 -91 \n",
       "Q 1019 -91 701 211 \n",
       "Q 384 513 384 1019 \n",
       "Q 384 1609 779 1909 \n",
       "Q 1175 2209 1959 2209 \n",
       "L 2766 2209 \n",
       "L 2766 2266 \n",
       "Q 2766 2663 2505 2880 \n",
       "Q 2244 3097 1772 3097 \n",
       "Q 1472 3097 1187 3025 \n",
       "Q 903 2953 641 2809 \n",
       "L 641 3341 \n",
       "Q 956 3463 1253 3523 \n",
       "Q 1550 3584 1831 3584 \n",
       "Q 2591 3584 2966 3190 \n",
       "Q 3341 2797 3341 1997 \n",
       "z\n",
       "\" transform=\"scale(0.015625)\"/>\n",
       "      <path id=\"DejaVuSans-74\" d=\"M 1172 4494 \n",
       "L 1172 3500 \n",
       "L 2356 3500 \n",
       "L 2356 3053 \n",
       "L 1172 3053 \n",
       "L 1172 1153 \n",
       "Q 1172 725 1289 603 \n",
       "Q 1406 481 1766 481 \n",
       "L 2356 481 \n",
       "L 2356 0 \n",
       "L 1766 0 \n",
       "Q 1100 0 847 248 \n",
       "Q 594 497 594 1153 \n",
       "L 594 3053 \n",
       "L 172 3053 \n",
       "L 172 3500 \n",
       "L 594 3500 \n",
       "L 594 4494 \n",
       "L 1172 4494 \n",
       "z\n",
       "\" transform=\"scale(0.015625)\"/>\n",
       "      <path id=\"DejaVuSans-73\" d=\"M 2834 3397 \n",
       "L 2834 2853 \n",
       "Q 2591 2978 2328 3040 \n",
       "Q 2066 3103 1784 3103 \n",
       "Q 1356 3103 1142 2972 \n",
       "Q 928 2841 928 2578 \n",
       "Q 928 2378 1081 2264 \n",
       "Q 1234 2150 1697 2047 \n",
       "L 1894 2003 \n",
       "Q 2506 1872 2764 1633 \n",
       "Q 3022 1394 3022 966 \n",
       "Q 3022 478 2636 193 \n",
       "Q 2250 -91 1575 -91 \n",
       "Q 1294 -91 989 -36 \n",
       "Q 684 19 347 128 \n",
       "L 347 722 \n",
       "Q 666 556 975 473 \n",
       "Q 1284 391 1588 391 \n",
       "Q 1994 391 2212 530 \n",
       "Q 2431 669 2431 922 \n",
       "Q 2431 1156 2273 1281 \n",
       "Q 2116 1406 1581 1522 \n",
       "L 1381 1569 \n",
       "Q 847 1681 609 1914 \n",
       "Q 372 2147 372 2553 \n",
       "Q 372 3047 722 3315 \n",
       "Q 1072 3584 1716 3584 \n",
       "Q 2034 3584 2315 3537 \n",
       "Q 2597 3491 2834 3397 \n",
       "z\n",
       "\" transform=\"scale(0.015625)\"/>\n",
       "      <path id=\"DejaVuSans-65\" d=\"M 3597 1894 \n",
       "L 3597 1613 \n",
       "L 953 1613 \n",
       "Q 991 1019 1311 708 \n",
       "Q 1631 397 2203 397 \n",
       "Q 2534 397 2845 478 \n",
       "Q 3156 559 3463 722 \n",
       "L 3463 178 \n",
       "Q 3153 47 2828 -22 \n",
       "Q 2503 -91 2169 -91 \n",
       "Q 1331 -91 842 396 \n",
       "Q 353 884 353 1716 \n",
       "Q 353 2575 817 3079 \n",
       "Q 1281 3584 2069 3584 \n",
       "Q 2775 3584 3186 3129 \n",
       "Q 3597 2675 3597 1894 \n",
       "z\n",
       "M 3022 2063 \n",
       "Q 3016 2534 2758 2815 \n",
       "Q 2500 3097 2075 3097 \n",
       "Q 1594 3097 1305 2825 \n",
       "Q 1016 2553 972 2059 \n",
       "L 3022 2063 \n",
       "z\n",
       "\" transform=\"scale(0.015625)\"/>\n",
       "      <path id=\"DejaVuSans-20\" transform=\"scale(0.015625)\"/>\n",
       "      <path id=\"DejaVuSans-6d\" d=\"M 3328 2828 \n",
       "Q 3544 3216 3844 3400 \n",
       "Q 4144 3584 4550 3584 \n",
       "Q 5097 3584 5394 3201 \n",
       "Q 5691 2819 5691 2113 \n",
       "L 5691 0 \n",
       "L 5113 0 \n",
       "L 5113 2094 \n",
       "Q 5113 2597 4934 2840 \n",
       "Q 4756 3084 4391 3084 \n",
       "Q 3944 3084 3684 2787 \n",
       "Q 3425 2491 3425 1978 \n",
       "L 3425 0 \n",
       "L 2847 0 \n",
       "L 2847 2094 \n",
       "Q 2847 2600 2669 2842 \n",
       "Q 2491 3084 2119 3084 \n",
       "Q 1678 3084 1418 2786 \n",
       "Q 1159 2488 1159 1978 \n",
       "L 1159 0 \n",
       "L 581 0 \n",
       "L 581 3500 \n",
       "L 1159 3500 \n",
       "L 1159 2956 \n",
       "Q 1356 3278 1631 3431 \n",
       "Q 1906 3584 2284 3584 \n",
       "Q 2666 3584 2933 3390 \n",
       "Q 3200 3197 3328 2828 \n",
       "z\n",
       "\" transform=\"scale(0.015625)\"/>\n",
       "      <path id=\"DejaVuSans-70\" d=\"M 1159 525 \n",
       "L 1159 -1331 \n",
       "L 581 -1331 \n",
       "L 581 3500 \n",
       "L 1159 3500 \n",
       "L 1159 2969 \n",
       "Q 1341 3281 1617 3432 \n",
       "Q 1894 3584 2278 3584 \n",
       "Q 2916 3584 3314 3078 \n",
       "Q 3713 2572 3713 1747 \n",
       "Q 3713 922 3314 415 \n",
       "Q 2916 -91 2278 -91 \n",
       "Q 1894 -91 1617 61 \n",
       "Q 1341 213 1159 525 \n",
       "z\n",
       "M 3116 1747 \n",
       "Q 3116 2381 2855 2742 \n",
       "Q 2594 3103 2138 3103 \n",
       "Q 1681 3103 1420 2742 \n",
       "Q 1159 2381 1159 1747 \n",
       "Q 1159 1113 1420 752 \n",
       "Q 1681 391 2138 391 \n",
       "Q 2594 391 2855 752 \n",
       "Q 3116 1113 3116 1747 \n",
       "z\n",
       "\" transform=\"scale(0.015625)\"/>\n",
       "      <path id=\"DejaVuSans-6c\" d=\"M 603 4863 \n",
       "L 1178 4863 \n",
       "L 1178 0 \n",
       "L 603 0 \n",
       "L 603 4863 \n",
       "z\n",
       "\" transform=\"scale(0.015625)\"/>\n",
       "     </defs>\n",
       "     <use xlink:href=\"#DejaVuSans-44\"/>\n",
       "     <use xlink:href=\"#DejaVuSans-61\" x=\"77.001953\"/>\n",
       "     <use xlink:href=\"#DejaVuSans-74\" x=\"138.28125\"/>\n",
       "     <use xlink:href=\"#DejaVuSans-61\" x=\"177.490234\"/>\n",
       "     <use xlink:href=\"#DejaVuSans-73\" x=\"238.769531\"/>\n",
       "     <use xlink:href=\"#DejaVuSans-65\" x=\"290.869141\"/>\n",
       "     <use xlink:href=\"#DejaVuSans-74\" x=\"352.392578\"/>\n",
       "     <use xlink:href=\"#DejaVuSans-20\" x=\"391.601562\"/>\n",
       "     <use xlink:href=\"#DejaVuSans-73\" x=\"423.388672\"/>\n",
       "     <use xlink:href=\"#DejaVuSans-61\" x=\"475.488281\"/>\n",
       "     <use xlink:href=\"#DejaVuSans-6d\" x=\"536.767578\"/>\n",
       "     <use xlink:href=\"#DejaVuSans-70\" x=\"634.179688\"/>\n",
       "     <use xlink:href=\"#DejaVuSans-6c\" x=\"697.65625\"/>\n",
       "     <use xlink:href=\"#DejaVuSans-65\" x=\"725.439453\"/>\n",
       "     <use xlink:href=\"#DejaVuSans-73\" x=\"786.962891\"/>\n",
       "    </g>\n",
       "   </g>\n",
       "   <g id=\"legend_1\">\n",
       "    <g id=\"patch_7\">\n",
       "     <path d=\"M 73.723594 148.834063 \n",
       "L 148.356875 148.834063 \n",
       "Q 150.556875 148.834063 150.556875 146.634063 \n",
       "L 150.556875 115.442187 \n",
       "Q 150.556875 113.242188 148.356875 113.242188 \n",
       "L 73.723594 113.242188 \n",
       "Q 71.523594 113.242188 71.523594 115.442187 \n",
       "L 71.523594 146.634063 \n",
       "Q 71.523594 148.834063 73.723594 148.834063 \n",
       "z\n",
       "\" style=\"fill: #eaeaf2; opacity: 0.8; stroke: #cccccc; stroke-linejoin: miter\"/>\n",
       "    </g>\n",
       "    <g id=\"PathCollection_3\">\n",
       "     <g>\n",
       "      <use xlink:href=\"#mc868d7e588\" x=\"86.923594\" y=\"123.112969\" style=\"fill: #4c72b0; stroke: #333333\"/>\n",
       "     </g>\n",
       "    </g>\n",
       "    <g id=\"text_18\">\n",
       "     <!-- Class 0 -->\n",
       "     <g style=\"fill: #262626\" transform=\"translate(106.723594 126.000469)scale(0.11 -0.11)\">\n",
       "      <defs>\n",
       "       <path id=\"DejaVuSans-43\" d=\"M 4122 4306 \n",
       "L 4122 3641 \n",
       "Q 3803 3938 3442 4084 \n",
       "Q 3081 4231 2675 4231 \n",
       "Q 1875 4231 1450 3742 \n",
       "Q 1025 3253 1025 2328 \n",
       "Q 1025 1406 1450 917 \n",
       "Q 1875 428 2675 428 \n",
       "Q 3081 428 3442 575 \n",
       "Q 3803 722 4122 1019 \n",
       "L 4122 359 \n",
       "Q 3791 134 3420 21 \n",
       "Q 3050 -91 2638 -91 \n",
       "Q 1578 -91 968 557 \n",
       "Q 359 1206 359 2328 \n",
       "Q 359 3453 968 4101 \n",
       "Q 1578 4750 2638 4750 \n",
       "Q 3056 4750 3426 4639 \n",
       "Q 3797 4528 4122 4306 \n",
       "z\n",
       "\" transform=\"scale(0.015625)\"/>\n",
       "      </defs>\n",
       "      <use xlink:href=\"#DejaVuSans-43\"/>\n",
       "      <use xlink:href=\"#DejaVuSans-6c\" x=\"69.824219\"/>\n",
       "      <use xlink:href=\"#DejaVuSans-61\" x=\"97.607422\"/>\n",
       "      <use xlink:href=\"#DejaVuSans-73\" x=\"158.886719\"/>\n",
       "      <use xlink:href=\"#DejaVuSans-73\" x=\"210.986328\"/>\n",
       "      <use xlink:href=\"#DejaVuSans-20\" x=\"263.085938\"/>\n",
       "      <use xlink:href=\"#DejaVuSans-30\" x=\"294.873047\"/>\n",
       "     </g>\n",
       "    </g>\n",
       "    <g id=\"PathCollection_4\">\n",
       "     <g>\n",
       "      <use xlink:href=\"#m4da6755309\" x=\"86.923594\" y=\"139.258906\" style=\"fill: #dd8452; stroke: #333333\"/>\n",
       "     </g>\n",
       "    </g>\n",
       "    <g id=\"text_19\">\n",
       "     <!-- Class 1 -->\n",
       "     <g style=\"fill: #262626\" transform=\"translate(106.723594 142.146406)scale(0.11 -0.11)\">\n",
       "      <use xlink:href=\"#DejaVuSans-43\"/>\n",
       "      <use xlink:href=\"#DejaVuSans-6c\" x=\"69.824219\"/>\n",
       "      <use xlink:href=\"#DejaVuSans-61\" x=\"97.607422\"/>\n",
       "      <use xlink:href=\"#DejaVuSans-73\" x=\"158.886719\"/>\n",
       "      <use xlink:href=\"#DejaVuSans-73\" x=\"210.986328\"/>\n",
       "      <use xlink:href=\"#DejaVuSans-20\" x=\"263.085938\"/>\n",
       "      <use xlink:href=\"#DejaVuSans-31\" x=\"294.873047\"/>\n",
       "     </g>\n",
       "    </g>\n",
       "   </g>\n",
       "  </g>\n",
       " </g>\n",
       " <defs>\n",
       "  <clipPath id=\"pe79691eb7b\">\n",
       "   <rect x=\"66.023594\" y=\"22.318125\" width=\"217.44\" height=\"217.44\"/>\n",
       "  </clipPath>\n",
       " </defs>\n",
       "</svg>\n"
      ],
      "text/plain": [
       "<Figure size 2000x2000 with 1 Axes>"
      ]
     },
     "metadata": {},
     "output_type": "display_data"
    }
   ],
   "source": [
    "def visualize_classification(state, data, label):\n",
    "    data_0 = data[label == 0]\n",
    "    data_1 = data[label == 1]\n",
    "    \n",
    "    fig = plt.figure(figsize=(4,4), dpi=500)\n",
    "    plt.scatter(data_0[:,0], data_0[:,1], edgecolor=\"#333\", label=\"Class 0\")\n",
    "    plt.scatter(data_1[:,0], data_1[:,1], edgecolor=\"#333\", label=\"Class 1\")\n",
    "    plt.title(\"Dataset samples\")\n",
    "    plt.ylabel(r\"$x_2$\")\n",
    "    plt.xlabel(r\"$x_1$\")\n",
    "    plt.legend()\n",
    "    \n",
    "    # Let's make use of a lot of operations we have learned above\n",
    "    c0 = np.array(to_rgba(\"C0\"))\n",
    "    c1 = np.array(to_rgba(\"C1\"))\n",
    "    x1 = jnp.arange(-0.5, 1.5, step=0.01)\n",
    "    x2 = jnp.arange(-0.5, 1.5, step=0.01)\n",
    "    xx1, xx2 = jnp.meshgrid(x1, x2, indexing='ij')  # Meshgrid function as in numpy\n",
    "    model_inputs = np.stack([xx1, xx2], axis=-1)\n",
    "    logits = state.apply_fn(state.params, model_inputs)\n",
    "    preds = nn.sigmoid(logits)\n",
    "    output_image = (1 - preds) * c0[None,None] + preds * c1[None,None]  # Specifying \"None\" in a dimension creates a new one\n",
    "    output_image = jax.device_get(output_image)  # Convert to numpy array. This only works for tensors on CPU, hence first push to CPU\n",
    "    plt.imshow(output_image, origin='lower', extent=(-0.5, 1.5, -0.5, 1.5))\n",
    "    plt.grid(False)\n",
    "    return fig\n",
    "\n",
    "_ = visualize_classification(trained_model_state, dataset.data, dataset.label)\n",
    "plt.show()"
   ]
  },
  {
   "cell_type": "markdown",
   "metadata": {},
   "source": [
    "The decision boundaries might not look exactly as in the figure in the preamble of this section, since this has been created with the PyTorch version of the tutorial. Nevertheless, the result on the accuracy metric should be the approximately the same. "
   ]
  },
  {
   "cell_type": "markdown",
   "metadata": {},
   "source": [
    "### Conclusion\n",
    "\n",
    "This concludes our tutorial on training a neural network with JAX. While the functional programming perspective of JAX may seem very different to PyTorch at first, it enables a considerable speedup in training, not only for tiny models like here. If you are interested in seeing more practical use cases of JAX, we recommend checking out our other JAX Tutorials, such as:\n",
    "\n",
    "* [Tutorial 5 (JAX): Inception, ResNet and DenseNet](https://uvadlc-notebooks.readthedocs.io/en/latest/tutorial_notebooks/JAX/tutorial5/Inception_ResNet_DenseNet.html) gives an intro to training convolutional classifiers on CIFAR10.\n",
    "* [Tutorial 6 (JAX): Transformers and Multi-Head Attention](https://uvadlc-notebooks.readthedocs.io/en/latest/tutorial_notebooks/JAX/tutorial6/Transformers_and_MHAttention.html) builds a Transformer from scratch with Flax.\n",
    "* [Tutorial 9 (JAX): Deep Autoencoders](https://uvadlc-notebooks.readthedocs.io/en/latest/tutorial_notebooks/JAX/tutorial9/AE_CIFAR10.html) shows how to train autoencoders on CIFAR10."
   ]
  },
  {
   "cell_type": "markdown",
   "metadata": {},
   "source": [
    "## ✨ The Fancy Bits ✨\n",
    "\n",
    "After reading this tutorial, you might wonder why we left out some key advertisement points of JAX: automatic vectorization, easy parallelization on multiple accelerators, etc. The reason why we did not include them in our previous discuss is that for building simple networks, and actual most models in our tutorials, you do not really need these methods. However, since they can be handy at some times, for instance, if you have access to a large cluster or are faced with functions that are annoying to vectorize, we review them here in a separate section: the Fancy Bits of JAX (the title is inspired by JAX's tutorial [🔪 JAX - The Sharp Bits 🔪](https://jax.readthedocs.io/en/latest/notebooks/Common_Gotchas_in_JAX.html))."
   ]
  },
  {
   "cell_type": "markdown",
   "metadata": {},
   "source": [
    "### Automatic Vectorization with vmap\n",
    "\n",
    "In machine learning, we often vectorize methods to efficiently process multiple inputs or batch elements at the same time. Usually, we have to write the code ourselves to support additional dimensions to vectorize over. However, since JAX can already transform functions to run efficiently on accelerators or calculate gradients, it can also automatically vectorize a function. For instance, let's consider a simple linear layer where we write a function for a single input `x` of shape `[c_in]`, a weight matrix `[c_in, c_out]`, and a bias vector `[c_out]`: "
   ]
  },
  {
   "cell_type": "code",
   "execution_count": 68,
   "metadata": {},
   "outputs": [],
   "source": [
    "def simple_linear(x, w, b):\n",
    "    # We could already vectorize this function with matmul, but as an example,\n",
    "    # let us use a non-vectorized function with same output\n",
    "    return (x[:,None] * w).sum(axis=0) + b"
   ]
  },
  {
   "cell_type": "code",
   "execution_count": 75,
   "metadata": {},
   "outputs": [
    {
     "data": {
      "text/plain": [
       "DeviceArray([0.9690286 , 5.6132255 , 0.85254896], dtype=float32)"
      ]
     },
     "execution_count": 75,
     "metadata": {},
     "output_type": "execute_result"
    }
   ],
   "source": [
    "# Example inputs\n",
    "rng, x_rng, w_rng, b_rng = jax.random.split(rng, 4)\n",
    "x_in = jax.random.normal(x_rng, (4,))\n",
    "w_in = jax.random.normal(w_rng, (4, 3))\n",
    "b_in = jax.random.normal(b_rng, (3,))\n",
    "\n",
    "simple_linear(x_in, w_in, b_in)"
   ]
  },
  {
   "cell_type": "markdown",
   "metadata": {},
   "source": [
    "Now, we would like the function to support a batch dimension on `x`, i.e. `[batch, c_in]`. Our naive implementation above does not support this, since we specialzed the axis we sum over. So, let's make JAX do the work for us and vectorize the function by using `jax.vmap`:"
   ]
  },
  {
   "cell_type": "code",
   "execution_count": 76,
   "metadata": {},
   "outputs": [],
   "source": [
    "vectorized_linear = jax.vmap(simple_linear,\n",
    "                             in_axes=(0, None, None),  # Which axes to vectorize for each input\n",
    "                             out_axes=0  # Which axes to map to in the output\n",
    "                            )"
   ]
  },
  {
   "cell_type": "markdown",
   "metadata": {},
   "source": [
    "The function `vectorized_linear` now supports an extra batch dimension in `x`! Let's try it out:"
   ]
  },
  {
   "cell_type": "code",
   "execution_count": 77,
   "metadata": {},
   "outputs": [
    {
     "data": {
      "text/plain": [
       "DeviceArray([[0.9690286 , 5.6132255 , 0.85254896],\n",
       "             [0.9690286 , 5.6132255 , 0.85254896],\n",
       "             [0.9690286 , 5.6132255 , 0.85254896],\n",
       "             [0.9690286 , 5.6132255 , 0.85254896],\n",
       "             [0.9690286 , 5.6132255 , 0.85254896]], dtype=float32)"
      ]
     },
     "execution_count": 77,
     "metadata": {},
     "output_type": "execute_result"
    }
   ],
   "source": [
    "x_vec_in = jnp.stack([x_in]*5, axis=0)\n",
    "\n",
    "vectorized_linear(x_vec_in, w_in, b_in)"
   ]
  },
  {
   "cell_type": "markdown",
   "metadata": {},
   "source": [
    "The new function indeed vectorized our code, calculating $N$ applications of the weights and bias to the input. We can also vectorize the code to run multiple inputs `x` on multiple weights `w` and biases `b` by changing the input argument `in_axes` to `(0, 0, 0)`, or simply `0`. Morever, we can again stack multiple function transformations, such as jitting a vectorized function. Further details on `jax.vmap` can be found in this [tutorial](\n",
    "https://jax.readthedocs.io/en/latest/jax-101/03-vectorization.html\n",
    ") and its [documentation](https://jax.readthedocs.io/en/latest/_autosummary/jax.vmap.html?highlight=vmap)."
   ]
  },
  {
   "cell_type": "markdown",
   "metadata": {},
   "source": [
    "### Parallel evaluation with pmap\n",
    "\n",
    "`jax.vmap` vectorizes a function on a single accelerator. But what if we have multiple GPUs or TPUs available? In PyTorch, we can parallelize a model over multiple GPUs using `nn.DistributedDataParallel`. In JAX, this is yet another function transformation: `jax.pmap`. Similar to `jax.vmap`, we can specify over which axes each input should be parallelized. In a network training, we usually want to parallelize over an extra batch dimension in the data, while the parameters are identical for all devices. For more details on `jax.pmap`, see [Parallel Evaluation in JAX](https://jax.readthedocs.io/en/latest/jax-101/06-parallelism.html)."
   ]
  },
  {
   "cell_type": "markdown",
   "metadata": {},
   "source": [
    "### Working with PyTrees\n",
    "\n",
    "Network parameters in Flax are stored in a PyTree. We have visited them before, but what we haven't discuss yet is JAX's utilities to operate on pytrees! One common application is to obtain a list of all parameters in the network. This corresponds to extracting all leafs from a PyTree, for which JAX provides the function `jax.tree_leaves`:"
   ]
  },
  {
   "cell_type": "code",
   "execution_count": 83,
   "metadata": {},
   "outputs": [
    {
     "name": "stdout",
     "output_type": "stream",
     "text": [
      "We have parameters with the following shapes: (8,), (2, 8), (1,), (8, 1)\n",
      "Overall parameter count: 33\n"
     ]
    }
   ],
   "source": [
    "parameters = jax.tree_leaves(model_state.params)\n",
    "print('We have parameters with the following shapes:', ', '.join([str(p.shape) for p in parameters]))\n",
    "print('Overall parameter count:', sum([np.prod(p.shape) for p in parameters]))"
   ]
  },
  {
   "cell_type": "markdown",
   "metadata": {},
   "source": [
    "We can also create new PyTrees that are the result of applying a function on all elements in the tree using `jax.tree_map`. For instance, let's obtain a PyTree with all parameter shapes:"
   ]
  },
  {
   "cell_type": "code",
   "execution_count": 84,
   "metadata": {},
   "outputs": [
    {
     "data": {
      "text/plain": [
       "FrozenDict({\n",
       "    params: {\n",
       "        linear1: {\n",
       "            bias: (8,),\n",
       "            kernel: (2, 8),\n",
       "        },\n",
       "        linear2: {\n",
       "            bias: (1,),\n",
       "            kernel: (8, 1),\n",
       "        },\n",
       "    },\n",
       "})"
      ]
     },
     "execution_count": 84,
     "metadata": {},
     "output_type": "execute_result"
    }
   ],
   "source": [
    "jax.tree_map(lambda p: p.shape, model_state.params)"
   ]
  },
  {
   "cell_type": "markdown",
   "metadata": {},
   "source": [
    "The nodes of PyTrees do not necessarily need to be NumPy or JAX arrays, but can be arbitrary objects. Overall, PyTrees provide a simple, structured representation of data useful in many applications. More details can be found in JAX's Tutorial [Working with PyTrees](https://jax.readthedocs.io/en/latest/jax-101/05.1-pytrees.html)."
   ]
  },
  {
   "cell_type": "markdown",
   "metadata": {},
   "source": [
    "## 🔪 The Sharp Bits 🔪\n",
    "\n",
    "Since JAX functions need to be written with certain constraints, there are situations where this can get annoying or difficult. A great overview of those, why they are needed, and most importantly, what to do about them, can be found in the original JAX tutorial [🔪 The Sharp Bits 🔪](https://jax.readthedocs.io/en/latest/notebooks/Common_Gotchas_in_JAX.html). In this final section of the tutorial, we want to visit a few of those points we have not explicitly discussed yet. Furthermore, we also focus on the combination with Flax, and what can be annoying when training models."
   ]
  },
  {
   "cell_type": "markdown",
   "metadata": {},
   "source": [
    "### Dynamic shapes\n",
    "\n",
    "JAX has the great advantage of providing just-in-time compilation of functions to speed up the computation. For this, it uses its intermediate representation jaxpr, which is specialized to the shapes of the input arguments. However, this also means that a jitted function is specialized to a certain shape, and running the jitted function with a different input shape requires to re-compile the function. For instance, consider the following simple function:"
   ]
  },
  {
   "cell_type": "code",
   "execution_count": 95,
   "metadata": {},
   "outputs": [],
   "source": [
    "def my_function(x):\n",
    "    print('Running the function with shape', x.shape)\n",
    "    return x.mean()\n",
    "\n",
    "jitted_function = jax.jit(my_function)"
   ]
  },
  {
   "cell_type": "markdown",
   "metadata": {},
   "source": [
    "The print statement is only executed once when the function is compiled, and for all consecutive function calls, this print statement will be ignored since it is not part of the jaxpr representation. Let's run the function now with multiple different input shapes:"
   ]
  },
  {
   "cell_type": "code",
   "execution_count": 96,
   "metadata": {},
   "outputs": [
    {
     "name": "stdout",
     "output_type": "stream",
     "text": [
      "Running the function with shape (1,)\n",
      "Running the function with shape (2,)\n",
      "Running the function with shape (3,)\n",
      "Running the function with shape (4,)\n",
      "Running the function with shape (5,)\n",
      "Running the function with shape (6,)\n",
      "Running the function with shape (7,)\n",
      "Running the function with shape (8,)\n",
      "Running the function with shape (9,)\n",
      "Running the function with shape (10,)\n"
     ]
    }
   ],
   "source": [
    "for i in range(10):\n",
    "    jitted_function(jnp.zeros(i+1,))"
   ]
  },
  {
   "cell_type": "markdown",
   "metadata": {},
   "source": [
    "As we can see, the function is compiled for every different input we give it. This can become inefficient if we actually work with many different shapes. However, running the function again with one of the previous input shapes will not require another compilation:"
   ]
  },
  {
   "cell_type": "code",
   "execution_count": 97,
   "metadata": {},
   "outputs": [],
   "source": [
    "# Running the functions a second time will not print out anything since\n",
    "# the functions are already jitted for the respective input shapes.\n",
    "for i in range(10):\n",
    "    jitted_function(jnp.zeros(i+1,))"
   ]
  },
  {
   "cell_type": "markdown",
   "metadata": {},
   "source": [
    "If we have a very limited set of different shapes, we do not see a big performance difference. For instance, in our evaluation, the last batch size is smaller than the previous since we have a limited size of the evaluation dataset. However, for other applications, we might encounter this problem much more often: NLP and time series, and graphs. In these cases, it is recommend to pad the batches to prevent many re-compilations (see Flax's [padding guide](https://flax.readthedocs.io/en/latest/howtos/full_eval.html) for details). We shortly review the two scenarios below.\n",
    "\n",
    "#### NLP and time series\n",
    "\n",
    "In Natural Language Processing, our data consists of sentence which strongly vary in size. Already for batching the elements, we need to apply padding, such that the shape of the batch is determined by the largest sentence in the batch. However, this largest length can vary between batches, especially when we shuffle the dataset before each epoch. In PyTorch, this is not a problem since the dynamic computation graph allows us to stop the computation whenever we need to. In contrast, JAX would need to recompile the forward pass for every single largest sentence length, which can quickly become very expensive. Padding is needed to reduce the number of compilations, but at the same time introduces unnecessary computation. Hence, we have tradeoff between number of compilations versus extra compute per batch. In the extreme case, PyTorch may even become faster than JAX here.\n",
    "\n",
    "#### Graphs\n",
    "\n",
    "Similar to NLP, graphs can vary in their size. Often, graphs differ in their number of nodes, but especially in the number of edges. Furthermore, when we start batching the graphs, the variation of node sizes and edge count considerably increases. Again, padding is needed to reduce the number of compilations, and we will revisit this topic in Tutorial 7 (TBD)."
   ]
  },
  {
   "cell_type": "markdown",
   "metadata": {},
   "source": [
    "### Debugging in jitted functions\n",
    "\n",
    "During coding, we likely want to debug our model and sometimes print out intermediate values. In JAX, when jitting functions, this is not as straight-forward. As we could see from the previous cells, a print statement is only executed once during compilation, and afterwards removed since it is not part of the jaxpr representation. Furthermore, there can be issues when tracking NaNs in your code (see the [sharp bits tutorial](https://jax.readthedocs.io/en/latest/notebooks/Common_Gotchas_in_JAX.html#debugging-nans)), and errors like out-of-bounds indexing are silently handled on accelerators by returning -1 instead of an error (see the corresponding section in the [sharp bits tutorial](https://jax.readthedocs.io/en/latest/notebooks/Common_Gotchas_in_JAX.html#out-of-bounds-indexing)). However, if necessary, one can either run the unjitted version of the forward pass first, and even introduce print statements to the jitted version where needed (see [here](https://github.com/google/jax/issues/196) for a great explanation). Still, it is not as straight-forward as in PyTorch, for example."
   ]
  },
  {
   "cell_type": "markdown",
   "metadata": {},
   "source": [
    "### Modules with different train and evaluation functions\n",
    "\n"
   ]
  },
  {
   "cell_type": "markdown",
   "metadata": {},
   "source": [
    "#### BatchNorm\n",
    "\n",
    "Discuss a bit the batch statistics problem"
   ]
  },
  {
   "cell_type": "markdown",
   "metadata": {},
   "source": [
    "#### Dropout\n",
    "\n",
    "Always pushing extra rng throughout the network"
   ]
  },
  {
   "cell_type": "markdown",
   "metadata": {},
   "source": [
    "---\n",
    "\n",
    "[![Star our repository](https://img.shields.io/static/v1.svg?logo=star&label=⭐&message=Star%20Our%20Repository&color=yellow)](https://github.com/phlippe/uvadlc_notebooks/)  If you found this tutorial helpful, consider ⭐-ing our repository.    \n",
    "[![Ask questions](https://img.shields.io/static/v1.svg?logo=star&label=❔&message=Ask%20Questions&color=9cf)](https://github.com/phlippe/uvadlc_notebooks/issues)  For any questions, typos, or bugs that you found, please raise an issue on GitHub. \n",
    "\n",
    "---"
   ]
  }
 ],
 "metadata": {
  "kernelspec": {
   "display_name": "Python 3 (ipykernel)",
   "language": "python",
   "name": "python3"
  },
  "language_info": {
   "codemirror_mode": {
    "name": "ipython",
    "version": 3
   },
   "file_extension": ".py",
   "mimetype": "text/x-python",
   "name": "python",
   "nbconvert_exporter": "python",
   "pygments_lexer": "ipython3",
   "version": "3.8.2"
  }
 },
 "nbformat": 4,
 "nbformat_minor": 4
}
