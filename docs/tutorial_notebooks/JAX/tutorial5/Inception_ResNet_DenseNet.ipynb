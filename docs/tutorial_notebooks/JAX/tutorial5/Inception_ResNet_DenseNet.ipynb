{
 "cells": [
  {
   "cell_type": "markdown",
   "metadata": {},
   "source": [
    "# Tutorial 5: Inception, ResNet and DenseNet\n",
    "\n",
    "![Status](https://img.shields.io/static/v1.svg?label=Status&message=Finished&color=green)\n",
    "\n",
    "\n",
    "**Filled notebook:** \n",
    "[![View on Github](https://img.shields.io/static/v1.svg?logo=github&label=Repo&message=View%20On%20Github&color=lightgrey)](https://github.com/phlippe/uvadlc_notebooks/blob/master/docs/tutorial_notebooks/JAX/tutorial5/Inception_ResNet_DenseNet.ipynb)\n",
    "[![Open In Collab](https://colab.research.google.com/assets/colab-badge.svg)](https://colab.research.google.com/github/phlippe/uvadlc_notebooks/blob/master/docs/tutorial_notebooks/JAX/tutorial5/Inception_ResNet_DenseNet.ipynb)   \n",
    "**Pre-trained models:** \n",
    "[![View files on Github](https://img.shields.io/static/v1.svg?logo=github&label=Repo&message=View%20On%20Github&color=lightgrey)](https://github.com/phlippe/saved_models/tree/main/JAX/tutorial5)   \n",
    "**PyTorch version:**\n",
    "[![View on RTD](https://img.shields.io/static/v1.svg?logo=readthedocs&label=RTD&message=View%20On%20RTD&color=8CA1AF)](https://uvadlc-notebooks.readthedocs.io/en/latest/tutorial_notebooks/tutorial5/Inception_ResNet_DenseNet.html)   \n",
    "**Author:** Phillip Lippe"
   ]
  },
  {
   "cell_type": "markdown",
   "metadata": {},
   "source": [
    "<div class=\"alert alert-info\">\n",
    "\n",
    "**Note:** This notebook is written in JAX+Flax. It is a 1-to-1 translation of the original notebook written in PyTorch+PyTorch Lightning with almost identical results. It is not intended as a full deep-dive tutorial on how JAX+Flax works (see respective documentations for great tutorial), but rather as an example of how those libraries can be used in practice. Still, throughout the notebook, we comment on major differences to the PyTorch version and provide explanations for the major parts of the JAX code.\n",
    "</div>"
   ]
  },
  {
   "cell_type": "markdown",
   "metadata": {},
   "source": [
    "In this tutorial, we will implement and discuss variants of modern CNN architectures. There have been many different architectures been proposed over the past few years. Some of the most impactful ones, and still relevant today, are the following: [GoogleNet](https://arxiv.org/abs/1409.4842)/Inception architecture (winner of ILSVRC 2014), [ResNet](https://arxiv.org/abs/1512.03385) (winner of ILSVRC 2015), and [DenseNet](https://arxiv.org/abs/1608.06993) (best paper award CVPR 2017). All of them were state-of-the-art models when being proposed, and the core ideas of these networks are the foundations for most current state-of-the-art architectures. Thus, it is important to understand these architectures in detail and learn how to implement them. \n",
    "\n",
    "Let's start with importing our standard libraries here."
   ]
  },
  {
   "cell_type": "code",
   "execution_count": 1,
   "metadata": {},
   "outputs": [
    {
     "name": "stderr",
     "output_type": "stream",
     "text": [
      "/tmp/ipykernel_511124/3838553707.py:14: DeprecationWarning: `set_matplotlib_formats` is deprecated since IPython 7.23, directly use `matplotlib_inline.backend_inline.set_matplotlib_formats()`\n",
      "  set_matplotlib_formats('svg', 'pdf') # For export\n"
     ]
    }
   ],
   "source": [
    "## Standard libraries\n",
    "import os\n",
    "import numpy as np \n",
    "import random\n",
    "from PIL import Image\n",
    "from typing import Any\n",
    "from collections import defaultdict\n",
    "import time\n",
    "\n",
    "## Imports for plotting\n",
    "import matplotlib.pyplot as plt\n",
    "%matplotlib inline \n",
    "from IPython.display import set_matplotlib_formats\n",
    "set_matplotlib_formats('svg', 'pdf') # For export\n",
    "import matplotlib\n",
    "matplotlib.rcParams['lines.linewidth'] = 2.0\n",
    "import seaborn as sns\n",
    "sns.reset_orig()\n",
    "\n",
    "from tqdm.auto import tqdm\n",
    "\n",
    "## JAX\n",
    "import jax\n",
    "import jax.numpy as jnp\n",
    "from jax import random\n",
    "\n",
    "## Flax (NN in JAX)\n",
    "try:\n",
    "    import flax\n",
    "except ModuleNotFoundError: # Install flax if missing\n",
    "    !pip install --quiet flax\n",
    "    import flax\n",
    "from flax import linen as nn\n",
    "from flax.training import train_state, checkpoints\n",
    "\n",
    "## Optax (Optimizers in JAX)\n",
    "try:\n",
    "    import optax\n",
    "except ModuleNotFoundError: # Install optax if missing\n",
    "    !pip install --quiet optax\n",
    "    import optax\n",
    "\n",
    "## PyTorch\n",
    "import torch\n",
    "import torch.utils.data as data\n",
    "from torch.utils.tensorboard import SummaryWriter\n",
    "import torchvision\n",
    "from torchvision import transforms\n",
    "from torchvision.datasets import CIFAR10"
   ]
  },
  {
   "cell_type": "markdown",
   "metadata": {},
   "source": [
    "We will use the same path variables `DATASET_PATH` and `CHECKPOINT_PATH` as in the previous tutorials. Adjust the paths if necessary."
   ]
  },
  {
   "cell_type": "code",
   "execution_count": 2,
   "metadata": {},
   "outputs": [
    {
     "name": "stdout",
     "output_type": "stream",
     "text": [
      "Device: gpu:0\n"
     ]
    }
   ],
   "source": [
    "# Path to the folder where the datasets are/should be downloaded (e.g. CIFAR10)\n",
    "DATASET_PATH = \"../../data\"\n",
    "# Path to the folder where the pretrained models are saved\n",
    "CHECKPOINT_PATH = \"../../saved_models/tutorial5_jax\"\n",
    "\n",
    "# Seeding for random operations\n",
    "main_rng = random.PRNGKey(42)\n",
    "\n",
    "print(\"Device:\", jax.devices()[0])"
   ]
  },
  {
   "cell_type": "markdown",
   "metadata": {},
   "source": [
    "We also have pretrained models and Tensorboards (more on this later) for this tutorial, and download them below."
   ]
  },
  {
   "cell_type": "code",
   "execution_count": 3,
   "metadata": {},
   "outputs": [
    {
     "name": "stdout",
     "output_type": "stream",
     "text": [
      "Downloading https://raw.githubusercontent.com/phlippe/saved_models/main/JAX/tutorial5/GoogleNet.ckpt...\n",
      "Something went wrong. Please try to download the file from the GDrive folder, or contact the author with the full output including the following error:\n",
      " HTTP Error 404: Not Found\n",
      "Downloading https://raw.githubusercontent.com/phlippe/saved_models/main/JAX/tutorial5/ResNet.ckpt...\n",
      "Something went wrong. Please try to download the file from the GDrive folder, or contact the author with the full output including the following error:\n",
      " HTTP Error 404: Not Found\n",
      "Downloading https://raw.githubusercontent.com/phlippe/saved_models/main/JAX/tutorial5/ResNetPreAct.ckpt...\n",
      "Something went wrong. Please try to download the file from the GDrive folder, or contact the author with the full output including the following error:\n",
      " HTTP Error 404: Not Found\n",
      "Downloading https://raw.githubusercontent.com/phlippe/saved_models/main/JAX/tutorial5/DenseNet.ckpt...\n",
      "Something went wrong. Please try to download the file from the GDrive folder, or contact the author with the full output including the following error:\n",
      " HTTP Error 404: Not Found\n",
      "Downloading https://raw.githubusercontent.com/phlippe/saved_models/main/JAX/tutorial5/tensorboards/GoogleNet/events.out.tfevents.googlenet...\n",
      "Something went wrong. Please try to download the file from the GDrive folder, or contact the author with the full output including the following error:\n",
      " HTTP Error 404: Not Found\n",
      "Downloading https://raw.githubusercontent.com/phlippe/saved_models/main/JAX/tutorial5/tensorboards/ResNet/events.out.tfevents.resnet...\n",
      "Something went wrong. Please try to download the file from the GDrive folder, or contact the author with the full output including the following error:\n",
      " HTTP Error 404: Not Found\n",
      "Downloading https://raw.githubusercontent.com/phlippe/saved_models/main/JAX/tutorial5/tensorboards/ResNetPreAct/events.out.tfevents.resnetpreact...\n",
      "Something went wrong. Please try to download the file from the GDrive folder, or contact the author with the full output including the following error:\n",
      " HTTP Error 404: Not Found\n",
      "Downloading https://raw.githubusercontent.com/phlippe/saved_models/main/JAX/tutorial5/tensorboards/DenseNet/events.out.tfevents.densenet...\n",
      "Something went wrong. Please try to download the file from the GDrive folder, or contact the author with the full output including the following error:\n",
      " HTTP Error 404: Not Found\n"
     ]
    }
   ],
   "source": [
    "import urllib.request\n",
    "from urllib.error import HTTPError\n",
    "# Github URL where saved models are stored for this tutorial\n",
    "base_url = \"https://raw.githubusercontent.com/phlippe/saved_models/main/JAX/tutorial5/\"\n",
    "# Files to download\n",
    "pretrained_files = [\"GoogleNet.ckpt\", \"ResNet.ckpt\", \"ResNetPreAct.ckpt\", \"DenseNet.ckpt\",\n",
    "                    \"tensorboards/GoogleNet/events.out.tfevents.googlenet\",\n",
    "                    \"tensorboards/ResNet/events.out.tfevents.resnet\",\n",
    "                    \"tensorboards/ResNetPreAct/events.out.tfevents.resnetpreact\",\n",
    "                    \"tensorboards/DenseNet/events.out.tfevents.densenet\"]\n",
    "# Create checkpoint path if it doesn't exist yet\n",
    "os.makedirs(CHECKPOINT_PATH, exist_ok=True)\n",
    "\n",
    "# For each file, check whether it already exists. If not, try downloading it.\n",
    "for file_name in pretrained_files:\n",
    "    file_path = os.path.join(CHECKPOINT_PATH, file_name)\n",
    "    if \"/\" in file_name:\n",
    "        os.makedirs(file_path.rsplit(\"/\",1)[0], exist_ok=True)\n",
    "    if not os.path.isfile(file_path):\n",
    "        file_url = base_url + file_name\n",
    "        print(f\"Downloading {file_url}...\")\n",
    "        try:\n",
    "            urllib.request.urlretrieve(file_url, file_path)\n",
    "        except HTTPError as e:\n",
    "            print(\"Something went wrong. Please try to download the file from the GDrive folder, or contact the author with the full output including the following error:\\n\", e)"
   ]
  },
  {
   "cell_type": "markdown",
   "metadata": {},
   "source": [
    "Throughout this tutorial, we will train and evaluate the models on the CIFAR10 dataset. This allows you to compare the results obtained here with the model you have implemented in the first assignment. As we have learned from the previous tutorial about initialization, it is important to have the data preprocessed with a zero mean. Therefore, as a first step, we will calculate the mean and standard deviation of the CIFAR dataset:"
   ]
  },
  {
   "cell_type": "code",
   "execution_count": 4,
   "metadata": {},
   "outputs": [
    {
     "name": "stdout",
     "output_type": "stream",
     "text": [
      "Files already downloaded and verified\n",
      "Data mean [0.49139968 0.48215841 0.44653091]\n",
      "Data std [0.24703223 0.24348513 0.26158784]\n"
     ]
    }
   ],
   "source": [
    "train_dataset = CIFAR10(root=DATASET_PATH, train=True, download=True)\n",
    "DATA_MEANS = (train_dataset.data / 255.0).mean(axis=(0,1,2))\n",
    "DATA_STD = (train_dataset.data / 255.0).std(axis=(0,1,2))\n",
    "print(\"Data mean\", DATA_MEANS)\n",
    "print(\"Data std\", DATA_STD)"
   ]
  },
  {
   "cell_type": "markdown",
   "metadata": {},
   "source": [
    "We will use this information to normalize our data accordingly. Additionally, we will use transformations from the package `torchvision` to implement data augmentations during training. This reduces the risk of overfitting and helps CNNs to generalize better. Specifically, we will apply two random augmentations. \n",
    "\n",
    "First, we will flip each image horizontally by a chance of 50% (`transforms.RandomHorizontalFlip`). The object class usually does not change when flipping an image, and we don't expect any image information to be dependent on the horizontal orientation. This would be however different if we would try to detect digits or letters in an image, as those have a certain orientation.\n",
    "\n",
    "The second augmentation we use is called `transforms.RandomResizedCrop`. This transformation scales the image in a small range, while eventually changing the aspect ratio, and crops it afterward in the previous size. Therefore, the actual pixel values change while the content or overall semantics of the image stays the same. \n",
    "\n",
    "We will randomly split the training dataset into a training and a validation set. The validation set will be used for determining early stopping. After finishing the training, we test the models on the CIFAR test set."
   ]
  },
  {
   "cell_type": "code",
   "execution_count": 5,
   "metadata": {},
   "outputs": [
    {
     "name": "stdout",
     "output_type": "stream",
     "text": [
      "Files already downloaded and verified\n",
      "Files already downloaded and verified\n",
      "Files already downloaded and verified\n"
     ]
    }
   ],
   "source": [
    "# Transformations applied on each image => bring them into a numpy array\n",
    "def image_to_numpy(img):\n",
    "    img = np.array(img, dtype=np.float32)\n",
    "    img = (img / 255. - DATA_MEANS) / DATA_STD\n",
    "    return img\n",
    "\n",
    "# For visualization, we might want to map JAX or numpy tensors back to PyTorch\n",
    "def jax_to_torch(imgs):\n",
    "    imgs = jax.device_get(imgs)\n",
    "    imgs = torch.from_numpy(imgs.astype(np.float32))\n",
    "    imgs = imgs.permute(0, 3, 1, 2)\n",
    "    return imgs\n",
    "\n",
    "# We need to stack the batch elements\n",
    "def numpy_collate(batch):\n",
    "    if isinstance(batch[0], np.ndarray):\n",
    "        return np.stack(batch)\n",
    "    elif isinstance(batch[0], (tuple,list)):\n",
    "        transposed = zip(*batch)\n",
    "        return [numpy_collate(samples) for samples in transposed]\n",
    "    else:\n",
    "        return np.array(batch)\n",
    "\n",
    "    \n",
    "test_transform = image_to_numpy\n",
    "# For training, we add some augmentation. Networks are too powerful and would overfit.\n",
    "train_transform = transforms.Compose([transforms.RandomHorizontalFlip(),\n",
    "                                      transforms.RandomResizedCrop((32,32),scale=(0.8,1.0),ratio=(0.9,1.1)),\n",
    "                                      image_to_numpy\n",
    "                                     ])\n",
    "# Loading the training dataset. We need to split it into a training and validation part\n",
    "# We need to do a little trick because the validation set should not use the augmentation.\n",
    "train_dataset = CIFAR10(root=DATASET_PATH, train=True, transform=train_transform, download=True)\n",
    "val_dataset = CIFAR10(root=DATASET_PATH, train=True, transform=test_transform, download=True)\n",
    "train_set, _ = torch.utils.data.random_split(train_dataset, [45000, 5000], generator=torch.Generator().manual_seed(42))\n",
    "_, val_set = torch.utils.data.random_split(val_dataset, [45000, 5000], generator=torch.Generator().manual_seed(42))\n",
    "\n",
    "# Loading the test set\n",
    "test_set = CIFAR10(root=DATASET_PATH, train=False, transform=test_transform, download=True)\n",
    "\n",
    "# We define a set of data loaders that we can use for various purposes later.\n",
    "train_loader = data.DataLoader(train_set, \n",
    "                               batch_size=128, \n",
    "                               shuffle=True, \n",
    "                               drop_last=True, \n",
    "                               collate_fn=numpy_collate, \n",
    "                               num_workers=8,\n",
    "                               persistent_workers=True)\n",
    "val_loader   = data.DataLoader(val_set, \n",
    "                               batch_size=128, \n",
    "                               shuffle=False, \n",
    "                               drop_last=False, \n",
    "                               collate_fn=numpy_collate, \n",
    "                               num_workers=4,\n",
    "                               persistent_workers=True)\n",
    "test_loader  = data.DataLoader(test_set, \n",
    "                               batch_size=128, \n",
    "                               shuffle=False, \n",
    "                               drop_last=False, \n",
    "                               collate_fn=numpy_collate, \n",
    "                               num_workers=4,\n",
    "                               persistent_workers=True)"
   ]
  },
  {
   "cell_type": "markdown",
   "metadata": {},
   "source": [
    "To verify that our normalization works, we can print out the mean and standard deviation of the single batch. The mean should be close to 0 and the standard deviation close to 1 for each channel:"
   ]
  },
  {
   "cell_type": "code",
   "execution_count": 6,
   "metadata": {},
   "outputs": [
    {
     "name": "stdout",
     "output_type": "stream",
     "text": [
      "Batch mean [0.08378001 0.07819909 0.08331909]\n",
      "Batch std [1.00727175 1.00068543 0.99755913]\n"
     ]
    }
   ],
   "source": [
    "imgs, _ = next(iter(train_loader))\n",
    "print(\"Batch mean\", imgs.mean(axis=(0,1,2)))\n",
    "print(\"Batch std\", imgs.std(axis=(0,1,2)))"
   ]
  },
  {
   "cell_type": "markdown",
   "metadata": {},
   "source": [
    "Finally, let's visualize a few images from the training set, and how they look like after random data augmentation: "
   ]
  },
  {
   "cell_type": "code",
   "execution_count": 7,
   "metadata": {},
   "outputs": [
    {
     "data": {
      "application/pdf": "[encoded data removed]",
      "image/svg+xml": [
       "<?xml version=\"1.0\" encoding=\"utf-8\" standalone=\"no\"?>\n",
       "<!DOCTYPE svg PUBLIC \"-//W3C//DTD SVG 1.1//EN\"\n",
       "  \"http://www.w3.org/Graphics/SVG/1.1/DTD/svg11.dtd\">\n",
       "<svg xmlns:xlink=\"http://www.w3.org/1999/xlink\" width=\"460.8pt\" height=\"255.952908pt\" viewBox=\"0 0 460.8 255.952908\" xmlns=\"http://www.w3.org/2000/svg\" version=\"1.1\">\n",
       " <metadata>\n",
       "  <rdf:RDF xmlns:dc=\"http://purl.org/dc/elements/1.1/\" xmlns:cc=\"http://creativecommons.org/ns#\" xmlns:rdf=\"http://www.w3.org/1999/02/22-rdf-syntax-ns#\">\n",
       "   <cc:Work>\n",
       "    <dc:type rdf:resource=\"http://purl.org/dc/dcmitype/StillImage\"/>\n",
       "    <dc:date>2022-06-02T14:41:55.296490</dc:date>\n",
       "    <dc:format>image/svg+xml</dc:format>\n",
       "    <dc:creator>\n",
       "     <cc:Agent>\n",
       "      <dc:title>Matplotlib v3.5.1, https://matplotlib.org/</dc:title>\n",
       "     </cc:Agent>\n",
       "    </dc:creator>\n",
       "   </cc:Work>\n",
       "  </rdf:RDF>\n",
       " </metadata>\n",
       " <defs>\n",
       "  <style type=\"text/css\">*{stroke-linejoin: round; stroke-linecap: butt}</style>\n",
       " </defs>\n",
       " <g id=\"figure_1\">\n",
       "  <g id=\"patch_1\">\n",
       "   <path d=\"M 0 255.952908 \n",
       "L 460.8 255.952908 \n",
       "L 460.8 0 \n",
       "L 0 0 \n",
       "L 0 255.952908 \n",
       "z\n",
       "\" style=\"fill: none\"/>\n",
       "  </g>\n",
       "  <g id=\"axes_1\">\n",
       "   <g clip-path=\"url(#p474fef5080)\">\n",
       "    <image xlink:href=\"data:image/png;base64,\n",
       "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\" id=\"imagebcdbd123ff\" transform=\"scale(1 -1)translate(0 -227)\" x=\"7.2\" y=\"-21.752908\" width=\"447\" height=\"227\"/>\n",
       "   </g>\n",
       "   <g id=\"text_1\">\n",
       "    <!-- Augmentation examples on CIFAR10 -->\n",
       "    <g transform=\"translate(120.904687 16.318125)scale(0.12 -0.12)\">\n",
       "     <defs>\n",
       "      <path id=\"DejaVuSans-41\" d=\"M 2188 4044 \n",
       "L 1331 1722 \n",
       "L 3047 1722 \n",
       "L 2188 4044 \n",
       "z\n",
       "M 1831 4666 \n",
       "L 2547 4666 \n",
       "L 4325 0 \n",
       "L 3669 0 \n",
       "L 3244 1197 \n",
       "L 1141 1197 \n",
       "L 716 0 \n",
       "L 50 0 \n",
       "L 1831 4666 \n",
       "z\n",
       "\" transform=\"scale(0.015625)\"/>\n",
       "      <path id=\"DejaVuSans-75\" d=\"M 544 1381 \n",
       "L 544 3500 \n",
       "L 1119 3500 \n",
       "L 1119 1403 \n",
       "Q 1119 906 1312 657 \n",
       "Q 1506 409 1894 409 \n",
       "Q 2359 409 2629 706 \n",
       "Q 2900 1003 2900 1516 \n",
       "L 2900 3500 \n",
       "L 3475 3500 \n",
       "L 3475 0 \n",
       "L 2900 0 \n",
       "L 2900 538 \n",
       "Q 2691 219 2414 64 \n",
       "Q 2138 -91 1772 -91 \n",
       "Q 1169 -91 856 284 \n",
       "Q 544 659 544 1381 \n",
       "z\n",
       "M 1991 3584 \n",
       "L 1991 3584 \n",
       "z\n",
       "\" transform=\"scale(0.015625)\"/>\n",
       "      <path id=\"DejaVuSans-67\" d=\"M 2906 1791 \n",
       "Q 2906 2416 2648 2759 \n",
       "Q 2391 3103 1925 3103 \n",
       "Q 1463 3103 1205 2759 \n",
       "Q 947 2416 947 1791 \n",
       "Q 947 1169 1205 825 \n",
       "Q 1463 481 1925 481 \n",
       "Q 2391 481 2648 825 \n",
       "Q 2906 1169 2906 1791 \n",
       "z\n",
       "M 3481 434 \n",
       "Q 3481 -459 3084 -895 \n",
       "Q 2688 -1331 1869 -1331 \n",
       "Q 1566 -1331 1297 -1286 \n",
       "Q 1028 -1241 775 -1147 \n",
       "L 775 -588 \n",
       "Q 1028 -725 1275 -790 \n",
       "Q 1522 -856 1778 -856 \n",
       "Q 2344 -856 2625 -561 \n",
       "Q 2906 -266 2906 331 \n",
       "L 2906 616 \n",
       "Q 2728 306 2450 153 \n",
       "Q 2172 0 1784 0 \n",
       "Q 1141 0 747 490 \n",
       "Q 353 981 353 1791 \n",
       "Q 353 2603 747 3093 \n",
       "Q 1141 3584 1784 3584 \n",
       "Q 2172 3584 2450 3431 \n",
       "Q 2728 3278 2906 2969 \n",
       "L 2906 3500 \n",
       "L 3481 3500 \n",
       "L 3481 434 \n",
       "z\n",
       "\" transform=\"scale(0.015625)\"/>\n",
       "      <path id=\"DejaVuSans-6d\" d=\"M 3328 2828 \n",
       "Q 3544 3216 3844 3400 \n",
       "Q 4144 3584 4550 3584 \n",
       "Q 5097 3584 5394 3201 \n",
       "Q 5691 2819 5691 2113 \n",
       "L 5691 0 \n",
       "L 5113 0 \n",
       "L 5113 2094 \n",
       "Q 5113 2597 4934 2840 \n",
       "Q 4756 3084 4391 3084 \n",
       "Q 3944 3084 3684 2787 \n",
       "Q 3425 2491 3425 1978 \n",
       "L 3425 0 \n",
       "L 2847 0 \n",
       "L 2847 2094 \n",
       "Q 2847 2600 2669 2842 \n",
       "Q 2491 3084 2119 3084 \n",
       "Q 1678 3084 1418 2786 \n",
       "Q 1159 2488 1159 1978 \n",
       "L 1159 0 \n",
       "L 581 0 \n",
       "L 581 3500 \n",
       "L 1159 3500 \n",
       "L 1159 2956 \n",
       "Q 1356 3278 1631 3431 \n",
       "Q 1906 3584 2284 3584 \n",
       "Q 2666 3584 2933 3390 \n",
       "Q 3200 3197 3328 2828 \n",
       "z\n",
       "\" transform=\"scale(0.015625)\"/>\n",
       "      <path id=\"DejaVuSans-65\" d=\"M 3597 1894 \n",
       "L 3597 1613 \n",
       "L 953 1613 \n",
       "Q 991 1019 1311 708 \n",
       "Q 1631 397 2203 397 \n",
       "Q 2534 397 2845 478 \n",
       "Q 3156 559 3463 722 \n",
       "L 3463 178 \n",
       "Q 3153 47 2828 -22 \n",
       "Q 2503 -91 2169 -91 \n",
       "Q 1331 -91 842 396 \n",
       "Q 353 884 353 1716 \n",
       "Q 353 2575 817 3079 \n",
       "Q 1281 3584 2069 3584 \n",
       "Q 2775 3584 3186 3129 \n",
       "Q 3597 2675 3597 1894 \n",
       "z\n",
       "M 3022 2063 \n",
       "Q 3016 2534 2758 2815 \n",
       "Q 2500 3097 2075 3097 \n",
       "Q 1594 3097 1305 2825 \n",
       "Q 1016 2553 972 2059 \n",
       "L 3022 2063 \n",
       "z\n",
       "\" transform=\"scale(0.015625)\"/>\n",
       "      <path id=\"DejaVuSans-6e\" d=\"M 3513 2113 \n",
       "L 3513 0 \n",
       "L 2938 0 \n",
       "L 2938 2094 \n",
       "Q 2938 2591 2744 2837 \n",
       "Q 2550 3084 2163 3084 \n",
       "Q 1697 3084 1428 2787 \n",
       "Q 1159 2491 1159 1978 \n",
       "L 1159 0 \n",
       "L 581 0 \n",
       "L 581 3500 \n",
       "L 1159 3500 \n",
       "L 1159 2956 \n",
       "Q 1366 3272 1645 3428 \n",
       "Q 1925 3584 2291 3584 \n",
       "Q 2894 3584 3203 3211 \n",
       "Q 3513 2838 3513 2113 \n",
       "z\n",
       "\" transform=\"scale(0.015625)\"/>\n",
       "      <path id=\"DejaVuSans-74\" d=\"M 1172 4494 \n",
       "L 1172 3500 \n",
       "L 2356 3500 \n",
       "L 2356 3053 \n",
       "L 1172 3053 \n",
       "L 1172 1153 \n",
       "Q 1172 725 1289 603 \n",
       "Q 1406 481 1766 481 \n",
       "L 2356 481 \n",
       "L 2356 0 \n",
       "L 1766 0 \n",
       "Q 1100 0 847 248 \n",
       "Q 594 497 594 1153 \n",
       "L 594 3053 \n",
       "L 172 3053 \n",
       "L 172 3500 \n",
       "L 594 3500 \n",
       "L 594 4494 \n",
       "L 1172 4494 \n",
       "z\n",
       "\" transform=\"scale(0.015625)\"/>\n",
       "      <path id=\"DejaVuSans-61\" d=\"M 2194 1759 \n",
       "Q 1497 1759 1228 1600 \n",
       "Q 959 1441 959 1056 \n",
       "Q 959 750 1161 570 \n",
       "Q 1363 391 1709 391 \n",
       "Q 2188 391 2477 730 \n",
       "Q 2766 1069 2766 1631 \n",
       "L 2766 1759 \n",
       "L 2194 1759 \n",
       "z\n",
       "M 3341 1997 \n",
       "L 3341 0 \n",
       "L 2766 0 \n",
       "L 2766 531 \n",
       "Q 2569 213 2275 61 \n",
       "Q 1981 -91 1556 -91 \n",
       "Q 1019 -91 701 211 \n",
       "Q 384 513 384 1019 \n",
       "Q 384 1609 779 1909 \n",
       "Q 1175 2209 1959 2209 \n",
       "L 2766 2209 \n",
       "L 2766 2266 \n",
       "Q 2766 2663 2505 2880 \n",
       "Q 2244 3097 1772 3097 \n",
       "Q 1472 3097 1187 3025 \n",
       "Q 903 2953 641 2809 \n",
       "L 641 3341 \n",
       "Q 956 3463 1253 3523 \n",
       "Q 1550 3584 1831 3584 \n",
       "Q 2591 3584 2966 3190 \n",
       "Q 3341 2797 3341 1997 \n",
       "z\n",
       "\" transform=\"scale(0.015625)\"/>\n",
       "      <path id=\"DejaVuSans-69\" d=\"M 603 3500 \n",
       "L 1178 3500 \n",
       "L 1178 0 \n",
       "L 603 0 \n",
       "L 603 3500 \n",
       "z\n",
       "M 603 4863 \n",
       "L 1178 4863 \n",
       "L 1178 4134 \n",
       "L 603 4134 \n",
       "L 603 4863 \n",
       "z\n",
       "\" transform=\"scale(0.015625)\"/>\n",
       "      <path id=\"DejaVuSans-6f\" d=\"M 1959 3097 \n",
       "Q 1497 3097 1228 2736 \n",
       "Q 959 2375 959 1747 \n",
       "Q 959 1119 1226 758 \n",
       "Q 1494 397 1959 397 \n",
       "Q 2419 397 2687 759 \n",
       "Q 2956 1122 2956 1747 \n",
       "Q 2956 2369 2687 2733 \n",
       "Q 2419 3097 1959 3097 \n",
       "z\n",
       "M 1959 3584 \n",
       "Q 2709 3584 3137 3096 \n",
       "Q 3566 2609 3566 1747 \n",
       "Q 3566 888 3137 398 \n",
       "Q 2709 -91 1959 -91 \n",
       "Q 1206 -91 779 398 \n",
       "Q 353 888 353 1747 \n",
       "Q 353 2609 779 3096 \n",
       "Q 1206 3584 1959 3584 \n",
       "z\n",
       "\" transform=\"scale(0.015625)\"/>\n",
       "      <path id=\"DejaVuSans-20\" transform=\"scale(0.015625)\"/>\n",
       "      <path id=\"DejaVuSans-78\" d=\"M 3513 3500 \n",
       "L 2247 1797 \n",
       "L 3578 0 \n",
       "L 2900 0 \n",
       "L 1881 1375 \n",
       "L 863 0 \n",
       "L 184 0 \n",
       "L 1544 1831 \n",
       "L 300 3500 \n",
       "L 978 3500 \n",
       "L 1906 2253 \n",
       "L 2834 3500 \n",
       "L 3513 3500 \n",
       "z\n",
       "\" transform=\"scale(0.015625)\"/>\n",
       "      <path id=\"DejaVuSans-70\" d=\"M 1159 525 \n",
       "L 1159 -1331 \n",
       "L 581 -1331 \n",
       "L 581 3500 \n",
       "L 1159 3500 \n",
       "L 1159 2969 \n",
       "Q 1341 3281 1617 3432 \n",
       "Q 1894 3584 2278 3584 \n",
       "Q 2916 3584 3314 3078 \n",
       "Q 3713 2572 3713 1747 \n",
       "Q 3713 922 3314 415 \n",
       "Q 2916 -91 2278 -91 \n",
       "Q 1894 -91 1617 61 \n",
       "Q 1341 213 1159 525 \n",
       "z\n",
       "M 3116 1747 \n",
       "Q 3116 2381 2855 2742 \n",
       "Q 2594 3103 2138 3103 \n",
       "Q 1681 3103 1420 2742 \n",
       "Q 1159 2381 1159 1747 \n",
       "Q 1159 1113 1420 752 \n",
       "Q 1681 391 2138 391 \n",
       "Q 2594 391 2855 752 \n",
       "Q 3116 1113 3116 1747 \n",
       "z\n",
       "\" transform=\"scale(0.015625)\"/>\n",
       "      <path id=\"DejaVuSans-6c\" d=\"M 603 4863 \n",
       "L 1178 4863 \n",
       "L 1178 0 \n",
       "L 603 0 \n",
       "L 603 4863 \n",
       "z\n",
       "\" transform=\"scale(0.015625)\"/>\n",
       "      <path id=\"DejaVuSans-73\" d=\"M 2834 3397 \n",
       "L 2834 2853 \n",
       "Q 2591 2978 2328 3040 \n",
       "Q 2066 3103 1784 3103 \n",
       "Q 1356 3103 1142 2972 \n",
       "Q 928 2841 928 2578 \n",
       "Q 928 2378 1081 2264 \n",
       "Q 1234 2150 1697 2047 \n",
       "L 1894 2003 \n",
       "Q 2506 1872 2764 1633 \n",
       "Q 3022 1394 3022 966 \n",
       "Q 3022 478 2636 193 \n",
       "Q 2250 -91 1575 -91 \n",
       "Q 1294 -91 989 -36 \n",
       "Q 684 19 347 128 \n",
       "L 347 722 \n",
       "Q 666 556 975 473 \n",
       "Q 1284 391 1588 391 \n",
       "Q 1994 391 2212 530 \n",
       "Q 2431 669 2431 922 \n",
       "Q 2431 1156 2273 1281 \n",
       "Q 2116 1406 1581 1522 \n",
       "L 1381 1569 \n",
       "Q 847 1681 609 1914 \n",
       "Q 372 2147 372 2553 \n",
       "Q 372 3047 722 3315 \n",
       "Q 1072 3584 1716 3584 \n",
       "Q 2034 3584 2315 3537 \n",
       "Q 2597 3491 2834 3397 \n",
       "z\n",
       "\" transform=\"scale(0.015625)\"/>\n",
       "      <path id=\"DejaVuSans-43\" d=\"M 4122 4306 \n",
       "L 4122 3641 \n",
       "Q 3803 3938 3442 4084 \n",
       "Q 3081 4231 2675 4231 \n",
       "Q 1875 4231 1450 3742 \n",
       "Q 1025 3253 1025 2328 \n",
       "Q 1025 1406 1450 917 \n",
       "Q 1875 428 2675 428 \n",
       "Q 3081 428 3442 575 \n",
       "Q 3803 722 4122 1019 \n",
       "L 4122 359 \n",
       "Q 3791 134 3420 21 \n",
       "Q 3050 -91 2638 -91 \n",
       "Q 1578 -91 968 557 \n",
       "Q 359 1206 359 2328 \n",
       "Q 359 3453 968 4101 \n",
       "Q 1578 4750 2638 4750 \n",
       "Q 3056 4750 3426 4639 \n",
       "Q 3797 4528 4122 4306 \n",
       "z\n",
       "\" transform=\"scale(0.015625)\"/>\n",
       "      <path id=\"DejaVuSans-49\" d=\"M 628 4666 \n",
       "L 1259 4666 \n",
       "L 1259 0 \n",
       "L 628 0 \n",
       "L 628 4666 \n",
       "z\n",
       "\" transform=\"scale(0.015625)\"/>\n",
       "      <path id=\"DejaVuSans-46\" d=\"M 628 4666 \n",
       "L 3309 4666 \n",
       "L 3309 4134 \n",
       "L 1259 4134 \n",
       "L 1259 2759 \n",
       "L 3109 2759 \n",
       "L 3109 2228 \n",
       "L 1259 2228 \n",
       "L 1259 0 \n",
       "L 628 0 \n",
       "L 628 4666 \n",
       "z\n",
       "\" transform=\"scale(0.015625)\"/>\n",
       "      <path id=\"DejaVuSans-52\" d=\"M 2841 2188 \n",
       "Q 3044 2119 3236 1894 \n",
       "Q 3428 1669 3622 1275 \n",
       "L 4263 0 \n",
       "L 3584 0 \n",
       "L 2988 1197 \n",
       "Q 2756 1666 2539 1819 \n",
       "Q 2322 1972 1947 1972 \n",
       "L 1259 1972 \n",
       "L 1259 0 \n",
       "L 628 0 \n",
       "L 628 4666 \n",
       "L 2053 4666 \n",
       "Q 2853 4666 3247 4331 \n",
       "Q 3641 3997 3641 3322 \n",
       "Q 3641 2881 3436 2590 \n",
       "Q 3231 2300 2841 2188 \n",
       "z\n",
       "M 1259 4147 \n",
       "L 1259 2491 \n",
       "L 2053 2491 \n",
       "Q 2509 2491 2742 2702 \n",
       "Q 2975 2913 2975 3322 \n",
       "Q 2975 3731 2742 3939 \n",
       "Q 2509 4147 2053 4147 \n",
       "L 1259 4147 \n",
       "z\n",
       "\" transform=\"scale(0.015625)\"/>\n",
       "      <path id=\"DejaVuSans-31\" d=\"M 794 531 \n",
       "L 1825 531 \n",
       "L 1825 4091 \n",
       "L 703 3866 \n",
       "L 703 4441 \n",
       "L 1819 4666 \n",
       "L 2450 4666 \n",
       "L 2450 531 \n",
       "L 3481 531 \n",
       "L 3481 0 \n",
       "L 794 0 \n",
       "L 794 531 \n",
       "z\n",
       "\" transform=\"scale(0.015625)\"/>\n",
       "      <path id=\"DejaVuSans-30\" d=\"M 2034 4250 \n",
       "Q 1547 4250 1301 3770 \n",
       "Q 1056 3291 1056 2328 \n",
       "Q 1056 1369 1301 889 \n",
       "Q 1547 409 2034 409 \n",
       "Q 2525 409 2770 889 \n",
       "Q 3016 1369 3016 2328 \n",
       "Q 3016 3291 2770 3770 \n",
       "Q 2525 4250 2034 4250 \n",
       "z\n",
       "M 2034 4750 \n",
       "Q 2819 4750 3233 4129 \n",
       "Q 3647 3509 3647 2328 \n",
       "Q 3647 1150 3233 529 \n",
       "Q 2819 -91 2034 -91 \n",
       "Q 1250 -91 836 529 \n",
       "Q 422 1150 422 2328 \n",
       "Q 422 3509 836 4129 \n",
       "Q 1250 4750 2034 4750 \n",
       "z\n",
       "\" transform=\"scale(0.015625)\"/>\n",
       "     </defs>\n",
       "     <use xlink:href=\"#DejaVuSans-41\"/>\n",
       "     <use xlink:href=\"#DejaVuSans-75\" x=\"68.408203\"/>\n",
       "     <use xlink:href=\"#DejaVuSans-67\" x=\"131.787109\"/>\n",
       "     <use xlink:href=\"#DejaVuSans-6d\" x=\"195.263672\"/>\n",
       "     <use xlink:href=\"#DejaVuSans-65\" x=\"292.675781\"/>\n",
       "     <use xlink:href=\"#DejaVuSans-6e\" x=\"354.199219\"/>\n",
       "     <use xlink:href=\"#DejaVuSans-74\" x=\"417.578125\"/>\n",
       "     <use xlink:href=\"#DejaVuSans-61\" x=\"456.787109\"/>\n",
       "     <use xlink:href=\"#DejaVuSans-74\" x=\"518.066406\"/>\n",
       "     <use xlink:href=\"#DejaVuSans-69\" x=\"557.275391\"/>\n",
       "     <use xlink:href=\"#DejaVuSans-6f\" x=\"585.058594\"/>\n",
       "     <use xlink:href=\"#DejaVuSans-6e\" x=\"646.240234\"/>\n",
       "     <use xlink:href=\"#DejaVuSans-20\" x=\"709.619141\"/>\n",
       "     <use xlink:href=\"#DejaVuSans-65\" x=\"741.40625\"/>\n",
       "     <use xlink:href=\"#DejaVuSans-78\" x=\"801.179688\"/>\n",
       "     <use xlink:href=\"#DejaVuSans-61\" x=\"860.359375\"/>\n",
       "     <use xlink:href=\"#DejaVuSans-6d\" x=\"921.638672\"/>\n",
       "     <use xlink:href=\"#DejaVuSans-70\" x=\"1019.050781\"/>\n",
       "     <use xlink:href=\"#DejaVuSans-6c\" x=\"1082.527344\"/>\n",
       "     <use xlink:href=\"#DejaVuSans-65\" x=\"1110.310547\"/>\n",
       "     <use xlink:href=\"#DejaVuSans-73\" x=\"1171.833984\"/>\n",
       "     <use xlink:href=\"#DejaVuSans-20\" x=\"1223.933594\"/>\n",
       "     <use xlink:href=\"#DejaVuSans-6f\" x=\"1255.720703\"/>\n",
       "     <use xlink:href=\"#DejaVuSans-6e\" x=\"1316.902344\"/>\n",
       "     <use xlink:href=\"#DejaVuSans-20\" x=\"1380.28125\"/>\n",
       "     <use xlink:href=\"#DejaVuSans-43\" x=\"1412.068359\"/>\n",
       "     <use xlink:href=\"#DejaVuSans-49\" x=\"1481.892578\"/>\n",
       "     <use xlink:href=\"#DejaVuSans-46\" x=\"1511.384766\"/>\n",
       "     <use xlink:href=\"#DejaVuSans-41\" x=\"1559.779297\"/>\n",
       "     <use xlink:href=\"#DejaVuSans-52\" x=\"1628.1875\"/>\n",
       "     <use xlink:href=\"#DejaVuSans-31\" x=\"1697.669922\"/>\n",
       "     <use xlink:href=\"#DejaVuSans-30\" x=\"1761.292969\"/>\n",
       "    </g>\n",
       "   </g>\n",
       "  </g>\n",
       " </g>\n",
       " <defs>\n",
       "  <clipPath id=\"p474fef5080\">\n",
       "   <rect x=\"7.2\" y=\"22.318125\" width=\"446.4\" height=\"226.434783\"/>\n",
       "  </clipPath>\n",
       " </defs>\n",
       "</svg>\n"
      ],
      "text/plain": [
       "<Figure size 576x576 with 1 Axes>"
      ]
     },
     "metadata": {
      "needs_background": "light"
     },
     "output_type": "display_data"
    }
   ],
   "source": [
    "NUM_IMAGES = 4\n",
    "images = [train_dataset[idx][0] for idx in range(NUM_IMAGES)]\n",
    "orig_images = [Image.fromarray(train_dataset.data[idx]) for idx in range(NUM_IMAGES)]\n",
    "orig_images = [test_transform(img) for img in orig_images]\n",
    "\n",
    "imgs = jax_to_torch(np.stack(images + orig_images, axis=0))\n",
    "img_grid = torchvision.utils.make_grid(imgs, nrow=4, normalize=True, pad_value=0.5)\n",
    "img_grid = img_grid.permute(1, 2, 0)\n",
    "\n",
    "plt.figure(figsize=(8,8))\n",
    "plt.title(\"Augmentation examples on CIFAR10\")\n",
    "plt.imshow(img_grid)\n",
    "plt.axis('off')\n",
    "plt.show()\n",
    "plt.close()"
   ]
  },
  {
   "cell_type": "markdown",
   "metadata": {},
   "source": [
    "## Trainer Module\n",
    "\n",
    "In the PyTorch version of this tutorial, we would now introduce the framework [PyTorch Lightning](https://www.pytorchlightning.ai/) which simplifies the overall training of a model. However, so far (June 2022), there is no equivalent for JAX. Hence, we need to write our own small training loop. \n",
    "\n",
    "For this, we take inspiration from PyTorch Lightning and build a trainer module/object with the following main functionalities:\n",
    "\n",
    "1. *Storing model and parameters*: In order to train multiple models with different hyperparameters, the trainer module creates an instance of the model class, and keeps the parameters in the same class. This way, we can easily apply a model with its parameters on new inputs.\n",
    "2. *Initialization of model and training state*: During initialization of the trainer, we initialize the model parameters and a new train state, which includes the optimizer and possible learning rate schedulers.\n",
    "3. *Training, validation and test loops*: Similar to PyTorch Lightning, we implement simple training, validation and test loops, where subclasses of this trainer could overwrite the respective training, validation or test steps. Since in this tutorial, all models will have the same objective, i.e. classification on CIFAR10, we will pre-specify them in the trainer module below.\n",
    "4. *Logging, saving and loading of models*: To keep track of the training, we implement functionalities to log the training progress and save the best model on the validation set. Afterwards, this model can be loaded from the disk. \n",
    "\n",
    "Let's implement these functionalities below:"
   ]
  },
  {
   "cell_type": "code",
   "execution_count": 8,
   "metadata": {},
   "outputs": [],
   "source": [
    "class TrainState(train_state.TrainState):\n",
    "    # A simple extension of TrainState to also include batch statistics\n",
    "    batch_stats: Any"
   ]
  },
  {
   "cell_type": "code",
   "execution_count": 108,
   "metadata": {},
   "outputs": [],
   "source": [
    "class TrainerModule:\n",
    "\n",
    "    def __init__(self, model_name, model_class, model_hparams, optimizer_name, optimizer_hparams, exmp_imgs, seed=42):\n",
    "        super().__init__()\n",
    "        self.model_name = model_name\n",
    "        self.model_class = model_class\n",
    "        self.model_hparams = model_hparams\n",
    "        self.optimizer_name = optimizer_name\n",
    "        self.optimizer_hparams = optimizer_hparams\n",
    "        self.seed = seed\n",
    "        # Create empty model. Note: no parameters yet\n",
    "        self.model = self.model_class(**self.model_hparams)\n",
    "        # Prepare logging\n",
    "        self.log_dir = os.path.join(CHECKPOINT_PATH, self.model_name)\n",
    "        self.logger = SummaryWriter(log_dir=self.log_dir)\n",
    "        # Create jitted training and eval functions\n",
    "        self.create_functions()\n",
    "        # Initialize model\n",
    "        self.init_model(exmp_imgs)\n",
    "\n",
    "    def create_functions(self):\n",
    "        # Function to calculate the classification loss and accuracy for a model\n",
    "        def calculate_loss(params, batch_stats, batch, train):\n",
    "            imgs, labels = batch\n",
    "            labels_onehot = jax.nn.one_hot(labels, num_classes=self.model.num_classes)\n",
    "            # During training, we need to update the BatchNorm statistics.\n",
    "            outs = self.model.apply({'params': params, 'batch_stats': batch_stats}, \n",
    "                                    imgs,\n",
    "                                    train=train,\n",
    "                                    mutable=['batch_stats'] if train else False)\n",
    "            logits, new_model_state = outs if train else (outs, None)\n",
    "            loss = optax.softmax_cross_entropy(logits, labels_onehot).mean()\n",
    "            acc = (logits.argmax(axis=-1) == labels).mean()\n",
    "            return loss, (acc, new_model_state)\n",
    "        \n",
    "        # Training function\n",
    "        def train_step(state, batch):\n",
    "            loss_fn = lambda params: calculate_loss(params, state.batch_stats, batch, train=True)\n",
    "            # Get loss, gradients for loss, and other outputs of loss function\n",
    "            ret, grads = jax.value_and_grad(loss_fn, has_aux=True)(state.params)  \n",
    "            loss, acc, new_model_state = ret[0], *ret[1]\n",
    "            # Update parameters\n",
    "            # state = state.apply_gradients(grads=grads)\n",
    "            state = state.apply_gradients(grads=grads, batch_stats=new_model_state['batch_stats'])\n",
    "            return state, loss, acc\n",
    "        self.train_step = jax.jit(train_step)\n",
    "        \n",
    "        # Eval function\n",
    "        def eval_step(state, batch):\n",
    "            _, (acc, _) = calculate_loss(state.params, state.batch_stats, batch, train=False)\n",
    "            return acc\n",
    "        self.eval_step = jax.jit(eval_step)\n",
    "\n",
    "    def init_model(self, exmp_imgs):\n",
    "        # Initialize model\n",
    "        rng = jax.random.PRNGKey(self.seed)\n",
    "        rng, init_rng = jax.random.split(rng)\n",
    "        variables = self.model.init(init_rng, exmp_imgs, train=True)\n",
    "        self.init_params, self.init_batch_stats = variables['params'], variables['batch_stats']\n",
    "        self.state = None\n",
    "        \n",
    "    def init_optimizer(self, num_epochs, steps_per_epoch):\n",
    "        # Initialize learning rate schedule and optimizer\n",
    "        if self.optimizer_name.lower() == 'adam':\n",
    "            opt_class = optax.adam\n",
    "        elif self.optimizer_name.lower() == 'adamw':\n",
    "            opt_class = optax.adamw\n",
    "        elif self.optimizer_name.lower() == 'sgd':\n",
    "            opt_class = optax.sgd\n",
    "        else:\n",
    "            assert False, f'Unknown optimizer \"{opt_class}\"'\n",
    "        # We decrease the learning rate by a factor of 0.1 after 60% and 85% of the training\n",
    "        num_steps_per_epoch = len(train_loader)\n",
    "        lr_schedule = optax.piecewise_constant_schedule(\n",
    "            init_value=self.optimizer_hparams.pop('lr'),\n",
    "            boundaries_and_scales=\n",
    "                {int(num_steps_per_epoch*num_epochs*0.6): 0.1,\n",
    "                 int(num_steps_per_epoch*num_epochs*0.85): 0.1}\n",
    "        )\n",
    "        transf = [optax.clip(1.0)]\n",
    "        if opt_class == optax.sgd and 'weight_decay' in self.optimizer_hparams:\n",
    "            transf.append(optax.add_decayed_weights(self.optimizer_hparams.pop('weight_decay')))\n",
    "        optimizer = optax.chain(\n",
    "            optax.clip(1.0),  # Clip gradients at 1\n",
    "            opt_class(lr_schedule, **self.optimizer_hparams)\n",
    "        )\n",
    "        # Initialize training state\n",
    "        self.state = TrainState.create(apply_fn=self.model.apply, \n",
    "                                       params=self.init_params if self.state is None else self.state.params,\n",
    "                                       batch_stats=self.init_batch_stats if self.state is None else self.state.batch_stats,\n",
    "                                       tx=optimizer)\n",
    "\n",
    "    def train_model(self, train_loader, val_loader, num_epochs=200):\n",
    "        # Train model for defined number of epochs\n",
    "        # We first need to create optimizer and the scheduler for the given number of epochs\n",
    "        self.init_optimizer(num_epochs, len(train_loader))\n",
    "        # Track best eval accuracy\n",
    "        best_eval = 0.0\n",
    "        for epoch_idx in tqdm(range(1, num_epochs+1)):\n",
    "            self.train_epoch(epoch=epoch_idx)\n",
    "            if epoch_idx % 2 == 0:\n",
    "                eval_acc = self.eval_model(val_loader)\n",
    "                self.logger.add_scalar('val/acc', eval_acc, global_step=epoch_idx)\n",
    "                if eval_acc >= best_eval:\n",
    "                    best_eval = eval_acc\n",
    "                    self.save_model(step=epoch_idx)\n",
    "                self.logger.flush()\n",
    "\n",
    "    def train_epoch(self, epoch):\n",
    "        # Train model for one epoch, and log avg loss and accuracy\n",
    "        metrics = defaultdict(list)\n",
    "        for batch in tqdm(train_loader, desc='Training', leave=False):\n",
    "            self.state, loss, acc = self.train_step(self.state, batch)\n",
    "            metrics['loss'].append(loss)\n",
    "            metrics['acc'].append(acc)\n",
    "        for key in metrics:\n",
    "            avg_val = np.stack(jax.device_get(metrics[key])).mean()\n",
    "            self.logger.add_scalar('train/'+key, avg_val, global_step=epoch)\n",
    "\n",
    "    def eval_model(self, data_loader):\n",
    "        # Test model on all images of a data loader and return avg loss\n",
    "        correct_class, count = 0, 0\n",
    "        for batch in data_loader:\n",
    "            acc = self.eval_step(self.state, batch)\n",
    "            correct_class += acc * batch[0].shape[0]\n",
    "            count += batch[0].shape[0]\n",
    "        eval_acc = (correct_class / count).item()\n",
    "        return eval_acc\n",
    "\n",
    "    def save_model(self, step=0):\n",
    "        # Save current model at certain training iteration\n",
    "        checkpoints.save_checkpoint(ckpt_dir=self.log_dir, \n",
    "                                    target={'params': self.state.params, \n",
    "                                            'batch_stats': self.state.batch_stats}, \n",
    "                                    step=step,\n",
    "                                   overwrite=True)\n",
    "\n",
    "    def load_model(self, pretrained=False):\n",
    "        # Load model. We use different checkpoint for pretrained models\n",
    "        if not pretrained:\n",
    "            state_dict = checkpoints.restore_checkpoint(ckpt_dir=self.log_dir, target=None)\n",
    "        else:\n",
    "            state_dict = checkpoints.restore_checkpoint(ckpt_dir=os.path.join(CHECKPOINT_PATH, f'{self.model_name}.ckpt'), target=None)\n",
    "        self.state = TrainState.create(apply_fn=self.model.apply, \n",
    "                                       params=state_dict['params'],\n",
    "                                       batch_stats=state_dict['batch_stats'],\n",
    "                                       tx=self.state.tx if self.state else optax.sgd(0.1)   # Default optimizer\n",
    "                                      )\n",
    "\n",
    "    def checkpoint_exists(self):\n",
    "        # Check whether a pretrained model exist for this autoencoder\n",
    "        return os.path.isfile(os.path.join(CHECKPOINT_PATH, f'{self.model_name}.ckpt'))"
   ]
  },
  {
   "cell_type": "markdown",
   "metadata": {},
   "source": [
    "Next, we can use this trainer module to create a compact training function:"
   ]
  },
  {
   "cell_type": "code",
   "execution_count": 56,
   "metadata": {},
   "outputs": [],
   "source": [
    "def train_classifier(*args, num_epochs=200, **kwargs):\n",
    "    # Create a trainer module with specified hyperparameters\n",
    "    trainer = TrainerModule(*args, **kwargs)\n",
    "    if not trainer.checkpoint_exists():  # Skip training if pretrained model exists\n",
    "        trainer.train_model(train_loader, val_loader, num_epochs=num_epochs)\n",
    "        trainer.load_model()\n",
    "    else:\n",
    "        trainer.load_model(pretrained=True)\n",
    "    # Test trained model\n",
    "    val_acc = trainer.eval_model(val_loader)\n",
    "    test_acc = trainer.eval_model(test_loader)\n",
    "    # Bind parameters to model for easier inference\n",
    "    trainer.model_bd = trainer.model.bind({'params': trainer.state.params, 'batch_stats': trainer.state.batch_stats})\n",
    "    return trainer, {'val': val_acc, 'test': test_acc}"
   ]
  },
  {
   "cell_type": "markdown",
   "metadata": {},
   "source": [
    "Finally, we can focus on the Convolutional Neural Networks we want to implement today: GoogleNet, ResNet, and DenseNet."
   ]
  },
  {
   "cell_type": "markdown",
   "metadata": {},
   "source": [
    "## Inception\n",
    "\n",
    "The [GoogleNet](https://arxiv.org/abs/1409.4842), proposed in 2014, won the ImageNet Challenge because of its usage of the Inception modules. In general, we will mainly focus on the concept of Inception in this tutorial instead of the specifics of the GoogleNet, as based on Inception, there have been many follow-up works ([Inception-v2](https://arxiv.org/abs/1512.00567), [Inception-v3](https://arxiv.org/abs/1512.00567), [Inception-v4](https://arxiv.org/abs/1602.07261), [Inception-ResNet](https://arxiv.org/abs/1602.07261),...). The follow-up works mainly focus on increasing efficiency and enabling very deep Inception networks. However, for a fundamental understanding, it is sufficient to look at the original Inception block. \n",
    "\n",
    "An Inception block applies four convolution blocks separately on the same feature map: a 1x1, 3x3, and 5x5 convolution, and a max pool operation. This allows the network to look at the same data with different receptive fields. Of course, learning only 5x5 convolution would be theoretically more powerful. However, this is not only more computation and memory heavy but also tends to overfit much easier. The overall inception block looks like below (figure credit - [Szegedy et al.](https://arxiv.org/abs/1409.4842)):\n",
    "\n",
    "<center width=\"100%\"><img src=\"../../tutorial5/inception_block.svg\" style=\"display: block; margin-left: auto; margin-right: auto;\" width=\"500px\"/></center>\n",
    "\n",
    "The additional 1x1 convolutions before the 3x3 and 5x5 convolutions are used for dimensionality reduction. This is especially crucial as the feature maps of all branches are merged afterward, and we don't want any explosion of feature size. As 5x5 convolutions are 25 times more expensive than 1x1 convolutions, we can save a lot of computation and parameters by reducing the dimensionality before the large convolutions.\n",
    "\n",
    "We can now try to implement the Inception Block ourselves:"
   ]
  },
  {
   "cell_type": "code",
   "execution_count": 111,
   "metadata": {},
   "outputs": [],
   "source": [
    "googlenet_kernel_init = nn.initializers.kaiming_normal()\n",
    "\n",
    "class InceptionBlock(nn.Module):\n",
    "    c_red : dict  # Dictionary of reduced dimensionalities with keys \"1x1\", \"3x3\", \"5x5\", and \"max\"\n",
    "    c_out : dict  # Dictionary of output feature sizes with keys \"1x1\", \"3x3\", \"5x5\", and \"max\"\n",
    "    act_fn : callable   # Activation function\n",
    "    \n",
    "    @nn.compact\n",
    "    def __call__(self, x, train=True):\n",
    "        # 1x1 convolution branch\n",
    "        x_1x1 = nn.Conv(self.c_out[\"1x1\"], kernel_size=(1, 1), kernel_init=googlenet_kernel_init, use_bias=False)(x)\n",
    "        x_1x1 = nn.BatchNorm()(x_1x1, use_running_average=not train)\n",
    "        x_1x1 = self.act_fn(x_1x1)\n",
    "        \n",
    "        # 3x3 convolution branch\n",
    "        x_3x3 = nn.Conv(self.c_red[\"3x3\"], kernel_size=(1, 1), kernel_init=googlenet_kernel_init, use_bias=False)(x)\n",
    "        x_3x3 = nn.BatchNorm()(x_3x3, use_running_average=not train)\n",
    "        x_3x3 = self.act_fn(x_3x3)\n",
    "        x_3x3 = nn.Conv(self.c_out[\"3x3\"], kernel_size=(3, 3), kernel_init=googlenet_kernel_init, use_bias=False)(x_3x3)\n",
    "        x_3x3 = nn.BatchNorm()(x_3x3, use_running_average=not train)\n",
    "        x_3x3 = self.act_fn(x_3x3)\n",
    "        \n",
    "        # 5x5 convolution branch\n",
    "        x_5x5 = nn.Conv(self.c_red[\"5x5\"], kernel_size=(1, 1), kernel_init=googlenet_kernel_init, use_bias=False)(x)\n",
    "        x_5x5 = nn.BatchNorm()(x_5x5, use_running_average=not train)\n",
    "        x_5x5 = self.act_fn(x_5x5)\n",
    "        x_5x5 = nn.Conv(self.c_out[\"5x5\"], kernel_size=(5, 5), kernel_init=googlenet_kernel_init, use_bias=False)(x_5x5)\n",
    "        x_5x5 = nn.BatchNorm()(x_5x5, use_running_average=not train)\n",
    "        x_5x5 = self.act_fn(x_5x5)\n",
    "        \n",
    "        # Max-pool branch\n",
    "        x_max = nn.max_pool(x, (3, 3), strides=(2, 2))\n",
    "        x_max = nn.Conv(self.c_out[\"max\"], kernel_size=(1, 1), kernel_init=googlenet_kernel_init, use_bias=False)(x)\n",
    "        x_max = nn.BatchNorm()(x_max, use_running_average=not train)\n",
    "        x_max = self.act_fn(x_max)\n",
    "        \n",
    "        x_out = jnp.concatenate([x_1x1, x_3x3, x_5x5, x_max], axis=-1)\n",
    "        return x_out"
   ]
  },
  {
   "cell_type": "code",
   "execution_count": 112,
   "metadata": {},
   "outputs": [
    {
     "name": "stdout",
     "output_type": "stream",
     "text": [
      "Out (8, 32, 32, 44)\n"
     ]
    }
   ],
   "source": [
    "## Test InceptionBlock implementation\n",
    "# Example features as input\n",
    "main_rng, x_rng = random.split(main_rng)\n",
    "x = random.normal(x_rng, (8, 32, 32, 16))\n",
    "# Create inception block\n",
    "block = InceptionBlock(c_red={'1x1': 8, '3x3': 7, '5x5': 6, 'max': 9},\n",
    "                       c_out={'1x1': 12, '3x3': 14, '5x5': 8, 'max': 10},\n",
    "                       act_fn=nn.relu)\n",
    "# Initialize parameters of inception block with random key and inputs\n",
    "main_rng, init_rng = random.split(main_rng)\n",
    "variables = block.init(init_rng, x, train=True)\n",
    "# Apply inception block with parameters on the inputs\n",
    "out, batch_stats = block.apply(variables, x, train=True, mutable=['batch_stats'])\n",
    "print('Out', out.shape)\n",
    "\n",
    "del block, variables"
   ]
  },
  {
   "cell_type": "markdown",
   "metadata": {},
   "source": [
    "The GoogleNet architecture consists of stacking multiple Inception blocks with occasional max pooling to reduce the height and width of the feature maps. The original GoogleNet was designed for image sizes of ImageNet (224x224 pixels) and had almost 7 million parameters. As we train on CIFAR10 with image sizes of 32x32, we don't require such a heavy architecture, and instead, apply a reduced version. The number of channels for dimensionality reduction and output per filter (1x1, 3x3, 5x5, and max pooling) need to be manually specified and can be changed if interested. The general intuition is to have the most filters for the 3x3 convolutions, as they are powerful enough to take the context into account while requiring almost a third of the parameters of the 5x5 convolution. "
   ]
  },
  {
   "cell_type": "code",
   "execution_count": 113,
   "metadata": {},
   "outputs": [],
   "source": [
    "class GoogleNet(nn.Module):\n",
    "    num_classes : int\n",
    "    act_fn : callable\n",
    "        \n",
    "    @nn.compact\n",
    "    def __call__(self, x, train=True):\n",
    "        # A first convolution on the original image to scale up the channel size\n",
    "        x = nn.Conv(64, kernel_size=(3, 3), kernel_init=googlenet_kernel_init, use_bias=False)(x)\n",
    "        x = nn.BatchNorm()(x, use_running_average=not train)\n",
    "        x = self.act_fn(x)\n",
    "            \n",
    "        # Stacking inception blocks\n",
    "        inception_blocks = [\n",
    "            InceptionBlock(c_red={\"3x3\": 32, \"5x5\": 16}, c_out={\"1x1\": 16, \"3x3\": 32, \"5x5\": 8, \"max\": 8}, act_fn=self.act_fn),\n",
    "            InceptionBlock(c_red={\"3x3\": 32, \"5x5\": 16}, c_out={\"1x1\": 24, \"3x3\": 48, \"5x5\": 12, \"max\": 12}, act_fn=self.act_fn),\n",
    "            lambda inp: nn.max_pool(inp, (3, 3), strides=(2, 2)),  # 32x32 => 16x16\n",
    "            InceptionBlock(c_red={\"3x3\": 32, \"5x5\": 16}, c_out={\"1x1\": 24, \"3x3\": 48, \"5x5\": 12, \"max\": 12}, act_fn=self.act_fn),\n",
    "            InceptionBlock(c_red={\"3x3\": 32, \"5x5\": 16}, c_out={\"1x1\": 16, \"3x3\": 48, \"5x5\": 16, \"max\": 16}, act_fn=self.act_fn),\n",
    "            InceptionBlock(c_red={\"3x3\": 32, \"5x5\": 16}, c_out={\"1x1\": 16, \"3x3\": 48, \"5x5\": 16, \"max\": 16}, act_fn=self.act_fn),\n",
    "            InceptionBlock(c_red={\"3x3\": 32, \"5x5\": 16}, c_out={\"1x1\": 32, \"3x3\": 48, \"5x5\": 24, \"max\": 24}, act_fn=self.act_fn),\n",
    "            lambda inp: nn.max_pool(inp, (3, 3), strides=(2, 2)),  # 16x16 => 8x8\n",
    "            InceptionBlock(c_red={\"3x3\": 48, \"5x5\": 16}, c_out={\"1x1\": 32, \"3x3\": 64, \"5x5\": 16, \"max\": 16}, act_fn=self.act_fn),\n",
    "            InceptionBlock(c_red={\"3x3\": 48, \"5x5\": 16}, c_out={\"1x1\": 32, \"3x3\": 64, \"5x5\": 16, \"max\": 16}, act_fn=self.act_fn)\n",
    "        ]\n",
    "        for block in inception_blocks:\n",
    "            x = block(x, train=train) if isinstance(block, InceptionBlock) else block(x)\n",
    "        \n",
    "        # Mapping to classification output\n",
    "        x = x.mean(axis=(1, 2))\n",
    "        x = nn.Dense(self.num_classes)(x)\n",
    "        return x"
   ]
  },
  {
   "cell_type": "code",
   "execution_count": 114,
   "metadata": {},
   "outputs": [
    {
     "name": "stdout",
     "output_type": "stream",
     "text": [
      "Out (8, 10)\n"
     ]
    }
   ],
   "source": [
    "## Test GoogleNet implementation\n",
    "# Example features as input\n",
    "main_rng, x_rng = random.split(main_rng)\n",
    "x = random.normal(x_rng, (8, 32, 32, 3))\n",
    "# Create Google Net\n",
    "network = GoogleNet(num_classes=10, act_fn=nn.relu)\n",
    "# Initialize parameters of GoogleNet with random key and inputs\n",
    "main_rng, init_rng = random.split(main_rng)\n",
    "variables = network.init(init_rng, x, train=True)\n",
    "# Apply GoogleNet with parameters on the inputs\n",
    "out, batch_stats = network.apply(variables, x, train=True, mutable=['batch_stats'])\n",
    "print('Out', out.shape)\n",
    "\n",
    "del network, variables"
   ]
  },
  {
   "cell_type": "markdown",
   "metadata": {},
   "source": [
    "The training of the model is handled by PyTorch Lightning, and we just have to define the command to start. Note that we train for 200 epochs, which takes about an hour on Lisa's default GPUs (GTX1080Ti). We would recommend using the saved models and train your own model if you are interested. "
   ]
  },
  {
   "cell_type": "code",
   "execution_count": 57,
   "metadata": {},
   "outputs": [],
   "source": [
    "googlenet_trainer, googlenet_results = train_classifier(model_class=GoogleNet,\n",
    "                                                          model_name=\"GoogleNet\", \n",
    "                                                          model_hparams={\"num_classes\": 10, \n",
    "                                                                         \"act_fn\": nn.relu}, \n",
    "                                                          optimizer_name=\"adamw\",\n",
    "                                                          optimizer_hparams={\"lr\": 1e-3,\n",
    "                                                                             \"weight_decay\": 1e-4},\n",
    "                                                          exmp_imgs=jax.device_put(next(iter(train_loader))[0]),\n",
    "                                                          num_epochs=200)"
   ]
  },
  {
   "cell_type": "markdown",
   "metadata": {},
   "source": [
    "We will compare the results later in the notebooks, but we can already print them here for a first glance:"
   ]
  },
  {
   "cell_type": "code",
   "execution_count": 39,
   "metadata": {},
   "outputs": [
    {
     "name": "stdout",
     "output_type": "stream",
     "text": [
      "GoogleNet Results {'val': 0.660800039768219, 'test': 0.6605000495910645}\n"
     ]
    }
   ],
   "source": [
    "print(\"GoogleNet Results\", googlenet_results)"
   ]
  },
  {
   "cell_type": "markdown",
   "metadata": {},
   "source": [
    "### Tensorboard log\n",
    "\n",
    "A nice extra of PyTorch Lightning is the automatic logging into TensorBoard. To give you a better intuition of what TensorBoard can be used, we can look at the board that PyTorch Lightning has been generated when training the GoogleNet. TensorBoard provides an inline functionality for Jupyter notebooks, and we use it here:"
   ]
  },
  {
   "cell_type": "code",
   "execution_count": null,
   "metadata": {},
   "outputs": [],
   "source": [
    "# Load tensorboard extension\n",
    "# %load_ext tensorboard"
   ]
  },
  {
   "cell_type": "code",
   "execution_count": null,
   "metadata": {},
   "outputs": [],
   "source": [
    "# Opens tensorboard in notebook. Adjust the path to your CHECKPOINT_PATH!\n",
    "# %tensorboard --logdir ../saved_models/tutorial5/tensorboards/GoogleNet/"
   ]
  },
  {
   "cell_type": "markdown",
   "metadata": {},
   "source": [
    "<div class=\"alert alert-warning\">\n",
    "\n",
    "**TODO:** Update picture below with new tensorboard\n",
    "</div>\n",
    "\n",
    "<center width=\"100%\"><img src=\"tensorboard_screenshot_GoogleNet.png\" width=\"1000px\"></center>\n",
    "\n",
    "TensorBoard is organized in multiple tabs. The main tab is the scalar tab where we can log the development of single numbers. For example, we have plotted the training loss, accuracy, learning rate, etc. If we look at the training or validation accuracy, we can really see the impact of using a learning rate scheduler. Reducing the learning rate gives our model a nice increase in training performance. Similarly, when looking at the training loss, we see a sudden decrease at this point. However, the high numbers on the training set compared to validation indicate that our model was overfitting which is inevitable for such large networks.\n",
    "\n",
    "Another interesting tab in TensorBoard is the graph tab. It shows us the network architecture organized by building blocks from the input to the output. It basically shows the operations taken in the forward step of `CIFARModule`. Double-click on a module to open it. Feel free to explore the architecture from a different perspective. The graph visualization can often help you to validate that your model is actually doing what it is supposed to do, and you don't miss any layers in the computation graph."
   ]
  },
  {
   "cell_type": "markdown",
   "metadata": {},
   "source": [
    "## ResNet\n",
    "\n",
    "The [ResNet](https://arxiv.org/abs/1512.03385) paper is one of the  [most cited AI papers](https://www.natureindex.com/news-blog/google-scholar-reveals-most-influential-papers-research-citations-twenty-twenty), and has been the foundation for neural networks with more than 1,000 layers. Despite its simplicity, the idea of residual connections is highly effective as it supports stable gradient propagation through the network. Instead of modeling $x_{l+1}=F(x_{l})$, we model $x_{l+1}=x_{l}+F(x_{l})$ where $F$ is a non-linear mapping (usually a sequence of NN modules likes convolutions, activation functions, and normalizations). If we do backpropagation on such residual connections, we obtain:\n",
    "\n",
    "$$\\frac{\\partial x_{l+1}}{\\partial x_{l}} = \\mathbf{I} + \\frac{\\partial F(x_{l})}{\\partial x_{l}}$$\n",
    "\n",
    "The bias towards the identity matrix guarantees a stable gradient propagation being less effected by $F$ itself. There have been many variants of ResNet proposed, which mostly concern the function $F$, or operations applied on the sum. In this tutorial, we look at two of them: the original ResNet block, and the [Pre-Activation ResNet block](https://arxiv.org/abs/1603.05027). We visually compare the blocks below (figure credit - [He et al.](https://arxiv.org/abs/1603.05027)):\n",
    "\n",
    "<center width=\"100%\"><img src=\"../../tutorial5/resnet_block.svg\" style=\"display: block; margin-left: auto; margin-right: auto;\" width=\"300px\"/></center>\n",
    "\n",
    "The original ResNet block applies a non-linear activation function, usually ReLU, after the skip connection. In contrast, the pre-activation ResNet block applies the non-linearity at the beginning of $F$. Both have their advantages and disadvantages. For very deep network, however, the pre-activation ResNet has shown to perform better as the gradient flow is guaranteed to have the identity matrix as calculated above, and is not harmed by any non-linear activation applied to it. For comparison, in this notebook, we implement both ResNet types as shallow networks.\n",
    "\n",
    "Let's start with the original ResNet block. The visualization above already shows what layers are included in $F$. One special case we have to handle is when we want to reduce the image dimensions in terms of width and height. The basic ResNet block requires $F(x_{l})$ to be of the same shape as $x_{l}$. Thus, we need to change the dimensionality of $x_{l}$ as well before adding to $F(x_{l})$. The original implementation used an identity mapping with stride 2 and padded additional feature dimensions with 0. However, the more common implementation is to use a 1x1 convolution with stride 2 as it allows us to change the feature dimensionality while being efficient in parameter and computation cost. The code for the ResNet block is relatively simple, and shown below:"
   ]
  },
  {
   "cell_type": "code",
   "execution_count": 88,
   "metadata": {},
   "outputs": [],
   "source": [
    "# Conv initialized with kaiming int, but uses fan-out instead of fan-in mode\n",
    "# Fan-out focuses on the gradient distribution, and is commonly used in ResNets\n",
    "resnet_kernel_init = nn.initializers.variance_scaling(2.0, mode='fan_out', distribution='normal')\n",
    "\n",
    "class ResNetBlock(nn.Module):\n",
    "    act_fn : callable  # Activation function\n",
    "    c_out : int   # Output feature size\n",
    "    subsample : bool = False  # If True, we apply a stride inside F\n",
    "\n",
    "    @nn.compact\n",
    "    def __call__(self, x, train=True):\n",
    "        # Network representing F\n",
    "        z = nn.Conv(self.c_out, kernel_size=(3, 3), \n",
    "                    strides=(1, 1) if not self.subsample else (2, 2), \n",
    "                    kernel_init=resnet_kernel_init,\n",
    "                    use_bias=False)(x)\n",
    "        z = nn.BatchNorm()(z, use_running_average=not train)\n",
    "        z = self.act_fn(z)\n",
    "        z = nn.Conv(self.c_out, kernel_size=(3, 3), \n",
    "                    kernel_init=resnet_kernel_init,\n",
    "                    use_bias=False)(z)\n",
    "        z = nn.BatchNorm()(z, use_running_average=not train)\n",
    "        \n",
    "        if self.subsample:\n",
    "            x = nn.Conv(self.c_out, kernel_size=(1, 1), strides=(2, 2), kernel_init=resnet_kernel_init)(x)\n",
    "        \n",
    "        x_out = self.act_fn(z + x)\n",
    "        return x_out"
   ]
  },
  {
   "cell_type": "code",
   "execution_count": 89,
   "metadata": {},
   "outputs": [
    {
     "name": "stdout",
     "output_type": "stream",
     "text": [
      "Out (8, 16, 16, 32)\n"
     ]
    }
   ],
   "source": [
    "## Test ResNetBlock implementation\n",
    "# Example features as input\n",
    "main_rng, x_rng = random.split(main_rng)\n",
    "x = random.normal(x_rng, (8, 32, 32, 16))\n",
    "# Create ResNet block\n",
    "block = ResNetBlock(act_fn=nn.relu, c_out=32, subsample=True)\n",
    "# Initialize parameters of ResNet block with random key and inputs\n",
    "main_rng, init_rng = random.split(main_rng)\n",
    "variables = block.init(init_rng, x, train=True)\n",
    "# Apply ResNet block with parameters on the inputs\n",
    "out, batch_stats = block.apply(variables, x, train=True, mutable=['batch_stats'])\n",
    "print('Out', out.shape)\n",
    "\n",
    "del block, variables"
   ]
  },
  {
   "cell_type": "markdown",
   "metadata": {},
   "source": [
    "The second block we implement is the pre-activation ResNet block. For this, we have to change the order of layer in `self.net`, and do not apply an activation function on the output. Additionally, the downsampling operation has to apply a non-linearity as well as the input, $x_l$, has not been processed by a non-linearity yet. Hence, the block looks as follows:"
   ]
  },
  {
   "cell_type": "code",
   "execution_count": 90,
   "metadata": {},
   "outputs": [],
   "source": [
    "class PreActResNetBlock(ResNetBlock):\n",
    "    \n",
    "    @nn.compact\n",
    "    def __call__(self, x, train=True):\n",
    "        # Network representing F\n",
    "        z = nn.BatchNorm()(x, use_running_average=not train)\n",
    "        z = self.act_fn(z)\n",
    "        z = nn.Conv(self.c_out, kernel_size=(3, 3), \n",
    "                    strides=(1, 1) if not self.subsample else (2, 2), \n",
    "                    kernel_init=resnet_kernel_init,\n",
    "                    use_bias=False)(z)\n",
    "        z = nn.BatchNorm()(z, use_running_average=not train)\n",
    "        z = self.act_fn(z)\n",
    "        z = nn.Conv(self.c_out, kernel_size=(3, 3), \n",
    "                    kernel_init=resnet_kernel_init,\n",
    "                    use_bias=False)(z)\n",
    "        \n",
    "        if self.subsample:\n",
    "            x = nn.BatchNorm()(x, use_running_average=not train)\n",
    "            x = self.act_fn(x)\n",
    "            x = nn.Conv(self.c_out, kernel_size=(1, 1), strides=(2, 2), kernel_init=resnet_kernel_init)(x)\n",
    "        \n",
    "        x_out = z + x\n",
    "        return x_out"
   ]
  },
  {
   "cell_type": "code",
   "execution_count": 91,
   "metadata": {},
   "outputs": [
    {
     "name": "stdout",
     "output_type": "stream",
     "text": [
      "Out (8, 32, 32, 16)\n"
     ]
    }
   ],
   "source": [
    "## Test ResNetBlock implementation\n",
    "# Example features as input\n",
    "main_rng, x_rng = random.split(main_rng)\n",
    "x = random.normal(x_rng, (8, 32, 32, 16))\n",
    "# Create ResNet block\n",
    "block = PreActResNetBlock(act_fn=nn.relu, c_out=16)\n",
    "# Initialize parameters of ResNet block with random key and inputs\n",
    "main_rng, init_rng = random.split(main_rng)\n",
    "variables = block.init(init_rng, x, train=True)\n",
    "# Apply ResNet block with parameters on the inputs\n",
    "out, batch_stats = block.apply(variables, x, train=True, mutable=['batch_stats'])\n",
    "print('Out', out.shape)\n",
    "\n",
    "del block, variables"
   ]
  },
  {
   "cell_type": "markdown",
   "metadata": {},
   "source": [
    "The overall ResNet architecture consists of stacking multiple ResNet blocks, of which some are downsampling the input. When talking about ResNet blocks in the whole network, we usually group them by the same output shape. Hence, if we say the ResNet has `[3,3,3]` blocks, it means that we have 3 times a group of 3 ResNet blocks, where a subsampling is taking place in the fourth and seventh block. The ResNet with `[3,3,3]` blocks on CIFAR10 is visualized below.\n",
    "\n",
    "<center width=\"100%\"><img src=\"../../tutorial5/resnet_notation.svg\" width=\"500px\"></center>\n",
    "\n",
    "The three groups operate on the resolutions $32\\times32$, $16\\times16$ and $8\\times8$ respectively. The blocks in orange denote ResNet blocks with downsampling. The same notation is used by many other implementations such as in the [torchvision library](https://pytorch.org/docs/stable/_modules/torchvision/models/resnet.html#resnet18) from PyTorch. Thus, our code looks as follows:"
   ]
  },
  {
   "cell_type": "code",
   "execution_count": 105,
   "metadata": {},
   "outputs": [],
   "source": [
    "class ResNet(nn.Module):\n",
    "    num_classes : int\n",
    "    act_fn : callable\n",
    "    block_class : nn.Module\n",
    "    num_blocks : tuple = (3, 3, 3)\n",
    "    c_hidden : tuple = (16, 32, 64)\n",
    "        \n",
    "    @nn.compact\n",
    "    def __call__(self, x, train=True):\n",
    "        # A first convolution on the original image to scale up the channel size\n",
    "        x = nn.Conv(self.c_hidden[0], kernel_size=(3, 3), kernel_init=resnet_kernel_init, use_bias=False)(x)\n",
    "        if self.block_class == ResNetBlock:  # If pre-activation block, we do not apply non-linearities yet\n",
    "            x = nn.BatchNorm()(x, use_running_average=not train)\n",
    "            x = self.act_fn(x)\n",
    "        \n",
    "        # Creating the ResNet blocks\n",
    "        for block_idx, block_count in enumerate(self.num_blocks):\n",
    "            for bc in range(block_count):\n",
    "                # Subsample the first block of each group, except the very first one.\n",
    "                subsample = (bc == 0 and block_idx > 0)\n",
    "                # ResNet block\n",
    "                x = self.block_class(c_out=self.c_hidden[block_idx],\n",
    "                                     act_fn=self.act_fn,\n",
    "                                     subsample=subsample)(x, train=train)\n",
    "        \n",
    "        # Mapping to classification output\n",
    "        x = x.mean(axis=(1, 2))\n",
    "        x = nn.Dense(self.num_classes)(x)\n",
    "        return x"
   ]
  },
  {
   "cell_type": "code",
   "execution_count": 106,
   "metadata": {},
   "outputs": [
    {
     "name": "stdout",
     "output_type": "stream",
     "text": [
      "Out (8, 10)\n"
     ]
    }
   ],
   "source": [
    "## Test ResNet implementation\n",
    "# Example features as input\n",
    "main_rng, x_rng = random.split(main_rng)\n",
    "x = random.normal(x_rng, (8, 32, 32, 3))\n",
    "# Create ResNet\n",
    "network = ResNet(num_classes=10, act_fn=nn.relu, block_class=ResNetBlock)\n",
    "# Initialize parameters of ResNet with random key and inputs\n",
    "main_rng, init_rng = random.split(main_rng)\n",
    "variables = network.init(init_rng, x, train=True)\n",
    "# Apply ResNet with parameters on the inputs\n",
    "out, batch_stats = network.apply(variables, x, train=True, mutable=['batch_stats'])\n",
    "print('Out', out.shape)\n",
    "\n",
    "del network, variables"
   ]
  },
  {
   "cell_type": "markdown",
   "metadata": {},
   "source": [
    "Finally, we can train our ResNet models. One difference to the GoogleNet training is that we explicitly use SGD with Momentum as optimizer instead of Adam. Adam often leads to a slightly worse accuracy on plain, shallow ResNets. It is not 100% clear why Adam performs worse in this context, but one possible explanation is related to ResNet's loss surface. ResNet has been shown to produce smoother loss surfaces than networks without skip connection (see [Li et al., 2018](https://arxiv.org/pdf/1712.09913.pdf) for details). A possible visualization of the loss surface with/out skip connections is below (figure credit - [Li et al.](https://arxiv.org/pdf/1712.09913.pdf)):\n",
    "\n",
    "<center width=\"100%\"><img src=\"../../tutorial5/resnet_loss_surface.svg\" style=\"display: block; margin-left: auto; margin-right: auto;\" width=\"600px\"/></center>\n",
    "\n",
    "The $x$ and $y$ axis shows a projection of the parameter space, and the $z$ axis shows the loss values achieved by different parameter values. On smooth surfaces like the one on the right, we might not require an adaptive learning rate as Adam provides. Instead, Adam can get stuck in local optima while SGD finds the wider minima that tend to generalize better.\n",
    "However, to answer this question in detail, we would need an extra tutorial because it is not easy to answer. For now, we conclude: for ResNet architectures, consider the optimizer to be an important hyperparameter, and try training with both Adam and SGD. Let's train the model below with SGD:"
   ]
  },
  {
   "cell_type": "code",
   "execution_count": 107,
   "metadata": {},
   "outputs": [
    {
     "data": {
      "application/vnd.jupyter.widget-view+json": {
       "model_id": "286d8ae26fe64ad0a3ebf59471e7b52e",
       "version_major": 2,
       "version_minor": 0
      },
      "text/plain": [
       "  0%|          | 0/10 [00:00<?, ?it/s]"
      ]
     },
     "metadata": {},
     "output_type": "display_data"
    },
    {
     "data": {
      "application/vnd.jupyter.widget-view+json": {
       "model_id": "",
       "version_major": 2,
       "version_minor": 0
      },
      "text/plain": [
       "Training:   0%|          | 0/351 [00:00<?, ?it/s]"
      ]
     },
     "metadata": {},
     "output_type": "display_data"
    },
    {
     "data": {
      "application/vnd.jupyter.widget-view+json": {
       "model_id": "",
       "version_major": 2,
       "version_minor": 0
      },
      "text/plain": [
       "Training:   0%|          | 0/351 [00:00<?, ?it/s]"
      ]
     },
     "metadata": {},
     "output_type": "display_data"
    },
    {
     "data": {
      "application/vnd.jupyter.widget-view+json": {
       "model_id": "",
       "version_major": 2,
       "version_minor": 0
      },
      "text/plain": [
       "Training:   0%|          | 0/351 [00:00<?, ?it/s]"
      ]
     },
     "metadata": {},
     "output_type": "display_data"
    },
    {
     "data": {
      "application/vnd.jupyter.widget-view+json": {
       "model_id": "",
       "version_major": 2,
       "version_minor": 0
      },
      "text/plain": [
       "Training:   0%|          | 0/351 [00:00<?, ?it/s]"
      ]
     },
     "metadata": {},
     "output_type": "display_data"
    },
    {
     "data": {
      "application/vnd.jupyter.widget-view+json": {
       "model_id": "",
       "version_major": 2,
       "version_minor": 0
      },
      "text/plain": [
       "Training:   0%|          | 0/351 [00:00<?, ?it/s]"
      ]
     },
     "metadata": {},
     "output_type": "display_data"
    },
    {
     "data": {
      "application/vnd.jupyter.widget-view+json": {
       "model_id": "",
       "version_major": 2,
       "version_minor": 0
      },
      "text/plain": [
       "Training:   0%|          | 0/351 [00:00<?, ?it/s]"
      ]
     },
     "metadata": {},
     "output_type": "display_data"
    },
    {
     "data": {
      "application/vnd.jupyter.widget-view+json": {
       "model_id": "",
       "version_major": 2,
       "version_minor": 0
      },
      "text/plain": [
       "Training:   0%|          | 0/351 [00:00<?, ?it/s]"
      ]
     },
     "metadata": {},
     "output_type": "display_data"
    },
    {
     "data": {
      "application/vnd.jupyter.widget-view+json": {
       "model_id": "",
       "version_major": 2,
       "version_minor": 0
      },
      "text/plain": [
       "Training:   0%|          | 0/351 [00:00<?, ?it/s]"
      ]
     },
     "metadata": {},
     "output_type": "display_data"
    },
    {
     "data": {
      "application/vnd.jupyter.widget-view+json": {
       "model_id": "",
       "version_major": 2,
       "version_minor": 0
      },
      "text/plain": [
       "Training:   0%|          | 0/351 [00:00<?, ?it/s]"
      ]
     },
     "metadata": {},
     "output_type": "display_data"
    },
    {
     "data": {
      "application/vnd.jupyter.widget-view+json": {
       "model_id": "",
       "version_major": 2,
       "version_minor": 0
      },
      "text/plain": [
       "Training:   0%|          | 0/351 [00:00<?, ?it/s]"
      ]
     },
     "metadata": {},
     "output_type": "display_data"
    }
   ],
   "source": [
    "resnet_trainer, resnet_results = train_classifier(model_name=\"ResNet\", \n",
    "                                           model_class=ResNet,\n",
    "                                           model_hparams={\"num_classes\": 10,\n",
    "                                                          \"c_hidden\": (16,32,64),\n",
    "                                                          \"num_blocks\": (3,3,3),\n",
    "                                                          \"act_fn\": nn.relu,\n",
    "                                                          \"block_class\": ResNetBlock}, \n",
    "                                           optimizer_name=\"SGD\",\n",
    "                                           optimizer_hparams={\"lr\": 0.1,\n",
    "                                                              \"momentum\": 0.9,\n",
    "                                                              \"weight_decay\": 1e-4},\n",
    "                                                          exmp_imgs=jax.device_put(next(iter(train_loader))[0]),\n",
    "                                           num_epochs=200)"
   ]
  },
  {
   "cell_type": "markdown",
   "metadata": {},
   "source": [
    "Let's also train the pre-activation ResNet as comparison:"
   ]
  },
  {
   "cell_type": "code",
   "execution_count": 110,
   "metadata": {},
   "outputs": [
    {
     "data": {
      "application/vnd.jupyter.widget-view+json": {
       "model_id": "c11a8761dd3e47c78dc1397fe2256759",
       "version_major": 2,
       "version_minor": 0
      },
      "text/plain": [
       "  0%|          | 0/10 [00:00<?, ?it/s]"
      ]
     },
     "metadata": {},
     "output_type": "display_data"
    },
    {
     "data": {
      "application/vnd.jupyter.widget-view+json": {
       "model_id": "",
       "version_major": 2,
       "version_minor": 0
      },
      "text/plain": [
       "Training:   0%|          | 0/351 [00:00<?, ?it/s]"
      ]
     },
     "metadata": {},
     "output_type": "display_data"
    },
    {
     "data": {
      "application/vnd.jupyter.widget-view+json": {
       "model_id": "",
       "version_major": 2,
       "version_minor": 0
      },
      "text/plain": [
       "Training:   0%|          | 0/351 [00:00<?, ?it/s]"
      ]
     },
     "metadata": {},
     "output_type": "display_data"
    },
    {
     "data": {
      "application/vnd.jupyter.widget-view+json": {
       "model_id": "",
       "version_major": 2,
       "version_minor": 0
      },
      "text/plain": [
       "Training:   0%|          | 0/351 [00:00<?, ?it/s]"
      ]
     },
     "metadata": {},
     "output_type": "display_data"
    },
    {
     "data": {
      "application/vnd.jupyter.widget-view+json": {
       "model_id": "",
       "version_major": 2,
       "version_minor": 0
      },
      "text/plain": [
       "Training:   0%|          | 0/351 [00:00<?, ?it/s]"
      ]
     },
     "metadata": {},
     "output_type": "display_data"
    },
    {
     "data": {
      "application/vnd.jupyter.widget-view+json": {
       "model_id": "",
       "version_major": 2,
       "version_minor": 0
      },
      "text/plain": [
       "Training:   0%|          | 0/351 [00:00<?, ?it/s]"
      ]
     },
     "metadata": {},
     "output_type": "display_data"
    },
    {
     "data": {
      "application/vnd.jupyter.widget-view+json": {
       "model_id": "",
       "version_major": 2,
       "version_minor": 0
      },
      "text/plain": [
       "Training:   0%|          | 0/351 [00:00<?, ?it/s]"
      ]
     },
     "metadata": {},
     "output_type": "display_data"
    },
    {
     "data": {
      "application/vnd.jupyter.widget-view+json": {
       "model_id": "",
       "version_major": 2,
       "version_minor": 0
      },
      "text/plain": [
       "Training:   0%|          | 0/351 [00:00<?, ?it/s]"
      ]
     },
     "metadata": {},
     "output_type": "display_data"
    },
    {
     "data": {
      "application/vnd.jupyter.widget-view+json": {
       "model_id": "",
       "version_major": 2,
       "version_minor": 0
      },
      "text/plain": [
       "Training:   0%|          | 0/351 [00:00<?, ?it/s]"
      ]
     },
     "metadata": {},
     "output_type": "display_data"
    },
    {
     "data": {
      "application/vnd.jupyter.widget-view+json": {
       "model_id": "",
       "version_major": 2,
       "version_minor": 0
      },
      "text/plain": [
       "Training:   0%|          | 0/351 [00:00<?, ?it/s]"
      ]
     },
     "metadata": {},
     "output_type": "display_data"
    },
    {
     "data": {
      "application/vnd.jupyter.widget-view+json": {
       "model_id": "",
       "version_major": 2,
       "version_minor": 0
      },
      "text/plain": [
       "Training:   0%|          | 0/351 [00:00<?, ?it/s]"
      ]
     },
     "metadata": {},
     "output_type": "display_data"
    }
   ],
   "source": [
    "resnetpreact_trainer, resnetpreact_results = train_classifier(model_name=\"PreActResNet\", \n",
    "                                           model_class=ResNet,\n",
    "                                           model_hparams={\"num_classes\": 10,\n",
    "                                                          \"c_hidden\": (16,32,64),\n",
    "                                                          \"num_blocks\": (3,3,3),\n",
    "                                                          \"act_fn\": nn.relu,\n",
    "                                                          \"block_class\": PreActResNetBlock}, \n",
    "                                                       optimizer_name=\"SGD\",\n",
    "                                                       optimizer_hparams={\"lr\": 0.1,\n",
    "                                                                          \"momentum\": 0.9,\n",
    "                                                                          \"weight_decay\": 1e-4},\n",
    "                                                          exmp_imgs=jax.device_put(next(iter(train_loader))[0]),\n",
    "                                           num_epochs=200)"
   ]
  },
  {
   "cell_type": "markdown",
   "metadata": {},
   "source": [
    "### Tensorboard log\n",
    "\n",
    "Similarly to our GoogleNet model, we also have a TensorBoard log for the ResNet model. We can open it below."
   ]
  },
  {
   "cell_type": "code",
   "execution_count": null,
   "metadata": {},
   "outputs": [],
   "source": [
    "# Opens tensorboard in notebook. Adjust the path to your CHECKPOINT_PATH! Feel free to change \"ResNet\" to \"ResNetPreAct\"\n",
    "# %tensorboard --logdir ../saved_models/tutorial5/tensorboards/ResNet/"
   ]
  },
  {
   "cell_type": "markdown",
   "metadata": {},
   "source": [
    "<center width=\"100%\"><img src=\"../../tutorial5/tensorboard_screenshot_ResNet.png\" width=\"1000px\"></center>\n",
    "\n",
    "Feel free to explore the TensorBoard yourself, including the computation graph. In general, we can see that with SGD, the ResNet has a higher training loss than the GoogleNet in the first stage of the training. After reducing the learning rate however, the model achieves even higher validation accuracies. We compare the precise scores at the end of the notebook."
   ]
  },
  {
   "cell_type": "markdown",
   "metadata": {},
   "source": [
    "## DenseNet\n",
    "\n",
    "[DenseNet](https://arxiv.org/abs/1608.06993) is another architecture for enabling very deep neural networks and takes a slightly different perspective on residual connections. Instead of modeling the difference between layers, DenseNet considers residual connections as a possible way to reuse features across layers, removing any necessity to learn redundant feature maps. If we go deeper into the network, the model learns abstract features to recognize patterns. However, some complex patterns consist of a combination of abstract features (e.g. hand, face, etc.), and low-level features (e.g. edges, basic color, etc.). To find these low-level features in the deep layers, standard CNNs have to learn copy such feature maps, which wastes a lot of parameter complexity. DenseNet provides an efficient way of reusing features by having each convolution depends on all previous input features, but add only a small amount of filters to it. See the figure below for an illustration (figure credit - [Hu et al.](https://arxiv.org/abs/1608.06993)):\n",
    "\n",
    "<center width=\"100%\"><img src=\"../../tutorial5/densenet_block.svg\" style=\"display: block; margin-left: auto; margin-right: auto;\" width=\"500px\"/></center>\n",
    "\n",
    "The last layer, called the transition layer, is responsible for reducing the dimensionality of the feature maps in height, width, and channel size. Although those technically break the identity backpropagation, there are only a few in a network so that it doesn't affect the gradient flow much. \n",
    "\n",
    "We split the implementation of the layers in DenseNet into three parts: a `DenseLayer`, and a `DenseBlock`, and a `TransitionLayer`. The module `DenseLayer` implements a single layer inside a dense block. It applies a 1x1 convolution for dimensionality reduction with a subsequential 3x3 convolution. The output channels are concatenated to the originals and returned. Note that we apply the Batch Normalization as the first layer of each block. This allows slightly different activations for the same features to different layers, depending on what is needed. Overall, we can implement it as follows:"
   ]
  },
  {
   "cell_type": "code",
   "execution_count": 115,
   "metadata": {},
   "outputs": [],
   "source": [
    "densenet_kernel_init = nn.initializers.kaiming_normal()\n",
    "\n",
    "class DenseLayer(nn.Module):\n",
    "    bn_size : int  # Bottleneck size (factor of growth rate) for the output of the 1x1 convolution\n",
    "    growth_rate : int  # Number of output channels of the 3x3 convolution\n",
    "    act_fn : callable  # Activation function\n",
    "        \n",
    "    @nn.compact\n",
    "    def __call__(self, x, train=True):\n",
    "        z = nn.BatchNorm()(x, use_running_average=not train)\n",
    "        z = self.act_fn(z)\n",
    "        z = nn.Conv(self.bn_size * self.growth_rate, \n",
    "                    kernel_size=(1, 1), \n",
    "                    kernel_init=densenet_kernel_init, \n",
    "                    use_bias=False)(z)\n",
    "        z = nn.BatchNorm()(z, use_running_average=not train)\n",
    "        z = self.act_fn(z)\n",
    "        z = nn.Conv(self.growth_rate, \n",
    "                    kernel_size=(3, 3), \n",
    "                    kernel_init=densenet_kernel_init, \n",
    "                    use_bias=False)(z)\n",
    "        x_out = jnp.concatenate([x, z], axis=-1)\n",
    "        return x_out"
   ]
  },
  {
   "cell_type": "code",
   "execution_count": 117,
   "metadata": {},
   "outputs": [
    {
     "name": "stdout",
     "output_type": "stream",
     "text": [
      "Out (8, 32, 32, 24)\n"
     ]
    }
   ],
   "source": [
    "## Test DenseLayer implementation\n",
    "# Example features as input\n",
    "main_rng, x_rng = random.split(main_rng)\n",
    "x = random.normal(x_rng, (8, 32, 32, 16))\n",
    "# Create DenseLayer\n",
    "layer = DenseLayer(bn_size=2, growth_rate=8, act_fn=nn.relu)\n",
    "# Initialize parameters of DenseLayer with random key and inputs\n",
    "main_rng, init_rng = random.split(main_rng)\n",
    "variables = layer.init(init_rng, x, train=True)\n",
    "# Apply DenseLayer with parameters on the inputs\n",
    "out, batch_stats = layer.apply(variables, x, train=True, mutable=['batch_stats'])\n",
    "print('Out', out.shape)\n",
    "\n",
    "del layer, variables"
   ]
  },
  {
   "cell_type": "markdown",
   "metadata": {},
   "source": [
    "The module `DenseBlock` summarizes multiple dense layers applied in sequence. Each dense layer takes as input the original input concatenated with all previous layers' feature maps:"
   ]
  },
  {
   "cell_type": "code",
   "execution_count": 122,
   "metadata": {},
   "outputs": [],
   "source": [
    "class DenseBlock(nn.Module):\n",
    "    num_layers : int  # Number of dense layers to apply in the block\n",
    "    bn_size : int  # Bottleneck size to use in the dense layers\n",
    "    growth_rate : int  # Growth rate to use in the dense layers\n",
    "    act_fn : callable  # Activation function to use in the dense layers\n",
    "    \n",
    "    @nn.compact\n",
    "    def __call__(self, x, train=True):\n",
    "        for _ in range(self.num_layers):\n",
    "            x = DenseLayer(bn_size=self.bn_size,\n",
    "                           growth_rate=self.growth_rate,\n",
    "                           act_fn=self.act_fn)(x, train=train)\n",
    "        return x"
   ]
  },
  {
   "cell_type": "markdown",
   "metadata": {},
   "source": [
    "Finally, the `TransitionLayer` takes as input the final output of a dense block and reduces its channel dimensionality using a 1x1 convolution. To reduce the height and width dimension, we take a slightly different approach than in ResNet and apply an average pooling with kernel size 2 and stride 2. This is because we don't have an additional connection to the output that would consider the full 2x2 patch instead of a single value. Besides, it is more parameter efficient than using a 3x3 convolution with stride 2. Thus, the layer is implemented as follows:"
   ]
  },
  {
   "cell_type": "code",
   "execution_count": 126,
   "metadata": {},
   "outputs": [],
   "source": [
    "class TransitionLayer(nn.Module):\n",
    "    c_out : int  # Output feature size\n",
    "    act_fn : callable  # Activation function\n",
    "        \n",
    "    @nn.compact\n",
    "    def __call__(self, x, train=True):\n",
    "        x = nn.BatchNorm()(x, use_running_average=not train)\n",
    "        x = self.act_fn(x)\n",
    "        x = nn.Conv(self.c_out, \n",
    "                    kernel_size=(1, 1), \n",
    "                    kernel_init=densenet_kernel_init,\n",
    "                    use_bias=False)(x)\n",
    "        x = nn.avg_pool(x, (2, 2), strides=(2, 2))\n",
    "        return x"
   ]
  },
  {
   "cell_type": "markdown",
   "metadata": {},
   "source": [
    "Now we can put everything together and create our DenseNet. To specify the number of layers, we use a similar notation as in ResNets and pass on a list of ints representing the number of layers per block. After each dense block except the last one, we apply a transition layer to reduce the dimensionality by 2. "
   ]
  },
  {
   "cell_type": "code",
   "execution_count": 129,
   "metadata": {},
   "outputs": [],
   "source": [
    "class DenseNet(nn.Module):\n",
    "    num_classes : int\n",
    "    act_fn : callable = nn.relu\n",
    "    num_layers : tuple = (6, 6, 6, 6)\n",
    "    bn_size : int = 2\n",
    "    growth_rate : int = 16\n",
    "    \n",
    "    @nn.compact\n",
    "    def __call__(self, x, train=True):\n",
    "        c_hidden = self.growth_rate * self.bn_size  # The start number of hidden channels\n",
    "        \n",
    "        x = nn.Conv(c_hidden,\n",
    "                    kernel_size=(3, 3),\n",
    "                    kernel_init=densenet_kernel_init)(x)\n",
    "        \n",
    "        for block_idx, num_layers in enumerate(self.num_layers):\n",
    "            x = DenseBlock(num_layers=num_layers,\n",
    "                           bn_size=self.bn_size,\n",
    "                           growth_rate=self.growth_rate,\n",
    "                           act_fn=self.act_fn)(x, train=train)\n",
    "            c_hidden += num_layers * self.growth_rate\n",
    "            if block_idx < len(self.num_layers)-1:  # Don't apply transition layer on last block\n",
    "                x = TransitionLayer(c_out=c_hidden//2,\n",
    "                                    act_fn=self.act_fn)(x, train=train)\n",
    "                c_hidden //= 2\n",
    "        \n",
    "        x = nn.BatchNorm()(x, use_running_average=not train)\n",
    "        x = self.act_fn(x)\n",
    "        x = x.mean(axis=(1, 2))\n",
    "        x = nn.Dense(self.num_classes)(x)\n",
    "        return x"
   ]
  },
  {
   "cell_type": "markdown",
   "metadata": {},
   "source": [
    "Lastly, we train our network. In contrast to ResNet, DenseNet does not show any issues with Adam, and hence we train it with this optimizer. The other hyperparameters are chosen to result in a network with a similar parameter size as the ResNet and GoogleNet. Commonly, when designing very deep networks, DenseNet is more parameter efficient than ResNet while achieving a similar or even better performance."
   ]
  },
  {
   "cell_type": "code",
   "execution_count": 130,
   "metadata": {},
   "outputs": [
    {
     "data": {
      "application/vnd.jupyter.widget-view+json": {
       "model_id": "6b7dbc812fc4481aa6e9dcfdd3344d4f",
       "version_major": 2,
       "version_minor": 0
      },
      "text/plain": [
       "  0%|          | 0/10 [00:00<?, ?it/s]"
      ]
     },
     "metadata": {},
     "output_type": "display_data"
    },
    {
     "data": {
      "application/vnd.jupyter.widget-view+json": {
       "model_id": "",
       "version_major": 2,
       "version_minor": 0
      },
      "text/plain": [
       "Training:   0%|          | 0/351 [00:00<?, ?it/s]"
      ]
     },
     "metadata": {},
     "output_type": "display_data"
    },
    {
     "data": {
      "application/vnd.jupyter.widget-view+json": {
       "model_id": "",
       "version_major": 2,
       "version_minor": 0
      },
      "text/plain": [
       "Training:   0%|          | 0/351 [00:00<?, ?it/s]"
      ]
     },
     "metadata": {},
     "output_type": "display_data"
    },
    {
     "data": {
      "application/vnd.jupyter.widget-view+json": {
       "model_id": "",
       "version_major": 2,
       "version_minor": 0
      },
      "text/plain": [
       "Training:   0%|          | 0/351 [00:00<?, ?it/s]"
      ]
     },
     "metadata": {},
     "output_type": "display_data"
    },
    {
     "data": {
      "application/vnd.jupyter.widget-view+json": {
       "model_id": "",
       "version_major": 2,
       "version_minor": 0
      },
      "text/plain": [
       "Training:   0%|          | 0/351 [00:00<?, ?it/s]"
      ]
     },
     "metadata": {},
     "output_type": "display_data"
    },
    {
     "data": {
      "application/vnd.jupyter.widget-view+json": {
       "model_id": "",
       "version_major": 2,
       "version_minor": 0
      },
      "text/plain": [
       "Training:   0%|          | 0/351 [00:00<?, ?it/s]"
      ]
     },
     "metadata": {},
     "output_type": "display_data"
    },
    {
     "data": {
      "application/vnd.jupyter.widget-view+json": {
       "model_id": "",
       "version_major": 2,
       "version_minor": 0
      },
      "text/plain": [
       "Training:   0%|          | 0/351 [00:00<?, ?it/s]"
      ]
     },
     "metadata": {},
     "output_type": "display_data"
    },
    {
     "data": {
      "application/vnd.jupyter.widget-view+json": {
       "model_id": "",
       "version_major": 2,
       "version_minor": 0
      },
      "text/plain": [
       "Training:   0%|          | 0/351 [00:00<?, ?it/s]"
      ]
     },
     "metadata": {},
     "output_type": "display_data"
    },
    {
     "data": {
      "application/vnd.jupyter.widget-view+json": {
       "model_id": "",
       "version_major": 2,
       "version_minor": 0
      },
      "text/plain": [
       "Training:   0%|          | 0/351 [00:00<?, ?it/s]"
      ]
     },
     "metadata": {},
     "output_type": "display_data"
    },
    {
     "data": {
      "application/vnd.jupyter.widget-view+json": {
       "model_id": "",
       "version_major": 2,
       "version_minor": 0
      },
      "text/plain": [
       "Training:   0%|          | 0/351 [00:00<?, ?it/s]"
      ]
     },
     "metadata": {},
     "output_type": "display_data"
    },
    {
     "data": {
      "application/vnd.jupyter.widget-view+json": {
       "model_id": "",
       "version_major": 2,
       "version_minor": 0
      },
      "text/plain": [
       "Training:   0%|          | 0/351 [00:00<?, ?it/s]"
      ]
     },
     "metadata": {},
     "output_type": "display_data"
    }
   ],
   "source": [
    "densenet_trainer, densenet_results = train_classifier(model_name=\"DenseNet\", \n",
    "                                               model_class=DenseNet,\n",
    "                                               model_hparams={\"num_classes\": 10,\n",
    "                                                              \"num_layers\": [6,6,6,6],\n",
    "                                                              \"bn_size\": 2,\n",
    "                                                              \"growth_rate\": 16,\n",
    "                                                              \"act_fn\": nn.relu}, \n",
    "                                               optimizer_name=\"adamw\",\n",
    "                                               optimizer_hparams={\"lr\": 1e-3,\n",
    "                                                                  \"weight_decay\": 1e-4},\n",
    "                                                          exmp_imgs=jax.device_put(next(iter(train_loader))[0]),\n",
    "                                           num_epochs=10)"
   ]
  },
  {
   "cell_type": "markdown",
   "metadata": {},
   "source": [
    "### Tensorboard log\n",
    "\n",
    "Finally, we also have another TensorBoard for the DenseNet training. We take a look at it below:"
   ]
  },
  {
   "cell_type": "code",
   "execution_count": null,
   "metadata": {
    "scrolled": false
   },
   "outputs": [],
   "source": [
    "# Opens tensorboard in notebook. Adjust the path to your CHECKPOINT_PATH! Feel free to change \"ResNet\" to \"ResNetPreAct\"\n",
    "# %tensorboard --logdir ../saved_models/tutorial5/tensorboards/DenseNet/"
   ]
  },
  {
   "cell_type": "markdown",
   "metadata": {},
   "source": [
    "<center width=\"100%\"><img src=\"../../tutorial5/tensorboard_screenshot_DenseNet.png\" width=\"1000px\"></center>\n",
    "\n",
    "The overall course of the validation accuracy and training loss resemble the training of GoogleNet, which is also related to training the network with Adam. Feel free to explore the training metrics yourself."
   ]
  },
  {
   "cell_type": "markdown",
   "metadata": {},
   "source": [
    "## Conclusion and Comparison\n",
    "\n",
    "After discussing each model separately, and training all of them, we can finally compare them. First, let's organize the results of all models in a table:"
   ]
  },
  {
   "cell_type": "code",
   "execution_count": 131,
   "metadata": {},
   "outputs": [
    {
     "data": {
      "text/html": [
       "<!-- Some HTML code to increase font size in the following table -->\n",
       "<style>\n",
       "th {font-size: 120%;}\n",
       "td {font-size: 120%;}\n",
       "</style>\n"
      ],
      "text/plain": [
       "<IPython.core.display.HTML object>"
      ]
     },
     "metadata": {},
     "output_type": "display_data"
    }
   ],
   "source": [
    "%%html\n",
    "<!-- Some HTML code to increase font size in the following table -->\n",
    "<style>\n",
    "th {font-size: 120%;}\n",
    "td {font-size: 120%;}\n",
    "</style>"
   ]
  },
  {
   "cell_type": "code",
   "execution_count": 136,
   "metadata": {},
   "outputs": [
    {
     "data": {
      "text/html": [
       "<table>\n",
       "<thead>\n",
       "<tr><th>Model       </th><th>Val Accuracy  </th><th>Test Accuracy  </th><th>Num Parameters  </th></tr>\n",
       "</thead>\n",
       "<tbody>\n",
       "<tr><td>GoogleNet   </td><td>66.08%        </td><td>66.05%         </td><td>259,338         </td></tr>\n",
       "<tr><td>ResNetPreAct</td><td>80.04%        </td><td>78.82%         </td><td>272,346         </td></tr>\n",
       "<tr><td>DenseNet    </td><td>83.36%        </td><td>81.82%         </td><td>239,146         </td></tr>\n",
       "</tbody>\n",
       "</table>"
      ],
      "text/plain": [
       "<IPython.core.display.HTML object>"
      ]
     },
     "metadata": {},
     "output_type": "display_data"
    }
   ],
   "source": [
    "import tabulate\n",
    "from IPython.display import display, HTML\n",
    "all_models = [\n",
    "    (\"GoogleNet\", googlenet_results, googlenet_trainer),\n",
    "    # (\"ResNet\", resnet_results, resnet_trainer),\n",
    "    (\"ResNetPreAct\", resnetpreact_results, resnetpreact_trainer),\n",
    "    (\"DenseNet\", densenet_results, densenet_trainer)\n",
    "]\n",
    "table = [[model_name,\n",
    "          f\"{100.0*model_results['val']:4.2f}%\",\n",
    "          f\"{100.0*model_results['test']:4.2f}%\",\n",
    "          \"{:,}\".format(sum([np.prod(p.shape) for p in jax.tree_leaves(model.state.params)]))]\n",
    "         for model_name, model_results, model in all_models]\n",
    "display(HTML(tabulate.tabulate(table, tablefmt='html', headers=[\"Model\", \"Val Accuracy\", \"Test Accuracy\", \"Num Parameters\"])))"
   ]
  },
  {
   "cell_type": "markdown",
   "metadata": {},
   "source": [
    "First of all, we see that all models are performing reasonably well. Simple models as you have implemented them in the practical achieve considerably lower performance, which is beside the lower number of parameters also attributed to the architecture design choice. GoogleNet is the model to obtain the lowest performance on the validation and test set, although it is very close to DenseNet. A proper hyperparameter search over all the channel sizes in GoogleNet would likely improve the accuracy of the model to a similar level, but this is also expensive given a large number of hyperparameters. ResNet outperforms both DenseNet and GoogleNet by more than 1% on the validation set, while there is a minor difference between both versions, original and pre-activation. We can conclude that for shallow networks, the place of the activation function does not seem to be crucial, although papers have reported the contrary for very deep networks (e.g. [He et al.](https://arxiv.org/abs/1603.05027)). \n",
    "\n",
    "In general, we can conclude that ResNet is a simple, but powerful architecture. If we would apply the models on more complex tasks with larger images and more layers inside the networks, we would likely see a bigger gap between GoogleNet and skip-connection architectures like ResNet and DenseNet. A comparison with deeper models on CIFAR10 can be for example found [here](https://github.com/kuangliu/pytorch-cifar). Interestingly, DenseNet outperforms the original ResNet on their setup but comes closely behind the Pre-Activation ResNet. The best model, a Dual Path Network ([Chen et. al](https://arxiv.org/abs/1707.01629)), is actually a combination of ResNet and DenseNet showing that both offer different advantages."
   ]
  },
  {
   "cell_type": "markdown",
   "metadata": {},
   "source": [
    "### Which model should I choose for my task?\n",
    "\n",
    "We have reviewed four different models. So, which one should we choose if have given a new task? Usually, starting with a ResNet is a good idea given the superior performance of the CIFAR dataset and its simple implementation. Besides, for the parameter number we have chosen here, ResNet is the fastest as DenseNet and GoogleNet have many more layers that are applied in sequence in our primitive implementation. However, if you have a really difficult task, such as semantic segmentation on HD images, more complex variants of ResNet and DenseNet are recommended.  "
   ]
  },
  {
   "cell_type": "markdown",
   "metadata": {},
   "source": [
    "---\n",
    "\n",
    "[![Star our repository](https://img.shields.io/static/v1.svg?logo=star&label=⭐&message=Star%20Our%20Repository&color=yellow)](https://github.com/phlippe/uvadlc_notebooks/)  If you found this tutorial helpful, consider ⭐-ing our repository.    \n",
    "[![Ask questions](https://img.shields.io/static/v1.svg?logo=star&label=❔&message=Ask%20Questions&color=9cf)](https://github.com/phlippe/uvadlc_notebooks/issues)  For any questions, typos, or bugs that you found, please raise an issue on GitHub. \n",
    "\n",
    "---"
   ]
  }
 ],
 "metadata": {
  "kernelspec": {
   "display_name": "Python 3 (ipykernel)",
   "language": "python",
   "name": "python3"
  },
  "language_info": {
   "codemirror_mode": {
    "name": "ipython",
    "version": 3
   },
   "file_extension": ".py",
   "mimetype": "text/x-python",
   "name": "python",
   "nbconvert_exporter": "python",
   "pygments_lexer": "ipython3",
   "version": "3.8.2"
  }
 },
 "nbformat": 4,
 "nbformat_minor": 4
}
