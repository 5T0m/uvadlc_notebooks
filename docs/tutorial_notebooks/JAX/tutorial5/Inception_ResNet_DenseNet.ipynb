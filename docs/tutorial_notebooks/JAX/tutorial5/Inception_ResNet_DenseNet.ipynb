{
 "cells": [
  {
   "cell_type": "markdown",
   "metadata": {},
   "source": [
    "# Tutorial 5: Inception, ResNet and DenseNet\n",
    "\n",
    "![Status](https://img.shields.io/static/v1.svg?label=Status&message=Finished&color=green)\n",
    "\n",
    "\n",
    "**Filled notebook:** \n",
    "[![View on Github](https://img.shields.io/static/v1.svg?logo=github&label=Repo&message=View%20On%20Github&color=lightgrey)](https://github.com/phlippe/uvadlc_notebooks/blob/master/docs/tutorial_notebooks/JAX/tutorial5/Inception_ResNet_DenseNet.ipynb)\n",
    "[![Open In Collab](https://colab.research.google.com/assets/colab-badge.svg)](https://colab.research.google.com/github/phlippe/uvadlc_notebooks/blob/master/docs/tutorial_notebooks/JAX/tutorial5/Inception_ResNet_DenseNet.ipynb)   \n",
    "**Pre-trained models:** \n",
    "[![View files on Github](https://img.shields.io/static/v1.svg?logo=github&label=Repo&message=View%20On%20Github&color=lightgrey)](https://github.com/phlippe/saved_models/tree/main/JAX/tutorial5)   \n",
    "**PyTorch version:**\n",
    "[![View on RTD](https://img.shields.io/static/v1.svg?logo=readthedocs&label=RTD&message=View%20On%20RTD&color=8CA1AF)](https://uvadlc-notebooks.readthedocs.io/en/latest/tutorial_notebooks/tutorial5/Inception_ResNet_DenseNet.html)   \n",
    "**Author:** Phillip Lippe"
   ]
  },
  {
   "cell_type": "markdown",
   "metadata": {},
   "source": [
    "<div class=\"alert alert-info\">\n",
    "\n",
    "**Note:** This notebook is written in JAX+Flax. It is a 1-to-1 translation of the original notebook written in PyTorch+PyTorch Lightning with almost identical results. It is not intended as a full deep-dive tutorial on how JAX+Flax works (see respective documentations for great tutorial), but rather as an example of how those libraries can be used in practice. Still, throughout the notebook, we comment on major differences to the PyTorch version and provide explanations for the major parts of the JAX code.\n",
    "</div>"
   ]
  },
  {
   "cell_type": "markdown",
   "metadata": {},
   "source": [
    "In this tutorial, we will implement and discuss variants of modern CNN architectures. There have been many different architectures been proposed over the past few years. Some of the most impactful ones, and still relevant today, are the following: [GoogleNet](https://arxiv.org/abs/1409.4842)/Inception architecture (winner of ILSVRC 2014), [ResNet](https://arxiv.org/abs/1512.03385) (winner of ILSVRC 2015), and [DenseNet](https://arxiv.org/abs/1608.06993) (best paper award CVPR 2017). All of them were state-of-the-art models when being proposed, and the core ideas of these networks are the foundations for most current state-of-the-art architectures. Thus, it is important to understand these architectures in detail and learn how to implement them. \n",
    "\n",
    "Let's start with importing our standard libraries here."
   ]
  },
  {
   "cell_type": "code",
   "execution_count": 1,
   "metadata": {},
   "outputs": [
    {
     "name": "stderr",
     "output_type": "stream",
     "text": [
      "/tmp/ipykernel_640116/3838553707.py:14: DeprecationWarning: `set_matplotlib_formats` is deprecated since IPython 7.23, directly use `matplotlib_inline.backend_inline.set_matplotlib_formats()`\n",
      "  set_matplotlib_formats('svg', 'pdf') # For export\n"
     ]
    }
   ],
   "source": [
    "## Standard libraries\n",
    "import os\n",
    "import numpy as np \n",
    "import random\n",
    "from PIL import Image\n",
    "from typing import Any\n",
    "from collections import defaultdict\n",
    "import time\n",
    "\n",
    "## Imports for plotting\n",
    "import matplotlib.pyplot as plt\n",
    "%matplotlib inline \n",
    "from IPython.display import set_matplotlib_formats\n",
    "set_matplotlib_formats('svg', 'pdf') # For export\n",
    "import matplotlib\n",
    "matplotlib.rcParams['lines.linewidth'] = 2.0\n",
    "import seaborn as sns\n",
    "sns.reset_orig()\n",
    "\n",
    "## Progress bar\n",
    "from tqdm.auto import tqdm\n",
    "\n",
    "## To run JAX on TPU in Google Colab, uncomment the two lines below\n",
    "# import jax.tools.colab_tpu\n",
    "# jax.tools.colab_tpu.setup_tpu()\n",
    "\n",
    "## JAX\n",
    "import jax\n",
    "import jax.numpy as jnp\n",
    "from jax import random\n",
    "\n",
    "## Flax (NN in JAX)\n",
    "try:\n",
    "    import flax\n",
    "except ModuleNotFoundError: # Install flax if missing\n",
    "    !pip install --quiet flax\n",
    "    import flax\n",
    "from flax import linen as nn\n",
    "from flax.training import train_state, checkpoints\n",
    "\n",
    "## Optax (Optimizers in JAX)\n",
    "try:\n",
    "    import optax\n",
    "except ModuleNotFoundError: # Install optax if missing\n",
    "    !pip install --quiet optax\n",
    "    import optax\n",
    "\n",
    "## PyTorch\n",
    "import torch\n",
    "import torch.utils.data as data\n",
    "from torch.utils.tensorboard import SummaryWriter\n",
    "import torchvision\n",
    "from torchvision import transforms\n",
    "from torchvision.datasets import CIFAR10"
   ]
  },
  {
   "cell_type": "markdown",
   "metadata": {},
   "source": [
    "We will use the same path variables `DATASET_PATH` and `CHECKPOINT_PATH` as in the previous tutorials. Adjust the paths if necessary."
   ]
  },
  {
   "cell_type": "code",
   "execution_count": 2,
   "metadata": {},
   "outputs": [
    {
     "name": "stdout",
     "output_type": "stream",
     "text": [
      "Device: gpu:0\n"
     ]
    }
   ],
   "source": [
    "# Path to the folder where the datasets are/should be downloaded (e.g. CIFAR10)\n",
    "DATASET_PATH = \"../../data\"\n",
    "# Path to the folder where the pretrained models are saved\n",
    "CHECKPOINT_PATH = \"../../saved_models/tutorial5_jax\"\n",
    "\n",
    "# Seeding for random operations\n",
    "main_rng = random.PRNGKey(42)\n",
    "\n",
    "print(\"Device:\", jax.devices()[0])"
   ]
  },
  {
   "cell_type": "markdown",
   "metadata": {},
   "source": [
    "We also have pretrained models and TensorBoards (more on this later) for this tutorial, and download them below."
   ]
  },
  {
   "cell_type": "code",
   "execution_count": 3,
   "metadata": {},
   "outputs": [
    {
     "name": "stdout",
     "output_type": "stream",
     "text": [
      "Downloading https://raw.githubusercontent.com/phlippe/saved_models/main/JAX/tutorial5/GoogleNet.ckpt...\n",
      "Something went wrong. Please try to download the file from the GDrive folder, or contact the author with the full output including the following error:\n",
      " HTTP Error 404: Not Found\n",
      "Downloading https://raw.githubusercontent.com/phlippe/saved_models/main/JAX/tutorial5/ResNet.ckpt...\n",
      "Something went wrong. Please try to download the file from the GDrive folder, or contact the author with the full output including the following error:\n",
      " HTTP Error 404: Not Found\n",
      "Downloading https://raw.githubusercontent.com/phlippe/saved_models/main/JAX/tutorial5/ResNetPreAct.ckpt...\n",
      "Something went wrong. Please try to download the file from the GDrive folder, or contact the author with the full output including the following error:\n",
      " HTTP Error 404: Not Found\n",
      "Downloading https://raw.githubusercontent.com/phlippe/saved_models/main/JAX/tutorial5/DenseNet.ckpt...\n",
      "Something went wrong. Please try to download the file from the GDrive folder, or contact the author with the full output including the following error:\n",
      " HTTP Error 404: Not Found\n",
      "Downloading https://raw.githubusercontent.com/phlippe/saved_models/main/JAX/tutorial5/tensorboards/GoogleNet/events.out.tfevents.googlenet...\n",
      "Something went wrong. Please try to download the file from the GDrive folder, or contact the author with the full output including the following error:\n",
      " HTTP Error 404: Not Found\n",
      "Downloading https://raw.githubusercontent.com/phlippe/saved_models/main/JAX/tutorial5/tensorboards/ResNet/events.out.tfevents.resnet...\n",
      "Something went wrong. Please try to download the file from the GDrive folder, or contact the author with the full output including the following error:\n",
      " HTTP Error 404: Not Found\n",
      "Downloading https://raw.githubusercontent.com/phlippe/saved_models/main/JAX/tutorial5/tensorboards/ResNetPreAct/events.out.tfevents.resnetpreact...\n",
      "Something went wrong. Please try to download the file from the GDrive folder, or contact the author with the full output including the following error:\n",
      " HTTP Error 404: Not Found\n",
      "Downloading https://raw.githubusercontent.com/phlippe/saved_models/main/JAX/tutorial5/tensorboards/DenseNet/events.out.tfevents.densenet...\n",
      "Something went wrong. Please try to download the file from the GDrive folder, or contact the author with the full output including the following error:\n",
      " HTTP Error 404: Not Found\n"
     ]
    }
   ],
   "source": [
    "import urllib.request\n",
    "from urllib.error import HTTPError\n",
    "# Github URL where saved models are stored for this tutorial\n",
    "base_url = \"https://raw.githubusercontent.com/phlippe/saved_models/main/JAX/tutorial5/\"\n",
    "# Files to download\n",
    "pretrained_files = [\"GoogleNet.ckpt\", \"ResNet.ckpt\", \"ResNetPreAct.ckpt\", \"DenseNet.ckpt\",\n",
    "                    \"tensorboards/GoogleNet/events.out.tfevents.googlenet\",\n",
    "                    \"tensorboards/ResNet/events.out.tfevents.resnet\",\n",
    "                    \"tensorboards/PreActResNet/events.out.tfevents.preactresnet\",\n",
    "                    \"tensorboards/DenseNet/events.out.tfevents.densenet\"]\n",
    "# Create checkpoint path if it doesn't exist yet\n",
    "os.makedirs(CHECKPOINT_PATH, exist_ok=True)\n",
    "\n",
    "# For each file, check whether it already exists. If not, try downloading it.\n",
    "for file_name in pretrained_files:\n",
    "    file_path = os.path.join(CHECKPOINT_PATH, file_name)\n",
    "    if \"/\" in file_name:\n",
    "        os.makedirs(file_path.rsplit(\"/\",1)[0], exist_ok=True)\n",
    "    if not os.path.isfile(file_path):\n",
    "        file_url = base_url + file_name\n",
    "        print(f\"Downloading {file_url}...\")\n",
    "        try:\n",
    "            urllib.request.urlretrieve(file_url, file_path)\n",
    "        except HTTPError as e:\n",
    "            print(\"Something went wrong. Please try to download the file from the GDrive folder, or contact the author with the full output including the following error:\\n\", e)"
   ]
  },
  {
   "cell_type": "markdown",
   "metadata": {},
   "source": [
    "Throughout this tutorial, we will train and evaluate the models on the CIFAR10 dataset. This allows you to compare the results obtained here with the model you have implemented in the first assignment. As we have learned from the previous tutorial about initialization, it is important to have the data preprocessed with a zero mean. Therefore, as a first step, we will calculate the mean and standard deviation of the CIFAR dataset:"
   ]
  },
  {
   "cell_type": "code",
   "execution_count": 4,
   "metadata": {},
   "outputs": [
    {
     "name": "stdout",
     "output_type": "stream",
     "text": [
      "Files already downloaded and verified\n",
      "Data mean [0.49139968 0.48215841 0.44653091]\n",
      "Data std [0.24703223 0.24348513 0.26158784]\n"
     ]
    }
   ],
   "source": [
    "train_dataset = CIFAR10(root=DATASET_PATH, train=True, download=True)\n",
    "DATA_MEANS = (train_dataset.data / 255.0).mean(axis=(0,1,2))\n",
    "DATA_STD = (train_dataset.data / 255.0).std(axis=(0,1,2))\n",
    "print(\"Data mean\", DATA_MEANS)\n",
    "print(\"Data std\", DATA_STD)"
   ]
  },
  {
   "cell_type": "markdown",
   "metadata": {},
   "source": [
    "We will use this information to normalize our data accordingly. Additionally, we will use transformations from the package `torchvision` to implement data augmentations during training. This reduces the risk of overfitting and helps CNNs to generalize better. Specifically, we will apply two random augmentations. \n",
    "\n",
    "First, we will flip each image horizontally by a chance of 50% (`transforms.RandomHorizontalFlip`). The object class usually does not change when flipping an image, and we don't expect any image information to be dependent on the horizontal orientation. This would be however different if we would try to detect digits or letters in an image, as those have a certain orientation.\n",
    "\n",
    "The second augmentation we use is called `transforms.RandomResizedCrop`. This transformation scales the image in a small range, while eventually changing the aspect ratio, and crops it afterward in the previous size. Therefore, the actual pixel values change while the content or overall semantics of the image stays the same. \n",
    "\n",
    "We will randomly split the training dataset into a training and a validation set. The validation set will be used for determining early stopping. After finishing the training, we test the models on the CIFAR test set."
   ]
  },
  {
   "cell_type": "code",
   "execution_count": 5,
   "metadata": {},
   "outputs": [
    {
     "name": "stdout",
     "output_type": "stream",
     "text": [
      "Files already downloaded and verified\n",
      "Files already downloaded and verified\n",
      "Files already downloaded and verified\n"
     ]
    }
   ],
   "source": [
    "# Transformations applied on each image => bring them into a numpy array\n",
    "def image_to_numpy(img):\n",
    "    img = np.array(img, dtype=np.float32)\n",
    "    img = (img / 255. - DATA_MEANS) / DATA_STD\n",
    "    return img\n",
    "\n",
    "# We need to stack the batch elements\n",
    "def numpy_collate(batch):\n",
    "    if isinstance(batch[0], np.ndarray):\n",
    "        return np.stack(batch)\n",
    "    elif isinstance(batch[0], (tuple,list)):\n",
    "        transposed = zip(*batch)\n",
    "        return [numpy_collate(samples) for samples in transposed]\n",
    "    else:\n",
    "        return np.array(batch)\n",
    "\n",
    "    \n",
    "test_transform = image_to_numpy\n",
    "# For training, we add some augmentation. Networks are too powerful and would overfit.\n",
    "train_transform = transforms.Compose([transforms.RandomHorizontalFlip(),\n",
    "                                      transforms.RandomResizedCrop((32,32),scale=(0.8,1.0),ratio=(0.9,1.1)),\n",
    "                                      image_to_numpy\n",
    "                                     ])\n",
    "# Loading the training dataset. We need to split it into a training and validation part\n",
    "# We need to do a little trick because the validation set should not use the augmentation.\n",
    "train_dataset = CIFAR10(root=DATASET_PATH, train=True, transform=train_transform, download=True)\n",
    "val_dataset = CIFAR10(root=DATASET_PATH, train=True, transform=test_transform, download=True)\n",
    "train_set, _ = torch.utils.data.random_split(train_dataset, [45000, 5000], generator=torch.Generator().manual_seed(42))\n",
    "_, val_set = torch.utils.data.random_split(val_dataset, [45000, 5000], generator=torch.Generator().manual_seed(42))\n",
    "\n",
    "# Loading the test set\n",
    "test_set = CIFAR10(root=DATASET_PATH, train=False, transform=test_transform, download=True)\n",
    "\n",
    "# We define a set of data loaders that we can use for training and validation\n",
    "train_loader = data.DataLoader(train_set, \n",
    "                               batch_size=128, \n",
    "                               shuffle=True, \n",
    "                               drop_last=True, \n",
    "                               collate_fn=numpy_collate, \n",
    "                               num_workers=8,\n",
    "                               persistent_workers=True)\n",
    "val_loader   = data.DataLoader(val_set, \n",
    "                               batch_size=128, \n",
    "                               shuffle=False, \n",
    "                               drop_last=False, \n",
    "                               collate_fn=numpy_collate, \n",
    "                               num_workers=4,\n",
    "                               persistent_workers=True)\n",
    "test_loader  = data.DataLoader(test_set, \n",
    "                               batch_size=128, \n",
    "                               shuffle=False, \n",
    "                               drop_last=False, \n",
    "                               collate_fn=numpy_collate, \n",
    "                               num_workers=4,\n",
    "                               persistent_workers=True)"
   ]
  },
  {
   "cell_type": "markdown",
   "metadata": {},
   "source": [
    "To verify that our normalization works, we can print out the mean and standard deviation of the single batch. The mean should be close to 0 and the standard deviation close to 1 for each channel:"
   ]
  },
  {
   "cell_type": "code",
   "execution_count": 6,
   "metadata": {},
   "outputs": [
    {
     "name": "stdout",
     "output_type": "stream",
     "text": [
      "Batch mean [-0.01201226 -0.00054911  0.02263165]\n",
      "Batch std [1.00553816 0.99982531 1.00167173]\n"
     ]
    }
   ],
   "source": [
    "imgs, _ = next(iter(train_loader))\n",
    "print(\"Batch mean\", imgs.mean(axis=(0,1,2)))\n",
    "print(\"Batch std\", imgs.std(axis=(0,1,2)))"
   ]
  },
  {
   "cell_type": "markdown",
   "metadata": {},
   "source": [
    "Finally, let's visualize a few images from the training set, and how they look like after random data augmentation: "
   ]
  },
  {
   "cell_type": "code",
   "execution_count": 7,
   "metadata": {},
   "outputs": [
    {
     "data": {
      "application/pdf": "[encoded data removed]",
      "image/svg+xml": [
       "<?xml version=\"1.0\" encoding=\"utf-8\" standalone=\"no\"?>\n",
       "<!DOCTYPE svg PUBLIC \"-//W3C//DTD SVG 1.1//EN\"\n",
       "  \"http://www.w3.org/Graphics/SVG/1.1/DTD/svg11.dtd\">\n",
       "<svg xmlns:xlink=\"http://www.w3.org/1999/xlink\" width=\"460.8pt\" height=\"255.952908pt\" viewBox=\"0 0 460.8 255.952908\" xmlns=\"http://www.w3.org/2000/svg\" version=\"1.1\">\n",
       " <metadata>\n",
       "  <rdf:RDF xmlns:dc=\"http://purl.org/dc/elements/1.1/\" xmlns:cc=\"http://creativecommons.org/ns#\" xmlns:rdf=\"http://www.w3.org/1999/02/22-rdf-syntax-ns#\">\n",
       "   <cc:Work>\n",
       "    <dc:type rdf:resource=\"http://purl.org/dc/dcmitype/StillImage\"/>\n",
       "    <dc:date>2022-06-02T16:14:35.946691</dc:date>\n",
       "    <dc:format>image/svg+xml</dc:format>\n",
       "    <dc:creator>\n",
       "     <cc:Agent>\n",
       "      <dc:title>Matplotlib v3.5.1, https://matplotlib.org/</dc:title>\n",
       "     </cc:Agent>\n",
       "    </dc:creator>\n",
       "   </cc:Work>\n",
       "  </rdf:RDF>\n",
       " </metadata>\n",
       " <defs>\n",
       "  <style type=\"text/css\">*{stroke-linejoin: round; stroke-linecap: butt}</style>\n",
       " </defs>\n",
       " <g id=\"figure_1\">\n",
       "  <g id=\"patch_1\">\n",
       "   <path d=\"M 0 255.952908 \n",
       "L 460.8 255.952908 \n",
       "L 460.8 0 \n",
       "L 0 0 \n",
       "L 0 255.952908 \n",
       "z\n",
       "\" style=\"fill: none\"/>\n",
       "  </g>\n",
       "  <g id=\"axes_1\">\n",
       "   <g clip-path=\"url(#p55925d7838)\">\n",
       "    <image xlink:href=\"data:image/png;base64,\n",
       "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\" id=\"image3f4ded6c5e\" transform=\"scale(1 -1)translate(0 -227)\" x=\"7.2\" y=\"-21.752908\" width=\"447\" height=\"227\"/>\n",
       "   </g>\n",
       "   <g id=\"text_1\">\n",
       "    <!-- Augmentation examples on CIFAR10 -->\n",
       "    <g transform=\"translate(120.904687 16.318125)scale(0.12 -0.12)\">\n",
       "     <defs>\n",
       "      <path id=\"DejaVuSans-41\" d=\"M 2188 4044 \n",
       "L 1331 1722 \n",
       "L 3047 1722 \n",
       "L 2188 4044 \n",
       "z\n",
       "M 1831 4666 \n",
       "L 2547 4666 \n",
       "L 4325 0 \n",
       "L 3669 0 \n",
       "L 3244 1197 \n",
       "L 1141 1197 \n",
       "L 716 0 \n",
       "L 50 0 \n",
       "L 1831 4666 \n",
       "z\n",
       "\" transform=\"scale(0.015625)\"/>\n",
       "      <path id=\"DejaVuSans-75\" d=\"M 544 1381 \n",
       "L 544 3500 \n",
       "L 1119 3500 \n",
       "L 1119 1403 \n",
       "Q 1119 906 1312 657 \n",
       "Q 1506 409 1894 409 \n",
       "Q 2359 409 2629 706 \n",
       "Q 2900 1003 2900 1516 \n",
       "L 2900 3500 \n",
       "L 3475 3500 \n",
       "L 3475 0 \n",
       "L 2900 0 \n",
       "L 2900 538 \n",
       "Q 2691 219 2414 64 \n",
       "Q 2138 -91 1772 -91 \n",
       "Q 1169 -91 856 284 \n",
       "Q 544 659 544 1381 \n",
       "z\n",
       "M 1991 3584 \n",
       "L 1991 3584 \n",
       "z\n",
       "\" transform=\"scale(0.015625)\"/>\n",
       "      <path id=\"DejaVuSans-67\" d=\"M 2906 1791 \n",
       "Q 2906 2416 2648 2759 \n",
       "Q 2391 3103 1925 3103 \n",
       "Q 1463 3103 1205 2759 \n",
       "Q 947 2416 947 1791 \n",
       "Q 947 1169 1205 825 \n",
       "Q 1463 481 1925 481 \n",
       "Q 2391 481 2648 825 \n",
       "Q 2906 1169 2906 1791 \n",
       "z\n",
       "M 3481 434 \n",
       "Q 3481 -459 3084 -895 \n",
       "Q 2688 -1331 1869 -1331 \n",
       "Q 1566 -1331 1297 -1286 \n",
       "Q 1028 -1241 775 -1147 \n",
       "L 775 -588 \n",
       "Q 1028 -725 1275 -790 \n",
       "Q 1522 -856 1778 -856 \n",
       "Q 2344 -856 2625 -561 \n",
       "Q 2906 -266 2906 331 \n",
       "L 2906 616 \n",
       "Q 2728 306 2450 153 \n",
       "Q 2172 0 1784 0 \n",
       "Q 1141 0 747 490 \n",
       "Q 353 981 353 1791 \n",
       "Q 353 2603 747 3093 \n",
       "Q 1141 3584 1784 3584 \n",
       "Q 2172 3584 2450 3431 \n",
       "Q 2728 3278 2906 2969 \n",
       "L 2906 3500 \n",
       "L 3481 3500 \n",
       "L 3481 434 \n",
       "z\n",
       "\" transform=\"scale(0.015625)\"/>\n",
       "      <path id=\"DejaVuSans-6d\" d=\"M 3328 2828 \n",
       "Q 3544 3216 3844 3400 \n",
       "Q 4144 3584 4550 3584 \n",
       "Q 5097 3584 5394 3201 \n",
       "Q 5691 2819 5691 2113 \n",
       "L 5691 0 \n",
       "L 5113 0 \n",
       "L 5113 2094 \n",
       "Q 5113 2597 4934 2840 \n",
       "Q 4756 3084 4391 3084 \n",
       "Q 3944 3084 3684 2787 \n",
       "Q 3425 2491 3425 1978 \n",
       "L 3425 0 \n",
       "L 2847 0 \n",
       "L 2847 2094 \n",
       "Q 2847 2600 2669 2842 \n",
       "Q 2491 3084 2119 3084 \n",
       "Q 1678 3084 1418 2786 \n",
       "Q 1159 2488 1159 1978 \n",
       "L 1159 0 \n",
       "L 581 0 \n",
       "L 581 3500 \n",
       "L 1159 3500 \n",
       "L 1159 2956 \n",
       "Q 1356 3278 1631 3431 \n",
       "Q 1906 3584 2284 3584 \n",
       "Q 2666 3584 2933 3390 \n",
       "Q 3200 3197 3328 2828 \n",
       "z\n",
       "\" transform=\"scale(0.015625)\"/>\n",
       "      <path id=\"DejaVuSans-65\" d=\"M 3597 1894 \n",
       "L 3597 1613 \n",
       "L 953 1613 \n",
       "Q 991 1019 1311 708 \n",
       "Q 1631 397 2203 397 \n",
       "Q 2534 397 2845 478 \n",
       "Q 3156 559 3463 722 \n",
       "L 3463 178 \n",
       "Q 3153 47 2828 -22 \n",
       "Q 2503 -91 2169 -91 \n",
       "Q 1331 -91 842 396 \n",
       "Q 353 884 353 1716 \n",
       "Q 353 2575 817 3079 \n",
       "Q 1281 3584 2069 3584 \n",
       "Q 2775 3584 3186 3129 \n",
       "Q 3597 2675 3597 1894 \n",
       "z\n",
       "M 3022 2063 \n",
       "Q 3016 2534 2758 2815 \n",
       "Q 2500 3097 2075 3097 \n",
       "Q 1594 3097 1305 2825 \n",
       "Q 1016 2553 972 2059 \n",
       "L 3022 2063 \n",
       "z\n",
       "\" transform=\"scale(0.015625)\"/>\n",
       "      <path id=\"DejaVuSans-6e\" d=\"M 3513 2113 \n",
       "L 3513 0 \n",
       "L 2938 0 \n",
       "L 2938 2094 \n",
       "Q 2938 2591 2744 2837 \n",
       "Q 2550 3084 2163 3084 \n",
       "Q 1697 3084 1428 2787 \n",
       "Q 1159 2491 1159 1978 \n",
       "L 1159 0 \n",
       "L 581 0 \n",
       "L 581 3500 \n",
       "L 1159 3500 \n",
       "L 1159 2956 \n",
       "Q 1366 3272 1645 3428 \n",
       "Q 1925 3584 2291 3584 \n",
       "Q 2894 3584 3203 3211 \n",
       "Q 3513 2838 3513 2113 \n",
       "z\n",
       "\" transform=\"scale(0.015625)\"/>\n",
       "      <path id=\"DejaVuSans-74\" d=\"M 1172 4494 \n",
       "L 1172 3500 \n",
       "L 2356 3500 \n",
       "L 2356 3053 \n",
       "L 1172 3053 \n",
       "L 1172 1153 \n",
       "Q 1172 725 1289 603 \n",
       "Q 1406 481 1766 481 \n",
       "L 2356 481 \n",
       "L 2356 0 \n",
       "L 1766 0 \n",
       "Q 1100 0 847 248 \n",
       "Q 594 497 594 1153 \n",
       "L 594 3053 \n",
       "L 172 3053 \n",
       "L 172 3500 \n",
       "L 594 3500 \n",
       "L 594 4494 \n",
       "L 1172 4494 \n",
       "z\n",
       "\" transform=\"scale(0.015625)\"/>\n",
       "      <path id=\"DejaVuSans-61\" d=\"M 2194 1759 \n",
       "Q 1497 1759 1228 1600 \n",
       "Q 959 1441 959 1056 \n",
       "Q 959 750 1161 570 \n",
       "Q 1363 391 1709 391 \n",
       "Q 2188 391 2477 730 \n",
       "Q 2766 1069 2766 1631 \n",
       "L 2766 1759 \n",
       "L 2194 1759 \n",
       "z\n",
       "M 3341 1997 \n",
       "L 3341 0 \n",
       "L 2766 0 \n",
       "L 2766 531 \n",
       "Q 2569 213 2275 61 \n",
       "Q 1981 -91 1556 -91 \n",
       "Q 1019 -91 701 211 \n",
       "Q 384 513 384 1019 \n",
       "Q 384 1609 779 1909 \n",
       "Q 1175 2209 1959 2209 \n",
       "L 2766 2209 \n",
       "L 2766 2266 \n",
       "Q 2766 2663 2505 2880 \n",
       "Q 2244 3097 1772 3097 \n",
       "Q 1472 3097 1187 3025 \n",
       "Q 903 2953 641 2809 \n",
       "L 641 3341 \n",
       "Q 956 3463 1253 3523 \n",
       "Q 1550 3584 1831 3584 \n",
       "Q 2591 3584 2966 3190 \n",
       "Q 3341 2797 3341 1997 \n",
       "z\n",
       "\" transform=\"scale(0.015625)\"/>\n",
       "      <path id=\"DejaVuSans-69\" d=\"M 603 3500 \n",
       "L 1178 3500 \n",
       "L 1178 0 \n",
       "L 603 0 \n",
       "L 603 3500 \n",
       "z\n",
       "M 603 4863 \n",
       "L 1178 4863 \n",
       "L 1178 4134 \n",
       "L 603 4134 \n",
       "L 603 4863 \n",
       "z\n",
       "\" transform=\"scale(0.015625)\"/>\n",
       "      <path id=\"DejaVuSans-6f\" d=\"M 1959 3097 \n",
       "Q 1497 3097 1228 2736 \n",
       "Q 959 2375 959 1747 \n",
       "Q 959 1119 1226 758 \n",
       "Q 1494 397 1959 397 \n",
       "Q 2419 397 2687 759 \n",
       "Q 2956 1122 2956 1747 \n",
       "Q 2956 2369 2687 2733 \n",
       "Q 2419 3097 1959 3097 \n",
       "z\n",
       "M 1959 3584 \n",
       "Q 2709 3584 3137 3096 \n",
       "Q 3566 2609 3566 1747 \n",
       "Q 3566 888 3137 398 \n",
       "Q 2709 -91 1959 -91 \n",
       "Q 1206 -91 779 398 \n",
       "Q 353 888 353 1747 \n",
       "Q 353 2609 779 3096 \n",
       "Q 1206 3584 1959 3584 \n",
       "z\n",
       "\" transform=\"scale(0.015625)\"/>\n",
       "      <path id=\"DejaVuSans-20\" transform=\"scale(0.015625)\"/>\n",
       "      <path id=\"DejaVuSans-78\" d=\"M 3513 3500 \n",
       "L 2247 1797 \n",
       "L 3578 0 \n",
       "L 2900 0 \n",
       "L 1881 1375 \n",
       "L 863 0 \n",
       "L 184 0 \n",
       "L 1544 1831 \n",
       "L 300 3500 \n",
       "L 978 3500 \n",
       "L 1906 2253 \n",
       "L 2834 3500 \n",
       "L 3513 3500 \n",
       "z\n",
       "\" transform=\"scale(0.015625)\"/>\n",
       "      <path id=\"DejaVuSans-70\" d=\"M 1159 525 \n",
       "L 1159 -1331 \n",
       "L 581 -1331 \n",
       "L 581 3500 \n",
       "L 1159 3500 \n",
       "L 1159 2969 \n",
       "Q 1341 3281 1617 3432 \n",
       "Q 1894 3584 2278 3584 \n",
       "Q 2916 3584 3314 3078 \n",
       "Q 3713 2572 3713 1747 \n",
       "Q 3713 922 3314 415 \n",
       "Q 2916 -91 2278 -91 \n",
       "Q 1894 -91 1617 61 \n",
       "Q 1341 213 1159 525 \n",
       "z\n",
       "M 3116 1747 \n",
       "Q 3116 2381 2855 2742 \n",
       "Q 2594 3103 2138 3103 \n",
       "Q 1681 3103 1420 2742 \n",
       "Q 1159 2381 1159 1747 \n",
       "Q 1159 1113 1420 752 \n",
       "Q 1681 391 2138 391 \n",
       "Q 2594 391 2855 752 \n",
       "Q 3116 1113 3116 1747 \n",
       "z\n",
       "\" transform=\"scale(0.015625)\"/>\n",
       "      <path id=\"DejaVuSans-6c\" d=\"M 603 4863 \n",
       "L 1178 4863 \n",
       "L 1178 0 \n",
       "L 603 0 \n",
       "L 603 4863 \n",
       "z\n",
       "\" transform=\"scale(0.015625)\"/>\n",
       "      <path id=\"DejaVuSans-73\" d=\"M 2834 3397 \n",
       "L 2834 2853 \n",
       "Q 2591 2978 2328 3040 \n",
       "Q 2066 3103 1784 3103 \n",
       "Q 1356 3103 1142 2972 \n",
       "Q 928 2841 928 2578 \n",
       "Q 928 2378 1081 2264 \n",
       "Q 1234 2150 1697 2047 \n",
       "L 1894 2003 \n",
       "Q 2506 1872 2764 1633 \n",
       "Q 3022 1394 3022 966 \n",
       "Q 3022 478 2636 193 \n",
       "Q 2250 -91 1575 -91 \n",
       "Q 1294 -91 989 -36 \n",
       "Q 684 19 347 128 \n",
       "L 347 722 \n",
       "Q 666 556 975 473 \n",
       "Q 1284 391 1588 391 \n",
       "Q 1994 391 2212 530 \n",
       "Q 2431 669 2431 922 \n",
       "Q 2431 1156 2273 1281 \n",
       "Q 2116 1406 1581 1522 \n",
       "L 1381 1569 \n",
       "Q 847 1681 609 1914 \n",
       "Q 372 2147 372 2553 \n",
       "Q 372 3047 722 3315 \n",
       "Q 1072 3584 1716 3584 \n",
       "Q 2034 3584 2315 3537 \n",
       "Q 2597 3491 2834 3397 \n",
       "z\n",
       "\" transform=\"scale(0.015625)\"/>\n",
       "      <path id=\"DejaVuSans-43\" d=\"M 4122 4306 \n",
       "L 4122 3641 \n",
       "Q 3803 3938 3442 4084 \n",
       "Q 3081 4231 2675 4231 \n",
       "Q 1875 4231 1450 3742 \n",
       "Q 1025 3253 1025 2328 \n",
       "Q 1025 1406 1450 917 \n",
       "Q 1875 428 2675 428 \n",
       "Q 3081 428 3442 575 \n",
       "Q 3803 722 4122 1019 \n",
       "L 4122 359 \n",
       "Q 3791 134 3420 21 \n",
       "Q 3050 -91 2638 -91 \n",
       "Q 1578 -91 968 557 \n",
       "Q 359 1206 359 2328 \n",
       "Q 359 3453 968 4101 \n",
       "Q 1578 4750 2638 4750 \n",
       "Q 3056 4750 3426 4639 \n",
       "Q 3797 4528 4122 4306 \n",
       "z\n",
       "\" transform=\"scale(0.015625)\"/>\n",
       "      <path id=\"DejaVuSans-49\" d=\"M 628 4666 \n",
       "L 1259 4666 \n",
       "L 1259 0 \n",
       "L 628 0 \n",
       "L 628 4666 \n",
       "z\n",
       "\" transform=\"scale(0.015625)\"/>\n",
       "      <path id=\"DejaVuSans-46\" d=\"M 628 4666 \n",
       "L 3309 4666 \n",
       "L 3309 4134 \n",
       "L 1259 4134 \n",
       "L 1259 2759 \n",
       "L 3109 2759 \n",
       "L 3109 2228 \n",
       "L 1259 2228 \n",
       "L 1259 0 \n",
       "L 628 0 \n",
       "L 628 4666 \n",
       "z\n",
       "\" transform=\"scale(0.015625)\"/>\n",
       "      <path id=\"DejaVuSans-52\" d=\"M 2841 2188 \n",
       "Q 3044 2119 3236 1894 \n",
       "Q 3428 1669 3622 1275 \n",
       "L 4263 0 \n",
       "L 3584 0 \n",
       "L 2988 1197 \n",
       "Q 2756 1666 2539 1819 \n",
       "Q 2322 1972 1947 1972 \n",
       "L 1259 1972 \n",
       "L 1259 0 \n",
       "L 628 0 \n",
       "L 628 4666 \n",
       "L 2053 4666 \n",
       "Q 2853 4666 3247 4331 \n",
       "Q 3641 3997 3641 3322 \n",
       "Q 3641 2881 3436 2590 \n",
       "Q 3231 2300 2841 2188 \n",
       "z\n",
       "M 1259 4147 \n",
       "L 1259 2491 \n",
       "L 2053 2491 \n",
       "Q 2509 2491 2742 2702 \n",
       "Q 2975 2913 2975 3322 \n",
       "Q 2975 3731 2742 3939 \n",
       "Q 2509 4147 2053 4147 \n",
       "L 1259 4147 \n",
       "z\n",
       "\" transform=\"scale(0.015625)\"/>\n",
       "      <path id=\"DejaVuSans-31\" d=\"M 794 531 \n",
       "L 1825 531 \n",
       "L 1825 4091 \n",
       "L 703 3866 \n",
       "L 703 4441 \n",
       "L 1819 4666 \n",
       "L 2450 4666 \n",
       "L 2450 531 \n",
       "L 3481 531 \n",
       "L 3481 0 \n",
       "L 794 0 \n",
       "L 794 531 \n",
       "z\n",
       "\" transform=\"scale(0.015625)\"/>\n",
       "      <path id=\"DejaVuSans-30\" d=\"M 2034 4250 \n",
       "Q 1547 4250 1301 3770 \n",
       "Q 1056 3291 1056 2328 \n",
       "Q 1056 1369 1301 889 \n",
       "Q 1547 409 2034 409 \n",
       "Q 2525 409 2770 889 \n",
       "Q 3016 1369 3016 2328 \n",
       "Q 3016 3291 2770 3770 \n",
       "Q 2525 4250 2034 4250 \n",
       "z\n",
       "M 2034 4750 \n",
       "Q 2819 4750 3233 4129 \n",
       "Q 3647 3509 3647 2328 \n",
       "Q 3647 1150 3233 529 \n",
       "Q 2819 -91 2034 -91 \n",
       "Q 1250 -91 836 529 \n",
       "Q 422 1150 422 2328 \n",
       "Q 422 3509 836 4129 \n",
       "Q 1250 4750 2034 4750 \n",
       "z\n",
       "\" transform=\"scale(0.015625)\"/>\n",
       "     </defs>\n",
       "     <use xlink:href=\"#DejaVuSans-41\"/>\n",
       "     <use xlink:href=\"#DejaVuSans-75\" x=\"68.408203\"/>\n",
       "     <use xlink:href=\"#DejaVuSans-67\" x=\"131.787109\"/>\n",
       "     <use xlink:href=\"#DejaVuSans-6d\" x=\"195.263672\"/>\n",
       "     <use xlink:href=\"#DejaVuSans-65\" x=\"292.675781\"/>\n",
       "     <use xlink:href=\"#DejaVuSans-6e\" x=\"354.199219\"/>\n",
       "     <use xlink:href=\"#DejaVuSans-74\" x=\"417.578125\"/>\n",
       "     <use xlink:href=\"#DejaVuSans-61\" x=\"456.787109\"/>\n",
       "     <use xlink:href=\"#DejaVuSans-74\" x=\"518.066406\"/>\n",
       "     <use xlink:href=\"#DejaVuSans-69\" x=\"557.275391\"/>\n",
       "     <use xlink:href=\"#DejaVuSans-6f\" x=\"585.058594\"/>\n",
       "     <use xlink:href=\"#DejaVuSans-6e\" x=\"646.240234\"/>\n",
       "     <use xlink:href=\"#DejaVuSans-20\" x=\"709.619141\"/>\n",
       "     <use xlink:href=\"#DejaVuSans-65\" x=\"741.40625\"/>\n",
       "     <use xlink:href=\"#DejaVuSans-78\" x=\"801.179688\"/>\n",
       "     <use xlink:href=\"#DejaVuSans-61\" x=\"860.359375\"/>\n",
       "     <use xlink:href=\"#DejaVuSans-6d\" x=\"921.638672\"/>\n",
       "     <use xlink:href=\"#DejaVuSans-70\" x=\"1019.050781\"/>\n",
       "     <use xlink:href=\"#DejaVuSans-6c\" x=\"1082.527344\"/>\n",
       "     <use xlink:href=\"#DejaVuSans-65\" x=\"1110.310547\"/>\n",
       "     <use xlink:href=\"#DejaVuSans-73\" x=\"1171.833984\"/>\n",
       "     <use xlink:href=\"#DejaVuSans-20\" x=\"1223.933594\"/>\n",
       "     <use xlink:href=\"#DejaVuSans-6f\" x=\"1255.720703\"/>\n",
       "     <use xlink:href=\"#DejaVuSans-6e\" x=\"1316.902344\"/>\n",
       "     <use xlink:href=\"#DejaVuSans-20\" x=\"1380.28125\"/>\n",
       "     <use xlink:href=\"#DejaVuSans-43\" x=\"1412.068359\"/>\n",
       "     <use xlink:href=\"#DejaVuSans-49\" x=\"1481.892578\"/>\n",
       "     <use xlink:href=\"#DejaVuSans-46\" x=\"1511.384766\"/>\n",
       "     <use xlink:href=\"#DejaVuSans-41\" x=\"1559.779297\"/>\n",
       "     <use xlink:href=\"#DejaVuSans-52\" x=\"1628.1875\"/>\n",
       "     <use xlink:href=\"#DejaVuSans-31\" x=\"1697.669922\"/>\n",
       "     <use xlink:href=\"#DejaVuSans-30\" x=\"1761.292969\"/>\n",
       "    </g>\n",
       "   </g>\n",
       "  </g>\n",
       " </g>\n",
       " <defs>\n",
       "  <clipPath id=\"p55925d7838\">\n",
       "   <rect x=\"7.2\" y=\"22.318125\" width=\"446.4\" height=\"226.434783\"/>\n",
       "  </clipPath>\n",
       " </defs>\n",
       "</svg>\n"
      ],
      "text/plain": [
       "<Figure size 576x576 with 1 Axes>"
      ]
     },
     "metadata": {
      "needs_background": "light"
     },
     "output_type": "display_data"
    }
   ],
   "source": [
    "NUM_IMAGES = 4\n",
    "images = [train_dataset[idx][0] for idx in range(NUM_IMAGES)]\n",
    "orig_images = [Image.fromarray(train_dataset.data[idx]) for idx in range(NUM_IMAGES)]\n",
    "orig_images = [test_transform(img) for img in orig_images]\n",
    "\n",
    "imgs = np.stack(images + orig_images, axis=0)\n",
    "imgs = torch.from_numpy(imgs).permute(0, 3, 1, 2)\n",
    "img_grid = torchvision.utils.make_grid(imgs, nrow=4, normalize=True, pad_value=0.5)\n",
    "img_grid = img_grid.permute(1, 2, 0)\n",
    "\n",
    "plt.figure(figsize=(8,8))\n",
    "plt.title(\"Augmentation examples on CIFAR10 (Top: augmented, bottom: original)\")\n",
    "plt.imshow(img_grid)\n",
    "plt.axis('off')\n",
    "plt.show()\n",
    "plt.close()"
   ]
  },
  {
   "cell_type": "markdown",
   "metadata": {},
   "source": [
    "## Trainer Module\n",
    "\n",
    "In the [PyTorch version](https://uvadlc-notebooks.readthedocs.io/en/latest/tutorial_notebooks/tutorial5/Inception_ResNet_DenseNet.html) of this tutorial, we would now introduce the framework [PyTorch Lightning](https://www.pytorchlightning.ai/) which simplifies the overall training of a model. So far (June 2022), there is no clear equivalent of it for JAX. Some basic training functionalities are implemented in `flax.training` ([documentation](https://flax.readthedocs.io/en/latest/flax.training.html)), and predefined training modules are implemented in `trax` ([documentation](https://trax-ml.readthedocs.io/en/latest/)), but neither provide a complete, flexible training package yet like PyTorch Lightning. Hence, we need to write our own small training loop. \n",
    "\n",
    "For this, we take inspiration from PyTorch Lightning and build a trainer module/object with the following main functionalities:\n",
    "\n",
    "1. *Storing model and parameters*: In order to train multiple models with different hyperparameters, the trainer module creates an instance of the model class, and keeps the parameters in the same class. This way, we can easily apply a model with its parameters on new inputs.\n",
    "2. *Initialization of model and training state*: During initialization of the trainer, we initialize the model parameters and a new train state, which includes the optimizer and possible learning rate schedulers.\n",
    "3. *Training, validation and test loops*: Similar to PyTorch Lightning, we implement simple training, validation and test loops, where subclasses of this trainer could overwrite the respective training, validation or test steps. Since in this tutorial, all models will have the same objective, i.e. classification on CIFAR10, we will pre-specify them in the trainer module below.\n",
    "4. *Logging, saving and loading of models*: To keep track of the training, we implement functionalities to log the training progress and save the best model on the validation set. Afterwards, this model can be loaded from the disk. \n",
    "\n",
    "Before starting to implement a trainer module with these functionalities, we need to take one prior step. The networks we will implement in this tutorial use BatchNormalization, which carries an exponential average of the prior batch statistics (mean and std) to apply during evaluation. In PyTorch, this is simply tracked by an object attribute of an object of the class `nn.BatchNorm2d`, but in JAX, we only work with functions. Hence, we need to take care of the batch statistics ourselves, similar to the parameters, and enter them during every forward pass. To simplify this a little, we overwrite the `train_state.TrainState` class of Flax by adding a field for the batch statistics:"
   ]
  },
  {
   "cell_type": "code",
   "execution_count": 8,
   "metadata": {},
   "outputs": [],
   "source": [
    "class TrainState(train_state.TrainState):\n",
    "    # A simple extension of TrainState to also include batch statistics\n",
    "    batch_stats: Any"
   ]
  },
  {
   "cell_type": "markdown",
   "metadata": {},
   "source": [
    "With this, the training state contains both the training parameters and the batch statistics, which makes it easier to keep everything in one place.\n",
    "\n",
    "Now that the batch statistics are sorted out, we can implement our full training module:"
   ]
  },
  {
   "cell_type": "code",
   "execution_count": 37,
   "metadata": {},
   "outputs": [],
   "source": [
    "class TrainerModule:\n",
    "\n",
    "    def __init__(self, \n",
    "                 model_name : str, \n",
    "                 model_class : nn.Module, \n",
    "                 model_hparams : dict, \n",
    "                 optimizer_name : str, \n",
    "                 optimizer_hparams : dict, \n",
    "                 exmp_imgs : Any, \n",
    "                 seed=42):\n",
    "        \"\"\"\n",
    "        Module for summarizing all training functionalities for classification on CIFAR10.\n",
    "        \n",
    "        Inputs:\n",
    "            model_name - String of the class name, used for logging and saving\n",
    "            model_class - Class implementing the neural network\n",
    "            model_hparams - Hyperparameters of the model, used as input to model constructor\n",
    "            optimizer_name - String of the optimizer name, supporting ['sgd', 'adam', 'adamw']\n",
    "            optimizer_hparams - Hyperparameters of the optimizer, including learning rate as 'lr'\n",
    "            exmp_imgs - Example imgs, used as input to initialize the model\n",
    "            seed - Seed to use in the model initialization\n",
    "        \"\"\"\n",
    "        super().__init__()\n",
    "        self.model_name = model_name\n",
    "        self.model_class = model_class\n",
    "        self.model_hparams = model_hparams\n",
    "        self.optimizer_name = optimizer_name\n",
    "        self.optimizer_hparams = optimizer_hparams\n",
    "        self.seed = seed\n",
    "        # Create empty model. Note: no parameters yet\n",
    "        self.model = self.model_class(**self.model_hparams)\n",
    "        # Prepare logging\n",
    "        self.log_dir = os.path.join(CHECKPOINT_PATH, self.model_name)\n",
    "        self.logger = SummaryWriter(log_dir=self.log_dir)\n",
    "        # Create jitted training and eval functions\n",
    "        self.create_functions()\n",
    "        # Initialize model\n",
    "        self.init_model(exmp_imgs)\n",
    "\n",
    "    def create_functions(self):\n",
    "        # Function to calculate the classification loss and accuracy for a model\n",
    "        def calculate_loss(params, batch_stats, batch, train):\n",
    "            imgs, labels = batch\n",
    "            labels_onehot = jax.nn.one_hot(labels, num_classes=self.model.num_classes)\n",
    "            # Run model. During training, we need to update the BatchNorm statistics.\n",
    "            outs = self.model.apply({'params': params, 'batch_stats': batch_stats}, \n",
    "                                    imgs,\n",
    "                                    train=train,\n",
    "                                    mutable=['batch_stats'] if train else False)\n",
    "            logits, new_model_state = outs if train else (outs, None)\n",
    "            loss = optax.softmax_cross_entropy(logits, labels_onehot).mean()\n",
    "            acc = (logits.argmax(axis=-1) == labels).mean()\n",
    "            return loss, (acc, new_model_state)\n",
    "        # Training function\n",
    "        def train_step(state, batch):\n",
    "            loss_fn = lambda params: calculate_loss(params, state.batch_stats, batch, train=True)\n",
    "            # Get loss, gradients for loss, and other outputs of loss function\n",
    "            ret, grads = jax.value_and_grad(loss_fn, has_aux=True)(state.params)  \n",
    "            loss, acc, new_model_state = ret[0], *ret[1]\n",
    "            # Update parameters and batch statistics\n",
    "            state = state.apply_gradients(grads=grads, batch_stats=new_model_state['batch_stats'])\n",
    "            return state, loss, acc\n",
    "        # Eval function\n",
    "        def eval_step(state, batch):\n",
    "            # Return the accuracy for a single batch\n",
    "            _, (acc, _) = calculate_loss(state.params, state.batch_stats, batch, train=False)\n",
    "            return acc\n",
    "        # jit for efficiency\n",
    "        self.train_step = jax.jit(train_step)\n",
    "        self.eval_step = jax.jit(eval_step)\n",
    "\n",
    "    def init_model(self, exmp_imgs):\n",
    "        # Initialize model\n",
    "        init_rng = jax.random.PRNGKey(self.seed)\n",
    "        variables = self.model.init(init_rng, exmp_imgs, train=True)\n",
    "        self.init_params, self.init_batch_stats = variables['params'], variables['batch_stats']\n",
    "        self.state = None\n",
    "        \n",
    "    def init_optimizer(self, num_epochs, steps_per_epoch):\n",
    "        # Initialize learning rate schedule and optimizer\n",
    "        if self.optimizer_name.lower() == 'adam':\n",
    "            opt_class = optax.adam\n",
    "        elif self.optimizer_name.lower() == 'adamw':\n",
    "            opt_class = optax.adamw\n",
    "        elif self.optimizer_name.lower() == 'sgd':\n",
    "            opt_class = optax.sgd\n",
    "        else:\n",
    "            assert False, f'Unknown optimizer \"{opt_class}\"'\n",
    "        # We decrease the learning rate by a factor of 0.1 after 60% and 85% of the training\n",
    "        num_steps_per_epoch = len(train_loader)\n",
    "        lr_schedule = optax.piecewise_constant_schedule(\n",
    "            init_value=self.optimizer_hparams.pop('lr'),\n",
    "            boundaries_and_scales=\n",
    "                {int(num_steps_per_epoch*num_epochs*0.6): 0.1,\n",
    "                 int(num_steps_per_epoch*num_epochs*0.85): 0.1}\n",
    "        )\n",
    "        # Clip gradients at max value, and evt. apply weight decay\n",
    "        transf = [optax.clip(1.0)]\n",
    "        if opt_class == optax.sgd and 'weight_decay' in self.optimizer_hparams:  # wd is integrated in adamw\n",
    "            transf.append(optax.add_decayed_weights(self.optimizer_hparams.pop('weight_decay')))\n",
    "        optimizer = optax.chain(\n",
    "            *transf,\n",
    "            opt_class(lr_schedule, **self.optimizer_hparams)\n",
    "        )\n",
    "        # Initialize training state\n",
    "        self.state = TrainState.create(apply_fn=self.model.apply, \n",
    "                                       params=self.init_params if self.state is None else self.state.params,\n",
    "                                       batch_stats=self.init_batch_stats if self.state is None else self.state.batch_stats,\n",
    "                                       tx=optimizer)\n",
    "\n",
    "    def train_model(self, train_loader, val_loader, num_epochs=200):\n",
    "        # Train model for defined number of epochs\n",
    "        # We first need to create optimizer and the scheduler for the given number of epochs\n",
    "        self.init_optimizer(num_epochs, len(train_loader))\n",
    "        # Track best eval accuracy\n",
    "        best_eval = 0.0\n",
    "        for epoch_idx in tqdm(range(1, num_epochs+1)):\n",
    "            self.train_epoch(epoch=epoch_idx)\n",
    "            if epoch_idx % 2 == 0:\n",
    "                eval_acc = self.eval_model(val_loader)\n",
    "                self.logger.add_scalar('val/acc', eval_acc, global_step=epoch_idx)\n",
    "                if eval_acc >= best_eval:\n",
    "                    best_eval = eval_acc\n",
    "                    self.save_model(step=epoch_idx)\n",
    "                self.logger.flush()\n",
    "\n",
    "    def train_epoch(self, epoch):\n",
    "        # Train model for one epoch, and log avg loss and accuracy\n",
    "        metrics = defaultdict(list)\n",
    "        for batch in tqdm(train_loader, desc='Training', leave=False):\n",
    "            self.state, loss, acc = self.train_step(self.state, batch)\n",
    "            metrics['loss'].append(loss)\n",
    "            metrics['acc'].append(acc)\n",
    "        for key in metrics:\n",
    "            avg_val = np.stack(jax.device_get(metrics[key])).mean()\n",
    "            self.logger.add_scalar('train/'+key, avg_val, global_step=epoch)\n",
    "\n",
    "    def eval_model(self, data_loader):\n",
    "        # Test model on all images of a data loader and return avg loss\n",
    "        correct_class, count = 0, 0\n",
    "        for batch in data_loader:\n",
    "            acc = self.eval_step(self.state, batch)\n",
    "            correct_class += acc * batch[0].shape[0]\n",
    "            count += batch[0].shape[0]\n",
    "        eval_acc = (correct_class / count).item()\n",
    "        return eval_acc\n",
    "\n",
    "    def save_model(self, step=0):\n",
    "        # Save current model at certain training iteration\n",
    "        checkpoints.save_checkpoint(ckpt_dir=self.log_dir, \n",
    "                                    target={'params': self.state.params, \n",
    "                                            'batch_stats': self.state.batch_stats}, \n",
    "                                    step=step,\n",
    "                                   overwrite=True)\n",
    "\n",
    "    def load_model(self, pretrained=False):\n",
    "        # Load model. We use different checkpoint for pretrained models\n",
    "        if not pretrained:\n",
    "            state_dict = checkpoints.restore_checkpoint(ckpt_dir=self.log_dir, target=None)\n",
    "        else:\n",
    "            state_dict = checkpoints.restore_checkpoint(ckpt_dir=os.path.join(CHECKPOINT_PATH, f'{self.model_name}.ckpt'), target=None)\n",
    "        self.state = TrainState.create(apply_fn=self.model.apply, \n",
    "                                       params=state_dict['params'],\n",
    "                                       batch_stats=state_dict['batch_stats'],\n",
    "                                       tx=self.state.tx if self.state else optax.sgd(0.1)   # Default optimizer\n",
    "                                      )\n",
    "\n",
    "    def checkpoint_exists(self):\n",
    "        # Check whether a pretrained model exist for this autoencoder\n",
    "        return os.path.isfile(os.path.join(CHECKPOINT_PATH, f'{self.model_name}.ckpt'))"
   ]
  },
  {
   "cell_type": "markdown",
   "metadata": {},
   "source": [
    "Next, we can use this trainer module to create a compact training function:"
   ]
  },
  {
   "cell_type": "code",
   "execution_count": 10,
   "metadata": {},
   "outputs": [],
   "source": [
    "def train_classifier(*args, num_epochs=200, **kwargs):\n",
    "    # Create a trainer module with specified hyperparameters\n",
    "    trainer = TrainerModule(*args, **kwargs)\n",
    "    if not trainer.checkpoint_exists():  # Skip training if pretrained model exists\n",
    "        trainer.train_model(train_loader, val_loader, num_epochs=num_epochs)\n",
    "        trainer.load_model()\n",
    "    else:\n",
    "        trainer.load_model(pretrained=True)\n",
    "    # Test trained model\n",
    "    val_acc = trainer.eval_model(val_loader)\n",
    "    test_acc = trainer.eval_model(test_loader)\n",
    "    return trainer, {'val': val_acc, 'test': test_acc}"
   ]
  },
  {
   "cell_type": "markdown",
   "metadata": {},
   "source": [
    "Finally, we can focus on the Convolutional Neural Networks we want to implement today: GoogleNet, ResNet, and DenseNet."
   ]
  },
  {
   "cell_type": "markdown",
   "metadata": {},
   "source": [
    "## Inception\n",
    "\n",
    "The [GoogleNet](https://arxiv.org/abs/1409.4842), proposed in 2014, won the ImageNet Challenge because of its usage of the Inception modules. In general, we will mainly focus on the concept of Inception in this tutorial instead of the specifics of the GoogleNet, as based on Inception, there have been many follow-up works ([Inception-v2](https://arxiv.org/abs/1512.00567), [Inception-v3](https://arxiv.org/abs/1512.00567), [Inception-v4](https://arxiv.org/abs/1602.07261), [Inception-ResNet](https://arxiv.org/abs/1602.07261),...). The follow-up works mainly focus on increasing efficiency and enabling very deep Inception networks. However, for a fundamental understanding, it is sufficient to look at the original Inception block. \n",
    "\n",
    "An Inception block applies four convolution blocks separately on the same feature map: a 1x1, 3x3, and 5x5 convolution, and a max pool operation. This allows the network to look at the same data with different receptive fields. Of course, learning only 5x5 convolution would be theoretically more powerful. However, this is not only more computation and memory heavy but also tends to overfit much easier. The overall inception block looks like below (figure credit - [Szegedy et al.](https://arxiv.org/abs/1409.4842)):\n",
    "\n",
    "<center width=\"100%\"><img src=\"../../tutorial5/inception_block.svg\" style=\"display: block; margin-left: auto; margin-right: auto;\" width=\"500px\"/></center>\n",
    "\n",
    "The additional 1x1 convolutions before the 3x3 and 5x5 convolutions are used for dimensionality reduction. This is especially crucial as the feature maps of all branches are merged afterward, and we don't want any explosion of feature size. As 5x5 convolutions are 25 times more expensive than 1x1 convolutions, we can save a lot of computation and parameters by reducing the dimensionality before the large convolutions.\n",
    "\n",
    "We can now try to implement the Inception Block ourselves:"
   ]
  },
  {
   "cell_type": "code",
   "execution_count": 11,
   "metadata": {},
   "outputs": [],
   "source": [
    "googlenet_kernel_init = nn.initializers.kaiming_normal()\n",
    "\n",
    "class InceptionBlock(nn.Module):\n",
    "    c_red : dict  # Dictionary of reduced dimensionalities with keys \"1x1\", \"3x3\", \"5x5\", and \"max\"\n",
    "    c_out : dict  # Dictionary of output feature sizes with keys \"1x1\", \"3x3\", \"5x5\", and \"max\"\n",
    "    act_fn : callable   # Activation function\n",
    "    \n",
    "    @nn.compact\n",
    "    def __call__(self, x, train=True):\n",
    "        # 1x1 convolution branch\n",
    "        x_1x1 = nn.Conv(self.c_out[\"1x1\"], kernel_size=(1, 1), kernel_init=googlenet_kernel_init, use_bias=False)(x)\n",
    "        x_1x1 = nn.BatchNorm()(x_1x1, use_running_average=not train)\n",
    "        x_1x1 = self.act_fn(x_1x1)\n",
    "        \n",
    "        # 3x3 convolution branch\n",
    "        x_3x3 = nn.Conv(self.c_red[\"3x3\"], kernel_size=(1, 1), kernel_init=googlenet_kernel_init, use_bias=False)(x)\n",
    "        x_3x3 = nn.BatchNorm()(x_3x3, use_running_average=not train)\n",
    "        x_3x3 = self.act_fn(x_3x3)\n",
    "        x_3x3 = nn.Conv(self.c_out[\"3x3\"], kernel_size=(3, 3), kernel_init=googlenet_kernel_init, use_bias=False)(x_3x3)\n",
    "        x_3x3 = nn.BatchNorm()(x_3x3, use_running_average=not train)\n",
    "        x_3x3 = self.act_fn(x_3x3)\n",
    "        \n",
    "        # 5x5 convolution branch\n",
    "        x_5x5 = nn.Conv(self.c_red[\"5x5\"], kernel_size=(1, 1), kernel_init=googlenet_kernel_init, use_bias=False)(x)\n",
    "        x_5x5 = nn.BatchNorm()(x_5x5, use_running_average=not train)\n",
    "        x_5x5 = self.act_fn(x_5x5)\n",
    "        x_5x5 = nn.Conv(self.c_out[\"5x5\"], kernel_size=(5, 5), kernel_init=googlenet_kernel_init, use_bias=False)(x_5x5)\n",
    "        x_5x5 = nn.BatchNorm()(x_5x5, use_running_average=not train)\n",
    "        x_5x5 = self.act_fn(x_5x5)\n",
    "        \n",
    "        # Max-pool branch\n",
    "        x_max = nn.max_pool(x, (3, 3), strides=(2, 2))\n",
    "        x_max = nn.Conv(self.c_out[\"max\"], kernel_size=(1, 1), kernel_init=googlenet_kernel_init, use_bias=False)(x)\n",
    "        x_max = nn.BatchNorm()(x_max, use_running_average=not train)\n",
    "        x_max = self.act_fn(x_max)\n",
    "        \n",
    "        x_out = jnp.concatenate([x_1x1, x_3x3, x_5x5, x_max], axis=-1)\n",
    "        return x_out"
   ]
  },
  {
   "cell_type": "code",
   "execution_count": 12,
   "metadata": {},
   "outputs": [
    {
     "name": "stdout",
     "output_type": "stream",
     "text": [
      "Out (8, 32, 32, 44)\n"
     ]
    }
   ],
   "source": [
    "## Test InceptionBlock implementation\n",
    "# Example features as input\n",
    "main_rng, x_rng = random.split(main_rng)\n",
    "x = random.normal(x_rng, (8, 32, 32, 16))\n",
    "# Create inception block\n",
    "block = InceptionBlock(c_red={'1x1': 8, '3x3': 7, '5x5': 6, 'max': 9},\n",
    "                       c_out={'1x1': 12, '3x3': 14, '5x5': 8, 'max': 10},\n",
    "                       act_fn=nn.relu)\n",
    "# Initialize parameters of inception block with random key and inputs\n",
    "main_rng, init_rng = random.split(main_rng)\n",
    "variables = block.init(init_rng, x, train=True)\n",
    "# Apply inception block with parameters on the inputs\n",
    "out, batch_stats = block.apply(variables, x, train=True, mutable=['batch_stats'])\n",
    "print('Out', out.shape)\n",
    "\n",
    "del block, variables"
   ]
  },
  {
   "cell_type": "markdown",
   "metadata": {},
   "source": [
    "The GoogleNet architecture consists of stacking multiple Inception blocks with occasional max pooling to reduce the height and width of the feature maps. The original GoogleNet was designed for image sizes of ImageNet (224x224 pixels) and had almost 7 million parameters. As we train on CIFAR10 with image sizes of 32x32, we don't require such a heavy architecture, and instead, apply a reduced version. The number of channels for dimensionality reduction and output per filter (1x1, 3x3, 5x5, and max pooling) need to be manually specified and can be changed if interested. The general intuition is to have the most filters for the 3x3 convolutions, as they are powerful enough to take the context into account while requiring almost a third of the parameters of the 5x5 convolution. "
   ]
  },
  {
   "cell_type": "code",
   "execution_count": 13,
   "metadata": {},
   "outputs": [],
   "source": [
    "class GoogleNet(nn.Module):\n",
    "    num_classes : int\n",
    "    act_fn : callable\n",
    "        \n",
    "    @nn.compact\n",
    "    def __call__(self, x, train=True):\n",
    "        # A first convolution on the original image to scale up the channel size\n",
    "        x = nn.Conv(64, kernel_size=(3, 3), kernel_init=googlenet_kernel_init, use_bias=False)(x)\n",
    "        x = nn.BatchNorm()(x, use_running_average=not train)\n",
    "        x = self.act_fn(x)\n",
    "            \n",
    "        # Stacking inception blocks\n",
    "        inception_blocks = [\n",
    "            InceptionBlock(c_red={\"3x3\": 32, \"5x5\": 16}, c_out={\"1x1\": 16, \"3x3\": 32, \"5x5\": 8, \"max\": 8}, act_fn=self.act_fn),\n",
    "            InceptionBlock(c_red={\"3x3\": 32, \"5x5\": 16}, c_out={\"1x1\": 24, \"3x3\": 48, \"5x5\": 12, \"max\": 12}, act_fn=self.act_fn),\n",
    "            lambda inp: nn.max_pool(inp, (3, 3), strides=(2, 2)),  # 32x32 => 16x16\n",
    "            InceptionBlock(c_red={\"3x3\": 32, \"5x5\": 16}, c_out={\"1x1\": 24, \"3x3\": 48, \"5x5\": 12, \"max\": 12}, act_fn=self.act_fn),\n",
    "            InceptionBlock(c_red={\"3x3\": 32, \"5x5\": 16}, c_out={\"1x1\": 16, \"3x3\": 48, \"5x5\": 16, \"max\": 16}, act_fn=self.act_fn),\n",
    "            InceptionBlock(c_red={\"3x3\": 32, \"5x5\": 16}, c_out={\"1x1\": 16, \"3x3\": 48, \"5x5\": 16, \"max\": 16}, act_fn=self.act_fn),\n",
    "            InceptionBlock(c_red={\"3x3\": 32, \"5x5\": 16}, c_out={\"1x1\": 32, \"3x3\": 48, \"5x5\": 24, \"max\": 24}, act_fn=self.act_fn),\n",
    "            lambda inp: nn.max_pool(inp, (3, 3), strides=(2, 2)),  # 16x16 => 8x8\n",
    "            InceptionBlock(c_red={\"3x3\": 48, \"5x5\": 16}, c_out={\"1x1\": 32, \"3x3\": 64, \"5x5\": 16, \"max\": 16}, act_fn=self.act_fn),\n",
    "            InceptionBlock(c_red={\"3x3\": 48, \"5x5\": 16}, c_out={\"1x1\": 32, \"3x3\": 64, \"5x5\": 16, \"max\": 16}, act_fn=self.act_fn)\n",
    "        ]\n",
    "        for block in inception_blocks:\n",
    "            x = block(x, train=train) if isinstance(block, InceptionBlock) else block(x)\n",
    "        \n",
    "        # Mapping to classification output\n",
    "        x = x.mean(axis=(1, 2))\n",
    "        x = nn.Dense(self.num_classes)(x)\n",
    "        return x"
   ]
  },
  {
   "cell_type": "code",
   "execution_count": 14,
   "metadata": {},
   "outputs": [
    {
     "name": "stdout",
     "output_type": "stream",
     "text": [
      "Out (8, 10)\n"
     ]
    }
   ],
   "source": [
    "## Test GoogleNet implementation\n",
    "# Example features as input\n",
    "main_rng, x_rng = random.split(main_rng)\n",
    "x = random.normal(x_rng, (8, 32, 32, 3))\n",
    "# Create Google Net\n",
    "network = GoogleNet(num_classes=10, act_fn=nn.relu)\n",
    "# Initialize parameters of GoogleNet with random key and inputs\n",
    "main_rng, init_rng = random.split(main_rng)\n",
    "variables = network.init(init_rng, x, train=True)\n",
    "# Apply GoogleNet with parameters on the inputs\n",
    "out, batch_stats = network.apply(variables, x, train=True, mutable=['batch_stats'])\n",
    "print('Out', out.shape)\n",
    "\n",
    "del network, variables"
   ]
  },
  {
   "cell_type": "markdown",
   "metadata": {},
   "source": [
    "The training of the model is handled by our previously implemented training function, and we just have to define the command to start. Note that we train for 200 epochs, which takes about 15mins on a RTX3090. We would recommend using the saved models and train your own model if you are interested. "
   ]
  },
  {
   "cell_type": "code",
   "execution_count": 15,
   "metadata": {},
   "outputs": [
    {
     "data": {
      "application/vnd.jupyter.widget-view+json": {
       "model_id": "61aa91b089724b77aabca4f7354ac092",
       "version_major": 2,
       "version_minor": 0
      },
      "text/plain": [
       "  0%|          | 0/200 [00:00<?, ?it/s]"
      ]
     },
     "metadata": {},
     "output_type": "display_data"
    },
    {
     "data": {
      "application/vnd.jupyter.widget-view+json": {
       "model_id": "",
       "version_major": 2,
       "version_minor": 0
      },
      "text/plain": [
       "Training:   0%|          | 0/351 [00:00<?, ?it/s]"
      ]
     },
     "metadata": {},
     "output_type": "display_data"
    },
    {
     "data": {
      "application/vnd.jupyter.widget-view+json": {
       "model_id": "",
       "version_major": 2,
       "version_minor": 0
      },
      "text/plain": [
       "Training:   0%|          | 0/351 [00:00<?, ?it/s]"
      ]
     },
     "metadata": {},
     "output_type": "display_data"
    },
    {
     "data": {
      "application/vnd.jupyter.widget-view+json": {
       "model_id": "",
       "version_major": 2,
       "version_minor": 0
      },
      "text/plain": [
       "Training:   0%|          | 0/351 [00:00<?, ?it/s]"
      ]
     },
     "metadata": {},
     "output_type": "display_data"
    },
    {
     "data": {
      "application/vnd.jupyter.widget-view+json": {
       "model_id": "",
       "version_major": 2,
       "version_minor": 0
      },
      "text/plain": [
       "Training:   0%|          | 0/351 [00:00<?, ?it/s]"
      ]
     },
     "metadata": {},
     "output_type": "display_data"
    },
    {
     "data": {
      "application/vnd.jupyter.widget-view+json": {
       "model_id": "",
       "version_major": 2,
       "version_minor": 0
      },
      "text/plain": [
       "Training:   0%|          | 0/351 [00:00<?, ?it/s]"
      ]
     },
     "metadata": {},
     "output_type": "display_data"
    },
    {
     "data": {
      "application/vnd.jupyter.widget-view+json": {
       "model_id": "",
       "version_major": 2,
       "version_minor": 0
      },
      "text/plain": [
       "Training:   0%|          | 0/351 [00:00<?, ?it/s]"
      ]
     },
     "metadata": {},
     "output_type": "display_data"
    },
    {
     "data": {
      "application/vnd.jupyter.widget-view+json": {
       "model_id": "",
       "version_major": 2,
       "version_minor": 0
      },
      "text/plain": [
       "Training:   0%|          | 0/351 [00:00<?, ?it/s]"
      ]
     },
     "metadata": {},
     "output_type": "display_data"
    },
    {
     "data": {
      "application/vnd.jupyter.widget-view+json": {
       "model_id": "",
       "version_major": 2,
       "version_minor": 0
      },
      "text/plain": [
       "Training:   0%|          | 0/351 [00:00<?, ?it/s]"
      ]
     },
     "metadata": {},
     "output_type": "display_data"
    },
    {
     "data": {
      "application/vnd.jupyter.widget-view+json": {
       "model_id": "",
       "version_major": 2,
       "version_minor": 0
      },
      "text/plain": [
       "Training:   0%|          | 0/351 [00:00<?, ?it/s]"
      ]
     },
     "metadata": {},
     "output_type": "display_data"
    },
    {
     "data": {
      "application/vnd.jupyter.widget-view+json": {
       "model_id": "",
       "version_major": 2,
       "version_minor": 0
      },
      "text/plain": [
       "Training:   0%|          | 0/351 [00:00<?, ?it/s]"
      ]
     },
     "metadata": {},
     "output_type": "display_data"
    },
    {
     "data": {
      "application/vnd.jupyter.widget-view+json": {
       "model_id": "",
       "version_major": 2,
       "version_minor": 0
      },
      "text/plain": [
       "Training:   0%|          | 0/351 [00:00<?, ?it/s]"
      ]
     },
     "metadata": {},
     "output_type": "display_data"
    },
    {
     "data": {
      "application/vnd.jupyter.widget-view+json": {
       "model_id": "",
       "version_major": 2,
       "version_minor": 0
      },
      "text/plain": [
       "Training:   0%|          | 0/351 [00:00<?, ?it/s]"
      ]
     },
     "metadata": {},
     "output_type": "display_data"
    },
    {
     "data": {
      "application/vnd.jupyter.widget-view+json": {
       "model_id": "",
       "version_major": 2,
       "version_minor": 0
      },
      "text/plain": [
       "Training:   0%|          | 0/351 [00:00<?, ?it/s]"
      ]
     },
     "metadata": {},
     "output_type": "display_data"
    },
    {
     "data": {
      "application/vnd.jupyter.widget-view+json": {
       "model_id": "",
       "version_major": 2,
       "version_minor": 0
      },
      "text/plain": [
       "Training:   0%|          | 0/351 [00:00<?, ?it/s]"
      ]
     },
     "metadata": {},
     "output_type": "display_data"
    },
    {
     "data": {
      "application/vnd.jupyter.widget-view+json": {
       "model_id": "",
       "version_major": 2,
       "version_minor": 0
      },
      "text/plain": [
       "Training:   0%|          | 0/351 [00:00<?, ?it/s]"
      ]
     },
     "metadata": {},
     "output_type": "display_data"
    },
    {
     "data": {
      "application/vnd.jupyter.widget-view+json": {
       "model_id": "",
       "version_major": 2,
       "version_minor": 0
      },
      "text/plain": [
       "Training:   0%|          | 0/351 [00:00<?, ?it/s]"
      ]
     },
     "metadata": {},
     "output_type": "display_data"
    },
    {
     "data": {
      "application/vnd.jupyter.widget-view+json": {
       "model_id": "",
       "version_major": 2,
       "version_minor": 0
      },
      "text/plain": [
       "Training:   0%|          | 0/351 [00:00<?, ?it/s]"
      ]
     },
     "metadata": {},
     "output_type": "display_data"
    },
    {
     "data": {
      "application/vnd.jupyter.widget-view+json": {
       "model_id": "",
       "version_major": 2,
       "version_minor": 0
      },
      "text/plain": [
       "Training:   0%|          | 0/351 [00:00<?, ?it/s]"
      ]
     },
     "metadata": {},
     "output_type": "display_data"
    },
    {
     "data": {
      "application/vnd.jupyter.widget-view+json": {
       "model_id": "",
       "version_major": 2,
       "version_minor": 0
      },
      "text/plain": [
       "Training:   0%|          | 0/351 [00:00<?, ?it/s]"
      ]
     },
     "metadata": {},
     "output_type": "display_data"
    },
    {
     "data": {
      "application/vnd.jupyter.widget-view+json": {
       "model_id": "",
       "version_major": 2,
       "version_minor": 0
      },
      "text/plain": [
       "Training:   0%|          | 0/351 [00:00<?, ?it/s]"
      ]
     },
     "metadata": {},
     "output_type": "display_data"
    },
    {
     "data": {
      "application/vnd.jupyter.widget-view+json": {
       "model_id": "",
       "version_major": 2,
       "version_minor": 0
      },
      "text/plain": [
       "Training:   0%|          | 0/351 [00:00<?, ?it/s]"
      ]
     },
     "metadata": {},
     "output_type": "display_data"
    },
    {
     "data": {
      "application/vnd.jupyter.widget-view+json": {
       "model_id": "",
       "version_major": 2,
       "version_minor": 0
      },
      "text/plain": [
       "Training:   0%|          | 0/351 [00:00<?, ?it/s]"
      ]
     },
     "metadata": {},
     "output_type": "display_data"
    },
    {
     "data": {
      "application/vnd.jupyter.widget-view+json": {
       "model_id": "",
       "version_major": 2,
       "version_minor": 0
      },
      "text/plain": [
       "Training:   0%|          | 0/351 [00:00<?, ?it/s]"
      ]
     },
     "metadata": {},
     "output_type": "display_data"
    },
    {
     "data": {
      "application/vnd.jupyter.widget-view+json": {
       "model_id": "",
       "version_major": 2,
       "version_minor": 0
      },
      "text/plain": [
       "Training:   0%|          | 0/351 [00:00<?, ?it/s]"
      ]
     },
     "metadata": {},
     "output_type": "display_data"
    },
    {
     "data": {
      "application/vnd.jupyter.widget-view+json": {
       "model_id": "",
       "version_major": 2,
       "version_minor": 0
      },
      "text/plain": [
       "Training:   0%|          | 0/351 [00:00<?, ?it/s]"
      ]
     },
     "metadata": {},
     "output_type": "display_data"
    },
    {
     "data": {
      "application/vnd.jupyter.widget-view+json": {
       "model_id": "",
       "version_major": 2,
       "version_minor": 0
      },
      "text/plain": [
       "Training:   0%|          | 0/351 [00:00<?, ?it/s]"
      ]
     },
     "metadata": {},
     "output_type": "display_data"
    },
    {
     "data": {
      "application/vnd.jupyter.widget-view+json": {
       "model_id": "",
       "version_major": 2,
       "version_minor": 0
      },
      "text/plain": [
       "Training:   0%|          | 0/351 [00:00<?, ?it/s]"
      ]
     },
     "metadata": {},
     "output_type": "display_data"
    },
    {
     "data": {
      "application/vnd.jupyter.widget-view+json": {
       "model_id": "",
       "version_major": 2,
       "version_minor": 0
      },
      "text/plain": [
       "Training:   0%|          | 0/351 [00:00<?, ?it/s]"
      ]
     },
     "metadata": {},
     "output_type": "display_data"
    },
    {
     "data": {
      "application/vnd.jupyter.widget-view+json": {
       "model_id": "",
       "version_major": 2,
       "version_minor": 0
      },
      "text/plain": [
       "Training:   0%|          | 0/351 [00:00<?, ?it/s]"
      ]
     },
     "metadata": {},
     "output_type": "display_data"
    },
    {
     "data": {
      "application/vnd.jupyter.widget-view+json": {
       "model_id": "",
       "version_major": 2,
       "version_minor": 0
      },
      "text/plain": [
       "Training:   0%|          | 0/351 [00:00<?, ?it/s]"
      ]
     },
     "metadata": {},
     "output_type": "display_data"
    },
    {
     "data": {
      "application/vnd.jupyter.widget-view+json": {
       "model_id": "",
       "version_major": 2,
       "version_minor": 0
      },
      "text/plain": [
       "Training:   0%|          | 0/351 [00:00<?, ?it/s]"
      ]
     },
     "metadata": {},
     "output_type": "display_data"
    },
    {
     "data": {
      "application/vnd.jupyter.widget-view+json": {
       "model_id": "",
       "version_major": 2,
       "version_minor": 0
      },
      "text/plain": [
       "Training:   0%|          | 0/351 [00:00<?, ?it/s]"
      ]
     },
     "metadata": {},
     "output_type": "display_data"
    },
    {
     "data": {
      "application/vnd.jupyter.widget-view+json": {
       "model_id": "",
       "version_major": 2,
       "version_minor": 0
      },
      "text/plain": [
       "Training:   0%|          | 0/351 [00:00<?, ?it/s]"
      ]
     },
     "metadata": {},
     "output_type": "display_data"
    },
    {
     "data": {
      "application/vnd.jupyter.widget-view+json": {
       "model_id": "",
       "version_major": 2,
       "version_minor": 0
      },
      "text/plain": [
       "Training:   0%|          | 0/351 [00:00<?, ?it/s]"
      ]
     },
     "metadata": {},
     "output_type": "display_data"
    },
    {
     "data": {
      "application/vnd.jupyter.widget-view+json": {
       "model_id": "",
       "version_major": 2,
       "version_minor": 0
      },
      "text/plain": [
       "Training:   0%|          | 0/351 [00:00<?, ?it/s]"
      ]
     },
     "metadata": {},
     "output_type": "display_data"
    },
    {
     "data": {
      "application/vnd.jupyter.widget-view+json": {
       "model_id": "",
       "version_major": 2,
       "version_minor": 0
      },
      "text/plain": [
       "Training:   0%|          | 0/351 [00:00<?, ?it/s]"
      ]
     },
     "metadata": {},
     "output_type": "display_data"
    },
    {
     "data": {
      "application/vnd.jupyter.widget-view+json": {
       "model_id": "",
       "version_major": 2,
       "version_minor": 0
      },
      "text/plain": [
       "Training:   0%|          | 0/351 [00:00<?, ?it/s]"
      ]
     },
     "metadata": {},
     "output_type": "display_data"
    },
    {
     "data": {
      "application/vnd.jupyter.widget-view+json": {
       "model_id": "",
       "version_major": 2,
       "version_minor": 0
      },
      "text/plain": [
       "Training:   0%|          | 0/351 [00:00<?, ?it/s]"
      ]
     },
     "metadata": {},
     "output_type": "display_data"
    },
    {
     "data": {
      "application/vnd.jupyter.widget-view+json": {
       "model_id": "",
       "version_major": 2,
       "version_minor": 0
      },
      "text/plain": [
       "Training:   0%|          | 0/351 [00:00<?, ?it/s]"
      ]
     },
     "metadata": {},
     "output_type": "display_data"
    },
    {
     "data": {
      "application/vnd.jupyter.widget-view+json": {
       "model_id": "",
       "version_major": 2,
       "version_minor": 0
      },
      "text/plain": [
       "Training:   0%|          | 0/351 [00:00<?, ?it/s]"
      ]
     },
     "metadata": {},
     "output_type": "display_data"
    },
    {
     "data": {
      "application/vnd.jupyter.widget-view+json": {
       "model_id": "",
       "version_major": 2,
       "version_minor": 0
      },
      "text/plain": [
       "Training:   0%|          | 0/351 [00:00<?, ?it/s]"
      ]
     },
     "metadata": {},
     "output_type": "display_data"
    },
    {
     "data": {
      "application/vnd.jupyter.widget-view+json": {
       "model_id": "",
       "version_major": 2,
       "version_minor": 0
      },
      "text/plain": [
       "Training:   0%|          | 0/351 [00:00<?, ?it/s]"
      ]
     },
     "metadata": {},
     "output_type": "display_data"
    },
    {
     "data": {
      "application/vnd.jupyter.widget-view+json": {
       "model_id": "",
       "version_major": 2,
       "version_minor": 0
      },
      "text/plain": [
       "Training:   0%|          | 0/351 [00:00<?, ?it/s]"
      ]
     },
     "metadata": {},
     "output_type": "display_data"
    },
    {
     "data": {
      "application/vnd.jupyter.widget-view+json": {
       "model_id": "",
       "version_major": 2,
       "version_minor": 0
      },
      "text/plain": [
       "Training:   0%|          | 0/351 [00:00<?, ?it/s]"
      ]
     },
     "metadata": {},
     "output_type": "display_data"
    },
    {
     "data": {
      "application/vnd.jupyter.widget-view+json": {
       "model_id": "",
       "version_major": 2,
       "version_minor": 0
      },
      "text/plain": [
       "Training:   0%|          | 0/351 [00:00<?, ?it/s]"
      ]
     },
     "metadata": {},
     "output_type": "display_data"
    },
    {
     "data": {
      "application/vnd.jupyter.widget-view+json": {
       "model_id": "",
       "version_major": 2,
       "version_minor": 0
      },
      "text/plain": [
       "Training:   0%|          | 0/351 [00:00<?, ?it/s]"
      ]
     },
     "metadata": {},
     "output_type": "display_data"
    },
    {
     "data": {
      "application/vnd.jupyter.widget-view+json": {
       "model_id": "",
       "version_major": 2,
       "version_minor": 0
      },
      "text/plain": [
       "Training:   0%|          | 0/351 [00:00<?, ?it/s]"
      ]
     },
     "metadata": {},
     "output_type": "display_data"
    },
    {
     "data": {
      "application/vnd.jupyter.widget-view+json": {
       "model_id": "",
       "version_major": 2,
       "version_minor": 0
      },
      "text/plain": [
       "Training:   0%|          | 0/351 [00:00<?, ?it/s]"
      ]
     },
     "metadata": {},
     "output_type": "display_data"
    },
    {
     "data": {
      "application/vnd.jupyter.widget-view+json": {
       "model_id": "",
       "version_major": 2,
       "version_minor": 0
      },
      "text/plain": [
       "Training:   0%|          | 0/351 [00:00<?, ?it/s]"
      ]
     },
     "metadata": {},
     "output_type": "display_data"
    },
    {
     "data": {
      "application/vnd.jupyter.widget-view+json": {
       "model_id": "",
       "version_major": 2,
       "version_minor": 0
      },
      "text/plain": [
       "Training:   0%|          | 0/351 [00:00<?, ?it/s]"
      ]
     },
     "metadata": {},
     "output_type": "display_data"
    },
    {
     "data": {
      "application/vnd.jupyter.widget-view+json": {
       "model_id": "",
       "version_major": 2,
       "version_minor": 0
      },
      "text/plain": [
       "Training:   0%|          | 0/351 [00:00<?, ?it/s]"
      ]
     },
     "metadata": {},
     "output_type": "display_data"
    },
    {
     "data": {
      "application/vnd.jupyter.widget-view+json": {
       "model_id": "",
       "version_major": 2,
       "version_minor": 0
      },
      "text/plain": [
       "Training:   0%|          | 0/351 [00:00<?, ?it/s]"
      ]
     },
     "metadata": {},
     "output_type": "display_data"
    },
    {
     "data": {
      "application/vnd.jupyter.widget-view+json": {
       "model_id": "",
       "version_major": 2,
       "version_minor": 0
      },
      "text/plain": [
       "Training:   0%|          | 0/351 [00:00<?, ?it/s]"
      ]
     },
     "metadata": {},
     "output_type": "display_data"
    },
    {
     "data": {
      "application/vnd.jupyter.widget-view+json": {
       "model_id": "",
       "version_major": 2,
       "version_minor": 0
      },
      "text/plain": [
       "Training:   0%|          | 0/351 [00:00<?, ?it/s]"
      ]
     },
     "metadata": {},
     "output_type": "display_data"
    },
    {
     "data": {
      "application/vnd.jupyter.widget-view+json": {
       "model_id": "",
       "version_major": 2,
       "version_minor": 0
      },
      "text/plain": [
       "Training:   0%|          | 0/351 [00:00<?, ?it/s]"
      ]
     },
     "metadata": {},
     "output_type": "display_data"
    },
    {
     "data": {
      "application/vnd.jupyter.widget-view+json": {
       "model_id": "",
       "version_major": 2,
       "version_minor": 0
      },
      "text/plain": [
       "Training:   0%|          | 0/351 [00:00<?, ?it/s]"
      ]
     },
     "metadata": {},
     "output_type": "display_data"
    },
    {
     "data": {
      "application/vnd.jupyter.widget-view+json": {
       "model_id": "",
       "version_major": 2,
       "version_minor": 0
      },
      "text/plain": [
       "Training:   0%|          | 0/351 [00:00<?, ?it/s]"
      ]
     },
     "metadata": {},
     "output_type": "display_data"
    },
    {
     "data": {
      "application/vnd.jupyter.widget-view+json": {
       "model_id": "",
       "version_major": 2,
       "version_minor": 0
      },
      "text/plain": [
       "Training:   0%|          | 0/351 [00:00<?, ?it/s]"
      ]
     },
     "metadata": {},
     "output_type": "display_data"
    },
    {
     "data": {
      "application/vnd.jupyter.widget-view+json": {
       "model_id": "",
       "version_major": 2,
       "version_minor": 0
      },
      "text/plain": [
       "Training:   0%|          | 0/351 [00:00<?, ?it/s]"
      ]
     },
     "metadata": {},
     "output_type": "display_data"
    },
    {
     "data": {
      "application/vnd.jupyter.widget-view+json": {
       "model_id": "",
       "version_major": 2,
       "version_minor": 0
      },
      "text/plain": [
       "Training:   0%|          | 0/351 [00:00<?, ?it/s]"
      ]
     },
     "metadata": {},
     "output_type": "display_data"
    },
    {
     "data": {
      "application/vnd.jupyter.widget-view+json": {
       "model_id": "",
       "version_major": 2,
       "version_minor": 0
      },
      "text/plain": [
       "Training:   0%|          | 0/351 [00:00<?, ?it/s]"
      ]
     },
     "metadata": {},
     "output_type": "display_data"
    },
    {
     "data": {
      "application/vnd.jupyter.widget-view+json": {
       "model_id": "",
       "version_major": 2,
       "version_minor": 0
      },
      "text/plain": [
       "Training:   0%|          | 0/351 [00:00<?, ?it/s]"
      ]
     },
     "metadata": {},
     "output_type": "display_data"
    },
    {
     "data": {
      "application/vnd.jupyter.widget-view+json": {
       "model_id": "",
       "version_major": 2,
       "version_minor": 0
      },
      "text/plain": [
       "Training:   0%|          | 0/351 [00:00<?, ?it/s]"
      ]
     },
     "metadata": {},
     "output_type": "display_data"
    },
    {
     "data": {
      "application/vnd.jupyter.widget-view+json": {
       "model_id": "",
       "version_major": 2,
       "version_minor": 0
      },
      "text/plain": [
       "Training:   0%|          | 0/351 [00:00<?, ?it/s]"
      ]
     },
     "metadata": {},
     "output_type": "display_data"
    },
    {
     "data": {
      "application/vnd.jupyter.widget-view+json": {
       "model_id": "",
       "version_major": 2,
       "version_minor": 0
      },
      "text/plain": [
       "Training:   0%|          | 0/351 [00:00<?, ?it/s]"
      ]
     },
     "metadata": {},
     "output_type": "display_data"
    },
    {
     "data": {
      "application/vnd.jupyter.widget-view+json": {
       "model_id": "",
       "version_major": 2,
       "version_minor": 0
      },
      "text/plain": [
       "Training:   0%|          | 0/351 [00:00<?, ?it/s]"
      ]
     },
     "metadata": {},
     "output_type": "display_data"
    },
    {
     "data": {
      "application/vnd.jupyter.widget-view+json": {
       "model_id": "",
       "version_major": 2,
       "version_minor": 0
      },
      "text/plain": [
       "Training:   0%|          | 0/351 [00:00<?, ?it/s]"
      ]
     },
     "metadata": {},
     "output_type": "display_data"
    },
    {
     "data": {
      "application/vnd.jupyter.widget-view+json": {
       "model_id": "",
       "version_major": 2,
       "version_minor": 0
      },
      "text/plain": [
       "Training:   0%|          | 0/351 [00:00<?, ?it/s]"
      ]
     },
     "metadata": {},
     "output_type": "display_data"
    },
    {
     "data": {
      "application/vnd.jupyter.widget-view+json": {
       "model_id": "",
       "version_major": 2,
       "version_minor": 0
      },
      "text/plain": [
       "Training:   0%|          | 0/351 [00:00<?, ?it/s]"
      ]
     },
     "metadata": {},
     "output_type": "display_data"
    },
    {
     "data": {
      "application/vnd.jupyter.widget-view+json": {
       "model_id": "",
       "version_major": 2,
       "version_minor": 0
      },
      "text/plain": [
       "Training:   0%|          | 0/351 [00:00<?, ?it/s]"
      ]
     },
     "metadata": {},
     "output_type": "display_data"
    },
    {
     "data": {
      "application/vnd.jupyter.widget-view+json": {
       "model_id": "",
       "version_major": 2,
       "version_minor": 0
      },
      "text/plain": [
       "Training:   0%|          | 0/351 [00:00<?, ?it/s]"
      ]
     },
     "metadata": {},
     "output_type": "display_data"
    },
    {
     "data": {
      "application/vnd.jupyter.widget-view+json": {
       "model_id": "",
       "version_major": 2,
       "version_minor": 0
      },
      "text/plain": [
       "Training:   0%|          | 0/351 [00:00<?, ?it/s]"
      ]
     },
     "metadata": {},
     "output_type": "display_data"
    },
    {
     "data": {
      "application/vnd.jupyter.widget-view+json": {
       "model_id": "",
       "version_major": 2,
       "version_minor": 0
      },
      "text/plain": [
       "Training:   0%|          | 0/351 [00:00<?, ?it/s]"
      ]
     },
     "metadata": {},
     "output_type": "display_data"
    },
    {
     "data": {
      "application/vnd.jupyter.widget-view+json": {
       "model_id": "",
       "version_major": 2,
       "version_minor": 0
      },
      "text/plain": [
       "Training:   0%|          | 0/351 [00:00<?, ?it/s]"
      ]
     },
     "metadata": {},
     "output_type": "display_data"
    },
    {
     "data": {
      "application/vnd.jupyter.widget-view+json": {
       "model_id": "",
       "version_major": 2,
       "version_minor": 0
      },
      "text/plain": [
       "Training:   0%|          | 0/351 [00:00<?, ?it/s]"
      ]
     },
     "metadata": {},
     "output_type": "display_data"
    },
    {
     "data": {
      "application/vnd.jupyter.widget-view+json": {
       "model_id": "",
       "version_major": 2,
       "version_minor": 0
      },
      "text/plain": [
       "Training:   0%|          | 0/351 [00:00<?, ?it/s]"
      ]
     },
     "metadata": {},
     "output_type": "display_data"
    },
    {
     "data": {
      "application/vnd.jupyter.widget-view+json": {
       "model_id": "",
       "version_major": 2,
       "version_minor": 0
      },
      "text/plain": [
       "Training:   0%|          | 0/351 [00:00<?, ?it/s]"
      ]
     },
     "metadata": {},
     "output_type": "display_data"
    },
    {
     "data": {
      "application/vnd.jupyter.widget-view+json": {
       "model_id": "",
       "version_major": 2,
       "version_minor": 0
      },
      "text/plain": [
       "Training:   0%|          | 0/351 [00:00<?, ?it/s]"
      ]
     },
     "metadata": {},
     "output_type": "display_data"
    },
    {
     "data": {
      "application/vnd.jupyter.widget-view+json": {
       "model_id": "",
       "version_major": 2,
       "version_minor": 0
      },
      "text/plain": [
       "Training:   0%|          | 0/351 [00:00<?, ?it/s]"
      ]
     },
     "metadata": {},
     "output_type": "display_data"
    },
    {
     "data": {
      "application/vnd.jupyter.widget-view+json": {
       "model_id": "",
       "version_major": 2,
       "version_minor": 0
      },
      "text/plain": [
       "Training:   0%|          | 0/351 [00:00<?, ?it/s]"
      ]
     },
     "metadata": {},
     "output_type": "display_data"
    },
    {
     "data": {
      "application/vnd.jupyter.widget-view+json": {
       "model_id": "",
       "version_major": 2,
       "version_minor": 0
      },
      "text/plain": [
       "Training:   0%|          | 0/351 [00:00<?, ?it/s]"
      ]
     },
     "metadata": {},
     "output_type": "display_data"
    },
    {
     "data": {
      "application/vnd.jupyter.widget-view+json": {
       "model_id": "",
       "version_major": 2,
       "version_minor": 0
      },
      "text/plain": [
       "Training:   0%|          | 0/351 [00:00<?, ?it/s]"
      ]
     },
     "metadata": {},
     "output_type": "display_data"
    },
    {
     "data": {
      "application/vnd.jupyter.widget-view+json": {
       "model_id": "",
       "version_major": 2,
       "version_minor": 0
      },
      "text/plain": [
       "Training:   0%|          | 0/351 [00:00<?, ?it/s]"
      ]
     },
     "metadata": {},
     "output_type": "display_data"
    },
    {
     "data": {
      "application/vnd.jupyter.widget-view+json": {
       "model_id": "",
       "version_major": 2,
       "version_minor": 0
      },
      "text/plain": [
       "Training:   0%|          | 0/351 [00:00<?, ?it/s]"
      ]
     },
     "metadata": {},
     "output_type": "display_data"
    },
    {
     "data": {
      "application/vnd.jupyter.widget-view+json": {
       "model_id": "",
       "version_major": 2,
       "version_minor": 0
      },
      "text/plain": [
       "Training:   0%|          | 0/351 [00:00<?, ?it/s]"
      ]
     },
     "metadata": {},
     "output_type": "display_data"
    },
    {
     "data": {
      "application/vnd.jupyter.widget-view+json": {
       "model_id": "",
       "version_major": 2,
       "version_minor": 0
      },
      "text/plain": [
       "Training:   0%|          | 0/351 [00:00<?, ?it/s]"
      ]
     },
     "metadata": {},
     "output_type": "display_data"
    },
    {
     "data": {
      "application/vnd.jupyter.widget-view+json": {
       "model_id": "",
       "version_major": 2,
       "version_minor": 0
      },
      "text/plain": [
       "Training:   0%|          | 0/351 [00:00<?, ?it/s]"
      ]
     },
     "metadata": {},
     "output_type": "display_data"
    },
    {
     "data": {
      "application/vnd.jupyter.widget-view+json": {
       "model_id": "",
       "version_major": 2,
       "version_minor": 0
      },
      "text/plain": [
       "Training:   0%|          | 0/351 [00:00<?, ?it/s]"
      ]
     },
     "metadata": {},
     "output_type": "display_data"
    },
    {
     "data": {
      "application/vnd.jupyter.widget-view+json": {
       "model_id": "",
       "version_major": 2,
       "version_minor": 0
      },
      "text/plain": [
       "Training:   0%|          | 0/351 [00:00<?, ?it/s]"
      ]
     },
     "metadata": {},
     "output_type": "display_data"
    },
    {
     "data": {
      "application/vnd.jupyter.widget-view+json": {
       "model_id": "",
       "version_major": 2,
       "version_minor": 0
      },
      "text/plain": [
       "Training:   0%|          | 0/351 [00:00<?, ?it/s]"
      ]
     },
     "metadata": {},
     "output_type": "display_data"
    },
    {
     "data": {
      "application/vnd.jupyter.widget-view+json": {
       "model_id": "",
       "version_major": 2,
       "version_minor": 0
      },
      "text/plain": [
       "Training:   0%|          | 0/351 [00:00<?, ?it/s]"
      ]
     },
     "metadata": {},
     "output_type": "display_data"
    },
    {
     "data": {
      "application/vnd.jupyter.widget-view+json": {
       "model_id": "",
       "version_major": 2,
       "version_minor": 0
      },
      "text/plain": [
       "Training:   0%|          | 0/351 [00:00<?, ?it/s]"
      ]
     },
     "metadata": {},
     "output_type": "display_data"
    },
    {
     "data": {
      "application/vnd.jupyter.widget-view+json": {
       "model_id": "",
       "version_major": 2,
       "version_minor": 0
      },
      "text/plain": [
       "Training:   0%|          | 0/351 [00:00<?, ?it/s]"
      ]
     },
     "metadata": {},
     "output_type": "display_data"
    },
    {
     "data": {
      "application/vnd.jupyter.widget-view+json": {
       "model_id": "",
       "version_major": 2,
       "version_minor": 0
      },
      "text/plain": [
       "Training:   0%|          | 0/351 [00:00<?, ?it/s]"
      ]
     },
     "metadata": {},
     "output_type": "display_data"
    },
    {
     "data": {
      "application/vnd.jupyter.widget-view+json": {
       "model_id": "",
       "version_major": 2,
       "version_minor": 0
      },
      "text/plain": [
       "Training:   0%|          | 0/351 [00:00<?, ?it/s]"
      ]
     },
     "metadata": {},
     "output_type": "display_data"
    },
    {
     "data": {
      "application/vnd.jupyter.widget-view+json": {
       "model_id": "",
       "version_major": 2,
       "version_minor": 0
      },
      "text/plain": [
       "Training:   0%|          | 0/351 [00:00<?, ?it/s]"
      ]
     },
     "metadata": {},
     "output_type": "display_data"
    },
    {
     "data": {
      "application/vnd.jupyter.widget-view+json": {
       "model_id": "",
       "version_major": 2,
       "version_minor": 0
      },
      "text/plain": [
       "Training:   0%|          | 0/351 [00:00<?, ?it/s]"
      ]
     },
     "metadata": {},
     "output_type": "display_data"
    },
    {
     "data": {
      "application/vnd.jupyter.widget-view+json": {
       "model_id": "",
       "version_major": 2,
       "version_minor": 0
      },
      "text/plain": [
       "Training:   0%|          | 0/351 [00:00<?, ?it/s]"
      ]
     },
     "metadata": {},
     "output_type": "display_data"
    },
    {
     "data": {
      "application/vnd.jupyter.widget-view+json": {
       "model_id": "",
       "version_major": 2,
       "version_minor": 0
      },
      "text/plain": [
       "Training:   0%|          | 0/351 [00:00<?, ?it/s]"
      ]
     },
     "metadata": {},
     "output_type": "display_data"
    },
    {
     "data": {
      "application/vnd.jupyter.widget-view+json": {
       "model_id": "",
       "version_major": 2,
       "version_minor": 0
      },
      "text/plain": [
       "Training:   0%|          | 0/351 [00:00<?, ?it/s]"
      ]
     },
     "metadata": {},
     "output_type": "display_data"
    },
    {
     "data": {
      "application/vnd.jupyter.widget-view+json": {
       "model_id": "",
       "version_major": 2,
       "version_minor": 0
      },
      "text/plain": [
       "Training:   0%|          | 0/351 [00:00<?, ?it/s]"
      ]
     },
     "metadata": {},
     "output_type": "display_data"
    },
    {
     "data": {
      "application/vnd.jupyter.widget-view+json": {
       "model_id": "",
       "version_major": 2,
       "version_minor": 0
      },
      "text/plain": [
       "Training:   0%|          | 0/351 [00:00<?, ?it/s]"
      ]
     },
     "metadata": {},
     "output_type": "display_data"
    },
    {
     "data": {
      "application/vnd.jupyter.widget-view+json": {
       "model_id": "",
       "version_major": 2,
       "version_minor": 0
      },
      "text/plain": [
       "Training:   0%|          | 0/351 [00:00<?, ?it/s]"
      ]
     },
     "metadata": {},
     "output_type": "display_data"
    },
    {
     "data": {
      "application/vnd.jupyter.widget-view+json": {
       "model_id": "",
       "version_major": 2,
       "version_minor": 0
      },
      "text/plain": [
       "Training:   0%|          | 0/351 [00:00<?, ?it/s]"
      ]
     },
     "metadata": {},
     "output_type": "display_data"
    },
    {
     "data": {
      "application/vnd.jupyter.widget-view+json": {
       "model_id": "",
       "version_major": 2,
       "version_minor": 0
      },
      "text/plain": [
       "Training:   0%|          | 0/351 [00:00<?, ?it/s]"
      ]
     },
     "metadata": {},
     "output_type": "display_data"
    },
    {
     "data": {
      "application/vnd.jupyter.widget-view+json": {
       "model_id": "",
       "version_major": 2,
       "version_minor": 0
      },
      "text/plain": [
       "Training:   0%|          | 0/351 [00:00<?, ?it/s]"
      ]
     },
     "metadata": {},
     "output_type": "display_data"
    },
    {
     "data": {
      "application/vnd.jupyter.widget-view+json": {
       "model_id": "",
       "version_major": 2,
       "version_minor": 0
      },
      "text/plain": [
       "Training:   0%|          | 0/351 [00:00<?, ?it/s]"
      ]
     },
     "metadata": {},
     "output_type": "display_data"
    },
    {
     "data": {
      "application/vnd.jupyter.widget-view+json": {
       "model_id": "",
       "version_major": 2,
       "version_minor": 0
      },
      "text/plain": [
       "Training:   0%|          | 0/351 [00:00<?, ?it/s]"
      ]
     },
     "metadata": {},
     "output_type": "display_data"
    },
    {
     "data": {
      "application/vnd.jupyter.widget-view+json": {
       "model_id": "",
       "version_major": 2,
       "version_minor": 0
      },
      "text/plain": [
       "Training:   0%|          | 0/351 [00:00<?, ?it/s]"
      ]
     },
     "metadata": {},
     "output_type": "display_data"
    },
    {
     "data": {
      "application/vnd.jupyter.widget-view+json": {
       "model_id": "",
       "version_major": 2,
       "version_minor": 0
      },
      "text/plain": [
       "Training:   0%|          | 0/351 [00:00<?, ?it/s]"
      ]
     },
     "metadata": {},
     "output_type": "display_data"
    },
    {
     "data": {
      "application/vnd.jupyter.widget-view+json": {
       "model_id": "",
       "version_major": 2,
       "version_minor": 0
      },
      "text/plain": [
       "Training:   0%|          | 0/351 [00:00<?, ?it/s]"
      ]
     },
     "metadata": {},
     "output_type": "display_data"
    },
    {
     "data": {
      "application/vnd.jupyter.widget-view+json": {
       "model_id": "",
       "version_major": 2,
       "version_minor": 0
      },
      "text/plain": [
       "Training:   0%|          | 0/351 [00:00<?, ?it/s]"
      ]
     },
     "metadata": {},
     "output_type": "display_data"
    },
    {
     "data": {
      "application/vnd.jupyter.widget-view+json": {
       "model_id": "",
       "version_major": 2,
       "version_minor": 0
      },
      "text/plain": [
       "Training:   0%|          | 0/351 [00:00<?, ?it/s]"
      ]
     },
     "metadata": {},
     "output_type": "display_data"
    },
    {
     "data": {
      "application/vnd.jupyter.widget-view+json": {
       "model_id": "",
       "version_major": 2,
       "version_minor": 0
      },
      "text/plain": [
       "Training:   0%|          | 0/351 [00:00<?, ?it/s]"
      ]
     },
     "metadata": {},
     "output_type": "display_data"
    },
    {
     "data": {
      "application/vnd.jupyter.widget-view+json": {
       "model_id": "",
       "version_major": 2,
       "version_minor": 0
      },
      "text/plain": [
       "Training:   0%|          | 0/351 [00:00<?, ?it/s]"
      ]
     },
     "metadata": {},
     "output_type": "display_data"
    },
    {
     "data": {
      "application/vnd.jupyter.widget-view+json": {
       "model_id": "",
       "version_major": 2,
       "version_minor": 0
      },
      "text/plain": [
       "Training:   0%|          | 0/351 [00:00<?, ?it/s]"
      ]
     },
     "metadata": {},
     "output_type": "display_data"
    },
    {
     "data": {
      "application/vnd.jupyter.widget-view+json": {
       "model_id": "",
       "version_major": 2,
       "version_minor": 0
      },
      "text/plain": [
       "Training:   0%|          | 0/351 [00:00<?, ?it/s]"
      ]
     },
     "metadata": {},
     "output_type": "display_data"
    },
    {
     "data": {
      "application/vnd.jupyter.widget-view+json": {
       "model_id": "",
       "version_major": 2,
       "version_minor": 0
      },
      "text/plain": [
       "Training:   0%|          | 0/351 [00:00<?, ?it/s]"
      ]
     },
     "metadata": {},
     "output_type": "display_data"
    },
    {
     "data": {
      "application/vnd.jupyter.widget-view+json": {
       "model_id": "",
       "version_major": 2,
       "version_minor": 0
      },
      "text/plain": [
       "Training:   0%|          | 0/351 [00:00<?, ?it/s]"
      ]
     },
     "metadata": {},
     "output_type": "display_data"
    },
    {
     "data": {
      "application/vnd.jupyter.widget-view+json": {
       "model_id": "",
       "version_major": 2,
       "version_minor": 0
      },
      "text/plain": [
       "Training:   0%|          | 0/351 [00:00<?, ?it/s]"
      ]
     },
     "metadata": {},
     "output_type": "display_data"
    },
    {
     "data": {
      "application/vnd.jupyter.widget-view+json": {
       "model_id": "",
       "version_major": 2,
       "version_minor": 0
      },
      "text/plain": [
       "Training:   0%|          | 0/351 [00:00<?, ?it/s]"
      ]
     },
     "metadata": {},
     "output_type": "display_data"
    },
    {
     "data": {
      "application/vnd.jupyter.widget-view+json": {
       "model_id": "",
       "version_major": 2,
       "version_minor": 0
      },
      "text/plain": [
       "Training:   0%|          | 0/351 [00:00<?, ?it/s]"
      ]
     },
     "metadata": {},
     "output_type": "display_data"
    },
    {
     "data": {
      "application/vnd.jupyter.widget-view+json": {
       "model_id": "",
       "version_major": 2,
       "version_minor": 0
      },
      "text/plain": [
       "Training:   0%|          | 0/351 [00:00<?, ?it/s]"
      ]
     },
     "metadata": {},
     "output_type": "display_data"
    },
    {
     "data": {
      "application/vnd.jupyter.widget-view+json": {
       "model_id": "",
       "version_major": 2,
       "version_minor": 0
      },
      "text/plain": [
       "Training:   0%|          | 0/351 [00:00<?, ?it/s]"
      ]
     },
     "metadata": {},
     "output_type": "display_data"
    },
    {
     "data": {
      "application/vnd.jupyter.widget-view+json": {
       "model_id": "",
       "version_major": 2,
       "version_minor": 0
      },
      "text/plain": [
       "Training:   0%|          | 0/351 [00:00<?, ?it/s]"
      ]
     },
     "metadata": {},
     "output_type": "display_data"
    },
    {
     "data": {
      "application/vnd.jupyter.widget-view+json": {
       "model_id": "",
       "version_major": 2,
       "version_minor": 0
      },
      "text/plain": [
       "Training:   0%|          | 0/351 [00:00<?, ?it/s]"
      ]
     },
     "metadata": {},
     "output_type": "display_data"
    },
    {
     "data": {
      "application/vnd.jupyter.widget-view+json": {
       "model_id": "",
       "version_major": 2,
       "version_minor": 0
      },
      "text/plain": [
       "Training:   0%|          | 0/351 [00:00<?, ?it/s]"
      ]
     },
     "metadata": {},
     "output_type": "display_data"
    },
    {
     "data": {
      "application/vnd.jupyter.widget-view+json": {
       "model_id": "",
       "version_major": 2,
       "version_minor": 0
      },
      "text/plain": [
       "Training:   0%|          | 0/351 [00:00<?, ?it/s]"
      ]
     },
     "metadata": {},
     "output_type": "display_data"
    },
    {
     "data": {
      "application/vnd.jupyter.widget-view+json": {
       "model_id": "",
       "version_major": 2,
       "version_minor": 0
      },
      "text/plain": [
       "Training:   0%|          | 0/351 [00:00<?, ?it/s]"
      ]
     },
     "metadata": {},
     "output_type": "display_data"
    },
    {
     "data": {
      "application/vnd.jupyter.widget-view+json": {
       "model_id": "",
       "version_major": 2,
       "version_minor": 0
      },
      "text/plain": [
       "Training:   0%|          | 0/351 [00:00<?, ?it/s]"
      ]
     },
     "metadata": {},
     "output_type": "display_data"
    },
    {
     "data": {
      "application/vnd.jupyter.widget-view+json": {
       "model_id": "",
       "version_major": 2,
       "version_minor": 0
      },
      "text/plain": [
       "Training:   0%|          | 0/351 [00:00<?, ?it/s]"
      ]
     },
     "metadata": {},
     "output_type": "display_data"
    },
    {
     "data": {
      "application/vnd.jupyter.widget-view+json": {
       "model_id": "",
       "version_major": 2,
       "version_minor": 0
      },
      "text/plain": [
       "Training:   0%|          | 0/351 [00:00<?, ?it/s]"
      ]
     },
     "metadata": {},
     "output_type": "display_data"
    },
    {
     "data": {
      "application/vnd.jupyter.widget-view+json": {
       "model_id": "",
       "version_major": 2,
       "version_minor": 0
      },
      "text/plain": [
       "Training:   0%|          | 0/351 [00:00<?, ?it/s]"
      ]
     },
     "metadata": {},
     "output_type": "display_data"
    },
    {
     "data": {
      "application/vnd.jupyter.widget-view+json": {
       "model_id": "",
       "version_major": 2,
       "version_minor": 0
      },
      "text/plain": [
       "Training:   0%|          | 0/351 [00:00<?, ?it/s]"
      ]
     },
     "metadata": {},
     "output_type": "display_data"
    },
    {
     "data": {
      "application/vnd.jupyter.widget-view+json": {
       "model_id": "",
       "version_major": 2,
       "version_minor": 0
      },
      "text/plain": [
       "Training:   0%|          | 0/351 [00:00<?, ?it/s]"
      ]
     },
     "metadata": {},
     "output_type": "display_data"
    },
    {
     "data": {
      "application/vnd.jupyter.widget-view+json": {
       "model_id": "",
       "version_major": 2,
       "version_minor": 0
      },
      "text/plain": [
       "Training:   0%|          | 0/351 [00:00<?, ?it/s]"
      ]
     },
     "metadata": {},
     "output_type": "display_data"
    },
    {
     "data": {
      "application/vnd.jupyter.widget-view+json": {
       "model_id": "",
       "version_major": 2,
       "version_minor": 0
      },
      "text/plain": [
       "Training:   0%|          | 0/351 [00:00<?, ?it/s]"
      ]
     },
     "metadata": {},
     "output_type": "display_data"
    },
    {
     "data": {
      "application/vnd.jupyter.widget-view+json": {
       "model_id": "",
       "version_major": 2,
       "version_minor": 0
      },
      "text/plain": [
       "Training:   0%|          | 0/351 [00:00<?, ?it/s]"
      ]
     },
     "metadata": {},
     "output_type": "display_data"
    },
    {
     "data": {
      "application/vnd.jupyter.widget-view+json": {
       "model_id": "",
       "version_major": 2,
       "version_minor": 0
      },
      "text/plain": [
       "Training:   0%|          | 0/351 [00:00<?, ?it/s]"
      ]
     },
     "metadata": {},
     "output_type": "display_data"
    },
    {
     "data": {
      "application/vnd.jupyter.widget-view+json": {
       "model_id": "",
       "version_major": 2,
       "version_minor": 0
      },
      "text/plain": [
       "Training:   0%|          | 0/351 [00:00<?, ?it/s]"
      ]
     },
     "metadata": {},
     "output_type": "display_data"
    },
    {
     "data": {
      "application/vnd.jupyter.widget-view+json": {
       "model_id": "",
       "version_major": 2,
       "version_minor": 0
      },
      "text/plain": [
       "Training:   0%|          | 0/351 [00:00<?, ?it/s]"
      ]
     },
     "metadata": {},
     "output_type": "display_data"
    },
    {
     "data": {
      "application/vnd.jupyter.widget-view+json": {
       "model_id": "",
       "version_major": 2,
       "version_minor": 0
      },
      "text/plain": [
       "Training:   0%|          | 0/351 [00:00<?, ?it/s]"
      ]
     },
     "metadata": {},
     "output_type": "display_data"
    },
    {
     "data": {
      "application/vnd.jupyter.widget-view+json": {
       "model_id": "",
       "version_major": 2,
       "version_minor": 0
      },
      "text/plain": [
       "Training:   0%|          | 0/351 [00:00<?, ?it/s]"
      ]
     },
     "metadata": {},
     "output_type": "display_data"
    },
    {
     "data": {
      "application/vnd.jupyter.widget-view+json": {
       "model_id": "",
       "version_major": 2,
       "version_minor": 0
      },
      "text/plain": [
       "Training:   0%|          | 0/351 [00:00<?, ?it/s]"
      ]
     },
     "metadata": {},
     "output_type": "display_data"
    },
    {
     "data": {
      "application/vnd.jupyter.widget-view+json": {
       "model_id": "",
       "version_major": 2,
       "version_minor": 0
      },
      "text/plain": [
       "Training:   0%|          | 0/351 [00:00<?, ?it/s]"
      ]
     },
     "metadata": {},
     "output_type": "display_data"
    },
    {
     "data": {
      "application/vnd.jupyter.widget-view+json": {
       "model_id": "",
       "version_major": 2,
       "version_minor": 0
      },
      "text/plain": [
       "Training:   0%|          | 0/351 [00:00<?, ?it/s]"
      ]
     },
     "metadata": {},
     "output_type": "display_data"
    },
    {
     "data": {
      "application/vnd.jupyter.widget-view+json": {
       "model_id": "",
       "version_major": 2,
       "version_minor": 0
      },
      "text/plain": [
       "Training:   0%|          | 0/351 [00:00<?, ?it/s]"
      ]
     },
     "metadata": {},
     "output_type": "display_data"
    },
    {
     "data": {
      "application/vnd.jupyter.widget-view+json": {
       "model_id": "",
       "version_major": 2,
       "version_minor": 0
      },
      "text/plain": [
       "Training:   0%|          | 0/351 [00:00<?, ?it/s]"
      ]
     },
     "metadata": {},
     "output_type": "display_data"
    },
    {
     "data": {
      "application/vnd.jupyter.widget-view+json": {
       "model_id": "",
       "version_major": 2,
       "version_minor": 0
      },
      "text/plain": [
       "Training:   0%|          | 0/351 [00:00<?, ?it/s]"
      ]
     },
     "metadata": {},
     "output_type": "display_data"
    },
    {
     "data": {
      "application/vnd.jupyter.widget-view+json": {
       "model_id": "",
       "version_major": 2,
       "version_minor": 0
      },
      "text/plain": [
       "Training:   0%|          | 0/351 [00:00<?, ?it/s]"
      ]
     },
     "metadata": {},
     "output_type": "display_data"
    },
    {
     "data": {
      "application/vnd.jupyter.widget-view+json": {
       "model_id": "",
       "version_major": 2,
       "version_minor": 0
      },
      "text/plain": [
       "Training:   0%|          | 0/351 [00:00<?, ?it/s]"
      ]
     },
     "metadata": {},
     "output_type": "display_data"
    },
    {
     "data": {
      "application/vnd.jupyter.widget-view+json": {
       "model_id": "",
       "version_major": 2,
       "version_minor": 0
      },
      "text/plain": [
       "Training:   0%|          | 0/351 [00:00<?, ?it/s]"
      ]
     },
     "metadata": {},
     "output_type": "display_data"
    },
    {
     "data": {
      "application/vnd.jupyter.widget-view+json": {
       "model_id": "",
       "version_major": 2,
       "version_minor": 0
      },
      "text/plain": [
       "Training:   0%|          | 0/351 [00:00<?, ?it/s]"
      ]
     },
     "metadata": {},
     "output_type": "display_data"
    },
    {
     "data": {
      "application/vnd.jupyter.widget-view+json": {
       "model_id": "",
       "version_major": 2,
       "version_minor": 0
      },
      "text/plain": [
       "Training:   0%|          | 0/351 [00:00<?, ?it/s]"
      ]
     },
     "metadata": {},
     "output_type": "display_data"
    },
    {
     "data": {
      "application/vnd.jupyter.widget-view+json": {
       "model_id": "",
       "version_major": 2,
       "version_minor": 0
      },
      "text/plain": [
       "Training:   0%|          | 0/351 [00:00<?, ?it/s]"
      ]
     },
     "metadata": {},
     "output_type": "display_data"
    },
    {
     "data": {
      "application/vnd.jupyter.widget-view+json": {
       "model_id": "",
       "version_major": 2,
       "version_minor": 0
      },
      "text/plain": [
       "Training:   0%|          | 0/351 [00:00<?, ?it/s]"
      ]
     },
     "metadata": {},
     "output_type": "display_data"
    },
    {
     "data": {
      "application/vnd.jupyter.widget-view+json": {
       "model_id": "",
       "version_major": 2,
       "version_minor": 0
      },
      "text/plain": [
       "Training:   0%|          | 0/351 [00:00<?, ?it/s]"
      ]
     },
     "metadata": {},
     "output_type": "display_data"
    },
    {
     "data": {
      "application/vnd.jupyter.widget-view+json": {
       "model_id": "",
       "version_major": 2,
       "version_minor": 0
      },
      "text/plain": [
       "Training:   0%|          | 0/351 [00:00<?, ?it/s]"
      ]
     },
     "metadata": {},
     "output_type": "display_data"
    },
    {
     "data": {
      "application/vnd.jupyter.widget-view+json": {
       "model_id": "",
       "version_major": 2,
       "version_minor": 0
      },
      "text/plain": [
       "Training:   0%|          | 0/351 [00:00<?, ?it/s]"
      ]
     },
     "metadata": {},
     "output_type": "display_data"
    },
    {
     "data": {
      "application/vnd.jupyter.widget-view+json": {
       "model_id": "",
       "version_major": 2,
       "version_minor": 0
      },
      "text/plain": [
       "Training:   0%|          | 0/351 [00:00<?, ?it/s]"
      ]
     },
     "metadata": {},
     "output_type": "display_data"
    },
    {
     "data": {
      "application/vnd.jupyter.widget-view+json": {
       "model_id": "",
       "version_major": 2,
       "version_minor": 0
      },
      "text/plain": [
       "Training:   0%|          | 0/351 [00:00<?, ?it/s]"
      ]
     },
     "metadata": {},
     "output_type": "display_data"
    },
    {
     "data": {
      "application/vnd.jupyter.widget-view+json": {
       "model_id": "",
       "version_major": 2,
       "version_minor": 0
      },
      "text/plain": [
       "Training:   0%|          | 0/351 [00:00<?, ?it/s]"
      ]
     },
     "metadata": {},
     "output_type": "display_data"
    },
    {
     "data": {
      "application/vnd.jupyter.widget-view+json": {
       "model_id": "",
       "version_major": 2,
       "version_minor": 0
      },
      "text/plain": [
       "Training:   0%|          | 0/351 [00:00<?, ?it/s]"
      ]
     },
     "metadata": {},
     "output_type": "display_data"
    },
    {
     "data": {
      "application/vnd.jupyter.widget-view+json": {
       "model_id": "",
       "version_major": 2,
       "version_minor": 0
      },
      "text/plain": [
       "Training:   0%|          | 0/351 [00:00<?, ?it/s]"
      ]
     },
     "metadata": {},
     "output_type": "display_data"
    },
    {
     "data": {
      "application/vnd.jupyter.widget-view+json": {
       "model_id": "",
       "version_major": 2,
       "version_minor": 0
      },
      "text/plain": [
       "Training:   0%|          | 0/351 [00:00<?, ?it/s]"
      ]
     },
     "metadata": {},
     "output_type": "display_data"
    },
    {
     "data": {
      "application/vnd.jupyter.widget-view+json": {
       "model_id": "",
       "version_major": 2,
       "version_minor": 0
      },
      "text/plain": [
       "Training:   0%|          | 0/351 [00:00<?, ?it/s]"
      ]
     },
     "metadata": {},
     "output_type": "display_data"
    },
    {
     "data": {
      "application/vnd.jupyter.widget-view+json": {
       "model_id": "",
       "version_major": 2,
       "version_minor": 0
      },
      "text/plain": [
       "Training:   0%|          | 0/351 [00:00<?, ?it/s]"
      ]
     },
     "metadata": {},
     "output_type": "display_data"
    },
    {
     "data": {
      "application/vnd.jupyter.widget-view+json": {
       "model_id": "",
       "version_major": 2,
       "version_minor": 0
      },
      "text/plain": [
       "Training:   0%|          | 0/351 [00:00<?, ?it/s]"
      ]
     },
     "metadata": {},
     "output_type": "display_data"
    },
    {
     "data": {
      "application/vnd.jupyter.widget-view+json": {
       "model_id": "",
       "version_major": 2,
       "version_minor": 0
      },
      "text/plain": [
       "Training:   0%|          | 0/351 [00:00<?, ?it/s]"
      ]
     },
     "metadata": {},
     "output_type": "display_data"
    },
    {
     "data": {
      "application/vnd.jupyter.widget-view+json": {
       "model_id": "",
       "version_major": 2,
       "version_minor": 0
      },
      "text/plain": [
       "Training:   0%|          | 0/351 [00:00<?, ?it/s]"
      ]
     },
     "metadata": {},
     "output_type": "display_data"
    },
    {
     "data": {
      "application/vnd.jupyter.widget-view+json": {
       "model_id": "",
       "version_major": 2,
       "version_minor": 0
      },
      "text/plain": [
       "Training:   0%|          | 0/351 [00:00<?, ?it/s]"
      ]
     },
     "metadata": {},
     "output_type": "display_data"
    },
    {
     "data": {
      "application/vnd.jupyter.widget-view+json": {
       "model_id": "",
       "version_major": 2,
       "version_minor": 0
      },
      "text/plain": [
       "Training:   0%|          | 0/351 [00:00<?, ?it/s]"
      ]
     },
     "metadata": {},
     "output_type": "display_data"
    },
    {
     "data": {
      "application/vnd.jupyter.widget-view+json": {
       "model_id": "",
       "version_major": 2,
       "version_minor": 0
      },
      "text/plain": [
       "Training:   0%|          | 0/351 [00:00<?, ?it/s]"
      ]
     },
     "metadata": {},
     "output_type": "display_data"
    },
    {
     "data": {
      "application/vnd.jupyter.widget-view+json": {
       "model_id": "",
       "version_major": 2,
       "version_minor": 0
      },
      "text/plain": [
       "Training:   0%|          | 0/351 [00:00<?, ?it/s]"
      ]
     },
     "metadata": {},
     "output_type": "display_data"
    },
    {
     "data": {
      "application/vnd.jupyter.widget-view+json": {
       "model_id": "",
       "version_major": 2,
       "version_minor": 0
      },
      "text/plain": [
       "Training:   0%|          | 0/351 [00:00<?, ?it/s]"
      ]
     },
     "metadata": {},
     "output_type": "display_data"
    },
    {
     "data": {
      "application/vnd.jupyter.widget-view+json": {
       "model_id": "",
       "version_major": 2,
       "version_minor": 0
      },
      "text/plain": [
       "Training:   0%|          | 0/351 [00:00<?, ?it/s]"
      ]
     },
     "metadata": {},
     "output_type": "display_data"
    },
    {
     "data": {
      "application/vnd.jupyter.widget-view+json": {
       "model_id": "",
       "version_major": 2,
       "version_minor": 0
      },
      "text/plain": [
       "Training:   0%|          | 0/351 [00:00<?, ?it/s]"
      ]
     },
     "metadata": {},
     "output_type": "display_data"
    },
    {
     "data": {
      "application/vnd.jupyter.widget-view+json": {
       "model_id": "",
       "version_major": 2,
       "version_minor": 0
      },
      "text/plain": [
       "Training:   0%|          | 0/351 [00:00<?, ?it/s]"
      ]
     },
     "metadata": {},
     "output_type": "display_data"
    },
    {
     "data": {
      "application/vnd.jupyter.widget-view+json": {
       "model_id": "",
       "version_major": 2,
       "version_minor": 0
      },
      "text/plain": [
       "Training:   0%|          | 0/351 [00:00<?, ?it/s]"
      ]
     },
     "metadata": {},
     "output_type": "display_data"
    },
    {
     "data": {
      "application/vnd.jupyter.widget-view+json": {
       "model_id": "",
       "version_major": 2,
       "version_minor": 0
      },
      "text/plain": [
       "Training:   0%|          | 0/351 [00:00<?, ?it/s]"
      ]
     },
     "metadata": {},
     "output_type": "display_data"
    },
    {
     "data": {
      "application/vnd.jupyter.widget-view+json": {
       "model_id": "",
       "version_major": 2,
       "version_minor": 0
      },
      "text/plain": [
       "Training:   0%|          | 0/351 [00:00<?, ?it/s]"
      ]
     },
     "metadata": {},
     "output_type": "display_data"
    },
    {
     "data": {
      "application/vnd.jupyter.widget-view+json": {
       "model_id": "",
       "version_major": 2,
       "version_minor": 0
      },
      "text/plain": [
       "Training:   0%|          | 0/351 [00:00<?, ?it/s]"
      ]
     },
     "metadata": {},
     "output_type": "display_data"
    },
    {
     "data": {
      "application/vnd.jupyter.widget-view+json": {
       "model_id": "",
       "version_major": 2,
       "version_minor": 0
      },
      "text/plain": [
       "Training:   0%|          | 0/351 [00:00<?, ?it/s]"
      ]
     },
     "metadata": {},
     "output_type": "display_data"
    },
    {
     "data": {
      "application/vnd.jupyter.widget-view+json": {
       "model_id": "",
       "version_major": 2,
       "version_minor": 0
      },
      "text/plain": [
       "Training:   0%|          | 0/351 [00:00<?, ?it/s]"
      ]
     },
     "metadata": {},
     "output_type": "display_data"
    },
    {
     "data": {
      "application/vnd.jupyter.widget-view+json": {
       "model_id": "",
       "version_major": 2,
       "version_minor": 0
      },
      "text/plain": [
       "Training:   0%|          | 0/351 [00:00<?, ?it/s]"
      ]
     },
     "metadata": {},
     "output_type": "display_data"
    },
    {
     "data": {
      "application/vnd.jupyter.widget-view+json": {
       "model_id": "",
       "version_major": 2,
       "version_minor": 0
      },
      "text/plain": [
       "Training:   0%|          | 0/351 [00:00<?, ?it/s]"
      ]
     },
     "metadata": {},
     "output_type": "display_data"
    },
    {
     "data": {
      "application/vnd.jupyter.widget-view+json": {
       "model_id": "",
       "version_major": 2,
       "version_minor": 0
      },
      "text/plain": [
       "Training:   0%|          | 0/351 [00:00<?, ?it/s]"
      ]
     },
     "metadata": {},
     "output_type": "display_data"
    },
    {
     "data": {
      "application/vnd.jupyter.widget-view+json": {
       "model_id": "",
       "version_major": 2,
       "version_minor": 0
      },
      "text/plain": [
       "Training:   0%|          | 0/351 [00:00<?, ?it/s]"
      ]
     },
     "metadata": {},
     "output_type": "display_data"
    },
    {
     "data": {
      "application/vnd.jupyter.widget-view+json": {
       "model_id": "",
       "version_major": 2,
       "version_minor": 0
      },
      "text/plain": [
       "Training:   0%|          | 0/351 [00:00<?, ?it/s]"
      ]
     },
     "metadata": {},
     "output_type": "display_data"
    },
    {
     "data": {
      "application/vnd.jupyter.widget-view+json": {
       "model_id": "",
       "version_major": 2,
       "version_minor": 0
      },
      "text/plain": [
       "Training:   0%|          | 0/351 [00:00<?, ?it/s]"
      ]
     },
     "metadata": {},
     "output_type": "display_data"
    },
    {
     "data": {
      "application/vnd.jupyter.widget-view+json": {
       "model_id": "",
       "version_major": 2,
       "version_minor": 0
      },
      "text/plain": [
       "Training:   0%|          | 0/351 [00:00<?, ?it/s]"
      ]
     },
     "metadata": {},
     "output_type": "display_data"
    },
    {
     "data": {
      "application/vnd.jupyter.widget-view+json": {
       "model_id": "",
       "version_major": 2,
       "version_minor": 0
      },
      "text/plain": [
       "Training:   0%|          | 0/351 [00:00<?, ?it/s]"
      ]
     },
     "metadata": {},
     "output_type": "display_data"
    },
    {
     "data": {
      "application/vnd.jupyter.widget-view+json": {
       "model_id": "",
       "version_major": 2,
       "version_minor": 0
      },
      "text/plain": [
       "Training:   0%|          | 0/351 [00:00<?, ?it/s]"
      ]
     },
     "metadata": {},
     "output_type": "display_data"
    },
    {
     "data": {
      "application/vnd.jupyter.widget-view+json": {
       "model_id": "",
       "version_major": 2,
       "version_minor": 0
      },
      "text/plain": [
       "Training:   0%|          | 0/351 [00:00<?, ?it/s]"
      ]
     },
     "metadata": {},
     "output_type": "display_data"
    },
    {
     "data": {
      "application/vnd.jupyter.widget-view+json": {
       "model_id": "",
       "version_major": 2,
       "version_minor": 0
      },
      "text/plain": [
       "Training:   0%|          | 0/351 [00:00<?, ?it/s]"
      ]
     },
     "metadata": {},
     "output_type": "display_data"
    },
    {
     "data": {
      "application/vnd.jupyter.widget-view+json": {
       "model_id": "",
       "version_major": 2,
       "version_minor": 0
      },
      "text/plain": [
       "Training:   0%|          | 0/351 [00:00<?, ?it/s]"
      ]
     },
     "metadata": {},
     "output_type": "display_data"
    },
    {
     "data": {
      "application/vnd.jupyter.widget-view+json": {
       "model_id": "",
       "version_major": 2,
       "version_minor": 0
      },
      "text/plain": [
       "Training:   0%|          | 0/351 [00:00<?, ?it/s]"
      ]
     },
     "metadata": {},
     "output_type": "display_data"
    },
    {
     "data": {
      "application/vnd.jupyter.widget-view+json": {
       "model_id": "",
       "version_major": 2,
       "version_minor": 0
      },
      "text/plain": [
       "Training:   0%|          | 0/351 [00:00<?, ?it/s]"
      ]
     },
     "metadata": {},
     "output_type": "display_data"
    },
    {
     "data": {
      "application/vnd.jupyter.widget-view+json": {
       "model_id": "",
       "version_major": 2,
       "version_minor": 0
      },
      "text/plain": [
       "Training:   0%|          | 0/351 [00:00<?, ?it/s]"
      ]
     },
     "metadata": {},
     "output_type": "display_data"
    },
    {
     "data": {
      "application/vnd.jupyter.widget-view+json": {
       "model_id": "",
       "version_major": 2,
       "version_minor": 0
      },
      "text/plain": [
       "Training:   0%|          | 0/351 [00:00<?, ?it/s]"
      ]
     },
     "metadata": {},
     "output_type": "display_data"
    }
   ],
   "source": [
    "googlenet_trainer, googlenet_results = train_classifier(model_class=GoogleNet,\n",
    "                                                          model_name=\"GoogleNet\", \n",
    "                                                          model_hparams={\"num_classes\": 10, \n",
    "                                                                         \"act_fn\": nn.relu}, \n",
    "                                                          optimizer_name=\"adamw\",\n",
    "                                                          optimizer_hparams={\"lr\": 1e-3,\n",
    "                                                                             \"weight_decay\": 1e-4},\n",
    "                                                          exmp_imgs=jax.device_put(next(iter(train_loader))[0]),\n",
    "                                                          num_epochs=200)"
   ]
  },
  {
   "cell_type": "markdown",
   "metadata": {},
   "source": [
    "We will compare the results later in the notebooks, but we can already print them here for a first glance:"
   ]
  },
  {
   "cell_type": "code",
   "execution_count": 16,
   "metadata": {},
   "outputs": [
    {
     "name": "stdout",
     "output_type": "stream",
     "text": [
      "GoogleNet Results {'val': 0.9022000432014465, 'test': 0.891200065612793}\n"
     ]
    }
   ],
   "source": [
    "print(\"GoogleNet Results\", googlenet_results)"
   ]
  },
  {
   "cell_type": "markdown",
   "metadata": {},
   "source": [
    "### Tensorboard log\n",
    "\n",
    "For logging our results, we have used TensorBoard. To give you a better intuition of what TensorBoard can be used for, we can look at the board that our training of the GoogleNet has generated. TensorBoard provides an inline functionality for Jupyter notebooks, and we use it here:"
   ]
  },
  {
   "cell_type": "code",
   "execution_count": 17,
   "metadata": {},
   "outputs": [],
   "source": [
    "# Load tensorboard extension\n",
    "# %load_ext tensorboard"
   ]
  },
  {
   "cell_type": "code",
   "execution_count": 18,
   "metadata": {},
   "outputs": [],
   "source": [
    "# Opens tensorboard in notebook. Adjust the path to your CHECKPOINT_PATH!\n",
    "# %tensorboard --logdir ../saved_models/tutorial5/tensorboards/GoogleNet/"
   ]
  },
  {
   "cell_type": "markdown",
   "metadata": {},
   "source": [
    "<div class=\"alert alert-warning\">\n",
    "\n",
    "**TODO:** Update picture below with new tensorboard\n",
    "</div>\n",
    "\n",
    "<center width=\"100%\"><img src=\"tensorboard_screenshot_GoogleNet.png\" width=\"1000px\"></center>\n",
    "\n",
    "TensorBoard is organized in multiple tabs. The main tab is the scalar tab where we can log the development of single numbers. For example, we have plotted the training loss, accuracy, learning rate, etc. If we look at the training or validation accuracy, we can really see the impact of using a learning rate scheduler. Reducing the learning rate gives our model a nice increase in training performance. Similarly, when looking at the training loss, we see a sudden decrease at this point. However, the high numbers on the training set compared to validation indicate that our model was overfitting which is inevitable for such large networks."
   ]
  },
  {
   "cell_type": "markdown",
   "metadata": {},
   "source": [
    "## ResNet\n",
    "\n",
    "The [ResNet](https://arxiv.org/abs/1512.03385) paper is one of the  [most cited AI papers](https://www.natureindex.com/news-blog/google-scholar-reveals-most-influential-papers-research-citations-twenty-twenty), and has been the foundation for neural networks with more than 1,000 layers. Despite its simplicity, the idea of residual connections is highly effective as it supports stable gradient propagation through the network. Instead of modeling $x_{l+1}=F(x_{l})$, we model $x_{l+1}=x_{l}+F(x_{l})$ where $F$ is a non-linear mapping (usually a sequence of NN modules likes convolutions, activation functions, and normalizations). If we do backpropagation on such residual connections, we obtain:\n",
    "\n",
    "$$\\frac{\\partial x_{l+1}}{\\partial x_{l}} = \\mathbf{I} + \\frac{\\partial F(x_{l})}{\\partial x_{l}}$$\n",
    "\n",
    "The bias towards the identity matrix guarantees a stable gradient propagation being less effected by $F$ itself. There have been many variants of ResNet proposed, which mostly concern the function $F$, or operations applied on the sum. In this tutorial, we look at two of them: the original ResNet block, and the [Pre-Activation ResNet block](https://arxiv.org/abs/1603.05027). We visually compare the blocks below (figure credit - [He et al.](https://arxiv.org/abs/1603.05027)):\n",
    "\n",
    "<center width=\"100%\"><img src=\"../../tutorial5/resnet_block.svg\" style=\"display: block; margin-left: auto; margin-right: auto;\" width=\"300px\"/></center>\n",
    "\n",
    "The original ResNet block applies a non-linear activation function, usually ReLU, after the skip connection. In contrast, the pre-activation ResNet block applies the non-linearity at the beginning of $F$. Both have their advantages and disadvantages. For very deep network, however, the pre-activation ResNet has shown to perform better as the gradient flow is guaranteed to have the identity matrix as calculated above, and is not harmed by any non-linear activation applied to it. For comparison, in this notebook, we implement both ResNet types as shallow networks.\n",
    "\n",
    "Let's start with the original ResNet block. The visualization above already shows what layers are included in $F$. One special case we have to handle is when we want to reduce the image dimensions in terms of width and height. The basic ResNet block requires $F(x_{l})$ to be of the same shape as $x_{l}$. Thus, we need to change the dimensionality of $x_{l}$ as well before adding to $F(x_{l})$. The original implementation used an identity mapping with stride 2 and padded additional feature dimensions with 0. However, the more common implementation is to use a 1x1 convolution with stride 2 as it allows us to change the feature dimensionality while being efficient in parameter and computation cost. The code for the ResNet block is relatively simple, and shown below:"
   ]
  },
  {
   "cell_type": "code",
   "execution_count": 42,
   "metadata": {},
   "outputs": [],
   "source": [
    "# Conv initialized with kaiming int, but uses fan-out instead of fan-in mode\n",
    "# Fan-out focuses on the gradient distribution, and is commonly used in ResNets\n",
    "resnet_kernel_init = nn.initializers.variance_scaling(2.0, mode='fan_out', distribution='normal')\n",
    "\n",
    "class ResNetBlock(nn.Module):\n",
    "    act_fn : callable  # Activation function\n",
    "    c_out : int   # Output feature size\n",
    "    subsample : bool = False  # If True, we apply a stride inside F\n",
    "\n",
    "    @nn.compact\n",
    "    def __call__(self, x, train=True):\n",
    "        # Network representing F\n",
    "        z = nn.Conv(self.c_out, kernel_size=(3, 3), \n",
    "                    strides=(1, 1) if not self.subsample else (2, 2), \n",
    "                    kernel_init=resnet_kernel_init,\n",
    "                    use_bias=False)(x)\n",
    "        z = nn.BatchNorm()(z, use_running_average=not train)\n",
    "        z = self.act_fn(z)\n",
    "        z = nn.Conv(self.c_out, kernel_size=(3, 3), \n",
    "                    kernel_init=resnet_kernel_init,\n",
    "                    use_bias=False)(z)\n",
    "        z = nn.BatchNorm()(z, use_running_average=not train)\n",
    "        \n",
    "        if self.subsample:\n",
    "            x = nn.Conv(self.c_out, kernel_size=(1, 1), strides=(2, 2), kernel_init=resnet_kernel_init)(x)\n",
    "        \n",
    "        x_out = self.act_fn(z + x)\n",
    "        return x_out"
   ]
  },
  {
   "cell_type": "code",
   "execution_count": 43,
   "metadata": {},
   "outputs": [
    {
     "name": "stdout",
     "output_type": "stream",
     "text": [
      "Out (8, 16, 16, 32)\n"
     ]
    }
   ],
   "source": [
    "## Test ResNetBlock implementation\n",
    "# Example features as input\n",
    "main_rng, x_rng = random.split(main_rng)\n",
    "x = random.normal(x_rng, (8, 32, 32, 16))\n",
    "# Create ResNet block\n",
    "block = ResNetBlock(act_fn=nn.relu, c_out=32, subsample=True)\n",
    "# Initialize parameters of ResNet block with random key and inputs\n",
    "main_rng, init_rng = random.split(main_rng)\n",
    "variables = block.init(init_rng, x, train=True)\n",
    "# Apply ResNet block with parameters on the inputs\n",
    "out, batch_stats = block.apply(variables, x, train=True, mutable=['batch_stats'])\n",
    "print('Out', out.shape)\n",
    "\n",
    "del block, variables"
   ]
  },
  {
   "cell_type": "markdown",
   "metadata": {},
   "source": [
    "The second block we implement is the pre-activation ResNet block. For this, we have to change the order of layers, and do not apply an activation function on the output. Additionally, the downsampling operation has to apply a non-linearity as well as the input, $x_l$, has not been processed by a non-linearity yet. Hence, the block looks as follows:"
   ]
  },
  {
   "cell_type": "code",
   "execution_count": 44,
   "metadata": {},
   "outputs": [],
   "source": [
    "class PreActResNetBlock(ResNetBlock):\n",
    "    \n",
    "    @nn.compact\n",
    "    def __call__(self, x, train=True):\n",
    "        # Network representing F\n",
    "        z = nn.BatchNorm()(x, use_running_average=not train)\n",
    "        z = self.act_fn(z)\n",
    "        z = nn.Conv(self.c_out, kernel_size=(3, 3), \n",
    "                    strides=(1, 1) if not self.subsample else (2, 2), \n",
    "                    kernel_init=resnet_kernel_init,\n",
    "                    use_bias=False)(z)\n",
    "        z = nn.BatchNorm()(z, use_running_average=not train)\n",
    "        z = self.act_fn(z)\n",
    "        z = nn.Conv(self.c_out, kernel_size=(3, 3), \n",
    "                    kernel_init=resnet_kernel_init,\n",
    "                    use_bias=False)(z)\n",
    "        \n",
    "        if self.subsample:\n",
    "            x = nn.BatchNorm()(x, use_running_average=not train)\n",
    "            x = self.act_fn(x)\n",
    "            x = nn.Conv(self.c_out, \n",
    "                        kernel_size=(1, 1), \n",
    "                        strides=(2, 2), \n",
    "                        kernel_init=resnet_kernel_init,\n",
    "                        use_bias=False)(x)\n",
    "        \n",
    "        x_out = z + x\n",
    "        return x_out"
   ]
  },
  {
   "cell_type": "code",
   "execution_count": 45,
   "metadata": {},
   "outputs": [
    {
     "name": "stdout",
     "output_type": "stream",
     "text": [
      "Out (8, 32, 32, 16)\n"
     ]
    }
   ],
   "source": [
    "## Test ResNetBlock implementation\n",
    "# Example features as input\n",
    "main_rng, x_rng = random.split(main_rng)\n",
    "x = random.normal(x_rng, (8, 32, 32, 16))\n",
    "# Create ResNet block\n",
    "block = PreActResNetBlock(act_fn=nn.relu, c_out=16)\n",
    "# Initialize parameters of ResNet block with random key and inputs\n",
    "main_rng, init_rng = random.split(main_rng)\n",
    "variables = block.init(init_rng, x, train=True)\n",
    "# Apply ResNet block with parameters on the inputs\n",
    "out, batch_stats = block.apply(variables, x, train=True, mutable=['batch_stats'])\n",
    "print('Out', out.shape)\n",
    "\n",
    "del block, variables"
   ]
  },
  {
   "cell_type": "markdown",
   "metadata": {},
   "source": [
    "The overall ResNet architecture consists of stacking multiple ResNet blocks, of which some are downsampling the input. When talking about ResNet blocks in the whole network, we usually group them by the same output shape. Hence, if we say the ResNet has `[3,3,3]` blocks, it means that we have 3 times a group of 3 ResNet blocks, where a subsampling is taking place in the fourth and seventh block. The ResNet with `[3,3,3]` blocks on CIFAR10 is visualized below.\n",
    "\n",
    "<center width=\"100%\"><img src=\"../../tutorial5/resnet_notation.svg\" width=\"500px\"></center>\n",
    "\n",
    "The three groups operate on the resolutions $32\\times32$, $16\\times16$ and $8\\times8$ respectively. The blocks in orange denote ResNet blocks with downsampling. The same notation is used by many other implementations such as in the [torchvision library](https://pytorch.org/docs/stable/_modules/torchvision/models/resnet.html#resnet18) from PyTorch or [flaxmodels](https://github.com/matthias-wright/flaxmodels) (pretrained ResNets and more for JAX). Thus, our code looks as follows:"
   ]
  },
  {
   "cell_type": "code",
   "execution_count": 46,
   "metadata": {},
   "outputs": [],
   "source": [
    "class ResNet(nn.Module):\n",
    "    num_classes : int\n",
    "    act_fn : callable\n",
    "    block_class : nn.Module\n",
    "    num_blocks : tuple = (3, 3, 3)\n",
    "    c_hidden : tuple = (16, 32, 64)\n",
    "        \n",
    "    @nn.compact\n",
    "    def __call__(self, x, train=True):\n",
    "        # A first convolution on the original image to scale up the channel size\n",
    "        x = nn.Conv(self.c_hidden[0], kernel_size=(3, 3), kernel_init=resnet_kernel_init, use_bias=False)(x)\n",
    "        if self.block_class == ResNetBlock:  # If pre-activation block, we do not apply non-linearities yet\n",
    "            x = nn.BatchNorm()(x, use_running_average=not train)\n",
    "            x = self.act_fn(x)\n",
    "        \n",
    "        # Creating the ResNet blocks\n",
    "        for block_idx, block_count in enumerate(self.num_blocks):\n",
    "            for bc in range(block_count):\n",
    "                # Subsample the first block of each group, except the very first one.\n",
    "                subsample = (bc == 0 and block_idx > 0)\n",
    "                # ResNet block\n",
    "                x = self.block_class(c_out=self.c_hidden[block_idx],\n",
    "                                     act_fn=self.act_fn,\n",
    "                                     subsample=subsample)(x, train=train)\n",
    "        \n",
    "        # Mapping to classification output\n",
    "        x = x.mean(axis=(1, 2))\n",
    "        x = nn.Dense(self.num_classes)(x)\n",
    "        return x"
   ]
  },
  {
   "cell_type": "code",
   "execution_count": 47,
   "metadata": {},
   "outputs": [
    {
     "name": "stdout",
     "output_type": "stream",
     "text": [
      "Out (8, 10)\n"
     ]
    }
   ],
   "source": [
    "## Test ResNet implementation\n",
    "# Example features as input\n",
    "main_rng, x_rng = random.split(main_rng)\n",
    "x = random.normal(x_rng, (8, 32, 32, 3))\n",
    "# Create ResNet\n",
    "network = ResNet(num_classes=10, act_fn=nn.relu, block_class=ResNetBlock)\n",
    "# Initialize parameters of ResNet with random key and inputs\n",
    "main_rng, init_rng = random.split(main_rng)\n",
    "variables = network.init(init_rng, x, train=True)\n",
    "# Apply ResNet with parameters on the inputs\n",
    "out, batch_stats = network.apply(variables, x, train=True, mutable=['batch_stats'])\n",
    "print('Out', out.shape)\n",
    "\n",
    "del network, variables"
   ]
  },
  {
   "cell_type": "markdown",
   "metadata": {},
   "source": [
    "Finally, we can train our ResNet models. One difference to the GoogleNet training is that we explicitly use SGD with Momentum as optimizer instead of Adam. Adam often leads to a slightly worse accuracy on plain, shallow ResNets. It is not 100% clear why Adam performs worse in this context, but one possible explanation is related to ResNet's loss surface. ResNet has been shown to produce smoother loss surfaces than networks without skip connection (see [Li et al., 2018](https://arxiv.org/pdf/1712.09913.pdf) for details). A possible visualization of the loss surface with/out skip connections is below (figure credit - [Li et al.](https://arxiv.org/pdf/1712.09913.pdf)):\n",
    "\n",
    "<center width=\"100%\"><img src=\"../../tutorial5/resnet_loss_surface.svg\" style=\"display: block; margin-left: auto; margin-right: auto;\" width=\"600px\"/></center>\n",
    "\n",
    "The $x$ and $y$ axis shows a projection of the parameter space, and the $z$ axis shows the loss values achieved by different parameter values. On smooth surfaces like the one on the right, we might not require an adaptive learning rate as Adam provides. Instead, Adam can get stuck in local optima while SGD finds the wider minima that tend to generalize better.\n",
    "However, to answer this question in detail, we would need an extra tutorial because it is not easy to answer. For now, we conclude: for ResNet architectures, consider the optimizer to be an important hyperparameter, and try training with both Adam and SGD. Let's train the model below with SGD:"
   ]
  },
  {
   "cell_type": "code",
   "execution_count": 48,
   "metadata": {},
   "outputs": [],
   "source": [
    "resnet_trainer, resnet_results = train_classifier(model_name=\"ResNet\", \n",
    "                                           model_class=ResNet,\n",
    "                                           model_hparams={\"num_classes\": 10,\n",
    "                                                          \"c_hidden\": (16,32,64),\n",
    "                                                          \"num_blocks\": (3,3,3),\n",
    "                                                          \"act_fn\": nn.relu,\n",
    "                                                          \"block_class\": ResNetBlock}, \n",
    "                                           optimizer_name=\"SGD\",\n",
    "                                           optimizer_hparams={\"lr\": 0.1,\n",
    "                                                              \"momentum\": 0.9,\n",
    "                                                              \"weight_decay\": 1e-4},\n",
    "                                                          exmp_imgs=jax.device_put(next(iter(train_loader))[0]),\n",
    "                                           num_epochs=200)"
   ]
  },
  {
   "cell_type": "markdown",
   "metadata": {},
   "source": [
    "Let's also train the pre-activation ResNet as comparison:"
   ]
  },
  {
   "cell_type": "code",
   "execution_count": 60,
   "metadata": {},
   "outputs": [
    {
     "data": {
      "application/vnd.jupyter.widget-view+json": {
       "model_id": "70a5d19a170348f4a316fbb25865047b",
       "version_major": 2,
       "version_minor": 0
      },
      "text/plain": [
       "  0%|          | 0/200 [00:00<?, ?it/s]"
      ]
     },
     "metadata": {},
     "output_type": "display_data"
    },
    {
     "data": {
      "application/vnd.jupyter.widget-view+json": {
       "model_id": "",
       "version_major": 2,
       "version_minor": 0
      },
      "text/plain": [
       "Training:   0%|          | 0/351 [00:00<?, ?it/s]"
      ]
     },
     "metadata": {},
     "output_type": "display_data"
    },
    {
     "data": {
      "application/vnd.jupyter.widget-view+json": {
       "model_id": "",
       "version_major": 2,
       "version_minor": 0
      },
      "text/plain": [
       "Training:   0%|          | 0/351 [00:00<?, ?it/s]"
      ]
     },
     "metadata": {},
     "output_type": "display_data"
    },
    {
     "data": {
      "application/vnd.jupyter.widget-view+json": {
       "model_id": "",
       "version_major": 2,
       "version_minor": 0
      },
      "text/plain": [
       "Training:   0%|          | 0/351 [00:00<?, ?it/s]"
      ]
     },
     "metadata": {},
     "output_type": "display_data"
    },
    {
     "data": {
      "application/vnd.jupyter.widget-view+json": {
       "model_id": "",
       "version_major": 2,
       "version_minor": 0
      },
      "text/plain": [
       "Training:   0%|          | 0/351 [00:00<?, ?it/s]"
      ]
     },
     "metadata": {},
     "output_type": "display_data"
    },
    {
     "data": {
      "application/vnd.jupyter.widget-view+json": {
       "model_id": "",
       "version_major": 2,
       "version_minor": 0
      },
      "text/plain": [
       "Training:   0%|          | 0/351 [00:00<?, ?it/s]"
      ]
     },
     "metadata": {},
     "output_type": "display_data"
    },
    {
     "data": {
      "application/vnd.jupyter.widget-view+json": {
       "model_id": "",
       "version_major": 2,
       "version_minor": 0
      },
      "text/plain": [
       "Training:   0%|          | 0/351 [00:00<?, ?it/s]"
      ]
     },
     "metadata": {},
     "output_type": "display_data"
    },
    {
     "data": {
      "application/vnd.jupyter.widget-view+json": {
       "model_id": "",
       "version_major": 2,
       "version_minor": 0
      },
      "text/plain": [
       "Training:   0%|          | 0/351 [00:00<?, ?it/s]"
      ]
     },
     "metadata": {},
     "output_type": "display_data"
    },
    {
     "data": {
      "application/vnd.jupyter.widget-view+json": {
       "model_id": "",
       "version_major": 2,
       "version_minor": 0
      },
      "text/plain": [
       "Training:   0%|          | 0/351 [00:00<?, ?it/s]"
      ]
     },
     "metadata": {},
     "output_type": "display_data"
    },
    {
     "data": {
      "application/vnd.jupyter.widget-view+json": {
       "model_id": "",
       "version_major": 2,
       "version_minor": 0
      },
      "text/plain": [
       "Training:   0%|          | 0/351 [00:00<?, ?it/s]"
      ]
     },
     "metadata": {},
     "output_type": "display_data"
    },
    {
     "data": {
      "application/vnd.jupyter.widget-view+json": {
       "model_id": "",
       "version_major": 2,
       "version_minor": 0
      },
      "text/plain": [
       "Training:   0%|          | 0/351 [00:00<?, ?it/s]"
      ]
     },
     "metadata": {},
     "output_type": "display_data"
    },
    {
     "data": {
      "application/vnd.jupyter.widget-view+json": {
       "model_id": "",
       "version_major": 2,
       "version_minor": 0
      },
      "text/plain": [
       "Training:   0%|          | 0/351 [00:00<?, ?it/s]"
      ]
     },
     "metadata": {},
     "output_type": "display_data"
    },
    {
     "data": {
      "application/vnd.jupyter.widget-view+json": {
       "model_id": "",
       "version_major": 2,
       "version_minor": 0
      },
      "text/plain": [
       "Training:   0%|          | 0/351 [00:00<?, ?it/s]"
      ]
     },
     "metadata": {},
     "output_type": "display_data"
    },
    {
     "data": {
      "application/vnd.jupyter.widget-view+json": {
       "model_id": "",
       "version_major": 2,
       "version_minor": 0
      },
      "text/plain": [
       "Training:   0%|          | 0/351 [00:00<?, ?it/s]"
      ]
     },
     "metadata": {},
     "output_type": "display_data"
    },
    {
     "data": {
      "application/vnd.jupyter.widget-view+json": {
       "model_id": "",
       "version_major": 2,
       "version_minor": 0
      },
      "text/plain": [
       "Training:   0%|          | 0/351 [00:00<?, ?it/s]"
      ]
     },
     "metadata": {},
     "output_type": "display_data"
    },
    {
     "data": {
      "application/vnd.jupyter.widget-view+json": {
       "model_id": "",
       "version_major": 2,
       "version_minor": 0
      },
      "text/plain": [
       "Training:   0%|          | 0/351 [00:00<?, ?it/s]"
      ]
     },
     "metadata": {},
     "output_type": "display_data"
    },
    {
     "data": {
      "application/vnd.jupyter.widget-view+json": {
       "model_id": "",
       "version_major": 2,
       "version_minor": 0
      },
      "text/plain": [
       "Training:   0%|          | 0/351 [00:00<?, ?it/s]"
      ]
     },
     "metadata": {},
     "output_type": "display_data"
    },
    {
     "data": {
      "application/vnd.jupyter.widget-view+json": {
       "model_id": "",
       "version_major": 2,
       "version_minor": 0
      },
      "text/plain": [
       "Training:   0%|          | 0/351 [00:00<?, ?it/s]"
      ]
     },
     "metadata": {},
     "output_type": "display_data"
    },
    {
     "data": {
      "application/vnd.jupyter.widget-view+json": {
       "model_id": "",
       "version_major": 2,
       "version_minor": 0
      },
      "text/plain": [
       "Training:   0%|          | 0/351 [00:00<?, ?it/s]"
      ]
     },
     "metadata": {},
     "output_type": "display_data"
    },
    {
     "data": {
      "application/vnd.jupyter.widget-view+json": {
       "model_id": "",
       "version_major": 2,
       "version_minor": 0
      },
      "text/plain": [
       "Training:   0%|          | 0/351 [00:00<?, ?it/s]"
      ]
     },
     "metadata": {},
     "output_type": "display_data"
    },
    {
     "data": {
      "application/vnd.jupyter.widget-view+json": {
       "model_id": "",
       "version_major": 2,
       "version_minor": 0
      },
      "text/plain": [
       "Training:   0%|          | 0/351 [00:00<?, ?it/s]"
      ]
     },
     "metadata": {},
     "output_type": "display_data"
    },
    {
     "data": {
      "application/vnd.jupyter.widget-view+json": {
       "model_id": "",
       "version_major": 2,
       "version_minor": 0
      },
      "text/plain": [
       "Training:   0%|          | 0/351 [00:00<?, ?it/s]"
      ]
     },
     "metadata": {},
     "output_type": "display_data"
    },
    {
     "data": {
      "application/vnd.jupyter.widget-view+json": {
       "model_id": "",
       "version_major": 2,
       "version_minor": 0
      },
      "text/plain": [
       "Training:   0%|          | 0/351 [00:00<?, ?it/s]"
      ]
     },
     "metadata": {},
     "output_type": "display_data"
    },
    {
     "data": {
      "application/vnd.jupyter.widget-view+json": {
       "model_id": "",
       "version_major": 2,
       "version_minor": 0
      },
      "text/plain": [
       "Training:   0%|          | 0/351 [00:00<?, ?it/s]"
      ]
     },
     "metadata": {},
     "output_type": "display_data"
    },
    {
     "data": {
      "application/vnd.jupyter.widget-view+json": {
       "model_id": "",
       "version_major": 2,
       "version_minor": 0
      },
      "text/plain": [
       "Training:   0%|          | 0/351 [00:00<?, ?it/s]"
      ]
     },
     "metadata": {},
     "output_type": "display_data"
    },
    {
     "data": {
      "application/vnd.jupyter.widget-view+json": {
       "model_id": "",
       "version_major": 2,
       "version_minor": 0
      },
      "text/plain": [
       "Training:   0%|          | 0/351 [00:00<?, ?it/s]"
      ]
     },
     "metadata": {},
     "output_type": "display_data"
    },
    {
     "data": {
      "application/vnd.jupyter.widget-view+json": {
       "model_id": "",
       "version_major": 2,
       "version_minor": 0
      },
      "text/plain": [
       "Training:   0%|          | 0/351 [00:00<?, ?it/s]"
      ]
     },
     "metadata": {},
     "output_type": "display_data"
    },
    {
     "data": {
      "application/vnd.jupyter.widget-view+json": {
       "model_id": "",
       "version_major": 2,
       "version_minor": 0
      },
      "text/plain": [
       "Training:   0%|          | 0/351 [00:00<?, ?it/s]"
      ]
     },
     "metadata": {},
     "output_type": "display_data"
    },
    {
     "data": {
      "application/vnd.jupyter.widget-view+json": {
       "model_id": "",
       "version_major": 2,
       "version_minor": 0
      },
      "text/plain": [
       "Training:   0%|          | 0/351 [00:00<?, ?it/s]"
      ]
     },
     "metadata": {},
     "output_type": "display_data"
    },
    {
     "data": {
      "application/vnd.jupyter.widget-view+json": {
       "model_id": "",
       "version_major": 2,
       "version_minor": 0
      },
      "text/plain": [
       "Training:   0%|          | 0/351 [00:00<?, ?it/s]"
      ]
     },
     "metadata": {},
     "output_type": "display_data"
    },
    {
     "data": {
      "application/vnd.jupyter.widget-view+json": {
       "model_id": "",
       "version_major": 2,
       "version_minor": 0
      },
      "text/plain": [
       "Training:   0%|          | 0/351 [00:00<?, ?it/s]"
      ]
     },
     "metadata": {},
     "output_type": "display_data"
    },
    {
     "data": {
      "application/vnd.jupyter.widget-view+json": {
       "model_id": "",
       "version_major": 2,
       "version_minor": 0
      },
      "text/plain": [
       "Training:   0%|          | 0/351 [00:00<?, ?it/s]"
      ]
     },
     "metadata": {},
     "output_type": "display_data"
    },
    {
     "data": {
      "application/vnd.jupyter.widget-view+json": {
       "model_id": "",
       "version_major": 2,
       "version_minor": 0
      },
      "text/plain": [
       "Training:   0%|          | 0/351 [00:00<?, ?it/s]"
      ]
     },
     "metadata": {},
     "output_type": "display_data"
    },
    {
     "data": {
      "application/vnd.jupyter.widget-view+json": {
       "model_id": "",
       "version_major": 2,
       "version_minor": 0
      },
      "text/plain": [
       "Training:   0%|          | 0/351 [00:00<?, ?it/s]"
      ]
     },
     "metadata": {},
     "output_type": "display_data"
    },
    {
     "data": {
      "application/vnd.jupyter.widget-view+json": {
       "model_id": "",
       "version_major": 2,
       "version_minor": 0
      },
      "text/plain": [
       "Training:   0%|          | 0/351 [00:00<?, ?it/s]"
      ]
     },
     "metadata": {},
     "output_type": "display_data"
    },
    {
     "data": {
      "application/vnd.jupyter.widget-view+json": {
       "model_id": "",
       "version_major": 2,
       "version_minor": 0
      },
      "text/plain": [
       "Training:   0%|          | 0/351 [00:00<?, ?it/s]"
      ]
     },
     "metadata": {},
     "output_type": "display_data"
    },
    {
     "data": {
      "application/vnd.jupyter.widget-view+json": {
       "model_id": "",
       "version_major": 2,
       "version_minor": 0
      },
      "text/plain": [
       "Training:   0%|          | 0/351 [00:00<?, ?it/s]"
      ]
     },
     "metadata": {},
     "output_type": "display_data"
    },
    {
     "data": {
      "application/vnd.jupyter.widget-view+json": {
       "model_id": "",
       "version_major": 2,
       "version_minor": 0
      },
      "text/plain": [
       "Training:   0%|          | 0/351 [00:00<?, ?it/s]"
      ]
     },
     "metadata": {},
     "output_type": "display_data"
    },
    {
     "data": {
      "application/vnd.jupyter.widget-view+json": {
       "model_id": "",
       "version_major": 2,
       "version_minor": 0
      },
      "text/plain": [
       "Training:   0%|          | 0/351 [00:00<?, ?it/s]"
      ]
     },
     "metadata": {},
     "output_type": "display_data"
    },
    {
     "data": {
      "application/vnd.jupyter.widget-view+json": {
       "model_id": "",
       "version_major": 2,
       "version_minor": 0
      },
      "text/plain": [
       "Training:   0%|          | 0/351 [00:00<?, ?it/s]"
      ]
     },
     "metadata": {},
     "output_type": "display_data"
    },
    {
     "data": {
      "application/vnd.jupyter.widget-view+json": {
       "model_id": "",
       "version_major": 2,
       "version_minor": 0
      },
      "text/plain": [
       "Training:   0%|          | 0/351 [00:00<?, ?it/s]"
      ]
     },
     "metadata": {},
     "output_type": "display_data"
    },
    {
     "data": {
      "application/vnd.jupyter.widget-view+json": {
       "model_id": "",
       "version_major": 2,
       "version_minor": 0
      },
      "text/plain": [
       "Training:   0%|          | 0/351 [00:00<?, ?it/s]"
      ]
     },
     "metadata": {},
     "output_type": "display_data"
    },
    {
     "data": {
      "application/vnd.jupyter.widget-view+json": {
       "model_id": "",
       "version_major": 2,
       "version_minor": 0
      },
      "text/plain": [
       "Training:   0%|          | 0/351 [00:00<?, ?it/s]"
      ]
     },
     "metadata": {},
     "output_type": "display_data"
    },
    {
     "data": {
      "application/vnd.jupyter.widget-view+json": {
       "model_id": "",
       "version_major": 2,
       "version_minor": 0
      },
      "text/plain": [
       "Training:   0%|          | 0/351 [00:00<?, ?it/s]"
      ]
     },
     "metadata": {},
     "output_type": "display_data"
    },
    {
     "data": {
      "application/vnd.jupyter.widget-view+json": {
       "model_id": "",
       "version_major": 2,
       "version_minor": 0
      },
      "text/plain": [
       "Training:   0%|          | 0/351 [00:00<?, ?it/s]"
      ]
     },
     "metadata": {},
     "output_type": "display_data"
    },
    {
     "data": {
      "application/vnd.jupyter.widget-view+json": {
       "model_id": "",
       "version_major": 2,
       "version_minor": 0
      },
      "text/plain": [
       "Training:   0%|          | 0/351 [00:00<?, ?it/s]"
      ]
     },
     "metadata": {},
     "output_type": "display_data"
    },
    {
     "data": {
      "application/vnd.jupyter.widget-view+json": {
       "model_id": "",
       "version_major": 2,
       "version_minor": 0
      },
      "text/plain": [
       "Training:   0%|          | 0/351 [00:00<?, ?it/s]"
      ]
     },
     "metadata": {},
     "output_type": "display_data"
    },
    {
     "data": {
      "application/vnd.jupyter.widget-view+json": {
       "model_id": "",
       "version_major": 2,
       "version_minor": 0
      },
      "text/plain": [
       "Training:   0%|          | 0/351 [00:00<?, ?it/s]"
      ]
     },
     "metadata": {},
     "output_type": "display_data"
    },
    {
     "data": {
      "application/vnd.jupyter.widget-view+json": {
       "model_id": "",
       "version_major": 2,
       "version_minor": 0
      },
      "text/plain": [
       "Training:   0%|          | 0/351 [00:00<?, ?it/s]"
      ]
     },
     "metadata": {},
     "output_type": "display_data"
    },
    {
     "data": {
      "application/vnd.jupyter.widget-view+json": {
       "model_id": "",
       "version_major": 2,
       "version_minor": 0
      },
      "text/plain": [
       "Training:   0%|          | 0/351 [00:00<?, ?it/s]"
      ]
     },
     "metadata": {},
     "output_type": "display_data"
    },
    {
     "data": {
      "application/vnd.jupyter.widget-view+json": {
       "model_id": "",
       "version_major": 2,
       "version_minor": 0
      },
      "text/plain": [
       "Training:   0%|          | 0/351 [00:00<?, ?it/s]"
      ]
     },
     "metadata": {},
     "output_type": "display_data"
    },
    {
     "data": {
      "application/vnd.jupyter.widget-view+json": {
       "model_id": "",
       "version_major": 2,
       "version_minor": 0
      },
      "text/plain": [
       "Training:   0%|          | 0/351 [00:00<?, ?it/s]"
      ]
     },
     "metadata": {},
     "output_type": "display_data"
    },
    {
     "data": {
      "application/vnd.jupyter.widget-view+json": {
       "model_id": "",
       "version_major": 2,
       "version_minor": 0
      },
      "text/plain": [
       "Training:   0%|          | 0/351 [00:00<?, ?it/s]"
      ]
     },
     "metadata": {},
     "output_type": "display_data"
    },
    {
     "data": {
      "application/vnd.jupyter.widget-view+json": {
       "model_id": "",
       "version_major": 2,
       "version_minor": 0
      },
      "text/plain": [
       "Training:   0%|          | 0/351 [00:00<?, ?it/s]"
      ]
     },
     "metadata": {},
     "output_type": "display_data"
    },
    {
     "data": {
      "application/vnd.jupyter.widget-view+json": {
       "model_id": "",
       "version_major": 2,
       "version_minor": 0
      },
      "text/plain": [
       "Training:   0%|          | 0/351 [00:00<?, ?it/s]"
      ]
     },
     "metadata": {},
     "output_type": "display_data"
    },
    {
     "data": {
      "application/vnd.jupyter.widget-view+json": {
       "model_id": "",
       "version_major": 2,
       "version_minor": 0
      },
      "text/plain": [
       "Training:   0%|          | 0/351 [00:00<?, ?it/s]"
      ]
     },
     "metadata": {},
     "output_type": "display_data"
    },
    {
     "data": {
      "application/vnd.jupyter.widget-view+json": {
       "model_id": "",
       "version_major": 2,
       "version_minor": 0
      },
      "text/plain": [
       "Training:   0%|          | 0/351 [00:00<?, ?it/s]"
      ]
     },
     "metadata": {},
     "output_type": "display_data"
    },
    {
     "data": {
      "application/vnd.jupyter.widget-view+json": {
       "model_id": "",
       "version_major": 2,
       "version_minor": 0
      },
      "text/plain": [
       "Training:   0%|          | 0/351 [00:00<?, ?it/s]"
      ]
     },
     "metadata": {},
     "output_type": "display_data"
    },
    {
     "data": {
      "application/vnd.jupyter.widget-view+json": {
       "model_id": "",
       "version_major": 2,
       "version_minor": 0
      },
      "text/plain": [
       "Training:   0%|          | 0/351 [00:00<?, ?it/s]"
      ]
     },
     "metadata": {},
     "output_type": "display_data"
    },
    {
     "data": {
      "application/vnd.jupyter.widget-view+json": {
       "model_id": "",
       "version_major": 2,
       "version_minor": 0
      },
      "text/plain": [
       "Training:   0%|          | 0/351 [00:00<?, ?it/s]"
      ]
     },
     "metadata": {},
     "output_type": "display_data"
    },
    {
     "data": {
      "application/vnd.jupyter.widget-view+json": {
       "model_id": "",
       "version_major": 2,
       "version_minor": 0
      },
      "text/plain": [
       "Training:   0%|          | 0/351 [00:00<?, ?it/s]"
      ]
     },
     "metadata": {},
     "output_type": "display_data"
    },
    {
     "data": {
      "application/vnd.jupyter.widget-view+json": {
       "model_id": "",
       "version_major": 2,
       "version_minor": 0
      },
      "text/plain": [
       "Training:   0%|          | 0/351 [00:00<?, ?it/s]"
      ]
     },
     "metadata": {},
     "output_type": "display_data"
    },
    {
     "data": {
      "application/vnd.jupyter.widget-view+json": {
       "model_id": "",
       "version_major": 2,
       "version_minor": 0
      },
      "text/plain": [
       "Training:   0%|          | 0/351 [00:00<?, ?it/s]"
      ]
     },
     "metadata": {},
     "output_type": "display_data"
    },
    {
     "data": {
      "application/vnd.jupyter.widget-view+json": {
       "model_id": "",
       "version_major": 2,
       "version_minor": 0
      },
      "text/plain": [
       "Training:   0%|          | 0/351 [00:00<?, ?it/s]"
      ]
     },
     "metadata": {},
     "output_type": "display_data"
    },
    {
     "data": {
      "application/vnd.jupyter.widget-view+json": {
       "model_id": "",
       "version_major": 2,
       "version_minor": 0
      },
      "text/plain": [
       "Training:   0%|          | 0/351 [00:00<?, ?it/s]"
      ]
     },
     "metadata": {},
     "output_type": "display_data"
    },
    {
     "data": {
      "application/vnd.jupyter.widget-view+json": {
       "model_id": "",
       "version_major": 2,
       "version_minor": 0
      },
      "text/plain": [
       "Training:   0%|          | 0/351 [00:00<?, ?it/s]"
      ]
     },
     "metadata": {},
     "output_type": "display_data"
    },
    {
     "data": {
      "application/vnd.jupyter.widget-view+json": {
       "model_id": "",
       "version_major": 2,
       "version_minor": 0
      },
      "text/plain": [
       "Training:   0%|          | 0/351 [00:00<?, ?it/s]"
      ]
     },
     "metadata": {},
     "output_type": "display_data"
    },
    {
     "data": {
      "application/vnd.jupyter.widget-view+json": {
       "model_id": "",
       "version_major": 2,
       "version_minor": 0
      },
      "text/plain": [
       "Training:   0%|          | 0/351 [00:00<?, ?it/s]"
      ]
     },
     "metadata": {},
     "output_type": "display_data"
    },
    {
     "data": {
      "application/vnd.jupyter.widget-view+json": {
       "model_id": "",
       "version_major": 2,
       "version_minor": 0
      },
      "text/plain": [
       "Training:   0%|          | 0/351 [00:00<?, ?it/s]"
      ]
     },
     "metadata": {},
     "output_type": "display_data"
    },
    {
     "data": {
      "application/vnd.jupyter.widget-view+json": {
       "model_id": "",
       "version_major": 2,
       "version_minor": 0
      },
      "text/plain": [
       "Training:   0%|          | 0/351 [00:00<?, ?it/s]"
      ]
     },
     "metadata": {},
     "output_type": "display_data"
    },
    {
     "data": {
      "application/vnd.jupyter.widget-view+json": {
       "model_id": "",
       "version_major": 2,
       "version_minor": 0
      },
      "text/plain": [
       "Training:   0%|          | 0/351 [00:00<?, ?it/s]"
      ]
     },
     "metadata": {},
     "output_type": "display_data"
    },
    {
     "data": {
      "application/vnd.jupyter.widget-view+json": {
       "model_id": "",
       "version_major": 2,
       "version_minor": 0
      },
      "text/plain": [
       "Training:   0%|          | 0/351 [00:00<?, ?it/s]"
      ]
     },
     "metadata": {},
     "output_type": "display_data"
    },
    {
     "data": {
      "application/vnd.jupyter.widget-view+json": {
       "model_id": "",
       "version_major": 2,
       "version_minor": 0
      },
      "text/plain": [
       "Training:   0%|          | 0/351 [00:00<?, ?it/s]"
      ]
     },
     "metadata": {},
     "output_type": "display_data"
    },
    {
     "data": {
      "application/vnd.jupyter.widget-view+json": {
       "model_id": "",
       "version_major": 2,
       "version_minor": 0
      },
      "text/plain": [
       "Training:   0%|          | 0/351 [00:00<?, ?it/s]"
      ]
     },
     "metadata": {},
     "output_type": "display_data"
    },
    {
     "data": {
      "application/vnd.jupyter.widget-view+json": {
       "model_id": "",
       "version_major": 2,
       "version_minor": 0
      },
      "text/plain": [
       "Training:   0%|          | 0/351 [00:00<?, ?it/s]"
      ]
     },
     "metadata": {},
     "output_type": "display_data"
    },
    {
     "data": {
      "application/vnd.jupyter.widget-view+json": {
       "model_id": "",
       "version_major": 2,
       "version_minor": 0
      },
      "text/plain": [
       "Training:   0%|          | 0/351 [00:00<?, ?it/s]"
      ]
     },
     "metadata": {},
     "output_type": "display_data"
    },
    {
     "data": {
      "application/vnd.jupyter.widget-view+json": {
       "model_id": "",
       "version_major": 2,
       "version_minor": 0
      },
      "text/plain": [
       "Training:   0%|          | 0/351 [00:00<?, ?it/s]"
      ]
     },
     "metadata": {},
     "output_type": "display_data"
    },
    {
     "data": {
      "application/vnd.jupyter.widget-view+json": {
       "model_id": "",
       "version_major": 2,
       "version_minor": 0
      },
      "text/plain": [
       "Training:   0%|          | 0/351 [00:00<?, ?it/s]"
      ]
     },
     "metadata": {},
     "output_type": "display_data"
    },
    {
     "data": {
      "application/vnd.jupyter.widget-view+json": {
       "model_id": "",
       "version_major": 2,
       "version_minor": 0
      },
      "text/plain": [
       "Training:   0%|          | 0/351 [00:00<?, ?it/s]"
      ]
     },
     "metadata": {},
     "output_type": "display_data"
    },
    {
     "data": {
      "application/vnd.jupyter.widget-view+json": {
       "model_id": "",
       "version_major": 2,
       "version_minor": 0
      },
      "text/plain": [
       "Training:   0%|          | 0/351 [00:00<?, ?it/s]"
      ]
     },
     "metadata": {},
     "output_type": "display_data"
    },
    {
     "data": {
      "application/vnd.jupyter.widget-view+json": {
       "model_id": "",
       "version_major": 2,
       "version_minor": 0
      },
      "text/plain": [
       "Training:   0%|          | 0/351 [00:00<?, ?it/s]"
      ]
     },
     "metadata": {},
     "output_type": "display_data"
    },
    {
     "data": {
      "application/vnd.jupyter.widget-view+json": {
       "model_id": "",
       "version_major": 2,
       "version_minor": 0
      },
      "text/plain": [
       "Training:   0%|          | 0/351 [00:00<?, ?it/s]"
      ]
     },
     "metadata": {},
     "output_type": "display_data"
    },
    {
     "data": {
      "application/vnd.jupyter.widget-view+json": {
       "model_id": "",
       "version_major": 2,
       "version_minor": 0
      },
      "text/plain": [
       "Training:   0%|          | 0/351 [00:00<?, ?it/s]"
      ]
     },
     "metadata": {},
     "output_type": "display_data"
    },
    {
     "data": {
      "application/vnd.jupyter.widget-view+json": {
       "model_id": "",
       "version_major": 2,
       "version_minor": 0
      },
      "text/plain": [
       "Training:   0%|          | 0/351 [00:00<?, ?it/s]"
      ]
     },
     "metadata": {},
     "output_type": "display_data"
    },
    {
     "data": {
      "application/vnd.jupyter.widget-view+json": {
       "model_id": "",
       "version_major": 2,
       "version_minor": 0
      },
      "text/plain": [
       "Training:   0%|          | 0/351 [00:00<?, ?it/s]"
      ]
     },
     "metadata": {},
     "output_type": "display_data"
    },
    {
     "data": {
      "application/vnd.jupyter.widget-view+json": {
       "model_id": "",
       "version_major": 2,
       "version_minor": 0
      },
      "text/plain": [
       "Training:   0%|          | 0/351 [00:00<?, ?it/s]"
      ]
     },
     "metadata": {},
     "output_type": "display_data"
    },
    {
     "data": {
      "application/vnd.jupyter.widget-view+json": {
       "model_id": "",
       "version_major": 2,
       "version_minor": 0
      },
      "text/plain": [
       "Training:   0%|          | 0/351 [00:00<?, ?it/s]"
      ]
     },
     "metadata": {},
     "output_type": "display_data"
    },
    {
     "data": {
      "application/vnd.jupyter.widget-view+json": {
       "model_id": "",
       "version_major": 2,
       "version_minor": 0
      },
      "text/plain": [
       "Training:   0%|          | 0/351 [00:00<?, ?it/s]"
      ]
     },
     "metadata": {},
     "output_type": "display_data"
    },
    {
     "data": {
      "application/vnd.jupyter.widget-view+json": {
       "model_id": "",
       "version_major": 2,
       "version_minor": 0
      },
      "text/plain": [
       "Training:   0%|          | 0/351 [00:00<?, ?it/s]"
      ]
     },
     "metadata": {},
     "output_type": "display_data"
    },
    {
     "data": {
      "application/vnd.jupyter.widget-view+json": {
       "model_id": "",
       "version_major": 2,
       "version_minor": 0
      },
      "text/plain": [
       "Training:   0%|          | 0/351 [00:00<?, ?it/s]"
      ]
     },
     "metadata": {},
     "output_type": "display_data"
    },
    {
     "data": {
      "application/vnd.jupyter.widget-view+json": {
       "model_id": "",
       "version_major": 2,
       "version_minor": 0
      },
      "text/plain": [
       "Training:   0%|          | 0/351 [00:00<?, ?it/s]"
      ]
     },
     "metadata": {},
     "output_type": "display_data"
    },
    {
     "data": {
      "application/vnd.jupyter.widget-view+json": {
       "model_id": "",
       "version_major": 2,
       "version_minor": 0
      },
      "text/plain": [
       "Training:   0%|          | 0/351 [00:00<?, ?it/s]"
      ]
     },
     "metadata": {},
     "output_type": "display_data"
    },
    {
     "data": {
      "application/vnd.jupyter.widget-view+json": {
       "model_id": "",
       "version_major": 2,
       "version_minor": 0
      },
      "text/plain": [
       "Training:   0%|          | 0/351 [00:00<?, ?it/s]"
      ]
     },
     "metadata": {},
     "output_type": "display_data"
    },
    {
     "data": {
      "application/vnd.jupyter.widget-view+json": {
       "model_id": "",
       "version_major": 2,
       "version_minor": 0
      },
      "text/plain": [
       "Training:   0%|          | 0/351 [00:00<?, ?it/s]"
      ]
     },
     "metadata": {},
     "output_type": "display_data"
    },
    {
     "data": {
      "application/vnd.jupyter.widget-view+json": {
       "model_id": "",
       "version_major": 2,
       "version_minor": 0
      },
      "text/plain": [
       "Training:   0%|          | 0/351 [00:00<?, ?it/s]"
      ]
     },
     "metadata": {},
     "output_type": "display_data"
    },
    {
     "data": {
      "application/vnd.jupyter.widget-view+json": {
       "model_id": "",
       "version_major": 2,
       "version_minor": 0
      },
      "text/plain": [
       "Training:   0%|          | 0/351 [00:00<?, ?it/s]"
      ]
     },
     "metadata": {},
     "output_type": "display_data"
    },
    {
     "data": {
      "application/vnd.jupyter.widget-view+json": {
       "model_id": "",
       "version_major": 2,
       "version_minor": 0
      },
      "text/plain": [
       "Training:   0%|          | 0/351 [00:00<?, ?it/s]"
      ]
     },
     "metadata": {},
     "output_type": "display_data"
    },
    {
     "data": {
      "application/vnd.jupyter.widget-view+json": {
       "model_id": "",
       "version_major": 2,
       "version_minor": 0
      },
      "text/plain": [
       "Training:   0%|          | 0/351 [00:00<?, ?it/s]"
      ]
     },
     "metadata": {},
     "output_type": "display_data"
    },
    {
     "data": {
      "application/vnd.jupyter.widget-view+json": {
       "model_id": "",
       "version_major": 2,
       "version_minor": 0
      },
      "text/plain": [
       "Training:   0%|          | 0/351 [00:00<?, ?it/s]"
      ]
     },
     "metadata": {},
     "output_type": "display_data"
    },
    {
     "data": {
      "application/vnd.jupyter.widget-view+json": {
       "model_id": "",
       "version_major": 2,
       "version_minor": 0
      },
      "text/plain": [
       "Training:   0%|          | 0/351 [00:00<?, ?it/s]"
      ]
     },
     "metadata": {},
     "output_type": "display_data"
    },
    {
     "data": {
      "application/vnd.jupyter.widget-view+json": {
       "model_id": "",
       "version_major": 2,
       "version_minor": 0
      },
      "text/plain": [
       "Training:   0%|          | 0/351 [00:00<?, ?it/s]"
      ]
     },
     "metadata": {},
     "output_type": "display_data"
    },
    {
     "data": {
      "application/vnd.jupyter.widget-view+json": {
       "model_id": "",
       "version_major": 2,
       "version_minor": 0
      },
      "text/plain": [
       "Training:   0%|          | 0/351 [00:00<?, ?it/s]"
      ]
     },
     "metadata": {},
     "output_type": "display_data"
    },
    {
     "data": {
      "application/vnd.jupyter.widget-view+json": {
       "model_id": "",
       "version_major": 2,
       "version_minor": 0
      },
      "text/plain": [
       "Training:   0%|          | 0/351 [00:00<?, ?it/s]"
      ]
     },
     "metadata": {},
     "output_type": "display_data"
    },
    {
     "data": {
      "application/vnd.jupyter.widget-view+json": {
       "model_id": "",
       "version_major": 2,
       "version_minor": 0
      },
      "text/plain": [
       "Training:   0%|          | 0/351 [00:00<?, ?it/s]"
      ]
     },
     "metadata": {},
     "output_type": "display_data"
    },
    {
     "data": {
      "application/vnd.jupyter.widget-view+json": {
       "model_id": "",
       "version_major": 2,
       "version_minor": 0
      },
      "text/plain": [
       "Training:   0%|          | 0/351 [00:00<?, ?it/s]"
      ]
     },
     "metadata": {},
     "output_type": "display_data"
    },
    {
     "data": {
      "application/vnd.jupyter.widget-view+json": {
       "model_id": "",
       "version_major": 2,
       "version_minor": 0
      },
      "text/plain": [
       "Training:   0%|          | 0/351 [00:00<?, ?it/s]"
      ]
     },
     "metadata": {},
     "output_type": "display_data"
    },
    {
     "data": {
      "application/vnd.jupyter.widget-view+json": {
       "model_id": "",
       "version_major": 2,
       "version_minor": 0
      },
      "text/plain": [
       "Training:   0%|          | 0/351 [00:00<?, ?it/s]"
      ]
     },
     "metadata": {},
     "output_type": "display_data"
    },
    {
     "data": {
      "application/vnd.jupyter.widget-view+json": {
       "model_id": "",
       "version_major": 2,
       "version_minor": 0
      },
      "text/plain": [
       "Training:   0%|          | 0/351 [00:00<?, ?it/s]"
      ]
     },
     "metadata": {},
     "output_type": "display_data"
    },
    {
     "data": {
      "application/vnd.jupyter.widget-view+json": {
       "model_id": "",
       "version_major": 2,
       "version_minor": 0
      },
      "text/plain": [
       "Training:   0%|          | 0/351 [00:00<?, ?it/s]"
      ]
     },
     "metadata": {},
     "output_type": "display_data"
    },
    {
     "data": {
      "application/vnd.jupyter.widget-view+json": {
       "model_id": "",
       "version_major": 2,
       "version_minor": 0
      },
      "text/plain": [
       "Training:   0%|          | 0/351 [00:00<?, ?it/s]"
      ]
     },
     "metadata": {},
     "output_type": "display_data"
    },
    {
     "data": {
      "application/vnd.jupyter.widget-view+json": {
       "model_id": "",
       "version_major": 2,
       "version_minor": 0
      },
      "text/plain": [
       "Training:   0%|          | 0/351 [00:00<?, ?it/s]"
      ]
     },
     "metadata": {},
     "output_type": "display_data"
    },
    {
     "data": {
      "application/vnd.jupyter.widget-view+json": {
       "model_id": "",
       "version_major": 2,
       "version_minor": 0
      },
      "text/plain": [
       "Training:   0%|          | 0/351 [00:00<?, ?it/s]"
      ]
     },
     "metadata": {},
     "output_type": "display_data"
    },
    {
     "data": {
      "application/vnd.jupyter.widget-view+json": {
       "model_id": "",
       "version_major": 2,
       "version_minor": 0
      },
      "text/plain": [
       "Training:   0%|          | 0/351 [00:00<?, ?it/s]"
      ]
     },
     "metadata": {},
     "output_type": "display_data"
    },
    {
     "data": {
      "application/vnd.jupyter.widget-view+json": {
       "model_id": "",
       "version_major": 2,
       "version_minor": 0
      },
      "text/plain": [
       "Training:   0%|          | 0/351 [00:00<?, ?it/s]"
      ]
     },
     "metadata": {},
     "output_type": "display_data"
    },
    {
     "data": {
      "application/vnd.jupyter.widget-view+json": {
       "model_id": "",
       "version_major": 2,
       "version_minor": 0
      },
      "text/plain": [
       "Training:   0%|          | 0/351 [00:00<?, ?it/s]"
      ]
     },
     "metadata": {},
     "output_type": "display_data"
    },
    {
     "data": {
      "application/vnd.jupyter.widget-view+json": {
       "model_id": "",
       "version_major": 2,
       "version_minor": 0
      },
      "text/plain": [
       "Training:   0%|          | 0/351 [00:00<?, ?it/s]"
      ]
     },
     "metadata": {},
     "output_type": "display_data"
    },
    {
     "data": {
      "application/vnd.jupyter.widget-view+json": {
       "model_id": "",
       "version_major": 2,
       "version_minor": 0
      },
      "text/plain": [
       "Training:   0%|          | 0/351 [00:00<?, ?it/s]"
      ]
     },
     "metadata": {},
     "output_type": "display_data"
    },
    {
     "data": {
      "application/vnd.jupyter.widget-view+json": {
       "model_id": "",
       "version_major": 2,
       "version_minor": 0
      },
      "text/plain": [
       "Training:   0%|          | 0/351 [00:00<?, ?it/s]"
      ]
     },
     "metadata": {},
     "output_type": "display_data"
    },
    {
     "data": {
      "application/vnd.jupyter.widget-view+json": {
       "model_id": "",
       "version_major": 2,
       "version_minor": 0
      },
      "text/plain": [
       "Training:   0%|          | 0/351 [00:00<?, ?it/s]"
      ]
     },
     "metadata": {},
     "output_type": "display_data"
    },
    {
     "data": {
      "application/vnd.jupyter.widget-view+json": {
       "model_id": "",
       "version_major": 2,
       "version_minor": 0
      },
      "text/plain": [
       "Training:   0%|          | 0/351 [00:00<?, ?it/s]"
      ]
     },
     "metadata": {},
     "output_type": "display_data"
    },
    {
     "data": {
      "application/vnd.jupyter.widget-view+json": {
       "model_id": "",
       "version_major": 2,
       "version_minor": 0
      },
      "text/plain": [
       "Training:   0%|          | 0/351 [00:00<?, ?it/s]"
      ]
     },
     "metadata": {},
     "output_type": "display_data"
    },
    {
     "data": {
      "application/vnd.jupyter.widget-view+json": {
       "model_id": "",
       "version_major": 2,
       "version_minor": 0
      },
      "text/plain": [
       "Training:   0%|          | 0/351 [00:00<?, ?it/s]"
      ]
     },
     "metadata": {},
     "output_type": "display_data"
    },
    {
     "data": {
      "application/vnd.jupyter.widget-view+json": {
       "model_id": "",
       "version_major": 2,
       "version_minor": 0
      },
      "text/plain": [
       "Training:   0%|          | 0/351 [00:00<?, ?it/s]"
      ]
     },
     "metadata": {},
     "output_type": "display_data"
    },
    {
     "data": {
      "application/vnd.jupyter.widget-view+json": {
       "model_id": "",
       "version_major": 2,
       "version_minor": 0
      },
      "text/plain": [
       "Training:   0%|          | 0/351 [00:00<?, ?it/s]"
      ]
     },
     "metadata": {},
     "output_type": "display_data"
    },
    {
     "data": {
      "application/vnd.jupyter.widget-view+json": {
       "model_id": "",
       "version_major": 2,
       "version_minor": 0
      },
      "text/plain": [
       "Training:   0%|          | 0/351 [00:00<?, ?it/s]"
      ]
     },
     "metadata": {},
     "output_type": "display_data"
    },
    {
     "data": {
      "application/vnd.jupyter.widget-view+json": {
       "model_id": "",
       "version_major": 2,
       "version_minor": 0
      },
      "text/plain": [
       "Training:   0%|          | 0/351 [00:00<?, ?it/s]"
      ]
     },
     "metadata": {},
     "output_type": "display_data"
    },
    {
     "data": {
      "application/vnd.jupyter.widget-view+json": {
       "model_id": "",
       "version_major": 2,
       "version_minor": 0
      },
      "text/plain": [
       "Training:   0%|          | 0/351 [00:00<?, ?it/s]"
      ]
     },
     "metadata": {},
     "output_type": "display_data"
    },
    {
     "data": {
      "application/vnd.jupyter.widget-view+json": {
       "model_id": "",
       "version_major": 2,
       "version_minor": 0
      },
      "text/plain": [
       "Training:   0%|          | 0/351 [00:00<?, ?it/s]"
      ]
     },
     "metadata": {},
     "output_type": "display_data"
    },
    {
     "data": {
      "application/vnd.jupyter.widget-view+json": {
       "model_id": "",
       "version_major": 2,
       "version_minor": 0
      },
      "text/plain": [
       "Training:   0%|          | 0/351 [00:00<?, ?it/s]"
      ]
     },
     "metadata": {},
     "output_type": "display_data"
    },
    {
     "data": {
      "application/vnd.jupyter.widget-view+json": {
       "model_id": "",
       "version_major": 2,
       "version_minor": 0
      },
      "text/plain": [
       "Training:   0%|          | 0/351 [00:00<?, ?it/s]"
      ]
     },
     "metadata": {},
     "output_type": "display_data"
    },
    {
     "data": {
      "application/vnd.jupyter.widget-view+json": {
       "model_id": "",
       "version_major": 2,
       "version_minor": 0
      },
      "text/plain": [
       "Training:   0%|          | 0/351 [00:00<?, ?it/s]"
      ]
     },
     "metadata": {},
     "output_type": "display_data"
    },
    {
     "data": {
      "application/vnd.jupyter.widget-view+json": {
       "model_id": "",
       "version_major": 2,
       "version_minor": 0
      },
      "text/plain": [
       "Training:   0%|          | 0/351 [00:00<?, ?it/s]"
      ]
     },
     "metadata": {},
     "output_type": "display_data"
    },
    {
     "data": {
      "application/vnd.jupyter.widget-view+json": {
       "model_id": "",
       "version_major": 2,
       "version_minor": 0
      },
      "text/plain": [
       "Training:   0%|          | 0/351 [00:00<?, ?it/s]"
      ]
     },
     "metadata": {},
     "output_type": "display_data"
    },
    {
     "data": {
      "application/vnd.jupyter.widget-view+json": {
       "model_id": "",
       "version_major": 2,
       "version_minor": 0
      },
      "text/plain": [
       "Training:   0%|          | 0/351 [00:00<?, ?it/s]"
      ]
     },
     "metadata": {},
     "output_type": "display_data"
    },
    {
     "data": {
      "application/vnd.jupyter.widget-view+json": {
       "model_id": "",
       "version_major": 2,
       "version_minor": 0
      },
      "text/plain": [
       "Training:   0%|          | 0/351 [00:00<?, ?it/s]"
      ]
     },
     "metadata": {},
     "output_type": "display_data"
    },
    {
     "data": {
      "application/vnd.jupyter.widget-view+json": {
       "model_id": "",
       "version_major": 2,
       "version_minor": 0
      },
      "text/plain": [
       "Training:   0%|          | 0/351 [00:00<?, ?it/s]"
      ]
     },
     "metadata": {},
     "output_type": "display_data"
    },
    {
     "data": {
      "application/vnd.jupyter.widget-view+json": {
       "model_id": "",
       "version_major": 2,
       "version_minor": 0
      },
      "text/plain": [
       "Training:   0%|          | 0/351 [00:00<?, ?it/s]"
      ]
     },
     "metadata": {},
     "output_type": "display_data"
    },
    {
     "data": {
      "application/vnd.jupyter.widget-view+json": {
       "model_id": "",
       "version_major": 2,
       "version_minor": 0
      },
      "text/plain": [
       "Training:   0%|          | 0/351 [00:00<?, ?it/s]"
      ]
     },
     "metadata": {},
     "output_type": "display_data"
    },
    {
     "data": {
      "application/vnd.jupyter.widget-view+json": {
       "model_id": "",
       "version_major": 2,
       "version_minor": 0
      },
      "text/plain": [
       "Training:   0%|          | 0/351 [00:00<?, ?it/s]"
      ]
     },
     "metadata": {},
     "output_type": "display_data"
    },
    {
     "data": {
      "application/vnd.jupyter.widget-view+json": {
       "model_id": "",
       "version_major": 2,
       "version_minor": 0
      },
      "text/plain": [
       "Training:   0%|          | 0/351 [00:00<?, ?it/s]"
      ]
     },
     "metadata": {},
     "output_type": "display_data"
    },
    {
     "data": {
      "application/vnd.jupyter.widget-view+json": {
       "model_id": "",
       "version_major": 2,
       "version_minor": 0
      },
      "text/plain": [
       "Training:   0%|          | 0/351 [00:00<?, ?it/s]"
      ]
     },
     "metadata": {},
     "output_type": "display_data"
    },
    {
     "data": {
      "application/vnd.jupyter.widget-view+json": {
       "model_id": "",
       "version_major": 2,
       "version_minor": 0
      },
      "text/plain": [
       "Training:   0%|          | 0/351 [00:00<?, ?it/s]"
      ]
     },
     "metadata": {},
     "output_type": "display_data"
    },
    {
     "data": {
      "application/vnd.jupyter.widget-view+json": {
       "model_id": "",
       "version_major": 2,
       "version_minor": 0
      },
      "text/plain": [
       "Training:   0%|          | 0/351 [00:00<?, ?it/s]"
      ]
     },
     "metadata": {},
     "output_type": "display_data"
    },
    {
     "data": {
      "application/vnd.jupyter.widget-view+json": {
       "model_id": "",
       "version_major": 2,
       "version_minor": 0
      },
      "text/plain": [
       "Training:   0%|          | 0/351 [00:00<?, ?it/s]"
      ]
     },
     "metadata": {},
     "output_type": "display_data"
    },
    {
     "data": {
      "application/vnd.jupyter.widget-view+json": {
       "model_id": "",
       "version_major": 2,
       "version_minor": 0
      },
      "text/plain": [
       "Training:   0%|          | 0/351 [00:00<?, ?it/s]"
      ]
     },
     "metadata": {},
     "output_type": "display_data"
    },
    {
     "data": {
      "application/vnd.jupyter.widget-view+json": {
       "model_id": "",
       "version_major": 2,
       "version_minor": 0
      },
      "text/plain": [
       "Training:   0%|          | 0/351 [00:00<?, ?it/s]"
      ]
     },
     "metadata": {},
     "output_type": "display_data"
    },
    {
     "data": {
      "application/vnd.jupyter.widget-view+json": {
       "model_id": "",
       "version_major": 2,
       "version_minor": 0
      },
      "text/plain": [
       "Training:   0%|          | 0/351 [00:00<?, ?it/s]"
      ]
     },
     "metadata": {},
     "output_type": "display_data"
    },
    {
     "data": {
      "application/vnd.jupyter.widget-view+json": {
       "model_id": "",
       "version_major": 2,
       "version_minor": 0
      },
      "text/plain": [
       "Training:   0%|          | 0/351 [00:00<?, ?it/s]"
      ]
     },
     "metadata": {},
     "output_type": "display_data"
    },
    {
     "data": {
      "application/vnd.jupyter.widget-view+json": {
       "model_id": "",
       "version_major": 2,
       "version_minor": 0
      },
      "text/plain": [
       "Training:   0%|          | 0/351 [00:00<?, ?it/s]"
      ]
     },
     "metadata": {},
     "output_type": "display_data"
    },
    {
     "data": {
      "application/vnd.jupyter.widget-view+json": {
       "model_id": "",
       "version_major": 2,
       "version_minor": 0
      },
      "text/plain": [
       "Training:   0%|          | 0/351 [00:00<?, ?it/s]"
      ]
     },
     "metadata": {},
     "output_type": "display_data"
    },
    {
     "data": {
      "application/vnd.jupyter.widget-view+json": {
       "model_id": "",
       "version_major": 2,
       "version_minor": 0
      },
      "text/plain": [
       "Training:   0%|          | 0/351 [00:00<?, ?it/s]"
      ]
     },
     "metadata": {},
     "output_type": "display_data"
    },
    {
     "data": {
      "application/vnd.jupyter.widget-view+json": {
       "model_id": "",
       "version_major": 2,
       "version_minor": 0
      },
      "text/plain": [
       "Training:   0%|          | 0/351 [00:00<?, ?it/s]"
      ]
     },
     "metadata": {},
     "output_type": "display_data"
    },
    {
     "data": {
      "application/vnd.jupyter.widget-view+json": {
       "model_id": "",
       "version_major": 2,
       "version_minor": 0
      },
      "text/plain": [
       "Training:   0%|          | 0/351 [00:00<?, ?it/s]"
      ]
     },
     "metadata": {},
     "output_type": "display_data"
    },
    {
     "data": {
      "application/vnd.jupyter.widget-view+json": {
       "model_id": "",
       "version_major": 2,
       "version_minor": 0
      },
      "text/plain": [
       "Training:   0%|          | 0/351 [00:00<?, ?it/s]"
      ]
     },
     "metadata": {},
     "output_type": "display_data"
    },
    {
     "data": {
      "application/vnd.jupyter.widget-view+json": {
       "model_id": "",
       "version_major": 2,
       "version_minor": 0
      },
      "text/plain": [
       "Training:   0%|          | 0/351 [00:00<?, ?it/s]"
      ]
     },
     "metadata": {},
     "output_type": "display_data"
    },
    {
     "data": {
      "application/vnd.jupyter.widget-view+json": {
       "model_id": "",
       "version_major": 2,
       "version_minor": 0
      },
      "text/plain": [
       "Training:   0%|          | 0/351 [00:00<?, ?it/s]"
      ]
     },
     "metadata": {},
     "output_type": "display_data"
    },
    {
     "data": {
      "application/vnd.jupyter.widget-view+json": {
       "model_id": "",
       "version_major": 2,
       "version_minor": 0
      },
      "text/plain": [
       "Training:   0%|          | 0/351 [00:00<?, ?it/s]"
      ]
     },
     "metadata": {},
     "output_type": "display_data"
    },
    {
     "data": {
      "application/vnd.jupyter.widget-view+json": {
       "model_id": "",
       "version_major": 2,
       "version_minor": 0
      },
      "text/plain": [
       "Training:   0%|          | 0/351 [00:00<?, ?it/s]"
      ]
     },
     "metadata": {},
     "output_type": "display_data"
    },
    {
     "data": {
      "application/vnd.jupyter.widget-view+json": {
       "model_id": "",
       "version_major": 2,
       "version_minor": 0
      },
      "text/plain": [
       "Training:   0%|          | 0/351 [00:00<?, ?it/s]"
      ]
     },
     "metadata": {},
     "output_type": "display_data"
    },
    {
     "data": {
      "application/vnd.jupyter.widget-view+json": {
       "model_id": "",
       "version_major": 2,
       "version_minor": 0
      },
      "text/plain": [
       "Training:   0%|          | 0/351 [00:00<?, ?it/s]"
      ]
     },
     "metadata": {},
     "output_type": "display_data"
    },
    {
     "data": {
      "application/vnd.jupyter.widget-view+json": {
       "model_id": "",
       "version_major": 2,
       "version_minor": 0
      },
      "text/plain": [
       "Training:   0%|          | 0/351 [00:00<?, ?it/s]"
      ]
     },
     "metadata": {},
     "output_type": "display_data"
    },
    {
     "data": {
      "application/vnd.jupyter.widget-view+json": {
       "model_id": "",
       "version_major": 2,
       "version_minor": 0
      },
      "text/plain": [
       "Training:   0%|          | 0/351 [00:00<?, ?it/s]"
      ]
     },
     "metadata": {},
     "output_type": "display_data"
    },
    {
     "data": {
      "application/vnd.jupyter.widget-view+json": {
       "model_id": "",
       "version_major": 2,
       "version_minor": 0
      },
      "text/plain": [
       "Training:   0%|          | 0/351 [00:00<?, ?it/s]"
      ]
     },
     "metadata": {},
     "output_type": "display_data"
    },
    {
     "data": {
      "application/vnd.jupyter.widget-view+json": {
       "model_id": "",
       "version_major": 2,
       "version_minor": 0
      },
      "text/plain": [
       "Training:   0%|          | 0/351 [00:00<?, ?it/s]"
      ]
     },
     "metadata": {},
     "output_type": "display_data"
    },
    {
     "data": {
      "application/vnd.jupyter.widget-view+json": {
       "model_id": "",
       "version_major": 2,
       "version_minor": 0
      },
      "text/plain": [
       "Training:   0%|          | 0/351 [00:00<?, ?it/s]"
      ]
     },
     "metadata": {},
     "output_type": "display_data"
    },
    {
     "data": {
      "application/vnd.jupyter.widget-view+json": {
       "model_id": "",
       "version_major": 2,
       "version_minor": 0
      },
      "text/plain": [
       "Training:   0%|          | 0/351 [00:00<?, ?it/s]"
      ]
     },
     "metadata": {},
     "output_type": "display_data"
    },
    {
     "data": {
      "application/vnd.jupyter.widget-view+json": {
       "model_id": "",
       "version_major": 2,
       "version_minor": 0
      },
      "text/plain": [
       "Training:   0%|          | 0/351 [00:00<?, ?it/s]"
      ]
     },
     "metadata": {},
     "output_type": "display_data"
    },
    {
     "data": {
      "application/vnd.jupyter.widget-view+json": {
       "model_id": "",
       "version_major": 2,
       "version_minor": 0
      },
      "text/plain": [
       "Training:   0%|          | 0/351 [00:00<?, ?it/s]"
      ]
     },
     "metadata": {},
     "output_type": "display_data"
    },
    {
     "data": {
      "application/vnd.jupyter.widget-view+json": {
       "model_id": "",
       "version_major": 2,
       "version_minor": 0
      },
      "text/plain": [
       "Training:   0%|          | 0/351 [00:00<?, ?it/s]"
      ]
     },
     "metadata": {},
     "output_type": "display_data"
    },
    {
     "data": {
      "application/vnd.jupyter.widget-view+json": {
       "model_id": "",
       "version_major": 2,
       "version_minor": 0
      },
      "text/plain": [
       "Training:   0%|          | 0/351 [00:00<?, ?it/s]"
      ]
     },
     "metadata": {},
     "output_type": "display_data"
    },
    {
     "data": {
      "application/vnd.jupyter.widget-view+json": {
       "model_id": "",
       "version_major": 2,
       "version_minor": 0
      },
      "text/plain": [
       "Training:   0%|          | 0/351 [00:00<?, ?it/s]"
      ]
     },
     "metadata": {},
     "output_type": "display_data"
    },
    {
     "data": {
      "application/vnd.jupyter.widget-view+json": {
       "model_id": "",
       "version_major": 2,
       "version_minor": 0
      },
      "text/plain": [
       "Training:   0%|          | 0/351 [00:00<?, ?it/s]"
      ]
     },
     "metadata": {},
     "output_type": "display_data"
    },
    {
     "data": {
      "application/vnd.jupyter.widget-view+json": {
       "model_id": "",
       "version_major": 2,
       "version_minor": 0
      },
      "text/plain": [
       "Training:   0%|          | 0/351 [00:00<?, ?it/s]"
      ]
     },
     "metadata": {},
     "output_type": "display_data"
    },
    {
     "data": {
      "application/vnd.jupyter.widget-view+json": {
       "model_id": "",
       "version_major": 2,
       "version_minor": 0
      },
      "text/plain": [
       "Training:   0%|          | 0/351 [00:00<?, ?it/s]"
      ]
     },
     "metadata": {},
     "output_type": "display_data"
    },
    {
     "data": {
      "application/vnd.jupyter.widget-view+json": {
       "model_id": "",
       "version_major": 2,
       "version_minor": 0
      },
      "text/plain": [
       "Training:   0%|          | 0/351 [00:00<?, ?it/s]"
      ]
     },
     "metadata": {},
     "output_type": "display_data"
    },
    {
     "data": {
      "application/vnd.jupyter.widget-view+json": {
       "model_id": "",
       "version_major": 2,
       "version_minor": 0
      },
      "text/plain": [
       "Training:   0%|          | 0/351 [00:00<?, ?it/s]"
      ]
     },
     "metadata": {},
     "output_type": "display_data"
    },
    {
     "data": {
      "application/vnd.jupyter.widget-view+json": {
       "model_id": "",
       "version_major": 2,
       "version_minor": 0
      },
      "text/plain": [
       "Training:   0%|          | 0/351 [00:00<?, ?it/s]"
      ]
     },
     "metadata": {},
     "output_type": "display_data"
    },
    {
     "data": {
      "application/vnd.jupyter.widget-view+json": {
       "model_id": "",
       "version_major": 2,
       "version_minor": 0
      },
      "text/plain": [
       "Training:   0%|          | 0/351 [00:00<?, ?it/s]"
      ]
     },
     "metadata": {},
     "output_type": "display_data"
    },
    {
     "data": {
      "application/vnd.jupyter.widget-view+json": {
       "model_id": "",
       "version_major": 2,
       "version_minor": 0
      },
      "text/plain": [
       "Training:   0%|          | 0/351 [00:00<?, ?it/s]"
      ]
     },
     "metadata": {},
     "output_type": "display_data"
    },
    {
     "data": {
      "application/vnd.jupyter.widget-view+json": {
       "model_id": "",
       "version_major": 2,
       "version_minor": 0
      },
      "text/plain": [
       "Training:   0%|          | 0/351 [00:00<?, ?it/s]"
      ]
     },
     "metadata": {},
     "output_type": "display_data"
    },
    {
     "data": {
      "application/vnd.jupyter.widget-view+json": {
       "model_id": "",
       "version_major": 2,
       "version_minor": 0
      },
      "text/plain": [
       "Training:   0%|          | 0/351 [00:00<?, ?it/s]"
      ]
     },
     "metadata": {},
     "output_type": "display_data"
    },
    {
     "data": {
      "application/vnd.jupyter.widget-view+json": {
       "model_id": "",
       "version_major": 2,
       "version_minor": 0
      },
      "text/plain": [
       "Training:   0%|          | 0/351 [00:00<?, ?it/s]"
      ]
     },
     "metadata": {},
     "output_type": "display_data"
    },
    {
     "data": {
      "application/vnd.jupyter.widget-view+json": {
       "model_id": "",
       "version_major": 2,
       "version_minor": 0
      },
      "text/plain": [
       "Training:   0%|          | 0/351 [00:00<?, ?it/s]"
      ]
     },
     "metadata": {},
     "output_type": "display_data"
    },
    {
     "data": {
      "application/vnd.jupyter.widget-view+json": {
       "model_id": "",
       "version_major": 2,
       "version_minor": 0
      },
      "text/plain": [
       "Training:   0%|          | 0/351 [00:00<?, ?it/s]"
      ]
     },
     "metadata": {},
     "output_type": "display_data"
    },
    {
     "data": {
      "application/vnd.jupyter.widget-view+json": {
       "model_id": "",
       "version_major": 2,
       "version_minor": 0
      },
      "text/plain": [
       "Training:   0%|          | 0/351 [00:00<?, ?it/s]"
      ]
     },
     "metadata": {},
     "output_type": "display_data"
    },
    {
     "data": {
      "application/vnd.jupyter.widget-view+json": {
       "model_id": "",
       "version_major": 2,
       "version_minor": 0
      },
      "text/plain": [
       "Training:   0%|          | 0/351 [00:00<?, ?it/s]"
      ]
     },
     "metadata": {},
     "output_type": "display_data"
    },
    {
     "data": {
      "application/vnd.jupyter.widget-view+json": {
       "model_id": "",
       "version_major": 2,
       "version_minor": 0
      },
      "text/plain": [
       "Training:   0%|          | 0/351 [00:00<?, ?it/s]"
      ]
     },
     "metadata": {},
     "output_type": "display_data"
    },
    {
     "data": {
      "application/vnd.jupyter.widget-view+json": {
       "model_id": "",
       "version_major": 2,
       "version_minor": 0
      },
      "text/plain": [
       "Training:   0%|          | 0/351 [00:00<?, ?it/s]"
      ]
     },
     "metadata": {},
     "output_type": "display_data"
    },
    {
     "data": {
      "application/vnd.jupyter.widget-view+json": {
       "model_id": "",
       "version_major": 2,
       "version_minor": 0
      },
      "text/plain": [
       "Training:   0%|          | 0/351 [00:00<?, ?it/s]"
      ]
     },
     "metadata": {},
     "output_type": "display_data"
    },
    {
     "data": {
      "application/vnd.jupyter.widget-view+json": {
       "model_id": "",
       "version_major": 2,
       "version_minor": 0
      },
      "text/plain": [
       "Training:   0%|          | 0/351 [00:00<?, ?it/s]"
      ]
     },
     "metadata": {},
     "output_type": "display_data"
    },
    {
     "data": {
      "application/vnd.jupyter.widget-view+json": {
       "model_id": "",
       "version_major": 2,
       "version_minor": 0
      },
      "text/plain": [
       "Training:   0%|          | 0/351 [00:00<?, ?it/s]"
      ]
     },
     "metadata": {},
     "output_type": "display_data"
    },
    {
     "data": {
      "application/vnd.jupyter.widget-view+json": {
       "model_id": "",
       "version_major": 2,
       "version_minor": 0
      },
      "text/plain": [
       "Training:   0%|          | 0/351 [00:00<?, ?it/s]"
      ]
     },
     "metadata": {},
     "output_type": "display_data"
    },
    {
     "data": {
      "application/vnd.jupyter.widget-view+json": {
       "model_id": "",
       "version_major": 2,
       "version_minor": 0
      },
      "text/plain": [
       "Training:   0%|          | 0/351 [00:00<?, ?it/s]"
      ]
     },
     "metadata": {},
     "output_type": "display_data"
    },
    {
     "data": {
      "application/vnd.jupyter.widget-view+json": {
       "model_id": "",
       "version_major": 2,
       "version_minor": 0
      },
      "text/plain": [
       "Training:   0%|          | 0/351 [00:00<?, ?it/s]"
      ]
     },
     "metadata": {},
     "output_type": "display_data"
    },
    {
     "data": {
      "application/vnd.jupyter.widget-view+json": {
       "model_id": "",
       "version_major": 2,
       "version_minor": 0
      },
      "text/plain": [
       "Training:   0%|          | 0/351 [00:00<?, ?it/s]"
      ]
     },
     "metadata": {},
     "output_type": "display_data"
    },
    {
     "data": {
      "application/vnd.jupyter.widget-view+json": {
       "model_id": "",
       "version_major": 2,
       "version_minor": 0
      },
      "text/plain": [
       "Training:   0%|          | 0/351 [00:00<?, ?it/s]"
      ]
     },
     "metadata": {},
     "output_type": "display_data"
    },
    {
     "data": {
      "application/vnd.jupyter.widget-view+json": {
       "model_id": "",
       "version_major": 2,
       "version_minor": 0
      },
      "text/plain": [
       "Training:   0%|          | 0/351 [00:00<?, ?it/s]"
      ]
     },
     "metadata": {},
     "output_type": "display_data"
    },
    {
     "data": {
      "application/vnd.jupyter.widget-view+json": {
       "model_id": "",
       "version_major": 2,
       "version_minor": 0
      },
      "text/plain": [
       "Training:   0%|          | 0/351 [00:00<?, ?it/s]"
      ]
     },
     "metadata": {},
     "output_type": "display_data"
    },
    {
     "data": {
      "application/vnd.jupyter.widget-view+json": {
       "model_id": "",
       "version_major": 2,
       "version_minor": 0
      },
      "text/plain": [
       "Training:   0%|          | 0/351 [00:00<?, ?it/s]"
      ]
     },
     "metadata": {},
     "output_type": "display_data"
    },
    {
     "data": {
      "application/vnd.jupyter.widget-view+json": {
       "model_id": "",
       "version_major": 2,
       "version_minor": 0
      },
      "text/plain": [
       "Training:   0%|          | 0/351 [00:00<?, ?it/s]"
      ]
     },
     "metadata": {},
     "output_type": "display_data"
    },
    {
     "data": {
      "application/vnd.jupyter.widget-view+json": {
       "model_id": "",
       "version_major": 2,
       "version_minor": 0
      },
      "text/plain": [
       "Training:   0%|          | 0/351 [00:00<?, ?it/s]"
      ]
     },
     "metadata": {},
     "output_type": "display_data"
    }
   ],
   "source": [
    "resnetpreact_trainer, resnetpreact_results = train_classifier(model_name=\"PreActResNet\", \n",
    "                                           model_class=ResNet,\n",
    "                                           model_hparams={\"num_classes\": 10,\n",
    "                                                          \"c_hidden\": (16,32,64),\n",
    "                                                          \"num_blocks\": (3,3,3),\n",
    "                                                          \"act_fn\": nn.relu,\n",
    "                                                          \"block_class\": PreActResNetBlock}, \n",
    "                                                       optimizer_name=\"SGD\",\n",
    "                                                       optimizer_hparams={\"lr\": 0.1,\n",
    "                                                                          \"momentum\": 0.9,\n",
    "                                                                          \"weight_decay\": 1e-4},\n",
    "                                                          exmp_imgs=jax.device_put(next(iter(train_loader))[0]),\n",
    "                                           num_epochs=200, seed=123)"
   ]
  },
  {
   "cell_type": "markdown",
   "metadata": {},
   "source": [
    "### Tensorboard log\n",
    "\n",
    "Similarly to our GoogleNet model, we also have a TensorBoard log for the ResNet model. We can open it below."
   ]
  },
  {
   "cell_type": "code",
   "execution_count": 50,
   "metadata": {},
   "outputs": [],
   "source": [
    "# Opens tensorboard in notebook. Adjust the path to your CHECKPOINT_PATH! Feel free to change \"ResNet\" to \"ResNetPreAct\"\n",
    "# %tensorboard --logdir ../saved_models/tutorial5/tensorboards/ResNet/"
   ]
  },
  {
   "cell_type": "markdown",
   "metadata": {},
   "source": [
    "<center width=\"100%\"><img src=\"../../tutorial5/tensorboard_screenshot_ResNet.png\" width=\"1000px\"></center>\n",
    "\n",
    "Feel free to explore the TensorBoard yourself, including the computation graph. In general, we can see that with SGD, the ResNet has a higher training loss than the GoogleNet in the first stage of the training. After reducing the learning rate however, the model achieves even higher validation accuracies. We compare the precise scores at the end of the notebook."
   ]
  },
  {
   "cell_type": "markdown",
   "metadata": {},
   "source": [
    "## DenseNet\n",
    "\n",
    "[DenseNet](https://arxiv.org/abs/1608.06993) is another architecture for enabling very deep neural networks and takes a slightly different perspective on residual connections. Instead of modeling the difference between layers, DenseNet considers residual connections as a possible way to reuse features across layers, removing any necessity to learn redundant feature maps. If we go deeper into the network, the model learns abstract features to recognize patterns. However, some complex patterns consist of a combination of abstract features (e.g. hand, face, etc.), and low-level features (e.g. edges, basic color, etc.). To find these low-level features in the deep layers, standard CNNs have to learn copy such feature maps, which wastes a lot of parameter complexity. DenseNet provides an efficient way of reusing features by having each convolution depends on all previous input features, but add only a small amount of filters to it. See the figure below for an illustration (figure credit - [Hu et al.](https://arxiv.org/abs/1608.06993)):\n",
    "\n",
    "<center width=\"100%\"><img src=\"../../tutorial5/densenet_block.svg\" style=\"display: block; margin-left: auto; margin-right: auto;\" width=\"500px\"/></center>\n",
    "\n",
    "The last layer, called the transition layer, is responsible for reducing the dimensionality of the feature maps in height, width, and channel size. Although those technically break the identity backpropagation, there are only a few in a network so that it doesn't affect the gradient flow much. \n",
    "\n",
    "We split the implementation of the layers in DenseNet into three parts: a `DenseLayer`, and a `DenseBlock`, and a `TransitionLayer`. The module `DenseLayer` implements a single layer inside a dense block. It applies a 1x1 convolution for dimensionality reduction with a subsequential 3x3 convolution. The output channels are concatenated to the originals and returned. Note that we apply the Batch Normalization as the first layer of each block. This allows slightly different activations for the same features to different layers, depending on what is needed. Overall, we can implement it as follows:"
   ]
  },
  {
   "cell_type": "code",
   "execution_count": 51,
   "metadata": {},
   "outputs": [],
   "source": [
    "densenet_kernel_init = nn.initializers.kaiming_normal()\n",
    "\n",
    "class DenseLayer(nn.Module):\n",
    "    bn_size : int  # Bottleneck size (factor of growth rate) for the output of the 1x1 convolution\n",
    "    growth_rate : int  # Number of output channels of the 3x3 convolution\n",
    "    act_fn : callable  # Activation function\n",
    "        \n",
    "    @nn.compact\n",
    "    def __call__(self, x, train=True):\n",
    "        z = nn.BatchNorm()(x, use_running_average=not train)\n",
    "        z = self.act_fn(z)\n",
    "        z = nn.Conv(self.bn_size * self.growth_rate, \n",
    "                    kernel_size=(1, 1), \n",
    "                    kernel_init=densenet_kernel_init, \n",
    "                    use_bias=False)(z)\n",
    "        z = nn.BatchNorm()(z, use_running_average=not train)\n",
    "        z = self.act_fn(z)\n",
    "        z = nn.Conv(self.growth_rate, \n",
    "                    kernel_size=(3, 3), \n",
    "                    kernel_init=densenet_kernel_init, \n",
    "                    use_bias=False)(z)\n",
    "        x_out = jnp.concatenate([x, z], axis=-1)\n",
    "        return x_out"
   ]
  },
  {
   "cell_type": "code",
   "execution_count": 52,
   "metadata": {},
   "outputs": [
    {
     "name": "stdout",
     "output_type": "stream",
     "text": [
      "Out (8, 32, 32, 24)\n"
     ]
    }
   ],
   "source": [
    "## Test DenseLayer implementation\n",
    "# Example features as input\n",
    "main_rng, x_rng = random.split(main_rng)\n",
    "x = random.normal(x_rng, (8, 32, 32, 16))\n",
    "# Create DenseLayer\n",
    "layer = DenseLayer(bn_size=2, growth_rate=8, act_fn=nn.relu)\n",
    "# Initialize parameters of DenseLayer with random key and inputs\n",
    "main_rng, init_rng = random.split(main_rng)\n",
    "variables = layer.init(init_rng, x, train=True)\n",
    "# Apply DenseLayer with parameters on the inputs\n",
    "out, batch_stats = layer.apply(variables, x, train=True, mutable=['batch_stats'])\n",
    "print('Out', out.shape)\n",
    "\n",
    "del layer, variables"
   ]
  },
  {
   "cell_type": "markdown",
   "metadata": {},
   "source": [
    "The module `DenseBlock` summarizes multiple dense layers applied in sequence. Each dense layer takes as input the original input concatenated with all previous layers' feature maps:"
   ]
  },
  {
   "cell_type": "code",
   "execution_count": 53,
   "metadata": {},
   "outputs": [],
   "source": [
    "class DenseBlock(nn.Module):\n",
    "    num_layers : int  # Number of dense layers to apply in the block\n",
    "    bn_size : int  # Bottleneck size to use in the dense layers\n",
    "    growth_rate : int  # Growth rate to use in the dense layers\n",
    "    act_fn : callable  # Activation function to use in the dense layers\n",
    "    \n",
    "    @nn.compact\n",
    "    def __call__(self, x, train=True):\n",
    "        for _ in range(self.num_layers):\n",
    "            x = DenseLayer(bn_size=self.bn_size,\n",
    "                           growth_rate=self.growth_rate,\n",
    "                           act_fn=self.act_fn)(x, train=train)\n",
    "        return x"
   ]
  },
  {
   "cell_type": "markdown",
   "metadata": {},
   "source": [
    "Finally, the `TransitionLayer` takes as input the final output of a dense block and reduces its channel dimensionality using a 1x1 convolution. To reduce the height and width dimension, we take a slightly different approach than in ResNet and apply an average pooling with kernel size 2 and stride 2. This is because we don't have an additional connection to the output that would consider the full 2x2 patch instead of a single value. Besides, it is more parameter efficient than using a 3x3 convolution with stride 2. Thus, the layer is implemented as follows:"
   ]
  },
  {
   "cell_type": "code",
   "execution_count": 54,
   "metadata": {},
   "outputs": [],
   "source": [
    "class TransitionLayer(nn.Module):\n",
    "    c_out : int  # Output feature size\n",
    "    act_fn : callable  # Activation function\n",
    "        \n",
    "    @nn.compact\n",
    "    def __call__(self, x, train=True):\n",
    "        x = nn.BatchNorm()(x, use_running_average=not train)\n",
    "        x = self.act_fn(x)\n",
    "        x = nn.Conv(self.c_out, \n",
    "                    kernel_size=(1, 1), \n",
    "                    kernel_init=densenet_kernel_init,\n",
    "                    use_bias=False)(x)\n",
    "        x = nn.avg_pool(x, (2, 2), strides=(2, 2))\n",
    "        return x"
   ]
  },
  {
   "cell_type": "markdown",
   "metadata": {},
   "source": [
    "Now we can put everything together and create our DenseNet. To specify the number of layers, we use a similar notation as in ResNets and pass on a list of ints representing the number of layers per block. After each dense block except the last one, we apply a transition layer to reduce the dimensionality by 2. "
   ]
  },
  {
   "cell_type": "code",
   "execution_count": 55,
   "metadata": {},
   "outputs": [],
   "source": [
    "class DenseNet(nn.Module):\n",
    "    num_classes : int\n",
    "    act_fn : callable = nn.relu\n",
    "    num_layers : tuple = (6, 6, 6, 6)\n",
    "    bn_size : int = 2\n",
    "    growth_rate : int = 16\n",
    "    \n",
    "    @nn.compact\n",
    "    def __call__(self, x, train=True):\n",
    "        c_hidden = self.growth_rate * self.bn_size  # The start number of hidden channels\n",
    "        \n",
    "        x = nn.Conv(c_hidden,\n",
    "                    kernel_size=(3, 3),\n",
    "                    kernel_init=densenet_kernel_init)(x)\n",
    "        \n",
    "        for block_idx, num_layers in enumerate(self.num_layers):\n",
    "            x = DenseBlock(num_layers=num_layers,\n",
    "                           bn_size=self.bn_size,\n",
    "                           growth_rate=self.growth_rate,\n",
    "                           act_fn=self.act_fn)(x, train=train)\n",
    "            c_hidden += num_layers * self.growth_rate\n",
    "            if block_idx < len(self.num_layers)-1:  # Don't apply transition layer on last block\n",
    "                x = TransitionLayer(c_out=c_hidden//2,\n",
    "                                    act_fn=self.act_fn)(x, train=train)\n",
    "                c_hidden //= 2\n",
    "        \n",
    "        x = nn.BatchNorm()(x, use_running_average=not train)\n",
    "        x = self.act_fn(x)\n",
    "        x = x.mean(axis=(1, 2))\n",
    "        x = nn.Dense(self.num_classes)(x)\n",
    "        return x"
   ]
  },
  {
   "cell_type": "markdown",
   "metadata": {},
   "source": [
    "Lastly, we train our network. In contrast to ResNet, DenseNet does not show any issues with Adam, and hence we train it with this optimizer. The other hyperparameters are chosen to result in a network with a similar parameter size as the ResNet and GoogleNet. Commonly, when designing very deep networks, DenseNet is more parameter efficient than ResNet while achieving a similar or even better performance."
   ]
  },
  {
   "cell_type": "code",
   "execution_count": 56,
   "metadata": {},
   "outputs": [],
   "source": [
    "densenet_trainer, densenet_results = train_classifier(model_name=\"DenseNet\", \n",
    "                                               model_class=DenseNet,\n",
    "                                               model_hparams={\"num_classes\": 10,\n",
    "                                                              \"num_layers\": [6,6,6,6],\n",
    "                                                              \"bn_size\": 2,\n",
    "                                                              \"growth_rate\": 16,\n",
    "                                                              \"act_fn\": nn.relu}, \n",
    "                                               optimizer_name=\"adamw\",\n",
    "                                               optimizer_hparams={\"lr\": 1e-3,\n",
    "                                                                  \"weight_decay\": 1e-4},\n",
    "                                                          exmp_imgs=jax.device_put(next(iter(train_loader))[0]),\n",
    "                                           num_epochs=200)"
   ]
  },
  {
   "cell_type": "markdown",
   "metadata": {},
   "source": [
    "### Tensorboard log\n",
    "\n",
    "Finally, we also have another TensorBoard for the DenseNet training. We take a look at it below:"
   ]
  },
  {
   "cell_type": "code",
   "execution_count": 57,
   "metadata": {
    "scrolled": false
   },
   "outputs": [],
   "source": [
    "# Opens tensorboard in notebook. Adjust the path to your CHECKPOINT_PATH! Feel free to change \"ResNet\" to \"ResNetPreAct\"\n",
    "# %tensorboard --logdir ../saved_models/tutorial5/tensorboards/DenseNet/"
   ]
  },
  {
   "cell_type": "markdown",
   "metadata": {},
   "source": [
    "<center width=\"100%\"><img src=\"../../tutorial5/tensorboard_screenshot_DenseNet.png\" width=\"1000px\"></center>\n",
    "\n",
    "The overall course of the validation accuracy and training loss resemble the training of GoogleNet, which is also related to training the network with Adam. Feel free to explore the training metrics yourself."
   ]
  },
  {
   "cell_type": "markdown",
   "metadata": {},
   "source": [
    "## Conclusion and Comparison\n",
    "\n",
    "After discussing each model separately, and training all of them, we can finally compare them. First, let's organize the results of all models in a table:"
   ]
  },
  {
   "cell_type": "code",
   "execution_count": 58,
   "metadata": {},
   "outputs": [
    {
     "data": {
      "text/html": [
       "<!-- Some HTML code to increase font size in the following table -->\n",
       "<style>\n",
       "th {font-size: 120%;}\n",
       "td {font-size: 120%;}\n",
       "</style>\n"
      ],
      "text/plain": [
       "<IPython.core.display.HTML object>"
      ]
     },
     "metadata": {},
     "output_type": "display_data"
    }
   ],
   "source": [
    "%%html\n",
    "<!-- Some HTML code to increase font size in the following table -->\n",
    "<style>\n",
    "th {font-size: 120%;}\n",
    "td {font-size: 120%;}\n",
    "</style>"
   ]
  },
  {
   "cell_type": "code",
   "execution_count": 61,
   "metadata": {},
   "outputs": [
    {
     "data": {
      "text/html": [
       "<table>\n",
       "<thead>\n",
       "<tr><th>Model       </th><th>Val Accuracy  </th><th>Test Accuracy  </th><th>Num Parameters  </th></tr>\n",
       "</thead>\n",
       "<tbody>\n",
       "<tr><td>GoogleNet   </td><td>90.22%        </td><td>89.12%         </td><td>259,338         </td></tr>\n",
       "<tr><td>ResNet      </td><td>91.84%        </td><td>91.00%         </td><td>272,378         </td></tr>\n",
       "<tr><td>ResNetPreAct</td><td>91.76%        </td><td>90.66%         </td><td>272,250         </td></tr>\n",
       "<tr><td>DenseNet    </td><td>90.62%        </td><td>90.43%         </td><td>239,146         </td></tr>\n",
       "</tbody>\n",
       "</table>"
      ],
      "text/plain": [
       "<IPython.core.display.HTML object>"
      ]
     },
     "metadata": {},
     "output_type": "display_data"
    }
   ],
   "source": [
    "import tabulate\n",
    "from IPython.display import display, HTML\n",
    "all_models = [\n",
    "    (\"GoogleNet\", googlenet_results, googlenet_trainer),\n",
    "    (\"ResNet\", resnet_results, resnet_trainer),\n",
    "    (\"ResNetPreAct\", resnetpreact_results, resnetpreact_trainer),\n",
    "    (\"DenseNet\", densenet_results, densenet_trainer)\n",
    "]\n",
    "table = [[model_name,\n",
    "          f\"{100.0*model_results['val']:4.2f}%\",\n",
    "          f\"{100.0*model_results['test']:4.2f}%\",\n",
    "          \"{:,}\".format(sum([np.prod(p.shape) for p in jax.tree_leaves(model.state.params)]))]\n",
    "         for model_name, model_results, model in all_models]\n",
    "display(HTML(tabulate.tabulate(table, tablefmt='html', headers=[\"Model\", \"Val Accuracy\", \"Test Accuracy\", \"Num Parameters\"])))"
   ]
  },
  {
   "cell_type": "markdown",
   "metadata": {},
   "source": [
    "First of all, we see that all models are performing reasonably well. Simple models as you have implemented them in the practical achieve considerably lower performance, which is beside the lower number of parameters also attributed to the architecture design choice. GoogleNet is the model to obtain the lowest performance on the validation and test set, although it is very close to DenseNet. A proper hyperparameter search over all the channel sizes in GoogleNet would likely improve the accuracy of the model to a similar level, but this is also expensive given a large number of hyperparameters. ResNet outperforms both DenseNet and GoogleNet by more than 1% on the validation set, while there is a minor difference between both versions, original and pre-activation. We can conclude that for shallow networks, the place of the activation function does not seem to be crucial, although papers have reported the contrary for very deep networks (e.g. [He et al.](https://arxiv.org/abs/1603.05027)). \n",
    "\n",
    "In general, we can conclude that ResNet is a simple, but powerful architecture. If we would apply the models on more complex tasks with larger images and more layers inside the networks, we would likely see a bigger gap between GoogleNet and skip-connection architectures like ResNet and DenseNet. A comparison with deeper models on CIFAR10 can be for example found [here](https://github.com/kuangliu/pytorch-cifar). Interestingly, DenseNet outperforms the original ResNet on their setup but comes closely behind the Pre-Activation ResNet. The best model, a Dual Path Network ([Chen et. al](https://arxiv.org/abs/1707.01629)), is actually a combination of ResNet and DenseNet showing that both offer different advantages."
   ]
  },
  {
   "cell_type": "markdown",
   "metadata": {},
   "source": [
    "### Which model should I choose for my task?\n",
    "\n",
    "We have reviewed four different models. So, which one should we choose if have given a new task? Usually, starting with a ResNet is a good idea given the superior performance of the CIFAR dataset and its simple implementation. Besides, for the parameter number we have chosen here, ResNet is the fastest as DenseNet and GoogleNet have many more layers that are applied in sequence in our primitive implementation. However, if you have a really difficult task, such as semantic segmentation on HD images, more complex variants of ResNet and DenseNet are recommended.  "
   ]
  },
  {
   "cell_type": "markdown",
   "metadata": {},
   "source": [
    "---\n",
    "\n",
    "[![Star our repository](https://img.shields.io/static/v1.svg?logo=star&label=⭐&message=Star%20Our%20Repository&color=yellow)](https://github.com/phlippe/uvadlc_notebooks/)  If you found this tutorial helpful, consider ⭐-ing our repository.    \n",
    "[![Ask questions](https://img.shields.io/static/v1.svg?logo=star&label=❔&message=Ask%20Questions&color=9cf)](https://github.com/phlippe/uvadlc_notebooks/issues)  For any questions, typos, or bugs that you found, please raise an issue on GitHub. \n",
    "\n",
    "---"
   ]
  }
 ],
 "metadata": {
  "kernelspec": {
   "display_name": "Python 3 (ipykernel)",
   "language": "python",
   "name": "python3"
  },
  "language_info": {
   "codemirror_mode": {
    "name": "ipython",
    "version": 3
   },
   "file_extension": ".py",
   "mimetype": "text/x-python",
   "name": "python",
   "nbconvert_exporter": "python",
   "pygments_lexer": "ipython3",
   "version": "3.8.2"
  }
 },
 "nbformat": 4,
 "nbformat_minor": 4
}
