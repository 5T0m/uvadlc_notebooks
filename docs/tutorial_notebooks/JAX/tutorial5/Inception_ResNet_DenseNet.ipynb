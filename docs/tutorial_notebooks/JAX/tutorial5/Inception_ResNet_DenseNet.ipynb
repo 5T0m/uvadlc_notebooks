{
 "cells": [
  {
   "cell_type": "markdown",
   "metadata": {},
   "source": [
    "# Tutorial 5 (JAX): Inception, ResNet and DenseNet\n",
    "\n",
    "![Status](https://img.shields.io/static/v1.svg?label=Status&message=Finished&color=green)\n",
    "\n",
    "\n",
    "**Filled notebook:** \n",
    "[![View on Github](https://img.shields.io/static/v1.svg?logo=github&label=Repo&message=View%20On%20Github&color=lightgrey)](https://github.com/phlippe/uvadlc_notebooks/blob/master/docs/tutorial_notebooks/JAX/tutorial5/Inception_ResNet_DenseNet.ipynb)\n",
    "[![Open In Collab](https://colab.research.google.com/assets/colab-badge.svg)](https://colab.research.google.com/github/phlippe/uvadlc_notebooks/blob/master/docs/tutorial_notebooks/JAX/tutorial5/Inception_ResNet_DenseNet.ipynb)   \n",
    "**Pre-trained models:** \n",
    "[![View files on Github](https://img.shields.io/static/v1.svg?logo=github&label=Repo&message=View%20On%20Github&color=lightgrey)](https://github.com/phlippe/saved_models/tree/main/JAX/tutorial5)   \n",
    "**PyTorch version:**\n",
    "[![View on RTD](https://img.shields.io/static/v1.svg?logo=readthedocs&label=RTD&message=View%20On%20RTD&color=8CA1AF)](https://uvadlc-notebooks.readthedocs.io/en/latest/tutorial_notebooks/tutorial5/Inception_ResNet_DenseNet.html)   \n",
    "**Author:** Phillip Lippe"
   ]
  },
  {
   "cell_type": "markdown",
   "metadata": {},
   "source": [
    "<div class=\"alert alert-info\">\n",
    "\n",
    "**Note:** This notebook is written in JAX+Flax. It is a 1-to-1 translation of the original notebook written in PyTorch+PyTorch Lightning with almost identical results. It is not intended as a full deep-dive tutorial on how JAX+Flax works (see respective documentations for great tutorial), but rather as an example of how those libraries can be used in practice. Still, throughout the notebook, we comment on major differences to the PyTorch version and provide explanations for the major parts of the JAX code.\n",
    "</div>"
   ]
  },
  {
   "cell_type": "markdown",
   "metadata": {},
   "source": [
    "In this tutorial, we will implement and discuss variants of modern CNN architectures. There have been many different architectures been proposed over the past few years. Some of the most impactful ones, and still relevant today, are the following: [GoogleNet](https://arxiv.org/abs/1409.4842)/Inception architecture (winner of ILSVRC 2014), [ResNet](https://arxiv.org/abs/1512.03385) (winner of ILSVRC 2015), and [DenseNet](https://arxiv.org/abs/1608.06993) (best paper award CVPR 2017). All of them were state-of-the-art models when being proposed, and the core ideas of these networks are the foundations for most current state-of-the-art architectures. Thus, it is important to understand these architectures in detail and learn how to implement them. \n",
    "\n",
    "Let's start with importing our standard libraries here."
   ]
  },
  {
   "cell_type": "code",
   "execution_count": 1,
   "metadata": {},
   "outputs": [
    {
     "name": "stderr",
     "output_type": "stream",
     "text": [
      "/tmp/ipykernel_3685072/4128045069.py:14: DeprecationWarning: `set_matplotlib_formats` is deprecated since IPython 7.23, directly use `matplotlib_inline.backend_inline.set_matplotlib_formats()`\n",
      "  set_matplotlib_formats('svg', 'pdf') # For export\n"
     ]
    }
   ],
   "source": [
    "## Standard libraries\n",
    "import os\n",
    "import numpy as np \n",
    "import random\n",
    "from PIL import Image\n",
    "from typing import Any\n",
    "from collections import defaultdict\n",
    "import time\n",
    "\n",
    "## Imports for plotting\n",
    "import matplotlib.pyplot as plt\n",
    "%matplotlib inline \n",
    "from IPython.display import set_matplotlib_formats\n",
    "set_matplotlib_formats('svg', 'pdf') # For export\n",
    "import matplotlib\n",
    "matplotlib.rcParams['lines.linewidth'] = 2.0\n",
    "import seaborn as sns\n",
    "sns.reset_orig()\n",
    "\n",
    "## Progress bar\n",
    "from tqdm.auto import tqdm\n",
    "\n",
    "## To run JAX on TPU in Google Colab, uncomment the two lines below\n",
    "# import jax.tools.colab_tpu\n",
    "# jax.tools.colab_tpu.setup_tpu()\n",
    "\n",
    "## JAX\n",
    "import jax\n",
    "import jax.numpy as jnp\n",
    "from jax import random\n",
    "\n",
    "## Flax (NN in JAX)\n",
    "try:\n",
    "    import flax\n",
    "except ModuleNotFoundError: # Install flax if missing\n",
    "    !pip install --quiet flax\n",
    "    import flax\n",
    "from flax import linen as nn\n",
    "from flax.training import train_state, checkpoints\n",
    "\n",
    "## Optax (Optimizers in JAX)\n",
    "try:\n",
    "    import optax\n",
    "except ModuleNotFoundError: # Install optax if missing\n",
    "    !pip install --quiet optax\n",
    "    import optax\n",
    "\n",
    "## PyTorch\n",
    "import torch\n",
    "import torch.utils.data as data\n",
    "from torch.utils.tensorboard import SummaryWriter\n",
    "import torchvision\n",
    "from torchvision import transforms\n",
    "from torchvision.datasets import CIFAR10"
   ]
  },
  {
   "cell_type": "markdown",
   "metadata": {},
   "source": [
    "We will use the same path variables `DATASET_PATH` and `CHECKPOINT_PATH` as in the previous tutorials. Adjust the paths if necessary."
   ]
  },
  {
   "cell_type": "code",
   "execution_count": 2,
   "metadata": {},
   "outputs": [
    {
     "name": "stdout",
     "output_type": "stream",
     "text": [
      "Device: gpu:0\n"
     ]
    }
   ],
   "source": [
    "# Path to the folder where the datasets are/should be downloaded (e.g. CIFAR10)\n",
    "DATASET_PATH = \"../../data\"\n",
    "# Path to the folder where the pretrained models are saved\n",
    "CHECKPOINT_PATH = \"../../saved_models/tutorial5_jax\"\n",
    "\n",
    "# Seeding for random operations\n",
    "main_rng = random.PRNGKey(42)\n",
    "\n",
    "print(\"Device:\", jax.devices()[0])"
   ]
  },
  {
   "cell_type": "markdown",
   "metadata": {},
   "source": [
    "We also have pretrained models and TensorBoards (more on this later) for this tutorial, and download them below."
   ]
  },
  {
   "cell_type": "code",
   "execution_count": 3,
   "metadata": {},
   "outputs": [],
   "source": [
    "import urllib.request\n",
    "from urllib.error import HTTPError\n",
    "# Github URL where saved models are stored for this tutorial\n",
    "base_url = \"https://raw.githubusercontent.com/phlippe/saved_models/main/JAX/tutorial5/\"\n",
    "# Files to download\n",
    "pretrained_files = [\"GoogleNet.ckpt\", \"ResNet.ckpt\", \"PreActResNet.ckpt\", \"DenseNet.ckpt\",\n",
    "                    \"tensorboards/GoogleNet/events.out.tfevents.googlenet\",\n",
    "                    \"tensorboards/ResNet/events.out.tfevents.resnet\",\n",
    "                    \"tensorboards/PreActResNet/events.out.tfevents.preactresnet\",\n",
    "                    \"tensorboards/DenseNet/events.out.tfevents.densenet\"]\n",
    "# Create checkpoint path if it doesn't exist yet\n",
    "os.makedirs(CHECKPOINT_PATH, exist_ok=True)\n",
    "\n",
    "# For each file, check whether it already exists. If not, try downloading it.\n",
    "for file_name in pretrained_files:\n",
    "    file_path = os.path.join(CHECKPOINT_PATH, file_name)\n",
    "    if \"/\" in file_name:\n",
    "        os.makedirs(file_path.rsplit(\"/\",1)[0], exist_ok=True)\n",
    "    if not os.path.isfile(file_path):\n",
    "        file_url = base_url + file_name\n",
    "        print(f\"Downloading {file_url}...\")\n",
    "        try:\n",
    "            urllib.request.urlretrieve(file_url, file_path)\n",
    "        except HTTPError as e:\n",
    "            print(\"Something went wrong. Please try to download the file from the GDrive folder, or contact the author with the full output including the following error:\\n\", e)"
   ]
  },
  {
   "cell_type": "markdown",
   "metadata": {},
   "source": [
    "Throughout this tutorial, we will train and evaluate the models on the CIFAR10 dataset. This allows you to compare the results obtained here with the model you have implemented in the first assignment. As we have learned from the previous tutorial about initialization, it is important to have the data preprocessed with a zero mean. Therefore, as a first step, we will calculate the mean and standard deviation of the CIFAR dataset:"
   ]
  },
  {
   "cell_type": "code",
   "execution_count": 4,
   "metadata": {},
   "outputs": [
    {
     "name": "stdout",
     "output_type": "stream",
     "text": [
      "Files already downloaded and verified\n",
      "Data mean [0.49139968 0.48215841 0.44653091]\n",
      "Data std [0.24703223 0.24348513 0.26158784]\n"
     ]
    }
   ],
   "source": [
    "train_dataset = CIFAR10(root=DATASET_PATH, train=True, download=True)\n",
    "DATA_MEANS = (train_dataset.data / 255.0).mean(axis=(0,1,2))\n",
    "DATA_STD = (train_dataset.data / 255.0).std(axis=(0,1,2))\n",
    "print(\"Data mean\", DATA_MEANS)\n",
    "print(\"Data std\", DATA_STD)"
   ]
  },
  {
   "cell_type": "markdown",
   "metadata": {},
   "source": [
    "We will use this information to normalize our data accordingly. Additionally, we will use transformations from the package `torchvision` to implement data augmentations during training. This reduces the risk of overfitting and helps CNNs to generalize better. Specifically, we will apply two random augmentations. \n",
    "\n",
    "First, we will flip each image horizontally by a chance of 50% (`transforms.RandomHorizontalFlip`). The object class usually does not change when flipping an image, and we don't expect any image information to be dependent on the horizontal orientation. This would be however different if we would try to detect digits or letters in an image, as those have a certain orientation.\n",
    "\n",
    "The second augmentation we use is called `transforms.RandomResizedCrop`. This transformation scales the image in a small range, while eventually changing the aspect ratio, and crops it afterward in the previous size. Therefore, the actual pixel values change while the content or overall semantics of the image stays the same. \n",
    "\n",
    "We will randomly split the training dataset into a training and a validation set. The validation set will be used for determining early stopping. After finishing the training, we test the models on the CIFAR test set."
   ]
  },
  {
   "cell_type": "code",
   "execution_count": 5,
   "metadata": {},
   "outputs": [
    {
     "name": "stdout",
     "output_type": "stream",
     "text": [
      "Files already downloaded and verified\n",
      "Files already downloaded and verified\n",
      "Files already downloaded and verified\n"
     ]
    }
   ],
   "source": [
    "# Transformations applied on each image => bring them into a numpy array\n",
    "def image_to_numpy(img):\n",
    "    img = np.array(img, dtype=np.float32)\n",
    "    img = (img / 255. - DATA_MEANS) / DATA_STD\n",
    "    return img\n",
    "\n",
    "# We need to stack the batch elements\n",
    "def numpy_collate(batch):\n",
    "    if isinstance(batch[0], np.ndarray):\n",
    "        return np.stack(batch)\n",
    "    elif isinstance(batch[0], (tuple,list)):\n",
    "        transposed = zip(*batch)\n",
    "        return [numpy_collate(samples) for samples in transposed]\n",
    "    else:\n",
    "        return np.array(batch)\n",
    "\n",
    "    \n",
    "test_transform = image_to_numpy\n",
    "# For training, we add some augmentation. Networks are too powerful and would overfit.\n",
    "train_transform = transforms.Compose([transforms.RandomHorizontalFlip(),\n",
    "                                      transforms.RandomResizedCrop((32,32),scale=(0.8,1.0),ratio=(0.9,1.1)),\n",
    "                                      image_to_numpy\n",
    "                                     ])\n",
    "# Loading the training dataset. We need to split it into a training and validation part\n",
    "# We need to do a little trick because the validation set should not use the augmentation.\n",
    "train_dataset = CIFAR10(root=DATASET_PATH, train=True, transform=train_transform, download=True)\n",
    "val_dataset = CIFAR10(root=DATASET_PATH, train=True, transform=test_transform, download=True)\n",
    "train_set, _ = torch.utils.data.random_split(train_dataset, [45000, 5000], generator=torch.Generator().manual_seed(42))\n",
    "_, val_set = torch.utils.data.random_split(val_dataset, [45000, 5000], generator=torch.Generator().manual_seed(42))\n",
    "\n",
    "# Loading the test set\n",
    "test_set = CIFAR10(root=DATASET_PATH, train=False, transform=test_transform, download=True)\n",
    "\n",
    "# We define a set of data loaders that we can use for training and validation\n",
    "train_loader = data.DataLoader(train_set, \n",
    "                               batch_size=128, \n",
    "                               shuffle=True, \n",
    "                               drop_last=True, \n",
    "                               collate_fn=numpy_collate, \n",
    "                               num_workers=8,\n",
    "                               persistent_workers=True)\n",
    "val_loader   = data.DataLoader(val_set, \n",
    "                               batch_size=128, \n",
    "                               shuffle=False, \n",
    "                               drop_last=False, \n",
    "                               collate_fn=numpy_collate, \n",
    "                               num_workers=4,\n",
    "                               persistent_workers=True)\n",
    "test_loader  = data.DataLoader(test_set, \n",
    "                               batch_size=128, \n",
    "                               shuffle=False, \n",
    "                               drop_last=False, \n",
    "                               collate_fn=numpy_collate, \n",
    "                               num_workers=4,\n",
    "                               persistent_workers=True)"
   ]
  },
  {
   "cell_type": "markdown",
   "metadata": {},
   "source": [
    "To verify that our normalization works, we can print out the mean and standard deviation of the single batch. The mean should be close to 0 and the standard deviation close to 1 for each channel:"
   ]
  },
  {
   "cell_type": "code",
   "execution_count": 6,
   "metadata": {},
   "outputs": [
    {
     "name": "stdout",
     "output_type": "stream",
     "text": [
      "Batch mean [-0.05101138 -0.10038554 -0.06557597]\n",
      "Batch std [0.93670883 0.94899785 0.95394836]\n"
     ]
    }
   ],
   "source": [
    "imgs, _ = next(iter(train_loader))\n",
    "print(\"Batch mean\", imgs.mean(axis=(0,1,2)))\n",
    "print(\"Batch std\", imgs.std(axis=(0,1,2)))"
   ]
  },
  {
   "cell_type": "markdown",
   "metadata": {},
   "source": [
    "Finally, let's visualize a few images from the training set, and how they look like after random data augmentation: "
   ]
  },
  {
   "cell_type": "code",
   "execution_count": 7,
   "metadata": {},
   "outputs": [
    {
     "data": {
      "application/pdf": "[encoded data removed]",
      "image/svg+xml": [
       "<?xml version=\"1.0\" encoding=\"utf-8\" standalone=\"no\"?>\n",
       "<!DOCTYPE svg PUBLIC \"-//W3C//DTD SVG 1.1//EN\"\n",
       "  \"http://www.w3.org/Graphics/SVG/1.1/DTD/svg11.dtd\">\n",
       "<svg xmlns:xlink=\"http://www.w3.org/1999/xlink\" width=\"460.8pt\" height=\"255.952908pt\" viewBox=\"0 0 460.8 255.952908\" xmlns=\"http://www.w3.org/2000/svg\" version=\"1.1\">\n",
       " <metadata>\n",
       "  <rdf:RDF xmlns:dc=\"http://purl.org/dc/elements/1.1/\" xmlns:cc=\"http://creativecommons.org/ns#\" xmlns:rdf=\"http://www.w3.org/1999/02/22-rdf-syntax-ns#\">\n",
       "   <cc:Work>\n",
       "    <dc:type rdf:resource=\"http://purl.org/dc/dcmitype/StillImage\"/>\n",
       "    <dc:date>2022-06-06T11:41:27.505554</dc:date>\n",
       "    <dc:format>image/svg+xml</dc:format>\n",
       "    <dc:creator>\n",
       "     <cc:Agent>\n",
       "      <dc:title>Matplotlib v3.5.1, https://matplotlib.org/</dc:title>\n",
       "     </cc:Agent>\n",
       "    </dc:creator>\n",
       "   </cc:Work>\n",
       "  </rdf:RDF>\n",
       " </metadata>\n",
       " <defs>\n",
       "  <style type=\"text/css\">*{stroke-linejoin: round; stroke-linecap: butt}</style>\n",
       " </defs>\n",
       " <g id=\"figure_1\">\n",
       "  <g id=\"patch_1\">\n",
       "   <path d=\"M 0 255.952908 \n",
       "L 460.8 255.952908 \n",
       "L 460.8 0 \n",
       "L 0 0 \n",
       "L 0 255.952908 \n",
       "z\n",
       "\" style=\"fill: none\"/>\n",
       "  </g>\n",
       "  <g id=\"axes_1\">\n",
       "   <g clip-path=\"url(#pe6d4506387)\">\n",
       "    <image xlink:href=\"data:image/png;base64,\n",
       "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\" id=\"image051ae1fb0c\" transform=\"scale(1 -1)translate(0 -227)\" x=\"7.2\" y=\"-21.752908\" width=\"447\" height=\"227\"/>\n",
       "   </g>\n",
       "   <g id=\"text_1\">\n",
       "    <!-- Augmentation examples on CIFAR10 (Top: augmented, bottom: original) -->\n",
       "    <g transform=\"translate(13.913437 16.318125)scale(0.12 -0.12)\">\n",
       "     <defs>\n",
       "      <path id=\"DejaVuSans-41\" d=\"M 2188 4044 \n",
       "L 1331 1722 \n",
       "L 3047 1722 \n",
       "L 2188 4044 \n",
       "z\n",
       "M 1831 4666 \n",
       "L 2547 4666 \n",
       "L 4325 0 \n",
       "L 3669 0 \n",
       "L 3244 1197 \n",
       "L 1141 1197 \n",
       "L 716 0 \n",
       "L 50 0 \n",
       "L 1831 4666 \n",
       "z\n",
       "\" transform=\"scale(0.015625)\"/>\n",
       "      <path id=\"DejaVuSans-75\" d=\"M 544 1381 \n",
       "L 544 3500 \n",
       "L 1119 3500 \n",
       "L 1119 1403 \n",
       "Q 1119 906 1312 657 \n",
       "Q 1506 409 1894 409 \n",
       "Q 2359 409 2629 706 \n",
       "Q 2900 1003 2900 1516 \n",
       "L 2900 3500 \n",
       "L 3475 3500 \n",
       "L 3475 0 \n",
       "L 2900 0 \n",
       "L 2900 538 \n",
       "Q 2691 219 2414 64 \n",
       "Q 2138 -91 1772 -91 \n",
       "Q 1169 -91 856 284 \n",
       "Q 544 659 544 1381 \n",
       "z\n",
       "M 1991 3584 \n",
       "L 1991 3584 \n",
       "z\n",
       "\" transform=\"scale(0.015625)\"/>\n",
       "      <path id=\"DejaVuSans-67\" d=\"M 2906 1791 \n",
       "Q 2906 2416 2648 2759 \n",
       "Q 2391 3103 1925 3103 \n",
       "Q 1463 3103 1205 2759 \n",
       "Q 947 2416 947 1791 \n",
       "Q 947 1169 1205 825 \n",
       "Q 1463 481 1925 481 \n",
       "Q 2391 481 2648 825 \n",
       "Q 2906 1169 2906 1791 \n",
       "z\n",
       "M 3481 434 \n",
       "Q 3481 -459 3084 -895 \n",
       "Q 2688 -1331 1869 -1331 \n",
       "Q 1566 -1331 1297 -1286 \n",
       "Q 1028 -1241 775 -1147 \n",
       "L 775 -588 \n",
       "Q 1028 -725 1275 -790 \n",
       "Q 1522 -856 1778 -856 \n",
       "Q 2344 -856 2625 -561 \n",
       "Q 2906 -266 2906 331 \n",
       "L 2906 616 \n",
       "Q 2728 306 2450 153 \n",
       "Q 2172 0 1784 0 \n",
       "Q 1141 0 747 490 \n",
       "Q 353 981 353 1791 \n",
       "Q 353 2603 747 3093 \n",
       "Q 1141 3584 1784 3584 \n",
       "Q 2172 3584 2450 3431 \n",
       "Q 2728 3278 2906 2969 \n",
       "L 2906 3500 \n",
       "L 3481 3500 \n",
       "L 3481 434 \n",
       "z\n",
       "\" transform=\"scale(0.015625)\"/>\n",
       "      <path id=\"DejaVuSans-6d\" d=\"M 3328 2828 \n",
       "Q 3544 3216 3844 3400 \n",
       "Q 4144 3584 4550 3584 \n",
       "Q 5097 3584 5394 3201 \n",
       "Q 5691 2819 5691 2113 \n",
       "L 5691 0 \n",
       "L 5113 0 \n",
       "L 5113 2094 \n",
       "Q 5113 2597 4934 2840 \n",
       "Q 4756 3084 4391 3084 \n",
       "Q 3944 3084 3684 2787 \n",
       "Q 3425 2491 3425 1978 \n",
       "L 3425 0 \n",
       "L 2847 0 \n",
       "L 2847 2094 \n",
       "Q 2847 2600 2669 2842 \n",
       "Q 2491 3084 2119 3084 \n",
       "Q 1678 3084 1418 2786 \n",
       "Q 1159 2488 1159 1978 \n",
       "L 1159 0 \n",
       "L 581 0 \n",
       "L 581 3500 \n",
       "L 1159 3500 \n",
       "L 1159 2956 \n",
       "Q 1356 3278 1631 3431 \n",
       "Q 1906 3584 2284 3584 \n",
       "Q 2666 3584 2933 3390 \n",
       "Q 3200 3197 3328 2828 \n",
       "z\n",
       "\" transform=\"scale(0.015625)\"/>\n",
       "      <path id=\"DejaVuSans-65\" d=\"M 3597 1894 \n",
       "L 3597 1613 \n",
       "L 953 1613 \n",
       "Q 991 1019 1311 708 \n",
       "Q 1631 397 2203 397 \n",
       "Q 2534 397 2845 478 \n",
       "Q 3156 559 3463 722 \n",
       "L 3463 178 \n",
       "Q 3153 47 2828 -22 \n",
       "Q 2503 -91 2169 -91 \n",
       "Q 1331 -91 842 396 \n",
       "Q 353 884 353 1716 \n",
       "Q 353 2575 817 3079 \n",
       "Q 1281 3584 2069 3584 \n",
       "Q 2775 3584 3186 3129 \n",
       "Q 3597 2675 3597 1894 \n",
       "z\n",
       "M 3022 2063 \n",
       "Q 3016 2534 2758 2815 \n",
       "Q 2500 3097 2075 3097 \n",
       "Q 1594 3097 1305 2825 \n",
       "Q 1016 2553 972 2059 \n",
       "L 3022 2063 \n",
       "z\n",
       "\" transform=\"scale(0.015625)\"/>\n",
       "      <path id=\"DejaVuSans-6e\" d=\"M 3513 2113 \n",
       "L 3513 0 \n",
       "L 2938 0 \n",
       "L 2938 2094 \n",
       "Q 2938 2591 2744 2837 \n",
       "Q 2550 3084 2163 3084 \n",
       "Q 1697 3084 1428 2787 \n",
       "Q 1159 2491 1159 1978 \n",
       "L 1159 0 \n",
       "L 581 0 \n",
       "L 581 3500 \n",
       "L 1159 3500 \n",
       "L 1159 2956 \n",
       "Q 1366 3272 1645 3428 \n",
       "Q 1925 3584 2291 3584 \n",
       "Q 2894 3584 3203 3211 \n",
       "Q 3513 2838 3513 2113 \n",
       "z\n",
       "\" transform=\"scale(0.015625)\"/>\n",
       "      <path id=\"DejaVuSans-74\" d=\"M 1172 4494 \n",
       "L 1172 3500 \n",
       "L 2356 3500 \n",
       "L 2356 3053 \n",
       "L 1172 3053 \n",
       "L 1172 1153 \n",
       "Q 1172 725 1289 603 \n",
       "Q 1406 481 1766 481 \n",
       "L 2356 481 \n",
       "L 2356 0 \n",
       "L 1766 0 \n",
       "Q 1100 0 847 248 \n",
       "Q 594 497 594 1153 \n",
       "L 594 3053 \n",
       "L 172 3053 \n",
       "L 172 3500 \n",
       "L 594 3500 \n",
       "L 594 4494 \n",
       "L 1172 4494 \n",
       "z\n",
       "\" transform=\"scale(0.015625)\"/>\n",
       "      <path id=\"DejaVuSans-61\" d=\"M 2194 1759 \n",
       "Q 1497 1759 1228 1600 \n",
       "Q 959 1441 959 1056 \n",
       "Q 959 750 1161 570 \n",
       "Q 1363 391 1709 391 \n",
       "Q 2188 391 2477 730 \n",
       "Q 2766 1069 2766 1631 \n",
       "L 2766 1759 \n",
       "L 2194 1759 \n",
       "z\n",
       "M 3341 1997 \n",
       "L 3341 0 \n",
       "L 2766 0 \n",
       "L 2766 531 \n",
       "Q 2569 213 2275 61 \n",
       "Q 1981 -91 1556 -91 \n",
       "Q 1019 -91 701 211 \n",
       "Q 384 513 384 1019 \n",
       "Q 384 1609 779 1909 \n",
       "Q 1175 2209 1959 2209 \n",
       "L 2766 2209 \n",
       "L 2766 2266 \n",
       "Q 2766 2663 2505 2880 \n",
       "Q 2244 3097 1772 3097 \n",
       "Q 1472 3097 1187 3025 \n",
       "Q 903 2953 641 2809 \n",
       "L 641 3341 \n",
       "Q 956 3463 1253 3523 \n",
       "Q 1550 3584 1831 3584 \n",
       "Q 2591 3584 2966 3190 \n",
       "Q 3341 2797 3341 1997 \n",
       "z\n",
       "\" transform=\"scale(0.015625)\"/>\n",
       "      <path id=\"DejaVuSans-69\" d=\"M 603 3500 \n",
       "L 1178 3500 \n",
       "L 1178 0 \n",
       "L 603 0 \n",
       "L 603 3500 \n",
       "z\n",
       "M 603 4863 \n",
       "L 1178 4863 \n",
       "L 1178 4134 \n",
       "L 603 4134 \n",
       "L 603 4863 \n",
       "z\n",
       "\" transform=\"scale(0.015625)\"/>\n",
       "      <path id=\"DejaVuSans-6f\" d=\"M 1959 3097 \n",
       "Q 1497 3097 1228 2736 \n",
       "Q 959 2375 959 1747 \n",
       "Q 959 1119 1226 758 \n",
       "Q 1494 397 1959 397 \n",
       "Q 2419 397 2687 759 \n",
       "Q 2956 1122 2956 1747 \n",
       "Q 2956 2369 2687 2733 \n",
       "Q 2419 3097 1959 3097 \n",
       "z\n",
       "M 1959 3584 \n",
       "Q 2709 3584 3137 3096 \n",
       "Q 3566 2609 3566 1747 \n",
       "Q 3566 888 3137 398 \n",
       "Q 2709 -91 1959 -91 \n",
       "Q 1206 -91 779 398 \n",
       "Q 353 888 353 1747 \n",
       "Q 353 2609 779 3096 \n",
       "Q 1206 3584 1959 3584 \n",
       "z\n",
       "\" transform=\"scale(0.015625)\"/>\n",
       "      <path id=\"DejaVuSans-20\" transform=\"scale(0.015625)\"/>\n",
       "      <path id=\"DejaVuSans-78\" d=\"M 3513 3500 \n",
       "L 2247 1797 \n",
       "L 3578 0 \n",
       "L 2900 0 \n",
       "L 1881 1375 \n",
       "L 863 0 \n",
       "L 184 0 \n",
       "L 1544 1831 \n",
       "L 300 3500 \n",
       "L 978 3500 \n",
       "L 1906 2253 \n",
       "L 2834 3500 \n",
       "L 3513 3500 \n",
       "z\n",
       "\" transform=\"scale(0.015625)\"/>\n",
       "      <path id=\"DejaVuSans-70\" d=\"M 1159 525 \n",
       "L 1159 -1331 \n",
       "L 581 -1331 \n",
       "L 581 3500 \n",
       "L 1159 3500 \n",
       "L 1159 2969 \n",
       "Q 1341 3281 1617 3432 \n",
       "Q 1894 3584 2278 3584 \n",
       "Q 2916 3584 3314 3078 \n",
       "Q 3713 2572 3713 1747 \n",
       "Q 3713 922 3314 415 \n",
       "Q 2916 -91 2278 -91 \n",
       "Q 1894 -91 1617 61 \n",
       "Q 1341 213 1159 525 \n",
       "z\n",
       "M 3116 1747 \n",
       "Q 3116 2381 2855 2742 \n",
       "Q 2594 3103 2138 3103 \n",
       "Q 1681 3103 1420 2742 \n",
       "Q 1159 2381 1159 1747 \n",
       "Q 1159 1113 1420 752 \n",
       "Q 1681 391 2138 391 \n",
       "Q 2594 391 2855 752 \n",
       "Q 3116 1113 3116 1747 \n",
       "z\n",
       "\" transform=\"scale(0.015625)\"/>\n",
       "      <path id=\"DejaVuSans-6c\" d=\"M 603 4863 \n",
       "L 1178 4863 \n",
       "L 1178 0 \n",
       "L 603 0 \n",
       "L 603 4863 \n",
       "z\n",
       "\" transform=\"scale(0.015625)\"/>\n",
       "      <path id=\"DejaVuSans-73\" d=\"M 2834 3397 \n",
       "L 2834 2853 \n",
       "Q 2591 2978 2328 3040 \n",
       "Q 2066 3103 1784 3103 \n",
       "Q 1356 3103 1142 2972 \n",
       "Q 928 2841 928 2578 \n",
       "Q 928 2378 1081 2264 \n",
       "Q 1234 2150 1697 2047 \n",
       "L 1894 2003 \n",
       "Q 2506 1872 2764 1633 \n",
       "Q 3022 1394 3022 966 \n",
       "Q 3022 478 2636 193 \n",
       "Q 2250 -91 1575 -91 \n",
       "Q 1294 -91 989 -36 \n",
       "Q 684 19 347 128 \n",
       "L 347 722 \n",
       "Q 666 556 975 473 \n",
       "Q 1284 391 1588 391 \n",
       "Q 1994 391 2212 530 \n",
       "Q 2431 669 2431 922 \n",
       "Q 2431 1156 2273 1281 \n",
       "Q 2116 1406 1581 1522 \n",
       "L 1381 1569 \n",
       "Q 847 1681 609 1914 \n",
       "Q 372 2147 372 2553 \n",
       "Q 372 3047 722 3315 \n",
       "Q 1072 3584 1716 3584 \n",
       "Q 2034 3584 2315 3537 \n",
       "Q 2597 3491 2834 3397 \n",
       "z\n",
       "\" transform=\"scale(0.015625)\"/>\n",
       "      <path id=\"DejaVuSans-43\" d=\"M 4122 4306 \n",
       "L 4122 3641 \n",
       "Q 3803 3938 3442 4084 \n",
       "Q 3081 4231 2675 4231 \n",
       "Q 1875 4231 1450 3742 \n",
       "Q 1025 3253 1025 2328 \n",
       "Q 1025 1406 1450 917 \n",
       "Q 1875 428 2675 428 \n",
       "Q 3081 428 3442 575 \n",
       "Q 3803 722 4122 1019 \n",
       "L 4122 359 \n",
       "Q 3791 134 3420 21 \n",
       "Q 3050 -91 2638 -91 \n",
       "Q 1578 -91 968 557 \n",
       "Q 359 1206 359 2328 \n",
       "Q 359 3453 968 4101 \n",
       "Q 1578 4750 2638 4750 \n",
       "Q 3056 4750 3426 4639 \n",
       "Q 3797 4528 4122 4306 \n",
       "z\n",
       "\" transform=\"scale(0.015625)\"/>\n",
       "      <path id=\"DejaVuSans-49\" d=\"M 628 4666 \n",
       "L 1259 4666 \n",
       "L 1259 0 \n",
       "L 628 0 \n",
       "L 628 4666 \n",
       "z\n",
       "\" transform=\"scale(0.015625)\"/>\n",
       "      <path id=\"DejaVuSans-46\" d=\"M 628 4666 \n",
       "L 3309 4666 \n",
       "L 3309 4134 \n",
       "L 1259 4134 \n",
       "L 1259 2759 \n",
       "L 3109 2759 \n",
       "L 3109 2228 \n",
       "L 1259 2228 \n",
       "L 1259 0 \n",
       "L 628 0 \n",
       "L 628 4666 \n",
       "z\n",
       "\" transform=\"scale(0.015625)\"/>\n",
       "      <path id=\"DejaVuSans-52\" d=\"M 2841 2188 \n",
       "Q 3044 2119 3236 1894 \n",
       "Q 3428 1669 3622 1275 \n",
       "L 4263 0 \n",
       "L 3584 0 \n",
       "L 2988 1197 \n",
       "Q 2756 1666 2539 1819 \n",
       "Q 2322 1972 1947 1972 \n",
       "L 1259 1972 \n",
       "L 1259 0 \n",
       "L 628 0 \n",
       "L 628 4666 \n",
       "L 2053 4666 \n",
       "Q 2853 4666 3247 4331 \n",
       "Q 3641 3997 3641 3322 \n",
       "Q 3641 2881 3436 2590 \n",
       "Q 3231 2300 2841 2188 \n",
       "z\n",
       "M 1259 4147 \n",
       "L 1259 2491 \n",
       "L 2053 2491 \n",
       "Q 2509 2491 2742 2702 \n",
       "Q 2975 2913 2975 3322 \n",
       "Q 2975 3731 2742 3939 \n",
       "Q 2509 4147 2053 4147 \n",
       "L 1259 4147 \n",
       "z\n",
       "\" transform=\"scale(0.015625)\"/>\n",
       "      <path id=\"DejaVuSans-31\" d=\"M 794 531 \n",
       "L 1825 531 \n",
       "L 1825 4091 \n",
       "L 703 3866 \n",
       "L 703 4441 \n",
       "L 1819 4666 \n",
       "L 2450 4666 \n",
       "L 2450 531 \n",
       "L 3481 531 \n",
       "L 3481 0 \n",
       "L 794 0 \n",
       "L 794 531 \n",
       "z\n",
       "\" transform=\"scale(0.015625)\"/>\n",
       "      <path id=\"DejaVuSans-30\" d=\"M 2034 4250 \n",
       "Q 1547 4250 1301 3770 \n",
       "Q 1056 3291 1056 2328 \n",
       "Q 1056 1369 1301 889 \n",
       "Q 1547 409 2034 409 \n",
       "Q 2525 409 2770 889 \n",
       "Q 3016 1369 3016 2328 \n",
       "Q 3016 3291 2770 3770 \n",
       "Q 2525 4250 2034 4250 \n",
       "z\n",
       "M 2034 4750 \n",
       "Q 2819 4750 3233 4129 \n",
       "Q 3647 3509 3647 2328 \n",
       "Q 3647 1150 3233 529 \n",
       "Q 2819 -91 2034 -91 \n",
       "Q 1250 -91 836 529 \n",
       "Q 422 1150 422 2328 \n",
       "Q 422 3509 836 4129 \n",
       "Q 1250 4750 2034 4750 \n",
       "z\n",
       "\" transform=\"scale(0.015625)\"/>\n",
       "      <path id=\"DejaVuSans-28\" d=\"M 1984 4856 \n",
       "Q 1566 4138 1362 3434 \n",
       "Q 1159 2731 1159 2009 \n",
       "Q 1159 1288 1364 580 \n",
       "Q 1569 -128 1984 -844 \n",
       "L 1484 -844 \n",
       "Q 1016 -109 783 600 \n",
       "Q 550 1309 550 2009 \n",
       "Q 550 2706 781 3412 \n",
       "Q 1013 4119 1484 4856 \n",
       "L 1984 4856 \n",
       "z\n",
       "\" transform=\"scale(0.015625)\"/>\n",
       "      <path id=\"DejaVuSans-54\" d=\"M -19 4666 \n",
       "L 3928 4666 \n",
       "L 3928 4134 \n",
       "L 2272 4134 \n",
       "L 2272 0 \n",
       "L 1638 0 \n",
       "L 1638 4134 \n",
       "L -19 4134 \n",
       "L -19 4666 \n",
       "z\n",
       "\" transform=\"scale(0.015625)\"/>\n",
       "      <path id=\"DejaVuSans-3a\" d=\"M 750 794 \n",
       "L 1409 794 \n",
       "L 1409 0 \n",
       "L 750 0 \n",
       "L 750 794 \n",
       "z\n",
       "M 750 3309 \n",
       "L 1409 3309 \n",
       "L 1409 2516 \n",
       "L 750 2516 \n",
       "L 750 3309 \n",
       "z\n",
       "\" transform=\"scale(0.015625)\"/>\n",
       "      <path id=\"DejaVuSans-64\" d=\"M 2906 2969 \n",
       "L 2906 4863 \n",
       "L 3481 4863 \n",
       "L 3481 0 \n",
       "L 2906 0 \n",
       "L 2906 525 \n",
       "Q 2725 213 2448 61 \n",
       "Q 2172 -91 1784 -91 \n",
       "Q 1150 -91 751 415 \n",
       "Q 353 922 353 1747 \n",
       "Q 353 2572 751 3078 \n",
       "Q 1150 3584 1784 3584 \n",
       "Q 2172 3584 2448 3432 \n",
       "Q 2725 3281 2906 2969 \n",
       "z\n",
       "M 947 1747 \n",
       "Q 947 1113 1208 752 \n",
       "Q 1469 391 1925 391 \n",
       "Q 2381 391 2643 752 \n",
       "Q 2906 1113 2906 1747 \n",
       "Q 2906 2381 2643 2742 \n",
       "Q 2381 3103 1925 3103 \n",
       "Q 1469 3103 1208 2742 \n",
       "Q 947 2381 947 1747 \n",
       "z\n",
       "\" transform=\"scale(0.015625)\"/>\n",
       "      <path id=\"DejaVuSans-2c\" d=\"M 750 794 \n",
       "L 1409 794 \n",
       "L 1409 256 \n",
       "L 897 -744 \n",
       "L 494 -744 \n",
       "L 750 256 \n",
       "L 750 794 \n",
       "z\n",
       "\" transform=\"scale(0.015625)\"/>\n",
       "      <path id=\"DejaVuSans-62\" d=\"M 3116 1747 \n",
       "Q 3116 2381 2855 2742 \n",
       "Q 2594 3103 2138 3103 \n",
       "Q 1681 3103 1420 2742 \n",
       "Q 1159 2381 1159 1747 \n",
       "Q 1159 1113 1420 752 \n",
       "Q 1681 391 2138 391 \n",
       "Q 2594 391 2855 752 \n",
       "Q 3116 1113 3116 1747 \n",
       "z\n",
       "M 1159 2969 \n",
       "Q 1341 3281 1617 3432 \n",
       "Q 1894 3584 2278 3584 \n",
       "Q 2916 3584 3314 3078 \n",
       "Q 3713 2572 3713 1747 \n",
       "Q 3713 922 3314 415 \n",
       "Q 2916 -91 2278 -91 \n",
       "Q 1894 -91 1617 61 \n",
       "Q 1341 213 1159 525 \n",
       "L 1159 0 \n",
       "L 581 0 \n",
       "L 581 4863 \n",
       "L 1159 4863 \n",
       "L 1159 2969 \n",
       "z\n",
       "\" transform=\"scale(0.015625)\"/>\n",
       "      <path id=\"DejaVuSans-72\" d=\"M 2631 2963 \n",
       "Q 2534 3019 2420 3045 \n",
       "Q 2306 3072 2169 3072 \n",
       "Q 1681 3072 1420 2755 \n",
       "Q 1159 2438 1159 1844 \n",
       "L 1159 0 \n",
       "L 581 0 \n",
       "L 581 3500 \n",
       "L 1159 3500 \n",
       "L 1159 2956 \n",
       "Q 1341 3275 1631 3429 \n",
       "Q 1922 3584 2338 3584 \n",
       "Q 2397 3584 2469 3576 \n",
       "Q 2541 3569 2628 3553 \n",
       "L 2631 2963 \n",
       "z\n",
       "\" transform=\"scale(0.015625)\"/>\n",
       "      <path id=\"DejaVuSans-29\" d=\"M 513 4856 \n",
       "L 1013 4856 \n",
       "Q 1481 4119 1714 3412 \n",
       "Q 1947 2706 1947 2009 \n",
       "Q 1947 1309 1714 600 \n",
       "Q 1481 -109 1013 -844 \n",
       "L 513 -844 \n",
       "Q 928 -128 1133 580 \n",
       "Q 1338 1288 1338 2009 \n",
       "Q 1338 2731 1133 3434 \n",
       "Q 928 4138 513 4856 \n",
       "z\n",
       "\" transform=\"scale(0.015625)\"/>\n",
       "     </defs>\n",
       "     <use xlink:href=\"#DejaVuSans-41\"/>\n",
       "     <use xlink:href=\"#DejaVuSans-75\" x=\"68.408203\"/>\n",
       "     <use xlink:href=\"#DejaVuSans-67\" x=\"131.787109\"/>\n",
       "     <use xlink:href=\"#DejaVuSans-6d\" x=\"195.263672\"/>\n",
       "     <use xlink:href=\"#DejaVuSans-65\" x=\"292.675781\"/>\n",
       "     <use xlink:href=\"#DejaVuSans-6e\" x=\"354.199219\"/>\n",
       "     <use xlink:href=\"#DejaVuSans-74\" x=\"417.578125\"/>\n",
       "     <use xlink:href=\"#DejaVuSans-61\" x=\"456.787109\"/>\n",
       "     <use xlink:href=\"#DejaVuSans-74\" x=\"518.066406\"/>\n",
       "     <use xlink:href=\"#DejaVuSans-69\" x=\"557.275391\"/>\n",
       "     <use xlink:href=\"#DejaVuSans-6f\" x=\"585.058594\"/>\n",
       "     <use xlink:href=\"#DejaVuSans-6e\" x=\"646.240234\"/>\n",
       "     <use xlink:href=\"#DejaVuSans-20\" x=\"709.619141\"/>\n",
       "     <use xlink:href=\"#DejaVuSans-65\" x=\"741.40625\"/>\n",
       "     <use xlink:href=\"#DejaVuSans-78\" x=\"801.179688\"/>\n",
       "     <use xlink:href=\"#DejaVuSans-61\" x=\"860.359375\"/>\n",
       "     <use xlink:href=\"#DejaVuSans-6d\" x=\"921.638672\"/>\n",
       "     <use xlink:href=\"#DejaVuSans-70\" x=\"1019.050781\"/>\n",
       "     <use xlink:href=\"#DejaVuSans-6c\" x=\"1082.527344\"/>\n",
       "     <use xlink:href=\"#DejaVuSans-65\" x=\"1110.310547\"/>\n",
       "     <use xlink:href=\"#DejaVuSans-73\" x=\"1171.833984\"/>\n",
       "     <use xlink:href=\"#DejaVuSans-20\" x=\"1223.933594\"/>\n",
       "     <use xlink:href=\"#DejaVuSans-6f\" x=\"1255.720703\"/>\n",
       "     <use xlink:href=\"#DejaVuSans-6e\" x=\"1316.902344\"/>\n",
       "     <use xlink:href=\"#DejaVuSans-20\" x=\"1380.28125\"/>\n",
       "     <use xlink:href=\"#DejaVuSans-43\" x=\"1412.068359\"/>\n",
       "     <use xlink:href=\"#DejaVuSans-49\" x=\"1481.892578\"/>\n",
       "     <use xlink:href=\"#DejaVuSans-46\" x=\"1511.384766\"/>\n",
       "     <use xlink:href=\"#DejaVuSans-41\" x=\"1559.779297\"/>\n",
       "     <use xlink:href=\"#DejaVuSans-52\" x=\"1628.1875\"/>\n",
       "     <use xlink:href=\"#DejaVuSans-31\" x=\"1697.669922\"/>\n",
       "     <use xlink:href=\"#DejaVuSans-30\" x=\"1761.292969\"/>\n",
       "     <use xlink:href=\"#DejaVuSans-20\" x=\"1824.916016\"/>\n",
       "     <use xlink:href=\"#DejaVuSans-28\" x=\"1856.703125\"/>\n",
       "     <use xlink:href=\"#DejaVuSans-54\" x=\"1895.716797\"/>\n",
       "     <use xlink:href=\"#DejaVuSans-6f\" x=\"1939.800781\"/>\n",
       "     <use xlink:href=\"#DejaVuSans-70\" x=\"2000.982422\"/>\n",
       "     <use xlink:href=\"#DejaVuSans-3a\" x=\"2064.458984\"/>\n",
       "     <use xlink:href=\"#DejaVuSans-20\" x=\"2098.150391\"/>\n",
       "     <use xlink:href=\"#DejaVuSans-61\" x=\"2129.9375\"/>\n",
       "     <use xlink:href=\"#DejaVuSans-75\" x=\"2191.216797\"/>\n",
       "     <use xlink:href=\"#DejaVuSans-67\" x=\"2254.595703\"/>\n",
       "     <use xlink:href=\"#DejaVuSans-6d\" x=\"2318.072266\"/>\n",
       "     <use xlink:href=\"#DejaVuSans-65\" x=\"2415.484375\"/>\n",
       "     <use xlink:href=\"#DejaVuSans-6e\" x=\"2477.007812\"/>\n",
       "     <use xlink:href=\"#DejaVuSans-74\" x=\"2540.386719\"/>\n",
       "     <use xlink:href=\"#DejaVuSans-65\" x=\"2579.595703\"/>\n",
       "     <use xlink:href=\"#DejaVuSans-64\" x=\"2641.119141\"/>\n",
       "     <use xlink:href=\"#DejaVuSans-2c\" x=\"2704.595703\"/>\n",
       "     <use xlink:href=\"#DejaVuSans-20\" x=\"2736.382812\"/>\n",
       "     <use xlink:href=\"#DejaVuSans-62\" x=\"2768.169922\"/>\n",
       "     <use xlink:href=\"#DejaVuSans-6f\" x=\"2831.646484\"/>\n",
       "     <use xlink:href=\"#DejaVuSans-74\" x=\"2892.828125\"/>\n",
       "     <use xlink:href=\"#DejaVuSans-74\" x=\"2932.037109\"/>\n",
       "     <use xlink:href=\"#DejaVuSans-6f\" x=\"2971.246094\"/>\n",
       "     <use xlink:href=\"#DejaVuSans-6d\" x=\"3032.427734\"/>\n",
       "     <use xlink:href=\"#DejaVuSans-3a\" x=\"3129.839844\"/>\n",
       "     <use xlink:href=\"#DejaVuSans-20\" x=\"3163.53125\"/>\n",
       "     <use xlink:href=\"#DejaVuSans-6f\" x=\"3195.318359\"/>\n",
       "     <use xlink:href=\"#DejaVuSans-72\" x=\"3256.5\"/>\n",
       "     <use xlink:href=\"#DejaVuSans-69\" x=\"3297.613281\"/>\n",
       "     <use xlink:href=\"#DejaVuSans-67\" x=\"3325.396484\"/>\n",
       "     <use xlink:href=\"#DejaVuSans-69\" x=\"3388.873047\"/>\n",
       "     <use xlink:href=\"#DejaVuSans-6e\" x=\"3416.65625\"/>\n",
       "     <use xlink:href=\"#DejaVuSans-61\" x=\"3480.035156\"/>\n",
       "     <use xlink:href=\"#DejaVuSans-6c\" x=\"3541.314453\"/>\n",
       "     <use xlink:href=\"#DejaVuSans-29\" x=\"3569.097656\"/>\n",
       "    </g>\n",
       "   </g>\n",
       "  </g>\n",
       " </g>\n",
       " <defs>\n",
       "  <clipPath id=\"pe6d4506387\">\n",
       "   <rect x=\"7.2\" y=\"22.318125\" width=\"446.4\" height=\"226.434783\"/>\n",
       "  </clipPath>\n",
       " </defs>\n",
       "</svg>\n"
      ],
      "text/plain": [
       "<Figure size 576x576 with 1 Axes>"
      ]
     },
     "metadata": {
      "needs_background": "light"
     },
     "output_type": "display_data"
    }
   ],
   "source": [
    "NUM_IMAGES = 4\n",
    "images = [train_dataset[idx][0] for idx in range(NUM_IMAGES)]\n",
    "orig_images = [Image.fromarray(train_dataset.data[idx]) for idx in range(NUM_IMAGES)]\n",
    "orig_images = [test_transform(img) for img in orig_images]\n",
    "\n",
    "imgs = np.stack(images + orig_images, axis=0)\n",
    "imgs = torch.from_numpy(imgs).permute(0, 3, 1, 2)\n",
    "img_grid = torchvision.utils.make_grid(imgs, nrow=4, normalize=True, pad_value=0.5)\n",
    "img_grid = img_grid.permute(1, 2, 0)\n",
    "\n",
    "plt.figure(figsize=(8,8))\n",
    "plt.title(\"Augmentation examples on CIFAR10 (Top: augmented, bottom: original)\")\n",
    "plt.imshow(img_grid)\n",
    "plt.axis('off')\n",
    "plt.show()\n",
    "plt.close()"
   ]
  },
  {
   "cell_type": "markdown",
   "metadata": {},
   "source": [
    "## Trainer Module\n",
    "\n",
    "In the [PyTorch version](https://uvadlc-notebooks.readthedocs.io/en/latest/tutorial_notebooks/tutorial5/Inception_ResNet_DenseNet.html) of this tutorial, we would now introduce the framework [PyTorch Lightning](https://www.pytorchlightning.ai/) which simplifies the overall training of a model. So far (June 2022), there is no clear equivalent of it for JAX. Some basic training functionalities are implemented in `flax.training` ([documentation](https://flax.readthedocs.io/en/latest/flax.training.html)), and predefined training modules are implemented in `trax` ([documentation](https://trax-ml.readthedocs.io/en/latest/)), but neither provide a complete, flexible training package yet like PyTorch Lightning. Hence, we need to write our own small training loop. \n",
    "\n",
    "For this, we take inspiration from PyTorch Lightning and build a trainer module/object with the following main functionalities:\n",
    "\n",
    "1. *Storing model and parameters*: In order to train multiple models with different hyperparameters, the trainer module creates an instance of the model class, and keeps the parameters in the same class. This way, we can easily apply a model with its parameters on new inputs.\n",
    "2. *Initialization of model and training state*: During initialization of the trainer, we initialize the model parameters and a new train state, which includes the optimizer and possible learning rate schedulers.\n",
    "3. *Training, validation and test loops*: Similar to PyTorch Lightning, we implement simple training, validation and test loops, where subclasses of this trainer could overwrite the respective training, validation or test steps. Since in this tutorial, all models will have the same objective, i.e. classification on CIFAR10, we will pre-specify them in the trainer module below.\n",
    "4. *Logging, saving and loading of models*: To keep track of the training, we implement functionalities to log the training progress and save the best model on the validation set. Afterwards, this model can be loaded from the disk. \n",
    "\n",
    "Before starting to implement a trainer module with these functionalities, we need to take one prior step. The networks we will implement in this tutorial use BatchNormalization, which carries an exponential average of the prior batch statistics (mean and std) to apply during evaluation. In PyTorch, this is simply tracked by an object attribute of an object of the class `nn.BatchNorm2d`, but in JAX, we only work with functions. Hence, we need to take care of the batch statistics ourselves, similar to the parameters, and enter them during every forward pass. To simplify this a little, we overwrite the `train_state.TrainState` class of Flax by adding a field for the batch statistics:"
   ]
  },
  {
   "cell_type": "code",
   "execution_count": 8,
   "metadata": {},
   "outputs": [],
   "source": [
    "class TrainState(train_state.TrainState):\n",
    "    # A simple extension of TrainState to also include batch statistics\n",
    "    batch_stats: Any"
   ]
  },
  {
   "cell_type": "markdown",
   "metadata": {},
   "source": [
    "With this, the training state contains both the training parameters and the batch statistics, which makes it easier to keep everything in one place.\n",
    "\n",
    "Now that the batch statistics are sorted out, we can implement our full training module:"
   ]
  },
  {
   "cell_type": "code",
   "execution_count": 9,
   "metadata": {},
   "outputs": [],
   "source": [
    "class TrainerModule:\n",
    "\n",
    "    def __init__(self, \n",
    "                 model_name : str, \n",
    "                 model_class : nn.Module, \n",
    "                 model_hparams : dict, \n",
    "                 optimizer_name : str, \n",
    "                 optimizer_hparams : dict, \n",
    "                 exmp_imgs : Any, \n",
    "                 seed=42):\n",
    "        \"\"\"\n",
    "        Module for summarizing all training functionalities for classification on CIFAR10.\n",
    "        \n",
    "        Inputs:\n",
    "            model_name - String of the class name, used for logging and saving\n",
    "            model_class - Class implementing the neural network\n",
    "            model_hparams - Hyperparameters of the model, used as input to model constructor\n",
    "            optimizer_name - String of the optimizer name, supporting ['sgd', 'adam', 'adamw']\n",
    "            optimizer_hparams - Hyperparameters of the optimizer, including learning rate as 'lr'\n",
    "            exmp_imgs - Example imgs, used as input to initialize the model\n",
    "            seed - Seed to use in the model initialization\n",
    "        \"\"\"\n",
    "        super().__init__()\n",
    "        self.model_name = model_name\n",
    "        self.model_class = model_class\n",
    "        self.model_hparams = model_hparams\n",
    "        self.optimizer_name = optimizer_name\n",
    "        self.optimizer_hparams = optimizer_hparams\n",
    "        self.seed = seed\n",
    "        # Create empty model. Note: no parameters yet\n",
    "        self.model = self.model_class(**self.model_hparams)\n",
    "        # Prepare logging\n",
    "        self.log_dir = os.path.join(CHECKPOINT_PATH, self.model_name)\n",
    "        self.logger = SummaryWriter(log_dir=self.log_dir)\n",
    "        # Create jitted training and eval functions\n",
    "        self.create_functions()\n",
    "        # Initialize model\n",
    "        self.init_model(exmp_imgs)\n",
    "\n",
    "    def create_functions(self):\n",
    "        # Function to calculate the classification loss and accuracy for a model\n",
    "        def calculate_loss(params, batch_stats, batch, train):\n",
    "            imgs, labels = batch\n",
    "            labels_onehot = jax.nn.one_hot(labels, num_classes=self.model.num_classes)\n",
    "            # Run model. During training, we need to update the BatchNorm statistics.\n",
    "            outs = self.model.apply({'params': params, 'batch_stats': batch_stats}, \n",
    "                                    imgs,\n",
    "                                    train=train,\n",
    "                                    mutable=['batch_stats'] if train else False)\n",
    "            logits, new_model_state = outs if train else (outs, None)\n",
    "            loss = optax.softmax_cross_entropy(logits, labels_onehot).mean()\n",
    "            acc = (logits.argmax(axis=-1) == labels).mean()\n",
    "            return loss, (acc, new_model_state)\n",
    "        # Training function\n",
    "        def train_step(state, batch):\n",
    "            loss_fn = lambda params: calculate_loss(params, state.batch_stats, batch, train=True)\n",
    "            # Get loss, gradients for loss, and other outputs of loss function\n",
    "            ret, grads = jax.value_and_grad(loss_fn, has_aux=True)(state.params)  \n",
    "            loss, acc, new_model_state = ret[0], *ret[1]\n",
    "            # Update parameters and batch statistics\n",
    "            state = state.apply_gradients(grads=grads, batch_stats=new_model_state['batch_stats'])\n",
    "            return state, loss, acc\n",
    "        # Eval function\n",
    "        def eval_step(state, batch):\n",
    "            # Return the accuracy for a single batch\n",
    "            _, (acc, _) = calculate_loss(state.params, state.batch_stats, batch, train=False)\n",
    "            return acc\n",
    "        # jit for efficiency\n",
    "        self.train_step = jax.jit(train_step)\n",
    "        self.eval_step = jax.jit(eval_step)\n",
    "\n",
    "    def init_model(self, exmp_imgs):\n",
    "        # Initialize model\n",
    "        init_rng = jax.random.PRNGKey(self.seed)\n",
    "        variables = self.model.init(init_rng, exmp_imgs, train=True)\n",
    "        self.init_params, self.init_batch_stats = variables['params'], variables['batch_stats']\n",
    "        self.state = None\n",
    "        \n",
    "    def init_optimizer(self, num_epochs, steps_per_epoch):\n",
    "        # Initialize learning rate schedule and optimizer\n",
    "        if self.optimizer_name.lower() == 'adam':\n",
    "            opt_class = optax.adam\n",
    "        elif self.optimizer_name.lower() == 'adamw':\n",
    "            opt_class = optax.adamw\n",
    "        elif self.optimizer_name.lower() == 'sgd':\n",
    "            opt_class = optax.sgd\n",
    "        else:\n",
    "            assert False, f'Unknown optimizer \"{opt_class}\"'\n",
    "        # We decrease the learning rate by a factor of 0.1 after 60% and 85% of the training\n",
    "        num_steps_per_epoch = len(train_loader)\n",
    "        lr_schedule = optax.piecewise_constant_schedule(\n",
    "            init_value=self.optimizer_hparams.pop('lr'),\n",
    "            boundaries_and_scales=\n",
    "                {int(num_steps_per_epoch*num_epochs*0.6): 0.1,\n",
    "                 int(num_steps_per_epoch*num_epochs*0.85): 0.1}\n",
    "        )\n",
    "        # Clip gradients at max value, and evt. apply weight decay\n",
    "        transf = [optax.clip(1.0)]\n",
    "        if opt_class == optax.sgd and 'weight_decay' in self.optimizer_hparams:  # wd is integrated in adamw\n",
    "            transf.append(optax.add_decayed_weights(self.optimizer_hparams.pop('weight_decay')))\n",
    "        optimizer = optax.chain(\n",
    "            *transf,\n",
    "            opt_class(lr_schedule, **self.optimizer_hparams)\n",
    "        )\n",
    "        # Initialize training state\n",
    "        self.state = TrainState.create(apply_fn=self.model.apply, \n",
    "                                       params=self.init_params if self.state is None else self.state.params,\n",
    "                                       batch_stats=self.init_batch_stats if self.state is None else self.state.batch_stats,\n",
    "                                       tx=optimizer)\n",
    "\n",
    "    def train_model(self, train_loader, val_loader, num_epochs=200):\n",
    "        # Train model for defined number of epochs\n",
    "        # We first need to create optimizer and the scheduler for the given number of epochs\n",
    "        self.init_optimizer(num_epochs, len(train_loader))\n",
    "        # Track best eval accuracy\n",
    "        best_eval = 0.0\n",
    "        for epoch_idx in tqdm(range(1, num_epochs+1)):\n",
    "            self.train_epoch(epoch=epoch_idx)\n",
    "            if epoch_idx % 2 == 0:\n",
    "                eval_acc = self.eval_model(val_loader)\n",
    "                self.logger.add_scalar('val/acc', eval_acc, global_step=epoch_idx)\n",
    "                if eval_acc >= best_eval:\n",
    "                    best_eval = eval_acc\n",
    "                    self.save_model(step=epoch_idx)\n",
    "                self.logger.flush()\n",
    "\n",
    "    def train_epoch(self, epoch):\n",
    "        # Train model for one epoch, and log avg loss and accuracy\n",
    "        metrics = defaultdict(list)\n",
    "        for batch in tqdm(train_loader, desc='Training', leave=False):\n",
    "            self.state, loss, acc = self.train_step(self.state, batch)\n",
    "            metrics['loss'].append(loss)\n",
    "            metrics['acc'].append(acc)\n",
    "        for key in metrics:\n",
    "            avg_val = np.stack(jax.device_get(metrics[key])).mean()\n",
    "            self.logger.add_scalar('train/'+key, avg_val, global_step=epoch)\n",
    "\n",
    "    def eval_model(self, data_loader):\n",
    "        # Test model on all images of a data loader and return avg loss\n",
    "        correct_class, count = 0, 0\n",
    "        for batch in data_loader:\n",
    "            acc = self.eval_step(self.state, batch)\n",
    "            correct_class += acc * batch[0].shape[0]\n",
    "            count += batch[0].shape[0]\n",
    "        eval_acc = (correct_class / count).item()\n",
    "        return eval_acc\n",
    "\n",
    "    def save_model(self, step=0):\n",
    "        # Save current model at certain training iteration\n",
    "        checkpoints.save_checkpoint(ckpt_dir=self.log_dir, \n",
    "                                    target={'params': self.state.params, \n",
    "                                            'batch_stats': self.state.batch_stats}, \n",
    "                                    step=step,\n",
    "                                   overwrite=True)\n",
    "\n",
    "    def load_model(self, pretrained=False):\n",
    "        # Load model. We use different checkpoint for pretrained models\n",
    "        if not pretrained:\n",
    "            state_dict = checkpoints.restore_checkpoint(ckpt_dir=self.log_dir, target=None)\n",
    "        else:\n",
    "            state_dict = checkpoints.restore_checkpoint(ckpt_dir=os.path.join(CHECKPOINT_PATH, f'{self.model_name}.ckpt'), target=None)\n",
    "        self.state = TrainState.create(apply_fn=self.model.apply, \n",
    "                                       params=state_dict['params'],\n",
    "                                       batch_stats=state_dict['batch_stats'],\n",
    "                                       tx=self.state.tx if self.state else optax.sgd(0.1)   # Default optimizer\n",
    "                                      )\n",
    "\n",
    "    def checkpoint_exists(self):\n",
    "        # Check whether a pretrained model exist for this autoencoder\n",
    "        return os.path.isfile(os.path.join(CHECKPOINT_PATH, f'{self.model_name}.ckpt'))"
   ]
  },
  {
   "cell_type": "markdown",
   "metadata": {},
   "source": [
    "Next, we can use this trainer module to create a compact training function:"
   ]
  },
  {
   "cell_type": "code",
   "execution_count": 10,
   "metadata": {},
   "outputs": [],
   "source": [
    "def train_classifier(*args, num_epochs=200, **kwargs):\n",
    "    # Create a trainer module with specified hyperparameters\n",
    "    num_epochs=2\n",
    "    trainer = TrainerModule(*args, **kwargs)\n",
    "    if True or not trainer.checkpoint_exists():  # Skip training if pretrained model exists\n",
    "        trainer.train_model(train_loader, val_loader, num_epochs=num_epochs)\n",
    "        trainer.load_model()\n",
    "    else:\n",
    "        trainer.load_model(pretrained=True)\n",
    "    # Test trained model\n",
    "    val_acc = trainer.eval_model(val_loader)\n",
    "    test_acc = trainer.eval_model(test_loader)\n",
    "    return trainer, {'val': val_acc, 'test': test_acc}"
   ]
  },
  {
   "cell_type": "markdown",
   "metadata": {},
   "source": [
    "Finally, we can focus on the Convolutional Neural Networks we want to implement today: GoogleNet, ResNet, and DenseNet."
   ]
  },
  {
   "cell_type": "markdown",
   "metadata": {},
   "source": [
    "## Inception\n",
    "\n",
    "The [GoogleNet](https://arxiv.org/abs/1409.4842), proposed in 2014, won the ImageNet Challenge because of its usage of the Inception modules. In general, we will mainly focus on the concept of Inception in this tutorial instead of the specifics of the GoogleNet, as based on Inception, there have been many follow-up works ([Inception-v2](https://arxiv.org/abs/1512.00567), [Inception-v3](https://arxiv.org/abs/1512.00567), [Inception-v4](https://arxiv.org/abs/1602.07261), [Inception-ResNet](https://arxiv.org/abs/1602.07261),...). The follow-up works mainly focus on increasing efficiency and enabling very deep Inception networks. However, for a fundamental understanding, it is sufficient to look at the original Inception block. \n",
    "\n",
    "An Inception block applies four convolution blocks separately on the same feature map: a 1x1, 3x3, and 5x5 convolution, and a max pool operation. This allows the network to look at the same data with different receptive fields. Of course, learning only 5x5 convolution would be theoretically more powerful. However, this is not only more computation and memory heavy but also tends to overfit much easier. The overall inception block looks like below (figure credit - [Szegedy et al.](https://arxiv.org/abs/1409.4842)):\n",
    "\n",
    "<center width=\"100%\"><img src=\"../../tutorial5/inception_block.svg\" style=\"display: block; margin-left: auto; margin-right: auto;\" width=\"500px\"/></center>\n",
    "\n",
    "The additional 1x1 convolutions before the 3x3 and 5x5 convolutions are used for dimensionality reduction. This is especially crucial as the feature maps of all branches are merged afterward, and we don't want any explosion of feature size. As 5x5 convolutions are 25 times more expensive than 1x1 convolutions, we can save a lot of computation and parameters by reducing the dimensionality before the large convolutions.\n",
    "\n",
    "We can now try to implement the Inception Block ourselves:"
   ]
  },
  {
   "cell_type": "code",
   "execution_count": 11,
   "metadata": {},
   "outputs": [],
   "source": [
    "googlenet_kernel_init = nn.initializers.kaiming_normal()\n",
    "\n",
    "class InceptionBlock(nn.Module):\n",
    "    c_red : dict  # Dictionary of reduced dimensionalities with keys \"1x1\", \"3x3\", \"5x5\", and \"max\"\n",
    "    c_out : dict  # Dictionary of output feature sizes with keys \"1x1\", \"3x3\", \"5x5\", and \"max\"\n",
    "    act_fn : callable   # Activation function\n",
    "    \n",
    "    @nn.compact\n",
    "    def __call__(self, x, train=True):\n",
    "        # 1x1 convolution branch\n",
    "        x_1x1 = nn.Conv(self.c_out[\"1x1\"], kernel_size=(1, 1), kernel_init=googlenet_kernel_init, use_bias=False)(x)\n",
    "        x_1x1 = nn.BatchNorm()(x_1x1, use_running_average=not train)\n",
    "        x_1x1 = self.act_fn(x_1x1)\n",
    "        \n",
    "        # 3x3 convolution branch\n",
    "        x_3x3 = nn.Conv(self.c_red[\"3x3\"], kernel_size=(1, 1), kernel_init=googlenet_kernel_init, use_bias=False)(x)\n",
    "        x_3x3 = nn.BatchNorm()(x_3x3, use_running_average=not train)\n",
    "        x_3x3 = self.act_fn(x_3x3)\n",
    "        x_3x3 = nn.Conv(self.c_out[\"3x3\"], kernel_size=(3, 3), kernel_init=googlenet_kernel_init, use_bias=False)(x_3x3)\n",
    "        x_3x3 = nn.BatchNorm()(x_3x3, use_running_average=not train)\n",
    "        x_3x3 = self.act_fn(x_3x3)\n",
    "        \n",
    "        # 5x5 convolution branch\n",
    "        x_5x5 = nn.Conv(self.c_red[\"5x5\"], kernel_size=(1, 1), kernel_init=googlenet_kernel_init, use_bias=False)(x)\n",
    "        x_5x5 = nn.BatchNorm()(x_5x5, use_running_average=not train)\n",
    "        x_5x5 = self.act_fn(x_5x5)\n",
    "        x_5x5 = nn.Conv(self.c_out[\"5x5\"], kernel_size=(5, 5), kernel_init=googlenet_kernel_init, use_bias=False)(x_5x5)\n",
    "        x_5x5 = nn.BatchNorm()(x_5x5, use_running_average=not train)\n",
    "        x_5x5 = self.act_fn(x_5x5)\n",
    "        \n",
    "        # Max-pool branch\n",
    "        x_max = nn.max_pool(x, (3, 3), strides=(2, 2))\n",
    "        x_max = nn.Conv(self.c_out[\"max\"], kernel_size=(1, 1), kernel_init=googlenet_kernel_init, use_bias=False)(x)\n",
    "        x_max = nn.BatchNorm()(x_max, use_running_average=not train)\n",
    "        x_max = self.act_fn(x_max)\n",
    "        \n",
    "        x_out = jnp.concatenate([x_1x1, x_3x3, x_5x5, x_max], axis=-1)\n",
    "        return x_out"
   ]
  },
  {
   "cell_type": "markdown",
   "metadata": {},
   "source": [
    "The GoogleNet architecture consists of stacking multiple Inception blocks with occasional max pooling to reduce the height and width of the feature maps. The original GoogleNet was designed for image sizes of ImageNet (224x224 pixels) and had almost 7 million parameters. As we train on CIFAR10 with image sizes of 32x32, we don't require such a heavy architecture, and instead, apply a reduced version. The number of channels for dimensionality reduction and output per filter (1x1, 3x3, 5x5, and max pooling) need to be manually specified and can be changed if interested. The general intuition is to have the most filters for the 3x3 convolutions, as they are powerful enough to take the context into account while requiring almost a third of the parameters of the 5x5 convolution. "
   ]
  },
  {
   "cell_type": "code",
   "execution_count": 12,
   "metadata": {},
   "outputs": [],
   "source": [
    "class GoogleNet(nn.Module):\n",
    "    num_classes : int\n",
    "    act_fn : callable\n",
    "        \n",
    "    @nn.compact\n",
    "    def __call__(self, x, train=True):\n",
    "        # A first convolution on the original image to scale up the channel size\n",
    "        x = nn.Conv(64, kernel_size=(3, 3), kernel_init=googlenet_kernel_init, use_bias=False)(x)\n",
    "        x = nn.BatchNorm()(x, use_running_average=not train)\n",
    "        x = self.act_fn(x)\n",
    "            \n",
    "        # Stacking inception blocks\n",
    "        inception_blocks = [\n",
    "            InceptionBlock(c_red={\"3x3\": 32, \"5x5\": 16}, c_out={\"1x1\": 16, \"3x3\": 32, \"5x5\": 8, \"max\": 8}, act_fn=self.act_fn),\n",
    "            InceptionBlock(c_red={\"3x3\": 32, \"5x5\": 16}, c_out={\"1x1\": 24, \"3x3\": 48, \"5x5\": 12, \"max\": 12}, act_fn=self.act_fn),\n",
    "            lambda inp: nn.max_pool(inp, (3, 3), strides=(2, 2)),  # 32x32 => 16x16\n",
    "            InceptionBlock(c_red={\"3x3\": 32, \"5x5\": 16}, c_out={\"1x1\": 24, \"3x3\": 48, \"5x5\": 12, \"max\": 12}, act_fn=self.act_fn),\n",
    "            InceptionBlock(c_red={\"3x3\": 32, \"5x5\": 16}, c_out={\"1x1\": 16, \"3x3\": 48, \"5x5\": 16, \"max\": 16}, act_fn=self.act_fn),\n",
    "            InceptionBlock(c_red={\"3x3\": 32, \"5x5\": 16}, c_out={\"1x1\": 16, \"3x3\": 48, \"5x5\": 16, \"max\": 16}, act_fn=self.act_fn),\n",
    "            InceptionBlock(c_red={\"3x3\": 32, \"5x5\": 16}, c_out={\"1x1\": 32, \"3x3\": 48, \"5x5\": 24, \"max\": 24}, act_fn=self.act_fn),\n",
    "            lambda inp: nn.max_pool(inp, (3, 3), strides=(2, 2)),  # 16x16 => 8x8\n",
    "            InceptionBlock(c_red={\"3x3\": 48, \"5x5\": 16}, c_out={\"1x1\": 32, \"3x3\": 64, \"5x5\": 16, \"max\": 16}, act_fn=self.act_fn),\n",
    "            InceptionBlock(c_red={\"3x3\": 48, \"5x5\": 16}, c_out={\"1x1\": 32, \"3x3\": 64, \"5x5\": 16, \"max\": 16}, act_fn=self.act_fn)\n",
    "        ]\n",
    "        for block in inception_blocks:\n",
    "            x = block(x, train=train) if isinstance(block, InceptionBlock) else block(x)\n",
    "        \n",
    "        # Mapping to classification output\n",
    "        x = x.mean(axis=(1, 2))\n",
    "        x = nn.Dense(self.num_classes)(x)\n",
    "        return x"
   ]
  },
  {
   "cell_type": "markdown",
   "metadata": {},
   "source": [
    "The training of the model is handled by our previously implemented training function, and we just have to define the command to start. Note that we train for 200 epochs, which takes about 15mins on a RTX3090. We would recommend using the saved models and train your own model if you are interested. "
   ]
  },
  {
   "cell_type": "code",
   "execution_count": 13,
   "metadata": {},
   "outputs": [
    {
     "data": {
      "application/vnd.jupyter.widget-view+json": {
       "model_id": "13464262dfc545a7bf8ca556805d7631",
       "version_major": 2,
       "version_minor": 0
      },
      "text/plain": [
       "  0%|          | 0/2 [00:00<?, ?it/s]"
      ]
     },
     "metadata": {},
     "output_type": "display_data"
    },
    {
     "data": {
      "application/vnd.jupyter.widget-view+json": {
       "model_id": "",
       "version_major": 2,
       "version_minor": 0
      },
      "text/plain": [
       "Training:   0%|          | 0/351 [00:00<?, ?it/s]"
      ]
     },
     "metadata": {},
     "output_type": "display_data"
    },
    {
     "data": {
      "application/vnd.jupyter.widget-view+json": {
       "model_id": "",
       "version_major": 2,
       "version_minor": 0
      },
      "text/plain": [
       "Training:   0%|          | 0/351 [00:00<?, ?it/s]"
      ]
     },
     "metadata": {},
     "output_type": "display_data"
    }
   ],
   "source": [
    "googlenet_trainer, googlenet_results = train_classifier(model_class=GoogleNet,\n",
    "                                                        model_name=\"GoogleNet\",\n",
    "                                                        model_hparams={\"num_classes\": 10,\n",
    "                                                                       \"act_fn\": nn.relu},\n",
    "                                                        optimizer_name=\"adamw\",\n",
    "                                                        optimizer_hparams={\"lr\": 1e-3,\n",
    "                                                                           \"weight_decay\": 1e-4},\n",
    "                                                        exmp_imgs=jax.device_put(\n",
    "                                                            next(iter(train_loader))[0]),\n",
    "                                                        num_epochs=200)"
   ]
  },
  {
   "cell_type": "markdown",
   "metadata": {},
   "source": [
    "We will compare the results later in the notebooks, but we can already print them here for a first glance:"
   ]
  },
  {
   "cell_type": "code",
   "execution_count": 14,
   "metadata": {},
   "outputs": [
    {
     "name": "stdout",
     "output_type": "stream",
     "text": [
      "GoogleNet Results {'val': 0.6566000580787659, 'test': 0.659000039100647}\n"
     ]
    }
   ],
   "source": [
    "print(\"GoogleNet Results\", googlenet_results)"
   ]
  },
  {
   "cell_type": "markdown",
   "metadata": {},
   "source": [
    "### Tensorboard log\n",
    "\n",
    "For logging our results, we have used TensorBoard. To give you a better intuition of what TensorBoard can be used for, we can look at the board that our training of the GoogleNet has generated. TensorBoard provides an inline functionality for Jupyter notebooks, and we use it here:"
   ]
  },
  {
   "cell_type": "code",
   "execution_count": 15,
   "metadata": {},
   "outputs": [],
   "source": [
    "# Load tensorboard extension\n",
    "%load_ext tensorboard"
   ]
  },
  {
   "cell_type": "code",
   "execution_count": 16,
   "metadata": {},
   "outputs": [
    {
     "data": {
      "text/html": [
       "\n",
       "      <iframe id=\"tensorboard-frame-ef3f0e737808f54\" width=\"100%\" height=\"800\" frameborder=\"0\">\n",
       "      </iframe>\n",
       "      <script>\n",
       "        (function() {\n",
       "          const frame = document.getElementById(\"tensorboard-frame-ef3f0e737808f54\");\n",
       "          const url = new URL(\"/\", window.location);\n",
       "          const port = 6006;\n",
       "          if (port) {\n",
       "            url.port = port;\n",
       "          }\n",
       "          frame.src = url;\n",
       "        })();\n",
       "      </script>\n",
       "    "
      ],
      "text/plain": [
       "<IPython.core.display.HTML object>"
      ]
     },
     "metadata": {},
     "output_type": "display_data"
    }
   ],
   "source": [
    "# Opens tensorboard in notebook. Adjust the path to your CHECKPOINT_PATH!\n",
    "%tensorboard --logdir ../../saved_models/tutorial5_jax/tensorboards/GoogleNet/"
   ]
  },
  {
   "cell_type": "markdown",
   "metadata": {},
   "source": [
    "<center width=\"100%\"><img src=\"tensorboard_screenshot_GoogleNet.png\" width=\"1000px\"></center>\n",
    "\n",
    "TensorBoard is organized in multiple tabs. The main tab is the scalar tab where we can log the development of single numbers. For example, we have plotted the training loss, accuracy, learning rate, etc. If we look at the training or validation accuracy, we can really see the impact of using a learning rate scheduler. Reducing the learning rate gives our model a nice increase in training performance. Similarly, when looking at the training loss, we see a sudden decrease at this point. However, the high numbers on the training set compared to validation indicate that our model was overfitting which is inevitable for such large networks."
   ]
  },
  {
   "cell_type": "markdown",
   "metadata": {},
   "source": [
    "## ResNet\n",
    "\n",
    "The [ResNet](https://arxiv.org/abs/1512.03385) paper is one of the  [most cited AI papers](https://www.natureindex.com/news-blog/google-scholar-reveals-most-influential-papers-research-citations-twenty-twenty), and has been the foundation for neural networks with more than 1,000 layers. Despite its simplicity, the idea of residual connections is highly effective as it supports stable gradient propagation through the network. Instead of modeling $x_{l+1}=F(x_{l})$, we model $x_{l+1}=x_{l}+F(x_{l})$ where $F$ is a non-linear mapping (usually a sequence of NN modules likes convolutions, activation functions, and normalizations). If we do backpropagation on such residual connections, we obtain:\n",
    "\n",
    "$$\\frac{\\partial x_{l+1}}{\\partial x_{l}} = \\mathbf{I} + \\frac{\\partial F(x_{l})}{\\partial x_{l}}$$\n",
    "\n",
    "The bias towards the identity matrix guarantees a stable gradient propagation being less effected by $F$ itself. There have been many variants of ResNet proposed, which mostly concern the function $F$, or operations applied on the sum. In this tutorial, we look at two of them: the original ResNet block, and the [Pre-Activation ResNet block](https://arxiv.org/abs/1603.05027). We visually compare the blocks below (figure credit - [He et al.](https://arxiv.org/abs/1603.05027)):\n",
    "\n",
    "<center width=\"100%\"><img src=\"../../tutorial5/resnet_block.svg\" style=\"display: block; margin-left: auto; margin-right: auto;\" width=\"300px\"/></center>\n",
    "\n",
    "The original ResNet block applies a non-linear activation function, usually ReLU, after the skip connection. In contrast, the pre-activation ResNet block applies the non-linearity at the beginning of $F$. Both have their advantages and disadvantages. For very deep network, however, the pre-activation ResNet has shown to perform better as the gradient flow is guaranteed to have the identity matrix as calculated above, and is not harmed by any non-linear activation applied to it. For comparison, in this notebook, we implement both ResNet types as shallow networks.\n",
    "\n",
    "Let's start with the original ResNet block. The visualization above already shows what layers are included in $F$. One special case we have to handle is when we want to reduce the image dimensions in terms of width and height. The basic ResNet block requires $F(x_{l})$ to be of the same shape as $x_{l}$. Thus, we need to change the dimensionality of $x_{l}$ as well before adding to $F(x_{l})$. The original implementation used an identity mapping with stride 2 and padded additional feature dimensions with 0. However, the more common implementation is to use a 1x1 convolution with stride 2 as it allows us to change the feature dimensionality while being efficient in parameter and computation cost. The code for the ResNet block is relatively simple, and shown below:"
   ]
  },
  {
   "cell_type": "code",
   "execution_count": 17,
   "metadata": {},
   "outputs": [],
   "source": [
    "# Conv initialized with kaiming int, but uses fan-out instead of fan-in mode\n",
    "# Fan-out focuses on the gradient distribution, and is commonly used in ResNets\n",
    "resnet_kernel_init = nn.initializers.variance_scaling(2.0, mode='fan_out', distribution='normal')\n",
    "\n",
    "class ResNetBlock(nn.Module):\n",
    "    act_fn : callable  # Activation function\n",
    "    c_out : int   # Output feature size\n",
    "    subsample : bool = False  # If True, we apply a stride inside F\n",
    "\n",
    "    @nn.compact\n",
    "    def __call__(self, x, train=True):\n",
    "        # Network representing F\n",
    "        z = nn.Conv(self.c_out, kernel_size=(3, 3), \n",
    "                    strides=(1, 1) if not self.subsample else (2, 2), \n",
    "                    kernel_init=resnet_kernel_init,\n",
    "                    use_bias=False)(x)\n",
    "        z = nn.BatchNorm()(z, use_running_average=not train)\n",
    "        z = self.act_fn(z)\n",
    "        z = nn.Conv(self.c_out, kernel_size=(3, 3), \n",
    "                    kernel_init=resnet_kernel_init,\n",
    "                    use_bias=False)(z)\n",
    "        z = nn.BatchNorm()(z, use_running_average=not train)\n",
    "        \n",
    "        if self.subsample:\n",
    "            x = nn.Conv(self.c_out, kernel_size=(1, 1), strides=(2, 2), kernel_init=resnet_kernel_init)(x)\n",
    "        \n",
    "        x_out = self.act_fn(z + x)\n",
    "        return x_out"
   ]
  },
  {
   "cell_type": "markdown",
   "metadata": {},
   "source": [
    "The second block we implement is the pre-activation ResNet block. For this, we have to change the order of layers, and do not apply an activation function on the output. Additionally, the downsampling operation has to apply a non-linearity as well as the input, $x_l$, has not been processed by a non-linearity yet. Hence, the block looks as follows:"
   ]
  },
  {
   "cell_type": "code",
   "execution_count": 18,
   "metadata": {},
   "outputs": [],
   "source": [
    "class PreActResNetBlock(ResNetBlock):\n",
    "    \n",
    "    @nn.compact\n",
    "    def __call__(self, x, train=True):\n",
    "        # Network representing F\n",
    "        z = nn.BatchNorm()(x, use_running_average=not train)\n",
    "        z = self.act_fn(z)\n",
    "        z = nn.Conv(self.c_out, kernel_size=(3, 3), \n",
    "                    strides=(1, 1) if not self.subsample else (2, 2), \n",
    "                    kernel_init=resnet_kernel_init,\n",
    "                    use_bias=False)(z)\n",
    "        z = nn.BatchNorm()(z, use_running_average=not train)\n",
    "        z = self.act_fn(z)\n",
    "        z = nn.Conv(self.c_out, kernel_size=(3, 3), \n",
    "                    kernel_init=resnet_kernel_init,\n",
    "                    use_bias=False)(z)\n",
    "        \n",
    "        if self.subsample:\n",
    "            x = nn.BatchNorm()(x, use_running_average=not train)\n",
    "            x = self.act_fn(x)\n",
    "            x = nn.Conv(self.c_out, \n",
    "                        kernel_size=(1, 1), \n",
    "                        strides=(2, 2), \n",
    "                        kernel_init=resnet_kernel_init,\n",
    "                        use_bias=False)(x)\n",
    "        \n",
    "        x_out = z + x\n",
    "        return x_out"
   ]
  },
  {
   "cell_type": "markdown",
   "metadata": {},
   "source": [
    "The overall ResNet architecture consists of stacking multiple ResNet blocks, of which some are downsampling the input. When talking about ResNet blocks in the whole network, we usually group them by the same output shape. Hence, if we say the ResNet has `[3,3,3]` blocks, it means that we have 3 times a group of 3 ResNet blocks, where a subsampling is taking place in the fourth and seventh block. The ResNet with `[3,3,3]` blocks on CIFAR10 is visualized below.\n",
    "\n",
    "<center width=\"100%\"><img src=\"../../tutorial5/resnet_notation.svg\" width=\"500px\"></center>\n",
    "\n",
    "The three groups operate on the resolutions $32\\times32$, $16\\times16$ and $8\\times8$ respectively. The blocks in orange denote ResNet blocks with downsampling. The same notation is used by many other implementations such as in the [torchvision library](https://pytorch.org/docs/stable/_modules/torchvision/models/resnet.html#resnet18) from PyTorch or [flaxmodels](https://github.com/matthias-wright/flaxmodels) (pretrained ResNets and more for JAX). Thus, our code looks as follows:"
   ]
  },
  {
   "cell_type": "code",
   "execution_count": 19,
   "metadata": {},
   "outputs": [],
   "source": [
    "class ResNet(nn.Module):\n",
    "    num_classes : int\n",
    "    act_fn : callable\n",
    "    block_class : nn.Module\n",
    "    num_blocks : tuple = (3, 3, 3)\n",
    "    c_hidden : tuple = (16, 32, 64)\n",
    "        \n",
    "    @nn.compact\n",
    "    def __call__(self, x, train=True):\n",
    "        # A first convolution on the original image to scale up the channel size\n",
    "        x = nn.Conv(self.c_hidden[0], kernel_size=(3, 3), kernel_init=resnet_kernel_init, use_bias=False)(x)\n",
    "        if self.block_class == ResNetBlock:  # If pre-activation block, we do not apply non-linearities yet\n",
    "            x = nn.BatchNorm()(x, use_running_average=not train)\n",
    "            x = self.act_fn(x)\n",
    "        \n",
    "        # Creating the ResNet blocks\n",
    "        for block_idx, block_count in enumerate(self.num_blocks):\n",
    "            for bc in range(block_count):\n",
    "                # Subsample the first block of each group, except the very first one.\n",
    "                subsample = (bc == 0 and block_idx > 0)\n",
    "                # ResNet block\n",
    "                x = self.block_class(c_out=self.c_hidden[block_idx],\n",
    "                                     act_fn=self.act_fn,\n",
    "                                     subsample=subsample)(x, train=train)\n",
    "        \n",
    "        # Mapping to classification output\n",
    "        x = x.mean(axis=(1, 2))\n",
    "        x = nn.Dense(self.num_classes)(x)\n",
    "        return x"
   ]
  },
  {
   "cell_type": "markdown",
   "metadata": {},
   "source": [
    "Finally, we can train our ResNet models. One difference to the GoogleNet training is that we explicitly use SGD with Momentum as optimizer instead of Adam. Adam often leads to a slightly worse accuracy on plain, shallow ResNets. It is not 100% clear why Adam performs worse in this context, but one possible explanation is related to ResNet's loss surface. ResNet has been shown to produce smoother loss surfaces than networks without skip connection (see [Li et al., 2018](https://arxiv.org/pdf/1712.09913.pdf) for details). A possible visualization of the loss surface with/out skip connections is below (figure credit - [Li et al.](https://arxiv.org/pdf/1712.09913.pdf)):\n",
    "\n",
    "<center width=\"100%\"><img src=\"../../tutorial5/resnet_loss_surface.svg\" style=\"display: block; margin-left: auto; margin-right: auto;\" width=\"600px\"/></center>\n",
    "\n",
    "The $x$ and $y$ axis shows a projection of the parameter space, and the $z$ axis shows the loss values achieved by different parameter values. On smooth surfaces like the one on the right, we might not require an adaptive learning rate as Adam provides. Instead, Adam can get stuck in local optima while SGD finds the wider minima that tend to generalize better.\n",
    "However, to answer this question in detail, we would need an extra tutorial because it is not easy to answer. For now, we conclude: for ResNet architectures, consider the optimizer to be an important hyperparameter, and try training with both Adam and SGD. Let's train the model below with SGD:"
   ]
  },
  {
   "cell_type": "code",
   "execution_count": 20,
   "metadata": {},
   "outputs": [
    {
     "data": {
      "application/vnd.jupyter.widget-view+json": {
       "model_id": "90e590e0277d4da4b4aa7ef2f751268c",
       "version_major": 2,
       "version_minor": 0
      },
      "text/plain": [
       "  0%|          | 0/2 [00:00<?, ?it/s]"
      ]
     },
     "metadata": {},
     "output_type": "display_data"
    },
    {
     "data": {
      "application/vnd.jupyter.widget-view+json": {
       "model_id": "",
       "version_major": 2,
       "version_minor": 0
      },
      "text/plain": [
       "Training:   0%|          | 0/351 [00:00<?, ?it/s]"
      ]
     },
     "metadata": {},
     "output_type": "display_data"
    },
    {
     "data": {
      "application/vnd.jupyter.widget-view+json": {
       "model_id": "",
       "version_major": 2,
       "version_minor": 0
      },
      "text/plain": [
       "Training:   0%|          | 0/351 [00:00<?, ?it/s]"
      ]
     },
     "metadata": {},
     "output_type": "display_data"
    }
   ],
   "source": [
    "resnet_trainer, resnet_results = train_classifier(model_name=\"ResNet\",\n",
    "                                                  model_class=ResNet,\n",
    "                                                  model_hparams={\"num_classes\": 10,\n",
    "                                                                 \"c_hidden\": (16, 32, 64),\n",
    "                                                                 \"num_blocks\": (3, 3, 3),\n",
    "                                                                 \"act_fn\": nn.relu,\n",
    "                                                                 \"block_class\": ResNetBlock},\n",
    "                                                  optimizer_name=\"SGD\",\n",
    "                                                  optimizer_hparams={\"lr\": 0.1,\n",
    "                                                                     \"momentum\": 0.9,\n",
    "                                                                     \"weight_decay\": 1e-4},\n",
    "                                                  exmp_imgs=jax.device_put(\n",
    "                                                      next(iter(train_loader))[0]),\n",
    "                                                  num_epochs=200)"
   ]
  },
  {
   "cell_type": "markdown",
   "metadata": {},
   "source": [
    "Let's also train the pre-activation ResNet as comparison:"
   ]
  },
  {
   "cell_type": "code",
   "execution_count": 21,
   "metadata": {},
   "outputs": [
    {
     "data": {
      "application/vnd.jupyter.widget-view+json": {
       "model_id": "fb8b01eabde440d09323373f1a488dd6",
       "version_major": 2,
       "version_minor": 0
      },
      "text/plain": [
       "  0%|          | 0/2 [00:00<?, ?it/s]"
      ]
     },
     "metadata": {},
     "output_type": "display_data"
    },
    {
     "data": {
      "application/vnd.jupyter.widget-view+json": {
       "model_id": "",
       "version_major": 2,
       "version_minor": 0
      },
      "text/plain": [
       "Training:   0%|          | 0/351 [00:00<?, ?it/s]"
      ]
     },
     "metadata": {},
     "output_type": "display_data"
    },
    {
     "data": {
      "application/vnd.jupyter.widget-view+json": {
       "model_id": "",
       "version_major": 2,
       "version_minor": 0
      },
      "text/plain": [
       "Training:   0%|          | 0/351 [00:00<?, ?it/s]"
      ]
     },
     "metadata": {},
     "output_type": "display_data"
    }
   ],
   "source": [
    "preactresnet_trainer, preactresnet_results = train_classifier(model_name=\"PreActResNet\",\n",
    "                                                              model_class=ResNet,\n",
    "                                                              model_hparams={\"num_classes\": 10,\n",
    "                                                                             \"c_hidden\": (16, 32, 64),\n",
    "                                                                             \"num_blocks\": (3, 3, 3),\n",
    "                                                                             \"act_fn\": nn.relu,\n",
    "                                                                             \"block_class\": PreActResNetBlock},\n",
    "                                                              optimizer_name=\"SGD\",\n",
    "                                                              optimizer_hparams={\"lr\": 0.1,\n",
    "                                                                                 \"momentum\": 0.9,\n",
    "                                                                                 \"weight_decay\": 1e-4},\n",
    "                                                              exmp_imgs=jax.device_put(\n",
    "                                                                  next(iter(train_loader))[0]),\n",
    "                                                              num_epochs=200)"
   ]
  },
  {
   "cell_type": "markdown",
   "metadata": {},
   "source": [
    "### Tensorboard log\n",
    "\n",
    "Similarly to our GoogleNet model, we also have a TensorBoard log for the ResNet model. We can open it below."
   ]
  },
  {
   "cell_type": "code",
   "execution_count": 22,
   "metadata": {},
   "outputs": [
    {
     "data": {
      "text/html": [
       "\n",
       "      <iframe id=\"tensorboard-frame-a1fd85df33f7d2f1\" width=\"100%\" height=\"800\" frameborder=\"0\">\n",
       "      </iframe>\n",
       "      <script>\n",
       "        (function() {\n",
       "          const frame = document.getElementById(\"tensorboard-frame-a1fd85df33f7d2f1\");\n",
       "          const url = new URL(\"/\", window.location);\n",
       "          const port = 6007;\n",
       "          if (port) {\n",
       "            url.port = port;\n",
       "          }\n",
       "          frame.src = url;\n",
       "        })();\n",
       "      </script>\n",
       "    "
      ],
      "text/plain": [
       "<IPython.core.display.HTML object>"
      ]
     },
     "metadata": {},
     "output_type": "display_data"
    }
   ],
   "source": [
    "# Opens tensorboard in notebook. Adjust the path to your CHECKPOINT_PATH! Feel free to change \"ResNet\" to \"PreActResNet\"\n",
    "%tensorboard --logdir ../../saved_models/tutorial5_jax/tensorboards/ResNet/"
   ]
  },
  {
   "cell_type": "markdown",
   "metadata": {},
   "source": [
    "<center width=\"100%\"><img src=\"tensorboard_screenshot_ResNet.png\" width=\"1000px\"></center>\n",
    "\n",
    "Feel free to explore the TensorBoard yourself, including the computation graph. In general, we can see that with SGD, the ResNet has a higher training loss than the GoogleNet in the first stage of the training. After reducing the learning rate however, the model achieves even higher validation accuracies. We compare the precise scores at the end of the notebook."
   ]
  },
  {
   "cell_type": "markdown",
   "metadata": {},
   "source": [
    "## DenseNet\n",
    "\n",
    "[DenseNet](https://arxiv.org/abs/1608.06993) is another architecture for enabling very deep neural networks and takes a slightly different perspective on residual connections. Instead of modeling the difference between layers, DenseNet considers residual connections as a possible way to reuse features across layers, removing any necessity to learn redundant feature maps. If we go deeper into the network, the model learns abstract features to recognize patterns. However, some complex patterns consist of a combination of abstract features (e.g. hand, face, etc.), and low-level features (e.g. edges, basic color, etc.). To find these low-level features in the deep layers, standard CNNs have to learn copy such feature maps, which wastes a lot of parameter complexity. DenseNet provides an efficient way of reusing features by having each convolution depends on all previous input features, but add only a small amount of filters to it. See the figure below for an illustration (figure credit - [Hu et al.](https://arxiv.org/abs/1608.06993)):\n",
    "\n",
    "<center width=\"100%\"><img src=\"../../tutorial5/densenet_block.svg\" style=\"display: block; margin-left: auto; margin-right: auto;\" width=\"500px\"/></center>\n",
    "\n",
    "The last layer, called the transition layer, is responsible for reducing the dimensionality of the feature maps in height, width, and channel size. Although those technically break the identity backpropagation, there are only a few in a network so that it doesn't affect the gradient flow much. \n",
    "\n",
    "We split the implementation of the layers in DenseNet into three parts: a `DenseLayer`, and a `DenseBlock`, and a `TransitionLayer`. The module `DenseLayer` implements a single layer inside a dense block. It applies a 1x1 convolution for dimensionality reduction with a subsequential 3x3 convolution. The output channels are concatenated to the originals and returned. Note that we apply the Batch Normalization as the first layer of each block. This allows slightly different activations for the same features to different layers, depending on what is needed. Overall, we can implement it as follows:"
   ]
  },
  {
   "cell_type": "code",
   "execution_count": 23,
   "metadata": {},
   "outputs": [],
   "source": [
    "densenet_kernel_init = nn.initializers.kaiming_normal()\n",
    "\n",
    "class DenseLayer(nn.Module):\n",
    "    bn_size : int  # Bottleneck size (factor of growth rate) for the output of the 1x1 convolution\n",
    "    growth_rate : int  # Number of output channels of the 3x3 convolution\n",
    "    act_fn : callable  # Activation function\n",
    "        \n",
    "    @nn.compact\n",
    "    def __call__(self, x, train=True):\n",
    "        z = nn.BatchNorm()(x, use_running_average=not train)\n",
    "        z = self.act_fn(z)\n",
    "        z = nn.Conv(self.bn_size * self.growth_rate, \n",
    "                    kernel_size=(1, 1), \n",
    "                    kernel_init=densenet_kernel_init, \n",
    "                    use_bias=False)(z)\n",
    "        z = nn.BatchNorm()(z, use_running_average=not train)\n",
    "        z = self.act_fn(z)\n",
    "        z = nn.Conv(self.growth_rate, \n",
    "                    kernel_size=(3, 3), \n",
    "                    kernel_init=densenet_kernel_init, \n",
    "                    use_bias=False)(z)\n",
    "        x_out = jnp.concatenate([x, z], axis=-1)\n",
    "        return x_out"
   ]
  },
  {
   "cell_type": "markdown",
   "metadata": {},
   "source": [
    "The module `DenseBlock` summarizes multiple dense layers applied in sequence. Each dense layer takes as input the original input concatenated with all previous layers' feature maps:"
   ]
  },
  {
   "cell_type": "code",
   "execution_count": 24,
   "metadata": {},
   "outputs": [],
   "source": [
    "class DenseBlock(nn.Module):\n",
    "    num_layers : int  # Number of dense layers to apply in the block\n",
    "    bn_size : int  # Bottleneck size to use in the dense layers\n",
    "    growth_rate : int  # Growth rate to use in the dense layers\n",
    "    act_fn : callable  # Activation function to use in the dense layers\n",
    "    \n",
    "    @nn.compact\n",
    "    def __call__(self, x, train=True):\n",
    "        for _ in range(self.num_layers):\n",
    "            x = DenseLayer(bn_size=self.bn_size,\n",
    "                           growth_rate=self.growth_rate,\n",
    "                           act_fn=self.act_fn)(x, train=train)\n",
    "        return x"
   ]
  },
  {
   "cell_type": "markdown",
   "metadata": {},
   "source": [
    "Finally, the `TransitionLayer` takes as input the final output of a dense block and reduces its channel dimensionality using a 1x1 convolution. To reduce the height and width dimension, we take a slightly different approach than in ResNet and apply an average pooling with kernel size 2 and stride 2. This is because we don't have an additional connection to the output that would consider the full 2x2 patch instead of a single value. Besides, it is more parameter efficient than using a 3x3 convolution with stride 2. Thus, the layer is implemented as follows:"
   ]
  },
  {
   "cell_type": "code",
   "execution_count": 25,
   "metadata": {},
   "outputs": [],
   "source": [
    "class TransitionLayer(nn.Module):\n",
    "    c_out : int  # Output feature size\n",
    "    act_fn : callable  # Activation function\n",
    "        \n",
    "    @nn.compact\n",
    "    def __call__(self, x, train=True):\n",
    "        x = nn.BatchNorm()(x, use_running_average=not train)\n",
    "        x = self.act_fn(x)\n",
    "        x = nn.Conv(self.c_out, \n",
    "                    kernel_size=(1, 1), \n",
    "                    kernel_init=densenet_kernel_init,\n",
    "                    use_bias=False)(x)\n",
    "        x = nn.avg_pool(x, (2, 2), strides=(2, 2))\n",
    "        return x"
   ]
  },
  {
   "cell_type": "markdown",
   "metadata": {},
   "source": [
    "Now we can put everything together and create our DenseNet. To specify the number of layers, we use a similar notation as in ResNets and pass on a list of ints representing the number of layers per block. After each dense block except the last one, we apply a transition layer to reduce the dimensionality by 2. "
   ]
  },
  {
   "cell_type": "code",
   "execution_count": 26,
   "metadata": {},
   "outputs": [],
   "source": [
    "class DenseNet(nn.Module):\n",
    "    num_classes : int\n",
    "    act_fn : callable = nn.relu\n",
    "    num_layers : tuple = (6, 6, 6, 6)\n",
    "    bn_size : int = 2\n",
    "    growth_rate : int = 16\n",
    "    \n",
    "    @nn.compact\n",
    "    def __call__(self, x, train=True):\n",
    "        c_hidden = self.growth_rate * self.bn_size  # The start number of hidden channels\n",
    "        \n",
    "        x = nn.Conv(c_hidden,\n",
    "                    kernel_size=(3, 3),\n",
    "                    kernel_init=densenet_kernel_init)(x)\n",
    "        \n",
    "        for block_idx, num_layers in enumerate(self.num_layers):\n",
    "            x = DenseBlock(num_layers=num_layers,\n",
    "                           bn_size=self.bn_size,\n",
    "                           growth_rate=self.growth_rate,\n",
    "                           act_fn=self.act_fn)(x, train=train)\n",
    "            c_hidden += num_layers * self.growth_rate\n",
    "            if block_idx < len(self.num_layers)-1:  # Don't apply transition layer on last block\n",
    "                x = TransitionLayer(c_out=c_hidden//2,\n",
    "                                    act_fn=self.act_fn)(x, train=train)\n",
    "                c_hidden //= 2\n",
    "        \n",
    "        x = nn.BatchNorm()(x, use_running_average=not train)\n",
    "        x = self.act_fn(x)\n",
    "        x = x.mean(axis=(1, 2))\n",
    "        x = nn.Dense(self.num_classes)(x)\n",
    "        return x"
   ]
  },
  {
   "cell_type": "markdown",
   "metadata": {},
   "source": [
    "Lastly, we train our network. In contrast to ResNet, DenseNet does not show any issues with Adam, and hence we train it with this optimizer. The other hyperparameters are chosen to result in a network with a similar parameter size as the ResNet and GoogleNet. Commonly, when designing very deep networks, DenseNet is more parameter efficient than ResNet while achieving a similar or even better performance."
   ]
  },
  {
   "cell_type": "code",
   "execution_count": 27,
   "metadata": {},
   "outputs": [
    {
     "data": {
      "application/vnd.jupyter.widget-view+json": {
       "model_id": "3d6a236a388a466ebf3e2e7fbf4bebd2",
       "version_major": 2,
       "version_minor": 0
      },
      "text/plain": [
       "  0%|          | 0/2 [00:00<?, ?it/s]"
      ]
     },
     "metadata": {},
     "output_type": "display_data"
    },
    {
     "data": {
      "application/vnd.jupyter.widget-view+json": {
       "model_id": "",
       "version_major": 2,
       "version_minor": 0
      },
      "text/plain": [
       "Training:   0%|          | 0/351 [00:00<?, ?it/s]"
      ]
     },
     "metadata": {},
     "output_type": "display_data"
    },
    {
     "data": {
      "application/vnd.jupyter.widget-view+json": {
       "model_id": "",
       "version_major": 2,
       "version_minor": 0
      },
      "text/plain": [
       "Training:   0%|          | 0/351 [00:00<?, ?it/s]"
      ]
     },
     "metadata": {},
     "output_type": "display_data"
    }
   ],
   "source": [
    "densenet_trainer, densenet_results = train_classifier(model_name=\"DenseNet\",\n",
    "                                                      model_class=DenseNet,\n",
    "                                                      model_hparams={\"num_classes\": 10,\n",
    "                                                                     \"num_layers\": [6, 6, 6, 6],\n",
    "                                                                     \"bn_size\": 2,\n",
    "                                                                     \"growth_rate\": 16,\n",
    "                                                                     \"act_fn\": nn.relu},\n",
    "                                                      optimizer_name=\"adamw\",\n",
    "                                                      optimizer_hparams={\"lr\": 1e-3,\n",
    "                                                                         \"weight_decay\": 1e-4},\n",
    "                                                      exmp_imgs=jax.device_put(\n",
    "                                                          next(iter(train_loader))[0]),\n",
    "                                                      num_epochs=200)"
   ]
  },
  {
   "cell_type": "markdown",
   "metadata": {},
   "source": [
    "### Tensorboard log\n",
    "\n",
    "Finally, we also have another TensorBoard for the DenseNet training. We take a look at it below:"
   ]
  },
  {
   "cell_type": "code",
   "execution_count": 28,
   "metadata": {
    "scrolled": false
   },
   "outputs": [
    {
     "data": {
      "text/html": [
       "\n",
       "      <iframe id=\"tensorboard-frame-979df3fcf1b2c350\" width=\"100%\" height=\"800\" frameborder=\"0\">\n",
       "      </iframe>\n",
       "      <script>\n",
       "        (function() {\n",
       "          const frame = document.getElementById(\"tensorboard-frame-979df3fcf1b2c350\");\n",
       "          const url = new URL(\"/\", window.location);\n",
       "          const port = 6008;\n",
       "          if (port) {\n",
       "            url.port = port;\n",
       "          }\n",
       "          frame.src = url;\n",
       "        })();\n",
       "      </script>\n",
       "    "
      ],
      "text/plain": [
       "<IPython.core.display.HTML object>"
      ]
     },
     "metadata": {},
     "output_type": "display_data"
    }
   ],
   "source": [
    "# Opens tensorboard in notebook. Adjust the path to your CHECKPOINT_PATH!\n",
    "%tensorboard --logdir ../../saved_models/tutorial5_jax/tensorboards/DenseNet/"
   ]
  },
  {
   "cell_type": "markdown",
   "metadata": {},
   "source": [
    "<center width=\"100%\"><img src=\"tensorboard_screenshot_DenseNet.png\" width=\"1000px\"></center>\n",
    "\n",
    "The overall course of the validation accuracy and training loss resemble the training of GoogleNet, which is also related to training the network with Adam. Feel free to explore the training metrics yourself."
   ]
  },
  {
   "cell_type": "markdown",
   "metadata": {},
   "source": [
    "## Conclusion and Comparison\n",
    "\n",
    "After discussing each model separately, and training all of them, we can finally compare them. First, let's organize the results of all models in a table:"
   ]
  },
  {
   "cell_type": "code",
   "execution_count": 29,
   "metadata": {},
   "outputs": [
    {
     "data": {
      "text/html": [
       "<!-- Some HTML code to increase font size in the following table -->\n",
       "<style>\n",
       "th {font-size: 120%;}\n",
       "td {font-size: 120%;}\n",
       "</style>\n"
      ],
      "text/plain": [
       "<IPython.core.display.HTML object>"
      ]
     },
     "metadata": {},
     "output_type": "display_data"
    }
   ],
   "source": [
    "%%html\n",
    "<!-- Some HTML code to increase font size in the following table -->\n",
    "<style>\n",
    "th {font-size: 120%;}\n",
    "td {font-size: 120%;}\n",
    "</style>"
   ]
  },
  {
   "cell_type": "code",
   "execution_count": 30,
   "metadata": {},
   "outputs": [
    {
     "data": {
      "text/html": [
       "<table>\n",
       "<thead>\n",
       "<tr><th>Model       </th><th>Val Accuracy  </th><th>Test Accuracy  </th><th>Num Parameters  </th></tr>\n",
       "</thead>\n",
       "<tbody>\n",
       "<tr><td>GoogleNet   </td><td>65.66%        </td><td>65.90%         </td><td>259,338         </td></tr>\n",
       "<tr><td>ResNet      </td><td>52.04%        </td><td>52.18%         </td><td>272,378         </td></tr>\n",
       "<tr><td>PreActResNet</td><td>42.74%        </td><td>43.14%         </td><td>272,250         </td></tr>\n",
       "<tr><td>DenseNet    </td><td>65.12%        </td><td>64.75%         </td><td>239,146         </td></tr>\n",
       "</tbody>\n",
       "</table>"
      ],
      "text/plain": [
       "<IPython.core.display.HTML object>"
      ]
     },
     "metadata": {},
     "output_type": "display_data"
    }
   ],
   "source": [
    "import tabulate\n",
    "from IPython.display import display, HTML\n",
    "all_models = [\n",
    "    (\"GoogleNet\", googlenet_results, googlenet_trainer),\n",
    "    (\"ResNet\", resnet_results, resnet_trainer),\n",
    "    (\"PreActResNet\", preactresnet_results, preactresnet_trainer),\n",
    "    (\"DenseNet\", densenet_results, densenet_trainer)\n",
    "]\n",
    "table = [[model_name,\n",
    "          f\"{100.0*model_results['val']:4.2f}%\",\n",
    "          f\"{100.0*model_results['test']:4.2f}%\",\n",
    "          \"{:,}\".format(sum([np.prod(p.shape) for p in jax.tree_leaves(model.state.params)]))]\n",
    "         for model_name, model_results, model in all_models]\n",
    "display(HTML(tabulate.tabulate(table, tablefmt='html', headers=[\"Model\", \"Val Accuracy\", \"Test Accuracy\", \"Num Parameters\"])))"
   ]
  },
  {
   "cell_type": "markdown",
   "metadata": {},
   "source": [
    "First of all, we see that all models are performing reasonably well. Simple models as you have implemented them in the practical achieve considerably lower performance, which is beside the lower number of parameters also attributed to the architecture design choice. GoogleNet is the model to obtain the lowest performance on the validation and test set, although it is very close to DenseNet. A proper hyperparameter search over all the channel sizes in GoogleNet would likely improve the accuracy of the model to a similar level, but this is also expensive given a large number of hyperparameters. ResNet outperforms both DenseNet and GoogleNet by more than 1% on the validation set, while there is a minor difference between both versions, original and pre-activation. We can conclude that for shallow networks, the place of the activation function does not seem to be crucial, although papers have reported the contrary for very deep networks (e.g. [He et al.](https://arxiv.org/abs/1603.05027)). \n",
    "\n",
    "In general, we can conclude that ResNet is a simple, but powerful architecture. If we would apply the models on more complex tasks with larger images and more layers inside the networks, we would likely see a bigger gap between GoogleNet and skip-connection architectures like ResNet and DenseNet. A comparison with deeper models on CIFAR10 can be for example found [here](https://github.com/kuangliu/pytorch-cifar). Interestingly, DenseNet outperforms the original ResNet on their setup but comes closely behind the Pre-Activation ResNet. The best model, a Dual Path Network ([Chen et. al](https://arxiv.org/abs/1707.01629)), is actually a combination of ResNet and DenseNet showing that both offer different advantages."
   ]
  },
  {
   "cell_type": "markdown",
   "metadata": {},
   "source": [
    "### Which model should I choose for my task?\n",
    "\n",
    "We have reviewed four different models. So, which one should we choose if have given a new task? Usually, starting with a ResNet is a good idea given the superior performance of the CIFAR dataset and its simple implementation. Besides, for the parameter number we have chosen here, ResNet is the fastest as DenseNet and GoogleNet have many more layers that are applied in sequence in our primitive implementation. However, if you have a really difficult task, such as semantic segmentation on HD images, more complex variants of ResNet and DenseNet are recommended.  "
   ]
  },
  {
   "cell_type": "markdown",
   "metadata": {},
   "source": [
    "---\n",
    "\n",
    "[![Star our repository](https://img.shields.io/static/v1.svg?logo=star&label=⭐&message=Star%20Our%20Repository&color=yellow)](https://github.com/phlippe/uvadlc_notebooks/)  If you found this tutorial helpful, consider ⭐-ing our repository.    \n",
    "[![Ask questions](https://img.shields.io/static/v1.svg?logo=star&label=❔&message=Ask%20Questions&color=9cf)](https://github.com/phlippe/uvadlc_notebooks/issues)  For any questions, typos, or bugs that you found, please raise an issue on GitHub. \n",
    "\n",
    "---"
   ]
  }
 ],
 "metadata": {
  "kernelspec": {
   "display_name": "Python 3 (ipykernel)",
   "language": "python",
   "name": "python3"
  },
  "language_info": {
   "codemirror_mode": {
    "name": "ipython",
    "version": 3
   },
   "file_extension": ".py",
   "mimetype": "text/x-python",
   "name": "python",
   "nbconvert_exporter": "python",
   "pygments_lexer": "ipython3",
   "version": "3.8.2"
  }
 },
 "nbformat": 4,
 "nbformat_minor": 4
}
