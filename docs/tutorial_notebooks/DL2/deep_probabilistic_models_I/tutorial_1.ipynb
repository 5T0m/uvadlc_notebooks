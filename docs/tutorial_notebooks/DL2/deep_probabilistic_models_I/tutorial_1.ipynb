{
 "cells": [
  {
   "cell_type": "markdown",
   "metadata": {
    "id": "jzvWfS-ELNzE"
   },
   "source": [
    "# Deep Probabilistic Models I"
   ]
  },
  {
   "cell_type": "markdown",
   "metadata": {
    "colab_type": "text",
    "id": "view-in-github"
   },
   "source": [
    "<a href=\"https://colab.research.google.com/github/probabll/probdl/blob/main/notebooks/ProbDL1.ipynb\" target=\"_parent\"><img src=\"https://colab.research.google.com/assets/colab-badge.svg\" alt=\"Open In Colab\"/></a>"
   ]
  },
  {
   "cell_type": "markdown",
   "metadata": {},
   "source": [
    "## 0. General notes\n",
    "This notebook illustrates the concepts discussed in the module **Deep probabilistic models I** offered within DL2.\n",
    "\n",
    "The examples in the notebook are based on NLP datasets, but the concepts are general enough that you can apply them in any domain. At the end of the notebook, we invite you to try your favourite dataset (as long as you can design an encoder for the data type you are interested in, transfering ideas from this notebook should be fairly simple). \n",
    "\n",
    "The notebook starts with modelling univariate response variables conditionally, given a high-dimensional and structured input. We look into a nominal response variable and then into a numerical one. Next, we look into a structured response variable. "
   ]
  },
  {
   "cell_type": "markdown",
   "metadata": {
    "id": "KqR7WUDXLeME"
   },
   "source": [
    "### 0.1 ILOs\n",
    "\n",
    "* Prescribe joint distributions using PyTorch\n",
    "* Estimate the parameters of the model via maximum likelihood estimation\n",
    "* Implement a decision rule\n",
    "\n"
   ]
  },
  {
   "cell_type": "markdown",
   "metadata": {
    "id": "fVnfg0kMLrsi"
   },
   "source": [
    "### 0.2 Setting up"
   ]
  },
  {
   "cell_type": "code",
   "execution_count": 1,
   "metadata": {
    "id": "LzjCfsJDNL1B"
   },
   "outputs": [],
   "source": [
    "%matplotlib inline\n",
    "\n",
    "import random\n",
    "import numpy as np\n",
    "import torch\n",
    "\n",
    "def seed_all(seed=42):    \n",
    "    np.random.seed(seed)\n",
    "    random.seed(seed)    \n",
    "    torch.manual_seed(seed)\n",
    "\n",
    "seed_all()"
   ]
  },
  {
   "cell_type": "code",
   "execution_count": 2,
   "metadata": {
    "colab": {
     "base_uri": "https://localhost:8080/"
    },
    "id": "QV4oRuW-XYED",
    "outputId": "250f0df5-5a23-4c8d-b33f-b24df23e4248"
   },
   "outputs": [
    {
     "name": "stdout",
     "output_type": "stream",
     "text": [
      "Defaulting to user installation because normal site-packages is not writeable\n",
      "Requirement already satisfied: nltk in /home/bryane/.local/lib/python3.9/site-packages (3.7)\n",
      "Requirement already satisfied: regex>=2021.8.3 in /home/bryane/.local/lib/python3.9/site-packages (from nltk) (2022.3.15)\n",
      "Requirement already satisfied: joblib in /sara/eb/AVX2/Debian10/EB_production/2021/software/Python/3.9.5-GCCcore-10.3.0/lib/python3.9/site-packages (from nltk) (1.0.1)\n",
      "Requirement already satisfied: click in /sara/eb/AVX2/Debian10/EB_production/2021/software/Python/3.9.5-GCCcore-10.3.0/lib/python3.9/site-packages (from nltk) (7.1.2)\n",
      "Requirement already satisfied: tqdm in /home/bryane/.local/lib/python3.9/site-packages (from nltk) (4.63.1)\n",
      "\u001b[33mWARNING: You are using pip version 21.1.1; however, version 22.0.4 is available.\n",
      "You should consider upgrading via the '/sw/arch/Debian10/EB_production/2021/software/Python/3.9.5-GCCcore-10.3.0/bin/python3.9 -m pip install --upgrade pip' command.\u001b[0m\n",
      "Defaulting to user installation because normal site-packages is not writeable\n",
      "Requirement already satisfied: tabulate in /sara/eb/AVX2/Debian10/EB_production/2021/software/Python/3.9.5-GCCcore-10.3.0/lib/python3.9/site-packages (0.8.9)\n",
      "\u001b[33mWARNING: You are using pip version 21.1.1; however, version 22.0.4 is available.\n",
      "You should consider upgrading via the '/sw/arch/Debian10/EB_production/2021/software/Python/3.9.5-GCCcore-10.3.0/bin/python3.9 -m pip install --upgrade pip' command.\u001b[0m\n",
      "Defaulting to user installation because normal site-packages is not writeable\n",
      "Requirement already satisfied: seaborn in /home/bryane/.local/lib/python3.9/site-packages (0.11.2)\n",
      "Requirement already satisfied: pandas>=0.23 in /sara/eb/AVX2/Debian10/EB_production/2021/software/SciPy-bundle/2021.05-foss-2021a/lib/python3.9/site-packages (from seaborn) (1.2.4)\n",
      "Requirement already satisfied: scipy>=1.0 in /sara/eb/AVX2/Debian10/EB_production/2021/software/SciPy-bundle/2021.05-foss-2021a/lib/python3.9/site-packages (from seaborn) (1.6.3)\n",
      "Requirement already satisfied: matplotlib>=2.2 in /sara/eb/AVX2/Debian10/EB_production/2021/software/matplotlib/3.4.2-foss-2021a/lib/python3.9/site-packages (from seaborn) (3.4.2)\n",
      "Requirement already satisfied: numpy>=1.15 in /sara/eb/AVX2/Debian10/EB_production/2021/software/SciPy-bundle/2021.05-foss-2021a/lib/python3.9/site-packages (from seaborn) (1.20.3)\n",
      "Requirement already satisfied: cycler>=0.10 in /sara/eb/AVX2/Debian10/EB_production/2021/software/matplotlib/3.4.2-foss-2021a/lib/python3.9/site-packages (from matplotlib>=2.2->seaborn) (0.10.0)\n",
      "Requirement already satisfied: pillow>=6.2.0 in /sara/eb/AVX2/Debian10/EB_production/2021/software/Pillow-SIMD/8.2.0-GCCcore-10.3.0/lib/python3.9/site-packages (from matplotlib>=2.2->seaborn) (8.2.0)\n",
      "Requirement already satisfied: kiwisolver>=1.0.1 in /sara/eb/AVX2/Debian10/EB_production/2021/software/matplotlib/3.4.2-foss-2021a/lib/python3.9/site-packages (from matplotlib>=2.2->seaborn) (1.3.1)\n",
      "Requirement already satisfied: pyparsing>=2.2.1 in /sara/eb/AVX2/Debian10/EB_production/2021/software/Python/3.9.5-GCCcore-10.3.0/lib/python3.9/site-packages (from matplotlib>=2.2->seaborn) (2.4.7)\n",
      "Requirement already satisfied: python-dateutil>=2.7 in /sara/eb/AVX2/Debian10/EB_production/2021/software/Python/3.9.5-GCCcore-10.3.0/lib/python3.9/site-packages (from matplotlib>=2.2->seaborn) (2.8.1)\n",
      "Requirement already satisfied: six in /sara/eb/AVX2/Debian10/EB_production/2021/software/Python/3.9.5-GCCcore-10.3.0/lib/python3.9/site-packages (from cycler>=0.10->matplotlib>=2.2->seaborn) (1.16.0)\n",
      "Requirement already satisfied: pytz>=2017.3 in /sara/eb/AVX2/Debian10/EB_production/2021/software/Python/3.9.5-GCCcore-10.3.0/lib/python3.9/site-packages (from pandas>=0.23->seaborn) (2021.1)\n",
      "\u001b[33mWARNING: You are using pip version 21.1.1; however, version 22.0.4 is available.\n",
      "You should consider upgrading via the '/sw/arch/Debian10/EB_production/2021/software/Python/3.9.5-GCCcore-10.3.0/bin/python3.9 -m pip install --upgrade pip' command.\u001b[0m\n",
      "Defaulting to user installation because normal site-packages is not writeable\n",
      "Requirement already satisfied: sklearn in /home/bryane/.local/lib/python3.9/site-packages (0.0)\n",
      "Requirement already satisfied: scikit-learn in /home/bryane/.local/lib/python3.9/site-packages (from sklearn) (1.0.2)\n",
      "Requirement already satisfied: scipy>=1.1.0 in /sara/eb/AVX2/Debian10/EB_production/2021/software/SciPy-bundle/2021.05-foss-2021a/lib/python3.9/site-packages (from scikit-learn->sklearn) (1.6.3)\n",
      "Requirement already satisfied: joblib>=0.11 in /sara/eb/AVX2/Debian10/EB_production/2021/software/Python/3.9.5-GCCcore-10.3.0/lib/python3.9/site-packages (from scikit-learn->sklearn) (1.0.1)\n",
      "Requirement already satisfied: threadpoolctl>=2.0.0 in /sara/eb/AVX2/Debian10/EB_production/2021/software/Python/3.9.5-GCCcore-10.3.0/lib/python3.9/site-packages (from scikit-learn->sklearn) (2.1.0)\n",
      "Requirement already satisfied: numpy>=1.14.6 in /sara/eb/AVX2/Debian10/EB_production/2021/software/SciPy-bundle/2021.05-foss-2021a/lib/python3.9/site-packages (from scikit-learn->sklearn) (1.20.3)\n",
      "\u001b[33mWARNING: You are using pip version 21.1.1; however, version 22.0.4 is available.\n",
      "You should consider upgrading via the '/sw/arch/Debian10/EB_production/2021/software/Python/3.9.5-GCCcore-10.3.0/bin/python3.9 -m pip install --upgrade pip' command.\u001b[0m\n"
     ]
    }
   ],
   "source": [
    "!pip install nltk\n",
    "!pip install tabulate\n",
    "!pip install seaborn\n",
    "!pip install sklearn"
   ]
  },
  {
   "cell_type": "markdown",
   "metadata": {
    "id": "B8qybX6RNDKh"
   },
   "source": [
    "## 1. Data\n",
    "\n",
    "In this tutorial we will design conditional models involving structured data. We use text as an example and design\n",
    "\n",
    "1. a classifier\n",
    "2. an ordinal regressor\n",
    "3. a sequence labeller\n",
    "\n",
    "At the end of the tutorial you are encouraged to design similar models for a different type of data (for example, consider a different modality of data).\n"
   ]
  },
  {
   "cell_type": "code",
   "execution_count": 3,
   "metadata": {
    "colab": {
     "base_uri": "https://localhost:8080/"
    },
    "id": "KfbZPjfaZDdo",
    "outputId": "57d80aa0-36a1-4b4e-8e8c-1c521446e4c8"
   },
   "outputs": [
    {
     "name": "stderr",
     "output_type": "stream",
     "text": [
      "[nltk_data] Downloading package treebank to /home/bryane/nltk_data...\n",
      "[nltk_data]   Package treebank is already up-to-date!\n",
      "[nltk_data] Downloading package brown to /home/bryane/nltk_data...\n",
      "[nltk_data]   Package brown is already up-to-date!\n",
      "[nltk_data] Downloading package punkt to /home/bryane/nltk_data...\n",
      "[nltk_data]   Package punkt is already up-to-date!\n",
      "[nltk_data] Downloading package universal_tagset to\n",
      "[nltk_data]     /home/bryane/nltk_data...\n",
      "[nltk_data]   Package universal_tagset is already up-to-date!\n"
     ]
    },
    {
     "data": {
      "text/plain": [
       "True"
      ]
     },
     "execution_count": 3,
     "metadata": {},
     "output_type": "execute_result"
    }
   ],
   "source": [
    "import nltk\n",
    "nltk.download('treebank')\n",
    "nltk.download('brown')\n",
    "nltk.download('punkt')\n",
    "nltk.download('universal_tagset')"
   ]
  },
  {
   "cell_type": "markdown",
   "metadata": {
    "id": "Z5KuIzkWfve2"
   },
   "source": [
    "### 1.1 Sentiment "
   ]
  },
  {
   "cell_type": "code",
   "execution_count": 4,
   "metadata": {
    "id": "7ZuAZ5Il891R"
   },
   "outputs": [],
   "source": [
    "from nltk.corpus import treebank, brown"
   ]
  },
  {
   "cell_type": "markdown",
   "metadata": {
    "id": "MhmU9zFJe6D8"
   },
   "source": [
    "The `brown` corpus contains texts organized into 15 genres."
   ]
  },
  {
   "cell_type": "code",
   "execution_count": 5,
   "metadata": {
    "colab": {
     "base_uri": "https://localhost:8080/"
    },
    "id": "8dZdoSP6fDlK",
    "outputId": "ef805f58-4d6b-4bdb-f489-8a83c1f0acfc"
   },
   "outputs": [
    {
     "data": {
      "text/plain": [
       "['adventure',\n",
       " 'belles_lettres',\n",
       " 'editorial',\n",
       " 'fiction',\n",
       " 'government',\n",
       " 'hobbies',\n",
       " 'humor',\n",
       " 'learned',\n",
       " 'lore',\n",
       " 'mystery',\n",
       " 'news',\n",
       " 'religion',\n",
       " 'reviews',\n",
       " 'romance',\n",
       " 'science_fiction']"
      ]
     },
     "execution_count": 5,
     "metadata": {},
     "output_type": "execute_result"
    }
   ],
   "source": [
    "brown.categories()"
   ]
  },
  {
   "cell_type": "markdown",
   "metadata": {
    "id": "shI3RQmZfXtG"
   },
   "source": [
    "The dataset is already preprocessed for us:"
   ]
  },
  {
   "cell_type": "code",
   "execution_count": 6,
   "metadata": {
    "colab": {
     "base_uri": "https://localhost:8080/"
    },
    "id": "aqFSixowfH-E",
    "outputId": "6b8eda51-83e5-4531-ae33-d4e637e00116"
   },
   "outputs": [
    {
     "name": "stdout",
     "output_type": "stream",
     "text": [
      "'fiction' examples\n",
      "0 ['Thirty-three']\n",
      "1 ['Scotty', 'did', 'not', 'go', 'back', 'to', 'school', '.']\n",
      "2 ['His', 'parents', 'talked', 'seriously', 'and', 'lengthily', 'to', 'their', 'own', 'doctor', 'and', 'to', 'a', 'specialist', 'at', 'the', 'University', 'Hospital', '--', 'Mr.', 'McKinley', 'was', 'entitled', 'to', 'a', 'discount', 'for', 'members', 'of', 'his', 'family', '--', 'and', 'it', 'was', 'decided', 'it', 'would', 'be', 'best', 'for', 'him', 'to', 'take', 'the', 'remainder', 'of', 'the', 'term', 'off', ',', 'spend', 'a', 'lot', 'of', 'time', 'in', 'bed', 'and', ',', 'for', 'the', 'rest', ',', 'do', 'pretty', 'much', 'as', 'he', 'chose', '--', 'provided', ',', 'of', 'course', ',', 'he', 'chose', 'to', 'do', 'nothing', 'too', 'exciting', 'or', 'too', 'debilitating', '.']\n",
      "\n",
      "'religion' examples\n",
      "0 ['As', 'a', 'result', ',', 'although', 'we', 'still', 'make', 'use', 'of', 'this', 'distinction', ',', 'there', 'is', 'much', 'confusion', 'as', 'to', 'the', 'meaning', 'of', 'the', 'basic', 'terms', 'employed', '.']\n",
      "1 ['Just', 'what', 'is', 'meant', 'by', '``', 'spirit', \"''\", 'and', 'by', '``', 'matter', \"''\", '?', '?']\n",
      "2 ['The', 'terms', 'are', 'generally', 'taken', 'for', 'granted', 'as', 'though', 'they', 'referred', 'to', 'direct', 'and', 'axiomatic', 'elements', 'in', 'the', 'common', 'experience', 'of', 'all', '.']\n",
      "\n",
      "'learned' examples\n",
      "0 ['1', '.']\n",
      "1 ['Introduction']\n",
      "2 ['It', 'has', 'recently', 'become', 'practical', 'to', 'use', 'the', 'radio', 'emission', 'of', 'the', 'moon', 'and', 'planets', 'as', 'a', 'new', 'source', 'of', 'information', 'about', 'these', 'bodies', 'and', 'their', 'atmospheres', '.']\n"
     ]
    }
   ],
   "source": [
    "print(\"'fiction' examples\")\n",
    "for i, x in zip(range(3), brown.sents(categories=['fiction'])):\n",
    "    print(i, x)\n",
    "print()\n",
    "print(\"'religion' examples\")\n",
    "for i, x in zip(range(3), brown.sents(categories=['religion'])):\n",
    "    print(i, x)\n",
    "print()\n",
    "print(\"'learned' examples\")\n",
    "for i, x in zip(range(3), brown.sents(categories=['learned'])):\n",
    "    print(i, x)"
   ]
  },
  {
   "cell_type": "code",
   "execution_count": 7,
   "metadata": {
    "id": "d4cBnewSLVtJ"
   },
   "outputs": [],
   "source": [
    "def split_nltk_categorised_corpus(corpus, categories, max_length=30, num_heldout=100):\n",
    "    \"\"\"\n",
    "    Shuffle and split a corpus.\n",
    "    corpus: a corpus of tagged sequences, each sequence is a pair, each pair is a token and a tag.\n",
    "    max_length: discard sentences longer than this\n",
    "\n",
    "    Return: \n",
    "        (training word sequences, training tag sequences), \n",
    "        (dev word sequences, dev tag sequences), \n",
    "        (test word sequences, test tag sequences),         \n",
    "    \"\"\"\n",
    "\n",
    "    sentences = []\n",
    "    labels = []\n",
    "    for k, c in enumerate(categories):\n",
    "        seqs = corpus.sents(categories=[c])\n",
    "        sentences.extend(seqs)\n",
    "        labels.extend(len(seqs) * [k])    \n",
    "    # do not change the seed in here    \n",
    "    order = np.random.RandomState(42).permutation(np.arange(len(sentences)))   \n",
    "    shuffled_sentences = [[w for w in sentences[i]] for i in order if len(sentences[i]) <= max_length]    \n",
    "    shuffled_labels = [labels[i] for i in order if len(sentences[i]) <= max_length] \n",
    "    return (shuffled_sentences[2*num_heldout:], shuffled_labels[2*num_heldout:]), (shuffled_sentences[num_heldout:2*num_heldout], shuffled_labels[num_heldout:2*num_heldout]), (shuffled_sentences[:num_heldout], shuffled_labels[:num_heldout])"
   ]
  },
  {
   "cell_type": "code",
   "execution_count": 8,
   "metadata": {
    "colab": {
     "base_uri": "https://localhost:8080/"
    },
    "id": "AQDqeKopMYFL",
    "outputId": "efd43d5c-2663-4256-c1fe-8cf35c029c99"
   },
   "outputs": [
    {
     "name": "stdout",
     "output_type": "stream",
     "text": [
      "Number of sentences: training=44685 dev=1000 test=1000\n",
      "CPU times: user 7.5 s, sys: 337 ms, total: 7.84 s\n",
      "Wall time: 8.18 s\n"
     ]
    }
   ],
   "source": [
    "%%time\n",
    "(cat_training_x, cat_training_y), (cat_dev_x, cat_dev_y), (cat_test_x, cat_test_y) = split_nltk_categorised_corpus(brown, brown.categories(), num_heldout=1000)\n",
    "print(f\"Number of sentences: training={len(cat_training_x)} dev={len(cat_dev_x)} test={len(cat_test_x)}\")"
   ]
  },
  {
   "cell_type": "code",
   "execution_count": 9,
   "metadata": {
    "colab": {
     "base_uri": "https://localhost:8080/"
    },
    "id": "8efZhDApEP6V",
    "outputId": "b919ca11-3030-424b-c3e6-2481fe66bda5"
   },
   "outputs": [
    {
     "data": {
      "text/plain": [
       "(44685, 1000, 1000)"
      ]
     },
     "execution_count": 9,
     "metadata": {},
     "output_type": "execute_result"
    }
   ],
   "source": [
    "len(cat_training_x), len(cat_dev_x), len(cat_test_x)"
   ]
  },
  {
   "cell_type": "code",
   "execution_count": 10,
   "metadata": {
    "colab": {
     "base_uri": "https://localhost:8080/"
    },
    "id": "IfhQrOW_OpnO",
    "outputId": "8ad96d01-4afa-43f2-ac0e-6b3bda3b7ea7"
   },
   "outputs": [
    {
     "data": {
      "text/plain": [
       "(1,\n",
       " ['That',\n",
       "  'is',\n",
       "  'why',\n",
       "  'the',\n",
       "  'members',\n",
       "  'of',\n",
       "  'the',\n",
       "  'beat',\n",
       "  'generation',\n",
       "  'proudly',\n",
       "  'assume',\n",
       "  'the',\n",
       "  'title',\n",
       "  'of',\n",
       "  'the',\n",
       "  'holy',\n",
       "  'barbarians',\n",
       "  ';',\n",
       "  ';'])"
      ]
     },
     "execution_count": 10,
     "metadata": {},
     "output_type": "execute_result"
    }
   ],
   "source": [
    "cat_training_y[0], cat_training_x[0]"
   ]
  },
  {
   "cell_type": "markdown",
   "metadata": {
    "id": "eK5uW2OKgAaL"
   },
   "source": [
    "### 1.2 Age\n",
    "\n",
    "[Schler et al (2006)](http://www.cs.biu.ac.il/~schlerj/schler_springsymp06.pdf) collected a dataset of blog posts annotated for the age of the author, we will use a subset of that dataset. The complete dataset can be found \n",
    "[on Kaggle](https://www.kaggle.com/rtatman/blog-authorship-corpus).\n",
    "\n",
    "Warning: we will use this dataset to illustrate Poisson regression, but note that in general age may be a protected attribute in certain applications, and one should carefuly consider the implications of designing and deploying an age detection system."
   ]
  },
  {
   "cell_type": "code",
   "execution_count": 11,
   "metadata": {
    "colab": {
     "base_uri": "https://localhost:8080/"
    },
    "id": "2hSUugz4gCOu",
    "outputId": "666c6c5f-9d51-4ba0-f9df-94addf5e0356"
   },
   "outputs": [
    {
     "name": "stdout",
     "output_type": "stream",
     "text": [
      "--2022-04-05 15:48:16--  https://surfdrive.surf.nl/files/index.php/s/2xWdFxnewjN9gsq/download\n",
      "Resolving surfdrive.surf.nl (surfdrive.surf.nl)... 145.100.27.67, 2001:610:108:203b:0:a11:da7a:5afe\n",
      "Connecting to surfdrive.surf.nl (surfdrive.surf.nl)|145.100.27.67|:443... connected.\n",
      "HTTP request sent, awaiting response... 200 OK\n",
      "Length: 25699440 (25M) [application/gzip]\n",
      "Saving to: 'blog-authorship.json.gz'\n",
      "\n",
      "blog-authorship.jso 100%[===================>]  24.51M  46.4MB/s    in 0.5s    \n",
      "\n",
      "2022-04-05 15:48:17 (46.4 MB/s) - 'blog-authorship.json.gz' saved [25699440/25699440]\n",
      "\n"
     ]
    }
   ],
   "source": [
    "# Download the data\n",
    "!wget https://surfdrive.surf.nl/files/index.php/s/2xWdFxnewjN9gsq/download -O blog-authorship.json.gz\n",
    "!gzip -d blog-authorship.json.gz"
   ]
  },
  {
   "cell_type": "code",
   "execution_count": 12,
   "metadata": {
    "id": "AP5sAcUegEig"
   },
   "outputs": [],
   "source": [
    "import json\n",
    "\n",
    "with open(\"blog-authorship.json\") as f:\n",
    "    blog_data = json.load(f)"
   ]
  },
  {
   "cell_type": "code",
   "execution_count": 13,
   "metadata": {
    "colab": {
     "base_uri": "https://localhost:8080/"
    },
    "id": "KnBFeNXNgHIq",
    "outputId": "118aca69-7279-4047-d883-b511a2a550e9"
   },
   "outputs": [
    {
     "data": {
      "text/plain": [
       "dict_keys(['source', 'ack', 'subset', 'format', 'training', 'dev', 'test'])"
      ]
     },
     "execution_count": 13,
     "metadata": {},
     "output_type": "execute_result"
    }
   ],
   "source": [
    "blog_data.keys()"
   ]
  },
  {
   "cell_type": "code",
   "execution_count": 14,
   "metadata": {
    "colab": {
     "base_uri": "https://localhost:8080/"
    },
    "id": "AfCRvU_NgdfX",
    "outputId": "3a37bd30-fd61-47ce-936d-528d46bcd44a"
   },
   "outputs": [
    {
     "data": {
      "text/plain": [
       "('[Blog authorship corpus](https://www.kaggle.com/rtatman/blog-authorship-corpus)',\n",
       " '[Schler et al (2006)](http://www.cs.biu.ac.il/~schlerj/schler_springsymp06.pdf)')"
      ]
     },
     "execution_count": 14,
     "metadata": {},
     "output_type": "execute_result"
    }
   ],
   "source": [
    "blog_data['source'], blog_data['ack']"
   ]
  },
  {
   "cell_type": "markdown",
   "metadata": {
    "id": "l4AXCrLfhR-g"
   },
   "source": [
    "We already have a training/dev/test split, each data point is a pair and the text is not preprocessed for us:"
   ]
  },
  {
   "cell_type": "code",
   "execution_count": 15,
   "metadata": {
    "colab": {
     "base_uri": "https://localhost:8080/"
    },
    "id": "FW26cwbVhOYx",
    "outputId": "5910fea0-93b3-482f-9fc8-e43e8d8b3169"
   },
   "outputs": [
    {
     "data": {
      "text/plain": [
       "(200000, 40000, 49174)"
      ]
     },
     "execution_count": 15,
     "metadata": {},
     "output_type": "execute_result"
    }
   ],
   "source": [
    "len(blog_data['training']), len(blog_data['dev']), len(blog_data['test'])"
   ]
  },
  {
   "cell_type": "code",
   "execution_count": 16,
   "metadata": {
    "colab": {
     "base_uri": "https://localhost:8080/"
    },
    "id": "R-3XndbHh7oE",
    "outputId": "f448c512-e315-4f33-a044-cf97166796f1"
   },
   "outputs": [
    {
     "data": {
      "text/plain": [
       "['I hate exams considering I just failed one. Yippee', 16]"
      ]
     },
     "execution_count": 16,
     "metadata": {},
     "output_type": "execute_result"
    }
   ],
   "source": [
    "blog_data['training'][0]"
   ]
  },
  {
   "cell_type": "markdown",
   "metadata": {
    "id": "BaWLOFRGhYBj"
   },
   "source": [
    "We need to tokenize the data for use in deep learning. We will use the NLTK word tokenizer for this. We also lowercase the inputs and shuffle the training data. This will take some 3 minutes."
   ]
  },
  {
   "cell_type": "code",
   "execution_count": 17,
   "metadata": {
    "colab": {
     "base_uri": "https://localhost:8080/"
    },
    "id": "UPDHd0NSgX8M",
    "outputId": "43d13643-6830-461b-d33f-f265febacbed"
   },
   "outputs": [
    {
     "name": "stdout",
     "output_type": "stream",
     "text": [
      "CPU times: user 2min 54s, sys: 1.26 s, total: 2min 56s\n",
      "Wall time: 2min 56s\n"
     ]
    }
   ],
   "source": [
    "%%time\n",
    "from nltk.tokenize import word_tokenize\n",
    "\n",
    "# Tokenize and shuffle the data.\n",
    "order = np.random.RandomState(42).permutation(np.arange(len(blog_data[\"training\"])))   \n",
    "blog_training_x = [word_tokenize(blog_data[\"training\"][i][0].lower()) for i in order]\n",
    "blog_training_y = [[blog_data[\"training\"][i][1]] for i in order]\n",
    "blog_dev_x = [word_tokenize(x[0].lower()) for x in blog_data[\"dev\"]]\n",
    "blog_dev_y = [[x[1]] for x in blog_data[\"dev\"]]\n",
    "blog_test_x = [word_tokenize(x[0].lower()) for x in blog_data[\"test\"]]\n",
    "blog_test_y = [[x[1]] for x in blog_data[\"test\"]]"
   ]
  },
  {
   "cell_type": "code",
   "execution_count": 18,
   "metadata": {
    "colab": {
     "base_uri": "https://localhost:8080/"
    },
    "id": "u5GcUl1EgQQJ",
    "outputId": "00609d42-6017-43b6-f8b9-bc73eb5df13a"
   },
   "outputs": [
    {
     "name": "stdout",
     "output_type": "stream",
     "text": [
      "input: ['urllink', 'this', 'is', 'my', 'friend', 'sam', '.', 'he', \"'s\", 'a', 'little', 'weird', '.', 'he', \"'s\", 'nice', 'though', '.', 'but', 'weird', '.']\n",
      "age of author: [17]\n"
     ]
    }
   ],
   "source": [
    "# Example pre-processed data point\n",
    "print(f\"input: {blog_training_x[0]}\")\n",
    "print(f\"age of author: {blog_training_y[0]}\")"
   ]
  },
  {
   "cell_type": "markdown",
   "metadata": {
    "id": "uqiOvffcfzKs"
   },
   "source": [
    "### 1.3 Syntactic categories"
   ]
  },
  {
   "cell_type": "markdown",
   "metadata": {
    "id": "Cjyf839Wfb9i"
   },
   "source": [
    "From NLTK, we will also take the `treebank` corpus where words are annotated with their syntactic categories (parts of speech, or POS tags)."
   ]
  },
  {
   "cell_type": "markdown",
   "metadata": {
    "id": "cjtCV9z3FuQO"
   },
   "source": [
    "The method `tagged_sents` will give us a view of tokenized sentences with their token lag tag annotation:"
   ]
  },
  {
   "cell_type": "code",
   "execution_count": 19,
   "metadata": {
    "colab": {
     "base_uri": "https://localhost:8080/"
    },
    "id": "HFQdJD079FY6",
    "outputId": "b769ecc8-8add-4658-e671-971aaa846e7a"
   },
   "outputs": [
    {
     "data": {
      "text/plain": [
       "[('Pierre', 'NOUN'),\n",
       " ('Vinken', 'NOUN'),\n",
       " (',', '.'),\n",
       " ('61', 'NUM'),\n",
       " ('years', 'NOUN'),\n",
       " ('old', 'ADJ'),\n",
       " (',', '.'),\n",
       " ('will', 'VERB'),\n",
       " ('join', 'VERB'),\n",
       " ('the', 'DET'),\n",
       " ('board', 'NOUN'),\n",
       " ('as', 'ADP'),\n",
       " ('a', 'DET'),\n",
       " ('nonexecutive', 'ADJ'),\n",
       " ('director', 'NOUN'),\n",
       " ('Nov.', 'NOUN'),\n",
       " ('29', 'NUM'),\n",
       " ('.', '.')]"
      ]
     },
     "execution_count": 19,
     "metadata": {},
     "output_type": "execute_result"
    }
   ],
   "source": [
    "example = treebank.tagged_sents(tagset='universal')[0]  # 'universal' here refers to the style of tags\n",
    "example"
   ]
  },
  {
   "cell_type": "code",
   "execution_count": 20,
   "metadata": {
    "id": "BNqS36sZNExH"
   },
   "outputs": [],
   "source": [
    "def split_nltk_tagged_corpus(corpus, max_length=30, num_heldout=100):\n",
    "    \"\"\"\n",
    "    Shuffle and split a corpus.\n",
    "    corpus: a corpus of tagged sequences, each sequence is a pair, each pair is a token and a tag.\n",
    "    max_length: discard sentences longer than this\n",
    "\n",
    "    Return: \n",
    "        (training word sequences, training tag sequences), \n",
    "        (dev word sequences, dev tag sequences), \n",
    "        (test word sequences, test tag sequences),         \n",
    "    \"\"\"\n",
    "    tagged_sentences = corpus.tagged_sents(tagset='universal')\n",
    "    # do not change the seed in here    \n",
    "    order = np.random.RandomState(42).permutation(np.arange(len(tagged_sentences)))    \n",
    "    word_sequences = [[w.lower() for w, t in tagged_sentences[i]] for i in order if len(tagged_sentences[i]) <= max_length]    \n",
    "    tag_sequences = [[t for w, t in tagged_sentences[i]] for i in order if len(tagged_sentences[i]) <= max_length]    \n",
    "    return (word_sequences[2*num_heldout:], tag_sequences[2*num_heldout:]), (word_sequences[num_heldout:2*num_heldout], tag_sequences[num_heldout:2*num_heldout]), (word_sequences[:num_heldout], tag_sequences[:num_heldout])"
   ]
  },
  {
   "cell_type": "markdown",
   "metadata": {
    "id": "IHYqnVljTaw5"
   },
   "source": [
    "For `treebank` this will take about 10 seconds."
   ]
  },
  {
   "cell_type": "code",
   "execution_count": 21,
   "metadata": {
    "colab": {
     "base_uri": "https://localhost:8080/"
    },
    "id": "7-pkD_jNOHBj",
    "outputId": "040a3f0a-fdac-46d7-cdba-929983380ac1"
   },
   "outputs": [
    {
     "name": "stdout",
     "output_type": "stream",
     "text": [
      "Number of sentences: training=2486 dev=100 test=100\n",
      "CPU times: user 6.09 s, sys: 537 ms, total: 6.63 s\n",
      "Wall time: 6.79 s\n"
     ]
    }
   ],
   "source": [
    "%%time\n",
    "(tagger_training_x, tagger_training_y), (tagger_dev_x, tagger_dev_y), (tagger_test_x, tagger_test_y) = split_nltk_tagged_corpus(treebank, num_heldout=100)\n",
    "print(f\"Number of sentences: training={len(tagger_training_x)} dev={len(tagger_dev_x)} test={len(tagger_test_x)}\")"
   ]
  },
  {
   "cell_type": "code",
   "execution_count": 22,
   "metadata": {
    "colab": {
     "base_uri": "https://localhost:8080/"
    },
    "id": "Fk5nks5bKG0a",
    "outputId": "36947f85-8f6e-4987-db1e-2c1027d322ef"
   },
   "outputs": [
    {
     "name": "stdout",
     "output_type": "stream",
     "text": [
      "# A few training sentences\n",
      "\n",
      "x_0 = ['they', 'know', '0', 'he', 'is', 'generally', 'opposed', 'to', 'cop-killer', 'bullets', ',', 'but', 'that', 'he', 'had', 'some', 'reservations', 'about', 'the', 'language', 'in', 'the', 'legislation', '.', \"''\"]\n",
      "y_0 = ['PRON', 'VERB', 'X', 'PRON', 'VERB', 'ADV', 'VERB', 'PRT', 'ADJ', 'NOUN', '.', 'CONJ', 'ADP', 'PRON', 'VERB', 'DET', 'NOUN', 'ADP', 'DET', 'NOUN', 'ADP', 'DET', 'NOUN', '.', '.']\n",
      "\n",
      "x_1 = ['california', \"'s\", 'education', 'department', 'suspects', 'adult', 'responsibility', 'for', 'erasures', 'at', '40', 'schools', 'that', '*t*-85', 'changed', 'wrong', 'answers', 'to', 'right', 'ones', 'on', 'a', 'statewide', 'test', '.']\n",
      "y_1 = ['NOUN', 'PRT', 'NOUN', 'NOUN', 'VERB', 'NOUN', 'NOUN', 'ADP', 'NOUN', 'ADP', 'NUM', 'NOUN', 'DET', 'X', 'VERB', 'ADJ', 'NOUN', 'PRT', 'ADJ', 'NOUN', 'ADP', 'DET', 'ADJ', 'NOUN', '.']\n",
      "\n",
      "x_2 = ['the', 'loan', 'may', 'be', 'extended', '*-1', 'by', 'the', 'mcalpine', 'group', 'for', 'an', 'additional', 'year', 'with', 'an', 'increase', 'in', 'the', 'conversion', 'price', 'to', '$', '2.50', '*u*', 'a', 'share', '.']\n",
      "y_2 = ['DET', 'NOUN', 'VERB', 'VERB', 'VERB', 'X', 'ADP', 'DET', 'NOUN', 'NOUN', 'ADP', 'DET', 'ADJ', 'NOUN', 'ADP', 'DET', 'NOUN', 'ADP', 'DET', 'NOUN', 'NOUN', 'PRT', '.', 'NUM', 'X', 'DET', 'NOUN', '.']\n",
      "\n"
     ]
    }
   ],
   "source": [
    "print(\"# A few training sentences\\n\")\n",
    "for n in range(3):    \n",
    "    print(f\"x_{n} = {tagger_training_x[n]}\")\n",
    "    print(f\"y_{n} = {tagger_training_y[n]}\")\n",
    "    print()"
   ]
  },
  {
   "cell_type": "markdown",
   "metadata": {
    "id": "3qmFucRGr1Lh"
   },
   "source": [
    "### 1.4 Vocabulary\n",
    "\n",
    "As always when dealing with NLP models, we need an object to maintain our vocabulary of known tokens. We will rely on word-tokenization.\n",
    "\n",
    "Our vocabulary class will maintain the set of known tokens, and a dictionary to convert tokens to codes and codes back to tokens. The class will also take care of some special symbols (e.g., BOS, EOS, UNK, PAD). \n",
    "\n",
    "Finally, if later on you test your model on sentences that are not word tokenized, you can use `nlt.tokenize.word_tokenize` or any other tokenizer you like (as long as the level of tokenization is similar to the one you used for training your model."
   ]
  },
  {
   "cell_type": "markdown",
   "metadata": {
    "id": "Kt5gPbIDIrx8"
   },
   "source": [
    "This class will be used for maintaining both the vocabulary of known tokens and the set of known tags for the tagger data."
   ]
  },
  {
   "cell_type": "code",
   "execution_count": 23,
   "metadata": {
    "id": "yMrE8lvlr2aa"
   },
   "outputs": [],
   "source": [
    "import numpy as np\n",
    "from itertools import chain\n",
    "from collections import Counter, OrderedDict\n",
    "\n",
    "class Vocab:\n",
    "\n",
    "    def __init__(self, corpus: list, min_freq=1):        \n",
    "        \"\"\"\n",
    "        corpus: list of documents, each document is a list of tokens, each token is a string\n",
    "        min_freq: words that occur less than this value are discarded\n",
    "        \"\"\"\n",
    "\n",
    "        # Count word occurrences\n",
    "        counter = Counter(chain(*corpus))\n",
    "        \n",
    "        # Sort them by frequency\n",
    "        sorted_by_freq_tuples = sorted(counter.items(), key=lambda pair: pair[1], reverse=True)\n",
    "        \n",
    "        # Special tokens\n",
    "        self.pad_token = \"-PAD-\" # used to fill sequences in a batch to maximum sequence length\n",
    "        self.bos_token = \"-BOS-\" # begin of sequence\n",
    "        self.eos_token = \"-EOS-\" # end of sequence\n",
    "        self.unk_token = \"-UNK-\" # unknown symbol\n",
    "        self.pad_id = 0\n",
    "        self.bos_id = 1\n",
    "        self.eos_id = 2\n",
    "        self.unk_id = 3\n",
    "\n",
    "        self.known_symbols = [self.pad_token, self.bos_token, self.eos_token, self.unk_token]\n",
    "        self.counts = [0, 0]\n",
    "        \n",
    "        # Vocabulary\n",
    "        self.word2id = OrderedDict()                \n",
    "        self.word2id[self.pad_token] = self.pad_id        \n",
    "        self.word2id[self.bos_token] = self.bos_id\n",
    "        self.word2id[self.eos_token] = self.eos_id\n",
    "        self.word2id[self.unk_token] = self.unk_id\n",
    "        self.min_freq = min_freq\n",
    "        for w, n in sorted_by_freq_tuples: \n",
    "            if n >= min_freq: # discard infrequent words\n",
    "                self.word2id[w] = len(self.known_symbols)\n",
    "                self.known_symbols.append(w)\n",
    "                self.counts.append(n)\n",
    "        \n",
    "        # Store the counts as well\n",
    "        self.counts = np.array(self.counts)\n",
    "\n",
    "    def __len__(self):\n",
    "        return len(self.known_symbols)\n",
    "\n",
    "    def __getitem__(self, word: str): \n",
    "        \"\"\"\n",
    "        Return the id (int) of a word (str)\n",
    "        \"\"\"\n",
    "        return self.word2id.get(word, self.unk_id)\n",
    "\n",
    "    def encode(self, doc: list, add_bos=False, add_eos=False, pad_right=0):\n",
    "        \"\"\"\n",
    "        Transform a document into a numpy array of integer token identifiers.\n",
    "        doc: list of tokens, each token is a string\n",
    "        add_bos: whether to add the BOS token\n",
    "        add_eos: whether to add the EOS token\n",
    "        pad_right: number of suffix padding tokens \n",
    "        \n",
    "        Return: a list of codes (possibly with BOS and EOS added as well as padding)\n",
    "        \"\"\"\n",
    "        return [self.word2id.get(w, self.unk_id) for w in chain([self.bos_token] * int(add_bos), doc, [self.eos_token] * int(add_eos), [self.pad_token] * pad_right)]\n",
    "\n",
    "    def batch_encode(self, docs: list, add_bos=False, add_eos=False):\n",
    "        \"\"\"\n",
    "        Transform a batch of documents into a numpy array of integer token identifiers.\n",
    "        This will pad the shorter documents to the length of the longest document.\n",
    "        docs: a list of documents\n",
    "        add_bos: whether to add the BOS token\n",
    "        add_eos: whether to add the EOS token\n",
    "        pad_right: number of suffix padding tokens\n",
    "\n",
    "        Return: numpy array with shape [len(docs), longest_doc + add_bos + add_eos]\n",
    "        \"\"\"\n",
    "        max_len = max(len(doc) for doc in docs)\n",
    "        return np.array([self.encode(doc, add_bos=add_bos, add_eos=add_eos, pad_right=max_len-len(doc)) for doc in docs])\n",
    "\n",
    "    def decode(self, ids, strip_pad=False):\n",
    "        \"\"\"\n",
    "        Transform a np.array document into a list of tokens.\n",
    "        ids: np.array with shape [num_tokens] \n",
    "        strip_pad: whether PAD tokens should be deleted from the output\n",
    "\n",
    "        Return: list of strings with size [num_tokens - num_padding]\n",
    "        \"\"\"\n",
    "        if strip_pad:\n",
    "            return [self.known_symbols[id] for id in ids if id != self.pad_id]\n",
    "        else:\n",
    "            return [self.known_symbols[id] for id in ids]\n",
    "\n",
    "    def batch_decode(self, docs, strip_pad=False):\n",
    "        \"\"\"\n",
    "        Transform a np.array collection of documents into a collection of lists of tokens.\n",
    "        ids: np.array with shape [num_docs, max_length] \n",
    "        strip_pad: whether PAD tokens should be deleted from the output\n",
    "\n",
    "        Return: list of documents, each a list of tokens, each token a string\n",
    "        \"\"\"\n",
    "        return [self.decode(doc, strip_pad=strip_pad) for doc in docs]    "
   ]
  },
  {
   "cell_type": "markdown",
   "metadata": {
    "id": "HxTwRreJI7DC"
   },
   "source": [
    "Let's see how this works on the tagger corpus:"
   ]
  },
  {
   "cell_type": "code",
   "execution_count": 24,
   "metadata": {
    "colab": {
     "base_uri": "https://localhost:8080/"
    },
    "id": "ZVR6Nfh5skV-",
    "outputId": "b85f1343-991d-4c75-b5a8-e03add25d791"
   },
   "outputs": [
    {
     "data": {
      "text/plain": [
       "(3358, 16)"
      ]
     },
     "execution_count": 24,
     "metadata": {},
     "output_type": "execute_result"
    }
   ],
   "source": [
    "# We get a vocabulary for words\n",
    "word_vocab = Vocab(tagger_training_x, min_freq=2)\n",
    "# and a vocabulary for tags\n",
    "tag_vocab = Vocab(tagger_training_y, min_freq=1)\n",
    "# You can see their sizes V and C:\n",
    "len(word_vocab), len(tag_vocab)"
   ]
  },
  {
   "cell_type": "markdown",
   "metadata": {
    "id": "AM64EcW2JEoo"
   },
   "source": [
    "The `encode` method turns a sequence of (str) symbols into a sequence of (int) codes:"
   ]
  },
  {
   "cell_type": "markdown",
   "metadata": {
    "id": "N4U7tdm-JwAN"
   },
   "source": [
    "We can also have `encode` add some special symbols for us (but remember to be consistent, you should always have token sequences and tag sequences that match in length):"
   ]
  },
  {
   "cell_type": "markdown",
   "metadata": {
    "id": "dcGLLsUsKTrM"
   },
   "source": [
    "We can also encode and decode entire batches of sequences. This will use pad symbols/codes to make the sequences in the same batch have the same length:"
   ]
  },
  {
   "cell_type": "code",
   "execution_count": 25,
   "metadata": {
    "colab": {
     "base_uri": "https://localhost:8080/"
    },
    "id": "rOAVwaWX6kA9",
    "outputId": "81f3973a-024a-4d78-a16f-a4adfb0a2333"
   },
   "outputs": [
    {
     "data": {
      "text/plain": [
       "array([[  45,  907,   13,   36,   18,  600, 1078,    8, 1651, 1652,    6,\n",
       "          41,   19,   36,   66,   71, 2194,   55,    5, 2195,   10,    5,\n",
       "         487,    4,   21,    2,    0,    0,    0],\n",
       "       [ 488,   14, 1309,  156, 2196,    3,    3,   16,    3,   31,  449,\n",
       "         908,   19,    3,  601,  909,  772,    8,  343,  910,   26,    9,\n",
       "        2197,  344,    4,    2,    0,    0,    0],\n",
       "       [   5,  542,  129,   40, 2198,   12,   34,    5, 1310,  264,   16,\n",
       "          44,  378,   54,   37,   44,  324,   10,    5, 2199,  186,    8,\n",
       "          25, 1311,   23,    9,  111,    4,    2]])"
      ]
     },
     "execution_count": 25,
     "metadata": {},
     "output_type": "execute_result"
    }
   ],
   "source": [
    "word_vocab.batch_encode(tagger_training_x[:3], add_bos=False, add_eos=True)"
   ]
  },
  {
   "cell_type": "code",
   "execution_count": 26,
   "metadata": {
    "colab": {
     "base_uri": "https://localhost:8080/"
    },
    "id": "_ScoTY8-6u0X",
    "outputId": "b69d2f4a-a522-4754-beb6-1c7bf6a89654"
   },
   "outputs": [
    {
     "data": {
      "text/plain": [
       "[['they',\n",
       "  'know',\n",
       "  '0',\n",
       "  'he',\n",
       "  'is',\n",
       "  'generally',\n",
       "  'opposed',\n",
       "  'to',\n",
       "  'cop-killer',\n",
       "  'bullets',\n",
       "  ',',\n",
       "  'but',\n",
       "  'that',\n",
       "  'he',\n",
       "  'had',\n",
       "  'some',\n",
       "  'reservations',\n",
       "  'about',\n",
       "  'the',\n",
       "  'language',\n",
       "  'in',\n",
       "  'the',\n",
       "  'legislation',\n",
       "  '.',\n",
       "  \"''\",\n",
       "  '-EOS-'],\n",
       " ['california',\n",
       "  \"'s\",\n",
       "  'education',\n",
       "  'department',\n",
       "  'suspects',\n",
       "  '-UNK-',\n",
       "  '-UNK-',\n",
       "  'for',\n",
       "  '-UNK-',\n",
       "  'at',\n",
       "  '40',\n",
       "  'schools',\n",
       "  'that',\n",
       "  '-UNK-',\n",
       "  'changed',\n",
       "  'wrong',\n",
       "  'answers',\n",
       "  'to',\n",
       "  'right',\n",
       "  'ones',\n",
       "  'on',\n",
       "  'a',\n",
       "  'statewide',\n",
       "  'test',\n",
       "  '.',\n",
       "  '-EOS-'],\n",
       " ['the',\n",
       "  'loan',\n",
       "  'may',\n",
       "  'be',\n",
       "  'extended',\n",
       "  '*-1',\n",
       "  'by',\n",
       "  'the',\n",
       "  'mcalpine',\n",
       "  'group',\n",
       "  'for',\n",
       "  'an',\n",
       "  'additional',\n",
       "  'year',\n",
       "  'with',\n",
       "  'an',\n",
       "  'increase',\n",
       "  'in',\n",
       "  'the',\n",
       "  'conversion',\n",
       "  'price',\n",
       "  'to',\n",
       "  '$',\n",
       "  '2.50',\n",
       "  '*u*',\n",
       "  'a',\n",
       "  'share',\n",
       "  '.',\n",
       "  '-EOS-']]"
      ]
     },
     "execution_count": 26,
     "metadata": {},
     "output_type": "execute_result"
    }
   ],
   "source": [
    "word_vocab.batch_decode(word_vocab.batch_encode(tagger_training_x[:3], add_bos=False, add_eos=True), strip_pad=True)"
   ]
  },
  {
   "cell_type": "markdown",
   "metadata": {
    "id": "06BMGjPT7BFp"
   },
   "source": [
    "### 1.5 Corpus and Data Loader\n",
    "\n",
    "We will be developing our models in torch, thus we need to wrap our corpus into a `Dataset` and a `DataLoader`:"
   ]
  },
  {
   "cell_type": "code",
   "execution_count": 27,
   "metadata": {
    "id": "3ptZKyBw7FN3"
   },
   "outputs": [],
   "source": [
    "import torch\n",
    "from torch.utils.data import Dataset, DataLoader\n",
    "\n",
    "class TextRegressionCorpus(Dataset):\n",
    "    \"\"\"\n",
    "    Use this to give torch access to a corpus of documents annotated with a simple response variable (e.g., category or real number)\n",
    "    This class will also know the vocab objects for tokens\n",
    "    and it will take care of coding strings into integers consistently.\n",
    "    \"\"\"\n",
    "\n",
    "    def __init__(self, corpus_x, corpus_y, vocab_x: Vocab):\n",
    "        \"\"\"\n",
    "        In PyTorch we better always manipulate numerical codes, rather than text.\n",
    "        So, our Corpus object will contain a vocab that converts words to codes.\n",
    "\n",
    "        corpus_x: token sequences\n",
    "        corpus_y: response values\n",
    "        vocab_x: vocabulary of input symbols\n",
    "        \"\"\"\n",
    "        self.corpus_x = list(corpus_x)\n",
    "        self.corpus_y = list(corpus_y)\n",
    "        if len(self.corpus_x) != len(self.corpus_y):\n",
    "            raise ValueError(\"I need pairs\")\n",
    "        self.vocab_x = vocab_x\n",
    "\n",
    "    def __len__(self):\n",
    "        \"\"\"Size of the corpus in number of sequence pairs\"\"\"\n",
    "        return len(self.corpus_x)\n",
    "    \n",
    "    def __getitem__(self, idx):\n",
    "        \"\"\"Return corpus_x[idx] and corpus_y[idx] converted to codes and with the EOS code in the end\"\"\"\n",
    "        x = self.vocab_x.encode(self.corpus_x[idx], add_bos=False, add_eos=True)\n",
    "        y = self.corpus_y[idx]\n",
    "        return x, y\n",
    "\n",
    "    def pad_to_longest(self, pairs, pad_id=0):\n",
    "        \"\"\"\n",
    "        Take a list of coded sequences and returns a torch tensor where \n",
    "        every sentence has the same length (by means of using PAD tokens)\n",
    "        \"\"\"\n",
    "        longest = max(len(x) for x, y in pairs)\n",
    "        batch_x = torch.tensor([x + [self.vocab_x.pad_id] * (longest - len(x)) for x, y in pairs])         \n",
    "        batch_y = torch.tensor([y for x, y in pairs]) \n",
    "        return batch_x, batch_y\n",
    "    \n",
    "    \n",
    "class ParallelCorpus(Dataset):\n",
    "    \"\"\"\n",
    "    Use this to give torch access to a corpus of sequence pairs.\n",
    "    This class will also know the vocab objects for the two streams. \n",
    "    and it will take care of coding strings into integers consistently.\n",
    "    \"\"\"\n",
    "\n",
    "    def __init__(self, corpus_x, corpus_y, vocab_x: Vocab, vocab_y: Vocab):\n",
    "        \"\"\"\n",
    "        In PyTorch we better always manipulate numerical codes, rather than text.\n",
    "        So, our Corpus object will contain a vocab that converts words to codes.\n",
    "\n",
    "        corpus_x: token sequences\n",
    "        corpus_y: tag sequences\n",
    "        vocab_x: vocabulary for token sequences\n",
    "        vocab_y: vocabulary for tag sequences\n",
    "        \"\"\"\n",
    "        self.corpus_x = list(corpus_x)\n",
    "        self.corpus_y = list(corpus_y)\n",
    "        assert len(self.corpus_x) == len(self.corpus_y), \"I need sequence pairs\"\n",
    "        self.vocab_x = vocab_x\n",
    "        self.vocab_y = vocab_y\n",
    "\n",
    "    def __len__(self):\n",
    "        \"\"\"Size of the corpus in number of sequence pairs\"\"\"\n",
    "        return len(self.corpus_x)\n",
    "    \n",
    "    def __getitem__(self, idx):\n",
    "        \"\"\"\n",
    "        Return corpus_x[idx] and corpus_y[idx] converted to codes \n",
    "        the latter has the EOS code in the end            \n",
    "        \"\"\"\n",
    "        x = self.vocab_x.encode(self.corpus_x[idx], add_bos=False, add_eos=True)\n",
    "        y = self.vocab_y.encode(self.corpus_y[idx], add_bos=False, add_eos=True)\n",
    "        return x, y\n",
    "\n",
    "    def pad_to_longest(self, pairs, pad_id=0):\n",
    "        \"\"\"\n",
    "        Take a list of coded sequences and returns a torch tensor where \n",
    "        every sentence has the same length (by means of using PAD tokens)\n",
    "        \"\"\"\n",
    "        longest_x = max(len(x) for x, y in pairs)\n",
    "        longest_y = max(len(y) for x, y in pairs)\n",
    "        batch_x = torch.tensor([x + [self.vocab_x.pad_id] * (longest_x - len(x)) for x, y in pairs]) \n",
    "        batch_y = torch.tensor([y + [self.vocab_y.pad_id] * (longest_y - len(y)) for x, y in pairs]) \n",
    "        return batch_x, batch_y    \n",
    "\n",
    "\n",
    "class TaggedCorpus(ParallelCorpus):\n",
    "    \"\"\"\n",
    "    Use this to give torch access to a corpus of tagged sequences.\n",
    "    This class will also know the vocab objects for tokens and tags, \n",
    "    and it will take care of coding strings into integers consistently.\n",
    "    \"\"\"\n",
    "\n",
    "    def __init__(self, corpus_x, corpus_y, vocab_x: Vocab, vocab_y: Vocab):\n",
    "        \"\"\"\n",
    "        In PyTorch we better always manipulate numerical codes, rather than text.\n",
    "        So, our Corpus object will contain a vocab that converts words to codes.\n",
    "\n",
    "        corpus_x: token sequences\n",
    "        corpus_y: tag sequences\n",
    "        vocab_x: vocabulary for token sequences\n",
    "        vocab_y: vocabulary for tag sequences\n",
    "        \"\"\"\n",
    "        super().__init__(corpus_x, corpus_y, vocab_x, vocab_y)\n",
    "        assert all(len(x) == len(y) for x, y in zip(corpus_x, corpus_y)), \"A sequence pair should match in number of steps\""
   ]
  },
  {
   "cell_type": "markdown",
   "metadata": {
    "id": "_jqOgaYwLPhE"
   },
   "source": [
    "We join our input and output data into torch `Dataset` objects for training, development and testing. Note that training, development and testing data share the same vocabularies, which were constructed using the training set alone. We can wrap the tagger data around a `Dataset` object as:"
   ]
  },
  {
   "cell_type": "code",
   "execution_count": 28,
   "metadata": {
    "id": "rVrZjx0R8gYU"
   },
   "outputs": [],
   "source": [
    "tagger_training = TaggedCorpus(tagger_training_x, tagger_training_y, word_vocab, tag_vocab)"
   ]
  },
  {
   "cell_type": "markdown",
   "metadata": {
    "id": "I-ebPbVxLha8"
   },
   "source": [
    "Here's an example of how we get a `DataLoader` for a corpus, we simply choose the `Dataset` object we want (training/dev/test), the batch size we want, whether we need shuffling (e.g., for training batches in SGD), and how we \"glue\" data points of different length together (i.e., a function such as `pad_to_longest` which `TextRegressionCorpus` and `TaggedCorpus` provide for us)."
   ]
  },
  {
   "cell_type": "code",
   "execution_count": 29,
   "metadata": {
    "colab": {
     "base_uri": "https://localhost:8080/"
    },
    "id": "NhVrqdcI827_",
    "outputId": "8e55f218-4ee9-4d7d-b446-ad808075152f"
   },
   "outputs": [
    {
     "name": "stdout",
     "output_type": "stream",
     "text": [
      "# This is how the tagged sequences in a batch come out of the data loader\n",
      "\n",
      "tensor([  77, 2535,    5,  318,    6,   43,  776,    4,    2,    0,    0,    0,\n",
      "           0,    0,    0,    0,    0,    0,    0,    0,    0,    0,    0,    0])\n",
      "tensor([14,  5,  8,  4,  6, 14,  4,  6,  2,  0,  0,  0,  0,  0,  0,  0,  0,  0,\n",
      "         0,  0,  0,  0,  0,  0])\n",
      "\n",
      "tensor([   3,    3,   11,    3,   98,   13,   45,   29,    3,    7,  101,  918,\n",
      "         175,   34, 1491,   15,    8,    3,   49,    3,  748,  213,    4,    2])\n",
      "tensor([ 4,  4, 15,  4,  5, 10, 14,  5,  9,  7,  8,  4, 10,  7,  4, 10, 13,  5,\n",
      "        15,  5,  4,  4,  6,  2])\n",
      "\n",
      "tensor([ 46, 882,  69,   2,   0,   0,   0,   0,   0,   0,   0,   0,   0,   0,\n",
      "          0,   0,   0,   0,   0,   0,   0,   0,   0,   0])\n",
      "tensor([4, 4, 6, 2, 0, 0, 0, 0, 0, 0, 0, 0, 0, 0, 0, 0, 0, 0, 0, 0, 0, 0, 0, 0])\n",
      "\n",
      "# And we can always decode them for inspection\n",
      "\n",
      "['i', 'loved', 'the', 'school', ',', 'its', 'history', '.', '-EOS-']\n",
      "['PRON', 'VERB', 'DET', 'NOUN', '.', 'PRON', 'NOUN', '.', '-EOS-']\n",
      "\n",
      "['-UNK-', '-UNK-', 'and', '-UNK-', 'say', '0', 'they', 'are', '-UNK-', 'of', 'any', 'efforts', '*ich*-1', 'by', 'mcgraw-hill', '*', 'to', '-UNK-', 'or', '-UNK-', 'scoring', 'high', '.', '-EOS-']\n",
      "['NOUN', 'NOUN', 'CONJ', 'NOUN', 'VERB', 'X', 'PRON', 'VERB', 'ADJ', 'ADP', 'DET', 'NOUN', 'X', 'ADP', 'NOUN', 'X', 'PRT', 'VERB', 'CONJ', 'VERB', 'NOUN', 'NOUN', '.', '-EOS-']\n",
      "\n",
      "['new', 'account', ':', '-EOS-']\n",
      "['NOUN', 'NOUN', '.', '-EOS-']\n",
      "\n"
     ]
    }
   ],
   "source": [
    "batcher = DataLoader(tagger_training, batch_size=3, shuffle=True, collate_fn=tagger_training.pad_to_longest)\n",
    "for batch_x, batch_y in batcher:\n",
    "    print(\"# This is how the tagged sequences in a batch come out of the data loader\\n\")\n",
    "    for x, y in zip(batch_x, batch_y):\n",
    "        print(x)\n",
    "        print(y)        \n",
    "        print()\n",
    "    \n",
    "    print(\"# And we can always decode them for inspection\\n\")\n",
    "    # stripping padding makes it easier to read the examples\n",
    "    for x, y in zip(word_vocab.batch_decode(batch_x, strip_pad=True), tag_vocab.batch_decode(batch_y, strip_pad=True)):\n",
    "        print(x)\n",
    "        print(y)\n",
    "        print()\n",
    "    break"
   ]
  },
  {
   "cell_type": "markdown",
   "metadata": {
    "id": "kjldtg5dJW7a"
   },
   "source": [
    "## 2. Text encoders\n",
    "\n",
    "In NLP applications, we often have to *encode* a piece of text. For example, that is the case in text classification and regression, as well as in sequence labelling. \n",
    "\n",
    "Assume for example, a text classifier that takes a document $x_{1:l} = \\langle x_1, \\ldots, x_l \\rangle$, where each token $x_i \\in \\mathcal W$ is from a finite vocabulary of $V$ tokens and predicts a distribution over $C$ classes from a set $\\mathcal T = \\{1, \\ldots, C\\}$. An encoding function can map $x_{1:l}$ to a $D$-dimensional vector $\\mathbf u$, which we can then transform to a $C$-dimensional vector of scores using an affine transformation, which in turn we can constrain to the probability simplex via softmax:\n",
    "\n",
    "\\begin{align}\n",
    "    Y|X_{1:l}=x_{1:l} &\\sim \\mathrm{Categorical}(\\mathbf g(x_{1:l}; \\theta)) \\\\\n",
    "    \\mathbf u &= \\mathrm{encode}_D(x_{1:l}; \\theta_{\\text{enc}}) \\\\\n",
    "    \\mathbf s &= \\mathrm{affine}_C(\\mathbf u; \\theta_{\\text{out}}) \\\\\n",
    "    \\mathbf g(x_{1:l}; \\theta) &= \\mathrm{softmax}(\\mathbf s)\n",
    "\\end{align}\n",
    "\n",
    "Here I use a subscript to indicate the dimensionality of the output of the function, the named parameters after `;` are the trainable parameters of the function. \n",
    "\n",
    "Generally text encoders may return a single output vector per document, or one vector per word in the document."
   ]
  },
  {
   "cell_type": "code",
   "execution_count": 30,
   "metadata": {
    "id": "9zRt1KO4nT9Y"
   },
   "outputs": [],
   "source": [
    "import torch\n",
    "import torch.nn as nn\n",
    "import torch.nn.functional as F\n",
    "\n",
    "\n",
    "class Encoder(nn.Module):\n",
    "\n",
    "    def __init__(self, output_dim):\n",
    "        super().__init__()\n",
    "        self._output_dim = output_dim\n",
    "\n",
    "    @property\n",
    "    def output_dim(self):\n",
    "        return self._output_dim\n",
    "\n",
    "    def forward(self, x):\n",
    "        \"\"\"\n",
    "        x: [batch_size, max_length]\n",
    "\n",
    "        Return a tensor of shape [batch_size, max_length, output_dim] or\n",
    "            [batch_size, output_dim]\n",
    "        \"\"\"\n",
    "        raise NotImplementedError(\"Implement me!\")"
   ]
  },
  {
   "cell_type": "markdown",
   "metadata": {
    "id": "zGtR4DGaGe-U"
   },
   "source": [
    "We develop a very basic text encoder based on a bidirectional LSTM. In principle, any powerful encoder (including pretrained encoders) can be used, we go ahead with the BiLSTM to keep the tutorial lightweight."
   ]
  },
  {
   "cell_type": "code",
   "execution_count": 31,
   "metadata": {
    "id": "2MjiZpK0k-g9"
   },
   "outputs": [],
   "source": [
    "class TextEncoder(Encoder):\n",
    "    \"\"\"\n",
    "    Given a predictor x this NN parameterises the pdf of the random variable Y|X=x.\n",
    "    In other words, it predicts the conditional distribution P(Y|X=x).\n",
    "    When reduce_mean is True the forward will return a single output vector per document.\n",
    "    When reduce_mean is False one vector per word in the document is returned instead.\n",
    "    \"\"\"\n",
    "\n",
    "    def __init__(self, vocab_size: int, word_embed_dim: int, hidden_size: int, reduce_mean=False, pad_id=0, p_drop=0.):\n",
    "        super().__init__(2 * hidden_size)\n",
    "        self.pad_id = pad_id \n",
    "        self.word_embed_dim = word_embed_dim\n",
    "        self.hidden_size = hidden_size  \n",
    "        self.vocab_size = vocab_size\n",
    "        self.word_embed = nn.Embedding(self.vocab_size, embedding_dim=word_embed_dim)\n",
    "        self.encoder = nn.LSTM(\n",
    "            input_size=word_embed_dim,\n",
    "            hidden_size=hidden_size,\n",
    "            num_layers=1,\n",
    "            batch_first=True,\n",
    "            bidirectional=True,\n",
    "        )\n",
    "        self.reduce_mean = reduce_mean\n",
    "        \n",
    "    def forward(self, x):\n",
    "        \"\"\"\n",
    "        x: [batch_size, max_length]\n",
    "        \"\"\"\n",
    "        # We begin by embedding the tokens        \n",
    "        # [batch_size, max_length, embed_dim]\n",
    "        h = self.word_embed(x)\n",
    "        # [batch_size, max_length, 2*hidden_size*num_layers]\n",
    "        h, _ = self.encoder(h)\n",
    "        if self.reduce_mean: # average pooling\n",
    "            h = torch.where((x == self.pad_id).unsqueeze(-1), torch.zeros_like(h), h)            \n",
    "            h = torch.sum(h, axis=-2) / torch.sum((x != self.pad_id).float(), -1, keepdims=True) \n",
    "        return h"
   ]
  },
  {
   "cell_type": "markdown",
   "metadata": {
    "id": "4mBipqnDBNtj"
   },
   "source": [
    "## 3. Probabilistic model\n",
    "\n",
    "A probabilistic model prescribes the probability measure of a random experiment, in this tutorial we will design models by explicitly parameterising a probability density function (pdf using NNs. When our random variables (rvs) are multivariate or structured we will pick a factorisation of the joint pdf, decide on the statistical family of each factor, and parameterise the factors using NNs. \n",
    "\n",
    "Generically, we will be modelling the distribution of some random variable $Y$ (univariate, multivariate, structured) conditioned on an assignment of some random variable $X=x$ (typically structured). \n",
    "\n",
    "For example, $x$ may be a piece of text or an image. The response variable may be a category, a numerical measurement, a vector of attributes/measurements, a data structure (e.g., sequence, tree, graph).\n",
    "\n",
    "For us, a probabilistic model can at the very least\n",
    "* assign probability density to an assignment $Y=y$ given $X=x$\n",
    "* sample an assignment of $Y$ given $X=x$\n",
    "and we will use the forward method of a PyTorch Module to parameterise the relevant conditional probability distributions.\n",
    "\n",
    "Occasionally, we will be able to support other operations such as finding the median, mean, mode, etc."
   ]
  },
  {
   "cell_type": "code",
   "execution_count": 32,
   "metadata": {
    "id": "m72UzHdaBZ19"
   },
   "outputs": [],
   "source": [
    "class Model(nn.Module):\n",
    "    \"\"\"\n",
    "    A probabilistic model predicts the probability measure of a random experiment. \n",
    "    We will predict the distribution of the random variable Y conditioned on \n",
    "    an assignment to the random variable X=x. \n",
    "\n",
    "    As a modelling mechanism we will use pmfs and pdfs, hence predicting \n",
    "    the distribution P(Y|X=x) requires mapping from x to the parameters of a \n",
    "    pmf/pdf for Y, or, in case of multivariate/structured data, a joint pdf \n",
    "    whose factorisation we decide upon. \n",
    "\n",
    "    For us, a model needs to satisfy the following desiderata:\n",
    "    * parameterising the pdf is tractable\n",
    "    * assessing the pdf for a given outcome Y=y|X=x is tractable\n",
    "    * drawing samples from P(Y|X=x) is tractable\n",
    "    * the pdf p(y|x) is differentiable with respect to the parameters of the \n",
    "      NN that predicts its parameter(s) \n",
    "      \n",
    "      \n",
    "    The only aspects of the Model's API that is fixed are:\n",
    "    * log_prob(x, y) -> tensor of floats, one value per instance in the batch\n",
    "    * sample(x, sample_size) -> batch of samples\n",
    "    * forward(...) -> a torch.distribution object\n",
    "        the signature of the forward method may vary in subclasses\n",
    "        \n",
    "    \"\"\"\n",
    "\n",
    "    def __init__(self, event_shape=tuple()):\n",
    "        \"\"\"\n",
    "        The event_shape is the shape of the outcome of the rv Y.        \n",
    "        \"\"\"\n",
    "        super().__init__()\n",
    "        self._event_shape = event_shape\n",
    "\n",
    "    @property\n",
    "    def event_shape(self):\n",
    "        return self._event_shape\n",
    "\n",
    "    def num_parameters(self):\n",
    "        return sum(np.prod(theta.shape) for theta in self.parameters())\n",
    "        \n",
    "    def forward(self, x):\n",
    "        \"\"\"\n",
    "        x: [batch_size, ...]\n",
    "        \"\"\"\n",
    "        raise NotImplementedError(\"Each type of model will have a different implementation here\")\n",
    "\n",
    "    def sample(self, x, sample_size=tuple()):\n",
    "        \"\"\"\n",
    "        x: [batch_size, ...]\n",
    "        Return a batch of samples from Y|X=x\n",
    "        \"\"\"\n",
    "        raise NotImplementedError(\"Each type of model will have a different implementation here\")\n",
    "\n",
    "    def log_prob(self, x, y):\n",
    "        \"\"\"\n",
    "        Computes the log pdf for Y=y|X=x for each pair in the batch.\n",
    "\n",
    "        x: batch_shape + event_shape_x\n",
    "        y: batch_shape + event_shape\n",
    "        \"\"\"\n",
    "        \n",
    "        # Predict the conditional probability distribution using the forward function.\n",
    "        # This will return one such probability distribution per batch element.\n",
    "        cpds = self(x=x)\n",
    "        \n",
    "        # Computer the log probability of each element in the batch.\n",
    "        logp = cpds.log_prob(y) # [batch_size]        \n",
    "        \n",
    "        return logp  "
   ]
  },
  {
   "cell_type": "markdown",
   "metadata": {
    "id": "93WvleoUBPoq"
   },
   "source": [
    "## 4. Parameter estimation\n",
    "\n",
    "We will estimate parameters using maximum likelihood estimation (MLE), via gradient-based search. This means we need to assess the model's likelihood given a dataset (or batch) of observations and the likelihood function must be tractable and differentiable with respect to the NN parameters."
   ]
  },
  {
   "cell_type": "code",
   "execution_count": 33,
   "metadata": {
    "id": "1fORKoLGDho_"
   },
   "outputs": [],
   "source": [
    "def loss(self, x, y):   \n",
    "    \"\"\"    \n",
    "    No matter the probabilistic model, the loss is the negative log likelihood \n",
    "    of the parameters estimated on a single batch:\n",
    "        - 1/batch_size * \\sum_{s} log P(y[s]|x[s], theta)\n",
    "\n",
    "    x: batch_shape + event_shape_x\n",
    "    y: batch_shape + event_shape\n",
    "    \"\"\"\n",
    "    return -self.log_prob(x=x, y=y).mean(0)"
   ]
  },
  {
   "cell_type": "code",
   "execution_count": 34,
   "metadata": {
    "id": "lymfkwOCxZ6I"
   },
   "outputs": [],
   "source": [
    "def distortion(model, dl, device):\n",
    "    \"\"\"\n",
    "    Wrapper for estimating distortion using all data points in a data loader.\n",
    "    \"\"\"\n",
    "    total_log_prob = 0.\n",
    "    data_size = 0\n",
    "    with torch.no_grad():\n",
    "        for batch_x, batch_y in dl:\n",
    "            total_log_prob = total_log_prob + model.log_prob(batch_x.to(device), batch_y.to(device)).sum()\n",
    "            data_size += batch_x.shape[0]\n",
    "    return - total_log_prob / data_size"
   ]
  },
  {
   "cell_type": "markdown",
   "metadata": {
    "id": "PnhAyD8mBRls"
   },
   "source": [
    "## 5. Decision rules\n",
    "\n",
    "A rational decision maker chooses her actions to maximise expected utility. \n",
    "\n",
    "Let $u(y, c)$ quantify the benefit in choosing $c \\in \\mathcal Y$ when $y$ is the truth. When deciding under uncertainty, we solve\n",
    "\n",
    "\\begin{align}\n",
    "y^\\star &= \\arg\\max_{c \\in \\mathcal Y}~\\mathbb E[u(Y, c)|X=x]\n",
    "\\end{align}\n",
    "\n",
    "where the expectation is with respect to the pdf $p_{Y|X=x}$.\n",
    "\n",
    "For certain utility functions and pdf combinations, this can be solved in closed form. In many cases there is not tractable algorithm for this decision problem, then approximations are needed.\n",
    "\n",
    "When the utility function is $u(y, c) = [y = c]$ (which evaluates to 1 if $y$ and $c$ are the same, and 0 otherwise), $y^\\star$ corresponds to the mode of $p_{Y|X=x}$.\n",
    "\n",
    "In structure prediction, utility functions may reward partial/structural similarity between $y$ and $c$. For example, a utility function for strings may be based on Levenshtein distance/similarity."
   ]
  },
  {
   "cell_type": "code",
   "execution_count": 35,
   "metadata": {
    "id": "hyCuDUdoD_kN"
   },
   "outputs": [],
   "source": [
    "class DecisionRule:\n",
    "\n",
    "    def __init__(self):\n",
    "        super().__init__()\n",
    "\n",
    "    def __call__(self, model, x):\n",
    "        \"\"\"\n",
    "        This function should map from a model and input, and the resulting predicted probability distribution,\n",
    "        to a single outcome.\n",
    "        \"\"\"    \n",
    "        raise NotImplementedError(\"Implement me!\")      \n",
    "\n",
    "\n",
    "class ExactMode(DecisionRule):\n",
    "    \"\"\"\n",
    "    This decision rule returns the most probable outcome under the predicted probability distribution, assuming\n",
    "    a unimodal or discrete probability distribution. \n",
    "    \"\"\"\n",
    "    \n",
    "    def __call__(self, model, x):\n",
    "        return model.mode(x)"
   ]
  },
  {
   "cell_type": "markdown",
   "metadata": {
    "id": "sPSWFfZVKQU0"
   },
   "source": [
    "We have some helper code for predictions using the batches in a data loader:"
   ]
  },
  {
   "cell_type": "code",
   "execution_count": 36,
   "metadata": {
    "id": "JAcQNQGquuk0"
   },
   "outputs": [],
   "source": [
    "def predict(model, rule, dl, device, return_targets=False, strip_pad=True):\n",
    "    \"\"\"\n",
    "    Wrapper for predictions using a decision rule.\n",
    "    \n",
    "    model: one of our taggers\n",
    "    dl: a data loader for the heldout data\n",
    "    device: the PyTorch device where the model is stored\n",
    "    return_targets: also return the targets from the data loader\n",
    "        you can use this when the actual targets are in the dataloader (e.g., for dev set)\n",
    "\n",
    "    Return \n",
    "        * a list of predictions, each a sequence of tags (already decoded)\n",
    "        * if return_targets=True, additionally return a list of targets, each a sequence of tags (already decoded)\n",
    "    \"\"\"\n",
    "    all_preds = []\n",
    "    all_targets = []\n",
    "    with torch.no_grad():\n",
    "        for batch_x, batch_y in dl:\n",
    "            preds = rule(model, batch_x.to(device))\n",
    "            all_preds.extend(preds.cpu().numpy())\n",
    "            all_targets.extend(batch_y.cpu().numpy())\n",
    "\n",
    "    if return_targets:\n",
    "        return all_preds, all_targets\n",
    "    else:\n",
    "        return all_preds"
   ]
  },
  {
   "cell_type": "markdown",
   "metadata": {
    "id": "VBSpxl9RrZYC"
   },
   "source": [
    "## 6. Training procedure"
   ]
  },
  {
   "cell_type": "markdown",
   "metadata": {
    "id": "puTqQpKMKWI_"
   },
   "source": [
    "The training procedure is always the exact same, no matter the model, so we abstract it for you."
   ]
  },
  {
   "cell_type": "code",
   "execution_count": 37,
   "metadata": {
    "id": "pf3iDZ-nhL9E"
   },
   "outputs": [],
   "source": [
    "import torch\n",
    "import torch.nn as nn\n",
    "import torch.nn.functional as F\n",
    "import torch.distributions as td\n",
    "import torch.optim as opt\n",
    "from tqdm.notebook import tqdm\n",
    "import matplotlib.pyplot as plt"
   ]
  },
  {
   "cell_type": "code",
   "execution_count": 38,
   "metadata": {
    "id": "6qWhLJPnwX-t"
   },
   "outputs": [],
   "source": [
    "from sklearn.metrics import classification_report, mean_squared_error, mean_absolute_error, median_absolute_error\n",
    "from collections import defaultdict\n",
    "from itertools import chain\n",
    "\n",
    "\n",
    "def flatten(seq):\n",
    "    \"\"\"flattens a python list\"\"\"\n",
    "    return list(chain.from_iterable(seq))\n",
    "\n",
    "def report_regression(y_true, y_pred):\n",
    "    return {\"MSE\": mean_squared_error(y_true, y_pred), \"MAE\": mean_absolute_error(y_true, y_pred), \"MdAE\": median_absolute_error(y_true, y_pred)}\n",
    "\n",
    "def report_classification(y_true, y_pred):\n",
    "    return classification_report(y_true, y_pred, output_dict=True, zero_division=0)\n",
    "\n",
    "def report_tagging(y_true, y_pred, score_pad=False, pad_id=0):\n",
    "    if not score_pad:\n",
    "        pairs = [(t, p) for t, p in zip(flatten(y_true), flatten(y_pred)) if t != pad_id]\n",
    "        y_true = [t for t, p in pairs]\n",
    "        y_pred = [p for t, p in pairs]\n",
    "    return classification_report(y_true, y_pred, output_dict=True, zero_division=0)    "
   ]
  },
  {
   "cell_type": "code",
   "execution_count": 39,
   "metadata": {
    "id": "xIcjiAWSvbN_"
   },
   "outputs": [],
   "source": [
    "def train_neural_model(model: Model, optimiser, decision_rule: DecisionRule, \n",
    "    training_data, dev_data, \n",
    "    batch_size=200, num_epochs=10, check_every=10, \n",
    "    report_fn=None, report_metrics=[], \n",
    "    device=torch.device('cuda:0')\n",
    "    ):\n",
    "    \"\"\"\n",
    "    model: pytorch model\n",
    "    optimiser: pytorch optimiser\n",
    "    training_corpus: a TaggedCorpus for trianing\n",
    "    dev_corpus: a TaggedCorpus for dev\n",
    "    batch_size: use more if you have more memory\n",
    "    num_epochs: use more for improved convergence\n",
    "    check_every: use less to check performance on dev set more often\n",
    "    device: where we run the experiment\n",
    "\n",
    "    Return a log of quantities computed during training (for plotting)\n",
    "    \"\"\"\n",
    "    # We use the training data in random order for parameter estimation\n",
    "    batcher = DataLoader(training_data, batch_size=batch_size, shuffle=True, collate_fn=training_data.pad_to_longest)\n",
    "    # We use the dev data for evaluation during training (no need for randomisation here)\n",
    "    dev_batcher = DataLoader(dev_data, batch_size=batch_size, shuffle=False, collate_fn=dev_data.pad_to_longest)\n",
    "\n",
    "    total_steps = num_epochs * len(batcher)\n",
    "    log = defaultdict(list)\n",
    "    \n",
    "    model.eval()\n",
    "    log['D'].append(distortion(model, dev_batcher, device=device).item())\n",
    "    \n",
    "    if report_fn:\n",
    "        preds, targets = predict(\n",
    "            model,       \n",
    "            decision_rule,  \n",
    "            dev_batcher, \n",
    "            device=device, \n",
    "            return_targets=True\n",
    "        )    \n",
    "        report = report_fn(targets, preds)\n",
    "        for metric in report_metrics:            \n",
    "            log[metric].append(report[metric])\n",
    "    \n",
    "    step = 0\n",
    "\n",
    "    with tqdm(range(total_steps)) as bar:\n",
    "        for epoch in range(num_epochs):\n",
    "            for batch_x, batch_y in batcher:\n",
    "                model.train()\n",
    "                optimiser.zero_grad()\n",
    "                \n",
    "                L = loss(model, batch_x.to(device), batch_y.to(device))\n",
    "                                        \n",
    "                L.backward()\n",
    "                optimiser.step()\n",
    "\n",
    "                bar_dict = OrderedDict()\n",
    "                bar_dict['loss'] = f\"{L.item():.2f}\"\n",
    "                bar_dict['D'] =  f\"{log['D'][-1]:.2f}\"\n",
    "                for metric in report_metrics:\n",
    "                    bar_dict[metric] =  \"{:.2f}\".format(log[metric][-1])\n",
    "                bar.set_postfix(bar_dict)\n",
    "                bar.update()  \n",
    "        \n",
    "                log['loss'].append(L.item())\n",
    "\n",
    "                if step % check_every == 0:\n",
    "                    model.eval()\n",
    "                    log['D'].append(distortion(model, dev_batcher, device=device).item())\n",
    "                    \n",
    "                    if report_fn:\n",
    "                        preds, targets = predict(\n",
    "                            model,   \n",
    "                            decision_rule,      \n",
    "                            dev_batcher, \n",
    "                            device=device, \n",
    "                            return_targets=True\n",
    "                        )    \n",
    "                        report = report_fn(targets, preds)\n",
    "                        for metric in report_metrics:            \n",
    "                            log[metric].append(report[metric])\n",
    "                \n",
    "                step += 1\n",
    "\n",
    "    model.eval()\n",
    "    log['D'].append(distortion(model, dev_batcher, device=device).item())\n",
    "    \n",
    "    if report_fn:\n",
    "        preds, targets = predict(\n",
    "            model, \n",
    "            decision_rule,        \n",
    "            dev_batcher, \n",
    "            device=device, \n",
    "            return_targets=True\n",
    "        )    \n",
    "        report = report_fn(targets, preds)\n",
    "        for metric in report_metrics:            \n",
    "            log[metric].append(report[metric])\n",
    "\n",
    "    return log            "
   ]
  },
  {
   "cell_type": "markdown",
   "metadata": {
    "id": "7_3n74DRHKSx"
   },
   "source": [
    "## 7. Examples"
   ]
  },
  {
   "cell_type": "markdown",
   "metadata": {
    "id": "LWWU3UBYHR16"
   },
   "source": [
    "### 7.1 Categorical\n",
    "\n",
    "Here we design a probabilistic model for a Categorical response variable $Y$ given a document $x$:\n",
    "\n",
    "\\begin{align}\n",
    "    Y|X=x &\\sim \\mathrm{Categorical}(\\mathbf g(x; \\theta)) \\\\\n",
    "    \\mathbf u &= \\mathrm{encode}_D(x; \\theta_{\\text{enc}}) \\\\\n",
    "    \\mathbf s &= \\mathrm{affine}_C(\\mathbf u; \\theta_{\\text{out}}) \\\\\n",
    "    \\mathbf g(x; \\theta) &= \\mathrm{softmax}(\\mathbf s)\n",
    "\\end{align}\n"
   ]
  },
  {
   "cell_type": "code",
   "execution_count": 40,
   "metadata": {
    "id": "rjul5JnLygQm"
   },
   "outputs": [],
   "source": [
    "class CategoricalModel(Model):\n",
    "    \"\"\"\n",
    "    Given a predictor x this NN parameterises the pdf of the random variable Y|X=x,\n",
    "    where Y is Categorically distributed.\n",
    "    In other words, it predicts the conditional distribution P(Y|X=x).\n",
    "    \"\"\"\n",
    "\n",
    "    def __init__(self, support_size, hidden_size: int, encoder: Encoder, p_drop=0.):\n",
    "        super().__init__(tuple())\n",
    "        self.encoder = encoder\n",
    "        self.support_size = support_size\n",
    "        self.hidden_size = hidden_size\n",
    "\n",
    "        # We have a simple neural network that maps from the text encodings to\n",
    "        # logits for the Categorical distribution.\n",
    "        self.logits_predictor = nn.Sequential(\n",
    "            nn.Dropout(p_drop),\n",
    "            nn.Linear(encoder.output_dim, hidden_size),\n",
    "            nn.ReLU(),\n",
    "            nn.Dropout(p_drop),\n",
    "            nn.Linear(hidden_size, support_size)\n",
    "        )\n",
    "        \n",
    "    def forward(self, x): \n",
    "        \n",
    "        # We begin by encoding the tokens\n",
    "        h = self.encoder(x) # batch_shape, (enc_dim,)\n",
    "        \n",
    "        # We use the logit predictor network to transform those into logits.\n",
    "        logits = self.logits_predictor(h) # batch_shape, (support_size,)\n",
    "        \n",
    "        # We return a Categorical distribution with the predicted logits as its parameters.\n",
    "        return td.Categorical(logits=logits) \n",
    "\n",
    "    def sample(self, x, sample_size=tuple()):\n",
    "        with torch.no_grad():\n",
    "            cpd = self(x=x)        \n",
    "            return cpd.sample(sample_size)\n",
    "\n",
    "    def mode(self, x):\n",
    "        with torch.no_grad():\n",
    "            # Predict the Categorical distribution of P(Y|X=x)\n",
    "            cpd = self(x=x)\n",
    "            \n",
    "            # We can easily obtain the exact mode by taking the argmax over logits.\n",
    "            mode = torch.argmax(cpd.logits, -1)\n",
    "            \n",
    "            return mode"
   ]
  },
  {
   "cell_type": "markdown",
   "metadata": {
    "id": "QpFT0Ic3EP6h"
   },
   "source": [
    "Let's sanity check our implementation by doing a forwards pass through a randomly initialized text encoder and Categorical model:"
   ]
  },
  {
   "cell_type": "code",
   "execution_count": 41,
   "metadata": {
    "colab": {
     "base_uri": "https://localhost:8080/"
    },
    "id": "U2u3V-IB3zTW",
    "outputId": "e01473ea-bf3f-4f71-82dd-cb02bbdc5e8f"
   },
   "outputs": [
    {
     "name": "stdout",
     "output_type": "stream",
     "text": [
      "torch.Size([3, 28])\n",
      "tensor([[-1.2122, -1.1352, -0.9647],\n",
      "        [-1.1917, -1.1365, -0.9799],\n",
      "        [-1.2199, -1.1338, -0.9599]], grad_fn=<SubBackward0>)\n",
      "tensor([2, 2, 2])\n",
      "tensor([1, 2, 1])\n"
     ]
    }
   ],
   "source": [
    "encoder = TextEncoder(len(word_vocab), 7, 5, True)\n",
    "cat_model = CategoricalModel(3, 12, encoder)\n",
    "for batch_x, batch_y in batcher:\n",
    "    print(batch_x.shape)\n",
    "    print(cat_model(batch_x).logits)\n",
    "    print(cat_model.mode(batch_x))\n",
    "    print(cat_model.sample(batch_x))\n",
    "    break    "
   ]
  },
  {
   "cell_type": "code",
   "execution_count": 42,
   "metadata": {
    "colab": {
     "base_uri": "https://localhost:8080/"
    },
    "id": "k_lAWf0tIb72",
    "outputId": "570337de-048b-459a-df36-5c3b63f6bc8d"
   },
   "outputs": [
    {
     "name": "stdout",
     "output_type": "stream",
     "text": [
      "22734\n"
     ]
    }
   ],
   "source": [
    "# We already set up the data at the start of this notebook. We are only left to construct the word vocabulary.\n",
    "cat_vocab = Vocab(cat_training_x, min_freq=2)\n",
    "print(len(cat_vocab))"
   ]
  },
  {
   "cell_type": "code",
   "execution_count": 43,
   "metadata": {
    "colab": {
     "base_uri": "https://localhost:8080/",
     "height": 589,
     "referenced_widgets": [
      "77a16065b5b5415bba0b32371fdfe1c9",
      "66d4bf21b3d440a0a0e90a3a49da21fe",
      "68072d9827564899ac9b09aed4590109",
      "8f894b9e6e8f466e821e12ef3a659332",
      "0409946d94e0482d8243d968e28dfe47",
      "249eb32ff5fb4498ba83dbd697aba32d",
      "bce4caf6bb52457b88327fc6b44c2365",
      "914e7b562c7141209f6ec82f362455e4",
      "49bccad39d1b4f1690181bcd2b1307f7",
      "32b7065e4c244c22b7cd5b69e2305777",
      "a1321906674f4f408dd6a58713dd7e9b"
     ]
    },
    "id": "4CSPgDECPi_m",
    "outputId": "d8902cd5-58a8-41f7-de91-87a638781543"
   },
   "outputs": [
    {
     "name": "stdout",
     "output_type": "stream",
     "text": [
      "Model\n",
      "CategoricalModel(\n",
      "  (encoder): TextEncoder(\n",
      "    (word_embed): Embedding(22734, 100)\n",
      "    (encoder): LSTM(100, 64, batch_first=True, bidirectional=True)\n",
      "  )\n",
      "  (logits_predictor): Sequential(\n",
      "    (0): Dropout(p=0.1, inplace=False)\n",
      "    (1): Linear(in_features=128, out_features=32, bias=True)\n",
      "    (2): ReLU()\n",
      "    (3): Dropout(p=0.1, inplace=False)\n",
      "    (4): Linear(in_features=32, out_features=15, bias=True)\n",
      "  )\n",
      ")\n",
      "Model size: 2,363,015 parameters\n"
     ]
    },
    {
     "data": {
      "application/vnd.jupyter.widget-view+json": {
       "model_id": "5bfdebb1cc1443d39d7e9f4b46288240",
       "version_major": 2,
       "version_minor": 0
      },
      "text/plain": [
       "  0%|          | 0/1800 [00:00<?, ?it/s]"
      ]
     },
     "metadata": {},
     "output_type": "display_data"
    },
    {
     "data": {
      "image/png": "[encoded data removed]",
      "text/plain": [
       "<Figure size 864x288 with 3 Axes>"
      ]
     },
     "metadata": {
      "needs_background": "light"
     },
     "output_type": "display_data"
    }
   ],
   "source": [
    "# Now let's train a model on this data.\n",
    "\n",
    "# First, reset random number generators\n",
    "seed_all()\n",
    "\n",
    "# Use GPU acceleration\n",
    "my_device = torch.device('cuda:0')\n",
    "\n",
    "# Create the model\n",
    "model = CategoricalModel(\n",
    "    support_size=len(brown.categories()),\n",
    "    hidden_size=32,\n",
    "    encoder=TextEncoder(\n",
    "        vocab_size=len(cat_vocab),\n",
    "        word_embed_dim=100,\n",
    "        hidden_size=64,\n",
    "        reduce_mean=True,\n",
    "        pad_id=cat_vocab.pad_id\n",
    "    ), \n",
    "    p_drop=0.1\n",
    ").to(my_device)\n",
    "\n",
    "# Construct an Adam optimiser\n",
    "optimiser = opt.Adam(model.parameters(), lr=5e-3)\n",
    "\n",
    "print(\"Model\")\n",
    "print(model)\n",
    "\n",
    "# Report number of parameters\n",
    "print(f\"Model size: {model.num_parameters():,} parameters\")\n",
    "\n",
    "# Train the model\n",
    "log = train_neural_model(\n",
    "    model, optimiser, \n",
    "    decision_rule=ExactMode(),\n",
    "    training_data=TextRegressionCorpus(cat_training_x, cat_training_y, cat_vocab), \n",
    "    dev_data=TextRegressionCorpus(cat_dev_x, cat_dev_y, cat_vocab),\n",
    "    report_fn=report_classification,\n",
    "    report_metrics=['accuracy'],\n",
    "    batch_size=500, num_epochs=20, check_every=100,\n",
    "    device=my_device\n",
    ")\n",
    "\n",
    "# Plot loss and validation checks\n",
    "fig, axs = plt.subplots(1, 3, sharey=False, figsize=(12, 4))\n",
    "_ = axs[0].plot(np.arange(len(log['loss'])), log['loss'])\n",
    "_ = axs[0].set_xlabel('steps')\n",
    "_ = axs[0].set_ylabel('training loss')\n",
    "_ = axs[1].plot(np.arange(len(log['D'])), log['D'])\n",
    "_ = axs[1].set_xlabel('steps (in 100s)')\n",
    "_ = axs[1].set_ylabel('D given dev')\n",
    "_ = axs[2].plot(np.arange(len(log['accuracy'])), log['accuracy'])\n",
    "_ = axs[2].set_xlabel('steps (in 10s)')\n",
    "_ = axs[2].set_ylabel('dev acc')\n",
    "_ = fig.tight_layout(h_pad=2, w_pad=2)\n",
    "plt.show()"
   ]
  },
  {
   "cell_type": "markdown",
   "metadata": {
    "id": "CTjtg51eEP6h"
   },
   "source": [
    "Let's use the model for some predictions."
   ]
  },
  {
   "cell_type": "code",
   "execution_count": 44,
   "metadata": {
    "colab": {
     "base_uri": "https://localhost:8080/"
    },
    "id": "qt7m8caIEP6h",
    "outputId": "72202cd8-a538-48b7-bb2f-044ea16a0e55"
   },
   "outputs": [
    {
     "name": "stdout",
     "output_type": "stream",
     "text": [
      "input: Have you examined this problem of increasing consumer sophistication from the standpoint of your own company ? ? -EOS-\n",
      "prediction: hobbies\n",
      "truth: lore\n",
      "\n",
      "input: Some have plenty of money -- some have very little money . -EOS-\n",
      "prediction: lore\n",
      "truth: lore\n",
      "\n",
      "input: Thus far the advances made have been almost entirely along functional lines . -EOS-\n",
      "prediction: belles_lettres\n",
      "truth: learned\n",
      "\n"
     ]
    }
   ],
   "source": [
    "# Set up the test dataloader\n",
    "cat_test_corpus = TextRegressionCorpus(cat_test_x, cat_test_y, cat_vocab)\n",
    "cat_test_dl = DataLoader(cat_test_corpus, batch_size=3, shuffle=True, collate_fn=cat_test_corpus.pad_to_longest)\n",
    "batch_x, batch_y = next(iter(cat_test_dl))\n",
    "\n",
    "# Use the mode to form predictions.\n",
    "decision_rule = ExactMode()\n",
    "predictions = decision_rule(model, batch_x.to(my_device))\n",
    "\n",
    "for x, pred, truth in zip(batch_x, batch_y, predictions):\n",
    "    print(f\"input: {' '.join(cat_vocab.decode(x, strip_pad=True))}\")\n",
    "    print(f\"prediction: {brown.categories()[pred]}\")\n",
    "    print(f\"truth: {brown.categories()[truth]}\")\n",
    "    print()"
   ]
  },
  {
   "cell_type": "code",
   "execution_count": 45,
   "metadata": {
    "colab": {
     "base_uri": "https://localhost:8080/",
     "height": 729
    },
    "id": "P9vdOEIbEP6h",
    "outputId": "3293b7f4-6903-4387-a069-bc36186780e0"
   },
   "outputs": [
    {
     "data": {
      "image/png": "[encoded data removed]",
      "text/plain": [
       "<Figure size 1080x720 with 3 Axes>"
      ]
     },
     "metadata": {
      "needs_background": "light"
     },
     "output_type": "display_data"
    }
   ],
   "source": [
    "# We can also visualize the predicted Categoricals and use them for sampling or input\n",
    "# to any arbitrary decision rule.\n",
    "import seaborn as sns\n",
    "import pandas as pd\n",
    "\n",
    "with torch.no_grad():\n",
    "    batch_x, batch_y = next(iter(cat_test_dl))\n",
    "    cpds = model(batch_x.to(my_device))\n",
    "\n",
    "fig, axes = plt.subplots(3, 1, figsize=(15, 10))\n",
    "for ax, x, y, predicted_probs in zip(axes, batch_x, batch_y, cpds.probs):\n",
    "    sns.barplot(data=pd.DataFrame({\"category\": brown.categories(), \"prob\": predicted_probs.cpu()}),\n",
    "                x=\"category\", y=\"prob\", ax=ax)\n",
    "    ax.set_title(f\"{' '.join(cat_vocab.decode(x, strip_pad=True))}, truth = {brown.categories()[y]}\")\n",
    "\n",
    "plt.tight_layout()\n",
    "plt.show()"
   ]
  },
  {
   "cell_type": "markdown",
   "metadata": {
    "id": "_BzZ7r2Ja6N5"
   },
   "source": [
    "### 7.2 Poisson\n",
    "\n",
    "Here we design a probabilistic model for an ordinal response variable $Y$ given a document $x$, for which we choose to model with a Poisson pmf:\n",
    "\n",
    "\\begin{align}\n",
    "    Y|X=x &\\sim \\mathrm{Poisson}(g(x; \\theta)) \\\\\n",
    "    \\mathbf u &= \\mathrm{encode}_D(x; \\theta_{\\text{enc}}) \\\\\n",
    "    s &= \\mathrm{affine}_1(\\mathbf u; \\theta_{\\text{out}}) \\\\\n",
    "    g(x; \\theta) &= \\mathrm{softplus}(s)\n",
    "\\end{align}\n",
    "\n",
    "The Poisson rate parameter must be strictly positive, thus we use a softplus output.\n"
   ]
  },
  {
   "cell_type": "code",
   "execution_count": 46,
   "metadata": {
    "id": "SrW5ObdJb9NS"
   },
   "outputs": [],
   "source": [
    "class PoissonModel(Model):\n",
    "    \"\"\"\n",
    "    This model predicts a conditional Poisson distribution Y|X=x for ordinal data.\n",
    "    \"\"\"\n",
    "\n",
    "    def __init__(self, hidden_size: int, encoder: Encoder, p_drop=0.):\n",
    "        super().__init__(tuple())\n",
    "        self.encoder = encoder\n",
    "        self.hidden_size = hidden_size\n",
    "\n",
    "        # The poisson distribution has 1 parameter: its rate. This needs to be a positive real number.\n",
    "        self.rate_predictor = nn.Sequential(\n",
    "            nn.Dropout(p_drop),\n",
    "            nn.Linear(encoder.output_dim, hidden_size),\n",
    "            nn.ReLU(),\n",
    "            nn.Dropout(p_drop),\n",
    "            nn.Linear(hidden_size, 1),\n",
    "            nn.Softplus()\n",
    "        )\n",
    "        \n",
    "    def forward(self, x):        \n",
    "        h = self.encoder(x)\n",
    "        rate = self.rate_predictor(h)\n",
    "        return td.Poisson(rate=rate) \n",
    "\n",
    "    def sample(self, x, sample_size=tuple()):\n",
    "        with torch.no_grad():\n",
    "            cpd = self(x=x)\n",
    "            return cpd.sample(sample_size)\n",
    "\n",
    "    def mode(self, x):\n",
    "        with torch.no_grad():\n",
    "            cpd = self(x=x)\n",
    "            rate = cpd.rate\n",
    "            return torch.floor(rate)"
   ]
  },
  {
   "cell_type": "code",
   "execution_count": 47,
   "metadata": {
    "colab": {
     "base_uri": "https://localhost:8080/",
     "height": 624,
     "referenced_widgets": [
      "50b9f55188de444f83ba5b8a03c0a6bb",
      "23568fdc5e234cd1b6ec7d7a9cc63f39",
      "ef0d354416714ad08e5ecb2a996b59fe",
      "cc4e5930621440459849e2ed1b116ca7",
      "8fe3ac02462b4221b8d658bc6ec6c839",
      "4851518491e34a45a1999f156a8319b5",
      "5d6e6a2e29084d14ae1cb46b5ec52adc",
      "a2bf7fb8b7e64342b66f488a6af0cb65",
      "4312d5ff4e2a49ebbb9e1d2fd86226ea",
      "928908907613408294a95d8496d30d91",
      "dca4117080474ff19fd1bbf3c313e7d4"
     ]
    },
    "id": "zIyHQWy9b9NT",
    "outputId": "090f9022-b4f2-4dae-b907-62d7b5fac658"
   },
   "outputs": [
    {
     "name": "stdout",
     "output_type": "stream",
     "text": [
      "22,734 words in the vocabulary.\n",
      "Model\n",
      "PoissonModel(\n",
      "  (encoder): TextEncoder(\n",
      "    (word_embed): Embedding(83547, 100)\n",
      "    (encoder): LSTM(100, 64, batch_first=True, bidirectional=True)\n",
      "  )\n",
      "  (rate_predictor): Sequential(\n",
      "    (0): Dropout(p=0.1, inplace=False)\n",
      "    (1): Linear(in_features=128, out_features=32, bias=True)\n",
      "    (2): ReLU()\n",
      "    (3): Dropout(p=0.1, inplace=False)\n",
      "    (4): Linear(in_features=32, out_features=1, bias=True)\n",
      "    (5): Softplus(beta=1, threshold=20)\n",
      "  )\n",
      ")\n",
      "Model size: 8,443,853 parameters\n"
     ]
    },
    {
     "data": {
      "application/vnd.jupyter.widget-view+json": {
       "model_id": "3668bd73687747d58732a6b2a1971d8b",
       "version_major": 2,
       "version_minor": 0
      },
      "text/plain": [
       "  0%|          | 0/400 [00:00<?, ?it/s]"
      ]
     },
     "metadata": {},
     "output_type": "display_data"
    },
    {
     "data": {
      "image/png": "[encoded data removed]",
      "text/plain": [
       "<Figure size 1152x288 with 4 Axes>"
      ]
     },
     "metadata": {
      "needs_background": "light"
     },
     "output_type": "display_data"
    }
   ],
   "source": [
    "# Let's train on the age data using a conditional Poisson model.\n",
    "\n",
    "# We need to construct the vocabulary for this data.\n",
    "blog_vocab = Vocab(blog_training_x, min_freq=2)\n",
    "print(f\"{len(cat_vocab):,} words in the vocabulary.\")\n",
    "\n",
    "# Reset the random seeds\n",
    "seed_all()\n",
    "\n",
    "# Use GPU acceleration\n",
    "my_device = torch.device('cuda:0')\n",
    "\n",
    "# Create a similar model as before, but predicting a Poisson distribution instead.\n",
    "model = PoissonModel(\n",
    "    hidden_size=32,\n",
    "    encoder=TextEncoder(\n",
    "        vocab_size=len(blog_vocab),\n",
    "        word_embed_dim=100,\n",
    "        hidden_size=64,\n",
    "        reduce_mean=True, \n",
    "        pad_id=blog_vocab.pad_id\n",
    "    ), \n",
    "    p_drop=0.1\n",
    ").to(my_device)\n",
    "\n",
    "# construct an Adam optimiser\n",
    "optimiser = opt.Adam(model.parameters(), lr=5e-3)\n",
    "\n",
    "print(\"Model\")\n",
    "print(model)\n",
    "\n",
    "# Report number of parameters\n",
    "print(f\"Model size: {model.num_parameters():,} parameters\")\n",
    "\n",
    "# Train the model\n",
    "log = train_neural_model(\n",
    "    model, optimiser, \n",
    "    decision_rule=ExactMode(),\n",
    "    training_data=TextRegressionCorpus(blog_training_x, blog_training_y, blog_vocab), \n",
    "    dev_data=TextRegressionCorpus(blog_dev_x, blog_dev_y, blog_vocab),\n",
    "    report_fn=report_regression,\n",
    "    report_metrics=[\"MSE\", \"MAE\", \"MdAE\"],\n",
    "    batch_size=500, num_epochs=1, check_every=100,\n",
    "    device=my_device\n",
    ")\n",
    "\n",
    "# Plot loss and validation checks\n",
    "fig, axs = plt.subplots(1, 4, sharey=False, figsize=(16, 4))\n",
    "_ = axs[0].plot(np.arange(len(log['loss'])), log['loss'])\n",
    "_ = axs[0].set_xlabel('steps')\n",
    "_ = axs[0].set_ylabel('training loss')\n",
    "_ = axs[1].plot(np.arange(len(log['D'])), log['D'])\n",
    "_ = axs[1].set_xlabel('steps (in 100s)')\n",
    "_ = axs[1].set_ylabel('D given dev')\n",
    "_ = axs[2].plot(np.arange(len(log['MAE'])), log['MAE'])\n",
    "_ = axs[2].set_xlabel('steps (in 10s)')\n",
    "_ = axs[2].set_ylabel('dev mean absolute error')\n",
    "_ = axs[3].plot(np.arange(len(log['MdAE'])), log['MdAE'])\n",
    "_ = axs[3].set_xlabel('steps (in 10s)')\n",
    "_ = axs[3].set_ylabel('dev median absolute error')\n",
    "_ = fig.tight_layout(h_pad=2, w_pad=2)\n",
    "plt.show()"
   ]
  },
  {
   "cell_type": "code",
   "execution_count": 48,
   "metadata": {
    "colab": {
     "base_uri": "https://localhost:8080/"
    },
    "id": "PyFwug7xb9NT",
    "outputId": "9bdcd44d-33ac-478c-c9c6-180b8c573dd9",
    "scrolled": true
   },
   "outputs": [
    {
     "name": "stdout",
     "output_type": "stream",
     "text": [
      "input: today i wore slippers to school ! ! -EOS-\n",
      "prediction: 16\n",
      "truth: 17.0\n",
      "\n",
      "input: urllink boston.com / news / politics / presidential candidates / the anatomy of a smear campaign -EOS-\n",
      "prediction: 33\n",
      "truth: 27.0\n",
      "\n",
      "input: urllink which naruto character are you ? quiz by urllink orangeday.net -EOS-\n",
      "prediction: 17\n",
      "truth: 22.0\n",
      "\n"
     ]
    }
   ],
   "source": [
    "# Set up the test dataloader\n",
    "blog_test_corpus = TextRegressionCorpus(blog_test_x, blog_test_y, blog_vocab)\n",
    "blog_test_dl = DataLoader(blog_test_corpus, batch_size=3, shuffle=True, collate_fn=blog_test_corpus.pad_to_longest)\n",
    "batch_x, batch_y = next(iter(blog_test_dl))\n",
    "\n",
    "# We can use the mode again to form predictions.\n",
    "decision_rule = ExactMode()\n",
    "predictions = decision_rule(model, batch_x.to(my_device))\n",
    "\n",
    "for x, pred, truth in zip(batch_x, batch_y, predictions):\n",
    "    print(f\"input: {' '.join(blog_vocab.decode(x, strip_pad=True))}\")\n",
    "    print(f\"prediction: {pred.item()}\")\n",
    "    print(f\"truth: {truth.item()}\")\n",
    "    print()"
   ]
  },
  {
   "cell_type": "code",
   "execution_count": 49,
   "metadata": {
    "colab": {
     "base_uri": "https://localhost:8080/",
     "height": 350
    },
    "id": "V3Tlu3zfEP6i",
    "outputId": "007344e2-57a1-496f-b5c9-aa61dfacafe7"
   },
   "outputs": [
    {
     "data": {
      "image/png": "[encoded data removed]",
      "text/plain": [
       "<Figure size 1080x360 with 3 Axes>"
      ]
     },
     "metadata": {
      "needs_background": "light"
     },
     "output_type": "display_data"
    }
   ],
   "source": [
    "# We can also visualize the pmf of the predicted conditional Poisson distributions.\n",
    "with torch.no_grad():\n",
    "    batch_x, batch_y = next(iter(blog_test_dl))\n",
    "    cpds = model(batch_x.to(my_device))\n",
    "    mode = model.mode(batch_x.to(my_device))\n",
    "    \n",
    "x = torch.arange(0, 50).repeat(3, 1)\n",
    "pmf = cpds.log_prob(x.to(my_device)).exp()\n",
    "\n",
    "fig, axes = plt.subplots(1, 3, figsize=(15, 5))\n",
    "for i in range(3):\n",
    "    axes[i].plot(x[i].cpu(), pmf[i].cpu().numpy(), ls='-.', color='b', label='pmf')\n",
    "    axes[i].axvline(mode[i].cpu().numpy(), ls=\"--\", color='b', label='mode')\n",
    "    axes[i].axvline(batch_y[i].numpy(), color='r', ls='--', label='truth')\n",
    "    axes[i].set_xlabel(\"age\")\n",
    "    axes[i].set_ylabel(\"pmf\")\n",
    "    axes[i].set_title(f\"{' '.join(blog_vocab.decode(batch_x[i], strip_pad=True))[:40]}...\")\n",
    "    axes[i].legend()"
   ]
  },
  {
   "cell_type": "markdown",
   "metadata": {
    "id": "JlqKGKLn1FSH"
   },
   "source": [
    "### 7.3 Sequence labelling\n",
    "\n",
    "In sequence labelling we have two sequences of equal length: a word sequence $x_{1:l}$ and a tag sequence $y_{1:l}$.\n",
    "\n",
    "\n",
    "The word sequence $x_{1:l} = \\langle x_1, \\ldots, x_l \\rangle$, where $l$ is the sequence length, is such that token $x_i$ belongs to a vocabulary $\\mathcal W$ of $V$ known words. \n",
    "\n",
    "The tag sequence $y_{1:l} = \\langle y_1, \\ldots, y_l \\rangle$, where $l$ is the same length as the document $x_{1:l}$, is such that each tag $y_i$ belongs to a vocabulary $\\mathcal T$ of $C$ known tags.\n",
    "\n",
    "As always, our models are probability distributions, but this time we need a distribution over a space of sequences. A sequence is a finite length object, but it cannot be seen as a fixed dimensional vector (a multivariate random variable), for its length is not at all fixed. A sequence is best seen as a data structure. To prescribe a distribution over a general data structure, we can decompose this structure into parts, prescribe distributions for the parts, and combine them into a single pdf. \n",
    "\n",
    "Chain rule allows us to re-express a pdf over an arbitrary sample space (with multivariate or structured outcomes) as a product of pdfs, each over a simpler space space (e.g., with univariate outcomes):\n",
    "\n",
    "\\begin{align}\n",
    "p(y_{1:l}|x_{1:l}, \\theta) &= \\prod_{i=1}^l p(y_i|x_{1:l}, y_{<i}, \\theta) \\\\\n",
    "&=  \\prod_{i=1}^l \\mathrm{Categorical}(y_i|\\mathbf g(x_{1:l}, y_{<i}; \\theta))\n",
    "\\end{align}\n",
    "\n",
    "where, on the right-hand side of the first equation, we have pdfs (or pfms) for each step of the sequence. In the second row, we use a Categorical pmf since each step of the sequence is a simple categorical variable. Each pmf is parameterised in context using some trainable function $\\mathbf g$ with parameters $\\theta$.\n",
    "\n",
    "The above is a *factorisation* of the joint pdf. This is one valid factorisation, and this one does not make any conditional independence assumptions (i.e., it conditions on all parts of the structure already generated). We could simplify the factorisation by making such conditional independence (or Markov) assumptions. For example, we might use only $x_{1:l}$ and the previous step $y_{i-1}$ when parameterising the distribution of $Y_i$. These assumptions are justified on a case by case basis depending on application domain. \n"
   ]
  },
  {
   "cell_type": "code",
   "execution_count": 50,
   "metadata": {
    "id": "bZjt4gVDiIRz"
   },
   "outputs": [],
   "source": [
    "class Tagger(Model):\n",
    "\n",
    "    def __init__(self, vocab_size: int, tagset_size: int, pad_id=0, bos_id=1, eos_id=2):\n",
    "        super().__init__()\n",
    "        self._vocab_size = vocab_size\n",
    "        self._tagset_size = tagset_size\n",
    "        self._pad = pad_id\n",
    "        self._bos = bos_id\n",
    "        self._eos = eos_id\n",
    "\n",
    "    @property\n",
    "    def vocab_size(self):\n",
    "        return self._vocab_size\n",
    "\n",
    "    @property\n",
    "    def tagset_size(self):\n",
    "        return self._tagset_size\n",
    "\n",
    "    @property\n",
    "    def pad(self):\n",
    "        return self._pad\n",
    "\n",
    "    @property\n",
    "    def bos(self):\n",
    "        return self._bos\n",
    "\n",
    "    @property\n",
    "    def eos(self):\n",
    "        return self._eos\n",
    "\n",
    "    def num_parameters(self):\n",
    "        return sum(np.prod(theta.shape) for theta in self.parameters())\n",
    "        \n",
    "    def forward(self, x, y_in):\n",
    "        \"\"\"\n",
    "        To predict the distribution of Y[i], an autoregressive model conditions\n",
    "         on both x and y[:i]. Normally, y_in is prepended with some BOS code so\n",
    "         that both sequences have the same length.\n",
    "\n",
    "        x: [batch_size, max_length]\n",
    "        y_in: [batch_size, max_length]\n",
    "\n",
    "        Return a batch of cpds, one per step.\n",
    "        \"\"\"\n",
    "        raise NotImplementedError(\"Each type of tagger will have a different implementation here\")\n",
    "\n",
    "    def log_prob(self, x, y):\n",
    "        \"\"\"\n",
    "        Computes the log conditional probability of each tag sequence in a batch.\n",
    "\n",
    "        x: [batch_size, max_length]\n",
    "        y: [batch_size, max_length]\n",
    "        \"\"\"\n",
    "        # shift the output sequence and prepend the BOS code\n",
    "        # (after all, we do not want to condition on what we need to predict)\n",
    "        batch_size, max_len = y.shape\n",
    "        bos = torch.full((batch_size, 1), self.bos, device=y.device)\n",
    "        y_in = torch.cat([bos, y], 1)[:,:-1]\n",
    "        \n",
    "        # one C-dimensional Categorical cpd for each token in the batch\n",
    "        cpds = self(x=x, y_in=y_in)\n",
    "        # [batch_size, max_length]        \n",
    "        logp = cpds.log_prob(y)\n",
    "        # [batch_size]\n",
    "        logp = torch.where(y != self.pad, logp, torch.zeros_like(logp)).sum(-1)\n",
    "        return logp  \n",
    "\n",
    "    def greedy(self, x):\n",
    "        \"\"\"\n",
    "        For each cpd Y[i]|X=x, predicts the mode of the cpd.\n",
    "        x: [batch_size, max_length]\n",
    "\n",
    "        Return: tag sequences [batch_size, max_length]\n",
    "        \"\"\"\n",
    "        raise NotImplementedError(\"Each type of tagger differs here\")\n",
    "\n",
    "    def sample(self, x, sample_size=tuple()):\n",
    "        \"\"\"\n",
    "        Per word sequence in the batch, draws a number of samples from the model, each sample is a complete tag sequence.\n",
    "\n",
    "        x: [batch_size, max_len]\n",
    "\n",
    "        Return: tag sequences with shape [batch_size, max_len] if sample_size is None\n",
    "            else with shape [sample_size, batch_size, max_len]\n",
    "        \"\"\"\n",
    "        raise NotImplementedError(\"Each type of tagger differs here\")"
   ]
  },
  {
   "cell_type": "code",
   "execution_count": 51,
   "metadata": {
    "colab": {
     "base_uri": "https://localhost:8080/"
    },
    "id": "S3d0xb-wVKKJ",
    "outputId": "ab37a60c-4d40-4cca-c1c8-c8bde0240223"
   },
   "outputs": [
    {
     "data": {
      "text/plain": [
       "(3358, 16)"
      ]
     },
     "execution_count": 51,
     "metadata": {},
     "output_type": "execute_result"
    }
   ],
   "source": [
    "# we get a vocabulary for words\n",
    "word_vocab = Vocab(tagger_training_x, min_freq=2)\n",
    "# and a vocabulary for tags\n",
    "tag_vocab = Vocab(tagger_training_y, min_freq=1)\n",
    "# you can see their sizes V and C:\n",
    "len(word_vocab), len(tag_vocab)"
   ]
  },
  {
   "cell_type": "markdown",
   "metadata": {
    "id": "ACxYbM28BK8Q"
   },
   "source": [
    "#### 7.3.1 Independent C-way classification\n",
    "\n",
    "Our first tagger is in fact just a $C$-way classifier that we use to predict a distribution over $C$ tags for different positions of an input sequence conditioned on the entire input sequence.\n",
    "\n",
    "Here is the model of the $i$th tag given $x_{1:l}$:\n",
    "\\begin{align}\n",
    "Y_i | S=x_{1:l} &\\sim \\mathrm{Categorical}(\\mathbf g(i, x_{1:l}; \\theta))\n",
    "\\end{align}\n",
    "\n",
    "where $\\mathbf g$ is a neural network. For example:\n",
    "\\begin{align}\n",
    "\\mathbf e_j &= \\mathrm{embed}_D(x_j; \\theta_{\\text{in}})  & j \\in \\{1, \\ldots, l\\}\\\\\n",
    "\\mathbf u_{1:l} &= \\mathrm{birnn}_{2K}(\\mathbf e_{1:l}; \\theta_{\\text{bienc}})\\\\\n",
    "\\mathbf s_i &= \\mathrm{affine}_C(\\mathbf u_i; \\theta_{\\text{out}})\\\\\n",
    "\\mathbf g(i, x_{1:l}) &= \\mathrm{softmax}(\\mathbf s_i)\n",
    "\\end{align}\n",
    "\n",
    "The bidirection RNN layer concatenates the states of two independent RNN layers, one that processes the sequence from left-to-right, another that processes it from right-to-left. \n",
    "\n",
    "Note how this model ignores every other tag in the sequence."
   ]
  },
  {
   "cell_type": "code",
   "execution_count": 52,
   "metadata": {
    "id": "vPa1nCVBhP4X"
   },
   "outputs": [],
   "source": [
    "class BasicTagger(Tagger):\n",
    "\n",
    "    def __init__(self, vocab_size, tagset_size, word_embed_dim: int, hidden_size: int, p_drop=0, pad_id=0, bos_id=1, eos_id=2):\n",
    "        \"\"\"        \n",
    "        vocab_size: number of known words\n",
    "        tagset_size: number of known tags\n",
    "        word_embed_dim: dimensionality of word embeddings\n",
    "        hidden_size: dimensionality of hidden layers\n",
    "        recurrent_encoder: enable recurrent encoder\n",
    "        bidirectional_encoder: for a recurrent encoder, make it bidirectional\n",
    "        \"\"\"\n",
    "        super().__init__(vocab_size=vocab_size, tagset_size=tagset_size, pad_id=pad_id, bos_id=bos_id, eos_id=eos_id)\n",
    "        self.word_embed_dim = word_embed_dim\n",
    "        self.hidden_size = hidden_size        \n",
    "        self.encoder = TextEncoder(\n",
    "            vocab_size=vocab_size,\n",
    "            word_embed_dim=word_embed_dim,\n",
    "            hidden_size=hidden_size,\n",
    "            reduce_mean=False,\n",
    "            pad_id=pad_id,\n",
    "            p_drop=p_drop\n",
    "        )\n",
    "        # the bidirectional LSTM encoder produces outputs of size 2*hidden_size\n",
    "        # thus our linear layer must take 2*hidden_size inputs\n",
    "        self.logits_predictor = nn.Sequential(\n",
    "            nn.Dropout(p_drop),\n",
    "            nn.Linear(self.encoder.output_dim, self.tagset_size)\n",
    "        )\n",
    "        \n",
    "    def forward(self, x, y_in=None):\n",
    "        \"\"\"\n",
    "        Parameterise the conditional distributions over Y[i] given the entire word sequence x.        \n",
    "\n",
    "        x: [batch_size, max_length]\n",
    "        y: not used by this class\n",
    "\n",
    "        Return: a batch of C-dimensional Categorical distributions, one per step of the sequence.\n",
    "        \"\"\"\n",
    "        # We begin by encoding the tokens \n",
    "        # [batch_size, max_length, enc_dim]\n",
    "        h = self.encoder(x)\n",
    "        # finally, per step of the sequence we predict logits for the possible tags\n",
    "        # [batch_size, max_length, tagset_size]        \n",
    "        s = self.logits_predictor(h)\n",
    "        # and convert those logits to Categorical distributions\n",
    "        return td.Categorical(logits=s)\n",
    "\n",
    "    def greedy(self, x):\n",
    "        \"\"\"\n",
    "        For each cpd Y[i]|X=x, predicts the mode of the cpd.\n",
    "        x: [batch_size, max_length]\n",
    "\n",
    "        Return: tag sequences [batch_size, max_length]\n",
    "        \"\"\"\n",
    "        batch_size = x.shape[0]\n",
    "        max_length = x.shape[1]\n",
    "        with torch.no_grad():\n",
    "            cpds = self(x)\n",
    "            # [batch_size, max_length]\n",
    "            y_pred = torch.argmax(cpds.probs, -1)\n",
    "            # if a position in x is padded, it should be padded in y\n",
    "            y_pred = torch.where(x != self.pad, y_pred, torch.zeros_like(y_pred) + self.pad)\n",
    "            return y_pred\n",
    "\n",
    "    def mode(self, x):\n",
    "        return self.greedy(x)\n",
    "\n",
    "    def sample(self, x, sample_size=None):\n",
    "        \"\"\"\n",
    "        Per word sequence in the batch, draws a number of samples from the model, each sample is a complete tag sequence.\n",
    "\n",
    "        x: [batch_size, max_len]\n",
    "\n",
    "        Return: tag sequences with shape [batch_size, max_len] if sample_size is None\n",
    "            else with shape [sample_size, batch_size, max_len]\n",
    "        \"\"\"\n",
    "        batch_size = x.shape[0]\n",
    "        max_length = x.shape[1]\n",
    "        with torch.no_grad():\n",
    "            cpds = self(x)\n",
    "            if sample_size is None:\n",
    "                shape = (1,)\n",
    "            else:\n",
    "                shape = (sample_size,)\n",
    "            # [sample_size, batch_size, max_length]\n",
    "            y_pred = cpds.sample(shape)\n",
    "            # if a position in x is padding, it must be padded in y too\n",
    "            y_pred = torch.where(x.unsqueeze(0) != self.pad, y_pred, torch.zeros_like(y_pred) + self.pad)\n",
    "            # takes care of output shape\n",
    "            if sample_size is None:\n",
    "                return y_pred.squeeze(0)\n",
    "            else:\n",
    "                return y_pred"
   ]
  },
  {
   "cell_type": "code",
   "execution_count": 53,
   "metadata": {
    "id": "syu-Z_-PkNwP"
   },
   "outputs": [],
   "source": [
    "def test_basic_tagger(training_x, training_y, vocab_x, vocab_y):\n",
    "    seed_all()\n",
    "    toy_uni_tagger = BasicTagger(\n",
    "        vocab_size=len(vocab_x), \n",
    "        tagset_size=len(vocab_y), \n",
    "        word_embed_dim=32,\n",
    "        hidden_size=32\n",
    "    )    \n",
    "\n",
    "    assert type(toy_uni_tagger(torch.from_numpy(vocab_x.batch_encode(training_x[:2])))) is td.Categorical\n",
    "\n",
    "    assert toy_uni_tagger.log_prob(\n",
    "            torch.from_numpy(vocab_x.batch_encode(training_x[:2])), \n",
    "            torch.from_numpy(vocab_y.batch_encode(training_y[:2]))\n",
    "        ).shape == (2,)\n",
    "\n",
    "    assert loss(toy_uni_tagger,\n",
    "            torch.from_numpy(vocab_x.batch_encode(training_x[:2])), \n",
    "            torch.from_numpy(vocab_y.batch_encode(training_y[:2]))\n",
    "        ).shape == tuple()\n",
    "\n",
    "    assert toy_uni_tagger.sample(torch.from_numpy(vocab_x.batch_encode(training_x[:2]))).shape == vocab_x.batch_encode(training_x[:2]).shape\n",
    "\n",
    "    assert toy_uni_tagger.sample(torch.from_numpy(vocab_x.batch_encode(training_x[:2])), 3).shape == (3,) + vocab_x.batch_encode(training_x[:2]).shape\n",
    "\n",
    "    assert toy_uni_tagger.greedy(torch.from_numpy(vocab_x.batch_encode(training_x[:2]))).shape == vocab_x.batch_encode(training_x[:2]).shape\n",
    "    \n",
    "\n",
    "test_basic_tagger(tagger_training_x, tagger_training_y, word_vocab, tag_vocab)"
   ]
  },
  {
   "cell_type": "markdown",
   "metadata": {
    "id": "iQBNExaS2h7_"
   },
   "source": [
    "\n",
    "#### 7.3.2 Autoregressive tagger \n",
    "\n",
    "When predicting the distribution of $Y_i$, an autoregressive tagger conditions on the tag sequence already generated thus far, hence it makes no Markov assumption. This is the model of the $i$th tag:\n",
    "\n",
    "\\begin{align}\n",
    "Y_i | S=x_{1:l}, H=y_{<i} &\\sim \\mathrm{Categorical}(\\mathbf g(i, x_{1:l}, y_{<i}; \\theta))\n",
    "\\end{align}\n",
    "\n",
    "where $\\mathbf g$ is a neural network. For example:\n",
    "\\begin{align}\n",
    "\\mathbf e_j &= \\mathrm{embed}_{D_1}(x_j; \\theta_{\\text{words}}) & j \\in \\{1, \\ldots, l\\}\\\\\n",
    "\\mathbf t_k &= \\mathrm{embed}_{D_2}(y_k; \\theta_{\\text{tags}}) & k < i\\\\\n",
    "\\mathbf u_{1:l} &= \\mathrm{birnn}_{2K}(\\mathbf e_{1:l}; \\theta_{\\text{bienc}})\\\\\n",
    "\\mathbf v_i &= \\mathrm{rnnstep}_K(\\mathbf v_{i-1},  \\mathbf t_{i-1}; \\theta_{\\text{dec}})\\\\\n",
    "\\mathbf s_i &= \\mathrm{ffnn}_C(\\mathrm{concat}(\\mathbf u_i, \\mathbf v_i); \\theta_{\\text{out}})\\\\\n",
    "\\mathbf g(i, x_{1:l}) &= \\mathrm{softmax}(\\mathbf s_i)\n",
    "\\end{align}\n",
    "\n",
    "Again, we  have two different embedding layers, one for words and one for tags. \n",
    "Again, we use a bidirectional rnn to encode the whole document. \n",
    "Now, for the $i$th position, we use an RNN generator/decoder cell to encode the complete history of previous tags. We then predict the logits by using an FFNN to combine the history encoding with the document encoding for position $i$.\n",
    "\n",
    "There's yet another way to parameterise this model, in which we let the RNN decoder compose the features of the history with the features of the document:\n",
    "\n",
    "\\begin{align}\n",
    "\\mathbf e_j &= \\mathrm{embed}_{D_1}(x_j; \\theta_{\\text{words}}) & j \\in \\{1, \\ldots, l\\}\\\\\n",
    "\\mathbf t_k &= \\mathrm{embed}_{D_2}(y_k; \\theta_{\\text{tags}}) & k < i\\\\\n",
    "\\mathbf u_{1:l} &= \\mathrm{birnn}_{2K}(\\mathbf e_{1:l}; \\theta_{\\text{bienc}})\\\\\n",
    "\\mathbf v_i &= \\mathrm{rnnstep}_K(\\mathbf v_{i-1}, \\mathrm{concat}(\\mathbf u_i, \\mathbf t_{i-1}); \\theta_{\\text{dec}})\\\\\n",
    "\\mathbf s_i &= \\mathrm{affine}_C(\\mathbf v_i; \\theta_{\\text{out}})\\\\\n",
    "\\mathbf g(i, x_{1:l}) &= \\mathrm{softmax}(\\mathbf s_i)\n",
    "\\end{align}\n",
    "\n",
    "Both are very good options."
   ]
  },
  {
   "cell_type": "code",
   "execution_count": 54,
   "metadata": {
    "id": "5UPrqLGm4aRC"
   },
   "outputs": [],
   "source": [
    "class AutoregressiveTagger(Tagger):\n",
    "\n",
    "    def __init__(self, vocab_size: int, tagset_size: int, word_embed_dim: int, tag_embed_dim: int, hidden_size: int, p_drop=0., pad_id=0, bos_id=1, eos_id=2):\n",
    "        \"\"\"\n",
    "        ngram_size: longest ngram (for tag sequence)\n",
    "        vocab_size: number of known words\n",
    "        tagset_size: number of known tags\n",
    "        word_embed_dim: dimensionality of word embeddings\n",
    "        tag_embed_dim: dimensionality of tag embeddings (needed to encode the history of ngram_size-1 tags)\n",
    "        hidden_size: dimensionality of hidden layers\n",
    "        \"\"\"\n",
    "        super().__init__(vocab_size=vocab_size, tagset_size=tagset_size, pad_id=pad_id, bos_id=bos_id, eos_id=eos_id)        \n",
    "        self.word_embed_dim = word_embed_dim\n",
    "        self.tag_embed_dim = tag_embed_dim\n",
    "        self.hidden_size = hidden_size\n",
    "\n",
    "        self.encoder = TextEncoder(\n",
    "            vocab_size=vocab_size,\n",
    "            word_embed_dim=word_embed_dim,\n",
    "            hidden_size=hidden_size,\n",
    "            reduce_mean=False,\n",
    "            pad_id=pad_id\n",
    "        )\n",
    "        # we need to embed tags in the history \n",
    "        self.tag_embed = nn.Embedding(tagset_size, embedding_dim=tag_embed_dim) \n",
    "        \n",
    "        self.decoder = nn.LSTM(\n",
    "            input_size=tag_embed_dim,\n",
    "            hidden_size=hidden_size,\n",
    "            num_layers=1,\n",
    "            batch_first=True,\n",
    "            bidirectional=False\n",
    "        )\n",
    "        # for each position i, we need to combine the encoding of x[i] in context \n",
    "        # as well as the history of ngram_size-1 tags\n",
    "        # so we use a FFNN for that:\n",
    "        self.logits_predictor = nn.Sequential(\n",
    "            nn.Dropout(p_drop),\n",
    "            nn.Linear(self.encoder.output_dim + hidden_size, hidden_size),\n",
    "            nn.ReLU(),\n",
    "            nn.Dropout(p_drop),\n",
    "            nn.Linear(hidden_size, tagset_size),\n",
    "        ) \n",
    "\n",
    "        self.init_state = nn.Sequential(\n",
    "            nn.Dropout(p_drop),\n",
    "            nn.Linear(self.encoder.output_dim, hidden_size),\n",
    "            nn.Tanh()\n",
    "        )\n",
    "        self.init_cell = nn.Sequential(\n",
    "            nn.Dropout(p_drop),\n",
    "            nn.Linear(self.encoder.output_dim, hidden_size),\n",
    "            nn.Tanh()\n",
    "        )\n",
    "                \n",
    "    def forward(self, x, y_in):\n",
    "        \"\"\"\n",
    "        Parameterise the conditional distributions over Y[i] given history y[:i] and all of x.\n",
    "\n",
    "        This procedure takes care that the ith output distribution conditions only on the n-1 observations before y[i].\n",
    "        It also takes care of padding to the left with BOS symbols.\n",
    "\n",
    "        x: word sequences [batch_size, max_length]\n",
    "        y_in: history of tag sequences  [batch_size, max_length]\n",
    "\n",
    "        Return: a batch of V-dimensional Categorical distributions, one per step of the sequence.\n",
    "        \"\"\"\n",
    "\n",
    "        # Let's start by encoding the conditioning sequences        \n",
    "        # [batch_size, max_length, enc_dim]\n",
    "        u = self.encoder(x)        \n",
    "        \n",
    "        # here we pad the tag sequence with BOS on the left\n",
    "        # [batch_size, max_len, tag_emb_dim]\n",
    "        t_in = self.tag_embed(y_in)\n",
    "\n",
    "        # encode the histories\n",
    "        # [batch_size, max_len, hidden_size]\n",
    "        v, _ = self.decoder(t_in)\n",
    "    \n",
    "        # Now we can combine the encodings of x and the encodings of histories, we do so via concatenation\n",
    "        # since there's a fixed number of such encodings per step of the sequence\n",
    "        # [batch_size, max_length, 3*hidden_size]\n",
    "        u = torch.cat([u, v], -1)\n",
    "        # We are now ready to map the state of each step of the sequence to a C-dimensional vector of logits\n",
    "        # we do so using our FFNN\n",
    "        # [batch_size, max_length, tagset_size]\n",
    "        s = self.logits_predictor(u)\n",
    "\n",
    "        return td.Categorical(logits=s)\n",
    "\n",
    "    def greedy(self,x):\n",
    "        \"\"\"\n",
    "        Draws a number of samples from the model, each sample is a complete sequence.\n",
    "        We impose a maximum number of steps, to avoid infinite loops.\n",
    "        This procedure takes care of mapping sampled symbols to pad after the EOS symbol is generated.\n",
    "        \"\"\"\n",
    "        batch_size = x.shape[0]\n",
    "        max_length = x.shape[1]\n",
    "\n",
    "        with torch.no_grad():\n",
    "            # add the beginning we do not know the tag sequence\n",
    "            # but NNs work with fixed dimensional tensors, \n",
    "            # so we allocate a tensor full of BOS codes\n",
    "            y = torch.full((batch_size, max_length + 1), self.bos, device=self.tag_embed.weight.device) \n",
    "            # Per step\n",
    "            for i in range(max_length):\n",
    "                # we parameterise a cpd for Y[i]|X=x\n",
    "                # note that the forward method takes care of not conditioning on y[i] itself\n",
    "                # and only using the ngram_size-1 previous tags\n",
    "                # at this point, the tag y[i] is a dummy code\n",
    "                # the forward method recomputes all cds in the batch, this will include the cpd for Y[i]\n",
    "                # [batch_size, max_len, C] \n",
    "                cpds = self(x=x, y_in=y[:,:-1])\n",
    "                # we get their modes via argmax\n",
    "                # [batch_size, max_len]\n",
    "                modes = torch.argmax(cpds.probs, -1)\n",
    "                \n",
    "                # Here we update the current token to the freshly obtained mode\n",
    "                #  and also replace the token by 0 (pad) in case the sentence is already complete\n",
    "                y[:, i+1] = modes[:, i]     \n",
    "            # discard the BOS token\n",
    "            y = y[:,1:]           \n",
    "            # where we had a PAD token in x, we change the y token to PAD too\n",
    "            y = torch.where(x != self.pad, y, torch.zeros_like(y) + self.pad)\n",
    "            \n",
    "            return y\n",
    "\n",
    "    def mode(self, x):\n",
    "        raise NotImplementedError(\"The search for the mode of the autoregressive tagger is intractable, consider using `greedy` or a sampling-based approximation. \")\n",
    "\n",
    "    def _sample(self, x):\n",
    "        \"\"\"\n",
    "        Draws a number of samples from the model, each sample is a complete sequence.\n",
    "        We impose a maximum number of steps, to avoid infinite loops.\n",
    "        This procedure takes care of mapping sampled symbols to pad after the EOS symbol is generated.\n",
    "        \"\"\"\n",
    "        batch_size = x.shape[0]\n",
    "        max_length = x.shape[1]\n",
    "\n",
    "        with torch.no_grad():\n",
    "            # add the beginning we do not know the tag sequence\n",
    "            # but NNs work with fixed dimensional tensors, \n",
    "            # so we allocate a tensor full of BOS codes\n",
    "            y = torch.full((batch_size, max_length + 1), self.bos, device=self.tag_embed.weight.device) \n",
    "\n",
    "            # Per step\n",
    "            for i in range(max_length):\n",
    "                # we parameterise a cpd for Y[i]|X=x\n",
    "                # note that the forward method takes care of not conditioning on y[i] itself\n",
    "                # and only using the ngram_size-1 previous tags\n",
    "                # at this point, the tag y[i] is a dummy code\n",
    "                # the forward method recomputes all cds in the batch, this will include the cpd for Y[i]\n",
    "                # we get their modes via argmax\n",
    "                # [batch_size, max_len, C]\n",
    "                cpds = self(x=x, y_in=y[:,:-1])\n",
    "                # [batch_size, max_len]\n",
    "                samples = cpds.sample()\n",
    "                \n",
    "                # Here we update the current token to the freshly obtained mode\n",
    "                #  and also replace the token by 0 (pad) in case the sentence is already complete\n",
    "                y[:, i+1] = samples[:,i]\n",
    "            # discard the BOS token\n",
    "            y = y[:,1:]\n",
    "            # where we had a PAD token in x, we change the y token to PAD too\n",
    "            y = torch.where(x != self.pad, y, torch.zeros_like(y) + self.pad)\n",
    "\n",
    "            return y\n",
    "\n",
    "    def sample(self, x, sample_size=None):\n",
    "        \"\"\"\n",
    "        Draws a number of samples from the model, each sample is a complete sequence.\n",
    "        We impose a maximum number of steps, to avoid infinite loops.\n",
    "        This procedure takes care of mapping sampled symbols to pad after the EOS symbol is generated.\n",
    "        \"\"\"\n",
    "        if sample_size is None:\n",
    "            return self._sample(x)\n",
    "        else:\n",
    "            samples = [self._sample(x) for _ in range(sample_size)]\n",
    "            return torch.stack(samples)"
   ]
  },
  {
   "cell_type": "code",
   "execution_count": 55,
   "metadata": {
    "id": "f6qSVMLkV-LW"
   },
   "outputs": [],
   "source": [
    "def test_autoreg_tagger(training_x, training_y, vocab_x, vocab_y):\n",
    "    seed_all()\n",
    "    toy_ar_tagger = AutoregressiveTagger(\n",
    "        vocab_size=len(vocab_x), \n",
    "        tagset_size=len(vocab_y), \n",
    "        word_embed_dim=32,\n",
    "        tag_embed_dim=16,\n",
    "        hidden_size=32\n",
    "    )    \n",
    "\n",
    "    assert type(toy_ar_tagger(\n",
    "        torch.from_numpy(vocab_x.batch_encode(training_x[:2])),\n",
    "        torch.from_numpy(vocab_y.batch_encode(training_y[:2])))\n",
    "    ) is td.Categorical\n",
    "\n",
    "    assert toy_ar_tagger.log_prob(\n",
    "            torch.from_numpy(vocab_x.batch_encode(training_x[:2])), \n",
    "            torch.from_numpy(vocab_y.batch_encode(training_y[:2]))\n",
    "        ).shape == (2,)\n",
    "\n",
    "    assert loss(toy_ar_tagger,\n",
    "            torch.from_numpy(vocab_x.batch_encode(training_x[:2])), \n",
    "            torch.from_numpy(vocab_y.batch_encode(training_y[:2]))\n",
    "        ).shape == tuple()\n",
    "\n",
    "    assert toy_ar_tagger.sample(torch.from_numpy(vocab_x.batch_encode(training_x[:2]))).shape == vocab_x.batch_encode(training_x[:2]).shape\n",
    "\n",
    "    assert toy_ar_tagger.sample(torch.from_numpy(vocab_x.batch_encode(training_x[:2])), 3).shape == (3,) + vocab_x.batch_encode(training_x[:2]).shape\n",
    "\n",
    "    assert toy_ar_tagger.greedy(torch.from_numpy(vocab_x.batch_encode(training_x[:2]))).shape == vocab_x.batch_encode(training_x[:2]).shape\n",
    "    \n",
    "\n",
    "test_autoreg_tagger(tagger_training_x, tagger_training_y, word_vocab, tag_vocab)"
   ]
  },
  {
   "cell_type": "markdown",
   "metadata": {
    "id": "8yUftHTPkhMH"
   },
   "source": [
    "Because labelling is a chain of classification decisions, we can also evaluate our tagger in terms of accuracy of its decisions. For that we need a decision rule. Normally, in NLP, we use the most probable tag sequence as a decision. That is, given a sentence $x_{1:l}$ we search in the space $\\{1, \\ldots, C\\}^l$ of all tag sequences of length $l$, for the one sequence that the model assigns highest probability to (i.e., the *mode* of the conditional distribution):\n",
    "\n",
    "\\begin{align}\n",
    "y^\\star &= \\arg\\max_{c_{1:l} \\in \\{1, \\ldots, C\\}^l}~ \\log P(G=c_{1:l}|S=x_{1:l})\n",
    "\\end{align}\n",
    "\n",
    "This search is defined over an extremely large space and is generally not tractable. For some types of tagger, because of their conditional independence assumptions, this search may be doable in polynomial time (as a function of sequence length), for others this is not at all possible. \n",
    "\n",
    "For the basic tagger, which treats the tags as independent given the sentence, this search can be done exactly, because greedily maximising each step independently is equivalently to maximising the joint assignment of the entire sequence for that model.\n",
    "\n",
    "**Search for the unigram tagger**\n",
    "\n",
    "We search for the best tag in each position, which takes time $\\mathcal O(C)$ per position, \n",
    "\\begin{align}\n",
    "y^\\star_i &= \\arg\\max_{c \\in \\{1, \\ldots, C\\}}~ \\log P(Y_i=c|S=x_{1:l})\n",
    "\\end{align}\n",
    "and put them together in a sequence. The total operation takes time $\\mathcal O(l \\times C)$.\n",
    "\n",
    "**Search for the autoregressive tagger**\n",
    "\n",
    "The autoregressive tagger makes no conditional independence assumptions, and the search problem is genuinely intractable for this model. Being intractable means there is not efficient algorithm known to be able to handle it. In fact, the current hypothesis is that an efficient (by efficient we mean that it runs in polynomial time as a function of $l$) is actually impossible in standard computer architectures. Problems of this kind are called NP-complete.\n",
    "\n",
    "For this tutorial, we will again use the greedy approximation:\n",
    "\\begin{align}\n",
    "\\hat y_i &= \\arg\\max_{c \\in \\{1, \\ldots, C\\}}~ \\log P(Y_i=c|S=x_{1:l}, H=\\hat y_{<i})\n",
    "\\end{align}\n",
    "where we solve the argmax locally per position in order from left-to-right. For each step $Y_i$ we condition on the already predicted argmax for all the preceding steps.\n",
    "\n",
    "\n",
    "---\n",
    "\n",
    "Once we have a search algorithm in place to make predictions we can compute accuracy and/or other metrics common for classification.\n"
   ]
  },
  {
   "cell_type": "code",
   "execution_count": 56,
   "metadata": {
    "id": "kx2UK09qWu04"
   },
   "outputs": [],
   "source": [
    "class GreedyMode(DecisionRule):\n",
    "\n",
    "    def __call__(self, model, x):\n",
    "        return model.greedy(x)    "
   ]
  },
  {
   "cell_type": "markdown",
   "metadata": {
    "id": "sko-agWU5Giv"
   },
   "source": [
    "On GPU, this should take just about 2 minutes:"
   ]
  },
  {
   "cell_type": "code",
   "execution_count": 57,
   "metadata": {
    "colab": {
     "base_uri": "https://localhost:8080/",
     "height": 537,
     "referenced_widgets": [
      "86a443f6f2094b919d0e3ad65c33e620",
      "16979a9ae8fe4f5a8b72de005bd430a3",
      "e95bf05893964b29b5b39bed57f9beb8",
      "58d460c295e9466ab846f5002507a6f5",
      "7f5562d176924d27adf7af3f3c962607",
      "84f2eb3c15d24a69971ee9e90228c38f",
      "207e4eda7ade4f2db9df20a827b270ad",
      "d6faa11802014830b197875257918adb",
      "53845fb5bcc94fc39255f0b5161876c7",
      "427361bf79ac4ab1980ccd29d450e604",
      "0459e8ee035c47a9ae4f30ed77b7eae4"
     ]
    },
    "id": "hBG_u0XMe_Xb",
    "outputId": "3a549abe-87a9-46ca-ecd6-a356bca54f3a"
   },
   "outputs": [
    {
     "name": "stdout",
     "output_type": "stream",
     "text": [
      "Model\n",
      "BasicTagger(\n",
      "  (encoder): TextEncoder(\n",
      "    (word_embed): Embedding(3358, 4)\n",
      "    (encoder): LSTM(4, 8, batch_first=True, bidirectional=True)\n",
      "  )\n",
      "  (logits_predictor): Sequential(\n",
      "    (0): Dropout(p=0, inplace=False)\n",
      "    (1): Linear(in_features=16, out_features=16, bias=True)\n",
      "  )\n",
      ")\n",
      "Model size: 14,600 parameters\n"
     ]
    },
    {
     "data": {
      "application/vnd.jupyter.widget-view+json": {
       "model_id": "3ca27f55f61445578246ac45c1ac9afa",
       "version_major": 2,
       "version_minor": 0
      },
      "text/plain": [
       "  0%|          | 0/2490 [00:00<?, ?it/s]"
      ]
     },
     "metadata": {},
     "output_type": "display_data"
    },
    {
     "data": {
      "image/png": "[encoded data removed]",
      "text/plain": [
       "<Figure size 864x288 with 3 Axes>"
      ]
     },
     "metadata": {
      "needs_background": "light"
     },
     "output_type": "display_data"
    }
   ],
   "source": [
    "seed_all() # reset random number generators before creating your model and training it\n",
    "\n",
    "my_device = torch.device('cuda:0')\n",
    "\n",
    "tagger = BasicTagger(\n",
    "    vocab_size=len(word_vocab), \n",
    "    tagset_size=len(tag_vocab), \n",
    "    word_embed_dim=4,\n",
    "    hidden_size=8,\n",
    ").to(my_device)\n",
    "\n",
    "\n",
    "# construct an Adam optimiser\n",
    "optimiser = opt.Adam(tagger.parameters(), lr=5e-3)\n",
    "\n",
    "print(\"Model\")\n",
    "print(tagger)\n",
    "\n",
    "# report number of parameters\n",
    "print(f\"Model size: {tagger.num_parameters():,} parameters\")\n",
    "\n",
    "# Train the model\n",
    "log = train_neural_model(\n",
    "    tagger, optimiser, \n",
    "    decision_rule=ExactMode(), \n",
    "    training_data=TaggedCorpus(tagger_training_x, tagger_training_y, word_vocab, tag_vocab), \n",
    "    dev_data=TaggedCorpus(tagger_dev_x, tagger_dev_y, word_vocab, tag_vocab), \n",
    "    report_fn=report_tagging, report_metrics=['accuracy'],\n",
    "    batch_size=10, num_epochs=10, check_every=100,\n",
    "    device=my_device\n",
    ")\n",
    "\n",
    "# Plot loss and validation checks\n",
    "fig, axs = plt.subplots(1, 3, figsize=(12, 4))\n",
    "_ = axs[0].plot(np.arange(len(log['loss'])), log['loss'])\n",
    "_ = axs[0].set_xlabel('steps')\n",
    "_ = axs[0].set_ylabel('training loss')\n",
    "_ = axs[1].plot(np.arange(len(log['D'])), log['D'])\n",
    "_ = axs[1].set_xlabel('steps (in 100s)')\n",
    "_ = axs[1].set_ylabel('D given dev')\n",
    "_ = axs[2].plot(np.arange(len(log['accuracy'])), log['accuracy'])\n",
    "_ = axs[2].set_xlabel('steps (in 10s)')\n",
    "_ = axs[2].set_ylabel('dev acc')\n",
    "_ = fig.tight_layout(h_pad=2, w_pad=2)\n",
    "plt.show()"
   ]
  },
  {
   "cell_type": "code",
   "execution_count": 58,
   "metadata": {
    "colab": {
     "base_uri": "https://localhost:8080/",
     "height": 797,
     "referenced_widgets": [
      "e4eab33aa8ce447d96f6ea840e496900",
      "50ed4edb9e8e463ea0fbc5fc4838f8bb",
      "1122936450c9426dad96d06758aa27d1",
      "51bddb1821dc4f87bfb3c0ec8915e0b0",
      "fb5871ea5d994703af85d71cd04df5d1",
      "47a9d27c793549e7a9f6cfe8315d8d21",
      "bf0d02ce7a5b43b8b0f45d8cff7ec981",
      "eee0d5ef5482493fb94c4448e3766429",
      "b8c1f5b28f154c2493476a8acf13a883",
      "d3268e24e96143a8aaae1e5e5bd9c50a",
      "86c0a8e93234405db7e39356cd653460"
     ]
    },
    "id": "c-Dk77yWR7MM",
    "outputId": "7d896d5d-333d-4c5a-e294-3c0691c103d9"
   },
   "outputs": [
    {
     "name": "stdout",
     "output_type": "stream",
     "text": [
      "Model\n",
      "AutoregressiveTagger(\n",
      "  (encoder): TextEncoder(\n",
      "    (word_embed): Embedding(3358, 4)\n",
      "    (encoder): LSTM(4, 8, batch_first=True, bidirectional=True)\n",
      "  )\n",
      "  (tag_embed): Embedding(16, 4)\n",
      "  (decoder): LSTM(4, 8, batch_first=True)\n",
      "  (logits_predictor): Sequential(\n",
      "    (0): Dropout(p=0.0, inplace=False)\n",
      "    (1): Linear(in_features=24, out_features=8, bias=True)\n",
      "    (2): ReLU()\n",
      "    (3): Dropout(p=0.0, inplace=False)\n",
      "    (4): Linear(in_features=8, out_features=16, bias=True)\n",
      "  )\n",
      "  (init_state): Sequential(\n",
      "    (0): Dropout(p=0.0, inplace=False)\n",
      "    (1): Linear(in_features=16, out_features=8, bias=True)\n",
      "    (2): Tanh()\n",
      "  )\n",
      "  (init_cell): Sequential(\n",
      "    (0): Dropout(p=0.0, inplace=False)\n",
      "    (1): Linear(in_features=16, out_features=8, bias=True)\n",
      "    (2): Tanh()\n",
      "  )\n",
      ")\n",
      "Model size: 15,456 parameters\n"
     ]
    },
    {
     "data": {
      "application/vnd.jupyter.widget-view+json": {
       "model_id": "170c457dc56a45e98f016dd0604d9039",
       "version_major": 2,
       "version_minor": 0
      },
      "text/plain": [
       "  0%|          | 0/2490 [00:00<?, ?it/s]"
      ]
     },
     "metadata": {},
     "output_type": "display_data"
    },
    {
     "data": {
      "image/png": "[encoded data removed]",
      "text/plain": [
       "<Figure size 864x288 with 3 Axes>"
      ]
     },
     "metadata": {
      "needs_background": "light"
     },
     "output_type": "display_data"
    }
   ],
   "source": [
    "seed_all() # reset random number generators before creating your model and training it\n",
    "\n",
    "my_device = torch.device('cuda:0')\n",
    "\n",
    "ar_tagger = AutoregressiveTagger(\n",
    "    vocab_size=len(word_vocab), \n",
    "    tagset_size=len(tag_vocab), \n",
    "    word_embed_dim=4,\n",
    "    tag_embed_dim=4,\n",
    "    hidden_size=8,\n",
    ").to(my_device)\n",
    "\n",
    "\n",
    "# construct an Adam optimiser\n",
    "optimiser = opt.Adam(ar_tagger.parameters(), lr=5e-3)\n",
    "\n",
    "print(\"Model\")\n",
    "print(ar_tagger)\n",
    "\n",
    "# report number of parameters\n",
    "print(f\"Model size: {ar_tagger.num_parameters():,} parameters\")\n",
    "\n",
    "# Train the model\n",
    "log = train_neural_model(\n",
    "    ar_tagger, optimiser, \n",
    "    decision_rule=GreedyMode(), \n",
    "    training_data=TaggedCorpus(tagger_training_x, tagger_training_y, word_vocab, tag_vocab), \n",
    "    dev_data=TaggedCorpus(tagger_dev_x, tagger_dev_y, word_vocab, tag_vocab), \n",
    "    report_fn=report_tagging, report_metrics=['accuracy'],\n",
    "    batch_size=10, num_epochs=10, check_every=100,\n",
    "    device=my_device\n",
    ")\n",
    "\n",
    "# Plot loss and validation checks\n",
    "fig, axs = plt.subplots(1, 3, figsize=(12, 4))\n",
    "_ = axs[0].plot(np.arange(len(log['loss'])), log['loss'])\n",
    "_ = axs[0].set_xlabel('steps')\n",
    "_ = axs[0].set_ylabel('training loss')\n",
    "_ = axs[1].plot(np.arange(len(log['D'])), log['D'])\n",
    "_ = axs[1].set_xlabel('steps (in 100s)')\n",
    "_ = axs[1].set_ylabel('D given dev')\n",
    "_ = axs[2].plot(np.arange(len(log['accuracy'])), log['accuracy'])\n",
    "_ = axs[2].set_xlabel('steps (in 10s)')\n",
    "_ = axs[2].set_ylabel('dev acc')\n",
    "_ = fig.tight_layout(h_pad=2, w_pad=2)\n",
    "plt.show()"
   ]
  },
  {
   "cell_type": "code",
   "execution_count": 59,
   "metadata": {
    "colab": {
     "base_uri": "https://localhost:8080/"
    },
    "id": "7tTzvbSxWR0y",
    "outputId": "db3a58c1-e717-4640-bafe-293580a136c6"
   },
   "outputs": [
    {
     "name": "stdout",
     "output_type": "stream",
     "text": [
      "Sample\n",
      "-UNK-/NOUN ,/. a/DET -UNK-/NOUN -UNK-/VERB the/DET -UNK-/NOUN of/ADP -UNK-/ADJ -UNK-/NOUN ,/. is/VERB marketed/VERB *-1/X as/ADP a/DET $/. -UNK-/NUM *u*/X -UNK-/VERB for/ADP -UNK-/ADJ -UNK-/NOUN ./. -EOS-/-EOS-\n",
      "\n",
      "Greedy\n",
      "-UNK-/NOUN ,/. a/DET -UNK-/NOUN -UNK-/VERB the/DET -UNK-/NOUN of/ADP -UNK-/ADJ -UNK-/NOUN ,/. is/VERB marketed/VERB *-1/X as/ADP a/DET $/. -UNK-/NUM *u*/X -UNK-/VERB for/ADP -UNK-/NOUN -UNK-/NOUN ./. -EOS-/-EOS-\n"
     ]
    }
   ],
   "source": [
    "tagger_dev_data = TaggedCorpus(tagger_dev_x, tagger_dev_y, word_vocab, tag_vocab)\n",
    "tagger_dev_dl = DataLoader(tagger_dev_data, batch_size=1, shuffle=False, collate_fn=tagger_dev_data.pad_to_longest)\n",
    "for batch_x, batch_y in tagger_dev_dl:\n",
    "    print(\"Sample\")\n",
    "    y_out = ar_tagger.sample(batch_x.to(my_device))    \n",
    "    \n",
    "    for x, y in zip(word_vocab.batch_decode(batch_x, strip_pad=True), tag_vocab.batch_decode(y_out, strip_pad=False)):\n",
    "        print(\" \".join(f\"{w}/{t}\" for w, t in zip(x, y)))\n",
    "        \n",
    "    print(\"\\nGreedy\")\n",
    "    \n",
    "    y_out = ar_tagger.greedy(batch_x.to(my_device))    \n",
    "    \n",
    "    for x, y in zip(word_vocab.batch_decode(batch_x, strip_pad=True), tag_vocab.batch_decode(y_out, strip_pad=False)):\n",
    "        print(\" \".join(f\"{w}/{t}\" for w, t in zip(x, y)))\n",
    "    \n",
    "    break"
   ]
  },
  {
   "cell_type": "markdown",
   "metadata": {
    "id": "l5hetMSYW86v"
   },
   "source": [
    "## 8. Exercise: design your own deep probabilistic model (optional, non-graded)\n",
    "\n",
    "Now it's time to design your own probabilistic model. The objective is to find a dataset and design a probabilistic model for it, parameterised by a neural network. Be conscious about the distributions you choose to model your data with, make sure they are appropriate for the data! Use maximum likelihood estimation for estimating neural network parameters. Also, be conscious about the decision rule you use. Can you obtain the mode exactly and is it appropriate under your model? Is there perhaps another criterion more sensible? Can you think of a way to use maximisation of expected utility for your model? As we have already provided many helper classes for learning features from text data, we encourage you to look into textual datasets, but note the data you are modelling can still be of any domain: ordinal, real numbers, discrete, structured, etc. Some good places to look for such data are:\n",
    "* NLTK: https://www.nltk.org/nltk_data/\n",
    "* HuggingFace: https://huggingface.co/datasets\n",
    "* Kaggle: https://www.kaggle.com/datasets\n",
    "\n",
    "\n",
    "Remarks on other types of data:\n",
    "\n",
    "* some structured data are fixed-dimensional (e.g., an image of size HxWxC), some models are built upon a chain rule factorisation just like the sequence labeller above, but their parameterisation might exploit the fact that the dimensionality is fixed (a good example is a [MADE](https://arxiv.org/abs/1502.03509), you can ask Wilker more about those);\n",
    "* some structured data are made of continuous parts (e.g., a time series in the finance domain, or in medical applications), in those cases your conditional factors are from a numerical family (e.g., Poisson, Normal, Gamma, etc), sometimes you need a distribution more powerful than the typical unimodal exponential family, in those cases you can use a mixture Model (we discuss those in the second module in the series) or a [normalising flow](https://arxiv.org/abs/1912.02762) (you can ask Wilker more about those, but note that Stratis will discuss NFs along with other advanced generative models)"
   ]
  },
  {
   "cell_type": "code",
   "execution_count": null,
   "metadata": {
    "id": "Io4nkhgkzmMZ"
   },
   "outputs": [],
   "source": []
  }
 ],
 "metadata": {
  "accelerator": "GPU",
  "colab": {
   "collapsed_sections": [],
   "include_colab_link": true,
   "name": "DL2-ProbDL1",
   "provenance": [],
   "toc_visible": true
  },
  "kernelspec": {
   "display_name": "Python 3",
   "language": "python",
   "name": "python3"
  },
  "language_info": {
   "codemirror_mode": {
    "name": "ipython",
    "version": 3
   },
   "file_extension": ".py",
   "mimetype": "text/x-python",
   "name": "python",
   "nbconvert_exporter": "python",
   "pygments_lexer": "ipython3",
   "version": "3.7.4"
  },
  "widgets": {
   "application/vnd.jupyter.widget-state+json": {
    "0409946d94e0482d8243d968e28dfe47": {
     "model_module": "@jupyter-widgets/base",
     "model_module_version": "1.2.0",
     "model_name": "LayoutModel",
     "state": {
      "_model_module": "@jupyter-widgets/base",
      "_model_module_version": "1.2.0",
      "_model_name": "LayoutModel",
      "_view_count": null,
      "_view_module": "@jupyter-widgets/base",
      "_view_module_version": "1.2.0",
      "_view_name": "LayoutView",
      "align_content": null,
      "align_items": null,
      "align_self": null,
      "border": null,
      "bottom": null,
      "display": null,
      "flex": null,
      "flex_flow": null,
      "grid_area": null,
      "grid_auto_columns": null,
      "grid_auto_flow": null,
      "grid_auto_rows": null,
      "grid_column": null,
      "grid_gap": null,
      "grid_row": null,
      "grid_template_areas": null,
      "grid_template_columns": null,
      "grid_template_rows": null,
      "height": null,
      "justify_content": null,
      "justify_items": null,
      "left": null,
      "margin": null,
      "max_height": null,
      "max_width": null,
      "min_height": null,
      "min_width": null,
      "object_fit": null,
      "object_position": null,
      "order": null,
      "overflow": null,
      "overflow_x": null,
      "overflow_y": null,
      "padding": null,
      "right": null,
      "top": null,
      "visibility": null,
      "width": null
     }
    },
    "0459e8ee035c47a9ae4f30ed77b7eae4": {
     "model_module": "@jupyter-widgets/controls",
     "model_module_version": "1.5.0",
     "model_name": "DescriptionStyleModel",
     "state": {
      "_model_module": "@jupyter-widgets/controls",
      "_model_module_version": "1.5.0",
      "_model_name": "DescriptionStyleModel",
      "_view_count": null,
      "_view_module": "@jupyter-widgets/base",
      "_view_module_version": "1.2.0",
      "_view_name": "StyleView",
      "description_width": ""
     }
    },
    "1122936450c9426dad96d06758aa27d1": {
     "model_module": "@jupyter-widgets/controls",
     "model_module_version": "1.5.0",
     "model_name": "FloatProgressModel",
     "state": {
      "_dom_classes": [],
      "_model_module": "@jupyter-widgets/controls",
      "_model_module_version": "1.5.0",
      "_model_name": "FloatProgressModel",
      "_view_count": null,
      "_view_module": "@jupyter-widgets/controls",
      "_view_module_version": "1.5.0",
      "_view_name": "ProgressView",
      "bar_style": "success",
      "description": "",
      "description_tooltip": null,
      "layout": "IPY_MODEL_eee0d5ef5482493fb94c4448e3766429",
      "max": 2490,
      "min": 0,
      "orientation": "horizontal",
      "style": "IPY_MODEL_b8c1f5b28f154c2493476a8acf13a883",
      "value": 2490
     }
    },
    "16979a9ae8fe4f5a8b72de005bd430a3": {
     "model_module": "@jupyter-widgets/controls",
     "model_module_version": "1.5.0",
     "model_name": "HTMLModel",
     "state": {
      "_dom_classes": [],
      "_model_module": "@jupyter-widgets/controls",
      "_model_module_version": "1.5.0",
      "_model_name": "HTMLModel",
      "_view_count": null,
      "_view_module": "@jupyter-widgets/controls",
      "_view_module_version": "1.5.0",
      "_view_name": "HTMLView",
      "description": "",
      "description_tooltip": null,
      "layout": "IPY_MODEL_84f2eb3c15d24a69971ee9e90228c38f",
      "placeholder": "​",
      "style": "IPY_MODEL_207e4eda7ade4f2db9df20a827b270ad",
      "value": "100%"
     }
    },
    "207e4eda7ade4f2db9df20a827b270ad": {
     "model_module": "@jupyter-widgets/controls",
     "model_module_version": "1.5.0",
     "model_name": "DescriptionStyleModel",
     "state": {
      "_model_module": "@jupyter-widgets/controls",
      "_model_module_version": "1.5.0",
      "_model_name": "DescriptionStyleModel",
      "_view_count": null,
      "_view_module": "@jupyter-widgets/base",
      "_view_module_version": "1.2.0",
      "_view_name": "StyleView",
      "description_width": ""
     }
    },
    "23568fdc5e234cd1b6ec7d7a9cc63f39": {
     "model_module": "@jupyter-widgets/controls",
     "model_module_version": "1.5.0",
     "model_name": "HTMLModel",
     "state": {
      "_dom_classes": [],
      "_model_module": "@jupyter-widgets/controls",
      "_model_module_version": "1.5.0",
      "_model_name": "HTMLModel",
      "_view_count": null,
      "_view_module": "@jupyter-widgets/controls",
      "_view_module_version": "1.5.0",
      "_view_name": "HTMLView",
      "description": "",
      "description_tooltip": null,
      "layout": "IPY_MODEL_4851518491e34a45a1999f156a8319b5",
      "placeholder": "​",
      "style": "IPY_MODEL_5d6e6a2e29084d14ae1cb46b5ec52adc",
      "value": "100%"
     }
    },
    "249eb32ff5fb4498ba83dbd697aba32d": {
     "model_module": "@jupyter-widgets/base",
     "model_module_version": "1.2.0",
     "model_name": "LayoutModel",
     "state": {
      "_model_module": "@jupyter-widgets/base",
      "_model_module_version": "1.2.0",
      "_model_name": "LayoutModel",
      "_view_count": null,
      "_view_module": "@jupyter-widgets/base",
      "_view_module_version": "1.2.0",
      "_view_name": "LayoutView",
      "align_content": null,
      "align_items": null,
      "align_self": null,
      "border": null,
      "bottom": null,
      "display": null,
      "flex": null,
      "flex_flow": null,
      "grid_area": null,
      "grid_auto_columns": null,
      "grid_auto_flow": null,
      "grid_auto_rows": null,
      "grid_column": null,
      "grid_gap": null,
      "grid_row": null,
      "grid_template_areas": null,
      "grid_template_columns": null,
      "grid_template_rows": null,
      "height": null,
      "justify_content": null,
      "justify_items": null,
      "left": null,
      "margin": null,
      "max_height": null,
      "max_width": null,
      "min_height": null,
      "min_width": null,
      "object_fit": null,
      "object_position": null,
      "order": null,
      "overflow": null,
      "overflow_x": null,
      "overflow_y": null,
      "padding": null,
      "right": null,
      "top": null,
      "visibility": null,
      "width": null
     }
    },
    "32b7065e4c244c22b7cd5b69e2305777": {
     "model_module": "@jupyter-widgets/base",
     "model_module_version": "1.2.0",
     "model_name": "LayoutModel",
     "state": {
      "_model_module": "@jupyter-widgets/base",
      "_model_module_version": "1.2.0",
      "_model_name": "LayoutModel",
      "_view_count": null,
      "_view_module": "@jupyter-widgets/base",
      "_view_module_version": "1.2.0",
      "_view_name": "LayoutView",
      "align_content": null,
      "align_items": null,
      "align_self": null,
      "border": null,
      "bottom": null,
      "display": null,
      "flex": null,
      "flex_flow": null,
      "grid_area": null,
      "grid_auto_columns": null,
      "grid_auto_flow": null,
      "grid_auto_rows": null,
      "grid_column": null,
      "grid_gap": null,
      "grid_row": null,
      "grid_template_areas": null,
      "grid_template_columns": null,
      "grid_template_rows": null,
      "height": null,
      "justify_content": null,
      "justify_items": null,
      "left": null,
      "margin": null,
      "max_height": null,
      "max_width": null,
      "min_height": null,
      "min_width": null,
      "object_fit": null,
      "object_position": null,
      "order": null,
      "overflow": null,
      "overflow_x": null,
      "overflow_y": null,
      "padding": null,
      "right": null,
      "top": null,
      "visibility": null,
      "width": null
     }
    },
    "427361bf79ac4ab1980ccd29d450e604": {
     "model_module": "@jupyter-widgets/base",
     "model_module_version": "1.2.0",
     "model_name": "LayoutModel",
     "state": {
      "_model_module": "@jupyter-widgets/base",
      "_model_module_version": "1.2.0",
      "_model_name": "LayoutModel",
      "_view_count": null,
      "_view_module": "@jupyter-widgets/base",
      "_view_module_version": "1.2.0",
      "_view_name": "LayoutView",
      "align_content": null,
      "align_items": null,
      "align_self": null,
      "border": null,
      "bottom": null,
      "display": null,
      "flex": null,
      "flex_flow": null,
      "grid_area": null,
      "grid_auto_columns": null,
      "grid_auto_flow": null,
      "grid_auto_rows": null,
      "grid_column": null,
      "grid_gap": null,
      "grid_row": null,
      "grid_template_areas": null,
      "grid_template_columns": null,
      "grid_template_rows": null,
      "height": null,
      "justify_content": null,
      "justify_items": null,
      "left": null,
      "margin": null,
      "max_height": null,
      "max_width": null,
      "min_height": null,
      "min_width": null,
      "object_fit": null,
      "object_position": null,
      "order": null,
      "overflow": null,
      "overflow_x": null,
      "overflow_y": null,
      "padding": null,
      "right": null,
      "top": null,
      "visibility": null,
      "width": null
     }
    },
    "4312d5ff4e2a49ebbb9e1d2fd86226ea": {
     "model_module": "@jupyter-widgets/controls",
     "model_module_version": "1.5.0",
     "model_name": "ProgressStyleModel",
     "state": {
      "_model_module": "@jupyter-widgets/controls",
      "_model_module_version": "1.5.0",
      "_model_name": "ProgressStyleModel",
      "_view_count": null,
      "_view_module": "@jupyter-widgets/base",
      "_view_module_version": "1.2.0",
      "_view_name": "StyleView",
      "bar_color": null,
      "description_width": ""
     }
    },
    "47a9d27c793549e7a9f6cfe8315d8d21": {
     "model_module": "@jupyter-widgets/base",
     "model_module_version": "1.2.0",
     "model_name": "LayoutModel",
     "state": {
      "_model_module": "@jupyter-widgets/base",
      "_model_module_version": "1.2.0",
      "_model_name": "LayoutModel",
      "_view_count": null,
      "_view_module": "@jupyter-widgets/base",
      "_view_module_version": "1.2.0",
      "_view_name": "LayoutView",
      "align_content": null,
      "align_items": null,
      "align_self": null,
      "border": null,
      "bottom": null,
      "display": null,
      "flex": null,
      "flex_flow": null,
      "grid_area": null,
      "grid_auto_columns": null,
      "grid_auto_flow": null,
      "grid_auto_rows": null,
      "grid_column": null,
      "grid_gap": null,
      "grid_row": null,
      "grid_template_areas": null,
      "grid_template_columns": null,
      "grid_template_rows": null,
      "height": null,
      "justify_content": null,
      "justify_items": null,
      "left": null,
      "margin": null,
      "max_height": null,
      "max_width": null,
      "min_height": null,
      "min_width": null,
      "object_fit": null,
      "object_position": null,
      "order": null,
      "overflow": null,
      "overflow_x": null,
      "overflow_y": null,
      "padding": null,
      "right": null,
      "top": null,
      "visibility": null,
      "width": null
     }
    },
    "4851518491e34a45a1999f156a8319b5": {
     "model_module": "@jupyter-widgets/base",
     "model_module_version": "1.2.0",
     "model_name": "LayoutModel",
     "state": {
      "_model_module": "@jupyter-widgets/base",
      "_model_module_version": "1.2.0",
      "_model_name": "LayoutModel",
      "_view_count": null,
      "_view_module": "@jupyter-widgets/base",
      "_view_module_version": "1.2.0",
      "_view_name": "LayoutView",
      "align_content": null,
      "align_items": null,
      "align_self": null,
      "border": null,
      "bottom": null,
      "display": null,
      "flex": null,
      "flex_flow": null,
      "grid_area": null,
      "grid_auto_columns": null,
      "grid_auto_flow": null,
      "grid_auto_rows": null,
      "grid_column": null,
      "grid_gap": null,
      "grid_row": null,
      "grid_template_areas": null,
      "grid_template_columns": null,
      "grid_template_rows": null,
      "height": null,
      "justify_content": null,
      "justify_items": null,
      "left": null,
      "margin": null,
      "max_height": null,
      "max_width": null,
      "min_height": null,
      "min_width": null,
      "object_fit": null,
      "object_position": null,
      "order": null,
      "overflow": null,
      "overflow_x": null,
      "overflow_y": null,
      "padding": null,
      "right": null,
      "top": null,
      "visibility": null,
      "width": null
     }
    },
    "49bccad39d1b4f1690181bcd2b1307f7": {
     "model_module": "@jupyter-widgets/controls",
     "model_module_version": "1.5.0",
     "model_name": "ProgressStyleModel",
     "state": {
      "_model_module": "@jupyter-widgets/controls",
      "_model_module_version": "1.5.0",
      "_model_name": "ProgressStyleModel",
      "_view_count": null,
      "_view_module": "@jupyter-widgets/base",
      "_view_module_version": "1.2.0",
      "_view_name": "StyleView",
      "bar_color": null,
      "description_width": ""
     }
    },
    "50b9f55188de444f83ba5b8a03c0a6bb": {
     "model_module": "@jupyter-widgets/controls",
     "model_module_version": "1.5.0",
     "model_name": "HBoxModel",
     "state": {
      "_dom_classes": [],
      "_model_module": "@jupyter-widgets/controls",
      "_model_module_version": "1.5.0",
      "_model_name": "HBoxModel",
      "_view_count": null,
      "_view_module": "@jupyter-widgets/controls",
      "_view_module_version": "1.5.0",
      "_view_name": "HBoxView",
      "box_style": "",
      "children": [
       "IPY_MODEL_23568fdc5e234cd1b6ec7d7a9cc63f39",
       "IPY_MODEL_ef0d354416714ad08e5ecb2a996b59fe",
       "IPY_MODEL_cc4e5930621440459849e2ed1b116ca7"
      ],
      "layout": "IPY_MODEL_8fe3ac02462b4221b8d658bc6ec6c839"
     }
    },
    "50ed4edb9e8e463ea0fbc5fc4838f8bb": {
     "model_module": "@jupyter-widgets/controls",
     "model_module_version": "1.5.0",
     "model_name": "HTMLModel",
     "state": {
      "_dom_classes": [],
      "_model_module": "@jupyter-widgets/controls",
      "_model_module_version": "1.5.0",
      "_model_name": "HTMLModel",
      "_view_count": null,
      "_view_module": "@jupyter-widgets/controls",
      "_view_module_version": "1.5.0",
      "_view_name": "HTMLView",
      "description": "",
      "description_tooltip": null,
      "layout": "IPY_MODEL_47a9d27c793549e7a9f6cfe8315d8d21",
      "placeholder": "​",
      "style": "IPY_MODEL_bf0d02ce7a5b43b8b0f45d8cff7ec981",
      "value": "100%"
     }
    },
    "51bddb1821dc4f87bfb3c0ec8915e0b0": {
     "model_module": "@jupyter-widgets/controls",
     "model_module_version": "1.5.0",
     "model_name": "HTMLModel",
     "state": {
      "_dom_classes": [],
      "_model_module": "@jupyter-widgets/controls",
      "_model_module_version": "1.5.0",
      "_model_name": "HTMLModel",
      "_view_count": null,
      "_view_module": "@jupyter-widgets/controls",
      "_view_module_version": "1.5.0",
      "_view_name": "HTMLView",
      "description": "",
      "description_tooltip": null,
      "layout": "IPY_MODEL_d3268e24e96143a8aaae1e5e5bd9c50a",
      "placeholder": "​",
      "style": "IPY_MODEL_86c0a8e93234405db7e39356cd653460",
      "value": " 2490/2490 [01:17&lt;00:00, 56.50it/s, loss=2.02, D=4.69, accuracy=0.91]"
     }
    },
    "53845fb5bcc94fc39255f0b5161876c7": {
     "model_module": "@jupyter-widgets/controls",
     "model_module_version": "1.5.0",
     "model_name": "ProgressStyleModel",
     "state": {
      "_model_module": "@jupyter-widgets/controls",
      "_model_module_version": "1.5.0",
      "_model_name": "ProgressStyleModel",
      "_view_count": null,
      "_view_module": "@jupyter-widgets/base",
      "_view_module_version": "1.2.0",
      "_view_name": "StyleView",
      "bar_color": null,
      "description_width": ""
     }
    },
    "58d460c295e9466ab846f5002507a6f5": {
     "model_module": "@jupyter-widgets/controls",
     "model_module_version": "1.5.0",
     "model_name": "HTMLModel",
     "state": {
      "_dom_classes": [],
      "_model_module": "@jupyter-widgets/controls",
      "_model_module_version": "1.5.0",
      "_model_name": "HTMLModel",
      "_view_count": null,
      "_view_module": "@jupyter-widgets/controls",
      "_view_module_version": "1.5.0",
      "_view_name": "HTMLView",
      "description": "",
      "description_tooltip": null,
      "layout": "IPY_MODEL_427361bf79ac4ab1980ccd29d450e604",
      "placeholder": "​",
      "style": "IPY_MODEL_0459e8ee035c47a9ae4f30ed77b7eae4",
      "value": " 2490/2490 [00:32&lt;00:00, 60.35it/s, loss=2.68, D=4.83, accuracy=0.93]"
     }
    },
    "5d6e6a2e29084d14ae1cb46b5ec52adc": {
     "model_module": "@jupyter-widgets/controls",
     "model_module_version": "1.5.0",
     "model_name": "DescriptionStyleModel",
     "state": {
      "_model_module": "@jupyter-widgets/controls",
      "_model_module_version": "1.5.0",
      "_model_name": "DescriptionStyleModel",
      "_view_count": null,
      "_view_module": "@jupyter-widgets/base",
      "_view_module_version": "1.2.0",
      "_view_name": "StyleView",
      "description_width": ""
     }
    },
    "66d4bf21b3d440a0a0e90a3a49da21fe": {
     "model_module": "@jupyter-widgets/controls",
     "model_module_version": "1.5.0",
     "model_name": "HTMLModel",
     "state": {
      "_dom_classes": [],
      "_model_module": "@jupyter-widgets/controls",
      "_model_module_version": "1.5.0",
      "_model_name": "HTMLModel",
      "_view_count": null,
      "_view_module": "@jupyter-widgets/controls",
      "_view_module_version": "1.5.0",
      "_view_name": "HTMLView",
      "description": "",
      "description_tooltip": null,
      "layout": "IPY_MODEL_249eb32ff5fb4498ba83dbd697aba32d",
      "placeholder": "​",
      "style": "IPY_MODEL_bce4caf6bb52457b88327fc6b44c2365",
      "value": "100%"
     }
    },
    "68072d9827564899ac9b09aed4590109": {
     "model_module": "@jupyter-widgets/controls",
     "model_module_version": "1.5.0",
     "model_name": "FloatProgressModel",
     "state": {
      "_dom_classes": [],
      "_model_module": "@jupyter-widgets/controls",
      "_model_module_version": "1.5.0",
      "_model_name": "FloatProgressModel",
      "_view_count": null,
      "_view_module": "@jupyter-widgets/controls",
      "_view_module_version": "1.5.0",
      "_view_name": "ProgressView",
      "bar_style": "success",
      "description": "",
      "description_tooltip": null,
      "layout": "IPY_MODEL_914e7b562c7141209f6ec82f362455e4",
      "max": 1800,
      "min": 0,
      "orientation": "horizontal",
      "style": "IPY_MODEL_49bccad39d1b4f1690181bcd2b1307f7",
      "value": 1800
     }
    },
    "77a16065b5b5415bba0b32371fdfe1c9": {
     "model_module": "@jupyter-widgets/controls",
     "model_module_version": "1.5.0",
     "model_name": "HBoxModel",
     "state": {
      "_dom_classes": [],
      "_model_module": "@jupyter-widgets/controls",
      "_model_module_version": "1.5.0",
      "_model_name": "HBoxModel",
      "_view_count": null,
      "_view_module": "@jupyter-widgets/controls",
      "_view_module_version": "1.5.0",
      "_view_name": "HBoxView",
      "box_style": "",
      "children": [
       "IPY_MODEL_66d4bf21b3d440a0a0e90a3a49da21fe",
       "IPY_MODEL_68072d9827564899ac9b09aed4590109",
       "IPY_MODEL_8f894b9e6e8f466e821e12ef3a659332"
      ],
      "layout": "IPY_MODEL_0409946d94e0482d8243d968e28dfe47"
     }
    },
    "7f5562d176924d27adf7af3f3c962607": {
     "model_module": "@jupyter-widgets/base",
     "model_module_version": "1.2.0",
     "model_name": "LayoutModel",
     "state": {
      "_model_module": "@jupyter-widgets/base",
      "_model_module_version": "1.2.0",
      "_model_name": "LayoutModel",
      "_view_count": null,
      "_view_module": "@jupyter-widgets/base",
      "_view_module_version": "1.2.0",
      "_view_name": "LayoutView",
      "align_content": null,
      "align_items": null,
      "align_self": null,
      "border": null,
      "bottom": null,
      "display": null,
      "flex": null,
      "flex_flow": null,
      "grid_area": null,
      "grid_auto_columns": null,
      "grid_auto_flow": null,
      "grid_auto_rows": null,
      "grid_column": null,
      "grid_gap": null,
      "grid_row": null,
      "grid_template_areas": null,
      "grid_template_columns": null,
      "grid_template_rows": null,
      "height": null,
      "justify_content": null,
      "justify_items": null,
      "left": null,
      "margin": null,
      "max_height": null,
      "max_width": null,
      "min_height": null,
      "min_width": null,
      "object_fit": null,
      "object_position": null,
      "order": null,
      "overflow": null,
      "overflow_x": null,
      "overflow_y": null,
      "padding": null,
      "right": null,
      "top": null,
      "visibility": null,
      "width": null
     }
    },
    "84f2eb3c15d24a69971ee9e90228c38f": {
     "model_module": "@jupyter-widgets/base",
     "model_module_version": "1.2.0",
     "model_name": "LayoutModel",
     "state": {
      "_model_module": "@jupyter-widgets/base",
      "_model_module_version": "1.2.0",
      "_model_name": "LayoutModel",
      "_view_count": null,
      "_view_module": "@jupyter-widgets/base",
      "_view_module_version": "1.2.0",
      "_view_name": "LayoutView",
      "align_content": null,
      "align_items": null,
      "align_self": null,
      "border": null,
      "bottom": null,
      "display": null,
      "flex": null,
      "flex_flow": null,
      "grid_area": null,
      "grid_auto_columns": null,
      "grid_auto_flow": null,
      "grid_auto_rows": null,
      "grid_column": null,
      "grid_gap": null,
      "grid_row": null,
      "grid_template_areas": null,
      "grid_template_columns": null,
      "grid_template_rows": null,
      "height": null,
      "justify_content": null,
      "justify_items": null,
      "left": null,
      "margin": null,
      "max_height": null,
      "max_width": null,
      "min_height": null,
      "min_width": null,
      "object_fit": null,
      "object_position": null,
      "order": null,
      "overflow": null,
      "overflow_x": null,
      "overflow_y": null,
      "padding": null,
      "right": null,
      "top": null,
      "visibility": null,
      "width": null
     }
    },
    "86a443f6f2094b919d0e3ad65c33e620": {
     "model_module": "@jupyter-widgets/controls",
     "model_module_version": "1.5.0",
     "model_name": "HBoxModel",
     "state": {
      "_dom_classes": [],
      "_model_module": "@jupyter-widgets/controls",
      "_model_module_version": "1.5.0",
      "_model_name": "HBoxModel",
      "_view_count": null,
      "_view_module": "@jupyter-widgets/controls",
      "_view_module_version": "1.5.0",
      "_view_name": "HBoxView",
      "box_style": "",
      "children": [
       "IPY_MODEL_16979a9ae8fe4f5a8b72de005bd430a3",
       "IPY_MODEL_e95bf05893964b29b5b39bed57f9beb8",
       "IPY_MODEL_58d460c295e9466ab846f5002507a6f5"
      ],
      "layout": "IPY_MODEL_7f5562d176924d27adf7af3f3c962607"
     }
    },
    "86c0a8e93234405db7e39356cd653460": {
     "model_module": "@jupyter-widgets/controls",
     "model_module_version": "1.5.0",
     "model_name": "DescriptionStyleModel",
     "state": {
      "_model_module": "@jupyter-widgets/controls",
      "_model_module_version": "1.5.0",
      "_model_name": "DescriptionStyleModel",
      "_view_count": null,
      "_view_module": "@jupyter-widgets/base",
      "_view_module_version": "1.2.0",
      "_view_name": "StyleView",
      "description_width": ""
     }
    },
    "8f894b9e6e8f466e821e12ef3a659332": {
     "model_module": "@jupyter-widgets/controls",
     "model_module_version": "1.5.0",
     "model_name": "HTMLModel",
     "state": {
      "_dom_classes": [],
      "_model_module": "@jupyter-widgets/controls",
      "_model_module_version": "1.5.0",
      "_model_name": "HTMLModel",
      "_view_count": null,
      "_view_module": "@jupyter-widgets/controls",
      "_view_module_version": "1.5.0",
      "_view_name": "HTMLView",
      "description": "",
      "description_tooltip": null,
      "layout": "IPY_MODEL_32b7065e4c244c22b7cd5b69e2305777",
      "placeholder": "​",
      "style": "IPY_MODEL_a1321906674f4f408dd6a58713dd7e9b",
      "value": " 1800/1800 [01:04&lt;00:00, 28.50it/s, loss=0.21, D=5.04, accuracy=0.41]"
     }
    },
    "8fe3ac02462b4221b8d658bc6ec6c839": {
     "model_module": "@jupyter-widgets/base",
     "model_module_version": "1.2.0",
     "model_name": "LayoutModel",
     "state": {
      "_model_module": "@jupyter-widgets/base",
      "_model_module_version": "1.2.0",
      "_model_name": "LayoutModel",
      "_view_count": null,
      "_view_module": "@jupyter-widgets/base",
      "_view_module_version": "1.2.0",
      "_view_name": "LayoutView",
      "align_content": null,
      "align_items": null,
      "align_self": null,
      "border": null,
      "bottom": null,
      "display": null,
      "flex": null,
      "flex_flow": null,
      "grid_area": null,
      "grid_auto_columns": null,
      "grid_auto_flow": null,
      "grid_auto_rows": null,
      "grid_column": null,
      "grid_gap": null,
      "grid_row": null,
      "grid_template_areas": null,
      "grid_template_columns": null,
      "grid_template_rows": null,
      "height": null,
      "justify_content": null,
      "justify_items": null,
      "left": null,
      "margin": null,
      "max_height": null,
      "max_width": null,
      "min_height": null,
      "min_width": null,
      "object_fit": null,
      "object_position": null,
      "order": null,
      "overflow": null,
      "overflow_x": null,
      "overflow_y": null,
      "padding": null,
      "right": null,
      "top": null,
      "visibility": null,
      "width": null
     }
    },
    "914e7b562c7141209f6ec82f362455e4": {
     "model_module": "@jupyter-widgets/base",
     "model_module_version": "1.2.0",
     "model_name": "LayoutModel",
     "state": {
      "_model_module": "@jupyter-widgets/base",
      "_model_module_version": "1.2.0",
      "_model_name": "LayoutModel",
      "_view_count": null,
      "_view_module": "@jupyter-widgets/base",
      "_view_module_version": "1.2.0",
      "_view_name": "LayoutView",
      "align_content": null,
      "align_items": null,
      "align_self": null,
      "border": null,
      "bottom": null,
      "display": null,
      "flex": null,
      "flex_flow": null,
      "grid_area": null,
      "grid_auto_columns": null,
      "grid_auto_flow": null,
      "grid_auto_rows": null,
      "grid_column": null,
      "grid_gap": null,
      "grid_row": null,
      "grid_template_areas": null,
      "grid_template_columns": null,
      "grid_template_rows": null,
      "height": null,
      "justify_content": null,
      "justify_items": null,
      "left": null,
      "margin": null,
      "max_height": null,
      "max_width": null,
      "min_height": null,
      "min_width": null,
      "object_fit": null,
      "object_position": null,
      "order": null,
      "overflow": null,
      "overflow_x": null,
      "overflow_y": null,
      "padding": null,
      "right": null,
      "top": null,
      "visibility": null,
      "width": null
     }
    },
    "928908907613408294a95d8496d30d91": {
     "model_module": "@jupyter-widgets/base",
     "model_module_version": "1.2.0",
     "model_name": "LayoutModel",
     "state": {
      "_model_module": "@jupyter-widgets/base",
      "_model_module_version": "1.2.0",
      "_model_name": "LayoutModel",
      "_view_count": null,
      "_view_module": "@jupyter-widgets/base",
      "_view_module_version": "1.2.0",
      "_view_name": "LayoutView",
      "align_content": null,
      "align_items": null,
      "align_self": null,
      "border": null,
      "bottom": null,
      "display": null,
      "flex": null,
      "flex_flow": null,
      "grid_area": null,
      "grid_auto_columns": null,
      "grid_auto_flow": null,
      "grid_auto_rows": null,
      "grid_column": null,
      "grid_gap": null,
      "grid_row": null,
      "grid_template_areas": null,
      "grid_template_columns": null,
      "grid_template_rows": null,
      "height": null,
      "justify_content": null,
      "justify_items": null,
      "left": null,
      "margin": null,
      "max_height": null,
      "max_width": null,
      "min_height": null,
      "min_width": null,
      "object_fit": null,
      "object_position": null,
      "order": null,
      "overflow": null,
      "overflow_x": null,
      "overflow_y": null,
      "padding": null,
      "right": null,
      "top": null,
      "visibility": null,
      "width": null
     }
    },
    "a1321906674f4f408dd6a58713dd7e9b": {
     "model_module": "@jupyter-widgets/controls",
     "model_module_version": "1.5.0",
     "model_name": "DescriptionStyleModel",
     "state": {
      "_model_module": "@jupyter-widgets/controls",
      "_model_module_version": "1.5.0",
      "_model_name": "DescriptionStyleModel",
      "_view_count": null,
      "_view_module": "@jupyter-widgets/base",
      "_view_module_version": "1.2.0",
      "_view_name": "StyleView",
      "description_width": ""
     }
    },
    "a2bf7fb8b7e64342b66f488a6af0cb65": {
     "model_module": "@jupyter-widgets/base",
     "model_module_version": "1.2.0",
     "model_name": "LayoutModel",
     "state": {
      "_model_module": "@jupyter-widgets/base",
      "_model_module_version": "1.2.0",
      "_model_name": "LayoutModel",
      "_view_count": null,
      "_view_module": "@jupyter-widgets/base",
      "_view_module_version": "1.2.0",
      "_view_name": "LayoutView",
      "align_content": null,
      "align_items": null,
      "align_self": null,
      "border": null,
      "bottom": null,
      "display": null,
      "flex": null,
      "flex_flow": null,
      "grid_area": null,
      "grid_auto_columns": null,
      "grid_auto_flow": null,
      "grid_auto_rows": null,
      "grid_column": null,
      "grid_gap": null,
      "grid_row": null,
      "grid_template_areas": null,
      "grid_template_columns": null,
      "grid_template_rows": null,
      "height": null,
      "justify_content": null,
      "justify_items": null,
      "left": null,
      "margin": null,
      "max_height": null,
      "max_width": null,
      "min_height": null,
      "min_width": null,
      "object_fit": null,
      "object_position": null,
      "order": null,
      "overflow": null,
      "overflow_x": null,
      "overflow_y": null,
      "padding": null,
      "right": null,
      "top": null,
      "visibility": null,
      "width": null
     }
    },
    "b8c1f5b28f154c2493476a8acf13a883": {
     "model_module": "@jupyter-widgets/controls",
     "model_module_version": "1.5.0",
     "model_name": "ProgressStyleModel",
     "state": {
      "_model_module": "@jupyter-widgets/controls",
      "_model_module_version": "1.5.0",
      "_model_name": "ProgressStyleModel",
      "_view_count": null,
      "_view_module": "@jupyter-widgets/base",
      "_view_module_version": "1.2.0",
      "_view_name": "StyleView",
      "bar_color": null,
      "description_width": ""
     }
    },
    "bce4caf6bb52457b88327fc6b44c2365": {
     "model_module": "@jupyter-widgets/controls",
     "model_module_version": "1.5.0",
     "model_name": "DescriptionStyleModel",
     "state": {
      "_model_module": "@jupyter-widgets/controls",
      "_model_module_version": "1.5.0",
      "_model_name": "DescriptionStyleModel",
      "_view_count": null,
      "_view_module": "@jupyter-widgets/base",
      "_view_module_version": "1.2.0",
      "_view_name": "StyleView",
      "description_width": ""
     }
    },
    "bf0d02ce7a5b43b8b0f45d8cff7ec981": {
     "model_module": "@jupyter-widgets/controls",
     "model_module_version": "1.5.0",
     "model_name": "DescriptionStyleModel",
     "state": {
      "_model_module": "@jupyter-widgets/controls",
      "_model_module_version": "1.5.0",
      "_model_name": "DescriptionStyleModel",
      "_view_count": null,
      "_view_module": "@jupyter-widgets/base",
      "_view_module_version": "1.2.0",
      "_view_name": "StyleView",
      "description_width": ""
     }
    },
    "cc4e5930621440459849e2ed1b116ca7": {
     "model_module": "@jupyter-widgets/controls",
     "model_module_version": "1.5.0",
     "model_name": "HTMLModel",
     "state": {
      "_dom_classes": [],
      "_model_module": "@jupyter-widgets/controls",
      "_model_module_version": "1.5.0",
      "_model_name": "HTMLModel",
      "_view_count": null,
      "_view_module": "@jupyter-widgets/controls",
      "_view_module_version": "1.5.0",
      "_view_name": "HTMLView",
      "description": "",
      "description_tooltip": null,
      "layout": "IPY_MODEL_928908907613408294a95d8496d30d91",
      "placeholder": "​",
      "style": "IPY_MODEL_dca4117080474ff19fd1bbf3c313e7d4",
      "value": " 400/400 [00:47&lt;00:00, 13.61it/s, loss=3.87, D=3.72, MSE=62.04, MAE=5.94, MdAE=7.00]"
     }
    },
    "d3268e24e96143a8aaae1e5e5bd9c50a": {
     "model_module": "@jupyter-widgets/base",
     "model_module_version": "1.2.0",
     "model_name": "LayoutModel",
     "state": {
      "_model_module": "@jupyter-widgets/base",
      "_model_module_version": "1.2.0",
      "_model_name": "LayoutModel",
      "_view_count": null,
      "_view_module": "@jupyter-widgets/base",
      "_view_module_version": "1.2.0",
      "_view_name": "LayoutView",
      "align_content": null,
      "align_items": null,
      "align_self": null,
      "border": null,
      "bottom": null,
      "display": null,
      "flex": null,
      "flex_flow": null,
      "grid_area": null,
      "grid_auto_columns": null,
      "grid_auto_flow": null,
      "grid_auto_rows": null,
      "grid_column": null,
      "grid_gap": null,
      "grid_row": null,
      "grid_template_areas": null,
      "grid_template_columns": null,
      "grid_template_rows": null,
      "height": null,
      "justify_content": null,
      "justify_items": null,
      "left": null,
      "margin": null,
      "max_height": null,
      "max_width": null,
      "min_height": null,
      "min_width": null,
      "object_fit": null,
      "object_position": null,
      "order": null,
      "overflow": null,
      "overflow_x": null,
      "overflow_y": null,
      "padding": null,
      "right": null,
      "top": null,
      "visibility": null,
      "width": null
     }
    },
    "d6faa11802014830b197875257918adb": {
     "model_module": "@jupyter-widgets/base",
     "model_module_version": "1.2.0",
     "model_name": "LayoutModel",
     "state": {
      "_model_module": "@jupyter-widgets/base",
      "_model_module_version": "1.2.0",
      "_model_name": "LayoutModel",
      "_view_count": null,
      "_view_module": "@jupyter-widgets/base",
      "_view_module_version": "1.2.0",
      "_view_name": "LayoutView",
      "align_content": null,
      "align_items": null,
      "align_self": null,
      "border": null,
      "bottom": null,
      "display": null,
      "flex": null,
      "flex_flow": null,
      "grid_area": null,
      "grid_auto_columns": null,
      "grid_auto_flow": null,
      "grid_auto_rows": null,
      "grid_column": null,
      "grid_gap": null,
      "grid_row": null,
      "grid_template_areas": null,
      "grid_template_columns": null,
      "grid_template_rows": null,
      "height": null,
      "justify_content": null,
      "justify_items": null,
      "left": null,
      "margin": null,
      "max_height": null,
      "max_width": null,
      "min_height": null,
      "min_width": null,
      "object_fit": null,
      "object_position": null,
      "order": null,
      "overflow": null,
      "overflow_x": null,
      "overflow_y": null,
      "padding": null,
      "right": null,
      "top": null,
      "visibility": null,
      "width": null
     }
    },
    "dca4117080474ff19fd1bbf3c313e7d4": {
     "model_module": "@jupyter-widgets/controls",
     "model_module_version": "1.5.0",
     "model_name": "DescriptionStyleModel",
     "state": {
      "_model_module": "@jupyter-widgets/controls",
      "_model_module_version": "1.5.0",
      "_model_name": "DescriptionStyleModel",
      "_view_count": null,
      "_view_module": "@jupyter-widgets/base",
      "_view_module_version": "1.2.0",
      "_view_name": "StyleView",
      "description_width": ""
     }
    },
    "e4eab33aa8ce447d96f6ea840e496900": {
     "model_module": "@jupyter-widgets/controls",
     "model_module_version": "1.5.0",
     "model_name": "HBoxModel",
     "state": {
      "_dom_classes": [],
      "_model_module": "@jupyter-widgets/controls",
      "_model_module_version": "1.5.0",
      "_model_name": "HBoxModel",
      "_view_count": null,
      "_view_module": "@jupyter-widgets/controls",
      "_view_module_version": "1.5.0",
      "_view_name": "HBoxView",
      "box_style": "",
      "children": [
       "IPY_MODEL_50ed4edb9e8e463ea0fbc5fc4838f8bb",
       "IPY_MODEL_1122936450c9426dad96d06758aa27d1",
       "IPY_MODEL_51bddb1821dc4f87bfb3c0ec8915e0b0"
      ],
      "layout": "IPY_MODEL_fb5871ea5d994703af85d71cd04df5d1"
     }
    },
    "e95bf05893964b29b5b39bed57f9beb8": {
     "model_module": "@jupyter-widgets/controls",
     "model_module_version": "1.5.0",
     "model_name": "FloatProgressModel",
     "state": {
      "_dom_classes": [],
      "_model_module": "@jupyter-widgets/controls",
      "_model_module_version": "1.5.0",
      "_model_name": "FloatProgressModel",
      "_view_count": null,
      "_view_module": "@jupyter-widgets/controls",
      "_view_module_version": "1.5.0",
      "_view_name": "ProgressView",
      "bar_style": "success",
      "description": "",
      "description_tooltip": null,
      "layout": "IPY_MODEL_d6faa11802014830b197875257918adb",
      "max": 2490,
      "min": 0,
      "orientation": "horizontal",
      "style": "IPY_MODEL_53845fb5bcc94fc39255f0b5161876c7",
      "value": 2490
     }
    },
    "eee0d5ef5482493fb94c4448e3766429": {
     "model_module": "@jupyter-widgets/base",
     "model_module_version": "1.2.0",
     "model_name": "LayoutModel",
     "state": {
      "_model_module": "@jupyter-widgets/base",
      "_model_module_version": "1.2.0",
      "_model_name": "LayoutModel",
      "_view_count": null,
      "_view_module": "@jupyter-widgets/base",
      "_view_module_version": "1.2.0",
      "_view_name": "LayoutView",
      "align_content": null,
      "align_items": null,
      "align_self": null,
      "border": null,
      "bottom": null,
      "display": null,
      "flex": null,
      "flex_flow": null,
      "grid_area": null,
      "grid_auto_columns": null,
      "grid_auto_flow": null,
      "grid_auto_rows": null,
      "grid_column": null,
      "grid_gap": null,
      "grid_row": null,
      "grid_template_areas": null,
      "grid_template_columns": null,
      "grid_template_rows": null,
      "height": null,
      "justify_content": null,
      "justify_items": null,
      "left": null,
      "margin": null,
      "max_height": null,
      "max_width": null,
      "min_height": null,
      "min_width": null,
      "object_fit": null,
      "object_position": null,
      "order": null,
      "overflow": null,
      "overflow_x": null,
      "overflow_y": null,
      "padding": null,
      "right": null,
      "top": null,
      "visibility": null,
      "width": null
     }
    },
    "ef0d354416714ad08e5ecb2a996b59fe": {
     "model_module": "@jupyter-widgets/controls",
     "model_module_version": "1.5.0",
     "model_name": "FloatProgressModel",
     "state": {
      "_dom_classes": [],
      "_model_module": "@jupyter-widgets/controls",
      "_model_module_version": "1.5.0",
      "_model_name": "FloatProgressModel",
      "_view_count": null,
      "_view_module": "@jupyter-widgets/controls",
      "_view_module_version": "1.5.0",
      "_view_name": "ProgressView",
      "bar_style": "success",
      "description": "",
      "description_tooltip": null,
      "layout": "IPY_MODEL_a2bf7fb8b7e64342b66f488a6af0cb65",
      "max": 400,
      "min": 0,
      "orientation": "horizontal",
      "style": "IPY_MODEL_4312d5ff4e2a49ebbb9e1d2fd86226ea",
      "value": 400
     }
    },
    "fb5871ea5d994703af85d71cd04df5d1": {
     "model_module": "@jupyter-widgets/base",
     "model_module_version": "1.2.0",
     "model_name": "LayoutModel",
     "state": {
      "_model_module": "@jupyter-widgets/base",
      "_model_module_version": "1.2.0",
      "_model_name": "LayoutModel",
      "_view_count": null,
      "_view_module": "@jupyter-widgets/base",
      "_view_module_version": "1.2.0",
      "_view_name": "LayoutView",
      "align_content": null,
      "align_items": null,
      "align_self": null,
      "border": null,
      "bottom": null,
      "display": null,
      "flex": null,
      "flex_flow": null,
      "grid_area": null,
      "grid_auto_columns": null,
      "grid_auto_flow": null,
      "grid_auto_rows": null,
      "grid_column": null,
      "grid_gap": null,
      "grid_row": null,
      "grid_template_areas": null,
      "grid_template_columns": null,
      "grid_template_rows": null,
      "height": null,
      "justify_content": null,
      "justify_items": null,
      "left": null,
      "margin": null,
      "max_height": null,
      "max_width": null,
      "min_height": null,
      "min_width": null,
      "object_fit": null,
      "object_position": null,
      "order": null,
      "overflow": null,
      "overflow_x": null,
      "overflow_y": null,
      "padding": null,
      "right": null,
      "top": null,
      "visibility": null,
      "width": null
     }
    }
   }
  }
 },
 "nbformat": 4,
 "nbformat_minor": 1
}
