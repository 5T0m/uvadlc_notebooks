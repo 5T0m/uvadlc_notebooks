{
 "cells": [
  {
   "cell_type": "markdown",
   "metadata": {},
   "source": [
    "# Tutorial 1.1: Working with the Lisa cluster\n",
    "\n",
    "No actual coding, this is a purely markdown notebook\n",
    "\n",
    "## First steps\n",
    "\n",
    "### How to connect to Lisa\n",
    "\n",
    "```bash\n",
    "ssh -X lgqu____@lisa.surfsara.nl\n",
    "```\n",
    "\n",
    "### Modules\n",
    "\n",
    "```bash\n",
    "module purge\n",
    "module load 2019\n",
    "module load Python/3.7.5-foss-2019b\n",
    "module load CUDA/10.1.243\n",
    "module load cuDNN/7.6.5.32-CUDA-10.1.243\n",
    "module load NCCL/2.5.6-CUDA-10.1.243\n",
    "```\n",
    "\n",
    "### Install the environment\n",
    "\n",
    "### Template for a job file\n",
    "\n",
    "```bash\n",
    "#!/bin/bash\n",
    "\n",
    "#SBATCH --partition=gpu_shared_course\n",
    "#SBATCH --gres=gpu:1\n",
    "#SBATCH --job-name=ExampleJob\n",
    "#SBATCH --cpus-per-task=3\n",
    "#SBATCH --ntasks=1\n",
    "#SBATCH --time=04:00:00\n",
    "#SBATCH --mem=32000M\n",
    "#SBATCH --output=slurm_output_%A.out\n",
    "\n",
    "module purge\n",
    "module load 2019\n",
    "module load Python/3.7.5-foss-2019b\n",
    "module load CUDA/10.1.243\n",
    "module load cuDNN/7.6.5.32-CUDA-10.1.243\n",
    "module load NCCL/2.5.6-CUDA-10.1.243\n",
    "\n",
    "cd ...\n",
    "source activate ...\n",
    "srun python -u ...\n",
    "```\n",
    "\n",
    "## The SLURM scheduler\n",
    "\n",
    "### Queueing\n",
    "\n",
    "### Organizing your jobs\n",
    "\n",
    "## Troubleshooting\n",
    "\n",
    "### Lisa is refusing connection\n",
    "\n",
    "### Slurm output file missing"
   ]
  },
  {
   "cell_type": "markdown",
   "metadata": {},
   "source": []
  }
 ],
 "metadata": {
  "kernelspec": {
   "display_name": "Python 3",
   "language": "python",
   "name": "python3"
  },
  "language_info": {
   "codemirror_mode": {
    "name": "ipython",
    "version": 3
   },
   "file_extension": ".py",
   "mimetype": "text/x-python",
   "name": "python",
   "nbconvert_exporter": "python",
   "pygments_lexer": "ipython3",
   "version": "3.7.3"
  }
 },
 "nbformat": 4,
 "nbformat_minor": 4
}
