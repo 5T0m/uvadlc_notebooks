{
 "cells": [
  {
   "cell_type": "markdown",
   "metadata": {},
   "source": [
    "# Tutorial 5 (JAX): Inception, ResNet and DenseNet\n",
    "\n",
    "![Status](https://img.shields.io/static/v1.svg?label=Status&message=Finished&color=green)\n",
    "\n",
    "\n",
    "**Filled notebook:** \n",
    "[![View on Github](https://img.shields.io/static/v1.svg?logo=github&label=Repo&message=View%20On%20Github&color=lightgrey)](https://github.com/phlippe/uvadlc_notebooks/blob/master/docs/tutorial_notebooks/JAX/tutorial5/Inception_ResNet_DenseNet.ipynb)\n",
    "[![Open In Collab](https://colab.research.google.com/assets/colab-badge.svg)](https://colab.research.google.com/github/phlippe/uvadlc_notebooks/blob/master/docs/tutorial_notebooks/JAX/tutorial5/Inception_ResNet_DenseNet.ipynb)   \n",
    "**Pre-trained models:** \n",
    "[![View files on Github](https://img.shields.io/static/v1.svg?logo=github&label=Repo&message=View%20On%20Github&color=lightgrey)](https://github.com/phlippe/saved_models/tree/main/JAX/tutorial5)   \n",
    "**PyTorch version:**\n",
    "[![View on RTD](https://img.shields.io/static/v1.svg?logo=readthedocs&label=RTD&message=View%20On%20RTD&color=8CA1AF)](https://uvadlc-notebooks.readthedocs.io/en/latest/tutorial_notebooks/tutorial5/Inception_ResNet_DenseNet.html)   \n",
    "**Author:** Phillip Lippe"
   ]
  },
  {
   "cell_type": "markdown",
   "metadata": {},
   "source": [
    "<div class=\"alert alert-info\">\n",
    "\n",
    "**Note:** This notebook is written in JAX+Flax. It is a 1-to-1 translation of the original notebook written in PyTorch+PyTorch Lightning with almost identical results. It is not intended as a full deep-dive tutorial on how JAX+Flax works (see respective documentations for great tutorial), but rather as an example of how those libraries can be used in practice. Still, throughout the notebook, we comment on major differences to the PyTorch version and provide explanations for the major parts of the JAX code.\n",
    "</div>"
   ]
  },
  {
   "cell_type": "markdown",
   "metadata": {},
   "source": [
    "In this tutorial, we will implement and discuss variants of modern CNN architectures. There have been many different architectures been proposed over the past few years. Some of the most impactful ones, and still relevant today, are the following: [GoogleNet](https://arxiv.org/abs/1409.4842)/Inception architecture (winner of ILSVRC 2014), [ResNet](https://arxiv.org/abs/1512.03385) (winner of ILSVRC 2015), and [DenseNet](https://arxiv.org/abs/1608.06993) (best paper award CVPR 2017). All of them were state-of-the-art models when being proposed, and the core ideas of these networks are the foundations for most current state-of-the-art architectures. Thus, it is important to understand these architectures in detail and learn how to implement them. \n",
    "\n",
    "Let's start with importing our standard libraries here."
   ]
  },
  {
   "cell_type": "code",
   "execution_count": 1,
   "metadata": {},
   "outputs": [
    {
     "name": "stderr",
     "output_type": "stream",
     "text": [
      "/tmp/ipykernel_3685072/4128045069.py:14: DeprecationWarning: `set_matplotlib_formats` is deprecated since IPython 7.23, directly use `matplotlib_inline.backend_inline.set_matplotlib_formats()`\n",
      "  set_matplotlib_formats('svg', 'pdf') # For export\n"
     ]
    }
   ],
   "source": [
    "## Standard libraries\n",
    "import os\n",
    "import numpy as np \n",
    "import random\n",
    "from PIL import Image\n",
    "from typing import Any\n",
    "from collections import defaultdict\n",
    "import time\n",
    "\n",
    "## Imports for plotting\n",
    "import matplotlib.pyplot as plt\n",
    "%matplotlib inline \n",
    "from IPython.display import set_matplotlib_formats\n",
    "set_matplotlib_formats('svg', 'pdf') # For export\n",
    "import matplotlib\n",
    "matplotlib.rcParams['lines.linewidth'] = 2.0\n",
    "import seaborn as sns\n",
    "sns.reset_orig()\n",
    "\n",
    "## Progress bar\n",
    "from tqdm.auto import tqdm\n",
    "\n",
    "## To run JAX on TPU in Google Colab, uncomment the two lines below\n",
    "# import jax.tools.colab_tpu\n",
    "# jax.tools.colab_tpu.setup_tpu()\n",
    "\n",
    "## JAX\n",
    "import jax\n",
    "import jax.numpy as jnp\n",
    "from jax import random\n",
    "\n",
    "## Flax (NN in JAX)\n",
    "try:\n",
    "    import flax\n",
    "except ModuleNotFoundError: # Install flax if missing\n",
    "    !pip install --quiet flax\n",
    "    import flax\n",
    "from flax import linen as nn\n",
    "from flax.training import train_state, checkpoints\n",
    "\n",
    "## Optax (Optimizers in JAX)\n",
    "try:\n",
    "    import optax\n",
    "except ModuleNotFoundError: # Install optax if missing\n",
    "    !pip install --quiet optax\n",
    "    import optax\n",
    "\n",
    "## PyTorch\n",
    "import torch\n",
    "import torch.utils.data as data\n",
    "from torch.utils.tensorboard import SummaryWriter\n",
    "import torchvision\n",
    "from torchvision import transforms\n",
    "from torchvision.datasets import CIFAR10"
   ]
  },
  {
   "cell_type": "markdown",
   "metadata": {},
   "source": [
    "We will use the same path variables `DATASET_PATH` and `CHECKPOINT_PATH` as in the previous tutorials. Adjust the paths if necessary."
   ]
  },
  {
   "cell_type": "code",
   "execution_count": 2,
   "metadata": {},
   "outputs": [
    {
     "name": "stdout",
     "output_type": "stream",
     "text": [
      "Device: gpu:0\n"
     ]
    }
   ],
   "source": [
    "# Path to the folder where the datasets are/should be downloaded (e.g. CIFAR10)\n",
    "DATASET_PATH = \"../data\"\n",
    "# Path to the folder where the pretrained models are saved\n",
    "CHECKPOINT_PATH = \"../.saved_models/tutorial5_jax\"\n",
    "\n",
    "# Seeding for random operations\n",
    "main_rng = random.PRNGKey(42)\n",
    "\n",
    "print(\"Device:\", jax.devices()[0])"
   ]
  },
  {
   "cell_type": "markdown",
   "metadata": {},
   "source": [
    "We also have pretrained models and TensorBoards (more on this later) for this tutorial, and download them below."
   ]
  },
  {
   "cell_type": "code",
   "execution_count": 3,
   "metadata": {},
   "outputs": [],
   "source": [
    "# Create checkpoint path if it doesn't exist yet\n",
    "os.makedirs(CHECKPOINT_PATH, exist_ok=True)"
   ]
  },
  {
   "cell_type": "markdown",
   "metadata": {},
   "source": [
    "Throughout this tutorial, we will train and evaluate the models on the CIFAR10 dataset. This allows you to compare the results obtained here with the model you have implemented in the first assignment. As we have learned from the previous tutorial about initialization, it is important to have the data preprocessed with a zero mean. Therefore, as a first step, we will calculate the mean and standard deviation of the CIFAR dataset:"
   ]
  },
  {
   "cell_type": "code",
   "execution_count": 4,
   "metadata": {},
   "outputs": [
    {
     "name": "stdout",
     "output_type": "stream",
     "text": [
      "Files already downloaded and verified\n",
      "Data mean [0.49139968 0.48215841 0.44653091]\n",
      "Data std [0.24703223 0.24348513 0.26158784]\n"
     ]
    }
   ],
   "source": [
    "train_dataset = CIFAR10(root=DATASET_PATH, train=True, download=True)\n",
    "DATA_MEANS = (train_dataset.data / 255.0).mean(axis=(0,1,2))\n",
    "DATA_STD = (train_dataset.data / 255.0).std(axis=(0,1,2))\n",
    "print(\"Data mean\", DATA_MEANS)\n",
    "print(\"Data std\", DATA_STD)"
   ]
  },
  {
   "cell_type": "markdown",
   "metadata": {},
   "source": [
    "We will use this information to normalize our data accordingly. Additionally, we will use transformations from the package `torchvision` to implement data augmentations during training. This reduces the risk of overfitting and helps CNNs to generalize better. Specifically, we will apply two random augmentations. \n",
    "\n",
    "First, we will flip each image horizontally by a chance of 50% (`transforms.RandomHorizontalFlip`). The object class usually does not change when flipping an image, and we don't expect any image information to be dependent on the horizontal orientation. This would be however different if we would try to detect digits or letters in an image, as those have a certain orientation.\n",
    "\n",
    "The second augmentation we use is called `transforms.RandomResizedCrop`. This transformation scales the image in a small range, while eventually changing the aspect ratio, and crops it afterward in the previous size. Therefore, the actual pixel values change while the content or overall semantics of the image stays the same. \n",
    "\n",
    "We will randomly split the training dataset into a training and a validation set. The validation set will be used for determining early stopping. After finishing the training, we test the models on the CIFAR test set."
   ]
  },
  {
   "cell_type": "code",
   "execution_count": 5,
   "metadata": {},
   "outputs": [
    {
     "name": "stdout",
     "output_type": "stream",
     "text": [
      "Files already downloaded and verified\n",
      "Files already downloaded and verified\n",
      "Files already downloaded and verified\n"
     ]
    }
   ],
   "source": [
    "# Transformations applied on each image => bring them into a numpy array\n",
    "def image_to_numpy(img):\n",
    "    img = np.array(img, dtype=np.float32)\n",
    "    img = (img / 255. - DATA_MEANS) / DATA_STD\n",
    "    return img\n",
    "\n",
    "# We need to stack the batch elements\n",
    "def numpy_collate(batch):\n",
    "    if isinstance(batch[0], np.ndarray):\n",
    "        return np.stack(batch)\n",
    "    elif isinstance(batch[0], (tuple,list)):\n",
    "        transposed = zip(*batch)\n",
    "        return [numpy_collate(samples) for samples in transposed]\n",
    "    else:\n",
    "        return np.array(batch)\n",
    "\n",
    "    \n",
    "test_transform = image_to_numpy\n",
    "# For training, we add some augmentation. Networks are too powerful and would overfit.\n",
    "train_transform = transforms.Compose([transforms.RandomHorizontalFlip(),\n",
    "                                      transforms.RandomResizedCrop((32,32),scale=(0.8,1.0),ratio=(0.9,1.1)),\n",
    "                                      image_to_numpy\n",
    "                                     ])\n",
    "# Loading the training dataset. We need to split it into a training and validation part\n",
    "# We need to do a little trick because the validation set should not use the augmentation.\n",
    "train_dataset = CIFAR10(root=DATASET_PATH, train=True, transform=train_transform, download=True)\n",
    "val_dataset = CIFAR10(root=DATASET_PATH, train=True, transform=test_transform, download=True)\n",
    "train_set, _ = torch.utils.data.random_split(train_dataset, [45000, 5000], generator=torch.Generator().manual_seed(42))\n",
    "_, val_set = torch.utils.data.random_split(val_dataset, [45000, 5000], generator=torch.Generator().manual_seed(42))\n",
    "\n",
    "# Loading the test set\n",
    "test_set = CIFAR10(root=DATASET_PATH, train=False, transform=test_transform, download=True)\n",
    "\n",
    "# We define a set of data loaders that we can use for training and validation\n",
    "train_loader = data.DataLoader(train_set, \n",
    "                               batch_size=128, \n",
    "                               shuffle=True, \n",
    "                               drop_last=True, \n",
    "                               collate_fn=numpy_collate, \n",
    "                               num_workers=8,\n",
    "                               persistent_workers=True)\n",
    "val_loader   = data.DataLoader(val_set, \n",
    "                               batch_size=128, \n",
    "                               shuffle=False, \n",
    "                               drop_last=False, \n",
    "                               collate_fn=numpy_collate, \n",
    "                               num_workers=4,\n",
    "                               persistent_workers=True)\n",
    "test_loader  = data.DataLoader(test_set, \n",
    "                               batch_size=128, \n",
    "                               shuffle=False, \n",
    "                               drop_last=False, \n",
    "                               collate_fn=numpy_collate, \n",
    "                               num_workers=4,\n",
    "                               persistent_workers=True)"
   ]
  },
  {
   "cell_type": "markdown",
   "metadata": {},
   "source": [
    "To verify that our normalization works, we can print out the mean and standard deviation of the single batch. The mean should be close to 0 and the standard deviation close to 1 for each channel:"
   ]
  },
  {
   "cell_type": "code",
   "execution_count": 6,
   "metadata": {},
   "outputs": [
    {
     "name": "stdout",
     "output_type": "stream",
     "text": [
      "Batch mean [-0.05101138 -0.10038554 -0.06557597]\n",
      "Batch std [0.93670883 0.94899785 0.95394836]\n"
     ]
    }
   ],
   "source": [
    "imgs, _ = next(iter(train_loader))\n",
    "print(\"Batch mean\", imgs.mean(axis=(0,1,2)))\n",
    "print(\"Batch std\", imgs.std(axis=(0,1,2)))"
   ]
  },
  {
   "cell_type": "markdown",
   "metadata": {},
   "source": [
    "Finally, let's visualize a few images from the training set, and how they look like after random data augmentation: "
   ]
  },
  {
   "cell_type": "markdown",
   "metadata": {},
   "source": [
    "## Trainer Module\n",
    "\n",
    "In the [PyTorch version](https://uvadlc-notebooks.readthedocs.io/en/latest/tutorial_notebooks/tutorial5/Inception_ResNet_DenseNet.html) of this tutorial, we would now introduce the framework [PyTorch Lightning](https://www.pytorchlightning.ai/) which simplifies the overall training of a model. So far (June 2022), there is no clear equivalent of it for JAX. Some basic training functionalities are implemented in `flax.training` ([documentation](https://flax.readthedocs.io/en/latest/flax.training.html)), and predefined training modules are implemented in `trax` ([documentation](https://trax-ml.readthedocs.io/en/latest/)), but neither provide a complete, flexible training package yet like PyTorch Lightning. Hence, we need to write our own small training loop. \n",
    "\n",
    "For this, we take inspiration from PyTorch Lightning and build a trainer module/object with the following main functionalities:\n",
    "\n",
    "1. *Storing model and parameters*: In order to train multiple models with different hyperparameters, the trainer module creates an instance of the model class, and keeps the parameters in the same class. This way, we can easily apply a model with its parameters on new inputs.\n",
    "2. *Initialization of model and training state*: During initialization of the trainer, we initialize the model parameters and a new train state, which includes the optimizer and possible learning rate schedulers.\n",
    "3. *Training, validation and test loops*: Similar to PyTorch Lightning, we implement simple training, validation and test loops, where subclasses of this trainer could overwrite the respective training, validation or test steps. Since in this tutorial, all models will have the same objective, i.e. classification on CIFAR10, we will pre-specify them in the trainer module below.\n",
    "4. *Logging, saving and loading of models*: To keep track of the training, we implement functionalities to log the training progress and save the best model on the validation set. Afterwards, this model can be loaded from the disk. \n",
    "\n",
    "Before starting to implement a trainer module with these functionalities, we need to take one prior step. The networks we will implement in this tutorial use BatchNormalization, which carries an exponential average of the prior batch statistics (mean and std) to apply during evaluation. In PyTorch, this is simply tracked by an object attribute of an object of the class `nn.BatchNorm2d`, but in JAX, we only work with functions. Hence, we need to take care of the batch statistics ourselves, similar to the parameters, and enter them during every forward pass. To simplify this a little, we overwrite the `train_state.TrainState` class of Flax by adding a field for the batch statistics:"
   ]
  },
  {
   "cell_type": "code",
   "execution_count": 8,
   "metadata": {},
   "outputs": [],
   "source": [
    "class TrainState(train_state.TrainState):\n",
    "    # A simple extension of TrainState to also include batch statistics\n",
    "    batch_stats: Any"
   ]
  },
  {
   "cell_type": "markdown",
   "metadata": {},
   "source": [
    "With this, the training state contains both the training parameters and the batch statistics, which makes it easier to keep everything in one place.\n",
    "\n",
    "Now that the batch statistics are sorted out, we can implement our full training module:"
   ]
  },
  {
   "cell_type": "code",
   "execution_count": 9,
   "metadata": {},
   "outputs": [],
   "source": [
    "class TrainerModule:\n",
    "\n",
    "    def __init__(self, \n",
    "                 model_name : str, \n",
    "                 model_class : nn.Module, \n",
    "                 model_hparams : dict, \n",
    "                 optimizer_name : str, \n",
    "                 optimizer_hparams : dict, \n",
    "                 exmp_imgs : Any, \n",
    "                 seed=42):\n",
    "        \"\"\"\n",
    "        Module for summarizing all training functionalities for classification on CIFAR10.\n",
    "        \n",
    "        Inputs:\n",
    "            model_name - String of the class name, used for logging and saving\n",
    "            model_class - Class implementing the neural network\n",
    "            model_hparams - Hyperparameters of the model, used as input to model constructor\n",
    "            optimizer_name - String of the optimizer name, supporting ['sgd', 'adam', 'adamw']\n",
    "            optimizer_hparams - Hyperparameters of the optimizer, including learning rate as 'lr'\n",
    "            exmp_imgs - Example imgs, used as input to initialize the model\n",
    "            seed - Seed to use in the model initialization\n",
    "        \"\"\"\n",
    "        super().__init__()\n",
    "        self.model_name = model_name\n",
    "        self.model_class = model_class\n",
    "        self.model_hparams = model_hparams\n",
    "        self.optimizer_name = optimizer_name\n",
    "        self.optimizer_hparams = optimizer_hparams\n",
    "        self.seed = seed\n",
    "        # Create empty model. Note: no parameters yet\n",
    "        self.model = self.model_class(**self.model_hparams)\n",
    "        # Prepare logging\n",
    "        self.log_dir = os.path.join(CHECKPOINT_PATH, self.model_name)\n",
    "        self.logger = SummaryWriter(log_dir=self.log_dir)\n",
    "        # Create jitted training and eval functions\n",
    "        self.create_functions()\n",
    "        # Initialize model\n",
    "        self.init_model(exmp_imgs)\n",
    "\n",
    "    def create_functions(self):\n",
    "        # Function to calculate the classification loss and accuracy for a model\n",
    "        def calculate_loss(params, batch_stats, batch, train):\n",
    "            imgs, labels = batch\n",
    "            labels_onehot = jax.nn.one_hot(labels, num_classes=self.model.num_classes)\n",
    "            # Run model. During training, we need to update the BatchNorm statistics.\n",
    "            outs = self.model.apply({'params': params, 'batch_stats': batch_stats}, \n",
    "                                    imgs,\n",
    "                                    train=train,\n",
    "                                    mutable=['batch_stats'] if train else False)\n",
    "            logits, new_model_state = outs if train else (outs, None)\n",
    "            loss = optax.softmax_cross_entropy(logits, labels_onehot).mean()\n",
    "            acc = (logits.argmax(axis=-1) == labels).mean()\n",
    "            return loss, (acc, new_model_state)\n",
    "        # Training function\n",
    "        def train_step(state, batch):\n",
    "            loss_fn = lambda params: calculate_loss(params, state.batch_stats, batch, train=True)\n",
    "            # Get loss, gradients for loss, and other outputs of loss function\n",
    "            ret, grads = jax.value_and_grad(loss_fn, has_aux=True)(state.params)  \n",
    "            loss, acc, new_model_state = ret[0], *ret[1]\n",
    "            # Update parameters and batch statistics\n",
    "            state = state.apply_gradients(grads=grads, batch_stats=new_model_state['batch_stats'])\n",
    "            return state, loss, acc\n",
    "        # Eval function\n",
    "        def eval_step(state, batch):\n",
    "            # Return the accuracy for a single batch\n",
    "            _, (acc, _) = calculate_loss(state.params, state.batch_stats, batch, train=False)\n",
    "            return acc\n",
    "        # jit for efficiency\n",
    "        self.train_step = jax.jit(train_step)\n",
    "        self.eval_step = jax.jit(eval_step)\n",
    "\n",
    "    def init_model(self, exmp_imgs):\n",
    "        # Initialize model\n",
    "        init_rng = jax.random.PRNGKey(self.seed)\n",
    "        variables = self.model.init(init_rng, exmp_imgs, train=True)\n",
    "        self.init_params, self.init_batch_stats = variables['params'], variables['batch_stats']\n",
    "        self.state = None\n",
    "        \n",
    "    def init_optimizer(self, num_epochs, steps_per_epoch):\n",
    "        # Initialize learning rate schedule and optimizer\n",
    "        if self.optimizer_name.lower() == 'adam':\n",
    "            opt_class = optax.adam\n",
    "        elif self.optimizer_name.lower() == 'adamw':\n",
    "            opt_class = optax.adamw\n",
    "        elif self.optimizer_name.lower() == 'sgd':\n",
    "            opt_class = optax.sgd\n",
    "        else:\n",
    "            assert False, f'Unknown optimizer \"{opt_class}\"'\n",
    "        # We decrease the learning rate by a factor of 0.1 after 60% and 85% of the training\n",
    "        num_steps_per_epoch = len(train_loader)\n",
    "        lr_schedule = optax.piecewise_constant_schedule(\n",
    "            init_value=self.optimizer_hparams.pop('lr'),\n",
    "            boundaries_and_scales=\n",
    "                {int(num_steps_per_epoch*num_epochs*0.6): 0.1,\n",
    "                 int(num_steps_per_epoch*num_epochs*0.85): 0.1}\n",
    "        )\n",
    "        # Clip gradients at max value, and evt. apply weight decay\n",
    "        transf = [optax.clip(1.0)]\n",
    "        if opt_class == optax.sgd and 'weight_decay' in self.optimizer_hparams:  # wd is integrated in adamw\n",
    "            transf.append(optax.add_decayed_weights(self.optimizer_hparams.pop('weight_decay')))\n",
    "        optimizer = optax.chain(\n",
    "            *transf,\n",
    "            opt_class(lr_schedule, **self.optimizer_hparams)\n",
    "        )\n",
    "        # Initialize training state\n",
    "        self.state = TrainState.create(apply_fn=self.model.apply, \n",
    "                                       params=self.init_params if self.state is None else self.state.params,\n",
    "                                       batch_stats=self.init_batch_stats if self.state is None else self.state.batch_stats,\n",
    "                                       tx=optimizer)\n",
    "\n",
    "    def train_model(self, train_loader, val_loader, num_epochs=200):\n",
    "        # Train model for defined number of epochs\n",
    "        # We first need to create optimizer and the scheduler for the given number of epochs\n",
    "        self.init_optimizer(num_epochs, len(train_loader))\n",
    "        # Track best eval accuracy\n",
    "        best_eval = 0.0\n",
    "        for epoch_idx in tqdm(range(1, num_epochs+1)):\n",
    "            self.train_epoch(epoch=epoch_idx)\n",
    "            if epoch_idx % 2 == 0:\n",
    "                eval_acc = self.eval_model(val_loader)\n",
    "                self.logger.add_scalar('val/acc', eval_acc, global_step=epoch_idx)\n",
    "                if eval_acc >= best_eval:\n",
    "                    best_eval = eval_acc\n",
    "                    self.save_model(step=epoch_idx)\n",
    "                self.logger.flush()\n",
    "\n",
    "    def train_epoch(self, epoch):\n",
    "        # Train model for one epoch, and log avg loss and accuracy\n",
    "        metrics = defaultdict(list)\n",
    "        for batch in tqdm(train_loader, desc='Training', leave=False):\n",
    "            self.state, loss, acc = self.train_step(self.state, batch)\n",
    "            metrics['loss'].append(loss)\n",
    "            metrics['acc'].append(acc)\n",
    "        for key in metrics:\n",
    "            avg_val = np.stack(jax.device_get(metrics[key])).mean()\n",
    "            self.logger.add_scalar('train/'+key, avg_val, global_step=epoch)\n",
    "\n",
    "    def eval_model(self, data_loader):\n",
    "        # Test model on all images of a data loader and return avg loss\n",
    "        correct_class, count = 0, 0\n",
    "        for batch in data_loader:\n",
    "            acc = self.eval_step(self.state, batch)\n",
    "            correct_class += acc * batch[0].shape[0]\n",
    "            count += batch[0].shape[0]\n",
    "        eval_acc = (correct_class / count).item()\n",
    "        return eval_acc\n",
    "\n",
    "    def save_model(self, step=0):\n",
    "        # Save current model at certain training iteration\n",
    "        checkpoints.save_checkpoint(ckpt_dir=self.log_dir, \n",
    "                                    target={'params': self.state.params, \n",
    "                                            'batch_stats': self.state.batch_stats}, \n",
    "                                    step=step,\n",
    "                                   overwrite=True)\n",
    "\n",
    "    def load_model(self, pretrained=False):\n",
    "        # Load model. We use different checkpoint for pretrained models\n",
    "        if not pretrained:\n",
    "            state_dict = checkpoints.restore_checkpoint(ckpt_dir=self.log_dir, target=None)\n",
    "        else:\n",
    "            state_dict = checkpoints.restore_checkpoint(ckpt_dir=os.path.join(CHECKPOINT_PATH, f'{self.model_name}.ckpt'), target=None)\n",
    "        self.state = TrainState.create(apply_fn=self.model.apply, \n",
    "                                       params=state_dict['params'],\n",
    "                                       batch_stats=state_dict['batch_stats'],\n",
    "                                       tx=self.state.tx if self.state else optax.sgd(0.1)   # Default optimizer\n",
    "                                      )\n",
    "\n",
    "    def checkpoint_exists(self):\n",
    "        # Check whether a pretrained model exist for this autoencoder\n",
    "        return os.path.isfile(os.path.join(CHECKPOINT_PATH, f'{self.model_name}.ckpt'))"
   ]
  },
  {
   "cell_type": "markdown",
   "metadata": {},
   "source": [
    "Next, we can use this trainer module to create a compact training function:"
   ]
  },
  {
   "cell_type": "code",
   "execution_count": 10,
   "metadata": {},
   "outputs": [],
   "source": [
    "def train_classifier(*args, num_epochs=200, **kwargs):\n",
    "    # Create a trainer module with specified hyperparameters\n",
    "    num_epochs=2\n",
    "    trainer = TrainerModule(*args, **kwargs)\n",
    "    \n",
    "    start_time = time.time()\n",
    "    trainer.train_model(train_loader, val_loader, num_epochs=num_epochs)\n",
    "    duration = int(time.time() - start_time)\n",
    "    print(f'Training time: {duration // 3600}hrs {(duration % 3600) // 60}min {duration % 60}sec')\n",
    "    \n",
    "    trainer.load_model()\n",
    "    # Test trained model\n",
    "    val_acc = trainer.eval_model(val_loader)\n",
    "    test_acc = trainer.eval_model(test_loader)\n",
    "    return trainer, {'val': val_acc, 'test': test_acc}"
   ]
  },
  {
   "cell_type": "markdown",
   "metadata": {},
   "source": [
    "Finally, we can focus on the Convolutional Neural Networks we want to implement today: GoogleNet, ResNet, and DenseNet."
   ]
  },
  {
   "cell_type": "markdown",
   "metadata": {},
   "source": [
    "## Inception\n",
    "\n",
    "The [GoogleNet](https://arxiv.org/abs/1409.4842), proposed in 2014, won the ImageNet Challenge because of its usage of the Inception modules. In general, we will mainly focus on the concept of Inception in this tutorial instead of the specifics of the GoogleNet, as based on Inception, there have been many follow-up works ([Inception-v2](https://arxiv.org/abs/1512.00567), [Inception-v3](https://arxiv.org/abs/1512.00567), [Inception-v4](https://arxiv.org/abs/1602.07261), [Inception-ResNet](https://arxiv.org/abs/1602.07261),...). The follow-up works mainly focus on increasing efficiency and enabling very deep Inception networks. However, for a fundamental understanding, it is sufficient to look at the original Inception block. \n",
    "\n",
    "An Inception block applies four convolution blocks separately on the same feature map: a 1x1, 3x3, and 5x5 convolution, and a max pool operation. This allows the network to look at the same data with different receptive fields. Of course, learning only 5x5 convolution would be theoretically more powerful. However, this is not only more computation and memory heavy but also tends to overfit much easier. The overall inception block looks like below (figure credit - [Szegedy et al.](https://arxiv.org/abs/1409.4842)):\n",
    "\n",
    "<center width=\"100%\"><img src=\"../../tutorial5/inception_block.svg\" style=\"display: block; margin-left: auto; margin-right: auto;\" width=\"500px\"/></center>\n",
    "\n",
    "The additional 1x1 convolutions before the 3x3 and 5x5 convolutions are used for dimensionality reduction. This is especially crucial as the feature maps of all branches are merged afterward, and we don't want any explosion of feature size. As 5x5 convolutions are 25 times more expensive than 1x1 convolutions, we can save a lot of computation and parameters by reducing the dimensionality before the large convolutions.\n",
    "\n",
    "We can now try to implement the Inception Block ourselves:"
   ]
  },
  {
   "cell_type": "code",
   "execution_count": 11,
   "metadata": {},
   "outputs": [],
   "source": [
    "googlenet_kernel_init = nn.initializers.kaiming_normal()\n",
    "\n",
    "class InceptionBlock(nn.Module):\n",
    "    c_red : dict  # Dictionary of reduced dimensionalities with keys \"1x1\", \"3x3\", \"5x5\", and \"max\"\n",
    "    c_out : dict  # Dictionary of output feature sizes with keys \"1x1\", \"3x3\", \"5x5\", and \"max\"\n",
    "    act_fn : callable   # Activation function\n",
    "    \n",
    "    @nn.compact\n",
    "    def __call__(self, x, train=True):\n",
    "        # 1x1 convolution branch\n",
    "        x_1x1 = nn.Conv(self.c_out[\"1x1\"], kernel_size=(1, 1), kernel_init=googlenet_kernel_init, use_bias=False)(x)\n",
    "        x_1x1 = nn.BatchNorm()(x_1x1, use_running_average=not train)\n",
    "        x_1x1 = self.act_fn(x_1x1)\n",
    "        \n",
    "        # 3x3 convolution branch\n",
    "        x_3x3 = nn.Conv(self.c_red[\"3x3\"], kernel_size=(1, 1), kernel_init=googlenet_kernel_init, use_bias=False)(x)\n",
    "        x_3x3 = nn.BatchNorm()(x_3x3, use_running_average=not train)\n",
    "        x_3x3 = self.act_fn(x_3x3)\n",
    "        x_3x3 = nn.Conv(self.c_out[\"3x3\"], kernel_size=(3, 3), kernel_init=googlenet_kernel_init, use_bias=False)(x_3x3)\n",
    "        x_3x3 = nn.BatchNorm()(x_3x3, use_running_average=not train)\n",
    "        x_3x3 = self.act_fn(x_3x3)\n",
    "        \n",
    "        # 5x5 convolution branch\n",
    "        x_5x5 = nn.Conv(self.c_red[\"5x5\"], kernel_size=(1, 1), kernel_init=googlenet_kernel_init, use_bias=False)(x)\n",
    "        x_5x5 = nn.BatchNorm()(x_5x5, use_running_average=not train)\n",
    "        x_5x5 = self.act_fn(x_5x5)\n",
    "        x_5x5 = nn.Conv(self.c_out[\"5x5\"], kernel_size=(5, 5), kernel_init=googlenet_kernel_init, use_bias=False)(x_5x5)\n",
    "        x_5x5 = nn.BatchNorm()(x_5x5, use_running_average=not train)\n",
    "        x_5x5 = self.act_fn(x_5x5)\n",
    "        \n",
    "        # Max-pool branch\n",
    "        x_max = nn.max_pool(x, (3, 3), strides=(2, 2))\n",
    "        x_max = nn.Conv(self.c_out[\"max\"], kernel_size=(1, 1), kernel_init=googlenet_kernel_init, use_bias=False)(x)\n",
    "        x_max = nn.BatchNorm()(x_max, use_running_average=not train)\n",
    "        x_max = self.act_fn(x_max)\n",
    "        \n",
    "        x_out = jnp.concatenate([x_1x1, x_3x3, x_5x5, x_max], axis=-1)\n",
    "        return x_out"
   ]
  },
  {
   "cell_type": "markdown",
   "metadata": {},
   "source": [
    "The GoogleNet architecture consists of stacking multiple Inception blocks with occasional max pooling to reduce the height and width of the feature maps. The original GoogleNet was designed for image sizes of ImageNet (224x224 pixels) and had almost 7 million parameters. As we train on CIFAR10 with image sizes of 32x32, we don't require such a heavy architecture, and instead, apply a reduced version. The number of channels for dimensionality reduction and output per filter (1x1, 3x3, 5x5, and max pooling) need to be manually specified and can be changed if interested. The general intuition is to have the most filters for the 3x3 convolutions, as they are powerful enough to take the context into account while requiring almost a third of the parameters of the 5x5 convolution. "
   ]
  },
  {
   "cell_type": "code",
   "execution_count": 12,
   "metadata": {},
   "outputs": [],
   "source": [
    "class GoogleNet(nn.Module):\n",
    "    num_classes : int\n",
    "    act_fn : callable\n",
    "        \n",
    "    @nn.compact\n",
    "    def __call__(self, x, train=True):\n",
    "        # A first convolution on the original image to scale up the channel size\n",
    "        x = nn.Conv(64, kernel_size=(3, 3), kernel_init=googlenet_kernel_init, use_bias=False)(x)\n",
    "        x = nn.BatchNorm()(x, use_running_average=not train)\n",
    "        x = self.act_fn(x)\n",
    "            \n",
    "        # Stacking inception blocks\n",
    "        inception_blocks = [\n",
    "            InceptionBlock(c_red={\"3x3\": 32, \"5x5\": 16}, c_out={\"1x1\": 16, \"3x3\": 32, \"5x5\": 8, \"max\": 8}, act_fn=self.act_fn),\n",
    "            InceptionBlock(c_red={\"3x3\": 32, \"5x5\": 16}, c_out={\"1x1\": 24, \"3x3\": 48, \"5x5\": 12, \"max\": 12}, act_fn=self.act_fn),\n",
    "            lambda inp: nn.max_pool(inp, (3, 3), strides=(2, 2)),  # 32x32 => 16x16\n",
    "            InceptionBlock(c_red={\"3x3\": 32, \"5x5\": 16}, c_out={\"1x1\": 24, \"3x3\": 48, \"5x5\": 12, \"max\": 12}, act_fn=self.act_fn),\n",
    "            InceptionBlock(c_red={\"3x3\": 32, \"5x5\": 16}, c_out={\"1x1\": 16, \"3x3\": 48, \"5x5\": 16, \"max\": 16}, act_fn=self.act_fn),\n",
    "            InceptionBlock(c_red={\"3x3\": 32, \"5x5\": 16}, c_out={\"1x1\": 16, \"3x3\": 48, \"5x5\": 16, \"max\": 16}, act_fn=self.act_fn),\n",
    "            InceptionBlock(c_red={\"3x3\": 32, \"5x5\": 16}, c_out={\"1x1\": 32, \"3x3\": 48, \"5x5\": 24, \"max\": 24}, act_fn=self.act_fn),\n",
    "            lambda inp: nn.max_pool(inp, (3, 3), strides=(2, 2)),  # 16x16 => 8x8\n",
    "            InceptionBlock(c_red={\"3x3\": 48, \"5x5\": 16}, c_out={\"1x1\": 32, \"3x3\": 64, \"5x5\": 16, \"max\": 16}, act_fn=self.act_fn),\n",
    "            InceptionBlock(c_red={\"3x3\": 48, \"5x5\": 16}, c_out={\"1x1\": 32, \"3x3\": 64, \"5x5\": 16, \"max\": 16}, act_fn=self.act_fn)\n",
    "        ]\n",
    "        for block in inception_blocks:\n",
    "            x = block(x, train=train) if isinstance(block, InceptionBlock) else block(x)\n",
    "        \n",
    "        # Mapping to classification output\n",
    "        x = x.mean(axis=(1, 2))\n",
    "        x = nn.Dense(self.num_classes)(x)\n",
    "        return x"
   ]
  },
  {
   "cell_type": "markdown",
   "metadata": {},
   "source": [
    "The training of the model is handled by our previously implemented training function, and we just have to define the command to start. Note that we train for 200 epochs, which takes about 15mins on a RTX3090. We would recommend using the saved models and train your own model if you are interested. "
   ]
  },
  {
   "cell_type": "code",
   "execution_count": 13,
   "metadata": {},
   "outputs": [
    {
     "data": {
      "application/vnd.jupyter.widget-view+json": {
       "model_id": "13464262dfc545a7bf8ca556805d7631",
       "version_major": 2,
       "version_minor": 0
      },
      "text/plain": [
       "  0%|          | 0/2 [00:00<?, ?it/s]"
      ]
     },
     "metadata": {},
     "output_type": "display_data"
    },
    {
     "data": {
      "application/vnd.jupyter.widget-view+json": {
       "model_id": "",
       "version_major": 2,
       "version_minor": 0
      },
      "text/plain": [
       "Training:   0%|          | 0/351 [00:00<?, ?it/s]"
      ]
     },
     "metadata": {},
     "output_type": "display_data"
    },
    {
     "data": {
      "application/vnd.jupyter.widget-view+json": {
       "model_id": "",
       "version_major": 2,
       "version_minor": 0
      },
      "text/plain": [
       "Training:   0%|          | 0/351 [00:00<?, ?it/s]"
      ]
     },
     "metadata": {},
     "output_type": "display_data"
    }
   ],
   "source": [
    "googlenet_trainer, googlenet_results = train_classifier(model_class=GoogleNet,\n",
    "                                                        model_name=\"GoogleNet\",\n",
    "                                                        model_hparams={\"num_classes\": 10,\n",
    "                                                                       \"act_fn\": nn.relu},\n",
    "                                                        optimizer_name=\"adamw\",\n",
    "                                                        optimizer_hparams={\"lr\": 1e-3,\n",
    "                                                                           \"weight_decay\": 1e-4},\n",
    "                                                        exmp_imgs=jax.device_put(\n",
    "                                                            next(iter(train_loader))[0]),\n",
    "                                                        num_epochs=200)"
   ]
  },
  {
   "cell_type": "markdown",
   "metadata": {},
   "source": [
    "We will compare the results later in the notebooks, but we can already print them here for a first glance:"
   ]
  },
  {
   "cell_type": "markdown",
   "metadata": {},
   "source": [
    "## ResNet\n",
    "\n",
    "The [ResNet](https://arxiv.org/abs/1512.03385) paper is one of the  [most cited AI papers](https://www.natureindex.com/news-blog/google-scholar-reveals-most-influential-papers-research-citations-twenty-twenty), and has been the foundation for neural networks with more than 1,000 layers. Despite its simplicity, the idea of residual connections is highly effective as it supports stable gradient propagation through the network. Instead of modeling $x_{l+1}=F(x_{l})$, we model $x_{l+1}=x_{l}+F(x_{l})$ where $F$ is a non-linear mapping (usually a sequence of NN modules likes convolutions, activation functions, and normalizations). If we do backpropagation on such residual connections, we obtain:\n",
    "\n",
    "$$\\frac{\\partial x_{l+1}}{\\partial x_{l}} = \\mathbf{I} + \\frac{\\partial F(x_{l})}{\\partial x_{l}}$$\n",
    "\n",
    "The bias towards the identity matrix guarantees a stable gradient propagation being less effected by $F$ itself. There have been many variants of ResNet proposed, which mostly concern the function $F$, or operations applied on the sum. In this tutorial, we look at two of them: the original ResNet block, and the [Pre-Activation ResNet block](https://arxiv.org/abs/1603.05027). We visually compare the blocks below (figure credit - [He et al.](https://arxiv.org/abs/1603.05027)):\n",
    "\n",
    "<center width=\"100%\"><img src=\"../../tutorial5/resnet_block.svg\" style=\"display: block; margin-left: auto; margin-right: auto;\" width=\"300px\"/></center>\n",
    "\n",
    "The original ResNet block applies a non-linear activation function, usually ReLU, after the skip connection. In contrast, the pre-activation ResNet block applies the non-linearity at the beginning of $F$. Both have their advantages and disadvantages. For very deep network, however, the pre-activation ResNet has shown to perform better as the gradient flow is guaranteed to have the identity matrix as calculated above, and is not harmed by any non-linear activation applied to it. For comparison, in this notebook, we implement both ResNet types as shallow networks.\n",
    "\n",
    "Let's start with the original ResNet block. The visualization above already shows what layers are included in $F$. One special case we have to handle is when we want to reduce the image dimensions in terms of width and height. The basic ResNet block requires $F(x_{l})$ to be of the same shape as $x_{l}$. Thus, we need to change the dimensionality of $x_{l}$ as well before adding to $F(x_{l})$. The original implementation used an identity mapping with stride 2 and padded additional feature dimensions with 0. However, the more common implementation is to use a 1x1 convolution with stride 2 as it allows us to change the feature dimensionality while being efficient in parameter and computation cost. The code for the ResNet block is relatively simple, and shown below:"
   ]
  },
  {
   "cell_type": "code",
   "execution_count": 17,
   "metadata": {},
   "outputs": [],
   "source": [
    "# Conv initialized with kaiming int, but uses fan-out instead of fan-in mode\n",
    "# Fan-out focuses on the gradient distribution, and is commonly used in ResNets\n",
    "resnet_kernel_init = nn.initializers.variance_scaling(2.0, mode='fan_out', distribution='normal')\n",
    "\n",
    "class ResNetBlock(nn.Module):\n",
    "    act_fn : callable  # Activation function\n",
    "    c_out : int   # Output feature size\n",
    "    subsample : bool = False  # If True, we apply a stride inside F\n",
    "\n",
    "    @nn.compact\n",
    "    def __call__(self, x, train=True):\n",
    "        # Network representing F\n",
    "        z = nn.Conv(self.c_out, kernel_size=(3, 3), \n",
    "                    strides=(1, 1) if not self.subsample else (2, 2), \n",
    "                    kernel_init=resnet_kernel_init,\n",
    "                    use_bias=False)(x)\n",
    "        z = nn.BatchNorm()(z, use_running_average=not train)\n",
    "        z = self.act_fn(z)\n",
    "        z = nn.Conv(self.c_out, kernel_size=(3, 3), \n",
    "                    kernel_init=resnet_kernel_init,\n",
    "                    use_bias=False)(z)\n",
    "        z = nn.BatchNorm()(z, use_running_average=not train)\n",
    "        \n",
    "        if self.subsample:\n",
    "            x = nn.Conv(self.c_out, kernel_size=(1, 1), strides=(2, 2), kernel_init=resnet_kernel_init)(x)\n",
    "        \n",
    "        x_out = self.act_fn(z + x)\n",
    "        return x_out"
   ]
  },
  {
   "cell_type": "markdown",
   "metadata": {},
   "source": [
    "The second block we implement is the pre-activation ResNet block. For this, we have to change the order of layers, and do not apply an activation function on the output. Additionally, the downsampling operation has to apply a non-linearity as well as the input, $x_l$, has not been processed by a non-linearity yet. Hence, the block looks as follows:"
   ]
  },
  {
   "cell_type": "code",
   "execution_count": 18,
   "metadata": {},
   "outputs": [],
   "source": [
    "class PreActResNetBlock(ResNetBlock):\n",
    "    \n",
    "    @nn.compact\n",
    "    def __call__(self, x, train=True):\n",
    "        # Network representing F\n",
    "        z = nn.BatchNorm()(x, use_running_average=not train)\n",
    "        z = self.act_fn(z)\n",
    "        z = nn.Conv(self.c_out, kernel_size=(3, 3), \n",
    "                    strides=(1, 1) if not self.subsample else (2, 2), \n",
    "                    kernel_init=resnet_kernel_init,\n",
    "                    use_bias=False)(z)\n",
    "        z = nn.BatchNorm()(z, use_running_average=not train)\n",
    "        z = self.act_fn(z)\n",
    "        z = nn.Conv(self.c_out, kernel_size=(3, 3), \n",
    "                    kernel_init=resnet_kernel_init,\n",
    "                    use_bias=False)(z)\n",
    "        \n",
    "        if self.subsample:\n",
    "            x = nn.BatchNorm()(x, use_running_average=not train)\n",
    "            x = self.act_fn(x)\n",
    "            x = nn.Conv(self.c_out, \n",
    "                        kernel_size=(1, 1), \n",
    "                        strides=(2, 2), \n",
    "                        kernel_init=resnet_kernel_init,\n",
    "                        use_bias=False)(x)\n",
    "        \n",
    "        x_out = z + x\n",
    "        return x_out"
   ]
  },
  {
   "cell_type": "markdown",
   "metadata": {},
   "source": [
    "The overall ResNet architecture consists of stacking multiple ResNet blocks, of which some are downsampling the input. When talking about ResNet blocks in the whole network, we usually group them by the same output shape. Hence, if we say the ResNet has `[3,3,3]` blocks, it means that we have 3 times a group of 3 ResNet blocks, where a subsampling is taking place in the fourth and seventh block. The ResNet with `[3,3,3]` blocks on CIFAR10 is visualized below.\n",
    "\n",
    "<center width=\"100%\"><img src=\"../../tutorial5/resnet_notation.svg\" width=\"500px\"></center>\n",
    "\n",
    "The three groups operate on the resolutions $32\\times32$, $16\\times16$ and $8\\times8$ respectively. The blocks in orange denote ResNet blocks with downsampling. The same notation is used by many other implementations such as in the [torchvision library](https://pytorch.org/docs/stable/_modules/torchvision/models/resnet.html#resnet18) from PyTorch or [flaxmodels](https://github.com/matthias-wright/flaxmodels) (pretrained ResNets and more for JAX). Thus, our code looks as follows:"
   ]
  },
  {
   "cell_type": "code",
   "execution_count": 19,
   "metadata": {},
   "outputs": [],
   "source": [
    "class ResNet(nn.Module):\n",
    "    num_classes : int\n",
    "    act_fn : callable\n",
    "    block_class : nn.Module\n",
    "    num_blocks : tuple = (3, 3, 3)\n",
    "    c_hidden : tuple = (16, 32, 64)\n",
    "        \n",
    "    @nn.compact\n",
    "    def __call__(self, x, train=True):\n",
    "        # A first convolution on the original image to scale up the channel size\n",
    "        x = nn.Conv(self.c_hidden[0], kernel_size=(3, 3), kernel_init=resnet_kernel_init, use_bias=False)(x)\n",
    "        if self.block_class == ResNetBlock:  # If pre-activation block, we do not apply non-linearities yet\n",
    "            x = nn.BatchNorm()(x, use_running_average=not train)\n",
    "            x = self.act_fn(x)\n",
    "        \n",
    "        # Creating the ResNet blocks\n",
    "        for block_idx, block_count in enumerate(self.num_blocks):\n",
    "            for bc in range(block_count):\n",
    "                # Subsample the first block of each group, except the very first one.\n",
    "                subsample = (bc == 0 and block_idx > 0)\n",
    "                # ResNet block\n",
    "                x = self.block_class(c_out=self.c_hidden[block_idx],\n",
    "                                     act_fn=self.act_fn,\n",
    "                                     subsample=subsample)(x, train=train)\n",
    "        \n",
    "        # Mapping to classification output\n",
    "        x = x.mean(axis=(1, 2))\n",
    "        x = nn.Dense(self.num_classes)(x)\n",
    "        return x"
   ]
  },
  {
   "cell_type": "markdown",
   "metadata": {},
   "source": [
    "Finally, we can train our ResNet models. One difference to the GoogleNet training is that we explicitly use SGD with Momentum as optimizer instead of Adam. Adam often leads to a slightly worse accuracy on plain, shallow ResNets. It is not 100% clear why Adam performs worse in this context, but one possible explanation is related to ResNet's loss surface. ResNet has been shown to produce smoother loss surfaces than networks without skip connection (see [Li et al., 2018](https://arxiv.org/pdf/1712.09913.pdf) for details). A possible visualization of the loss surface with/out skip connections is below (figure credit - [Li et al.](https://arxiv.org/pdf/1712.09913.pdf)):\n",
    "\n",
    "<center width=\"100%\"><img src=\"../../tutorial5/resnet_loss_surface.svg\" style=\"display: block; margin-left: auto; margin-right: auto;\" width=\"600px\"/></center>\n",
    "\n",
    "The $x$ and $y$ axis shows a projection of the parameter space, and the $z$ axis shows the loss values achieved by different parameter values. On smooth surfaces like the one on the right, we might not require an adaptive learning rate as Adam provides. Instead, Adam can get stuck in local optima while SGD finds the wider minima that tend to generalize better.\n",
    "However, to answer this question in detail, we would need an extra tutorial because it is not easy to answer. For now, we conclude: for ResNet architectures, consider the optimizer to be an important hyperparameter, and try training with both Adam and SGD. Let's train the model below with SGD:"
   ]
  },
  {
   "cell_type": "code",
   "execution_count": 20,
   "metadata": {},
   "outputs": [
    {
     "data": {
      "application/vnd.jupyter.widget-view+json": {
       "model_id": "90e590e0277d4da4b4aa7ef2f751268c",
       "version_major": 2,
       "version_minor": 0
      },
      "text/plain": [
       "  0%|          | 0/2 [00:00<?, ?it/s]"
      ]
     },
     "metadata": {},
     "output_type": "display_data"
    },
    {
     "data": {
      "application/vnd.jupyter.widget-view+json": {
       "model_id": "",
       "version_major": 2,
       "version_minor": 0
      },
      "text/plain": [
       "Training:   0%|          | 0/351 [00:00<?, ?it/s]"
      ]
     },
     "metadata": {},
     "output_type": "display_data"
    },
    {
     "data": {
      "application/vnd.jupyter.widget-view+json": {
       "model_id": "",
       "version_major": 2,
       "version_minor": 0
      },
      "text/plain": [
       "Training:   0%|          | 0/351 [00:00<?, ?it/s]"
      ]
     },
     "metadata": {},
     "output_type": "display_data"
    }
   ],
   "source": [
    "resnet_trainer, resnet_results = train_classifier(model_name=\"ResNet\",\n",
    "                                                  model_class=ResNet,\n",
    "                                                  model_hparams={\"num_classes\": 10,\n",
    "                                                                 \"c_hidden\": (16, 32, 64),\n",
    "                                                                 \"num_blocks\": (3, 3, 3),\n",
    "                                                                 \"act_fn\": nn.relu,\n",
    "                                                                 \"block_class\": ResNetBlock},\n",
    "                                                  optimizer_name=\"SGD\",\n",
    "                                                  optimizer_hparams={\"lr\": 0.1,\n",
    "                                                                     \"momentum\": 0.9,\n",
    "                                                                     \"weight_decay\": 1e-4},\n",
    "                                                  exmp_imgs=jax.device_put(\n",
    "                                                      next(iter(train_loader))[0]),\n",
    "                                                  num_epochs=200)"
   ]
  },
  {
   "cell_type": "markdown",
   "metadata": {},
   "source": [
    "Let's also train the pre-activation ResNet as comparison:"
   ]
  },
  {
   "cell_type": "code",
   "execution_count": 21,
   "metadata": {},
   "outputs": [
    {
     "data": {
      "application/vnd.jupyter.widget-view+json": {
       "model_id": "fb8b01eabde440d09323373f1a488dd6",
       "version_major": 2,
       "version_minor": 0
      },
      "text/plain": [
       "  0%|          | 0/2 [00:00<?, ?it/s]"
      ]
     },
     "metadata": {},
     "output_type": "display_data"
    },
    {
     "data": {
      "application/vnd.jupyter.widget-view+json": {
       "model_id": "",
       "version_major": 2,
       "version_minor": 0
      },
      "text/plain": [
       "Training:   0%|          | 0/351 [00:00<?, ?it/s]"
      ]
     },
     "metadata": {},
     "output_type": "display_data"
    },
    {
     "data": {
      "application/vnd.jupyter.widget-view+json": {
       "model_id": "",
       "version_major": 2,
       "version_minor": 0
      },
      "text/plain": [
       "Training:   0%|          | 0/351 [00:00<?, ?it/s]"
      ]
     },
     "metadata": {},
     "output_type": "display_data"
    }
   ],
   "source": [
    "preactresnet_trainer, preactresnet_results = train_classifier(model_name=\"PreActResNet\",\n",
    "                                                              model_class=ResNet,\n",
    "                                                              model_hparams={\"num_classes\": 10,\n",
    "                                                                             \"c_hidden\": (16, 32, 64),\n",
    "                                                                             \"num_blocks\": (3, 3, 3),\n",
    "                                                                             \"act_fn\": nn.relu,\n",
    "                                                                             \"block_class\": PreActResNetBlock},\n",
    "                                                              optimizer_name=\"SGD\",\n",
    "                                                              optimizer_hparams={\"lr\": 0.1,\n",
    "                                                                                 \"momentum\": 0.9,\n",
    "                                                                                 \"weight_decay\": 1e-4},\n",
    "                                                              exmp_imgs=jax.device_put(\n",
    "                                                                  next(iter(train_loader))[0]),\n",
    "                                                              num_epochs=200)"
   ]
  },
  {
   "cell_type": "markdown",
   "metadata": {},
   "source": [
    "## DenseNet\n",
    "\n",
    "[DenseNet](https://arxiv.org/abs/1608.06993) is another architecture for enabling very deep neural networks and takes a slightly different perspective on residual connections. Instead of modeling the difference between layers, DenseNet considers residual connections as a possible way to reuse features across layers, removing any necessity to learn redundant feature maps. If we go deeper into the network, the model learns abstract features to recognize patterns. However, some complex patterns consist of a combination of abstract features (e.g. hand, face, etc.), and low-level features (e.g. edges, basic color, etc.). To find these low-level features in the deep layers, standard CNNs have to learn copy such feature maps, which wastes a lot of parameter complexity. DenseNet provides an efficient way of reusing features by having each convolution depends on all previous input features, but add only a small amount of filters to it. See the figure below for an illustration (figure credit - [Hu et al.](https://arxiv.org/abs/1608.06993)):\n",
    "\n",
    "<center width=\"100%\"><img src=\"../../tutorial5/densenet_block.svg\" style=\"display: block; margin-left: auto; margin-right: auto;\" width=\"500px\"/></center>\n",
    "\n",
    "The last layer, called the transition layer, is responsible for reducing the dimensionality of the feature maps in height, width, and channel size. Although those technically break the identity backpropagation, there are only a few in a network so that it doesn't affect the gradient flow much. \n",
    "\n",
    "We split the implementation of the layers in DenseNet into three parts: a `DenseLayer`, and a `DenseBlock`, and a `TransitionLayer`. The module `DenseLayer` implements a single layer inside a dense block. It applies a 1x1 convolution for dimensionality reduction with a subsequential 3x3 convolution. The output channels are concatenated to the originals and returned. Note that we apply the Batch Normalization as the first layer of each block. This allows slightly different activations for the same features to different layers, depending on what is needed. Overall, we can implement it as follows:"
   ]
  },
  {
   "cell_type": "code",
   "execution_count": 23,
   "metadata": {},
   "outputs": [],
   "source": [
    "densenet_kernel_init = nn.initializers.kaiming_normal()\n",
    "\n",
    "class DenseLayer(nn.Module):\n",
    "    bn_size : int  # Bottleneck size (factor of growth rate) for the output of the 1x1 convolution\n",
    "    growth_rate : int  # Number of output channels of the 3x3 convolution\n",
    "    act_fn : callable  # Activation function\n",
    "        \n",
    "    @nn.compact\n",
    "    def __call__(self, x, train=True):\n",
    "        z = nn.BatchNorm()(x, use_running_average=not train)\n",
    "        z = self.act_fn(z)\n",
    "        z = nn.Conv(self.bn_size * self.growth_rate, \n",
    "                    kernel_size=(1, 1), \n",
    "                    kernel_init=densenet_kernel_init, \n",
    "                    use_bias=False)(z)\n",
    "        z = nn.BatchNorm()(z, use_running_average=not train)\n",
    "        z = self.act_fn(z)\n",
    "        z = nn.Conv(self.growth_rate, \n",
    "                    kernel_size=(3, 3), \n",
    "                    kernel_init=densenet_kernel_init, \n",
    "                    use_bias=False)(z)\n",
    "        x_out = jnp.concatenate([x, z], axis=-1)\n",
    "        return x_out"
   ]
  },
  {
   "cell_type": "markdown",
   "metadata": {},
   "source": [
    "The module `DenseBlock` summarizes multiple dense layers applied in sequence. Each dense layer takes as input the original input concatenated with all previous layers' feature maps:"
   ]
  },
  {
   "cell_type": "code",
   "execution_count": 24,
   "metadata": {},
   "outputs": [],
   "source": [
    "class DenseBlock(nn.Module):\n",
    "    num_layers : int  # Number of dense layers to apply in the block\n",
    "    bn_size : int  # Bottleneck size to use in the dense layers\n",
    "    growth_rate : int  # Growth rate to use in the dense layers\n",
    "    act_fn : callable  # Activation function to use in the dense layers\n",
    "    \n",
    "    @nn.compact\n",
    "    def __call__(self, x, train=True):\n",
    "        for _ in range(self.num_layers):\n",
    "            x = DenseLayer(bn_size=self.bn_size,\n",
    "                           growth_rate=self.growth_rate,\n",
    "                           act_fn=self.act_fn)(x, train=train)\n",
    "        return x"
   ]
  },
  {
   "cell_type": "markdown",
   "metadata": {},
   "source": [
    "Finally, the `TransitionLayer` takes as input the final output of a dense block and reduces its channel dimensionality using a 1x1 convolution. To reduce the height and width dimension, we take a slightly different approach than in ResNet and apply an average pooling with kernel size 2 and stride 2. This is because we don't have an additional connection to the output that would consider the full 2x2 patch instead of a single value. Besides, it is more parameter efficient than using a 3x3 convolution with stride 2. Thus, the layer is implemented as follows:"
   ]
  },
  {
   "cell_type": "code",
   "execution_count": 25,
   "metadata": {},
   "outputs": [],
   "source": [
    "class TransitionLayer(nn.Module):\n",
    "    c_out : int  # Output feature size\n",
    "    act_fn : callable  # Activation function\n",
    "        \n",
    "    @nn.compact\n",
    "    def __call__(self, x, train=True):\n",
    "        x = nn.BatchNorm()(x, use_running_average=not train)\n",
    "        x = self.act_fn(x)\n",
    "        x = nn.Conv(self.c_out, \n",
    "                    kernel_size=(1, 1), \n",
    "                    kernel_init=densenet_kernel_init,\n",
    "                    use_bias=False)(x)\n",
    "        x = nn.avg_pool(x, (2, 2), strides=(2, 2))\n",
    "        return x"
   ]
  },
  {
   "cell_type": "markdown",
   "metadata": {},
   "source": [
    "Now we can put everything together and create our DenseNet. To specify the number of layers, we use a similar notation as in ResNets and pass on a list of ints representing the number of layers per block. After each dense block except the last one, we apply a transition layer to reduce the dimensionality by 2. "
   ]
  },
  {
   "cell_type": "code",
   "execution_count": 26,
   "metadata": {},
   "outputs": [],
   "source": [
    "class DenseNet(nn.Module):\n",
    "    num_classes : int\n",
    "    act_fn : callable = nn.relu\n",
    "    num_layers : tuple = (6, 6, 6, 6)\n",
    "    bn_size : int = 2\n",
    "    growth_rate : int = 16\n",
    "    \n",
    "    @nn.compact\n",
    "    def __call__(self, x, train=True):\n",
    "        c_hidden = self.growth_rate * self.bn_size  # The start number of hidden channels\n",
    "        \n",
    "        x = nn.Conv(c_hidden,\n",
    "                    kernel_size=(3, 3),\n",
    "                    kernel_init=densenet_kernel_init)(x)\n",
    "        \n",
    "        for block_idx, num_layers in enumerate(self.num_layers):\n",
    "            x = DenseBlock(num_layers=num_layers,\n",
    "                           bn_size=self.bn_size,\n",
    "                           growth_rate=self.growth_rate,\n",
    "                           act_fn=self.act_fn)(x, train=train)\n",
    "            c_hidden += num_layers * self.growth_rate\n",
    "            if block_idx < len(self.num_layers)-1:  # Don't apply transition layer on last block\n",
    "                x = TransitionLayer(c_out=c_hidden//2,\n",
    "                                    act_fn=self.act_fn)(x, train=train)\n",
    "                c_hidden //= 2\n",
    "        \n",
    "        x = nn.BatchNorm()(x, use_running_average=not train)\n",
    "        x = self.act_fn(x)\n",
    "        x = x.mean(axis=(1, 2))\n",
    "        x = nn.Dense(self.num_classes)(x)\n",
    "        return x"
   ]
  },
  {
   "cell_type": "markdown",
   "metadata": {},
   "source": [
    "Lastly, we train our network. In contrast to ResNet, DenseNet does not show any issues with Adam, and hence we train it with this optimizer. The other hyperparameters are chosen to result in a network with a similar parameter size as the ResNet and GoogleNet. Commonly, when designing very deep networks, DenseNet is more parameter efficient than ResNet while achieving a similar or even better performance."
   ]
  },
  {
   "cell_type": "code",
   "execution_count": 27,
   "metadata": {},
   "outputs": [
    {
     "data": {
      "application/vnd.jupyter.widget-view+json": {
       "model_id": "3d6a236a388a466ebf3e2e7fbf4bebd2",
       "version_major": 2,
       "version_minor": 0
      },
      "text/plain": [
       "  0%|          | 0/2 [00:00<?, ?it/s]"
      ]
     },
     "metadata": {},
     "output_type": "display_data"
    },
    {
     "data": {
      "application/vnd.jupyter.widget-view+json": {
       "model_id": "",
       "version_major": 2,
       "version_minor": 0
      },
      "text/plain": [
       "Training:   0%|          | 0/351 [00:00<?, ?it/s]"
      ]
     },
     "metadata": {},
     "output_type": "display_data"
    },
    {
     "data": {
      "application/vnd.jupyter.widget-view+json": {
       "model_id": "",
       "version_major": 2,
       "version_minor": 0
      },
      "text/plain": [
       "Training:   0%|          | 0/351 [00:00<?, ?it/s]"
      ]
     },
     "metadata": {},
     "output_type": "display_data"
    }
   ],
   "source": [
    "densenet_trainer, densenet_results = train_classifier(model_name=\"DenseNet\",\n",
    "                                                      model_class=DenseNet,\n",
    "                                                      model_hparams={\"num_classes\": 10,\n",
    "                                                                     \"num_layers\": [6, 6, 6, 6],\n",
    "                                                                     \"bn_size\": 2,\n",
    "                                                                     \"growth_rate\": 16,\n",
    "                                                                     \"act_fn\": nn.relu},\n",
    "                                                      optimizer_name=\"adamw\",\n",
    "                                                      optimizer_hparams={\"lr\": 1e-3,\n",
    "                                                                         \"weight_decay\": 1e-4},\n",
    "                                                      exmp_imgs=jax.device_put(\n",
    "                                                          next(iter(train_loader))[0]),\n",
    "                                                      num_epochs=200)"
   ]
  },
  {
   "cell_type": "markdown",
   "metadata": {},
   "source": [
    "---\n",
    "\n",
    "[![Star our repository](https://img.shields.io/static/v1.svg?logo=star&label=⭐&message=Star%20Our%20Repository&color=yellow)](https://github.com/phlippe/uvadlc_notebooks/)  If you found this tutorial helpful, consider ⭐-ing our repository.    \n",
    "[![Ask questions](https://img.shields.io/static/v1.svg?logo=star&label=❔&message=Ask%20Questions&color=9cf)](https://github.com/phlippe/uvadlc_notebooks/issues)  For any questions, typos, or bugs that you found, please raise an issue on GitHub. \n",
    "\n",
    "---"
   ]
  }
 ],
 "metadata": {
  "kernelspec": {
   "display_name": "Python 3 (ipykernel)",
   "language": "python",
   "name": "python3"
  },
  "language_info": {
   "codemirror_mode": {
    "name": "ipython",
    "version": 3
   },
   "file_extension": ".py",
   "mimetype": "text/x-python",
   "name": "python",
   "nbconvert_exporter": "python",
   "pygments_lexer": "ipython3",
   "version": "3.8.2"
  }
 },
 "nbformat": 4,
 "nbformat_minor": 4
}
