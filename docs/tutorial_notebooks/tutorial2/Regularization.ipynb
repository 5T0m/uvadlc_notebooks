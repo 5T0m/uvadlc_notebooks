{
 "cells": [
  {
   "cell_type": "markdown",
   "metadata": {},
   "source": [
    "# Regularization techniques"
   ]
  },
  {
   "cell_type": "code",
   "execution_count": 3,
   "metadata": {},
   "outputs": [
    {
     "name": "stdout",
     "output_type": "stream",
     "text": [
      "Epoch  0: 00.00%\n",
      "Epoch  1: 08.50%\n",
      "Epoch  2: 17.00%\n",
      "Epoch  3: 25.50%\n",
      "Epoch  4: 34.00%\n",
      "Epoch  5: 42.50%\n",
      "Epoch  6: 51.00%\n",
      "Epoch  7: 59.50%\n",
      "Epoch  8: 68.00%\n",
      "Epoch  9: 76.50%\n"
     ]
    }
   ],
   "source": [
    "for i in range(10):\n",
    "    print(\"Epoch %2i: %05.2f%%\" % (i, i/4.0*34))"
   ]
  },
  {
   "cell_type": "code",
   "execution_count": null,
   "metadata": {},
   "outputs": [],
   "source": []
  }
 ],
 "metadata": {
  "kernelspec": {
   "display_name": "Python 3",
   "language": "python",
   "name": "python3"
  },
  "language_info": {
   "codemirror_mode": {
    "name": "ipython",
    "version": 3
   },
   "file_extension": ".py",
   "mimetype": "text/x-python",
   "name": "python",
   "nbconvert_exporter": "python",
   "pygments_lexer": "ipython3",
   "version": "3.7.3"
  }
 },
 "nbformat": 4,
 "nbformat_minor": 4
}
