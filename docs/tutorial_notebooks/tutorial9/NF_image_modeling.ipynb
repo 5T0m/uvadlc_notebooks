{
 "cells": [
  {
   "cell_type": "markdown",
   "metadata": {},
   "source": [
    "# Tutorial 9.2: Normalizing Flows on image modeling"
   ]
  },
  {
   "cell_type": "markdown",
   "metadata": {},
   "source": [
    "**Goal**: show application of NFs on image modeling, assumably on MNIST. Introduce Activation Normalization, 1x1 convolution, multi-scale architecture"
   ]
  },
  {
   "cell_type": "code",
   "execution_count": 40,
   "metadata": {},
   "outputs": [
    {
     "name": "stdout",
     "output_type": "stream",
     "text": [
      "Using device cuda:0\n"
     ]
    }
   ],
   "source": [
    "USE_NOTEBOOK = True\n",
    "\n",
    "## Standard libraries\n",
    "import os\n",
    "import json\n",
    "import math\n",
    "import numpy as np \n",
    "import scipy.linalg\n",
    "\n",
    "## Imports for plotting\n",
    "import matplotlib.pyplot as plt\n",
    "if USE_NOTEBOOK:\n",
    "    %matplotlib inline \n",
    "    from IPython.display import set_matplotlib_formats\n",
    "    set_matplotlib_formats('svg', 'pdf') # For export\n",
    "    from matplotlib.colors import to_rgb\n",
    "    import matplotlib\n",
    "    matplotlib.rcParams['lines.linewidth'] = 2.0\n",
    "import seaborn as sns\n",
    "sns.reset_orig()\n",
    "\n",
    "## Progress bar\n",
    "if USE_NOTEBOOK:\n",
    "    from tqdm.notebook import tqdm\n",
    "\n",
    "## PyTorch\n",
    "import torch\n",
    "import torch.nn as nn\n",
    "import torch.nn.functional as F\n",
    "import torch.utils.data as data\n",
    "import torch.optim as optim\n",
    "\n",
    "# Path to the folder where the datasets are/should be downloaded (e.g. MNIST)\n",
    "DATASET_PATH = \"../data\"\n",
    "# Path to the folder where the pretrained models are saved\n",
    "CHECKPOINT_PATH = \"../saved_models/tutorial9\"\n",
    "\n",
    "# Function for setting the seed\n",
    "def set_seed(seed):\n",
    "    np.random.seed(seed)\n",
    "    torch.manual_seed(seed)\n",
    "    if torch.cuda.is_available():\n",
    "        torch.cuda.manual_seed(seed)\n",
    "        torch.cuda.manual_seed_all(seed)\n",
    "set_seed(42)\n",
    "\n",
    "# Ensure that all operations are deterministic on GPU (if used) for reproducibility\n",
    "torch.backends.cudnn.determinstic = True\n",
    "torch.backends.cudnn.benchmark = False\n",
    "\n",
    "# Fetching the device that will be used throughout this notebook\n",
    "device = torch.device(\"cpu\") if not torch.cuda.is_available() else torch.device(\"cuda:0\")\n",
    "print(\"Using device\", device)"
   ]
  },
  {
   "cell_type": "code",
   "execution_count": 41,
   "metadata": {},
   "outputs": [],
   "source": [
    "import torchvision\n",
    "from torchvision.datasets import MNIST\n",
    "from torchvision import transforms\n",
    "\n",
    "def discretize(sample):\n",
    "    return (sample * 255).to(torch.int32)\n",
    "\n",
    "# Transformations applied on each image => only make them a tensor\n",
    "transform = transforms.Compose([transforms.ToTensor(),\n",
    "                                discretize])\n",
    "\n",
    "# Loading the training dataset. We need to split it into a training and validation part\n",
    "train_dataset = MNIST(root=DATASET_PATH, train=True, transform=transform, download=True)\n",
    "set_seed(42)\n",
    "train_set, val_set = torch.utils.data.random_split(train_dataset, [50000, 10000])\n",
    "\n",
    "# Loading the test set\n",
    "test_set = MNIST(root=DATASET_PATH, train=False, transform=transform, download=True)\n",
    "\n",
    "# We define a set of data loaders that we can use for various purposes later.\n",
    "# Note that for actually training a model, we will use different data loaders\n",
    "# with a lower batch size.\n",
    "train_loader = data.DataLoader(train_set, batch_size=256, shuffle=False, drop_last=False)\n",
    "val_loader = data.DataLoader(val_set, batch_size=64, shuffle=False, drop_last=False)\n",
    "test_loader = data.DataLoader(test_set, batch_size=64, shuffle=False, drop_last=False)"
   ]
  },
  {
   "cell_type": "code",
   "execution_count": 42,
   "metadata": {},
   "outputs": [
    {
     "data": {
      "application/pdf": "[encoded data removed]",
      "image/svg+xml": [
       "<?xml version=\"1.0\" encoding=\"utf-8\" standalone=\"no\"?>\n",
       "<!DOCTYPE svg PUBLIC \"-//W3C//DTD SVG 1.1//EN\"\n",
       "  \"http://www.w3.org/Graphics/SVG/1.1/DTD/svg11.dtd\">\n",
       "<!-- Created with matplotlib (https://matplotlib.org/) -->\n",
       "<svg height=\"184.544262pt\" version=\"1.1\" viewBox=\"0 0 349.2 184.544262\" width=\"349.2pt\" xmlns=\"http://www.w3.org/2000/svg\" xmlns:xlink=\"http://www.w3.org/1999/xlink\">\n",
       " <metadata>\n",
       "  <rdf:RDF xmlns:cc=\"http://creativecommons.org/ns#\" xmlns:dc=\"http://purl.org/dc/elements/1.1/\" xmlns:rdf=\"http://www.w3.org/1999/02/22-rdf-syntax-ns#\">\n",
       "   <cc:Work>\n",
       "    <dc:type rdf:resource=\"http://purl.org/dc/dcmitype/StillImage\"/>\n",
       "    <dc:date>2020-08-02T23:44:58.811504</dc:date>\n",
       "    <dc:format>image/svg+xml</dc:format>\n",
       "    <dc:creator>\n",
       "     <cc:Agent>\n",
       "      <dc:title>Matplotlib v3.3.0, https://matplotlib.org/</dc:title>\n",
       "     </cc:Agent>\n",
       "    </dc:creator>\n",
       "   </cc:Work>\n",
       "  </rdf:RDF>\n",
       " </metadata>\n",
       " <defs>\n",
       "  <style type=\"text/css\">*{stroke-linecap:butt;stroke-linejoin:round;}</style>\n",
       " </defs>\n",
       " <g id=\"figure_1\">\n",
       "  <g id=\"patch_1\">\n",
       "   <path d=\"M 0 184.544262 \n",
       "L 349.2 184.544262 \n",
       "L 349.2 0 \n",
       "L 0 0 \n",
       "z\n",
       "\" style=\"fill:#ffffff;\"/>\n",
       "  </g>\n",
       "  <g id=\"axes_1\">\n",
       "   <g clip-path=\"url(#p470881713a)\">\n",
       "    <image height=\"171\" id=\"image1a313d0c4c\" transform=\"scale(1 -1)translate(0 -171)\" width=\"335\" x=\"7.2\" xlink:href=\"data:image/png;base64,\n",
       "iVBORw0KGgoAAAANSUhEUgAAAU8AAACrCAYAAADmbx7SAAAVhElEQVR4nO3deZgN1P8H8PdQ9mQte7I8QvZkJzQjZMlOUbZkV2iKME9ljywhlZ2yjj1khLH29GTLYxmhLNlF9v33x/d3Pj63uWPuPe4+79c/vZ9j7r3Hded0zj1bWFRU1AMQEZFbkvm7AkREwYiNJxGRBTaeREQW2HgSEVlg40lEZOEJZ4VRUVE+rkbwS+g943vpPmfvGd9H9/Ez6TnO3jP2PImILLDxJCKywMaTiMgCG08iIgtsPImILLDxJCKywMaTiMgCG08iIgtsPImILLDxJCKy4HR7JgWOkiVLSl69erXkJUuWSO7YsSMAYOjQoVK2YMECybt3737ka6RLl05yo0aN4v35li1bJB8+fDjxSoeQ6OhoyQ0bNpS8du1aybVq1fJllQJKnjx5JBcvXhwAsGvXLinLkCGD5DZt2kju06eP26+l/y2mT58uecWKFW4/lyew50lEZIE9zwD1xBP/+6dp3bq1lGXOnFly+/bt4z0mMjJScvPmzSWvWbNG8siRIwEAlStXlrLOnTtLLleuXLznPXDggORXXnlF8oULFx79lwgBdevW9XcV/MqMSkqXLi1lERERklu1aiU5b968ABw/L1myZJG8b98+ybGxsQCA27dvS9miRYuc1qFZs2YAHD+bDRo0kDxw4EDJevTlbex5EhFZYONJRGSBw/YAlStXLgBAjx49rB5vhlAA0KlTp3g5WbKH/9+8f//+I5/rhRdekGyG/QDQrl07q7oFk/3790s2EyIAkDVrVslmaHr+/HnfVcyLypQpI/mLL74AAJQvX17KduzYIXnlypWSjx07BgA4deqUlOmvjM6dO2dVn8mTJwMA8ufPL2WrVq2S/Omnn0pev349AGD79u1Wr+UO9jyJiCyw8SQisuC1YbuZIQOA+fPne+tlHumDDz6QbNY9Hj9+3C91cdfNmzcBPBwKAY5r6vwlLi7O31XwqWHDhkmeMWOGZL3+1uSYmBhfVcurPv/8c8l37twBAFSsWFHKdu7c6fM6AY5rjPUqlG3btkkODw8HwGE7EVHAYuNJRGTBa8P2efPmSTYzdnpLli+G8nqG0HTtg2XYfvr0aQDArFmzpGzAgAFOf1bPnLvKlceYxc56hl1vi0sK5s6dK9l8jgEgR44cks2GBT1UvHr1qg9q5x179+6VbGbO/TVUT8itW7eclm/cuNFndWDPk4jIgtd6nnpyw0x6OOuNAo5bCfWXv4/LWc8z2OhDFvSERaVKlSQXKFAAQOLrNROS0ONM+aZNm6yeNxTUqFFDsj7kQjP/FtmzZ5eyQ4cOebVe3tS3b1/J2bJl82NNEtakSRPJDx48kGz7O2CDPU8iIgtsPImILHht2K4nZkaPHg0AaNq0qZSdOHFC8tatWyWb4fWYMWOkzHZyKXfu3FaPCyT63E6d9ZZJM4TR298OHjwoWW+jnDp1KgDH9zRjxoxOX9u8hn7dpHaqUrFixSSnSZPG6c+YbZnBPFRPiJm4DASZMmWSrD/TeqJu8+bNPqsPe55ERBbYeBIRWfDJqUq9e/cG4Dhs1zPs5gQh4OEQVM/M66yvlzDddV2mnyuU6QNn9XY6ZzZs2BCvTB9oqw+hdbYFNCmfqjRhwgTJeoui/iybE5YKFSokZfprE3o85hBwfQ2Nvjpm0KBBPq8TwJ4nEZEVNp5ERBZ8ehiy3p6ph+J6OGRm281QH3A8oUnfYzJq1CiH/z6K+Zlffvkl3msBQIUKFRL/C/w/f50S5Ul68b07mxQaN24sOV++fJL1LHwouXv3ruRly5ZJ1p/JnDlzAgDatm0rZR999JEPahe69Fcgs2fPBuB4SPP7778v2V+nWbHnSURkwac9T91j0z1Pdx6ns+md6l6A3vapmTWf+oxPvRY1sTWhelIqFHqemp58Wr58uWR9Q6GRPn16yaVKlYr3s0uXLvVGFQOCXvN45coVyWbyQk+gTZw4UbI+k5X+x0yy6QlKParp3r275EuXLgEAevXqJWWTJk3ybgVdwJ4nEZEFNp5ERBb8dnum2bIJOA6ldbmr9DBaTyjpobge2pMjffZko0aNJM+cORMA0LJlS6eP09sVS5QoASC0h+3r1q2TrK+EMH93c4smADRs2FDyuHHjvF+5AJI6dWrJRYoUkaxPQnr77bcBON5Cqr9Gi4yMlGzOVL148aLnK/sY2PMkIrLAxpOIyILfhu16HacnZ69PnjwpWa/pJPeZE5gSGrYTORMbGytZr83UzOqVsWPHSpk+XS0YsOdJRGSBjScRkQW/Dds1fRKS2SZpe+eQ3qrp7IQgIk+4d++ev6sQsD755BPJeqNFhw4dJJuZd70iRs+m699j8zVAoL3n7HkSEVkIiJ7nwoULJZttm57oNQbLHe0UfPr16ydZnzNJwJo1a5zmLl26SK5VqxYAxy2Z9erVk6zX1J45cwYAsHjxYinTE03+OjuVPU8iIgtsPImILATEsF2fWOTK2Zz/xa2X3pUsWTKnmciWGc7rYX3KlCklP/fcc5LNlScDBgyQsvbt20seMWKEZLO9+59//vFwjePjbwIRkQU2nkREFgJi2P64ksqNmXpmMm3atJLN6UeeULJkScnh4eEAgPv37zv92YTKk4LNmzdLNtsK9XUy+lSgpHaqkq1bt25JjouLkzx48GAAjre8TpkyRXL//v0lP//88wCAbt26SZk5TNnT2PMkIrLAxpOIyEJADNvduc/IGX23iT6tKRRkyJBBsj4oOkeOHJLNwbIPHjxw+XnDwsIk68flzZtXsp7xdEZvl7t8+bLLrx0Krl+/LvnGjRvx/jxz5sy+rE6SoO/aql69uuTx48dL7tixI4CHBygDwIoVK7xSH/Y8iYgsBETPU3/R7s796Ya+Dz7UbrbUEzh6kkgzd6a7M4Gj12vaTvxMmDBBst4uR8EnVapUkpMnTy752rVr/qhOovRoidsziYiCCBtPIiILATFs12zO8Qy1obq2YcMGyS1atJCsT/XJli0bAKBgwYIefW0zCbRnzx4p27Jli2Sz/i6pM9uLa9asKWWBOtxNiJ6A0dsdzXrKs2fPSll0dLTkmzdveqwOehIzXbp0ks2NuGXLlpUyfTupvqHT/FvYngfsDvY8iYgssPEkIrIQcMN2SlhMTIzTXKBAAQBA5cqVnT5OD8PM+kNXTkfq2bMnAGDOnDnuVzYJWbp0KQDHw36nTZvmr+pYWbVqlWR9A635e5QqVUrKjh49Kll/pWNuq717966UnT9/XnKaNGkkFy5cGIDjWmL9maxTp45kM5zXXxfs2LFDckREhGRfrjdmz5OIyAIbTyIiCxy2h4A//vjD4b//NX36dB/WJukxd+zoDQ3BTA/Fy5Qp48eaBDb2PImILLDxJCKywMaTiMgCG08iIgtsPImILLDxJCKywMaTiMgCG08iIgtsPImILLDxJCKyEBYVFeX6lYtERASAPU8iIitsPImILLDxJCKywMaTiMiC0/M8o6KifFyN4JfQe8b30n3O3jO+j+7jZ9JznL1n7HkSEVlg40lEZIGNJxGRBTaeREQW2HgSEVng7Zkh5MUXX5S8e/dupz9z7NgxAEDNmjWl7MiRI96tGJELUqZMKXnChAmSW7RoAQCoUqWKlO3cudN3FUsAe55ERBbYeBIRWeCwPYTcv39f8r179yQnT55ccq5cuQAAvXv3lrIhQ4ZIPnnypDerSJSgAgUKSH7nnXfi/Xn+/Pklc9hORBSk2PMMIfv27ZO8YMECyeYLdwDYvHkzAKBr166+qxhRCGLPk4jIAhtPIiILPhm2V6xYEQCwadMmrzz/8ePHJbdt29bpz5jh6p07d7xSh0AzatQoyXrYbr6UL1mypJTt2rXLV9UiStC1a9ckX758WfLTTz/tj+okij1PIiILbDyJiCx4bdgeHh4uecqUKd56GQBA7ty5JcfExDj9GTOM/fnnn6Vs9erVXq2XP5ltmACwd+9eyWYL5/Dhw6WsVq1avqtYkHn99dclv/fee5Lr1KnzyMfpr4f0V0k3btwAACxevNhTVQwZf/75p+Q9e/ZIrlq1qh9qkzj2PImILLDxJCKy4NFh+0svvSRZD9Vz5szpyZexYrYjtmzZUsreeustydu2bZN8+/Zt31XMS86fPy9Zr0Yww/aiRYtKmd72dvjwYR/ULvClSpUKgOOqhYIFC7r8+CeffFLy7NmzJd+6dQuA4/bYyZMnS9bbapOyiRMnSjanKelTlRYuXOjzOv0Xe55ERBY82vPU67ECobfpTI4cOSTryaP9+/dLbtSoEQAgLi7OdxXzIj05Ubt2bQBA9uzZpaxw4cKSk3LPM3369JJNb9GV3ub69esBAAcOHJAyfRjLu+++K9mcWfnVV19JWdq0aSWPHDnS3WoHHP0+RkREOP2Zc+fOAQA2btzo9M91uVnz+eabb0rZ6NGjJf/111/2lX0M7HkSEVlg40lEZMGjw/ZOnTp58unEpUuXJA8ePDjen2fJkkVyZGSk1WvooauZSBo4cKDVcwUaPWzv1q0bAKB48eJS1rdvX8n6q4zr16/7oHaBY/z48ZL1+k5n6tevL/nXX38FAJw5c0bKkiV72C+ZOXOmZPOZ0sNZfXZlsA3bU6RIIXncuHEAgCZNmkhZhgwZnD7OrIM126YB4LPPPpMcGxsb72f173m1atUk6/fXl9jzJCKywMaTiMiCR4fturv+4MEDjz1vmjRpJOsZtxEjRgAAfvjhBylbu3atZD3sdmeLV4cOHQAAy5cvlzIzNAtGFy9elGxmeb/55hspq1y5suQaNWpIXrFihQ9qFzgSm1lft26dZD0bfOXKlXg/q69E2bp1q+SmTZsCcPwqpVixYpIrVaokecuWLa5U268GDRok2fzemC2ogOPwWytSpAgAoHr16lKm14mvWbNGsplN18P2smXLSuawnYgoiLDxJCKyEBR3GOkZPX2I7/fff++V13v22WcBAOnSpfPK8/vTb7/9BgD4999/pUwvatYzv0lt2J4YfQqXs6G6K8zjmjdvLmX6kPDo6GjJpUuXBhDYN5rqGy/DwsIAACtXrpQyfRC3Zk5CMwelA8DcuXMlm683Ahl7nkREFoKi50meY67caNeunZRNnTpV8jPPPCPZ9LyvXr3qm8oFOL32U0+42fRC9SRR5syZJWfNmlWyPlwkkOjPSOPGjSWbSeKlS5cm+hzmsJp58+ZJmZ7s7d+/v2SzNllvee3cubPk7t27u1x3T2LPk4jIAhtPIiILHh22X7hwQXKmTJlcfpxeE3fq1CkAjtu69KkzvmCGYebsxVCk1xl++OGHkvU6Q7OGT2/fTMr0lsBDhw5J1p9fV+nPtJ6wO3LkiOSbN2+6/by+oH8v9GSWOUlNr7t2h16PrM87PXv2LADnW7MBoGHDhpKXLFli9do22PMkIrLAxpOIyIJHh+16TddPP/3k8uP06T3mRKN8+fJJmb6pUM/ueZI5nBUAunbtCsBxW11SZG59NKflAI5XeiRlesb5cf3999+S9ef79OnTHnsNTzKHEwPA9u3bJZu6d+nSRcr0dRq2zElTeo23Xgeqt2GbNab69lJvYc+TiMgCG08iIgsBsUheb4OcNm0aAKB9+/ZSZoaPgOPWL3eYg2714at6ga4etv/4449WrxGsoqKiJOstrxkzZgTwcJsgwGG7sWrVKslmVrxBgwZSpg9D1sxMtf6MnThxQrLZxBAs9FcOhl7A7olhu1nNoG8Z1cP2EiVKSDYnu9nO+LuDPU8iIgse7Xnq8wf1kfqtWrUC4Hg/eELy5s0LwPFe5qNHj0rWW+T0tQeJiYmJAQBcu3ZNyvT1HsHMrM0sV66clOkbG7U5c+YAcLynXp+dqM8wbd26NQBgxowZUmbOYQSc9zqC2dixYyWXL1/+kT+rR0ZmYueNN96QsoR6nqaXajuCCjSTJk2SbD4verupvkX3cQ840Wfq6jZBtyum98+eJxFRgGLjSURkwaPDdr2dTE9CmOsy3Dl9xkxW/DcvWrRI8qxZswAAs2fPljI9LNcC+UxEV+nrSPTf+dVXXwXg2jZW8++i/6301y0HDx6M95innnpKcq9evSTrbZ2hQN8cumPHDgCOk2WJ0Vtek4q4uDjJZr2lvoW0R48ekvVJSXfv3nX5NZ544n/NlP4qSm/f1lf+6C2e3saeJxGRBTaeREQWAmKdpzsqVKgQL9euXVvK9HB0zJgxkvU2smClVxroNYWGHrLMnz9fst7emidPHgBAqlSppKxmzZpOszP6/ddfI+gttsFKr/U1qxL0GkJ9GO/HH38suWfPnj6oXeAzhyDrr3b06Uj6aw3z+6hnykuVKuX0ec1wXd/sqpnbNQGgX79+btbaHnueREQW2HgSEVnwybD9xo0bABxPotEnr0RGRkpOnTq1289fr149p+Wvvfaa5Lp16wJIeMZ/7969km0Ot/UFfcuiM3369JGsF7brw3bNvTj61CqziQEAWrZsKVnfp2Po2w71iopQm3n/8ssvATjO8BYqVEhy0aJFfV6nQGdWtAwZMkTKvvvuO8n6biMz864PTR86dKhkPYPujP56Tt/46suNL+x5EhFZ8EnP0/xfRF/Tobdv6v+LVK1aFYDjJIctvT4xNjb2kT/bpk0byWayINDoNay///67ZHMTo+nh/5e+o93Q/xZ625tZOwsAzZo1AwB07NhRyo4dOyY5KZ93+vLLL0s2k3eu3BqZFOiJIbMGGXA8q/Trr792+3n3798vWU9KJfa77S3seRIRWWDjSURkISDWeZpj9oGHQ+Zvv/1WyvTEj7foMwgDddiuh996Das5A7VKlSpSptd5usNsS9RZX3OgJ9Pc2WIXavQZtPoUIXK8psNcqwM4nt41YMAAAI7rPMPCwiTrr0CWLVsGAIiOjpYyZ19F+Rp7nkREFth4EhFZCIhhu2YO2NUHy5pTVQAgIiJCsllbqLd1pUiRwup19SG/7dq1AwBMnTrV6rl8Yfr06U6zN9y+fdurzx/IDh06JFmv89SGDRsGwPGkq6T8niVEr+TQOVix50lEZIGNJxGRhYAbtht62KPzkiVL4mW9vdMssgfcm6Xft2+f5EAerpNv6buK9L04+oSfLFmyAHC85VXf9EihiT1PIiILAdvzdMfw4cMl6zWa+gt+s2VMr8/T68p0JjL0GZ/169eXrEdAZgtieHi4lLHnGfrY8yQissDGk4jIQkgM27UTJ044zfpMSyIb+qoRfQrXvHnzAAATJ070eZ3If9jzJCKywMaTiMhCyA3biXzh9OnTkqtVq+bHmpC/sOdJRGSBjScRkQU2nkREFth4EhFZCIuKinr0BclERBQPe55ERBbYeBIRWWDjSURkgY0nEZEFNp5ERBb+Dz+12H9TlgNCAAAAAElFTkSuQmCC\" y=\"-6.344262\"/>\n",
       "   </g>\n",
       "  </g>\n",
       " </g>\n",
       " <defs>\n",
       "  <clipPath id=\"p470881713a\">\n",
       "   <rect height=\"170.144262\" width=\"334.8\" x=\"7.2\" y=\"7.2\"/>\n",
       "  </clipPath>\n",
       " </defs>\n",
       "</svg>\n"
      ],
      "text/plain": [
       "<Figure size 432x288 with 1 Axes>"
      ]
     },
     "metadata": {},
     "output_type": "display_data"
    }
   ],
   "source": [
    "if USE_NOTEBOOK:\n",
    "\n",
    "    def show_imgs(imgs):\n",
    "        num_imgs = imgs.shape[0] if isinstance(imgs, torch.Tensor) else len(imgs)\n",
    "        nrow = min(num_imgs, 4)\n",
    "        ncol = int(math.ceil(num_imgs/nrow))\n",
    "        imgs = torchvision.utils.make_grid(imgs, nrow=nrow, pad_value=128)\n",
    "        np_imgs = imgs.cpu().numpy()\n",
    "        plt.figure(figsize=(1.5*nrow, 1.5*ncol))\n",
    "        plt.axis('off')\n",
    "        plt.show()\n",
    "        plt.close()\n",
    "\n",
    "    show_imgs([train_set[i][0] for i in range(8)])\n",
    "\n",
    "else:\n",
    "    def show_imgs(imgs):\n",
    "        pass"
   ]
  },
  {
   "cell_type": "markdown",
   "metadata": {},
   "source": [
    "## Flows on images"
   ]
  },
  {
   "cell_type": "code",
   "execution_count": 4,
   "metadata": {},
   "outputs": [],
   "source": [
    "class ImageFlow(nn.Module):\n",
    "    \n",
    "    def __init__(self, flows):\n",
    "        super().__init__()\n",
    "        self.prior = torch.distributions.normal.Normal(loc=0.0, scale=1.0)\n",
    "        self.flows = nn.ModuleList(flows)\n",
    "        \n",
    "    def forward(self, imgs, return_nll=False):\n",
    "        z = imgs\n",
    "        ldj = torch.zeros(z.shape[0], device=device)\n",
    "        for flow in self.flows:\n",
    "            z, ldj = flow(z, ldj, reverse=False)\n",
    "        log_pz = self.prior.log_prob(z).sum(dim=[1,2,3])\n",
    "        log_px = ldj + log_pz\n",
    "        nll = -log_px\n",
    "        if return_nll:\n",
    "            return nll\n",
    "        else:\n",
    "            # Calculating bits per dimension\n",
    "            bpd = nll * np.log2(np.exp(1)) / np.prod(imgs.shape[1:])\n",
    "            return bpd\n",
    "        \n",
    "    def sample(self, img_shape, z_init=None):\n",
    "        if z_init is None:\n",
    "            z = self.prior.sample(sample_shape=img_shape).to(device)\n",
    "        else:\n",
    "            z = z_init.to(device)\n",
    "        ldj = torch.zeros(img_shape[0], device=device)\n",
    "        with torch.no_grad():\n",
    "            for flow in reversed(self.flows):\n",
    "                z, ldj = flow(z, ldj, reverse=True)\n",
    "        return z\n",
    "        "
   ]
  },
  {
   "cell_type": "markdown",
   "metadata": {},
   "source": [
    "### Dequantization"
   ]
  },
  {
   "cell_type": "code",
   "execution_count": 5,
   "metadata": {},
   "outputs": [],
   "source": [
    "class Dequantization(nn.Module):\n",
    "    \n",
    "    def __init__(self, alpha=1e-5, quants=256):\n",
    "        super().__init__()\n",
    "        self.alpha = alpha\n",
    "        self.quants = quants \n",
    "        \n",
    "    def forward(self, z, ldj, reverse=False):\n",
    "        if not reverse:\n",
    "            z, ldj = self.dequant(z, ldj)\n",
    "            z, ldj = self.sigmoid(z, ldj, reverse=True)\n",
    "        else:\n",
    "            z, ldj = self.sigmoid(z, ldj, reverse=False)\n",
    "            z = z * self.quants\n",
    "            z = torch.floor(z).clamp(min=0, max=self.quants-1).to(torch.int32)\n",
    "        return z, ldj\n",
    "    \n",
    "    def sigmoid(self, z, ldj, reverse=False):\n",
    "        if not reverse:\n",
    "            ldj += (-z-2*F.softplus(-z)).sum(dim=[1,2,3])\n",
    "            z = torch.sigmoid(z)\n",
    "        else:\n",
    "            z = z * (1 - self.alpha) + 0.5 * self.alpha\n",
    "            ldj += np.log(1 - self.alpha) * np.prod(z.shape[1:])\n",
    "            ldj += (-torch.log(z) - torch.log(1-z)).sum(dim=[1,2,3])\n",
    "            z = torch.log(z) - torch.log(1-z)\n",
    "        return z, ldj\n",
    "    \n",
    "    def dequant(self, z, ldj):\n",
    "        z = z.to(torch.float32) \n",
    "        z = z + torch.rand_like(z)\n",
    "        z = z / self.quants\n",
    "        ldj -= np.log(self.quants) * np.prod(z.shape[1:])\n",
    "        return z, ldj"
   ]
  },
  {
   "cell_type": "code",
   "execution_count": 6,
   "metadata": {},
   "outputs": [
    {
     "name": "stdout",
     "output_type": "stream",
     "text": [
      "Orig tensor(0, dtype=torch.int32)\n",
      "Reconst tensor(1, dtype=torch.int32)\n"
     ]
    }
   ],
   "source": [
    "orig_img = train_set[0][0].unsqueeze(dim=0)\n",
    "ldj = torch.zeros(1,)\n",
    "dequant_module = Dequantization()\n",
    "deq_img, ldj = dequant_module(orig_img, ldj, reverse=False)\n",
    "reconst_img, ldj = dequant_module(deq_img, ldj, reverse=True)\n",
    "\n",
    "d1, d2 = torch.where(orig_img.squeeze() != reconst_img.squeeze())\n",
    "for i in range(d1.shape[0]):\n",
    "    print(\"Orig\", orig_img[0,0,d1[i], d2[i]])\n",
    "    print(\"Reconst\", reconst_img[0,0,d1[i], d2[i]])\n",
    "\n",
    "# Layer is not strictly invertible due to float precision constraints\n",
    "# assert (orig_img == reconst_img).all().item()"
   ]
  },
  {
   "cell_type": "code",
   "execution_count": 7,
   "metadata": {},
   "outputs": [],
   "source": [
    "if USE_NOTEBOOK:\n",
    "    quants = 8\n",
    "    inp = torch.arange(-4, 4, 0.01).view(-1, 1, 1, 1)\n",
    "    ldj = torch.zeros(inp.shape[0])\n",
    "    dequant_module = Dequantization(quants=quants)\n",
    "\n",
    "    sns.set_style(\"white\")\n",
    "    out, ldj = dequant_module.forward(inp, ldj, reverse=True)\n",
    "    inp, out, prob = inp.squeeze().numpy(), out.squeeze().numpy(), ldj.exp().numpy()\n",
    "    fig = plt.figure(figsize=(6,3))\n",
    "    x_ticks = []\n",
    "    for v in np.unique(out):\n",
    "        indices = np.where(out==v)\n",
    "        color = to_rgb(\"C%i\"%v)\n",
    "        plt.fill_between(inp[indices], prob[indices], np.zeros(indices[0].shape[0]), color=color+(0.5,), label=str(v))\n",
    "        plt.plot([inp[indices[0][0]]]*2,  [0, prob[indices[0][0]]],  color=color)\n",
    "        plt.plot([inp[indices[0][-1]]]*2, [0, prob[indices[0][-1]]], color=color)\n",
    "        x_ticks.append(inp[indices[0][0]])\n",
    "    x_ticks.append(inp.max())\n",
    "    plt.xticks(x_ticks, [\"%.1f\"%x for x in x_ticks])\n",
    "    plt.plot(inp,prob, color=(0.0,0.0,0.0))\n",
    "    \n",
    "    plt.ylim(0, prob.max()*1.1)\n",
    "    plt.xlim(inp.min(), inp.max())\n",
    "    plt.xlabel(\"z\")\n",
    "    plt.ylabel(\"Probability\")\n",
    "    plt.title(\"Dequantization distribution for %i discrete values\" % quants)\n",
    "    plt.legend()\n",
    "    plt.show()"
   ]
  },
  {
   "cell_type": "code",
   "execution_count": 8,
   "metadata": {},
   "outputs": [],
   "source": [
    "class VariationalDequantization(Dequantization):\n",
    "    \n",
    "    def __init__(self, var_flows, alpha=1e-5):\n",
    "        super().__init__(alpha=alpha)\n",
    "        self.flows = nn.ModuleList(var_flows)\n",
    "        \n",
    "    def dequant(self, z, ldj):\n",
    "        z = z.to(torch.float32)\n",
    "        img = (z / 255.0) * 2 - 1\n",
    "        deq_noise = torch.rand_like(z)\n",
    "        deq_noise, ldj = self.sigmoid(deq_noise, ldj, reverse=True)\n",
    "        for flow in self.flows:\n",
    "            deq_noise, ldj = flow(deq_noise, ldj, reverse=False, orig_img=img)\n",
    "        deq_noise, ldj = self.sigmoid(deq_noise, ldj, reverse=False)\n",
    "        z = (z + deq_noise) / 256.0\n",
    "        ldj -= np.log(256.0) * np.prod(z.shape[1:])\n",
    "        return z, ldj"
   ]
  },
  {
   "cell_type": "markdown",
   "metadata": {},
   "source": [
    "### Coupling layers"
   ]
  },
  {
   "cell_type": "code",
   "execution_count": 9,
   "metadata": {},
   "outputs": [],
   "source": [
    "class CouplingLayer(nn.Module):\n",
    "    \n",
    "    def __init__(self, network, mask, c_in):\n",
    "        super().__init__()\n",
    "        self.register_buffer('mask', mask)\n",
    "        self.network = network\n",
    "        self.scaling_factor = nn.Parameter(torch.zeros(c_in))\n",
    "    \n",
    "    def forward(self, z, ldj, reverse=False, orig_img=None):\n",
    "        z_in = z * self.mask\n",
    "        if orig_img is None:\n",
    "            nn_out = self.network(z_in)\n",
    "        else:\n",
    "            nn_out = self.network(torch.cat([z_in, orig_img], dim=1))\n",
    "        s, t = nn_out.chunk(2, dim=1)\n",
    "        ## Stabilize scaling output\n",
    "        s_fac = self.scaling_factor.exp().view(1, -1, 1, 1)\n",
    "        s = torch.tanh(s / s_fac) * s_fac\n",
    "        \n",
    "        s = s * (1 - self.mask)\n",
    "        t = t * (1 - self.mask)\n",
    "        \n",
    "        if not reverse:\n",
    "            z = (z + t) * torch.exp(s)\n",
    "            ldj += s.sum(dim=[1,2,3])\n",
    "        else:\n",
    "            z = (z * torch.exp(-s)) - t\n",
    "            ldj -= s.sum(dim=[1,2,3])\n",
    "        return z, ldj"
   ]
  },
  {
   "cell_type": "code",
   "execution_count": 10,
   "metadata": {},
   "outputs": [],
   "source": [
    "def create_checkerboard_mask(h, w, invert=False):\n",
    "    x, y = torch.arange(h, dtype=torch.int32), torch.arange(w, dtype=torch.int32)\n",
    "    xx, yy = torch.meshgrid(x, y)\n",
    "    mask = torch.fmod(xx + yy, 2)\n",
    "    mask = mask.to(torch.float32).view(1, 1, h, w)\n",
    "    if invert:\n",
    "        mask = 1 - mask\n",
    "    return mask\n",
    "\n",
    "def create_channel_mask(c_in, invert=False):\n",
    "    mask = torch.cat([torch.ones(c_in//2, dtype=torch.float32), \n",
    "                      torch.zeros(c_in-c_in//2, dtype=torch.float32)])\n",
    "    mask = mask.view(1, c_in, 1, 1)\n",
    "    if invert:\n",
    "        mask = 1 - mask\n",
    "    return mask"
   ]
  },
  {
   "cell_type": "code",
   "execution_count": 11,
   "metadata": {},
   "outputs": [],
   "source": [
    "class ConcatELU(nn.Module):\n",
    "    \n",
    "    def forward(self, x):\n",
    "        return torch.cat([F.elu(x), F.elu(-x)], dim=1)\n",
    "    \n",
    "class LayerNormChannels(nn.Module):\n",
    "    \n",
    "    def __init__(self, c_in):\n",
    "        super().__init__()\n",
    "        self.layer_norm = nn.LayerNorm(c_in)\n",
    "    \n",
    "    def forward(self, x):\n",
    "        x = x.permute(0, 2, 3, 1)\n",
    "        x = self.layer_norm(x)\n",
    "        x = x.permute(0, 3, 1, 2)\n",
    "        return x\n",
    "\n",
    "class GatedConv(nn.Module):\n",
    "    def __init__(self, c_in, c_hidden):\n",
    "        super().__init__()\n",
    "        self.net = nn.Sequential(\n",
    "            nn.Conv2d(c_in, c_hidden, 3, padding=1),\n",
    "            ConcatELU(),\n",
    "            nn.Conv2d(2*c_hidden, 2*c_in, 1)\n",
    "        )\n",
    "    \n",
    "    def forward(self, x):\n",
    "        out = self.net(x)\n",
    "        val, gate = out.chunk(2, dim=1)\n",
    "        return x + val * torch.sigmoid(gate)\n",
    "\n",
    "class GatedConvNet(nn.Module):\n",
    "    def __init__(self, c_in, c_hidden=32, c_out=-1, num_layers=4):\n",
    "        super().__init__()\n",
    "        c_out = c_out if c_out > 0 else 2 * c_in\n",
    "        layers = []\n",
    "        layers += [nn.Conv2d(c_in, c_hidden, 3, padding=1)]\n",
    "        for layer_index in range(num_layers):\n",
    "            layers += [GatedConv(c_hidden, c_hidden),\n",
    "                       LayerNormChannels(c_hidden)]\n",
    "        layers += [ConcatELU(),\n",
    "                   nn.Conv2d(2*c_hidden, c_out, 3, padding=1)]\n",
    "        self.nn = nn.Sequential(*layers)\n",
    "        \n",
    "        self.nn[-1].weight.data.zero_()\n",
    "        self.nn[-1].bias.data.zero_()\n",
    "    \n",
    "    def forward(self, x):\n",
    "        return self.nn(x)"
   ]
  },
  {
   "cell_type": "markdown",
   "metadata": {},
   "source": [
    "### Training loop"
   ]
  },
  {
   "cell_type": "code",
   "execution_count": 12,
   "metadata": {},
   "outputs": [],
   "source": [
    "def train_flow(flow, max_epochs=80, sample_shape=(8,1,28,28), model_name=\"MNISTFlow\"):\n",
    "    optimizer = optim.Adam(flow.parameters(), lr=1e-3)\n",
    "    lr_scheduler = optim.lr_scheduler.StepLR(optimizer, 1, gamma=0.98) # Every epoch, we multiply the LR by 0.98\n",
    "    train_loader = data.DataLoader(train_set, batch_size=128, shuffle=True, drop_last=True)\n",
    "    \n",
    "    print(\"Start training %s...\" % model_name)\n",
    "    \n",
    "    avg_bpd = 8.0\n",
    "    \n",
    "    val_scores = []\n",
    "    for epoch in range(max_epochs):\n",
    "        pbar = tqdm(train_loader, leave=False) if USE_NOTEBOOK else train_loader\n",
    "        for imgs, _ in pbar:\n",
    "            imgs = imgs.to(device)\n",
    "            optimizer.zero_grad()\n",
    "            bpd = flow(imgs).mean()\n",
    "            bpd.backward()\n",
    "            nn.utils.clip_grad_norm_(flow.parameters(), 1.0)\n",
    "            optimizer.step()\n",
    "            \n",
    "            avg_bpd = 0.95 * avg_bpd + 0.05 * bpd.item()\n",
    "            if USE_NOTEBOOK:\n",
    "                pbar.set_description(\"[Epoch %i] Bits per dimension: %5.3fbpd\" % (epoch+1, avg_bpd))\n",
    "        lr_scheduler.step()\n",
    "        if not USE_NOTEBOOK:\n",
    "            print(\"Training bpd: %5.3fbpd\" % avg_bpd)\n",
    "        val_bpd = test_flow(flow, val_loader)\n",
    "        print(\"[Epoch %2i] Validation bits per dimension: %5.3fbpd\" % (epoch+1, val_bpd))\n",
    "        \n",
    "        if len(val_scores) == 0 or val_bpd < min(val_scores):\n",
    "            print(\"\\t   (New best performance, saving model...)\")\n",
    "            save_model(flow, CHECKPOINT_PATH, model_name)\n",
    "        val_scores.append(val_bpd)\n",
    "        \n",
    "        if (epoch+1) % 5 == 0:\n",
    "            samples = flow.sample(img_shape=sample_shape)\n",
    "            show_imgs(samples.cpu())\n",
    "            \n",
    "    if USE_NOTEBOOK:\n",
    "        # Plot a curve of the validation accuracy\n",
    "        sns.set()\n",
    "        plt.plot([i for i in range(1,len(val_scores)+1)], val_scores)\n",
    "        plt.xlabel(\"Epochs\")\n",
    "        plt.ylabel(\"Validation bits per dimension\")\n",
    "        plt.title(\"Validation performance of %s\" % model_name)\n",
    "        plt.show()\n",
    "        plt.close()\n",
    "    else:\n",
    "        print(\"Val scores\", val_scores)\n",
    "    \n",
    "    test_bpd = test_flow(flow, test_loader)\n",
    "    print(\"Test bits per dimension: %5.3fbpd\" % (test_bpd))\n",
    "    \n",
    "def test_flow(flow, data_loader, import_samples=2):\n",
    "    flow.eval()\n",
    "    test_bpd, counter = 0.0, 0\n",
    "    for imgs, _ in (tqdm(data_loader, leave=False, desc=\"Testing...\") if USE_NOTEBOOK else data_loader):\n",
    "        imgs = imgs.to(device)\n",
    "        with torch.no_grad():\n",
    "            samples = []\n",
    "            for _ in range(import_samples):\n",
    "                img_nll = flow(imgs, return_nll=True)\n",
    "                samples.append(img_nll)\n",
    "            img_nll = torch.stack(samples, dim=-1)\n",
    "            img_nll = torch.logsumexp(img_nll, dim=-1) - np.log(import_samples)\n",
    "            img_bpd = img_nll * np.log2(np.exp(1)) / np.prod(imgs.shape[1:])\n",
    "            \n",
    "            test_bpd += img_bpd.sum().item()\n",
    "            counter += img_bpd.shape[0]\n",
    "    test_bpd = test_bpd / counter\n",
    "    return test_bpd \n",
    "\n",
    "def save_model(model, model_path, model_name):\n",
    "    os.makedirs(model_path, exist_ok=True)\n",
    "    torch.save(model.state_dict(), os.path.join(model_path, model_name + \".tar\"))"
   ]
  },
  {
   "cell_type": "code",
   "execution_count": 13,
   "metadata": {
    "scrolled": true
   },
   "outputs": [],
   "source": [
    "def create_simple_flow(use_vardeq=True):\n",
    "    set_seed(42)\n",
    "    flow_layers = []\n",
    "    if use_vardeq:\n",
    "        vardeq_layers = [CouplingLayer(network=GatedConvNet(c_in=2, c_out=2),\n",
    "                                       mask=create_checkerboard_mask(h=28, w=28, invert=(i%2==1)),\n",
    "                                       c_in=1) for i in range(4)]\n",
    "        flow_layers += [VariationalDequantization(var_flows=vardeq_layers)]\n",
    "    else:\n",
    "        flow_layers += [Dequantization()]\n",
    "    for i in range(8):\n",
    "        flow_layers += [CouplingLayer(network=GatedConvNet(c_in=1),\n",
    "                                      mask=create_checkerboard_mask(h=28, w=28, invert=(i%2==1)),\n",
    "                                      c_in=1)]\n",
    "    flow_model = ImageFlow(flow_layers).to(device)\n",
    "    return flow_model\n",
    "# train_flow(flow_model, model_name=model_name)"
   ]
  },
  {
   "cell_type": "markdown",
   "metadata": {},
   "source": [
    "## Multi-scale architecture"
   ]
  },
  {
   "cell_type": "markdown",
   "metadata": {},
   "source": [
    "### Squeeze and Split"
   ]
  },
  {
   "cell_type": "code",
   "execution_count": 14,
   "metadata": {},
   "outputs": [],
   "source": [
    "class SqueezeFlow(nn.Module):\n",
    "    \n",
    "    def forward(self, z, ldj, reverse=False):\n",
    "        B, C, H, W = z.shape\n",
    "        if not reverse:\n",
    "            z = z.reshape(B, C, H//2, 2, W//2, 2)\n",
    "            z = z.permute(0, 1, 3, 5, 2, 4)\n",
    "            z = z.reshape(B, 4*C, H//2, W//2)\n",
    "        else:\n",
    "            z = z.reshape(B, C//4, 2, 2, H, W)\n",
    "            z = z.permute(0, 1, 4, 2, 5, 3)\n",
    "            z = z.reshape(B, C//4, H*2, W*2)\n",
    "        return z, ldj"
   ]
  },
  {
   "cell_type": "code",
   "execution_count": 15,
   "metadata": {},
   "outputs": [
    {
     "name": "stdout",
     "output_type": "stream",
     "text": [
      "Image (before)\n",
      " tensor([[[[ 0,  1,  2,  3],\n",
      "          [ 4,  5,  6,  7],\n",
      "          [ 8,  9, 10, 11],\n",
      "          [12, 13, 14, 15]]]])\n",
      "Image (forward)\n",
      " tensor([[[[ 0,  2],\n",
      "          [ 8, 10]],\n",
      "\n",
      "         [[ 1,  3],\n",
      "          [ 9, 11]],\n",
      "\n",
      "         [[ 4,  6],\n",
      "          [12, 14]],\n",
      "\n",
      "         [[ 5,  7],\n",
      "          [13, 15]]]])\n",
      "Image (reverse)\n",
      " tensor([[[[ 0,  1,  2,  3],\n",
      "          [ 4,  5,  6,  7],\n",
      "          [ 8,  9, 10, 11],\n",
      "          [12, 13, 14, 15]]]])\n"
     ]
    }
   ],
   "source": [
    "sq_flow = SqueezeFlow()\n",
    "rand_img = torch.arange(16).view(1, 1, 4, 4)\n",
    "print(\"Image (before)\\n\", rand_img)\n",
    "forward_img, _ = sq_flow(rand_img, ldj=None, reverse=False)\n",
    "print(\"Image (forward)\\n\", forward_img)\n",
    "reconst_img, _ = sq_flow(forward_img, ldj=None, reverse=True)\n",
    "print(\"Image (reverse)\\n\", reconst_img)"
   ]
  },
  {
   "cell_type": "code",
   "execution_count": 16,
   "metadata": {},
   "outputs": [],
   "source": [
    "class SplitFlow(nn.Module):\n",
    "    \n",
    "    def __init__(self):\n",
    "        super().__init__()\n",
    "        self.prior = torch.distributions.normal.Normal(loc=0.0, scale=1.0)\n",
    "    \n",
    "    def forward(self, z, ldj, reverse=False):\n",
    "        if not reverse:\n",
    "            z, z_split = z.chunk(2, dim=1)\n",
    "            ldj += self.prior.log_prob(z_split).sum(dim=[1,2,3])\n",
    "        else:\n",
    "            z_split = self.prior.sample(sample_shape=z.shape).to(device)\n",
    "            z = torch.cat([z, z_split], dim=1)\n",
    "            ldj -= self.prior.log_prob(z_split).sum(dim=[1,2,3])\n",
    "        return z, ldj"
   ]
  },
  {
   "cell_type": "markdown",
   "metadata": {},
   "source": [
    "### Invertible 1x1 Convolution"
   ]
  },
  {
   "cell_type": "code",
   "execution_count": 17,
   "metadata": {},
   "outputs": [],
   "source": [
    "class Invertible1x1Conv(nn.Module):\n",
    "    \n",
    "    def __init__(self, c_in):\n",
    "        super().__init__()\n",
    "        w_init = np.random.randn(c_in, c_in)\n",
    "        w_init = np.linalg.qr(w_init)[0].astype(np.float32)\n",
    "        self.weight = nn.Parameter(torch.from_numpy(w_init))\n",
    "    \n",
    "    def forward(self, z, ldj, reverse=False):\n",
    "        weight_ldj = torch.slogdet(self.weight)[1]\n",
    "        weight_ldj = weight_ldj * z.shape[2] * z.shape[3]\n",
    "        if not reverse:\n",
    "            w = self.weight\n",
    "            ldj += weight_ldj\n",
    "        else:\n",
    "            w = torch.inverse(self.weight.double()).float()\n",
    "            ldj -= weight_ldj\n",
    "        \n",
    "        z = F.conv2d(z, w[:,:,None,None])\n",
    "        return z, ldj"
   ]
  },
  {
   "cell_type": "code",
   "execution_count": 18,
   "metadata": {},
   "outputs": [],
   "source": [
    "class Invertible1x1ConvLU(nn.Module):\n",
    "    \n",
    "    def __init__(self, c_in):\n",
    "        super().__init__()\n",
    "        w_init = np.random.randn(c_in, c_in)\n",
    "        w_init = np.linalg.qr(w_init)[0].astype(np.float32)\n",
    "        \n",
    "        # LU decomposition can slightly speed up the inverse\n",
    "        np_p, np_l, np_u = scipy.linalg.lu(w_init)\n",
    "        np_s = np.diag(np_u)\n",
    "        np_sign_s = np.sign(np_s)\n",
    "        np_log_s = np.log(np.abs(np_s))\n",
    "        np_u = np.triu(np_u, k=1)\n",
    "        l_mask = np.tril(np.ones(w_init.shape, dtype=np.float32), -1)\n",
    "        eye = np.eye(*w_init.shape, dtype=np.float32)\n",
    "\n",
    "        self.register_buffer('p', torch.Tensor(np_p.astype(np.float32)))\n",
    "        self.register_buffer('sign_s', torch.Tensor(np_sign_s.astype(np.float32)))\n",
    "        self.l = nn.Parameter(torch.Tensor(np_l.astype(np.float32)), requires_grad=True)\n",
    "        self.log_s = nn.Parameter(torch.Tensor(np_log_s.astype(np.float32)), requires_grad=True)\n",
    "        self.u = nn.Parameter(torch.Tensor(np_u.astype(np.float32)), requires_grad=True)\n",
    "        self.register_buffer('l_mask', torch.Tensor(l_mask))\n",
    "        self.register_buffer('eye', torch.Tensor(eye))\n",
    "    \n",
    "    def forward(self, z, ldj, reverse=False):\n",
    "        l, log_s, u = self.l, self.log_s, self.u\n",
    "        l = l * self.l_mask + self.eye\n",
    "        u = u * self.l_mask.transpose(0, 1).contiguous() + torch.diag(self.sign_s * torch.exp(log_s))\n",
    "        w = torch.matmul(self.p, torch.matmul(l, u))\n",
    "        weight_ldj = log_s.sum()\n",
    "        weight_ldj = weight_ldj * z.shape[2] * z.shape[3]\n",
    "        if not reverse:\n",
    "            ldj += weight_ldj\n",
    "        else:\n",
    "            w = torch.inverse(w.double()).float()\n",
    "            ldj -= weight_ldj\n",
    "        \n",
    "        z = F.conv2d(z, w[:,:,None,None])\n",
    "        return z, ldj"
   ]
  },
  {
   "cell_type": "code",
   "execution_count": 19,
   "metadata": {},
   "outputs": [],
   "source": [
    "def create_multiscale_flow(use_vardeq=True, use_1x1_convs=True):\n",
    "    set_seed(42)\n",
    "    flow_layers = []\n",
    "    if use_vardeq:\n",
    "        vardeq_layers = [CouplingLayer(network=GatedConvNet(c_in=2, c_out=2),\n",
    "                                       mask=create_checkerboard_mask(h=28, w=28, invert=(i%2==1)),\n",
    "                                       c_in=1) for i in range(4)]\n",
    "        flow_layers += [VariationalDequantization(vardeq_layers)]\n",
    "    else:\n",
    "        flow_layers += [Dequantization()]\n",
    "    \n",
    "    flow_layers += [CouplingLayer(network=GatedConvNet(c_in=1),\n",
    "                                  mask=create_checkerboard_mask(h=28, w=28, invert=(i%2==1)),\n",
    "                                  c_in=1) for i in range(2)]\n",
    "    flow_layers += [SqueezeFlow()]\n",
    "    for i in range(2):\n",
    "        if use_1x1_convs:\n",
    "            flow_layers += [Invertible1x1ConvLU(c_in=4)]\n",
    "        flow_layers += [CouplingLayer(network=GatedConvNet(c_in=4, c_hidden=48),\n",
    "                                      mask=create_channel_mask(c_in=4, invert=(i%2==1)),\n",
    "                                      c_in=4)]\n",
    "    if use_1x1_convs:\n",
    "        flow_layers += [Invertible1x1ConvLU(c_in=4)]\n",
    "    flow_layers += [SplitFlow(),\n",
    "                    SqueezeFlow()]\n",
    "    for i in range(4):\n",
    "        if use_1x1_convs:\n",
    "            flow_layers += [Invertible1x1ConvLU(c_in=8)]\n",
    "        flow_layers += [CouplingLayer(network=GatedConvNet(c_in=8, c_hidden=64),\n",
    "                                      mask=create_channel_mask(c_in=8, invert=(i%2==1)),\n",
    "                                      c_in=8)]\n",
    "\n",
    "\n",
    "    flow_model = ImageFlow(flow_layers).to(device)\n",
    "    return flow_model\n",
    "# train_flow(flow_model, sample_shape=[8,8,7,7], model_name=model_name)"
   ]
  },
  {
   "cell_type": "code",
   "execution_count": 20,
   "metadata": {},
   "outputs": [
    {
     "name": "stdout",
     "output_type": "stream",
     "text": [
      "Number of parameters: 442,904\n",
      "Number of parameters: 665,508\n",
      "Number of parameters: 1,541,866\n",
      "Number of parameters: 1,542,518\n"
     ]
    }
   ],
   "source": [
    "def print_num_params(model):\n",
    "    num_params = sum([np.prod(p.shape) for p in model.parameters()])\n",
    "    print(\"Number of parameters: {:,}\".format(num_params))\n",
    "\n",
    "print_num_params(create_simple_flow(use_vardeq=False))\n",
    "print_num_params(create_simple_flow(use_vardeq=True))\n",
    "print_num_params(create_multiscale_flow(use_1x1_convs=False))\n",
    "print_num_params(create_multiscale_flow(use_1x1_convs=True))"
   ]
  },
  {
   "cell_type": "code",
   "execution_count": 21,
   "metadata": {},
   "outputs": [],
   "source": [
    "train_flow(create_simple_flow(use_vardeq=False), model_name=\"MNISTFlow_simple\")\n",
    "train_flow(create_simple_flow(use_vardeq=True), model_name=\"MNISTFlow_vardeq\")\n",
    "train_flow(create_multiscale_flow(use_1x1_convs=False), model_name=\"MNISTFlow_multiscale\", sample_shape=[8,8,7,7])\n",
    "# train_flow(create_multiscale_flow(use_1x1_convs=True), model_name=\"MNISTFlow_multiscale_1x1_attn\", sample_shape=[8,8,7,7])\n",
    "# train_flow(create_multiscale_flow(use_1x1_convs=True), model_name=\"MNISTFlow_multiscale_1x1\", sample_shape=[8,8,7,7])"
   ]
  },
  {
   "cell_type": "markdown",
   "metadata": {},
   "source": [
    "## Analysing the flows"
   ]
  },
  {
   "cell_type": "markdown",
   "metadata": {},
   "source": [
    "### Density modeling and sampling"
   ]
  },
  {
   "cell_type": "code",
   "execution_count": 22,
   "metadata": {},
   "outputs": [],
   "source": [
    "flow_model_simple = create_simple_flow(use_vardeq=True)\n",
    "flow_model_simple.load_state_dict(torch.load(os.path.join(CHECKPOINT_PATH, \"MNISTFlow_vardeq.tar\")))\n",
    "samples = flow_model_simple.sample(img_shape=[16,1,28,28])\n",
    "show_imgs(samples.cpu())"
   ]
  },
  {
   "cell_type": "code",
   "execution_count": 47,
   "metadata": {},
   "outputs": [
    {
     "data": {
      "application/pdf": "[encoded data removed]",
      "image/svg+xml": [
       "<?xml version=\"1.0\" encoding=\"utf-8\" standalone=\"no\"?>\n",
       "<!DOCTYPE svg PUBLIC \"-//W3C//DTD SVG 1.1//EN\"\n",
       "  \"http://www.w3.org/Graphics/SVG/1.1/DTD/svg11.dtd\">\n",
       "<!-- Created with matplotlib (https://matplotlib.org/) -->\n",
       "<svg height=\"231.84pt\" version=\"1.1\" viewBox=\"0 0 231.84 231.84\" width=\"231.84pt\" xmlns=\"http://www.w3.org/2000/svg\" xmlns:xlink=\"http://www.w3.org/1999/xlink\">\n",
       " <metadata>\n",
       "  <rdf:RDF xmlns:cc=\"http://creativecommons.org/ns#\" xmlns:dc=\"http://purl.org/dc/elements/1.1/\" xmlns:rdf=\"http://www.w3.org/1999/02/22-rdf-syntax-ns#\">\n",
       "   <cc:Work>\n",
       "    <dc:type rdf:resource=\"http://purl.org/dc/dcmitype/StillImage\"/>\n",
       "    <dc:date>2020-08-02T23:45:32.397540</dc:date>\n",
       "    <dc:format>image/svg+xml</dc:format>\n",
       "    <dc:creator>\n",
       "     <cc:Agent>\n",
       "      <dc:title>Matplotlib v3.3.0, https://matplotlib.org/</dc:title>\n",
       "     </cc:Agent>\n",
       "    </dc:creator>\n",
       "   </cc:Work>\n",
       "  </rdf:RDF>\n",
       " </metadata>\n",
       " <defs>\n",
       "  <style type=\"text/css\">*{stroke-linecap:butt;stroke-linejoin:round;}</style>\n",
       " </defs>\n",
       " <g id=\"figure_1\">\n",
       "  <g id=\"patch_1\">\n",
       "   <path d=\"M 0 231.84 \n",
       "L 231.84 231.84 \n",
       "L 231.84 0 \n",
       "L 0 0 \n",
       "z\n",
       "\" style=\"fill:#ffffff;\"/>\n",
       "  </g>\n",
       "  <g id=\"axes_1\">\n",
       "   <g clip-path=\"url(#pc49a211059)\">\n",
       "    <image height=\"218\" id=\"image8cbd7453fa\" transform=\"scale(1 -1)translate(0 -218)\" width=\"218\" x=\"7.2\" xlink:href=\"data:image/png;base64,\n",
       "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\" y=\"-6.64\"/>\n",
       "   </g>\n",
       "  </g>\n",
       " </g>\n",
       " <defs>\n",
       "  <clipPath id=\"pc49a211059\">\n",
       "   <rect height=\"217.44\" width=\"217.44\" x=\"7.2\" y=\"7.2\"/>\n",
       "  </clipPath>\n",
       " </defs>\n",
       "</svg>\n"
      ],
      "text/plain": [
       "<Figure size 432x288 with 1 Axes>"
      ]
     },
     "metadata": {},
     "output_type": "display_data"
    }
   ],
   "source": [
    "flow_model_multiscale = create_multiscale_flow(use_vardeq=True, use_1x1_convs=True)\n",
    "flow_model_multiscale.load_state_dict(torch.load(os.path.join(CHECKPOINT_PATH, \"MNISTFlow_multiscale_1x1.tar\")))\n",
    "set_seed(42)\n",
    "samples = flow_model_multiscale.sample(img_shape=[16,8,7,7])\n",
    "show_imgs(samples.cpu())"
   ]
  },
  {
   "cell_type": "markdown",
   "metadata": {},
   "source": [
    "Use the following code to generate an overview of the results. The following things should be included:\n",
    "* Test performance (bpd)\n",
    "* Time took for testing (seconds)\n",
    "* Time took for sampling (seconds)\n",
    "* Number of parameters (million)"
   ]
  },
  {
   "cell_type": "code",
   "execution_count": 36,
   "metadata": {},
   "outputs": [],
   "source": [
    "if USE_NOTEBOOK:\n",
    "    from IPython.display import HTML, display\n",
    "    import tabulate\n",
    "    table = [[\"Sun\",696000,1989100000],\n",
    "             [\"Earth\",6371,5973.6],\n",
    "             [\"Moon\",1737,73.5],\n",
    "             [\"Mars\",3390,641.85]]\n",
    "    display(HTML(tabulate.tabulate(table, tablefmt='html')))"
   ]
  },
  {
   "cell_type": "markdown",
   "metadata": {},
   "source": [
    "### Interpolation in latent space\n",
    "\n",
    "Take two training images, and interpolate between their latent space"
   ]
  },
  {
   "cell_type": "markdown",
   "metadata": {},
   "source": [
    "### Visualization of latents in different levels of multi-scale\n",
    "Sample from higher level and show how images change or not"
   ]
  },
  {
   "cell_type": "code",
   "execution_count": 25,
   "metadata": {},
   "outputs": [
    {
     "data": {
      "text/plain": [
       "<All keys matched successfully>"
      ]
     },
     "execution_count": 25,
     "metadata": {},
     "output_type": "execute_result"
    }
   ],
   "source": [
    "multiscale_flow = create_multiscale_flow(use_1x1_convs=True)\n",
    "multiscale_flow.load_state_dict(torch.load(os.path.join(CHECKPOINT_PATH, \"MNISTFlow_multiscale_1x1.tar\")))"
   ]
  },
  {
   "cell_type": "code",
   "execution_count": 26,
   "metadata": {
    "scrolled": false
   },
   "outputs": [],
   "source": [
    "for _ in range(3):\n",
    "    z_init = multiscale_flow.prior.sample(sample_shape=[1,8,7,7])\n",
    "    z_init = z_init.expand(8, -1, -1, -1)\n",
    "    samples = multiscale_flow.sample(img_shape=z_init.shape, z_init=z_init)\n",
    "    show_imgs(samples.cpu())"
   ]
  },
  {
   "cell_type": "markdown",
   "metadata": {},
   "source": [
    "### Visualizing Dequantization"
   ]
  },
  {
   "cell_type": "code",
   "execution_count": 27,
   "metadata": {},
   "outputs": [
    {
     "data": {
      "text/plain": [
       "<All keys matched successfully>"
      ]
     },
     "execution_count": 27,
     "metadata": {},
     "output_type": "execute_result"
    }
   ],
   "source": [
    "dequant_flow = create_simple_flow(use_vardeq=False)\n",
    "dequant_flow.load_state_dict(torch.load(os.path.join(CHECKPOINT_PATH, \"MNISTFlow_simple.tar\")))"
   ]
  },
  {
   "cell_type": "code",
   "execution_count": 28,
   "metadata": {},
   "outputs": [
    {
     "data": {
      "text/plain": [
       "<All keys matched successfully>"
      ]
     },
     "execution_count": 28,
     "metadata": {},
     "output_type": "execute_result"
    }
   ],
   "source": [
    "vardeq_flow = create_simple_flow(use_vardeq=True)\n",
    "vardeq_flow.load_state_dict(torch.load(os.path.join(CHECKPOINT_PATH, \"MNISTFlow_vardeq.tar\")))"
   ]
  },
  {
   "cell_type": "code",
   "execution_count": 32,
   "metadata": {},
   "outputs": [],
   "source": [
    "if USE_NOTEBOOK:\n",
    "    def visualize_dequant_distribution(model, imgs):\n",
    "        imgs = imgs.to(device)\n",
    "        ldj = torch.zeros(imgs.shape[0], dtype=torch.float32).to(device)\n",
    "        with torch.no_grad():\n",
    "            dequant_vals = []\n",
    "            for _ in range(8):\n",
    "                d, _ = model.flows[0](imgs, ldj, reverse=False)\n",
    "                dequant_vals.append(d)\n",
    "            dequant_vals = torch.cat(dequant_vals, dim=0)\n",
    "        dequant_vals = dequant_vals.view(-1).cpu().numpy()\n",
    "        sns.set()\n",
    "        plt.figure(figsize=(10,3))\n",
    "        plt.hist(dequant_vals, bins=256, color=to_rgb(\"C0\")+(0.5,), edgecolor=\"C0\", density=True)\n",
    "        plt.show()\n",
    "        plt.close()\n",
    "else:\n",
    "    def visualize_dequant_distribution(*args, **kwargs):\n",
    "        pass"
   ]
  },
  {
   "cell_type": "code",
   "execution_count": 33,
   "metadata": {},
   "outputs": [],
   "source": [
    "sample_imgs, _ = next(iter(train_loader))"
   ]
  },
  {
   "cell_type": "code",
   "execution_count": 34,
   "metadata": {},
   "outputs": [],
   "source": [
    "visualize_dequant_distribution(dequant_flow, sample_imgs)"
   ]
  },
  {
   "cell_type": "code",
   "execution_count": 35,
   "metadata": {},
   "outputs": [],
   "source": [
    "visualize_dequant_distribution(vardeq_flow, sample_imgs)"
   ]
  }
 ],
 "metadata": {
  "kernelspec": {
   "display_name": "Python 3",
   "language": "python",
   "name": "python3"
  },
  "language_info": {
   "codemirror_mode": {
    "name": "ipython",
    "version": 3
   },
   "file_extension": ".py",
   "mimetype": "text/x-python",
   "name": "python",
   "nbconvert_exporter": "python",
   "pygments_lexer": "ipython3",
   "version": "3.7.3"
  }
 },
 "nbformat": 4,
 "nbformat_minor": 4
}
