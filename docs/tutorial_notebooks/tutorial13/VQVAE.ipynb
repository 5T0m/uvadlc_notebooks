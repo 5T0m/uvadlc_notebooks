{
 "cells": [
  {
   "cell_type": "markdown",
   "metadata": {},
   "source": [
    "# VQ-VAE"
   ]
  },
  {
   "cell_type": "code",
   "execution_count": 114,
   "metadata": {},
   "outputs": [
    {
     "name": "stderr",
     "output_type": "stream",
     "text": [
      "Global seed set to 42\n"
     ]
    },
    {
     "name": "stdout",
     "output_type": "stream",
     "text": [
      "Device: cuda:0\n",
      "Number of workers: 16\n"
     ]
    },
    {
     "data": {
      "text/plain": [
       "<Figure size 432x288 with 0 Axes>"
      ]
     },
     "metadata": {},
     "output_type": "display_data"
    }
   ],
   "source": [
    "## Standard libraries\n",
    "import os\n",
    "from copy import deepcopy\n",
    "import math\n",
    "import numpy as np\n",
    "\n",
    "## Imports for plotting\n",
    "import matplotlib.pyplot as plt\n",
    "plt.set_cmap('cividis')\n",
    "# %matplotlib inline\n",
    "# from IPython.display import set_matplotlib_formats\n",
    "# set_matplotlib_formats('svg', 'pdf') # For export\n",
    "import matplotlib\n",
    "matplotlib.rcParams['lines.linewidth'] = 2.0\n",
    "import seaborn as sns\n",
    "sns.set()\n",
    "\n",
    "## tqdm for loading bars\n",
    "from tqdm.notebook import tqdm\n",
    "\n",
    "## PyTorch\n",
    "import torch\n",
    "import torch.nn as nn\n",
    "import torch.nn.functional as F\n",
    "import torch.utils.data as data\n",
    "import torch.optim as optim\n",
    "\n",
    "## Torchvision\n",
    "import torchvision\n",
    "from torchvision.datasets import STL10\n",
    "from torchvision import transforms\n",
    "\n",
    "# PyTorch Lightning\n",
    "try:\n",
    "    import pytorch_lightning as pl\n",
    "except ModuleNotFoundError: # Google Colab does not have PyTorch Lightning installed by default. Hence, we do it here if necessary\n",
    "    !pip install --quiet pytorch-lightning>=1.4\n",
    "    import pytorch_lightning as pl\n",
    "from pytorch_lightning.callbacks import LearningRateMonitor, ModelCheckpoint\n",
    "\n",
    "# Import tensorboard\n",
    "# %load_ext tensorboard\n",
    "\n",
    "# Path to the folder where the datasets are/should be downloaded (e.g. CIFAR10)\n",
    "DATASET_PATH = \"../data\"\n",
    "# Path to the folder where the pretrained models are saved\n",
    "CHECKPOINT_PATH = \"../saved_models/tutorial13\"\n",
    "# In this notebook, we use data loaders with heavier computational processing. It is recommended to use as many\n",
    "# workers as possible in a data loader, which corresponds to the number of CPU cores\n",
    "NUM_WORKERS = os.cpu_count()\n",
    "\n",
    "# Setting the seed\n",
    "pl.seed_everything(42)\n",
    "\n",
    "# Ensure that all operations are deterministic on GPU (if used) for reproducibility\n",
    "torch.backends.cudnn.determinstic = True\n",
    "torch.backends.cudnn.benchmark = False\n",
    "\n",
    "device = torch.device(\"cuda:0\") if torch.cuda.is_available() else torch.device(\"cpu\")\n",
    "print(\"Device:\", device)\n",
    "print(\"Number of workers:\", NUM_WORKERS)"
   ]
  },
  {
   "cell_type": "code",
   "execution_count": 115,
   "metadata": {},
   "outputs": [],
   "source": [
    "import urllib.request\n",
    "from urllib.error import HTTPError\n",
    "# Github URL where saved models are stored for this tutorial\n",
    "base_url = \"https://raw.githubusercontent.com/phlippe/saved_models/main/tutorial13/\"\n",
    "# Files to download\n",
    "pretrained_files = []\n",
    "# Create checkpoint path if it doesn't exist yet\n",
    "os.makedirs(CHECKPOINT_PATH, exist_ok=True)\n",
    "\n",
    "# For each file, check whether it already exists. If not, try downloading it.\n",
    "for file_name in pretrained_files:\n",
    "    file_path = os.path.join(CHECKPOINT_PATH, file_name)\n",
    "    if \"/\" in file_name:\n",
    "        os.makedirs(file_path.rsplit(\"/\",1)[0], exist_ok=True)\n",
    "    if not os.path.isfile(file_path):\n",
    "        file_url = base_url + file_name\n",
    "        print(f\"Downloading {file_url}...\")\n",
    "        try:\n",
    "            urllib.request.urlretrieve(file_url, file_path)\n",
    "        except HTTPError as e:\n",
    "            print(\"Something went wrong. Please try to download the file from the GDrive folder, or contact the author with the full output including the following error:\\n\", e)\n"
   ]
  },
  {
   "cell_type": "code",
   "execution_count": 116,
   "metadata": {},
   "outputs": [
    {
     "name": "stdout",
     "output_type": "stream",
     "text": [
      "Files already downloaded and verified\n",
      "Files already downloaded and verified\n"
     ]
    }
   ],
   "source": [
    "data_transforms = transforms.Compose([\n",
    "                                 transforms.RandomHorizontalFlip(),\n",
    "                                 transforms.ToTensor(),\n",
    "                                 transforms.Normalize((0.5,), (0.5,))\n",
    "                                ])\n",
    "\n",
    "train_data = STL10(root=DATASET_PATH, split='unlabeled', download=True,\n",
    "                   transform=data_transforms)\n",
    "test_data = STL10(root=DATASET_PATH, split='train', download=True,\n",
    "                  transform=data_transforms)\n",
    "\n",
    "def get_train_images(num):\n",
    "    return torch.stack([train_data[i][0] for i in range(num)], dim=0)"
   ]
  },
  {
   "cell_type": "code",
   "execution_count": 117,
   "metadata": {},
   "outputs": [],
   "source": [
    "class GenerateCallback(pl.Callback):\n",
    "\n",
    "    def __init__(self, input_imgs, every_n_epochs=1):\n",
    "        super().__init__()\n",
    "        self.input_imgs = input_imgs # Images to reconstruct during training\n",
    "        self.every_n_epochs = every_n_epochs # Only save those images every N epochs (otherwise tensorboard gets quite large)\n",
    "\n",
    "    def on_validation_epoch_end(self, trainer, pl_module):\n",
    "        if trainer.current_epoch % self.every_n_epochs == 0:\n",
    "            # Reconstruct images\n",
    "            pl_module.eval()\n",
    "            input_imgs = self.input_imgs.to(pl_module.device)\n",
    "            with torch.no_grad():\n",
    "                pl_module.eval()\n",
    "                reconst_imgs = pl_module(input_imgs)\n",
    "                pl_module.train()\n",
    "            # Plot and add to tensorboard\n",
    "            imgs = torch.stack([input_imgs, reconst_imgs], dim=1).flatten(0,1)\n",
    "            grid = torchvision.utils.make_grid(imgs, nrow=2, normalize=True, range=(-1,1))\n",
    "            trainer.logger.experiment.add_image(\"Reconstructions\", grid, global_step=trainer.global_step)\n",
    "            pl_module.train()"
   ]
  },
  {
   "cell_type": "code",
   "execution_count": 118,
   "metadata": {},
   "outputs": [],
   "source": [
    "class EncoderResNetBlock(nn.Module):\n",
    "\n",
    "    def __init__(self, c_in, act_fn, subsample=False, c_out=-1):\n",
    "        \"\"\"\n",
    "        Inputs:\n",
    "            c_in - Number of input features\n",
    "            act_fn - Activation class constructor (e.g. nn.ReLU)\n",
    "            subsample - If True, we want to apply a stride inside the block and reduce the output shape by 2 in height and width\n",
    "            c_out - Number of output features. Note that this is only relevant if subsample is True, as otherwise, c_out = c_in\n",
    "        \"\"\"\n",
    "        super().__init__()\n",
    "        if not subsample:\n",
    "            c_out = c_in\n",
    "\n",
    "        # Network representing F\n",
    "        self.net = nn.Sequential(\n",
    "            nn.BatchNorm2d(c_in),\n",
    "            act_fn(),\n",
    "            nn.Conv2d(c_in, c_out, kernel_size=3, padding=1, stride=1 if not subsample else 2, bias=False),\n",
    "            nn.BatchNorm2d(c_out),\n",
    "            act_fn(),\n",
    "            nn.Conv2d(c_out, c_out, kernel_size=3, padding=1, bias=False)\n",
    "        )\n",
    "\n",
    "        # 1x1 convolution needs to apply non-linearity as well as not done on skip connection\n",
    "        self.downsample = nn.Sequential(\n",
    "            nn.BatchNorm2d(c_in),\n",
    "            act_fn(),\n",
    "            nn.Conv2d(c_in, c_out, kernel_size=1, stride=2, bias=False)\n",
    "        ) if subsample else None\n",
    "\n",
    "    def forward(self, x):\n",
    "        z = self.net(x)\n",
    "        if self.downsample is not None:\n",
    "            x = self.downsample(x)\n",
    "        out = z + x\n",
    "        return out"
   ]
  },
  {
   "cell_type": "code",
   "execution_count": 119,
   "metadata": {},
   "outputs": [],
   "source": [
    "class DecoderResNetBlock(nn.Module):\n",
    "\n",
    "    def __init__(self, c_in, act_fn, c_out=-1):\n",
    "        \"\"\"\n",
    "        Inputs:\n",
    "            c_in - Number of input features\n",
    "            act_fn - Activation class constructor (e.g. nn.ReLU)\n",
    "            c_out - Number of output features. If c_out != c_in, a 1x1 convolution is used on the identity path.\n",
    "        \"\"\"\n",
    "        super().__init__()\n",
    "        if c_out <= 0:\n",
    "            c_out = c_in\n",
    "\n",
    "        # Network representing F\n",
    "        # Note that we keep c_in as the output of the first conv, to mirror the encoder block\n",
    "        self.net = nn.Sequential(\n",
    "            nn.BatchNorm2d(c_in),\n",
    "            act_fn(),\n",
    "            nn.Conv2d(c_in, c_in, kernel_size=3, padding=1, bias=False),\n",
    "            nn.BatchNorm2d(c_in),\n",
    "            act_fn(),\n",
    "            nn.Conv2d(c_in, c_out, kernel_size=3, padding=1, bias=False)\n",
    "        )\n",
    "\n",
    "        # 1x1 convolution needs to apply non-linearity as well as not done on skip connection\n",
    "        self.identity = nn.Sequential(\n",
    "            nn.BatchNorm2d(c_in),\n",
    "            act_fn(),\n",
    "            nn.Conv2d(c_in, c_out, kernel_size=1, bias=False)\n",
    "        ) if (c_in != c_out) else nn.Identity()\n",
    "\n",
    "    def forward(self, x):\n",
    "        out = self.net(x) + self.identity(x)\n",
    "        return out"
   ]
  },
  {
   "cell_type": "code",
   "execution_count": 120,
   "metadata": {},
   "outputs": [],
   "source": [
    "class Encoder(nn.Module):\n",
    "\n",
    "    def __init__(self,  \n",
    "                 num_blocks,\n",
    "                 c_hidden,\n",
    "                 vocab_dim,\n",
    "                 c_in=3,\n",
    "                 act_fn=nn.SiLU):\n",
    "        super().__init__()\n",
    "        \n",
    "        layers = [nn.Conv2d(c_in, c_hidden[0], kernel_size=3, stride=2, padding=1, bias=False)]\n",
    "        for block_idx, block_count in enumerate(num_blocks):\n",
    "            for bc in range(block_count):\n",
    "                subsample = (bc == 0 and block_idx > 0)  # Subsample the first block of each group, except the very first one.\n",
    "                layers.append(\n",
    "                    EncoderResNetBlock(c_in=c_hidden[block_idx if not subsample else (block_idx-1)],\n",
    "                                       act_fn=act_fn,\n",
    "                                       subsample=subsample,\n",
    "                                       c_out=c_hidden[block_idx])\n",
    "                )\n",
    "        \n",
    "        self.net = nn.Sequential(\n",
    "            *layers,\n",
    "            nn.BatchNorm2d(c_hidden[-1]),\n",
    "            act_fn(),\n",
    "            nn.Conv2d(c_hidden[-1], vocab_dim, 1, bias=False)\n",
    "        )\n",
    "\n",
    "    def forward(self, img):\n",
    "        return self.net(img)"
   ]
  },
  {
   "cell_type": "code",
   "execution_count": 121,
   "metadata": {},
   "outputs": [],
   "source": [
    "class Decoder(nn.Module):\n",
    "\n",
    "    def __init__(self,  \n",
    "                 num_blocks,\n",
    "                 c_hidden,\n",
    "                 vocab_dim,\n",
    "                 c_out=3,\n",
    "                 act_fn=nn.SiLU):\n",
    "        super().__init__()\n",
    "        \n",
    "        layers = [nn.Conv2d(vocab_dim, c_hidden[0], 1, bias=False)]\n",
    "        for block_idx, block_count in enumerate(num_blocks):\n",
    "            if block_idx > 0:\n",
    "                layers.append(\n",
    "                    nn.Upsample(scale_factor=2.0, mode='nearest')\n",
    "                )\n",
    "            for bc in range(block_count):\n",
    "                channel_change = (bc == 0 and block_idx > 0)\n",
    "                layers.append(\n",
    "                    DecoderResNetBlock(c_in=c_hidden[block_idx if not channel_change else (block_idx-1)],\n",
    "                                       act_fn=act_fn,\n",
    "                                       c_out=c_hidden[block_idx])\n",
    "                )\n",
    "        \n",
    "        self.net = nn.Sequential(\n",
    "            *layers,\n",
    "            nn.BatchNorm2d(c_hidden[-1]),\n",
    "            act_fn(),\n",
    "            nn.ConvTranspose2d(c_hidden[-1], c_out, kernel_size=3, output_padding=1, padding=1, stride=2),\n",
    "            nn.Tanh()\n",
    "        )\n",
    "\n",
    "    def forward(self, img):\n",
    "        return self.net(img)"
   ]
  },
  {
   "cell_type": "code",
   "execution_count": 176,
   "metadata": {},
   "outputs": [],
   "source": [
    "class VQEmbedding(nn.Module):\n",
    "    \n",
    "    def __init__(self, vocab_size, vocab_dim):\n",
    "        super().__init__()\n",
    "        self.codebook = nn.Embedding(vocab_size, vocab_dim)\n",
    "        self.codebook.weight.data.uniform_(-1./vocab_size, 1./vocab_size)\n",
    "        # self.codebook.weight.data.normal_(mean=0.0, std=0.3)\n",
    "        self.register_buffer('counter', torch.zeros(vocab_size))\n",
    "        \n",
    "    def forward(self, z):\n",
    "        # To simplify the processing, we reshape z to [B, vocab_dim] where B summarizes batch, width, and height\n",
    "        z_flatten = z.permute(0, 2, 3, 1).flatten(0, 2)\n",
    "        # print('Avg std', z_flatten.std(dim=0).mean())\n",
    "        # Find closest embed for each encoding\n",
    "        embed_idxs = self._quantize_encodings(z_flatten)\n",
    "        z_embeddings = self.codebook(embed_idxs)\n",
    "        \n",
    "        if self.training:\n",
    "            self.counter.add_(torch.bincount(embed_idxs, minlength=self.counter.shape[0]))\n",
    "        \n",
    "        if z.requires_grad:\n",
    "            # During training, we need to apply the straight-through estimator trick\n",
    "            z_quantized = z_flatten + (z_embeddings - z_flatten).detach()\n",
    "        else:\n",
    "            z_quantized = z_embeddings.detach()\n",
    "            \n",
    "        z_quantized = z_quantized.reshape(z.shape[0], z.shape[2], z.shape[3], -1).permute(0, 3, 1, 2)\n",
    "        z_embeddings = z_embeddings.reshape(z.shape[0], z.shape[2], z.shape[3], -1).permute(0, 3, 1, 2)\n",
    "        \n",
    "        # if self.counter.sum() > int(1e7):\n",
    "        #     self.print_statistics()\n",
    "        \n",
    "        return z_quantized, z_embeddings\n",
    "            \n",
    "    @torch.no_grad()\n",
    "    def _quantize_encodings(self, z):\n",
    "        embeds = self.codebook.weight\n",
    "        \n",
    "        # Distance between two vectors: (z1 - z2) ** 2 = z1**2 - 2*z1*z2 + z2**2\n",
    "        embeds_sqr = (embeds ** 2).sum(dim=1)\n",
    "        z_sqr = (z ** 2).sum(dim=1)\n",
    "        distances = torch.addmm(embeds_sqr[None,:] + z_sqr[:,None],\n",
    "                                z,\n",
    "                                embeds.T,\n",
    "                                alpha=-2.0,\n",
    "                                beta=1.0)\n",
    "        embed_idxs = distances.argmin(dim=1)\n",
    "        return embed_idxs\n",
    "    \n",
    "    def print_statistics(self, reset_counter=True):\n",
    "        print('-'*50+'\\n VQ Statistics\\n'+'-'*50)\n",
    "        print('Overall count:', self.counter.sum())\n",
    "        sorted_counter, sorted_indices = self.counter.sort(dim=0)\n",
    "        print('Bottom 5:', sorted_counter[:5])\n",
    "        print('Top 5:', sorted_counter[-5:])\n",
    "        print('Median:', torch.median(self.counter).item())\n",
    "        print('Zero elements:', (self.counter == 0.0).long().sum().item())\n",
    "        print('Less than 2\\% of the average:', (self.counter < (self.counter.sum() / self.counter.shape[0] * 0.02)).long().sum().item())\n",
    "        print('-'*50)\n",
    "        self.counter.fill_(0)"
   ]
  },
  {
   "cell_type": "code",
   "execution_count": null,
   "metadata": {},
   "outputs": [],
   "source": [
    "# TODO: Implement EMA version"
   ]
  },
  {
   "cell_type": "code",
   "execution_count": 177,
   "metadata": {},
   "outputs": [],
   "source": [
    "class VQVAE(pl.LightningModule):\n",
    "\n",
    "    def __init__(self, \n",
    "                 vocab_size,   \n",
    "                 vocab_dim,\n",
    "                 beta,\n",
    "                 resnet_blocks=[3, 3, 2],\n",
    "                 resnet_hidden=[32, 64, 128],\n",
    "                 lr=5e-4,\n",
    "                 warmup=500, \n",
    "                 max_iters=100000,\n",
    "                 **kwargs):\n",
    "        super().__init__()\n",
    "        self.save_hyperparameters()\n",
    "        # Encoder network (ResNet)\n",
    "        self.encoder = Encoder(num_blocks=self.hparams.resnet_blocks,\n",
    "                               c_hidden=self.hparams.resnet_hidden,\n",
    "                               vocab_dim=self.hparams.vocab_dim,\n",
    "                               c_in=3,\n",
    "                               act_fn=nn.SiLU)\n",
    "        # Vector quantized bottleneck layer\n",
    "        self.vector_quantization = VQEmbedding(vocab_size=self.hparams.vocab_size,\n",
    "                                               vocab_dim=self.hparams.vocab_dim)\n",
    "        # Decoder network (ResNet, mirrored version of Encoder)\n",
    "        self.decoder = Decoder(num_blocks=self.hparams.resnet_blocks[::-1],\n",
    "                               c_hidden=self.hparams.resnet_hidden[::-1],\n",
    "                               vocab_dim=self.hparams.vocab_dim,\n",
    "                               c_out=3,\n",
    "                               act_fn=nn.SiLU)\n",
    "        \n",
    "        # self.example_input_array = torch.zeros(2, 3, 96, 96)\n",
    "\n",
    "    def forward(self, x, return_latents=False):\n",
    "        z = self.encoder(x)\n",
    "        z_quantized, _ = self.vector_quantization(z)\n",
    "        x_rec = self.decoder(z_quantized)\n",
    "        return x_rec\n",
    "\n",
    "    def configure_optimizers(self):\n",
    "        optimizer = optim.AdamW(self.parameters(), lr=self.hparams.lr)\n",
    "        lr_scheduler = CosineWarmupScheduler(optimizer,\n",
    "                                             warmup=self.hparams.warmup,\n",
    "                                             max_iters=self.hparams.max_iters)\n",
    "        return [optimizer], [{'scheduler': lr_scheduler, 'interval': 'step'}]\n",
    "\n",
    "    def _get_loss(self, batch, mode='train'):\n",
    "        if isinstance(batch, (tuple, list)):  # Examples from the STL10 training set have labels\n",
    "            imgs = batch[0]\n",
    "        else:\n",
    "            imgs = batch\n",
    "        z = self.encoder(imgs)\n",
    "        z_quantized, z_embeddings = self.vector_quantization(z)\n",
    "        x_rec = self.decoder(z_quantized)\n",
    "        \n",
    "        rec_loss = F.mse_loss(x_rec, imgs)\n",
    "        embed_loss = F.mse_loss(z.detach(), z_embeddings)\n",
    "        quant_loss = self.hparams.beta * F.mse_loss(z, z_embeddings.detach())\n",
    "        \n",
    "        loss = rec_loss + embed_loss + quant_loss\n",
    "        \n",
    "        self.log(f'{mode}_loss', loss)\n",
    "        self.log(f'{mode}_loss_rec', rec_loss)\n",
    "        self.log(f'{mode}_loss_embed', embed_loss)\n",
    "        self.log(f'{mode}_loss_quant', quant_loss)\n",
    "        \n",
    "        return loss\n",
    "    \n",
    "    def training_epoch_end(self, *args, **kwargs):\n",
    "        super().training_epoch_end(*args, **kwargs)\n",
    "        self.vector_quantization.print_statistics()\n",
    "\n",
    "    def training_step(self, batch, batch_idx):\n",
    "        loss = self._get_loss(batch, mode='train')\n",
    "        return loss\n",
    "\n",
    "    def validation_step(self, batch, batch_idx):\n",
    "        self._get_loss(batch, mode='val')\n",
    "\n",
    "    def test_step(self, batch, batch_idx):\n",
    "        self._get_loss(batch, mode='test')"
   ]
  },
  {
   "cell_type": "code",
   "execution_count": 178,
   "metadata": {},
   "outputs": [],
   "source": [
    "class CosineWarmupScheduler(optim.lr_scheduler._LRScheduler):\n",
    "\n",
    "    def __init__(self, optimizer, warmup, max_iters, min_factor=0.05):\n",
    "        self.warmup = warmup\n",
    "        self.max_num_iters = max_iters\n",
    "        self.min_factor = min_factor\n",
    "        super().__init__(optimizer)\n",
    "\n",
    "    def get_lr(self):\n",
    "        lr_factor = self.get_lr_factor(epoch=self.last_epoch)\n",
    "        return [base_lr * lr_factor for base_lr in self.base_lrs]\n",
    "\n",
    "    def get_lr_factor(self, epoch):\n",
    "        lr_factor = 0.5 * (1 + np.cos(np.pi * epoch / self.max_num_iters))\n",
    "        lr_factor = lr_factor * (1 - self.min_factor) + self.min_factor\n",
    "        if epoch <= self.warmup and self.warmup > 0:\n",
    "            lr_factor *= epoch * 1.0 / self.warmup\n",
    "        return lr_factor"
   ]
  },
  {
   "cell_type": "code",
   "execution_count": 179,
   "metadata": {},
   "outputs": [],
   "source": [
    "def train_vqvae(batch_size, max_epochs=500, **kwargs):\n",
    "    trainer = pl.Trainer(default_root_dir=os.path.join(CHECKPOINT_PATH, 'VQVAE'),\n",
    "                         gpus=1 if str(device)=='cuda:0' else 0,\n",
    "                         max_epochs=max_epochs,\n",
    "                         callbacks=[ModelCheckpoint(save_weights_only=True, mode='min', monitor='val_loss_rec'),  # We are interested in the reconstruction quality\n",
    "                                    LearningRateMonitor('step'),\n",
    "                                    GenerateCallback(get_train_images(8), every_n_epochs=1)],\n",
    "                         progress_bar_refresh_rate=1)\n",
    "    trainer.logger._log_graph = True          # If True, we plot the computation graph in tensorboard\n",
    "    trainer.logger._default_hp_metric = None  # Optional logging argument that we don't need\n",
    "\n",
    "    # Check whether pretrained model exists. If yes, load it and skip training\n",
    "    pretrained_filename = os.path.join(CHECKPOINT_PATH, 'VQVAE.ckpt')\n",
    "    if os.path.isfile(pretrained_filename):\n",
    "        print(f'Found pretrained model at {pretrained_filename}, loading...')\n",
    "        model = VQVAE.load_from_checkpoint(pretrained_filename) # Automatically loads the model with the saved hyperparameters\n",
    "    else:\n",
    "        pl.seed_everything(42) # To be reproducable\n",
    "        train_loader = data.DataLoader(train_data, batch_size=batch_size, shuffle=True,\n",
    "                                       drop_last=True, pin_memory=True, num_workers=NUM_WORKERS//2)\n",
    "        val_loader = data.DataLoader(test_data, batch_size=batch_size, shuffle=False,\n",
    "                                     drop_last=False, pin_memory=True, num_workers=NUM_WORKERS//4)\n",
    "        model = VQVAE(max_iters=(max_epochs * len(train_loader)), **kwargs)\n",
    "        trainer.fit(model, train_loader, val_loader)\n",
    "        model = VQVAE.load_from_checkpoint(trainer.checkpoint_callback.best_model_path) # Load best checkpoint after training\n",
    "\n",
    "    return model"
   ]
  },
  {
   "cell_type": "code",
   "execution_count": 180,
   "metadata": {
    "scrolled": false
   },
   "outputs": [
    {
     "name": "stderr",
     "output_type": "stream",
     "text": [
      "GPU available: True, used: True\n",
      "TPU available: False, using: 0 TPU cores\n",
      "Global seed set to 42\n",
      "LOCAL_RANK: 0 - CUDA_VISIBLE_DEVICES: [0,1]\n",
      "\n",
      "  | Name                | Type        | Params\n",
      "----------------------------------------------------\n",
      "0 | encoder             | Encoder     | 804 K \n",
      "1 | vector_quantization | VQEmbedding | 65.5 K\n",
      "2 | decoder             | Decoder     | 1.1 M \n",
      "----------------------------------------------------\n",
      "2.0 M     Trainable params\n",
      "0         Non-trainable params\n",
      "2.0 M     Total params\n",
      "7.803     Total estimated model params size (MB)\n"
     ]
    },
    {
     "data": {
      "application/vnd.jupyter.widget-view+json": {
       "model_id": "",
       "version_major": 2,
       "version_minor": 0
      },
      "text/plain": [
       "Validation sanity check: 0it [00:00, ?it/s]"
      ]
     },
     "metadata": {},
     "output_type": "display_data"
    },
    {
     "name": "stderr",
     "output_type": "stream",
     "text": [
      "Global seed set to 42\n"
     ]
    },
    {
     "data": {
      "application/vnd.jupyter.widget-view+json": {
       "model_id": "cb47f68fa6364844952c632acee6de28",
       "version_major": 2,
       "version_minor": 0
      },
      "text/plain": [
       "Training: 0it [00:00, ?it/s]"
      ]
     },
     "metadata": {},
     "output_type": "display_data"
    },
    {
     "name": "stdout",
     "output_type": "stream",
     "text": [
      "--------------------------------------------------\n",
      " VQ Statistics\n",
      "--------------------------------------------------\n",
      "Overall count: tensor(718848., device='cuda:0')\n",
      "Bottom 5: tensor([0., 0., 0., 0., 0.], device='cuda:0')\n",
      "Top 5: tensor([26931., 31648., 33094., 37779., 59653.], device='cuda:0')\n",
      "Median: 206.0\n",
      "Zero elements: 6\n",
      "Less than 2\\% of the average: 87\n",
      "--------------------------------------------------\n"
     ]
    },
    {
     "data": {
      "application/vnd.jupyter.widget-view+json": {
       "model_id": "",
       "version_major": 2,
       "version_minor": 0
      },
      "text/plain": [
       "Validating: 0it [00:00, ?it/s]"
      ]
     },
     "metadata": {},
     "output_type": "display_data"
    },
    {
     "name": "stdout",
     "output_type": "stream",
     "text": [
      "--------------------------------------------------\n",
      " VQ Statistics\n",
      "--------------------------------------------------\n",
      "Overall count: tensor(718848., device='cuda:0')\n",
      "Bottom 5: tensor([0., 0., 0., 0., 0.], device='cuda:0')\n",
      "Top 5: tensor([ 64836.,  68524.,  92322.,  96829., 133659.], device='cuda:0')\n",
      "Median: 0.0\n",
      "Zero elements: 459\n",
      "Less than 2\\% of the average: 483\n",
      "--------------------------------------------------\n"
     ]
    },
    {
     "data": {
      "application/vnd.jupyter.widget-view+json": {
       "model_id": "",
       "version_major": 2,
       "version_minor": 0
      },
      "text/plain": [
       "Validating: 0it [00:00, ?it/s]"
      ]
     },
     "metadata": {},
     "output_type": "display_data"
    },
    {
     "name": "stdout",
     "output_type": "stream",
     "text": [
      "--------------------------------------------------\n",
      " VQ Statistics\n",
      "--------------------------------------------------\n",
      "Overall count: tensor(718848., device='cuda:0')\n",
      "Bottom 5: tensor([0., 0., 0., 0., 0.], device='cuda:0')\n",
      "Top 5: tensor([ 65057.,  65950.,  92583., 106691., 157728.], device='cuda:0')\n",
      "Median: 0.0\n",
      "Zero elements: 496\n",
      "Less than 2\\% of the average: 498\n",
      "--------------------------------------------------\n"
     ]
    },
    {
     "data": {
      "application/vnd.jupyter.widget-view+json": {
       "model_id": "",
       "version_major": 2,
       "version_minor": 0
      },
      "text/plain": [
       "Validating: 0it [00:00, ?it/s]"
      ]
     },
     "metadata": {},
     "output_type": "display_data"
    },
    {
     "name": "stdout",
     "output_type": "stream",
     "text": [
      "--------------------------------------------------\n",
      " VQ Statistics\n",
      "--------------------------------------------------\n",
      "Overall count: tensor(718848., device='cuda:0')\n",
      "Bottom 5: tensor([0., 0., 0., 0., 0.], device='cuda:0')\n",
      "Top 5: tensor([ 58617.,  68999., 112721., 114053., 119995.], device='cuda:0')\n",
      "Median: 0.0\n",
      "Zero elements: 490\n",
      "Less than 2\\% of the average: 499\n",
      "--------------------------------------------------\n"
     ]
    },
    {
     "data": {
      "application/vnd.jupyter.widget-view+json": {
       "model_id": "",
       "version_major": 2,
       "version_minor": 0
      },
      "text/plain": [
       "Validating: 0it [00:00, ?it/s]"
      ]
     },
     "metadata": {},
     "output_type": "display_data"
    },
    {
     "name": "stdout",
     "output_type": "stream",
     "text": [
      "--------------------------------------------------\n",
      " VQ Statistics\n",
      "--------------------------------------------------\n",
      "Overall count: tensor(718848., device='cuda:0')\n",
      "Bottom 5: tensor([0., 0., 0., 0., 0.], device='cuda:0')\n",
      "Top 5: tensor([ 64882.,  98208., 101871., 106181., 107965.], device='cuda:0')\n",
      "Median: 0.0\n",
      "Zero elements: 485\n",
      "Less than 2\\% of the average: 497\n",
      "--------------------------------------------------\n"
     ]
    },
    {
     "data": {
      "application/vnd.jupyter.widget-view+json": {
       "model_id": "",
       "version_major": 2,
       "version_minor": 0
      },
      "text/plain": [
       "Validating: 0it [00:00, ?it/s]"
      ]
     },
     "metadata": {},
     "output_type": "display_data"
    },
    {
     "name": "stdout",
     "output_type": "stream",
     "text": [
      "--------------------------------------------------\n",
      " VQ Statistics\n",
      "--------------------------------------------------\n",
      "Overall count: tensor(718848., device='cuda:0')\n",
      "Bottom 5: tensor([0., 0., 0., 0., 0.], device='cuda:0')\n",
      "Top 5: tensor([ 73548.,  82653., 104337., 104628., 109586.], device='cuda:0')\n",
      "Median: 0.0\n",
      "Zero elements: 482\n",
      "Less than 2\\% of the average: 495\n",
      "--------------------------------------------------\n"
     ]
    },
    {
     "data": {
      "application/vnd.jupyter.widget-view+json": {
       "model_id": "",
       "version_major": 2,
       "version_minor": 0
      },
      "text/plain": [
       "Validating: 0it [00:00, ?it/s]"
      ]
     },
     "metadata": {},
     "output_type": "display_data"
    },
    {
     "name": "stdout",
     "output_type": "stream",
     "text": [
      "--------------------------------------------------\n",
      " VQ Statistics\n",
      "--------------------------------------------------\n",
      "Overall count: tensor(718848., device='cuda:0')\n",
      "Bottom 5: tensor([0., 0., 0., 0., 0.], device='cuda:0')\n",
      "Top 5: tensor([ 62448.,  78416.,  99910., 100036., 110305.], device='cuda:0')\n",
      "Median: 0.0\n",
      "Zero elements: 470\n",
      "Less than 2\\% of the average: 489\n",
      "--------------------------------------------------\n"
     ]
    },
    {
     "data": {
      "application/vnd.jupyter.widget-view+json": {
       "model_id": "",
       "version_major": 2,
       "version_minor": 0
      },
      "text/plain": [
       "Validating: 0it [00:00, ?it/s]"
      ]
     },
     "metadata": {},
     "output_type": "display_data"
    },
    {
     "name": "stdout",
     "output_type": "stream",
     "text": [
      "--------------------------------------------------\n",
      " VQ Statistics\n",
      "--------------------------------------------------\n",
      "Overall count: tensor(718848., device='cuda:0')\n",
      "Bottom 5: tensor([0., 0., 0., 0., 0.], device='cuda:0')\n",
      "Top 5: tensor([ 64867.,  77664.,  93067.,  99035., 106346.], device='cuda:0')\n",
      "Median: 0.0\n",
      "Zero elements: 479\n",
      "Less than 2\\% of the average: 492\n",
      "--------------------------------------------------\n"
     ]
    },
    {
     "data": {
      "application/vnd.jupyter.widget-view+json": {
       "model_id": "",
       "version_major": 2,
       "version_minor": 0
      },
      "text/plain": [
       "Validating: 0it [00:00, ?it/s]"
      ]
     },
     "metadata": {},
     "output_type": "display_data"
    },
    {
     "name": "stdout",
     "output_type": "stream",
     "text": [
      "--------------------------------------------------\n",
      " VQ Statistics\n",
      "--------------------------------------------------\n",
      "Overall count: tensor(718848., device='cuda:0')\n",
      "Bottom 5: tensor([0., 0., 0., 0., 0.], device='cuda:0')\n",
      "Top 5: tensor([59837., 71332., 87774., 92698., 98994.], device='cuda:0')\n",
      "Median: 0.0\n",
      "Zero elements: 475\n",
      "Less than 2\\% of the average: 491\n",
      "--------------------------------------------------\n"
     ]
    },
    {
     "data": {
      "application/vnd.jupyter.widget-view+json": {
       "model_id": "",
       "version_major": 2,
       "version_minor": 0
      },
      "text/plain": [
       "Validating: 0it [00:00, ?it/s]"
      ]
     },
     "metadata": {},
     "output_type": "display_data"
    },
    {
     "name": "stdout",
     "output_type": "stream",
     "text": [
      "--------------------------------------------------\n",
      " VQ Statistics\n",
      "--------------------------------------------------\n",
      "Overall count: tensor(718848., device='cuda:0')\n",
      "Bottom 5: tensor([0., 0., 0., 0., 0.], device='cuda:0')\n",
      "Top 5: tensor([57759., 66091., 75523., 83803., 86295.], device='cuda:0')\n",
      "Median: 0.0\n",
      "Zero elements: 475\n",
      "Less than 2\\% of the average: 491\n",
      "--------------------------------------------------\n"
     ]
    },
    {
     "data": {
      "application/vnd.jupyter.widget-view+json": {
       "model_id": "",
       "version_major": 2,
       "version_minor": 0
      },
      "text/plain": [
       "Validating: 0it [00:00, ?it/s]"
      ]
     },
     "metadata": {},
     "output_type": "display_data"
    }
   ],
   "source": [
    "model = train_vqvae(batch_size=64,\n",
    "                    vocab_size=512,\n",
    "                    vocab_dim=128,\n",
    "                    beta=0.25)"
   ]
  },
  {
   "cell_type": "code",
   "execution_count": null,
   "metadata": {},
   "outputs": [],
   "source": []
  },
  {
   "cell_type": "code",
   "execution_count": null,
   "metadata": {},
   "outputs": [],
   "source": []
  }
 ],
 "metadata": {
  "kernelspec": {
   "display_name": "Python 3",
   "language": "python",
   "name": "python3"
  },
  "language_info": {
   "codemirror_mode": {
    "name": "ipython",
    "version": 3
   },
   "file_extension": ".py",
   "mimetype": "text/x-python",
   "name": "python",
   "nbconvert_exporter": "python",
   "pygments_lexer": "ipython3",
   "version": "3.7.9"
  }
 },
 "nbformat": 4,
 "nbformat_minor": 5
}
